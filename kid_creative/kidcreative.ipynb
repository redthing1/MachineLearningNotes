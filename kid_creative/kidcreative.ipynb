{
 "metadata": {
  "language_info": {
   "codemirror_mode": {
    "name": "ipython",
    "version": 3
   },
   "file_extension": ".py",
   "mimetype": "text/x-python",
   "name": "python",
   "nbconvert_exporter": "python",
   "pygments_lexer": "ipython3",
   "version": "3.8.5-final"
  },
  "orig_nbformat": 2,
  "kernelspec": {
   "name": "python3",
   "display_name": "Python 3"
  }
 },
 "nbformat": 4,
 "nbformat_minor": 2,
 "cells": [
  {
   "cell_type": "markdown",
   "metadata": {},
   "source": [
    "# Logistic Regression: Kid Creative magazine\n",
    "\n",
    "given information about our customers, we predict whether they will buy _Kid Creative_"
   ]
  },
  {
   "cell_type": "markdown",
   "metadata": {},
   "source": [
    "first, we import our main math stuff"
   ]
  },
  {
   "cell_type": "code",
   "execution_count": 95,
   "metadata": {
    "tags": []
   },
   "outputs": [
    {
     "output_type": "stream",
     "name": "stdout",
     "text": "Defaulting to user installation because normal site-packages is not writeable\nRequirement already satisfied: seaborn in /usr/lib/python3.8/site-packages (0.10.1)\nRequirement already satisfied: numpy>=1.13.3 in /usr/lib/python3.8/site-packages (from seaborn) (1.19.1)\nRequirement already satisfied: scipy>=1.0.1 in /home/xdrie/.local/lib/python3.8/site-packages (from seaborn) (1.4.1)\nRequirement already satisfied: pandas>=0.22.0 in /home/xdrie/.local/lib/python3.8/site-packages (from seaborn) (1.1.1)\nRequirement already satisfied: matplotlib>=2.1.2 in /usr/lib/python3.8/site-packages (from seaborn) (3.3.1)\nRequirement already satisfied: pytz>=2017.2 in /usr/lib/python3.8/site-packages (from pandas>=0.22.0->seaborn) (2020.1)\nRequirement already satisfied: python-dateutil>=2.7.3 in /usr/lib/python3.8/site-packages (from pandas>=0.22.0->seaborn) (2.8.1)\nRequirement already satisfied: certifi>=2020.06.20 in /usr/lib/python3.8/site-packages (from matplotlib>=2.1.2->seaborn) (2020.6.20)\nRequirement already satisfied: cycler>=0.10 in /usr/lib/python3.8/site-packages (from matplotlib>=2.1.2->seaborn) (0.10.0)\nRequirement already satisfied: kiwisolver>=1.0.1 in /usr/lib/python3.8/site-packages (from matplotlib>=2.1.2->seaborn) (1.2.0)\nRequirement already satisfied: pillow>=6.2.0 in /usr/lib/python3.8/site-packages (from matplotlib>=2.1.2->seaborn) (7.2.0)\nRequirement already satisfied: pyparsing!=2.0.4,!=2.1.2,!=2.1.6,>=2.0.3 in /usr/lib/python3.8/site-packages (from matplotlib>=2.1.2->seaborn) (2.4.7)\nRequirement already satisfied: six>=1.5 in /usr/lib/python3.8/site-packages (from python-dateutil>=2.7.3->pandas>=0.22.0->seaborn) (1.15.0)\nNote: you may need to restart the kernel to use updated packages.\n"
    }
   ],
   "source": [
    "%pip install seaborn\n",
    "\n",
    "import numpy as np\n",
    "import pandas as pd\n",
    "from matplotlib import pyplot as plt\n",
    "plt.style.use('seaborn-pastel')\n",
    "import seaborn as sns\n",
    "import math"
   ]
  },
  {
   "cell_type": "markdown",
   "metadata": {},
   "source": [
    "now, we load our dataset"
   ]
  },
  {
   "cell_type": "code",
   "execution_count": 97,
   "metadata": {
    "tags": []
   },
   "outputs": [
    {
     "output_type": "stream",
     "name": "stdout",
     "text": "raw data:\nObs No.             int64\nBuy                 int64\nIncome              int64\nIs Female           int64\nIs Married          int64\nHas College         int64\nIs Professional     int64\nIs Retired          int64\nUnemployed          int64\nResidence Length    int64\nDual Income         int64\nMinors              int64\nOwn                 int64\nHouse               int64\nWhite               int64\nEnglish             int64\nPrev Child Mag      int64\nPrev Parent Mag     int64\ndtype: object\ntraining data shape: (471, 14)\n"
    }
   ],
   "source": [
    "from sklearn.model_selection import train_test_split\n",
    "\n",
    "dataset = pd.read_csv('kid_creative.csv')\n",
    "\n",
    "print('raw data:')\n",
    "print(dataset.dtypes)\n",
    "\n",
    "# split labels and features\n",
    "labels = dataset['Buy'] # just the Buy column\n",
    "features = dataset.iloc[:, 2:16] # take all rows, cols 2-16\n",
    "\n",
    "# partition our data\n",
    "x_raw = features\n",
    "y_raw = np.ravel(labels)\n",
    "\n",
    "x_train, x_test, y_train, y_test = train_test_split(x_raw, y_raw, test_size=0.3, random_state=42)\n",
    "\n",
    "print('training data shape:', x_train.shape)"
   ]
  },
  {
   "cell_type": "markdown",
   "metadata": {},
   "source": [
    "let's do a sanity check on the data, by visualizing part of it"
   ]
  },
  {
   "cell_type": "code",
   "execution_count": 99,
   "metadata": {
    "tags": []
   },
   "outputs": [
    {
     "output_type": "execute_result",
     "data": {
      "text/plain": "<AxesSubplot:xlabel='Residence Length'>"
     },
     "metadata": {},
     "execution_count": 99
    },
    {
     "output_type": "display_data",
     "data": {
      "text/plain": "<Figure size 864x432 with 2 Axes>",
      "image/svg+xml": "<?xml version=\"1.0\" encoding=\"utf-8\" standalone=\"no\"?>\n<!DOCTYPE svg PUBLIC \"-//W3C//DTD SVG 1.1//EN\"\n  \"http://www.w3.org/Graphics/SVG/1.1/DTD/svg11.dtd\">\n<!-- Created with matplotlib (https://matplotlib.org/) -->\n<svg height=\"381.514687pt\" version=\"1.1\" viewBox=\"0 0 713.265625 381.514687\" width=\"713.265625pt\" xmlns=\"http://www.w3.org/2000/svg\" xmlns:xlink=\"http://www.w3.org/1999/xlink\">\n <metadata>\n  <rdf:RDF xmlns:cc=\"http://creativecommons.org/ns#\" xmlns:dc=\"http://purl.org/dc/elements/1.1/\" xmlns:rdf=\"http://www.w3.org/1999/02/22-rdf-syntax-ns#\">\n   <cc:Work>\n    <dc:type rdf:resource=\"http://purl.org/dc/dcmitype/StillImage\"/>\n    <dc:date>2020-09-05T20:35:46.711097</dc:date>\n    <dc:format>image/svg+xml</dc:format>\n    <dc:creator>\n     <cc:Agent>\n      <dc:title>Matplotlib v3.3.1, https://matplotlib.org/</dc:title>\n     </cc:Agent>\n    </dc:creator>\n   </cc:Work>\n  </rdf:RDF>\n </metadata>\n <defs>\n  <style type=\"text/css\">*{stroke-linecap:butt;stroke-linejoin:round;}</style>\n </defs>\n <g id=\"figure_1\">\n  <g id=\"patch_1\">\n   <path d=\"M 0 381.514687 \nL 713.265625 381.514687 \nL 713.265625 0 \nL 0 0 \nz\n\" style=\"fill:none;\"/>\n  </g>\n  <g id=\"axes_1\">\n   <g id=\"patch_2\">\n    <path d=\"M 36.465625 343.958437 \nL 340.829261 343.958437 \nL 340.829261 17.798437 \nL 36.465625 17.798437 \nz\n\" style=\"fill:#ffffff;\"/>\n   </g>\n   <g id=\"patch_3\">\n    <path clip-path=\"url(#p94c62639ae)\" d=\"M 100.455344 343.958437 \nL 125.653087 343.958437 \nL 125.653087 33.329866 \nL 100.455344 33.329866 \nz\n\" style=\"fill:#92c6ff;opacity:0.4;\"/>\n   </g>\n   <g id=\"patch_4\">\n    <path clip-path=\"url(#p94c62639ae)\" d=\"M 125.653087 343.958437 \nL 150.850829 343.958437 \nL 150.850829 146.008858 \nL 125.653087 146.008858 \nz\n\" style=\"fill:#92c6ff;opacity:0.4;\"/>\n   </g>\n   <g id=\"patch_5\">\n    <path clip-path=\"url(#p94c62639ae)\" d=\"M 150.850829 343.958437 \nL 176.048572 343.958437 \nL 176.048572 115.555076 \nL 150.850829 115.555076 \nz\n\" style=\"fill:#92c6ff;opacity:0.4;\"/>\n   </g>\n   <g id=\"patch_6\">\n    <path clip-path=\"url(#p94c62639ae)\" d=\"M 176.048572 343.958437 \nL 201.246314 343.958437 \nL 201.246314 182.553395 \nL 176.048572 182.553395 \nz\n\" style=\"fill:#92c6ff;opacity:0.4;\"/>\n   </g>\n   <g id=\"patch_7\">\n    <path clip-path=\"url(#p94c62639ae)\" d=\"M 201.246314 343.958437 \nL 226.444057 343.958437 \nL 226.444057 191.68953 \nL 201.246314 191.68953 \nz\n\" style=\"fill:#92c6ff;opacity:0.4;\"/>\n   </g>\n   <g id=\"patch_8\">\n    <path clip-path=\"url(#p94c62639ae)\" d=\"M 226.444057 343.958437 \nL 251.6418 343.958437 \nL 251.6418 231.279446 \nL 226.444057 231.279446 \nz\n\" style=\"fill:#92c6ff;opacity:0.4;\"/>\n   </g>\n   <g id=\"patch_9\">\n    <path clip-path=\"url(#p94c62639ae)\" d=\"M 251.6418 343.958437 \nL 276.839542 343.958437 \nL 276.839542 72.919782 \nL 251.6418 72.919782 \nz\n\" style=\"fill:#92c6ff;opacity:0.4;\"/>\n   </g>\n   <g id=\"matplotlib.axis_1\">\n    <g id=\"xtick_1\">\n     <g id=\"line2d_1\">\n      <defs>\n       <path d=\"M 0 0 \nL 0 3.5 \n\" id=\"m36c1af05fc\" style=\"stroke:#000000;stroke-width:0.8;\"/>\n      </defs>\n      <g>\n       <use style=\"stroke:#000000;stroke-width:0.8;\" x=\"53.419558\" xlink:href=\"#m36c1af05fc\" y=\"343.958437\"/>\n      </g>\n     </g>\n     <g id=\"text_1\">\n      <!-- −20000 -->\n      <g transform=\"translate(33.323464 358.556875)scale(0.1 -0.1)\">\n       <defs>\n        <path d=\"M 10.59375 35.5 \nL 73.1875 35.5 \nL 73.1875 27.203125 \nL 10.59375 27.203125 \nz\n\" id=\"DejaVuSans-8722\"/>\n        <path d=\"M 19.1875 8.296875 \nL 53.609375 8.296875 \nL 53.609375 0 \nL 7.328125 0 \nL 7.328125 8.296875 \nQ 12.9375 14.109375 22.625 23.890625 \nQ 32.328125 33.6875 34.8125 36.53125 \nQ 39.546875 41.84375 41.421875 45.53125 \nQ 43.3125 49.21875 43.3125 52.78125 \nQ 43.3125 58.59375 39.234375 62.25 \nQ 35.15625 65.921875 28.609375 65.921875 \nQ 23.96875 65.921875 18.8125 64.3125 \nQ 13.671875 62.703125 7.8125 59.421875 \nL 7.8125 69.390625 \nQ 13.765625 71.78125 18.9375 73 \nQ 24.125 74.21875 28.421875 74.21875 \nQ 39.75 74.21875 46.484375 68.546875 \nQ 53.21875 62.890625 53.21875 53.421875 \nQ 53.21875 48.921875 51.53125 44.890625 \nQ 49.859375 40.875 45.40625 35.40625 \nQ 44.1875 33.984375 37.640625 27.21875 \nQ 31.109375 20.453125 19.1875 8.296875 \nz\n\" id=\"DejaVuSans-50\"/>\n        <path d=\"M 31.78125 66.40625 \nQ 24.171875 66.40625 20.328125 58.90625 \nQ 16.5 51.421875 16.5 36.375 \nQ 16.5 21.390625 20.328125 13.890625 \nQ 24.171875 6.390625 31.78125 6.390625 \nQ 39.453125 6.390625 43.28125 13.890625 \nQ 47.125 21.390625 47.125 36.375 \nQ 47.125 51.421875 43.28125 58.90625 \nQ 39.453125 66.40625 31.78125 66.40625 \nz\nM 31.78125 74.21875 \nQ 44.046875 74.21875 50.515625 64.515625 \nQ 56.984375 54.828125 56.984375 36.375 \nQ 56.984375 17.96875 50.515625 8.265625 \nQ 44.046875 -1.421875 31.78125 -1.421875 \nQ 19.53125 -1.421875 13.0625 8.265625 \nQ 6.59375 17.96875 6.59375 36.375 \nQ 6.59375 54.828125 13.0625 64.515625 \nQ 19.53125 74.21875 31.78125 74.21875 \nz\n\" id=\"DejaVuSans-48\"/>\n       </defs>\n       <use xlink:href=\"#DejaVuSans-8722\"/>\n       <use x=\"83.789062\" xlink:href=\"#DejaVuSans-50\"/>\n       <use x=\"147.412109\" xlink:href=\"#DejaVuSans-48\"/>\n       <use x=\"211.035156\" xlink:href=\"#DejaVuSans-48\"/>\n       <use x=\"274.658203\" xlink:href=\"#DejaVuSans-48\"/>\n       <use x=\"338.28125\" xlink:href=\"#DejaVuSans-48\"/>\n      </g>\n     </g>\n    </g>\n    <g id=\"xtick_2\">\n     <g id=\"line2d_2\">\n      <g>\n       <use style=\"stroke:#000000;stroke-width:0.8;\" x=\"100.455344\" xlink:href=\"#m36c1af05fc\" y=\"343.958437\"/>\n      </g>\n     </g>\n     <g id=\"text_2\">\n      <!-- 0 -->\n      <g transform=\"translate(97.274094 358.556875)scale(0.1 -0.1)\">\n       <use xlink:href=\"#DejaVuSans-48\"/>\n      </g>\n     </g>\n    </g>\n    <g id=\"xtick_3\">\n     <g id=\"line2d_3\">\n      <g>\n       <use style=\"stroke:#000000;stroke-width:0.8;\" x=\"147.49113\" xlink:href=\"#m36c1af05fc\" y=\"343.958437\"/>\n      </g>\n     </g>\n     <g id=\"text_3\">\n      <!-- 20000 -->\n      <g transform=\"translate(131.58488 358.556875)scale(0.1 -0.1)\">\n       <use xlink:href=\"#DejaVuSans-50\"/>\n       <use x=\"63.623047\" xlink:href=\"#DejaVuSans-48\"/>\n       <use x=\"127.246094\" xlink:href=\"#DejaVuSans-48\"/>\n       <use x=\"190.869141\" xlink:href=\"#DejaVuSans-48\"/>\n       <use x=\"254.492188\" xlink:href=\"#DejaVuSans-48\"/>\n      </g>\n     </g>\n    </g>\n    <g id=\"xtick_4\">\n     <g id=\"line2d_4\">\n      <g>\n       <use style=\"stroke:#000000;stroke-width:0.8;\" x=\"194.526916\" xlink:href=\"#m36c1af05fc\" y=\"343.958437\"/>\n      </g>\n     </g>\n     <g id=\"text_4\">\n      <!-- 40000 -->\n      <g transform=\"translate(178.620666 358.556875)scale(0.1 -0.1)\">\n       <defs>\n        <path d=\"M 37.796875 64.3125 \nL 12.890625 25.390625 \nL 37.796875 25.390625 \nz\nM 35.203125 72.90625 \nL 47.609375 72.90625 \nL 47.609375 25.390625 \nL 58.015625 25.390625 \nL 58.015625 17.1875 \nL 47.609375 17.1875 \nL 47.609375 0 \nL 37.796875 0 \nL 37.796875 17.1875 \nL 4.890625 17.1875 \nL 4.890625 26.703125 \nz\n\" id=\"DejaVuSans-52\"/>\n       </defs>\n       <use xlink:href=\"#DejaVuSans-52\"/>\n       <use x=\"63.623047\" xlink:href=\"#DejaVuSans-48\"/>\n       <use x=\"127.246094\" xlink:href=\"#DejaVuSans-48\"/>\n       <use x=\"190.869141\" xlink:href=\"#DejaVuSans-48\"/>\n       <use x=\"254.492188\" xlink:href=\"#DejaVuSans-48\"/>\n      </g>\n     </g>\n    </g>\n    <g id=\"xtick_5\">\n     <g id=\"line2d_5\">\n      <g>\n       <use style=\"stroke:#000000;stroke-width:0.8;\" x=\"241.562703\" xlink:href=\"#m36c1af05fc\" y=\"343.958437\"/>\n      </g>\n     </g>\n     <g id=\"text_5\">\n      <!-- 60000 -->\n      <g transform=\"translate(225.656453 358.556875)scale(0.1 -0.1)\">\n       <defs>\n        <path d=\"M 33.015625 40.375 \nQ 26.375 40.375 22.484375 35.828125 \nQ 18.609375 31.296875 18.609375 23.390625 \nQ 18.609375 15.53125 22.484375 10.953125 \nQ 26.375 6.390625 33.015625 6.390625 \nQ 39.65625 6.390625 43.53125 10.953125 \nQ 47.40625 15.53125 47.40625 23.390625 \nQ 47.40625 31.296875 43.53125 35.828125 \nQ 39.65625 40.375 33.015625 40.375 \nz\nM 52.59375 71.296875 \nL 52.59375 62.3125 \nQ 48.875 64.0625 45.09375 64.984375 \nQ 41.3125 65.921875 37.59375 65.921875 \nQ 27.828125 65.921875 22.671875 59.328125 \nQ 17.53125 52.734375 16.796875 39.40625 \nQ 19.671875 43.65625 24.015625 45.921875 \nQ 28.375 48.1875 33.59375 48.1875 \nQ 44.578125 48.1875 50.953125 41.515625 \nQ 57.328125 34.859375 57.328125 23.390625 \nQ 57.328125 12.15625 50.6875 5.359375 \nQ 44.046875 -1.421875 33.015625 -1.421875 \nQ 20.359375 -1.421875 13.671875 8.265625 \nQ 6.984375 17.96875 6.984375 36.375 \nQ 6.984375 53.65625 15.1875 63.9375 \nQ 23.390625 74.21875 37.203125 74.21875 \nQ 40.921875 74.21875 44.703125 73.484375 \nQ 48.484375 72.75 52.59375 71.296875 \nz\n\" id=\"DejaVuSans-54\"/>\n       </defs>\n       <use xlink:href=\"#DejaVuSans-54\"/>\n       <use x=\"63.623047\" xlink:href=\"#DejaVuSans-48\"/>\n       <use x=\"127.246094\" xlink:href=\"#DejaVuSans-48\"/>\n       <use x=\"190.869141\" xlink:href=\"#DejaVuSans-48\"/>\n       <use x=\"254.492188\" xlink:href=\"#DejaVuSans-48\"/>\n      </g>\n     </g>\n    </g>\n    <g id=\"xtick_6\">\n     <g id=\"line2d_6\">\n      <g>\n       <use style=\"stroke:#000000;stroke-width:0.8;\" x=\"288.598489\" xlink:href=\"#m36c1af05fc\" y=\"343.958437\"/>\n      </g>\n     </g>\n     <g id=\"text_6\">\n      <!-- 80000 -->\n      <g transform=\"translate(272.692239 358.556875)scale(0.1 -0.1)\">\n       <defs>\n        <path d=\"M 31.78125 34.625 \nQ 24.75 34.625 20.71875 30.859375 \nQ 16.703125 27.09375 16.703125 20.515625 \nQ 16.703125 13.921875 20.71875 10.15625 \nQ 24.75 6.390625 31.78125 6.390625 \nQ 38.8125 6.390625 42.859375 10.171875 \nQ 46.921875 13.96875 46.921875 20.515625 \nQ 46.921875 27.09375 42.890625 30.859375 \nQ 38.875 34.625 31.78125 34.625 \nz\nM 21.921875 38.8125 \nQ 15.578125 40.375 12.03125 44.71875 \nQ 8.5 49.078125 8.5 55.328125 \nQ 8.5 64.0625 14.71875 69.140625 \nQ 20.953125 74.21875 31.78125 74.21875 \nQ 42.671875 74.21875 48.875 69.140625 \nQ 55.078125 64.0625 55.078125 55.328125 \nQ 55.078125 49.078125 51.53125 44.71875 \nQ 48 40.375 41.703125 38.8125 \nQ 48.828125 37.15625 52.796875 32.3125 \nQ 56.78125 27.484375 56.78125 20.515625 \nQ 56.78125 9.90625 50.3125 4.234375 \nQ 43.84375 -1.421875 31.78125 -1.421875 \nQ 19.734375 -1.421875 13.25 4.234375 \nQ 6.78125 9.90625 6.78125 20.515625 \nQ 6.78125 27.484375 10.78125 32.3125 \nQ 14.796875 37.15625 21.921875 38.8125 \nz\nM 18.3125 54.390625 \nQ 18.3125 48.734375 21.84375 45.5625 \nQ 25.390625 42.390625 31.78125 42.390625 \nQ 38.140625 42.390625 41.71875 45.5625 \nQ 45.3125 48.734375 45.3125 54.390625 \nQ 45.3125 60.0625 41.71875 63.234375 \nQ 38.140625 66.40625 31.78125 66.40625 \nQ 25.390625 66.40625 21.84375 63.234375 \nQ 18.3125 60.0625 18.3125 54.390625 \nz\n\" id=\"DejaVuSans-56\"/>\n       </defs>\n       <use xlink:href=\"#DejaVuSans-56\"/>\n       <use x=\"63.623047\" xlink:href=\"#DejaVuSans-48\"/>\n       <use x=\"127.246094\" xlink:href=\"#DejaVuSans-48\"/>\n       <use x=\"190.869141\" xlink:href=\"#DejaVuSans-48\"/>\n       <use x=\"254.492188\" xlink:href=\"#DejaVuSans-48\"/>\n      </g>\n     </g>\n    </g>\n    <g id=\"xtick_7\">\n     <g id=\"line2d_7\">\n      <g>\n       <use style=\"stroke:#000000;stroke-width:0.8;\" x=\"335.634275\" xlink:href=\"#m36c1af05fc\" y=\"343.958437\"/>\n      </g>\n     </g>\n     <g id=\"text_7\">\n      <!-- 100000 -->\n      <g transform=\"translate(316.546775 358.556875)scale(0.1 -0.1)\">\n       <defs>\n        <path d=\"M 12.40625 8.296875 \nL 28.515625 8.296875 \nL 28.515625 63.921875 \nL 10.984375 60.40625 \nL 10.984375 69.390625 \nL 28.421875 72.90625 \nL 38.28125 72.90625 \nL 38.28125 8.296875 \nL 54.390625 8.296875 \nL 54.390625 0 \nL 12.40625 0 \nz\n\" id=\"DejaVuSans-49\"/>\n       </defs>\n       <use xlink:href=\"#DejaVuSans-49\"/>\n       <use x=\"63.623047\" xlink:href=\"#DejaVuSans-48\"/>\n       <use x=\"127.246094\" xlink:href=\"#DejaVuSans-48\"/>\n       <use x=\"190.869141\" xlink:href=\"#DejaVuSans-48\"/>\n       <use x=\"254.492188\" xlink:href=\"#DejaVuSans-48\"/>\n       <use x=\"318.115234\" xlink:href=\"#DejaVuSans-48\"/>\n      </g>\n     </g>\n    </g>\n    <g id=\"text_8\">\n     <!-- Income -->\n     <g transform=\"translate(170.248224 372.235)scale(0.1 -0.1)\">\n      <defs>\n       <path d=\"M 9.8125 72.90625 \nL 19.671875 72.90625 \nL 19.671875 0 \nL 9.8125 0 \nz\n\" id=\"DejaVuSans-73\"/>\n       <path d=\"M 54.890625 33.015625 \nL 54.890625 0 \nL 45.90625 0 \nL 45.90625 32.71875 \nQ 45.90625 40.484375 42.875 44.328125 \nQ 39.84375 48.1875 33.796875 48.1875 \nQ 26.515625 48.1875 22.3125 43.546875 \nQ 18.109375 38.921875 18.109375 30.90625 \nL 18.109375 0 \nL 9.078125 0 \nL 9.078125 54.6875 \nL 18.109375 54.6875 \nL 18.109375 46.1875 \nQ 21.34375 51.125 25.703125 53.5625 \nQ 30.078125 56 35.796875 56 \nQ 45.21875 56 50.046875 50.171875 \nQ 54.890625 44.34375 54.890625 33.015625 \nz\n\" id=\"DejaVuSans-110\"/>\n       <path d=\"M 48.78125 52.59375 \nL 48.78125 44.1875 \nQ 44.96875 46.296875 41.140625 47.34375 \nQ 37.3125 48.390625 33.40625 48.390625 \nQ 24.65625 48.390625 19.8125 42.84375 \nQ 14.984375 37.3125 14.984375 27.296875 \nQ 14.984375 17.28125 19.8125 11.734375 \nQ 24.65625 6.203125 33.40625 6.203125 \nQ 37.3125 6.203125 41.140625 7.25 \nQ 44.96875 8.296875 48.78125 10.40625 \nL 48.78125 2.09375 \nQ 45.015625 0.34375 40.984375 -0.53125 \nQ 36.96875 -1.421875 32.421875 -1.421875 \nQ 20.0625 -1.421875 12.78125 6.34375 \nQ 5.515625 14.109375 5.515625 27.296875 \nQ 5.515625 40.671875 12.859375 48.328125 \nQ 20.21875 56 33.015625 56 \nQ 37.15625 56 41.109375 55.140625 \nQ 45.0625 54.296875 48.78125 52.59375 \nz\n\" id=\"DejaVuSans-99\"/>\n       <path d=\"M 30.609375 48.390625 \nQ 23.390625 48.390625 19.1875 42.75 \nQ 14.984375 37.109375 14.984375 27.296875 \nQ 14.984375 17.484375 19.15625 11.84375 \nQ 23.34375 6.203125 30.609375 6.203125 \nQ 37.796875 6.203125 41.984375 11.859375 \nQ 46.1875 17.53125 46.1875 27.296875 \nQ 46.1875 37.015625 41.984375 42.703125 \nQ 37.796875 48.390625 30.609375 48.390625 \nz\nM 30.609375 56 \nQ 42.328125 56 49.015625 48.375 \nQ 55.71875 40.765625 55.71875 27.296875 \nQ 55.71875 13.875 49.015625 6.21875 \nQ 42.328125 -1.421875 30.609375 -1.421875 \nQ 18.84375 -1.421875 12.171875 6.21875 \nQ 5.515625 13.875 5.515625 27.296875 \nQ 5.515625 40.765625 12.171875 48.375 \nQ 18.84375 56 30.609375 56 \nz\n\" id=\"DejaVuSans-111\"/>\n       <path d=\"M 52 44.1875 \nQ 55.375 50.25 60.0625 53.125 \nQ 64.75 56 71.09375 56 \nQ 79.640625 56 84.28125 50.015625 \nQ 88.921875 44.046875 88.921875 33.015625 \nL 88.921875 0 \nL 79.890625 0 \nL 79.890625 32.71875 \nQ 79.890625 40.578125 77.09375 44.375 \nQ 74.3125 48.1875 68.609375 48.1875 \nQ 61.625 48.1875 57.5625 43.546875 \nQ 53.515625 38.921875 53.515625 30.90625 \nL 53.515625 0 \nL 44.484375 0 \nL 44.484375 32.71875 \nQ 44.484375 40.625 41.703125 44.40625 \nQ 38.921875 48.1875 33.109375 48.1875 \nQ 26.21875 48.1875 22.15625 43.53125 \nQ 18.109375 38.875 18.109375 30.90625 \nL 18.109375 0 \nL 9.078125 0 \nL 9.078125 54.6875 \nL 18.109375 54.6875 \nL 18.109375 46.1875 \nQ 21.1875 51.21875 25.484375 53.609375 \nQ 29.78125 56 35.6875 56 \nQ 41.65625 56 45.828125 52.96875 \nQ 50 49.953125 52 44.1875 \nz\n\" id=\"DejaVuSans-109\"/>\n       <path d=\"M 56.203125 29.59375 \nL 56.203125 25.203125 \nL 14.890625 25.203125 \nQ 15.484375 15.921875 20.484375 11.0625 \nQ 25.484375 6.203125 34.421875 6.203125 \nQ 39.59375 6.203125 44.453125 7.46875 \nQ 49.3125 8.734375 54.109375 11.28125 \nL 54.109375 2.78125 \nQ 49.265625 0.734375 44.1875 -0.34375 \nQ 39.109375 -1.421875 33.890625 -1.421875 \nQ 20.796875 -1.421875 13.15625 6.1875 \nQ 5.515625 13.8125 5.515625 26.8125 \nQ 5.515625 40.234375 12.765625 48.109375 \nQ 20.015625 56 32.328125 56 \nQ 43.359375 56 49.78125 48.890625 \nQ 56.203125 41.796875 56.203125 29.59375 \nz\nM 47.21875 32.234375 \nQ 47.125 39.59375 43.09375 43.984375 \nQ 39.0625 48.390625 32.421875 48.390625 \nQ 24.90625 48.390625 20.390625 44.140625 \nQ 15.875 39.890625 15.1875 32.171875 \nz\n\" id=\"DejaVuSans-101\"/>\n      </defs>\n      <use xlink:href=\"#DejaVuSans-73\"/>\n      <use x=\"29.492188\" xlink:href=\"#DejaVuSans-110\"/>\n      <use x=\"92.871094\" xlink:href=\"#DejaVuSans-99\"/>\n      <use x=\"147.851562\" xlink:href=\"#DejaVuSans-111\"/>\n      <use x=\"209.033203\" xlink:href=\"#DejaVuSans-109\"/>\n      <use x=\"306.445312\" xlink:href=\"#DejaVuSans-101\"/>\n     </g>\n    </g>\n   </g>\n   <g id=\"matplotlib.axis_2\">\n    <g id=\"ytick_1\">\n     <g id=\"line2d_8\">\n      <defs>\n       <path d=\"M 0 0 \nL -3.5 0 \n\" id=\"m227192152e\" style=\"stroke:#000000;stroke-width:0.8;\"/>\n      </defs>\n      <g>\n       <use style=\"stroke:#000000;stroke-width:0.8;\" x=\"36.465625\" xlink:href=\"#m227192152e\" y=\"343.958437\"/>\n      </g>\n     </g>\n     <g id=\"text_9\">\n      <!-- 0.00 -->\n      <g transform=\"translate(7.2 347.757656)scale(0.1 -0.1)\">\n       <defs>\n        <path d=\"M 10.6875 12.40625 \nL 21 12.40625 \nL 21 0 \nL 10.6875 0 \nz\n\" id=\"DejaVuSans-46\"/>\n       </defs>\n       <use xlink:href=\"#DejaVuSans-48\"/>\n       <use x=\"63.623047\" xlink:href=\"#DejaVuSans-46\"/>\n       <use x=\"95.410156\" xlink:href=\"#DejaVuSans-48\"/>\n       <use x=\"159.033203\" xlink:href=\"#DejaVuSans-48\"/>\n      </g>\n     </g>\n    </g>\n    <g id=\"ytick_2\">\n     <g id=\"line2d_9\">\n      <g>\n       <use style=\"stroke:#000000;stroke-width:0.8;\" x=\"36.465625\" xlink:href=\"#m227192152e\" y=\"305.537729\"/>\n      </g>\n     </g>\n     <g id=\"text_10\">\n      <!-- 0.25 -->\n      <g transform=\"translate(7.2 309.336948)scale(0.1 -0.1)\">\n       <defs>\n        <path d=\"M 10.796875 72.90625 \nL 49.515625 72.90625 \nL 49.515625 64.59375 \nL 19.828125 64.59375 \nL 19.828125 46.734375 \nQ 21.96875 47.46875 24.109375 47.828125 \nQ 26.265625 48.1875 28.421875 48.1875 \nQ 40.625 48.1875 47.75 41.5 \nQ 54.890625 34.8125 54.890625 23.390625 \nQ 54.890625 11.625 47.5625 5.09375 \nQ 40.234375 -1.421875 26.90625 -1.421875 \nQ 22.3125 -1.421875 17.546875 -0.640625 \nQ 12.796875 0.140625 7.71875 1.703125 \nL 7.71875 11.625 \nQ 12.109375 9.234375 16.796875 8.0625 \nQ 21.484375 6.890625 26.703125 6.890625 \nQ 35.15625 6.890625 40.078125 11.328125 \nQ 45.015625 15.765625 45.015625 23.390625 \nQ 45.015625 31 40.078125 35.4375 \nQ 35.15625 39.890625 26.703125 39.890625 \nQ 22.75 39.890625 18.8125 39.015625 \nQ 14.890625 38.140625 10.796875 36.28125 \nz\n\" id=\"DejaVuSans-53\"/>\n       </defs>\n       <use xlink:href=\"#DejaVuSans-48\"/>\n       <use x=\"63.623047\" xlink:href=\"#DejaVuSans-46\"/>\n       <use x=\"95.410156\" xlink:href=\"#DejaVuSans-50\"/>\n       <use x=\"159.033203\" xlink:href=\"#DejaVuSans-53\"/>\n      </g>\n     </g>\n    </g>\n    <g id=\"ytick_3\">\n     <g id=\"line2d_10\">\n      <g>\n       <use style=\"stroke:#000000;stroke-width:0.8;\" x=\"36.465625\" xlink:href=\"#m227192152e\" y=\"267.117021\"/>\n      </g>\n     </g>\n     <g id=\"text_11\">\n      <!-- 0.50 -->\n      <g transform=\"translate(7.2 270.91624)scale(0.1 -0.1)\">\n       <use xlink:href=\"#DejaVuSans-48\"/>\n       <use x=\"63.623047\" xlink:href=\"#DejaVuSans-46\"/>\n       <use x=\"95.410156\" xlink:href=\"#DejaVuSans-53\"/>\n       <use x=\"159.033203\" xlink:href=\"#DejaVuSans-48\"/>\n      </g>\n     </g>\n    </g>\n    <g id=\"ytick_4\">\n     <g id=\"line2d_11\">\n      <g>\n       <use style=\"stroke:#000000;stroke-width:0.8;\" x=\"36.465625\" xlink:href=\"#m227192152e\" y=\"228.696313\"/>\n      </g>\n     </g>\n     <g id=\"text_12\">\n      <!-- 0.75 -->\n      <g transform=\"translate(7.2 232.495531)scale(0.1 -0.1)\">\n       <defs>\n        <path d=\"M 8.203125 72.90625 \nL 55.078125 72.90625 \nL 55.078125 68.703125 \nL 28.609375 0 \nL 18.3125 0 \nL 43.21875 64.59375 \nL 8.203125 64.59375 \nz\n\" id=\"DejaVuSans-55\"/>\n       </defs>\n       <use xlink:href=\"#DejaVuSans-48\"/>\n       <use x=\"63.623047\" xlink:href=\"#DejaVuSans-46\"/>\n       <use x=\"95.410156\" xlink:href=\"#DejaVuSans-55\"/>\n       <use x=\"159.033203\" xlink:href=\"#DejaVuSans-53\"/>\n      </g>\n     </g>\n    </g>\n    <g id=\"ytick_5\">\n     <g id=\"line2d_12\">\n      <g>\n       <use style=\"stroke:#000000;stroke-width:0.8;\" x=\"36.465625\" xlink:href=\"#m227192152e\" y=\"190.275604\"/>\n      </g>\n     </g>\n     <g id=\"text_13\">\n      <!-- 1.00 -->\n      <g transform=\"translate(7.2 194.074823)scale(0.1 -0.1)\">\n       <use xlink:href=\"#DejaVuSans-49\"/>\n       <use x=\"63.623047\" xlink:href=\"#DejaVuSans-46\"/>\n       <use x=\"95.410156\" xlink:href=\"#DejaVuSans-48\"/>\n       <use x=\"159.033203\" xlink:href=\"#DejaVuSans-48\"/>\n      </g>\n     </g>\n    </g>\n    <g id=\"ytick_6\">\n     <g id=\"line2d_13\">\n      <g>\n       <use style=\"stroke:#000000;stroke-width:0.8;\" x=\"36.465625\" xlink:href=\"#m227192152e\" y=\"151.854896\"/>\n      </g>\n     </g>\n     <g id=\"text_14\">\n      <!-- 1.25 -->\n      <g transform=\"translate(7.2 155.654115)scale(0.1 -0.1)\">\n       <use xlink:href=\"#DejaVuSans-49\"/>\n       <use x=\"63.623047\" xlink:href=\"#DejaVuSans-46\"/>\n       <use x=\"95.410156\" xlink:href=\"#DejaVuSans-50\"/>\n       <use x=\"159.033203\" xlink:href=\"#DejaVuSans-53\"/>\n      </g>\n     </g>\n    </g>\n    <g id=\"ytick_7\">\n     <g id=\"line2d_14\">\n      <g>\n       <use style=\"stroke:#000000;stroke-width:0.8;\" x=\"36.465625\" xlink:href=\"#m227192152e\" y=\"113.434188\"/>\n      </g>\n     </g>\n     <g id=\"text_15\">\n      <!-- 1.50 -->\n      <g transform=\"translate(7.2 117.233407)scale(0.1 -0.1)\">\n       <use xlink:href=\"#DejaVuSans-49\"/>\n       <use x=\"63.623047\" xlink:href=\"#DejaVuSans-46\"/>\n       <use x=\"95.410156\" xlink:href=\"#DejaVuSans-53\"/>\n       <use x=\"159.033203\" xlink:href=\"#DejaVuSans-48\"/>\n      </g>\n     </g>\n    </g>\n    <g id=\"ytick_8\">\n     <g id=\"line2d_15\">\n      <g>\n       <use style=\"stroke:#000000;stroke-width:0.8;\" x=\"36.465625\" xlink:href=\"#m227192152e\" y=\"75.01348\"/>\n      </g>\n     </g>\n     <g id=\"text_16\">\n      <!-- 1.75 -->\n      <g transform=\"translate(7.2 78.812698)scale(0.1 -0.1)\">\n       <use xlink:href=\"#DejaVuSans-49\"/>\n       <use x=\"63.623047\" xlink:href=\"#DejaVuSans-46\"/>\n       <use x=\"95.410156\" xlink:href=\"#DejaVuSans-55\"/>\n       <use x=\"159.033203\" xlink:href=\"#DejaVuSans-53\"/>\n      </g>\n     </g>\n    </g>\n    <g id=\"ytick_9\">\n     <g id=\"line2d_16\">\n      <g>\n       <use style=\"stroke:#000000;stroke-width:0.8;\" x=\"36.465625\" xlink:href=\"#m227192152e\" y=\"36.592771\"/>\n      </g>\n     </g>\n     <g id=\"text_17\">\n      <!-- 2.00 -->\n      <g transform=\"translate(7.2 40.39199)scale(0.1 -0.1)\">\n       <use xlink:href=\"#DejaVuSans-50\"/>\n       <use x=\"63.623047\" xlink:href=\"#DejaVuSans-46\"/>\n       <use x=\"95.410156\" xlink:href=\"#DejaVuSans-48\"/>\n       <use x=\"159.033203\" xlink:href=\"#DejaVuSans-48\"/>\n      </g>\n     </g>\n    </g>\n    <g id=\"text_18\">\n     <!-- 1e−5 -->\n     <g transform=\"translate(36.465625 14.798437)scale(0.1 -0.1)\">\n      <use xlink:href=\"#DejaVuSans-49\"/>\n      <use x=\"63.623047\" xlink:href=\"#DejaVuSans-101\"/>\n      <use x=\"125.146484\" xlink:href=\"#DejaVuSans-8722\"/>\n      <use x=\"208.935547\" xlink:href=\"#DejaVuSans-53\"/>\n     </g>\n    </g>\n   </g>\n   <g id=\"LineCollection_1\">\n    <path clip-path=\"url(#p94c62639ae)\" d=\"M 206.285863 343.958437 \nL 206.285863 327.650437 \n\" style=\"fill:none;stroke:#92c6ff;\"/>\n    <path clip-path=\"url(#p94c62639ae)\" d=\"M 180.416181 343.958437 \nL 180.416181 327.650437 \n\" style=\"fill:none;stroke:#92c6ff;\"/>\n    <path clip-path=\"url(#p94c62639ae)\" d=\"M 140.435762 343.958437 \nL 140.435762 327.650437 \n\" style=\"fill:none;stroke:#92c6ff;\"/>\n    <path clip-path=\"url(#p94c62639ae)\" d=\"M 265.080596 343.958437 \nL 265.080596 327.650437 \n\" style=\"fill:none;stroke:#92c6ff;\"/>\n    <path clip-path=\"url(#p94c62639ae)\" d=\"M 171.009023 343.958437 \nL 171.009023 327.650437 \n\" style=\"fill:none;stroke:#92c6ff;\"/>\n    <path clip-path=\"url(#p94c62639ae)\" d=\"M 276.839542 343.958437 \nL 276.839542 327.650437 \n\" style=\"fill:none;stroke:#92c6ff;\"/>\n    <path clip-path=\"url(#p94c62639ae)\" d=\"M 262.728806 343.958437 \nL 262.728806 327.650437 \n\" style=\"fill:none;stroke:#92c6ff;\"/>\n    <path clip-path=\"url(#p94c62639ae)\" d=\"M 250.96986 343.958437 \nL 250.96986 327.650437 \n\" style=\"fill:none;stroke:#92c6ff;\"/>\n    <path clip-path=\"url(#p94c62639ae)\" d=\"M 145.139341 343.958437 \nL 145.139341 327.650437 \n\" style=\"fill:none;stroke:#92c6ff;\"/>\n    <path clip-path=\"url(#p94c62639ae)\" d=\"M 102.807133 343.958437 \nL 102.807133 327.650437 \n\" style=\"fill:none;stroke:#92c6ff;\"/>\n    <path clip-path=\"url(#p94c62639ae)\" d=\"M 109.862501 343.958437 \nL 109.862501 327.650437 \n\" style=\"fill:none;stroke:#92c6ff;\"/>\n    <path clip-path=\"url(#p94c62639ae)\" d=\"M 156.898288 343.958437 \nL 156.898288 327.650437 \n\" style=\"fill:none;stroke:#92c6ff;\"/>\n    <path clip-path=\"url(#p94c62639ae)\" d=\"M 258.025228 343.958437 \nL 258.025228 327.650437 \n\" style=\"fill:none;stroke:#92c6ff;\"/>\n    <path clip-path=\"url(#p94c62639ae)\" d=\"M 215.69302 343.958437 \nL 215.69302 327.650437 \n\" style=\"fill:none;stroke:#92c6ff;\"/>\n    <path clip-path=\"url(#p94c62639ae)\" d=\"M 276.839542 343.958437 \nL 276.839542 327.650437 \n\" style=\"fill:none;stroke:#92c6ff;\"/>\n    <path clip-path=\"url(#p94c62639ae)\" d=\"M 114.56608 343.958437 \nL 114.56608 327.650437 \n\" style=\"fill:none;stroke:#92c6ff;\"/>\n    <path clip-path=\"url(#p94c62639ae)\" d=\"M 142.787552 343.958437 \nL 142.787552 327.650437 \n\" style=\"fill:none;stroke:#92c6ff;\"/>\n    <path clip-path=\"url(#p94c62639ae)\" d=\"M 215.69302 343.958437 \nL 215.69302 327.650437 \n\" style=\"fill:none;stroke:#92c6ff;\"/>\n    <path clip-path=\"url(#p94c62639ae)\" d=\"M 276.839542 343.958437 \nL 276.839542 327.650437 \n\" style=\"fill:none;stroke:#92c6ff;\"/>\n    <path clip-path=\"url(#p94c62639ae)\" d=\"M 175.712602 343.958437 \nL 175.712602 327.650437 \n\" style=\"fill:none;stroke:#92c6ff;\"/>\n    <path clip-path=\"url(#p94c62639ae)\" d=\"M 154.546498 343.958437 \nL 154.546498 327.650437 \n\" style=\"fill:none;stroke:#92c6ff;\"/>\n    <path clip-path=\"url(#p94c62639ae)\" d=\"M 208.637652 343.958437 \nL 208.637652 327.650437 \n\" style=\"fill:none;stroke:#92c6ff;\"/>\n    <path clip-path=\"url(#p94c62639ae)\" d=\"M 276.839542 343.958437 \nL 276.839542 327.650437 \n\" style=\"fill:none;stroke:#92c6ff;\"/>\n    <path clip-path=\"url(#p94c62639ae)\" d=\"M 112.214291 343.958437 \nL 112.214291 327.650437 \n\" style=\"fill:none;stroke:#92c6ff;\"/>\n    <path clip-path=\"url(#p94c62639ae)\" d=\"M 149.84292 343.958437 \nL 149.84292 327.650437 \n\" style=\"fill:none;stroke:#92c6ff;\"/>\n    <path clip-path=\"url(#p94c62639ae)\" d=\"M 163.953655 343.958437 \nL 163.953655 327.650437 \n\" style=\"fill:none;stroke:#92c6ff;\"/>\n    <path clip-path=\"url(#p94c62639ae)\" d=\"M 154.546498 343.958437 \nL 154.546498 327.650437 \n\" style=\"fill:none;stroke:#92c6ff;\"/>\n    <path clip-path=\"url(#p94c62639ae)\" d=\"M 159.250077 343.958437 \nL 159.250077 327.650437 \n\" style=\"fill:none;stroke:#92c6ff;\"/>\n    <path clip-path=\"url(#p94c62639ae)\" d=\"M 149.84292 343.958437 \nL 149.84292 327.650437 \n\" style=\"fill:none;stroke:#92c6ff;\"/>\n    <path clip-path=\"url(#p94c62639ae)\" d=\"M 107.510712 343.958437 \nL 107.510712 327.650437 \n\" style=\"fill:none;stroke:#92c6ff;\"/>\n    <path clip-path=\"url(#p94c62639ae)\" d=\"M 215.69302 343.958437 \nL 215.69302 327.650437 \n\" style=\"fill:none;stroke:#92c6ff;\"/>\n    <path clip-path=\"url(#p94c62639ae)\" d=\"M 189.823338 343.958437 \nL 189.823338 327.650437 \n\" style=\"fill:none;stroke:#92c6ff;\"/>\n    <path clip-path=\"url(#p94c62639ae)\" d=\"M 128.676816 343.958437 \nL 128.676816 327.650437 \n\" style=\"fill:none;stroke:#92c6ff;\"/>\n    <path clip-path=\"url(#p94c62639ae)\" d=\"M 102.807133 343.958437 \nL 102.807133 327.650437 \n\" style=\"fill:none;stroke:#92c6ff;\"/>\n    <path clip-path=\"url(#p94c62639ae)\" d=\"M 218.04481 343.958437 \nL 218.04481 327.650437 \n\" style=\"fill:none;stroke:#92c6ff;\"/>\n    <path clip-path=\"url(#p94c62639ae)\" d=\"M 196.878706 343.958437 \nL 196.878706 327.650437 \n\" style=\"fill:none;stroke:#92c6ff;\"/>\n    <path clip-path=\"url(#p94c62639ae)\" d=\"M 145.139341 343.958437 \nL 145.139341 327.650437 \n\" style=\"fill:none;stroke:#92c6ff;\"/>\n    <path clip-path=\"url(#p94c62639ae)\" d=\"M 159.250077 343.958437 \nL 159.250077 327.650437 \n\" style=\"fill:none;stroke:#92c6ff;\"/>\n    <path clip-path=\"url(#p94c62639ae)\" d=\"M 123.973237 343.958437 \nL 123.973237 327.650437 \n\" style=\"fill:none;stroke:#92c6ff;\"/>\n    <path clip-path=\"url(#p94c62639ae)\" d=\"M 201.582284 343.958437 \nL 201.582284 327.650437 \n\" style=\"fill:none;stroke:#92c6ff;\"/>\n    <path clip-path=\"url(#p94c62639ae)\" d=\"M 229.803756 343.958437 \nL 229.803756 327.650437 \n\" style=\"fill:none;stroke:#92c6ff;\"/>\n    <path clip-path=\"url(#p94c62639ae)\" d=\"M 276.839542 343.958437 \nL 276.839542 327.650437 \n\" style=\"fill:none;stroke:#92c6ff;\"/>\n    <path clip-path=\"url(#p94c62639ae)\" d=\"M 227.451967 343.958437 \nL 227.451967 327.650437 \n\" style=\"fill:none;stroke:#92c6ff;\"/>\n    <path clip-path=\"url(#p94c62639ae)\" d=\"M 208.637652 343.958437 \nL 208.637652 327.650437 \n\" style=\"fill:none;stroke:#92c6ff;\"/>\n    <path clip-path=\"url(#p94c62639ae)\" d=\"M 229.803756 343.958437 \nL 229.803756 327.650437 \n\" style=\"fill:none;stroke:#92c6ff;\"/>\n    <path clip-path=\"url(#p94c62639ae)\" d=\"M 276.839542 343.958437 \nL 276.839542 327.650437 \n\" style=\"fill:none;stroke:#92c6ff;\"/>\n    <path clip-path=\"url(#p94c62639ae)\" d=\"M 250.96986 343.958437 \nL 250.96986 327.650437 \n\" style=\"fill:none;stroke:#92c6ff;\"/>\n    <path clip-path=\"url(#p94c62639ae)\" d=\"M 116.917869 343.958437 \nL 116.917869 327.650437 \n\" style=\"fill:none;stroke:#92c6ff;\"/>\n    <path clip-path=\"url(#p94c62639ae)\" d=\"M 105.158923 343.958437 \nL 105.158923 327.650437 \n\" style=\"fill:none;stroke:#92c6ff;\"/>\n    <path clip-path=\"url(#p94c62639ae)\" d=\"M 208.637652 343.958437 \nL 208.637652 327.650437 \n\" style=\"fill:none;stroke:#92c6ff;\"/>\n    <path clip-path=\"url(#p94c62639ae)\" d=\"M 276.839542 343.958437 \nL 276.839542 327.650437 \n\" style=\"fill:none;stroke:#92c6ff;\"/>\n    <path clip-path=\"url(#p94c62639ae)\" d=\"M 227.451967 343.958437 \nL 227.451967 327.650437 \n\" style=\"fill:none;stroke:#92c6ff;\"/>\n    <path clip-path=\"url(#p94c62639ae)\" d=\"M 154.546498 343.958437 \nL 154.546498 327.650437 \n\" style=\"fill:none;stroke:#92c6ff;\"/>\n    <path clip-path=\"url(#p94c62639ae)\" d=\"M 199.230495 343.958437 \nL 199.230495 327.650437 \n\" style=\"fill:none;stroke:#92c6ff;\"/>\n    <path clip-path=\"url(#p94c62639ae)\" d=\"M 161.601866 343.958437 \nL 161.601866 327.650437 \n\" style=\"fill:none;stroke:#92c6ff;\"/>\n    <path clip-path=\"url(#p94c62639ae)\" d=\"M 133.380394 343.958437 \nL 133.380394 327.650437 \n\" style=\"fill:none;stroke:#92c6ff;\"/>\n    <path clip-path=\"url(#p94c62639ae)\" d=\"M 112.214291 343.958437 \nL 112.214291 327.650437 \n\" style=\"fill:none;stroke:#92c6ff;\"/>\n    <path clip-path=\"url(#p94c62639ae)\" d=\"M 171.009023 343.958437 \nL 171.009023 327.650437 \n\" style=\"fill:none;stroke:#92c6ff;\"/>\n    <path clip-path=\"url(#p94c62639ae)\" d=\"M 171.009023 343.958437 \nL 171.009023 327.650437 \n\" style=\"fill:none;stroke:#92c6ff;\"/>\n    <path clip-path=\"url(#p94c62639ae)\" d=\"M 156.898288 343.958437 \nL 156.898288 327.650437 \n\" style=\"fill:none;stroke:#92c6ff;\"/>\n    <path clip-path=\"url(#p94c62639ae)\" d=\"M 119.269659 343.958437 \nL 119.269659 327.650437 \n\" style=\"fill:none;stroke:#92c6ff;\"/>\n    <path clip-path=\"url(#p94c62639ae)\" d=\"M 210.989442 343.958437 \nL 210.989442 327.650437 \n\" style=\"fill:none;stroke:#92c6ff;\"/>\n    <path clip-path=\"url(#p94c62639ae)\" d=\"M 276.839542 343.958437 \nL 276.839542 327.650437 \n\" style=\"fill:none;stroke:#92c6ff;\"/>\n    <path clip-path=\"url(#p94c62639ae)\" d=\"M 276.839542 343.958437 \nL 276.839542 327.650437 \n\" style=\"fill:none;stroke:#92c6ff;\"/>\n    <path clip-path=\"url(#p94c62639ae)\" d=\"M 243.914492 343.958437 \nL 243.914492 327.650437 \n\" style=\"fill:none;stroke:#92c6ff;\"/>\n    <path clip-path=\"url(#p94c62639ae)\" d=\"M 116.917869 343.958437 \nL 116.917869 327.650437 \n\" style=\"fill:none;stroke:#92c6ff;\"/>\n    <path clip-path=\"url(#p94c62639ae)\" d=\"M 154.546498 343.958437 \nL 154.546498 327.650437 \n\" style=\"fill:none;stroke:#92c6ff;\"/>\n    <path clip-path=\"url(#p94c62639ae)\" d=\"M 182.76797 343.958437 \nL 182.76797 327.650437 \n\" style=\"fill:none;stroke:#92c6ff;\"/>\n    <path clip-path=\"url(#p94c62639ae)\" d=\"M 199.230495 343.958437 \nL 199.230495 327.650437 \n\" style=\"fill:none;stroke:#92c6ff;\"/>\n    <path clip-path=\"url(#p94c62639ae)\" d=\"M 123.973237 343.958437 \nL 123.973237 327.650437 \n\" style=\"fill:none;stroke:#92c6ff;\"/>\n    <path clip-path=\"url(#p94c62639ae)\" d=\"M 128.676816 343.958437 \nL 128.676816 327.650437 \n\" style=\"fill:none;stroke:#92c6ff;\"/>\n    <path clip-path=\"url(#p94c62639ae)\" d=\"M 119.269659 343.958437 \nL 119.269659 327.650437 \n\" style=\"fill:none;stroke:#92c6ff;\"/>\n    <path clip-path=\"url(#p94c62639ae)\" d=\"M 215.69302 343.958437 \nL 215.69302 327.650437 \n\" style=\"fill:none;stroke:#92c6ff;\"/>\n    <path clip-path=\"url(#p94c62639ae)\" d=\"M 178.064391 343.958437 \nL 178.064391 327.650437 \n\" style=\"fill:none;stroke:#92c6ff;\"/>\n    <path clip-path=\"url(#p94c62639ae)\" d=\"M 123.973237 343.958437 \nL 123.973237 327.650437 \n\" style=\"fill:none;stroke:#92c6ff;\"/>\n    <path clip-path=\"url(#p94c62639ae)\" d=\"M 227.451967 343.958437 \nL 227.451967 327.650437 \n\" style=\"fill:none;stroke:#92c6ff;\"/>\n    <path clip-path=\"url(#p94c62639ae)\" d=\"M 178.064391 343.958437 \nL 178.064391 327.650437 \n\" style=\"fill:none;stroke:#92c6ff;\"/>\n    <path clip-path=\"url(#p94c62639ae)\" d=\"M 241.562703 343.958437 \nL 241.562703 327.650437 \n\" style=\"fill:none;stroke:#92c6ff;\"/>\n    <path clip-path=\"url(#p94c62639ae)\" d=\"M 107.510712 343.958437 \nL 107.510712 327.650437 \n\" style=\"fill:none;stroke:#92c6ff;\"/>\n    <path clip-path=\"url(#p94c62639ae)\" d=\"M 126.325027 343.958437 \nL 126.325027 327.650437 \n\" style=\"fill:none;stroke:#92c6ff;\"/>\n    <path clip-path=\"url(#p94c62639ae)\" d=\"M 276.839542 343.958437 \nL 276.839542 327.650437 \n\" style=\"fill:none;stroke:#92c6ff;\"/>\n    <path clip-path=\"url(#p94c62639ae)\" d=\"M 208.637652 343.958437 \nL 208.637652 327.650437 \n\" style=\"fill:none;stroke:#92c6ff;\"/>\n    <path clip-path=\"url(#p94c62639ae)\" d=\"M 109.862501 343.958437 \nL 109.862501 327.650437 \n\" style=\"fill:none;stroke:#92c6ff;\"/>\n    <path clip-path=\"url(#p94c62639ae)\" d=\"M 276.839542 343.958437 \nL 276.839542 327.650437 \n\" style=\"fill:none;stroke:#92c6ff;\"/>\n    <path clip-path=\"url(#p94c62639ae)\" d=\"M 276.839542 343.958437 \nL 276.839542 327.650437 \n\" style=\"fill:none;stroke:#92c6ff;\"/>\n    <path clip-path=\"url(#p94c62639ae)\" d=\"M 250.96986 343.958437 \nL 250.96986 327.650437 \n\" style=\"fill:none;stroke:#92c6ff;\"/>\n    <path clip-path=\"url(#p94c62639ae)\" d=\"M 215.69302 343.958437 \nL 215.69302 327.650437 \n\" style=\"fill:none;stroke:#92c6ff;\"/>\n    <path clip-path=\"url(#p94c62639ae)\" d=\"M 133.380394 343.958437 \nL 133.380394 327.650437 \n\" style=\"fill:none;stroke:#92c6ff;\"/>\n    <path clip-path=\"url(#p94c62639ae)\" d=\"M 166.305445 343.958437 \nL 166.305445 327.650437 \n\" style=\"fill:none;stroke:#92c6ff;\"/>\n    <path clip-path=\"url(#p94c62639ae)\" d=\"M 156.898288 343.958437 \nL 156.898288 327.650437 \n\" style=\"fill:none;stroke:#92c6ff;\"/>\n    <path clip-path=\"url(#p94c62639ae)\" d=\"M 241.562703 343.958437 \nL 241.562703 327.650437 \n\" style=\"fill:none;stroke:#92c6ff;\"/>\n    <path clip-path=\"url(#p94c62639ae)\" d=\"M 215.69302 343.958437 \nL 215.69302 327.650437 \n\" style=\"fill:none;stroke:#92c6ff;\"/>\n    <path clip-path=\"url(#p94c62639ae)\" d=\"M 272.135964 343.958437 \nL 272.135964 327.650437 \n\" style=\"fill:none;stroke:#92c6ff;\"/>\n    <path clip-path=\"url(#p94c62639ae)\" d=\"M 140.435762 343.958437 \nL 140.435762 327.650437 \n\" style=\"fill:none;stroke:#92c6ff;\"/>\n    <path clip-path=\"url(#p94c62639ae)\" d=\"M 140.435762 343.958437 \nL 140.435762 327.650437 \n\" style=\"fill:none;stroke:#92c6ff;\"/>\n    <path clip-path=\"url(#p94c62639ae)\" d=\"M 100.455344 343.958437 \nL 100.455344 327.650437 \n\" style=\"fill:none;stroke:#92c6ff;\"/>\n    <path clip-path=\"url(#p94c62639ae)\" d=\"M 276.839542 343.958437 \nL 276.839542 327.650437 \n\" style=\"fill:none;stroke:#92c6ff;\"/>\n    <path clip-path=\"url(#p94c62639ae)\" d=\"M 232.155545 343.958437 \nL 232.155545 327.650437 \n\" style=\"fill:none;stroke:#92c6ff;\"/>\n    <path clip-path=\"url(#p94c62639ae)\" d=\"M 163.953655 343.958437 \nL 163.953655 327.650437 \n\" style=\"fill:none;stroke:#92c6ff;\"/>\n    <path clip-path=\"url(#p94c62639ae)\" d=\"M 187.471549 343.958437 \nL 187.471549 327.650437 \n\" style=\"fill:none;stroke:#92c6ff;\"/>\n    <path clip-path=\"url(#p94c62639ae)\" d=\"M 107.510712 343.958437 \nL 107.510712 327.650437 \n\" style=\"fill:none;stroke:#92c6ff;\"/>\n    <path clip-path=\"url(#p94c62639ae)\" d=\"M 276.839542 343.958437 \nL 276.839542 327.650437 \n\" style=\"fill:none;stroke:#92c6ff;\"/>\n    <path clip-path=\"url(#p94c62639ae)\" d=\"M 213.341231 343.958437 \nL 213.341231 327.650437 \n\" style=\"fill:none;stroke:#92c6ff;\"/>\n    <path clip-path=\"url(#p94c62639ae)\" d=\"M 227.451967 343.958437 \nL 227.451967 327.650437 \n\" style=\"fill:none;stroke:#92c6ff;\"/>\n    <path clip-path=\"url(#p94c62639ae)\" d=\"M 128.676816 343.958437 \nL 128.676816 327.650437 \n\" style=\"fill:none;stroke:#92c6ff;\"/>\n    <path clip-path=\"url(#p94c62639ae)\" d=\"M 100.455344 343.958437 \nL 100.455344 327.650437 \n\" style=\"fill:none;stroke:#92c6ff;\"/>\n    <path clip-path=\"url(#p94c62639ae)\" d=\"M 178.064391 343.958437 \nL 178.064391 327.650437 \n\" style=\"fill:none;stroke:#92c6ff;\"/>\n    <path clip-path=\"url(#p94c62639ae)\" d=\"M 123.973237 343.958437 \nL 123.973237 327.650437 \n\" style=\"fill:none;stroke:#92c6ff;\"/>\n    <path clip-path=\"url(#p94c62639ae)\" d=\"M 203.934074 343.958437 \nL 203.934074 327.650437 \n\" style=\"fill:none;stroke:#92c6ff;\"/>\n    <path clip-path=\"url(#p94c62639ae)\" d=\"M 276.839542 343.958437 \nL 276.839542 327.650437 \n\" style=\"fill:none;stroke:#92c6ff;\"/>\n    <path clip-path=\"url(#p94c62639ae)\" d=\"M 199.230495 343.958437 \nL 199.230495 327.650437 \n\" style=\"fill:none;stroke:#92c6ff;\"/>\n    <path clip-path=\"url(#p94c62639ae)\" d=\"M 109.862501 343.958437 \nL 109.862501 327.650437 \n\" style=\"fill:none;stroke:#92c6ff;\"/>\n    <path clip-path=\"url(#p94c62639ae)\" d=\"M 241.562703 343.958437 \nL 241.562703 327.650437 \n\" style=\"fill:none;stroke:#92c6ff;\"/>\n    <path clip-path=\"url(#p94c62639ae)\" d=\"M 140.435762 343.958437 \nL 140.435762 327.650437 \n\" style=\"fill:none;stroke:#92c6ff;\"/>\n    <path clip-path=\"url(#p94c62639ae)\" d=\"M 274.487753 343.958437 \nL 274.487753 327.650437 \n\" style=\"fill:none;stroke:#92c6ff;\"/>\n    <path clip-path=\"url(#p94c62639ae)\" d=\"M 276.839542 343.958437 \nL 276.839542 327.650437 \n\" style=\"fill:none;stroke:#92c6ff;\"/>\n    <path clip-path=\"url(#p94c62639ae)\" d=\"M 262.728806 343.958437 \nL 262.728806 327.650437 \n\" style=\"fill:none;stroke:#92c6ff;\"/>\n    <path clip-path=\"url(#p94c62639ae)\" d=\"M 194.526916 343.958437 \nL 194.526916 327.650437 \n\" style=\"fill:none;stroke:#92c6ff;\"/>\n    <path clip-path=\"url(#p94c62639ae)\" d=\"M 105.158923 343.958437 \nL 105.158923 327.650437 \n\" style=\"fill:none;stroke:#92c6ff;\"/>\n    <path clip-path=\"url(#p94c62639ae)\" d=\"M 171.009023 343.958437 \nL 171.009023 327.650437 \n\" style=\"fill:none;stroke:#92c6ff;\"/>\n    <path clip-path=\"url(#p94c62639ae)\" d=\"M 236.859124 343.958437 \nL 236.859124 327.650437 \n\" style=\"fill:none;stroke:#92c6ff;\"/>\n    <path clip-path=\"url(#p94c62639ae)\" d=\"M 142.787552 343.958437 \nL 142.787552 327.650437 \n\" style=\"fill:none;stroke:#92c6ff;\"/>\n    <path clip-path=\"url(#p94c62639ae)\" d=\"M 121.621448 343.958437 \nL 121.621448 327.650437 \n\" style=\"fill:none;stroke:#92c6ff;\"/>\n    <path clip-path=\"url(#p94c62639ae)\" d=\"M 276.839542 343.958437 \nL 276.839542 327.650437 \n\" style=\"fill:none;stroke:#92c6ff;\"/>\n    <path clip-path=\"url(#p94c62639ae)\" d=\"M 180.416181 343.958437 \nL 180.416181 327.650437 \n\" style=\"fill:none;stroke:#92c6ff;\"/>\n    <path clip-path=\"url(#p94c62639ae)\" d=\"M 156.898288 343.958437 \nL 156.898288 327.650437 \n\" style=\"fill:none;stroke:#92c6ff;\"/>\n    <path clip-path=\"url(#p94c62639ae)\" d=\"M 100.455344 343.958437 \nL 100.455344 327.650437 \n\" style=\"fill:none;stroke:#92c6ff;\"/>\n    <path clip-path=\"url(#p94c62639ae)\" d=\"M 116.917869 343.958437 \nL 116.917869 327.650437 \n\" style=\"fill:none;stroke:#92c6ff;\"/>\n    <path clip-path=\"url(#p94c62639ae)\" d=\"M 154.546498 343.958437 \nL 154.546498 327.650437 \n\" style=\"fill:none;stroke:#92c6ff;\"/>\n    <path clip-path=\"url(#p94c62639ae)\" d=\"M 102.807133 343.958437 \nL 102.807133 327.650437 \n\" style=\"fill:none;stroke:#92c6ff;\"/>\n    <path clip-path=\"url(#p94c62639ae)\" d=\"M 262.728806 343.958437 \nL 262.728806 327.650437 \n\" style=\"fill:none;stroke:#92c6ff;\"/>\n    <path clip-path=\"url(#p94c62639ae)\" d=\"M 276.839542 343.958437 \nL 276.839542 327.650437 \n\" style=\"fill:none;stroke:#92c6ff;\"/>\n    <path clip-path=\"url(#p94c62639ae)\" d=\"M 109.862501 343.958437 \nL 109.862501 327.650437 \n\" style=\"fill:none;stroke:#92c6ff;\"/>\n    <path clip-path=\"url(#p94c62639ae)\" d=\"M 182.76797 343.958437 \nL 182.76797 327.650437 \n\" style=\"fill:none;stroke:#92c6ff;\"/>\n    <path clip-path=\"url(#p94c62639ae)\" d=\"M 116.917869 343.958437 \nL 116.917869 327.650437 \n\" style=\"fill:none;stroke:#92c6ff;\"/>\n    <path clip-path=\"url(#p94c62639ae)\" d=\"M 152.194709 343.958437 \nL 152.194709 327.650437 \n\" style=\"fill:none;stroke:#92c6ff;\"/>\n    <path clip-path=\"url(#p94c62639ae)\" d=\"M 225.100177 343.958437 \nL 225.100177 327.650437 \n\" style=\"fill:none;stroke:#92c6ff;\"/>\n    <path clip-path=\"url(#p94c62639ae)\" d=\"M 276.839542 343.958437 \nL 276.839542 327.650437 \n\" style=\"fill:none;stroke:#92c6ff;\"/>\n    <path clip-path=\"url(#p94c62639ae)\" d=\"M 131.028605 343.958437 \nL 131.028605 327.650437 \n\" style=\"fill:none;stroke:#92c6ff;\"/>\n    <path clip-path=\"url(#p94c62639ae)\" d=\"M 178.064391 343.958437 \nL 178.064391 327.650437 \n\" style=\"fill:none;stroke:#92c6ff;\"/>\n    <path clip-path=\"url(#p94c62639ae)\" d=\"M 119.269659 343.958437 \nL 119.269659 327.650437 \n\" style=\"fill:none;stroke:#92c6ff;\"/>\n    <path clip-path=\"url(#p94c62639ae)\" d=\"M 159.250077 343.958437 \nL 159.250077 327.650437 \n\" style=\"fill:none;stroke:#92c6ff;\"/>\n    <path clip-path=\"url(#p94c62639ae)\" d=\"M 253.321649 343.958437 \nL 253.321649 327.650437 \n\" style=\"fill:none;stroke:#92c6ff;\"/>\n    <path clip-path=\"url(#p94c62639ae)\" d=\"M 192.175127 343.958437 \nL 192.175127 327.650437 \n\" style=\"fill:none;stroke:#92c6ff;\"/>\n    <path clip-path=\"url(#p94c62639ae)\" d=\"M 276.839542 343.958437 \nL 276.839542 327.650437 \n\" style=\"fill:none;stroke:#92c6ff;\"/>\n    <path clip-path=\"url(#p94c62639ae)\" d=\"M 180.416181 343.958437 \nL 180.416181 327.650437 \n\" style=\"fill:none;stroke:#92c6ff;\"/>\n    <path clip-path=\"url(#p94c62639ae)\" d=\"M 121.621448 343.958437 \nL 121.621448 327.650437 \n\" style=\"fill:none;stroke:#92c6ff;\"/>\n    <path clip-path=\"url(#p94c62639ae)\" d=\"M 156.898288 343.958437 \nL 156.898288 327.650437 \n\" style=\"fill:none;stroke:#92c6ff;\"/>\n    <path clip-path=\"url(#p94c62639ae)\" d=\"M 276.839542 343.958437 \nL 276.839542 327.650437 \n\" style=\"fill:none;stroke:#92c6ff;\"/>\n    <path clip-path=\"url(#p94c62639ae)\" d=\"M 265.080596 343.958437 \nL 265.080596 327.650437 \n\" style=\"fill:none;stroke:#92c6ff;\"/>\n    <path clip-path=\"url(#p94c62639ae)\" d=\"M 105.158923 343.958437 \nL 105.158923 327.650437 \n\" style=\"fill:none;stroke:#92c6ff;\"/>\n    <path clip-path=\"url(#p94c62639ae)\" d=\"M 131.028605 343.958437 \nL 131.028605 327.650437 \n\" style=\"fill:none;stroke:#92c6ff;\"/>\n    <path clip-path=\"url(#p94c62639ae)\" d=\"M 276.839542 343.958437 \nL 276.839542 327.650437 \n\" style=\"fill:none;stroke:#92c6ff;\"/>\n    <path clip-path=\"url(#p94c62639ae)\" d=\"M 147.49113 343.958437 \nL 147.49113 327.650437 \n\" style=\"fill:none;stroke:#92c6ff;\"/>\n    <path clip-path=\"url(#p94c62639ae)\" d=\"M 119.269659 343.958437 \nL 119.269659 327.650437 \n\" style=\"fill:none;stroke:#92c6ff;\"/>\n    <path clip-path=\"url(#p94c62639ae)\" d=\"M 131.028605 343.958437 \nL 131.028605 327.650437 \n\" style=\"fill:none;stroke:#92c6ff;\"/>\n    <path clip-path=\"url(#p94c62639ae)\" d=\"M 265.080596 343.958437 \nL 265.080596 327.650437 \n\" style=\"fill:none;stroke:#92c6ff;\"/>\n    <path clip-path=\"url(#p94c62639ae)\" d=\"M 163.953655 343.958437 \nL 163.953655 327.650437 \n\" style=\"fill:none;stroke:#92c6ff;\"/>\n    <path clip-path=\"url(#p94c62639ae)\" d=\"M 276.839542 343.958437 \nL 276.839542 327.650437 \n\" style=\"fill:none;stroke:#92c6ff;\"/>\n    <path clip-path=\"url(#p94c62639ae)\" d=\"M 116.917869 343.958437 \nL 116.917869 327.650437 \n\" style=\"fill:none;stroke:#92c6ff;\"/>\n    <path clip-path=\"url(#p94c62639ae)\" d=\"M 159.250077 343.958437 \nL 159.250077 327.650437 \n\" style=\"fill:none;stroke:#92c6ff;\"/>\n    <path clip-path=\"url(#p94c62639ae)\" d=\"M 131.028605 343.958437 \nL 131.028605 327.650437 \n\" style=\"fill:none;stroke:#92c6ff;\"/>\n    <path clip-path=\"url(#p94c62639ae)\" d=\"M 145.139341 343.958437 \nL 145.139341 327.650437 \n\" style=\"fill:none;stroke:#92c6ff;\"/>\n    <path clip-path=\"url(#p94c62639ae)\" d=\"M 253.321649 343.958437 \nL 253.321649 327.650437 \n\" style=\"fill:none;stroke:#92c6ff;\"/>\n    <path clip-path=\"url(#p94c62639ae)\" d=\"M 189.823338 343.958437 \nL 189.823338 327.650437 \n\" style=\"fill:none;stroke:#92c6ff;\"/>\n    <path clip-path=\"url(#p94c62639ae)\" d=\"M 154.546498 343.958437 \nL 154.546498 327.650437 \n\" style=\"fill:none;stroke:#92c6ff;\"/>\n    <path clip-path=\"url(#p94c62639ae)\" d=\"M 265.080596 343.958437 \nL 265.080596 327.650437 \n\" style=\"fill:none;stroke:#92c6ff;\"/>\n    <path clip-path=\"url(#p94c62639ae)\" d=\"M 276.839542 343.958437 \nL 276.839542 327.650437 \n\" style=\"fill:none;stroke:#92c6ff;\"/>\n    <path clip-path=\"url(#p94c62639ae)\" d=\"M 201.582284 343.958437 \nL 201.582284 327.650437 \n\" style=\"fill:none;stroke:#92c6ff;\"/>\n    <path clip-path=\"url(#p94c62639ae)\" d=\"M 121.621448 343.958437 \nL 121.621448 327.650437 \n\" style=\"fill:none;stroke:#92c6ff;\"/>\n    <path clip-path=\"url(#p94c62639ae)\" d=\"M 142.787552 343.958437 \nL 142.787552 327.650437 \n\" style=\"fill:none;stroke:#92c6ff;\"/>\n    <path clip-path=\"url(#p94c62639ae)\" d=\"M 178.064391 343.958437 \nL 178.064391 327.650437 \n\" style=\"fill:none;stroke:#92c6ff;\"/>\n    <path clip-path=\"url(#p94c62639ae)\" d=\"M 131.028605 343.958437 \nL 131.028605 327.650437 \n\" style=\"fill:none;stroke:#92c6ff;\"/>\n    <path clip-path=\"url(#p94c62639ae)\" d=\"M 196.878706 343.958437 \nL 196.878706 327.650437 \n\" style=\"fill:none;stroke:#92c6ff;\"/>\n    <path clip-path=\"url(#p94c62639ae)\" d=\"M 156.898288 343.958437 \nL 156.898288 327.650437 \n\" style=\"fill:none;stroke:#92c6ff;\"/>\n    <path clip-path=\"url(#p94c62639ae)\" d=\"M 145.139341 343.958437 \nL 145.139341 327.650437 \n\" style=\"fill:none;stroke:#92c6ff;\"/>\n    <path clip-path=\"url(#p94c62639ae)\" d=\"M 166.305445 343.958437 \nL 166.305445 327.650437 \n\" style=\"fill:none;stroke:#92c6ff;\"/>\n    <path clip-path=\"url(#p94c62639ae)\" d=\"M 166.305445 343.958437 \nL 166.305445 327.650437 \n\" style=\"fill:none;stroke:#92c6ff;\"/>\n    <path clip-path=\"url(#p94c62639ae)\" d=\"M 100.455344 343.958437 \nL 100.455344 327.650437 \n\" style=\"fill:none;stroke:#92c6ff;\"/>\n    <path clip-path=\"url(#p94c62639ae)\" d=\"M 229.803756 343.958437 \nL 229.803756 327.650437 \n\" style=\"fill:none;stroke:#92c6ff;\"/>\n    <path clip-path=\"url(#p94c62639ae)\" d=\"M 185.119759 343.958437 \nL 185.119759 327.650437 \n\" style=\"fill:none;stroke:#92c6ff;\"/>\n    <path clip-path=\"url(#p94c62639ae)\" d=\"M 253.321649 343.958437 \nL 253.321649 327.650437 \n\" style=\"fill:none;stroke:#92c6ff;\"/>\n    <path clip-path=\"url(#p94c62639ae)\" d=\"M 145.139341 343.958437 \nL 145.139341 327.650437 \n\" style=\"fill:none;stroke:#92c6ff;\"/>\n    <path clip-path=\"url(#p94c62639ae)\" d=\"M 276.839542 343.958437 \nL 276.839542 327.650437 \n\" style=\"fill:none;stroke:#92c6ff;\"/>\n    <path clip-path=\"url(#p94c62639ae)\" d=\"M 210.989442 343.958437 \nL 210.989442 327.650437 \n\" style=\"fill:none;stroke:#92c6ff;\"/>\n    <path clip-path=\"url(#p94c62639ae)\" d=\"M 258.025228 343.958437 \nL 258.025228 327.650437 \n\" style=\"fill:none;stroke:#92c6ff;\"/>\n    <path clip-path=\"url(#p94c62639ae)\" d=\"M 152.194709 343.958437 \nL 152.194709 327.650437 \n\" style=\"fill:none;stroke:#92c6ff;\"/>\n    <path clip-path=\"url(#p94c62639ae)\" d=\"M 142.787552 343.958437 \nL 142.787552 327.650437 \n\" style=\"fill:none;stroke:#92c6ff;\"/>\n    <path clip-path=\"url(#p94c62639ae)\" d=\"M 227.451967 343.958437 \nL 227.451967 327.650437 \n\" style=\"fill:none;stroke:#92c6ff;\"/>\n    <path clip-path=\"url(#p94c62639ae)\" d=\"M 196.878706 343.958437 \nL 196.878706 327.650437 \n\" style=\"fill:none;stroke:#92c6ff;\"/>\n    <path clip-path=\"url(#p94c62639ae)\" d=\"M 163.953655 343.958437 \nL 163.953655 327.650437 \n\" style=\"fill:none;stroke:#92c6ff;\"/>\n    <path clip-path=\"url(#p94c62639ae)\" d=\"M 105.158923 343.958437 \nL 105.158923 327.650437 \n\" style=\"fill:none;stroke:#92c6ff;\"/>\n    <path clip-path=\"url(#p94c62639ae)\" d=\"M 276.839542 343.958437 \nL 276.839542 327.650437 \n\" style=\"fill:none;stroke:#92c6ff;\"/>\n    <path clip-path=\"url(#p94c62639ae)\" d=\"M 276.839542 343.958437 \nL 276.839542 327.650437 \n\" style=\"fill:none;stroke:#92c6ff;\"/>\n    <path clip-path=\"url(#p94c62639ae)\" d=\"M 187.471549 343.958437 \nL 187.471549 327.650437 \n\" style=\"fill:none;stroke:#92c6ff;\"/>\n    <path clip-path=\"url(#p94c62639ae)\" d=\"M 123.973237 343.958437 \nL 123.973237 327.650437 \n\" style=\"fill:none;stroke:#92c6ff;\"/>\n    <path clip-path=\"url(#p94c62639ae)\" d=\"M 126.325027 343.958437 \nL 126.325027 327.650437 \n\" style=\"fill:none;stroke:#92c6ff;\"/>\n    <path clip-path=\"url(#p94c62639ae)\" d=\"M 114.56608 343.958437 \nL 114.56608 327.650437 \n\" style=\"fill:none;stroke:#92c6ff;\"/>\n    <path clip-path=\"url(#p94c62639ae)\" d=\"M 194.526916 343.958437 \nL 194.526916 327.650437 \n\" style=\"fill:none;stroke:#92c6ff;\"/>\n    <path clip-path=\"url(#p94c62639ae)\" d=\"M 180.416181 343.958437 \nL 180.416181 327.650437 \n\" style=\"fill:none;stroke:#92c6ff;\"/>\n    <path clip-path=\"url(#p94c62639ae)\" d=\"M 258.025228 343.958437 \nL 258.025228 327.650437 \n\" style=\"fill:none;stroke:#92c6ff;\"/>\n    <path clip-path=\"url(#p94c62639ae)\" d=\"M 218.04481 343.958437 \nL 218.04481 327.650437 \n\" style=\"fill:none;stroke:#92c6ff;\"/>\n    <path clip-path=\"url(#p94c62639ae)\" d=\"M 203.934074 343.958437 \nL 203.934074 327.650437 \n\" style=\"fill:none;stroke:#92c6ff;\"/>\n    <path clip-path=\"url(#p94c62639ae)\" d=\"M 152.194709 343.958437 \nL 152.194709 327.650437 \n\" style=\"fill:none;stroke:#92c6ff;\"/>\n    <path clip-path=\"url(#p94c62639ae)\" d=\"M 114.56608 343.958437 \nL 114.56608 327.650437 \n\" style=\"fill:none;stroke:#92c6ff;\"/>\n    <path clip-path=\"url(#p94c62639ae)\" d=\"M 121.621448 343.958437 \nL 121.621448 327.650437 \n\" style=\"fill:none;stroke:#92c6ff;\"/>\n    <path clip-path=\"url(#p94c62639ae)\" d=\"M 215.69302 343.958437 \nL 215.69302 327.650437 \n\" style=\"fill:none;stroke:#92c6ff;\"/>\n    <path clip-path=\"url(#p94c62639ae)\" d=\"M 128.676816 343.958437 \nL 128.676816 327.650437 \n\" style=\"fill:none;stroke:#92c6ff;\"/>\n    <path clip-path=\"url(#p94c62639ae)\" d=\"M 133.380394 343.958437 \nL 133.380394 327.650437 \n\" style=\"fill:none;stroke:#92c6ff;\"/>\n    <path clip-path=\"url(#p94c62639ae)\" d=\"M 194.526916 343.958437 \nL 194.526916 327.650437 \n\" style=\"fill:none;stroke:#92c6ff;\"/>\n    <path clip-path=\"url(#p94c62639ae)\" d=\"M 272.135964 343.958437 \nL 272.135964 327.650437 \n\" style=\"fill:none;stroke:#92c6ff;\"/>\n    <path clip-path=\"url(#p94c62639ae)\" d=\"M 243.914492 343.958437 \nL 243.914492 327.650437 \n\" style=\"fill:none;stroke:#92c6ff;\"/>\n    <path clip-path=\"url(#p94c62639ae)\" d=\"M 119.269659 343.958437 \nL 119.269659 327.650437 \n\" style=\"fill:none;stroke:#92c6ff;\"/>\n    <path clip-path=\"url(#p94c62639ae)\" d=\"M 208.637652 343.958437 \nL 208.637652 327.650437 \n\" style=\"fill:none;stroke:#92c6ff;\"/>\n    <path clip-path=\"url(#p94c62639ae)\" d=\"M 121.621448 343.958437 \nL 121.621448 327.650437 \n\" style=\"fill:none;stroke:#92c6ff;\"/>\n    <path clip-path=\"url(#p94c62639ae)\" d=\"M 199.230495 343.958437 \nL 199.230495 327.650437 \n\" style=\"fill:none;stroke:#92c6ff;\"/>\n    <path clip-path=\"url(#p94c62639ae)\" d=\"M 180.416181 343.958437 \nL 180.416181 327.650437 \n\" style=\"fill:none;stroke:#92c6ff;\"/>\n    <path clip-path=\"url(#p94c62639ae)\" d=\"M 239.210913 343.958437 \nL 239.210913 327.650437 \n\" style=\"fill:none;stroke:#92c6ff;\"/>\n    <path clip-path=\"url(#p94c62639ae)\" d=\"M 119.269659 343.958437 \nL 119.269659 327.650437 \n\" style=\"fill:none;stroke:#92c6ff;\"/>\n    <path clip-path=\"url(#p94c62639ae)\" d=\"M 192.175127 343.958437 \nL 192.175127 327.650437 \n\" style=\"fill:none;stroke:#92c6ff;\"/>\n    <path clip-path=\"url(#p94c62639ae)\" d=\"M 147.49113 343.958437 \nL 147.49113 327.650437 \n\" style=\"fill:none;stroke:#92c6ff;\"/>\n    <path clip-path=\"url(#p94c62639ae)\" d=\"M 276.839542 343.958437 \nL 276.839542 327.650437 \n\" style=\"fill:none;stroke:#92c6ff;\"/>\n    <path clip-path=\"url(#p94c62639ae)\" d=\"M 100.455344 343.958437 \nL 100.455344 327.650437 \n\" style=\"fill:none;stroke:#92c6ff;\"/>\n    <path clip-path=\"url(#p94c62639ae)\" d=\"M 215.69302 343.958437 \nL 215.69302 327.650437 \n\" style=\"fill:none;stroke:#92c6ff;\"/>\n    <path clip-path=\"url(#p94c62639ae)\" d=\"M 276.839542 343.958437 \nL 276.839542 327.650437 \n\" style=\"fill:none;stroke:#92c6ff;\"/>\n    <path clip-path=\"url(#p94c62639ae)\" d=\"M 253.321649 343.958437 \nL 253.321649 327.650437 \n\" style=\"fill:none;stroke:#92c6ff;\"/>\n    <path clip-path=\"url(#p94c62639ae)\" d=\"M 215.69302 343.958437 \nL 215.69302 327.650437 \n\" style=\"fill:none;stroke:#92c6ff;\"/>\n    <path clip-path=\"url(#p94c62639ae)\" d=\"M 185.119759 343.958437 \nL 185.119759 327.650437 \n\" style=\"fill:none;stroke:#92c6ff;\"/>\n    <path clip-path=\"url(#p94c62639ae)\" d=\"M 147.49113 343.958437 \nL 147.49113 327.650437 \n\" style=\"fill:none;stroke:#92c6ff;\"/>\n    <path clip-path=\"url(#p94c62639ae)\" d=\"M 171.009023 343.958437 \nL 171.009023 327.650437 \n\" style=\"fill:none;stroke:#92c6ff;\"/>\n    <path clip-path=\"url(#p94c62639ae)\" d=\"M 152.194709 343.958437 \nL 152.194709 327.650437 \n\" style=\"fill:none;stroke:#92c6ff;\"/>\n    <path clip-path=\"url(#p94c62639ae)\" d=\"M 126.325027 343.958437 \nL 126.325027 327.650437 \n\" style=\"fill:none;stroke:#92c6ff;\"/>\n    <path clip-path=\"url(#p94c62639ae)\" d=\"M 182.76797 343.958437 \nL 182.76797 327.650437 \n\" style=\"fill:none;stroke:#92c6ff;\"/>\n    <path clip-path=\"url(#p94c62639ae)\" d=\"M 109.862501 343.958437 \nL 109.862501 327.650437 \n\" style=\"fill:none;stroke:#92c6ff;\"/>\n    <path clip-path=\"url(#p94c62639ae)\" d=\"M 276.839542 343.958437 \nL 276.839542 327.650437 \n\" style=\"fill:none;stroke:#92c6ff;\"/>\n    <path clip-path=\"url(#p94c62639ae)\" d=\"M 105.158923 343.958437 \nL 105.158923 327.650437 \n\" style=\"fill:none;stroke:#92c6ff;\"/>\n    <path clip-path=\"url(#p94c62639ae)\" d=\"M 116.917869 343.958437 \nL 116.917869 327.650437 \n\" style=\"fill:none;stroke:#92c6ff;\"/>\n    <path clip-path=\"url(#p94c62639ae)\" d=\"M 178.064391 343.958437 \nL 178.064391 327.650437 \n\" style=\"fill:none;stroke:#92c6ff;\"/>\n    <path clip-path=\"url(#p94c62639ae)\" d=\"M 276.839542 343.958437 \nL 276.839542 327.650437 \n\" style=\"fill:none;stroke:#92c6ff;\"/>\n    <path clip-path=\"url(#p94c62639ae)\" d=\"M 225.100177 343.958437 \nL 225.100177 327.650437 \n\" style=\"fill:none;stroke:#92c6ff;\"/>\n    <path clip-path=\"url(#p94c62639ae)\" d=\"M 140.435762 343.958437 \nL 140.435762 327.650437 \n\" style=\"fill:none;stroke:#92c6ff;\"/>\n    <path clip-path=\"url(#p94c62639ae)\" d=\"M 152.194709 343.958437 \nL 152.194709 327.650437 \n\" style=\"fill:none;stroke:#92c6ff;\"/>\n    <path clip-path=\"url(#p94c62639ae)\" d=\"M 154.546498 343.958437 \nL 154.546498 327.650437 \n\" style=\"fill:none;stroke:#92c6ff;\"/>\n    <path clip-path=\"url(#p94c62639ae)\" d=\"M 276.839542 343.958437 \nL 276.839542 327.650437 \n\" style=\"fill:none;stroke:#92c6ff;\"/>\n    <path clip-path=\"url(#p94c62639ae)\" d=\"M 109.862501 343.958437 \nL 109.862501 327.650437 \n\" style=\"fill:none;stroke:#92c6ff;\"/>\n    <path clip-path=\"url(#p94c62639ae)\" d=\"M 276.839542 343.958437 \nL 276.839542 327.650437 \n\" style=\"fill:none;stroke:#92c6ff;\"/>\n    <path clip-path=\"url(#p94c62639ae)\" d=\"M 119.269659 343.958437 \nL 119.269659 327.650437 \n\" style=\"fill:none;stroke:#92c6ff;\"/>\n    <path clip-path=\"url(#p94c62639ae)\" d=\"M 109.862501 343.958437 \nL 109.862501 327.650437 \n\" style=\"fill:none;stroke:#92c6ff;\"/>\n    <path clip-path=\"url(#p94c62639ae)\" d=\"M 213.341231 343.958437 \nL 213.341231 327.650437 \n\" style=\"fill:none;stroke:#92c6ff;\"/>\n    <path clip-path=\"url(#p94c62639ae)\" d=\"M 222.748388 343.958437 \nL 222.748388 327.650437 \n\" style=\"fill:none;stroke:#92c6ff;\"/>\n    <path clip-path=\"url(#p94c62639ae)\" d=\"M 255.673438 343.958437 \nL 255.673438 327.650437 \n\" style=\"fill:none;stroke:#92c6ff;\"/>\n    <path clip-path=\"url(#p94c62639ae)\" d=\"M 276.839542 343.958437 \nL 276.839542 327.650437 \n\" style=\"fill:none;stroke:#92c6ff;\"/>\n    <path clip-path=\"url(#p94c62639ae)\" d=\"M 161.601866 343.958437 \nL 161.601866 327.650437 \n\" style=\"fill:none;stroke:#92c6ff;\"/>\n    <path clip-path=\"url(#p94c62639ae)\" d=\"M 109.862501 343.958437 \nL 109.862501 327.650437 \n\" style=\"fill:none;stroke:#92c6ff;\"/>\n    <path clip-path=\"url(#p94c62639ae)\" d=\"M 276.839542 343.958437 \nL 276.839542 327.650437 \n\" style=\"fill:none;stroke:#92c6ff;\"/>\n    <path clip-path=\"url(#p94c62639ae)\" d=\"M 192.175127 343.958437 \nL 192.175127 327.650437 \n\" style=\"fill:none;stroke:#92c6ff;\"/>\n    <path clip-path=\"url(#p94c62639ae)\" d=\"M 276.839542 343.958437 \nL 276.839542 327.650437 \n\" style=\"fill:none;stroke:#92c6ff;\"/>\n    <path clip-path=\"url(#p94c62639ae)\" d=\"M 152.194709 343.958437 \nL 152.194709 327.650437 \n\" style=\"fill:none;stroke:#92c6ff;\"/>\n    <path clip-path=\"url(#p94c62639ae)\" d=\"M 208.637652 343.958437 \nL 208.637652 327.650437 \n\" style=\"fill:none;stroke:#92c6ff;\"/>\n    <path clip-path=\"url(#p94c62639ae)\" d=\"M 114.56608 343.958437 \nL 114.56608 327.650437 \n\" style=\"fill:none;stroke:#92c6ff;\"/>\n    <path clip-path=\"url(#p94c62639ae)\" d=\"M 236.859124 343.958437 \nL 236.859124 327.650437 \n\" style=\"fill:none;stroke:#92c6ff;\"/>\n    <path clip-path=\"url(#p94c62639ae)\" d=\"M 213.341231 343.958437 \nL 213.341231 327.650437 \n\" style=\"fill:none;stroke:#92c6ff;\"/>\n    <path clip-path=\"url(#p94c62639ae)\" d=\"M 109.862501 343.958437 \nL 109.862501 327.650437 \n\" style=\"fill:none;stroke:#92c6ff;\"/>\n    <path clip-path=\"url(#p94c62639ae)\" d=\"M 159.250077 343.958437 \nL 159.250077 327.650437 \n\" style=\"fill:none;stroke:#92c6ff;\"/>\n    <path clip-path=\"url(#p94c62639ae)\" d=\"M 276.839542 343.958437 \nL 276.839542 327.650437 \n\" style=\"fill:none;stroke:#92c6ff;\"/>\n    <path clip-path=\"url(#p94c62639ae)\" d=\"M 154.546498 343.958437 \nL 154.546498 327.650437 \n\" style=\"fill:none;stroke:#92c6ff;\"/>\n    <path clip-path=\"url(#p94c62639ae)\" d=\"M 262.728806 343.958437 \nL 262.728806 327.650437 \n\" style=\"fill:none;stroke:#92c6ff;\"/>\n    <path clip-path=\"url(#p94c62639ae)\" d=\"M 203.934074 343.958437 \nL 203.934074 327.650437 \n\" style=\"fill:none;stroke:#92c6ff;\"/>\n    <path clip-path=\"url(#p94c62639ae)\" d=\"M 105.158923 343.958437 \nL 105.158923 327.650437 \n\" style=\"fill:none;stroke:#92c6ff;\"/>\n    <path clip-path=\"url(#p94c62639ae)\" d=\"M 276.839542 343.958437 \nL 276.839542 327.650437 \n\" style=\"fill:none;stroke:#92c6ff;\"/>\n    <path clip-path=\"url(#p94c62639ae)\" d=\"M 154.546498 343.958437 \nL 154.546498 327.650437 \n\" style=\"fill:none;stroke:#92c6ff;\"/>\n    <path clip-path=\"url(#p94c62639ae)\" d=\"M 185.119759 343.958437 \nL 185.119759 327.650437 \n\" style=\"fill:none;stroke:#92c6ff;\"/>\n    <path clip-path=\"url(#p94c62639ae)\" d=\"M 112.214291 343.958437 \nL 112.214291 327.650437 \n\" style=\"fill:none;stroke:#92c6ff;\"/>\n    <path clip-path=\"url(#p94c62639ae)\" d=\"M 163.953655 343.958437 \nL 163.953655 327.650437 \n\" style=\"fill:none;stroke:#92c6ff;\"/>\n    <path clip-path=\"url(#p94c62639ae)\" d=\"M 210.989442 343.958437 \nL 210.989442 327.650437 \n\" style=\"fill:none;stroke:#92c6ff;\"/>\n    <path clip-path=\"url(#p94c62639ae)\" d=\"M 154.546498 343.958437 \nL 154.546498 327.650437 \n\" style=\"fill:none;stroke:#92c6ff;\"/>\n    <path clip-path=\"url(#p94c62639ae)\" d=\"M 133.380394 343.958437 \nL 133.380394 327.650437 \n\" style=\"fill:none;stroke:#92c6ff;\"/>\n    <path clip-path=\"url(#p94c62639ae)\" d=\"M 102.807133 343.958437 \nL 102.807133 327.650437 \n\" style=\"fill:none;stroke:#92c6ff;\"/>\n    <path clip-path=\"url(#p94c62639ae)\" d=\"M 227.451967 343.958437 \nL 227.451967 327.650437 \n\" style=\"fill:none;stroke:#92c6ff;\"/>\n    <path clip-path=\"url(#p94c62639ae)\" d=\"M 116.917869 343.958437 \nL 116.917869 327.650437 \n\" style=\"fill:none;stroke:#92c6ff;\"/>\n    <path clip-path=\"url(#p94c62639ae)\" d=\"M 234.507335 343.958437 \nL 234.507335 327.650437 \n\" style=\"fill:none;stroke:#92c6ff;\"/>\n    <path clip-path=\"url(#p94c62639ae)\" d=\"M 236.859124 343.958437 \nL 236.859124 327.650437 \n\" style=\"fill:none;stroke:#92c6ff;\"/>\n    <path clip-path=\"url(#p94c62639ae)\" d=\"M 138.083973 343.958437 \nL 138.083973 327.650437 \n\" style=\"fill:none;stroke:#92c6ff;\"/>\n    <path clip-path=\"url(#p94c62639ae)\" d=\"M 194.526916 343.958437 \nL 194.526916 327.650437 \n\" style=\"fill:none;stroke:#92c6ff;\"/>\n    <path clip-path=\"url(#p94c62639ae)\" d=\"M 142.787552 343.958437 \nL 142.787552 327.650437 \n\" style=\"fill:none;stroke:#92c6ff;\"/>\n    <path clip-path=\"url(#p94c62639ae)\" d=\"M 105.158923 343.958437 \nL 105.158923 327.650437 \n\" style=\"fill:none;stroke:#92c6ff;\"/>\n    <path clip-path=\"url(#p94c62639ae)\" d=\"M 276.839542 343.958437 \nL 276.839542 327.650437 \n\" style=\"fill:none;stroke:#92c6ff;\"/>\n    <path clip-path=\"url(#p94c62639ae)\" d=\"M 119.269659 343.958437 \nL 119.269659 327.650437 \n\" style=\"fill:none;stroke:#92c6ff;\"/>\n    <path clip-path=\"url(#p94c62639ae)\" d=\"M 142.787552 343.958437 \nL 142.787552 327.650437 \n\" style=\"fill:none;stroke:#92c6ff;\"/>\n    <path clip-path=\"url(#p94c62639ae)\" d=\"M 171.009023 343.958437 \nL 171.009023 327.650437 \n\" style=\"fill:none;stroke:#92c6ff;\"/>\n    <path clip-path=\"url(#p94c62639ae)\" d=\"M 234.507335 343.958437 \nL 234.507335 327.650437 \n\" style=\"fill:none;stroke:#92c6ff;\"/>\n    <path clip-path=\"url(#p94c62639ae)\" d=\"M 133.380394 343.958437 \nL 133.380394 327.650437 \n\" style=\"fill:none;stroke:#92c6ff;\"/>\n    <path clip-path=\"url(#p94c62639ae)\" d=\"M 163.953655 343.958437 \nL 163.953655 327.650437 \n\" style=\"fill:none;stroke:#92c6ff;\"/>\n    <path clip-path=\"url(#p94c62639ae)\" d=\"M 201.582284 343.958437 \nL 201.582284 327.650437 \n\" style=\"fill:none;stroke:#92c6ff;\"/>\n    <path clip-path=\"url(#p94c62639ae)\" d=\"M 218.04481 343.958437 \nL 218.04481 327.650437 \n\" style=\"fill:none;stroke:#92c6ff;\"/>\n    <path clip-path=\"url(#p94c62639ae)\" d=\"M 215.69302 343.958437 \nL 215.69302 327.650437 \n\" style=\"fill:none;stroke:#92c6ff;\"/>\n    <path clip-path=\"url(#p94c62639ae)\" d=\"M 109.862501 343.958437 \nL 109.862501 327.650437 \n\" style=\"fill:none;stroke:#92c6ff;\"/>\n    <path clip-path=\"url(#p94c62639ae)\" d=\"M 166.305445 343.958437 \nL 166.305445 327.650437 \n\" style=\"fill:none;stroke:#92c6ff;\"/>\n    <path clip-path=\"url(#p94c62639ae)\" d=\"M 159.250077 343.958437 \nL 159.250077 327.650437 \n\" style=\"fill:none;stroke:#92c6ff;\"/>\n    <path clip-path=\"url(#p94c62639ae)\" d=\"M 213.341231 343.958437 \nL 213.341231 327.650437 \n\" style=\"fill:none;stroke:#92c6ff;\"/>\n    <path clip-path=\"url(#p94c62639ae)\" d=\"M 116.917869 343.958437 \nL 116.917869 327.650437 \n\" style=\"fill:none;stroke:#92c6ff;\"/>\n    <path clip-path=\"url(#p94c62639ae)\" d=\"M 128.676816 343.958437 \nL 128.676816 327.650437 \n\" style=\"fill:none;stroke:#92c6ff;\"/>\n    <path clip-path=\"url(#p94c62639ae)\" d=\"M 196.878706 343.958437 \nL 196.878706 327.650437 \n\" style=\"fill:none;stroke:#92c6ff;\"/>\n    <path clip-path=\"url(#p94c62639ae)\" d=\"M 243.914492 343.958437 \nL 243.914492 327.650437 \n\" style=\"fill:none;stroke:#92c6ff;\"/>\n    <path clip-path=\"url(#p94c62639ae)\" d=\"M 258.025228 343.958437 \nL 258.025228 327.650437 \n\" style=\"fill:none;stroke:#92c6ff;\"/>\n    <path clip-path=\"url(#p94c62639ae)\" d=\"M 258.025228 343.958437 \nL 258.025228 327.650437 \n\" style=\"fill:none;stroke:#92c6ff;\"/>\n    <path clip-path=\"url(#p94c62639ae)\" d=\"M 276.839542 343.958437 \nL 276.839542 327.650437 \n\" style=\"fill:none;stroke:#92c6ff;\"/>\n    <path clip-path=\"url(#p94c62639ae)\" d=\"M 140.435762 343.958437 \nL 140.435762 327.650437 \n\" style=\"fill:none;stroke:#92c6ff;\"/>\n    <path clip-path=\"url(#p94c62639ae)\" d=\"M 100.455344 343.958437 \nL 100.455344 327.650437 \n\" style=\"fill:none;stroke:#92c6ff;\"/>\n    <path clip-path=\"url(#p94c62639ae)\" d=\"M 265.080596 343.958437 \nL 265.080596 327.650437 \n\" style=\"fill:none;stroke:#92c6ff;\"/>\n    <path clip-path=\"url(#p94c62639ae)\" d=\"M 114.56608 343.958437 \nL 114.56608 327.650437 \n\" style=\"fill:none;stroke:#92c6ff;\"/>\n    <path clip-path=\"url(#p94c62639ae)\" d=\"M 161.601866 343.958437 \nL 161.601866 327.650437 \n\" style=\"fill:none;stroke:#92c6ff;\"/>\n    <path clip-path=\"url(#p94c62639ae)\" d=\"M 135.732184 343.958437 \nL 135.732184 327.650437 \n\" style=\"fill:none;stroke:#92c6ff;\"/>\n    <path clip-path=\"url(#p94c62639ae)\" d=\"M 255.673438 343.958437 \nL 255.673438 327.650437 \n\" style=\"fill:none;stroke:#92c6ff;\"/>\n    <path clip-path=\"url(#p94c62639ae)\" d=\"M 262.728806 343.958437 \nL 262.728806 327.650437 \n\" style=\"fill:none;stroke:#92c6ff;\"/>\n    <path clip-path=\"url(#p94c62639ae)\" d=\"M 189.823338 343.958437 \nL 189.823338 327.650437 \n\" style=\"fill:none;stroke:#92c6ff;\"/>\n    <path clip-path=\"url(#p94c62639ae)\" d=\"M 222.748388 343.958437 \nL 222.748388 327.650437 \n\" style=\"fill:none;stroke:#92c6ff;\"/>\n    <path clip-path=\"url(#p94c62639ae)\" d=\"M 189.823338 343.958437 \nL 189.823338 327.650437 \n\" style=\"fill:none;stroke:#92c6ff;\"/>\n    <path clip-path=\"url(#p94c62639ae)\" d=\"M 114.56608 343.958437 \nL 114.56608 327.650437 \n\" style=\"fill:none;stroke:#92c6ff;\"/>\n    <path clip-path=\"url(#p94c62639ae)\" d=\"M 265.080596 343.958437 \nL 265.080596 327.650437 \n\" style=\"fill:none;stroke:#92c6ff;\"/>\n    <path clip-path=\"url(#p94c62639ae)\" d=\"M 119.269659 343.958437 \nL 119.269659 327.650437 \n\" style=\"fill:none;stroke:#92c6ff;\"/>\n    <path clip-path=\"url(#p94c62639ae)\" d=\"M 276.839542 343.958437 \nL 276.839542 327.650437 \n\" style=\"fill:none;stroke:#92c6ff;\"/>\n    <path clip-path=\"url(#p94c62639ae)\" d=\"M 112.214291 343.958437 \nL 112.214291 327.650437 \n\" style=\"fill:none;stroke:#92c6ff;\"/>\n    <path clip-path=\"url(#p94c62639ae)\" d=\"M 260.377017 343.958437 \nL 260.377017 327.650437 \n\" style=\"fill:none;stroke:#92c6ff;\"/>\n    <path clip-path=\"url(#p94c62639ae)\" d=\"M 265.080596 343.958437 \nL 265.080596 327.650437 \n\" style=\"fill:none;stroke:#92c6ff;\"/>\n    <path clip-path=\"url(#p94c62639ae)\" d=\"M 156.898288 343.958437 \nL 156.898288 327.650437 \n\" style=\"fill:none;stroke:#92c6ff;\"/>\n    <path clip-path=\"url(#p94c62639ae)\" d=\"M 156.898288 343.958437 \nL 156.898288 327.650437 \n\" style=\"fill:none;stroke:#92c6ff;\"/>\n    <path clip-path=\"url(#p94c62639ae)\" d=\"M 123.973237 343.958437 \nL 123.973237 327.650437 \n\" style=\"fill:none;stroke:#92c6ff;\"/>\n    <path clip-path=\"url(#p94c62639ae)\" d=\"M 105.158923 343.958437 \nL 105.158923 327.650437 \n\" style=\"fill:none;stroke:#92c6ff;\"/>\n    <path clip-path=\"url(#p94c62639ae)\" d=\"M 123.973237 343.958437 \nL 123.973237 327.650437 \n\" style=\"fill:none;stroke:#92c6ff;\"/>\n    <path clip-path=\"url(#p94c62639ae)\" d=\"M 171.009023 343.958437 \nL 171.009023 327.650437 \n\" style=\"fill:none;stroke:#92c6ff;\"/>\n    <path clip-path=\"url(#p94c62639ae)\" d=\"M 123.973237 343.958437 \nL 123.973237 327.650437 \n\" style=\"fill:none;stroke:#92c6ff;\"/>\n    <path clip-path=\"url(#p94c62639ae)\" d=\"M 187.471549 343.958437 \nL 187.471549 327.650437 \n\" style=\"fill:none;stroke:#92c6ff;\"/>\n    <path clip-path=\"url(#p94c62639ae)\" d=\"M 222.748388 343.958437 \nL 222.748388 327.650437 \n\" style=\"fill:none;stroke:#92c6ff;\"/>\n    <path clip-path=\"url(#p94c62639ae)\" d=\"M 182.76797 343.958437 \nL 182.76797 327.650437 \n\" style=\"fill:none;stroke:#92c6ff;\"/>\n    <path clip-path=\"url(#p94c62639ae)\" d=\"M 145.139341 343.958437 \nL 145.139341 327.650437 \n\" style=\"fill:none;stroke:#92c6ff;\"/>\n    <path clip-path=\"url(#p94c62639ae)\" d=\"M 114.56608 343.958437 \nL 114.56608 327.650437 \n\" style=\"fill:none;stroke:#92c6ff;\"/>\n    <path clip-path=\"url(#p94c62639ae)\" d=\"M 276.839542 343.958437 \nL 276.839542 327.650437 \n\" style=\"fill:none;stroke:#92c6ff;\"/>\n    <path clip-path=\"url(#p94c62639ae)\" d=\"M 196.878706 343.958437 \nL 196.878706 327.650437 \n\" style=\"fill:none;stroke:#92c6ff;\"/>\n    <path clip-path=\"url(#p94c62639ae)\" d=\"M 116.917869 343.958437 \nL 116.917869 327.650437 \n\" style=\"fill:none;stroke:#92c6ff;\"/>\n    <path clip-path=\"url(#p94c62639ae)\" d=\"M 149.84292 343.958437 \nL 149.84292 327.650437 \n\" style=\"fill:none;stroke:#92c6ff;\"/>\n    <path clip-path=\"url(#p94c62639ae)\" d=\"M 105.158923 343.958437 \nL 105.158923 327.650437 \n\" style=\"fill:none;stroke:#92c6ff;\"/>\n    <path clip-path=\"url(#p94c62639ae)\" d=\"M 135.732184 343.958437 \nL 135.732184 327.650437 \n\" style=\"fill:none;stroke:#92c6ff;\"/>\n    <path clip-path=\"url(#p94c62639ae)\" d=\"M 265.080596 343.958437 \nL 265.080596 327.650437 \n\" style=\"fill:none;stroke:#92c6ff;\"/>\n    <path clip-path=\"url(#p94c62639ae)\" d=\"M 161.601866 343.958437 \nL 161.601866 327.650437 \n\" style=\"fill:none;stroke:#92c6ff;\"/>\n    <path clip-path=\"url(#p94c62639ae)\" d=\"M 140.435762 343.958437 \nL 140.435762 327.650437 \n\" style=\"fill:none;stroke:#92c6ff;\"/>\n    <path clip-path=\"url(#p94c62639ae)\" d=\"M 119.269659 343.958437 \nL 119.269659 327.650437 \n\" style=\"fill:none;stroke:#92c6ff;\"/>\n    <path clip-path=\"url(#p94c62639ae)\" d=\"M 234.507335 343.958437 \nL 234.507335 327.650437 \n\" style=\"fill:none;stroke:#92c6ff;\"/>\n    <path clip-path=\"url(#p94c62639ae)\" d=\"M 182.76797 343.958437 \nL 182.76797 327.650437 \n\" style=\"fill:none;stroke:#92c6ff;\"/>\n    <path clip-path=\"url(#p94c62639ae)\" d=\"M 123.973237 343.958437 \nL 123.973237 327.650437 \n\" style=\"fill:none;stroke:#92c6ff;\"/>\n    <path clip-path=\"url(#p94c62639ae)\" d=\"M 276.839542 343.958437 \nL 276.839542 327.650437 \n\" style=\"fill:none;stroke:#92c6ff;\"/>\n    <path clip-path=\"url(#p94c62639ae)\" d=\"M 163.953655 343.958437 \nL 163.953655 327.650437 \n\" style=\"fill:none;stroke:#92c6ff;\"/>\n    <path clip-path=\"url(#p94c62639ae)\" d=\"M 189.823338 343.958437 \nL 189.823338 327.650437 \n\" style=\"fill:none;stroke:#92c6ff;\"/>\n    <path clip-path=\"url(#p94c62639ae)\" d=\"M 241.562703 343.958437 \nL 241.562703 327.650437 \n\" style=\"fill:none;stroke:#92c6ff;\"/>\n    <path clip-path=\"url(#p94c62639ae)\" d=\"M 154.546498 343.958437 \nL 154.546498 327.650437 \n\" style=\"fill:none;stroke:#92c6ff;\"/>\n    <path clip-path=\"url(#p94c62639ae)\" d=\"M 163.953655 343.958437 \nL 163.953655 327.650437 \n\" style=\"fill:none;stroke:#92c6ff;\"/>\n    <path clip-path=\"url(#p94c62639ae)\" d=\"M 215.69302 343.958437 \nL 215.69302 327.650437 \n\" style=\"fill:none;stroke:#92c6ff;\"/>\n    <path clip-path=\"url(#p94c62639ae)\" d=\"M 213.341231 343.958437 \nL 213.341231 327.650437 \n\" style=\"fill:none;stroke:#92c6ff;\"/>\n    <path clip-path=\"url(#p94c62639ae)\" d=\"M 161.601866 343.958437 \nL 161.601866 327.650437 \n\" style=\"fill:none;stroke:#92c6ff;\"/>\n    <path clip-path=\"url(#p94c62639ae)\" d=\"M 128.676816 343.958437 \nL 128.676816 327.650437 \n\" style=\"fill:none;stroke:#92c6ff;\"/>\n    <path clip-path=\"url(#p94c62639ae)\" d=\"M 201.582284 343.958437 \nL 201.582284 327.650437 \n\" style=\"fill:none;stroke:#92c6ff;\"/>\n    <path clip-path=\"url(#p94c62639ae)\" d=\"M 105.158923 343.958437 \nL 105.158923 327.650437 \n\" style=\"fill:none;stroke:#92c6ff;\"/>\n    <path clip-path=\"url(#p94c62639ae)\" d=\"M 215.69302 343.958437 \nL 215.69302 327.650437 \n\" style=\"fill:none;stroke:#92c6ff;\"/>\n    <path clip-path=\"url(#p94c62639ae)\" d=\"M 116.917869 343.958437 \nL 116.917869 327.650437 \n\" style=\"fill:none;stroke:#92c6ff;\"/>\n    <path clip-path=\"url(#p94c62639ae)\" d=\"M 149.84292 343.958437 \nL 149.84292 327.650437 \n\" style=\"fill:none;stroke:#92c6ff;\"/>\n    <path clip-path=\"url(#p94c62639ae)\" d=\"M 163.953655 343.958437 \nL 163.953655 327.650437 \n\" style=\"fill:none;stroke:#92c6ff;\"/>\n    <path clip-path=\"url(#p94c62639ae)\" d=\"M 123.973237 343.958437 \nL 123.973237 327.650437 \n\" style=\"fill:none;stroke:#92c6ff;\"/>\n    <path clip-path=\"url(#p94c62639ae)\" d=\"M 276.839542 343.958437 \nL 276.839542 327.650437 \n\" style=\"fill:none;stroke:#92c6ff;\"/>\n    <path clip-path=\"url(#p94c62639ae)\" d=\"M 123.973237 343.958437 \nL 123.973237 327.650437 \n\" style=\"fill:none;stroke:#92c6ff;\"/>\n    <path clip-path=\"url(#p94c62639ae)\" d=\"M 161.601866 343.958437 \nL 161.601866 327.650437 \n\" style=\"fill:none;stroke:#92c6ff;\"/>\n    <path clip-path=\"url(#p94c62639ae)\" d=\"M 189.823338 343.958437 \nL 189.823338 327.650437 \n\" style=\"fill:none;stroke:#92c6ff;\"/>\n    <path clip-path=\"url(#p94c62639ae)\" d=\"M 276.839542 343.958437 \nL 276.839542 327.650437 \n\" style=\"fill:none;stroke:#92c6ff;\"/>\n    <path clip-path=\"url(#p94c62639ae)\" d=\"M 218.04481 343.958437 \nL 218.04481 327.650437 \n\" style=\"fill:none;stroke:#92c6ff;\"/>\n    <path clip-path=\"url(#p94c62639ae)\" d=\"M 128.676816 343.958437 \nL 128.676816 327.650437 \n\" style=\"fill:none;stroke:#92c6ff;\"/>\n    <path clip-path=\"url(#p94c62639ae)\" d=\"M 163.953655 343.958437 \nL 163.953655 327.650437 \n\" style=\"fill:none;stroke:#92c6ff;\"/>\n    <path clip-path=\"url(#p94c62639ae)\" d=\"M 121.621448 343.958437 \nL 121.621448 327.650437 \n\" style=\"fill:none;stroke:#92c6ff;\"/>\n    <path clip-path=\"url(#p94c62639ae)\" d=\"M 194.526916 343.958437 \nL 194.526916 327.650437 \n\" style=\"fill:none;stroke:#92c6ff;\"/>\n    <path clip-path=\"url(#p94c62639ae)\" d=\"M 248.618071 343.958437 \nL 248.618071 327.650437 \n\" style=\"fill:none;stroke:#92c6ff;\"/>\n    <path clip-path=\"url(#p94c62639ae)\" d=\"M 187.471549 343.958437 \nL 187.471549 327.650437 \n\" style=\"fill:none;stroke:#92c6ff;\"/>\n    <path clip-path=\"url(#p94c62639ae)\" d=\"M 145.139341 343.958437 \nL 145.139341 327.650437 \n\" style=\"fill:none;stroke:#92c6ff;\"/>\n    <path clip-path=\"url(#p94c62639ae)\" d=\"M 171.009023 343.958437 \nL 171.009023 327.650437 \n\" style=\"fill:none;stroke:#92c6ff;\"/>\n    <path clip-path=\"url(#p94c62639ae)\" d=\"M 102.807133 343.958437 \nL 102.807133 327.650437 \n\" style=\"fill:none;stroke:#92c6ff;\"/>\n    <path clip-path=\"url(#p94c62639ae)\" d=\"M 276.839542 343.958437 \nL 276.839542 327.650437 \n\" style=\"fill:none;stroke:#92c6ff;\"/>\n    <path clip-path=\"url(#p94c62639ae)\" d=\"M 269.784174 343.958437 \nL 269.784174 327.650437 \n\" style=\"fill:none;stroke:#92c6ff;\"/>\n    <path clip-path=\"url(#p94c62639ae)\" d=\"M 147.49113 343.958437 \nL 147.49113 327.650437 \n\" style=\"fill:none;stroke:#92c6ff;\"/>\n    <path clip-path=\"url(#p94c62639ae)\" d=\"M 152.194709 343.958437 \nL 152.194709 327.650437 \n\" style=\"fill:none;stroke:#92c6ff;\"/>\n    <path clip-path=\"url(#p94c62639ae)\" d=\"M 192.175127 343.958437 \nL 192.175127 327.650437 \n\" style=\"fill:none;stroke:#92c6ff;\"/>\n    <path clip-path=\"url(#p94c62639ae)\" d=\"M 173.360813 343.958437 \nL 173.360813 327.650437 \n\" style=\"fill:none;stroke:#92c6ff;\"/>\n    <path clip-path=\"url(#p94c62639ae)\" d=\"M 149.84292 343.958437 \nL 149.84292 327.650437 \n\" style=\"fill:none;stroke:#92c6ff;\"/>\n    <path clip-path=\"url(#p94c62639ae)\" d=\"M 276.839542 343.958437 \nL 276.839542 327.650437 \n\" style=\"fill:none;stroke:#92c6ff;\"/>\n    <path clip-path=\"url(#p94c62639ae)\" d=\"M 171.009023 343.958437 \nL 171.009023 327.650437 \n\" style=\"fill:none;stroke:#92c6ff;\"/>\n    <path clip-path=\"url(#p94c62639ae)\" d=\"M 116.917869 343.958437 \nL 116.917869 327.650437 \n\" style=\"fill:none;stroke:#92c6ff;\"/>\n    <path clip-path=\"url(#p94c62639ae)\" d=\"M 123.973237 343.958437 \nL 123.973237 327.650437 \n\" style=\"fill:none;stroke:#92c6ff;\"/>\n    <path clip-path=\"url(#p94c62639ae)\" d=\"M 142.787552 343.958437 \nL 142.787552 327.650437 \n\" style=\"fill:none;stroke:#92c6ff;\"/>\n    <path clip-path=\"url(#p94c62639ae)\" d=\"M 121.621448 343.958437 \nL 121.621448 327.650437 \n\" style=\"fill:none;stroke:#92c6ff;\"/>\n    <path clip-path=\"url(#p94c62639ae)\" d=\"M 123.973237 343.958437 \nL 123.973237 327.650437 \n\" style=\"fill:none;stroke:#92c6ff;\"/>\n    <path clip-path=\"url(#p94c62639ae)\" d=\"M 276.839542 343.958437 \nL 276.839542 327.650437 \n\" style=\"fill:none;stroke:#92c6ff;\"/>\n    <path clip-path=\"url(#p94c62639ae)\" d=\"M 145.139341 343.958437 \nL 145.139341 327.650437 \n\" style=\"fill:none;stroke:#92c6ff;\"/>\n    <path clip-path=\"url(#p94c62639ae)\" d=\"M 156.898288 343.958437 \nL 156.898288 327.650437 \n\" style=\"fill:none;stroke:#92c6ff;\"/>\n    <path clip-path=\"url(#p94c62639ae)\" d=\"M 276.839542 343.958437 \nL 276.839542 327.650437 \n\" style=\"fill:none;stroke:#92c6ff;\"/>\n    <path clip-path=\"url(#p94c62639ae)\" d=\"M 276.839542 343.958437 \nL 276.839542 327.650437 \n\" style=\"fill:none;stroke:#92c6ff;\"/>\n    <path clip-path=\"url(#p94c62639ae)\" d=\"M 175.712602 343.958437 \nL 175.712602 327.650437 \n\" style=\"fill:none;stroke:#92c6ff;\"/>\n    <path clip-path=\"url(#p94c62639ae)\" d=\"M 135.732184 343.958437 \nL 135.732184 327.650437 \n\" style=\"fill:none;stroke:#92c6ff;\"/>\n    <path clip-path=\"url(#p94c62639ae)\" d=\"M 276.839542 343.958437 \nL 276.839542 327.650437 \n\" style=\"fill:none;stroke:#92c6ff;\"/>\n    <path clip-path=\"url(#p94c62639ae)\" d=\"M 126.325027 343.958437 \nL 126.325027 327.650437 \n\" style=\"fill:none;stroke:#92c6ff;\"/>\n    <path clip-path=\"url(#p94c62639ae)\" d=\"M 215.69302 343.958437 \nL 215.69302 327.650437 \n\" style=\"fill:none;stroke:#92c6ff;\"/>\n    <path clip-path=\"url(#p94c62639ae)\" d=\"M 243.914492 343.958437 \nL 243.914492 327.650437 \n\" style=\"fill:none;stroke:#92c6ff;\"/>\n    <path clip-path=\"url(#p94c62639ae)\" d=\"M 128.676816 343.958437 \nL 128.676816 327.650437 \n\" style=\"fill:none;stroke:#92c6ff;\"/>\n    <path clip-path=\"url(#p94c62639ae)\" d=\"M 241.562703 343.958437 \nL 241.562703 327.650437 \n\" style=\"fill:none;stroke:#92c6ff;\"/>\n    <path clip-path=\"url(#p94c62639ae)\" d=\"M 276.839542 343.958437 \nL 276.839542 327.650437 \n\" style=\"fill:none;stroke:#92c6ff;\"/>\n    <path clip-path=\"url(#p94c62639ae)\" d=\"M 171.009023 343.958437 \nL 171.009023 327.650437 \n\" style=\"fill:none;stroke:#92c6ff;\"/>\n    <path clip-path=\"url(#p94c62639ae)\" d=\"M 243.914492 343.958437 \nL 243.914492 327.650437 \n\" style=\"fill:none;stroke:#92c6ff;\"/>\n    <path clip-path=\"url(#p94c62639ae)\" d=\"M 203.934074 343.958437 \nL 203.934074 327.650437 \n\" style=\"fill:none;stroke:#92c6ff;\"/>\n    <path clip-path=\"url(#p94c62639ae)\" d=\"M 276.839542 343.958437 \nL 276.839542 327.650437 \n\" style=\"fill:none;stroke:#92c6ff;\"/>\n    <path clip-path=\"url(#p94c62639ae)\" d=\"M 178.064391 343.958437 \nL 178.064391 327.650437 \n\" style=\"fill:none;stroke:#92c6ff;\"/>\n    <path clip-path=\"url(#p94c62639ae)\" d=\"M 152.194709 343.958437 \nL 152.194709 327.650437 \n\" style=\"fill:none;stroke:#92c6ff;\"/>\n    <path clip-path=\"url(#p94c62639ae)\" d=\"M 126.325027 343.958437 \nL 126.325027 327.650437 \n\" style=\"fill:none;stroke:#92c6ff;\"/>\n    <path clip-path=\"url(#p94c62639ae)\" d=\"M 192.175127 343.958437 \nL 192.175127 327.650437 \n\" style=\"fill:none;stroke:#92c6ff;\"/>\n    <path clip-path=\"url(#p94c62639ae)\" d=\"M 145.139341 343.958437 \nL 145.139341 327.650437 \n\" style=\"fill:none;stroke:#92c6ff;\"/>\n    <path clip-path=\"url(#p94c62639ae)\" d=\"M 272.135964 343.958437 \nL 272.135964 327.650437 \n\" style=\"fill:none;stroke:#92c6ff;\"/>\n    <path clip-path=\"url(#p94c62639ae)\" d=\"M 166.305445 343.958437 \nL 166.305445 327.650437 \n\" style=\"fill:none;stroke:#92c6ff;\"/>\n    <path clip-path=\"url(#p94c62639ae)\" d=\"M 239.210913 343.958437 \nL 239.210913 327.650437 \n\" style=\"fill:none;stroke:#92c6ff;\"/>\n    <path clip-path=\"url(#p94c62639ae)\" d=\"M 220.396599 343.958437 \nL 220.396599 327.650437 \n\" style=\"fill:none;stroke:#92c6ff;\"/>\n    <path clip-path=\"url(#p94c62639ae)\" d=\"M 206.285863 343.958437 \nL 206.285863 327.650437 \n\" style=\"fill:none;stroke:#92c6ff;\"/>\n    <path clip-path=\"url(#p94c62639ae)\" d=\"M 152.194709 343.958437 \nL 152.194709 327.650437 \n\" style=\"fill:none;stroke:#92c6ff;\"/>\n    <path clip-path=\"url(#p94c62639ae)\" d=\"M 152.194709 343.958437 \nL 152.194709 327.650437 \n\" style=\"fill:none;stroke:#92c6ff;\"/>\n    <path clip-path=\"url(#p94c62639ae)\" d=\"M 187.471549 343.958437 \nL 187.471549 327.650437 \n\" style=\"fill:none;stroke:#92c6ff;\"/>\n    <path clip-path=\"url(#p94c62639ae)\" d=\"M 116.917869 343.958437 \nL 116.917869 327.650437 \n\" style=\"fill:none;stroke:#92c6ff;\"/>\n    <path clip-path=\"url(#p94c62639ae)\" d=\"M 203.934074 343.958437 \nL 203.934074 327.650437 \n\" style=\"fill:none;stroke:#92c6ff;\"/>\n    <path clip-path=\"url(#p94c62639ae)\" d=\"M 105.158923 343.958437 \nL 105.158923 327.650437 \n\" style=\"fill:none;stroke:#92c6ff;\"/>\n    <path clip-path=\"url(#p94c62639ae)\" d=\"M 149.84292 343.958437 \nL 149.84292 327.650437 \n\" style=\"fill:none;stroke:#92c6ff;\"/>\n    <path clip-path=\"url(#p94c62639ae)\" d=\"M 159.250077 343.958437 \nL 159.250077 327.650437 \n\" style=\"fill:none;stroke:#92c6ff;\"/>\n    <path clip-path=\"url(#p94c62639ae)\" d=\"M 236.859124 343.958437 \nL 236.859124 327.650437 \n\" style=\"fill:none;stroke:#92c6ff;\"/>\n    <path clip-path=\"url(#p94c62639ae)\" d=\"M 119.269659 343.958437 \nL 119.269659 327.650437 \n\" style=\"fill:none;stroke:#92c6ff;\"/>\n    <path clip-path=\"url(#p94c62639ae)\" d=\"M 147.49113 343.958437 \nL 147.49113 327.650437 \n\" style=\"fill:none;stroke:#92c6ff;\"/>\n    <path clip-path=\"url(#p94c62639ae)\" d=\"M 100.455344 343.958437 \nL 100.455344 327.650437 \n\" style=\"fill:none;stroke:#92c6ff;\"/>\n    <path clip-path=\"url(#p94c62639ae)\" d=\"M 276.839542 343.958437 \nL 276.839542 327.650437 \n\" style=\"fill:none;stroke:#92c6ff;\"/>\n    <path clip-path=\"url(#p94c62639ae)\" d=\"M 276.839542 343.958437 \nL 276.839542 327.650437 \n\" style=\"fill:none;stroke:#92c6ff;\"/>\n    <path clip-path=\"url(#p94c62639ae)\" d=\"M 168.657234 343.958437 \nL 168.657234 327.650437 \n\" style=\"fill:none;stroke:#92c6ff;\"/>\n    <path clip-path=\"url(#p94c62639ae)\" d=\"M 227.451967 343.958437 \nL 227.451967 327.650437 \n\" style=\"fill:none;stroke:#92c6ff;\"/>\n    <path clip-path=\"url(#p94c62639ae)\" d=\"M 210.989442 343.958437 \nL 210.989442 327.650437 \n\" style=\"fill:none;stroke:#92c6ff;\"/>\n    <path clip-path=\"url(#p94c62639ae)\" d=\"M 182.76797 343.958437 \nL 182.76797 327.650437 \n\" style=\"fill:none;stroke:#92c6ff;\"/>\n    <path clip-path=\"url(#p94c62639ae)\" d=\"M 116.917869 343.958437 \nL 116.917869 327.650437 \n\" style=\"fill:none;stroke:#92c6ff;\"/>\n    <path clip-path=\"url(#p94c62639ae)\" d=\"M 215.69302 343.958437 \nL 215.69302 327.650437 \n\" style=\"fill:none;stroke:#92c6ff;\"/>\n    <path clip-path=\"url(#p94c62639ae)\" d=\"M 109.862501 343.958437 \nL 109.862501 327.650437 \n\" style=\"fill:none;stroke:#92c6ff;\"/>\n    <path clip-path=\"url(#p94c62639ae)\" d=\"M 161.601866 343.958437 \nL 161.601866 327.650437 \n\" style=\"fill:none;stroke:#92c6ff;\"/>\n    <path clip-path=\"url(#p94c62639ae)\" d=\"M 102.807133 343.958437 \nL 102.807133 327.650437 \n\" style=\"fill:none;stroke:#92c6ff;\"/>\n    <path clip-path=\"url(#p94c62639ae)\" d=\"M 107.510712 343.958437 \nL 107.510712 327.650437 \n\" style=\"fill:none;stroke:#92c6ff;\"/>\n    <path clip-path=\"url(#p94c62639ae)\" d=\"M 105.158923 343.958437 \nL 105.158923 327.650437 \n\" style=\"fill:none;stroke:#92c6ff;\"/>\n    <path clip-path=\"url(#p94c62639ae)\" d=\"M 121.621448 343.958437 \nL 121.621448 327.650437 \n\" style=\"fill:none;stroke:#92c6ff;\"/>\n    <path clip-path=\"url(#p94c62639ae)\" d=\"M 147.49113 343.958437 \nL 147.49113 327.650437 \n\" style=\"fill:none;stroke:#92c6ff;\"/>\n    <path clip-path=\"url(#p94c62639ae)\" d=\"M 276.839542 343.958437 \nL 276.839542 327.650437 \n\" style=\"fill:none;stroke:#92c6ff;\"/>\n    <path clip-path=\"url(#p94c62639ae)\" d=\"M 100.455344 343.958437 \nL 100.455344 327.650437 \n\" style=\"fill:none;stroke:#92c6ff;\"/>\n    <path clip-path=\"url(#p94c62639ae)\" d=\"M 166.305445 343.958437 \nL 166.305445 327.650437 \n\" style=\"fill:none;stroke:#92c6ff;\"/>\n    <path clip-path=\"url(#p94c62639ae)\" d=\"M 109.862501 343.958437 \nL 109.862501 327.650437 \n\" style=\"fill:none;stroke:#92c6ff;\"/>\n    <path clip-path=\"url(#p94c62639ae)\" d=\"M 114.56608 343.958437 \nL 114.56608 327.650437 \n\" style=\"fill:none;stroke:#92c6ff;\"/>\n    <path clip-path=\"url(#p94c62639ae)\" d=\"M 243.914492 343.958437 \nL 243.914492 327.650437 \n\" style=\"fill:none;stroke:#92c6ff;\"/>\n    <path clip-path=\"url(#p94c62639ae)\" d=\"M 199.230495 343.958437 \nL 199.230495 327.650437 \n\" style=\"fill:none;stroke:#92c6ff;\"/>\n    <path clip-path=\"url(#p94c62639ae)\" d=\"M 145.139341 343.958437 \nL 145.139341 327.650437 \n\" style=\"fill:none;stroke:#92c6ff;\"/>\n    <path clip-path=\"url(#p94c62639ae)\" d=\"M 246.266281 343.958437 \nL 246.266281 327.650437 \n\" style=\"fill:none;stroke:#92c6ff;\"/>\n    <path clip-path=\"url(#p94c62639ae)\" d=\"M 260.377017 343.958437 \nL 260.377017 327.650437 \n\" style=\"fill:none;stroke:#92c6ff;\"/>\n    <path clip-path=\"url(#p94c62639ae)\" d=\"M 173.360813 343.958437 \nL 173.360813 327.650437 \n\" style=\"fill:none;stroke:#92c6ff;\"/>\n    <path clip-path=\"url(#p94c62639ae)\" d=\"M 135.732184 343.958437 \nL 135.732184 327.650437 \n\" style=\"fill:none;stroke:#92c6ff;\"/>\n    <path clip-path=\"url(#p94c62639ae)\" d=\"M 276.839542 343.958437 \nL 276.839542 327.650437 \n\" style=\"fill:none;stroke:#92c6ff;\"/>\n    <path clip-path=\"url(#p94c62639ae)\" d=\"M 239.210913 343.958437 \nL 239.210913 327.650437 \n\" style=\"fill:none;stroke:#92c6ff;\"/>\n    <path clip-path=\"url(#p94c62639ae)\" d=\"M 199.230495 343.958437 \nL 199.230495 327.650437 \n\" style=\"fill:none;stroke:#92c6ff;\"/>\n    <path clip-path=\"url(#p94c62639ae)\" d=\"M 112.214291 343.958437 \nL 112.214291 327.650437 \n\" style=\"fill:none;stroke:#92c6ff;\"/>\n    <path clip-path=\"url(#p94c62639ae)\" d=\"M 276.839542 343.958437 \nL 276.839542 327.650437 \n\" style=\"fill:none;stroke:#92c6ff;\"/>\n    <path clip-path=\"url(#p94c62639ae)\" d=\"M 112.214291 343.958437 \nL 112.214291 327.650437 \n\" style=\"fill:none;stroke:#92c6ff;\"/>\n    <path clip-path=\"url(#p94c62639ae)\" d=\"M 135.732184 343.958437 \nL 135.732184 327.650437 \n\" style=\"fill:none;stroke:#92c6ff;\"/>\n    <path clip-path=\"url(#p94c62639ae)\" d=\"M 102.807133 343.958437 \nL 102.807133 327.650437 \n\" style=\"fill:none;stroke:#92c6ff;\"/>\n   </g>\n   <g id=\"line2d_17\">\n    <path clip-path=\"url(#p94c62639ae)\" d=\"M 50.300336 343.50131 \nL 53.095227 343.184348 \nL 55.890118 342.680771 \nL 58.685009 341.902566 \nL 61.4799 340.732822 \nL 64.274791 339.022577 \nL 67.069682 336.590428 \nL 69.864573 333.226273 \nL 72.659464 328.700448 \nL 75.454355 322.779027 \nL 78.249246 315.245198 \nL 81.044137 305.925491 \nL 83.839028 294.718408 \nL 86.63392 281.621841 \nL 89.428811 266.755003 \nL 92.223702 250.370498 \nL 95.018593 232.85297 \nL 97.813484 214.702254 \nL 100.608375 196.501152 \nL 103.403266 178.870297 \nL 106.198157 162.414859 \nL 108.993048 147.669464 \nL 111.787939 135.048487 \nL 114.58283 124.808558 \nL 117.377721 117.028716 \nL 120.172612 111.611328 \nL 122.967503 108.303987 \nL 125.762394 106.739555 \nL 128.557285 106.488732 \nL 131.352176 107.117615 \nL 134.147068 108.241872 \nL 136.941959 109.569718 \nL 139.73685 110.927727 \nL 142.531741 112.26639 \nL 145.326632 113.645732 \nL 148.121523 115.204599 \nL 150.916414 117.119805 \nL 153.711305 119.56268 \nL 156.506196 122.660545 \nL 159.301087 126.469179 \nL 162.095978 130.959959 \nL 164.890869 136.02241 \nL 167.68576 141.480182 \nL 170.480651 147.116337 \nL 173.275542 152.702759 \nL 176.070433 158.02851 \nL 178.865324 162.92294 \nL 181.660216 167.270951 \nL 184.455107 171.01959 \nL 187.249998 174.176696 \nL 190.044889 176.803375 \nL 192.83978 179.002445 \nL 195.634671 180.9049 \nL 198.429562 182.655882 \nL 201.224453 184.401131 \nL 204.019344 186.274389 \nL 206.814235 188.386094 \nL 209.609126 190.813735 \nL 212.404017 193.594422 \nL 215.198908 196.720311 \nL 217.993799 200.13745 \nL 220.78869 203.748254 \nL 223.583581 207.41731 \nL 226.378472 210.979785 \nL 229.173364 214.251398 \nL 231.968255 217.039081 \nL 234.763146 219.151864 \nL 237.558037 220.412202 \nL 240.352928 220.668512 \nL 243.147819 219.809849 \nL 245.94271 217.783209 \nL 248.737601 214.612838 \nL 251.532492 210.419353 \nL 254.327383 205.434881 \nL 257.122274 200.009352 \nL 259.917165 194.603082 \nL 262.712056 189.762173 \nL 265.506947 186.076047 \nL 268.301838 184.120141 \nL 271.096729 184.390622 \nL 273.89162 187.240899 \nL 276.686512 192.830799 \nL 279.481403 201.098032 \nL 282.276294 211.758055 \nL 285.071185 224.333356 \nL 287.866076 238.207691 \nL 290.660967 252.696253 \nL 293.455858 267.12019 \nL 296.250749 280.873801 \nL 299.04564 293.475086 \nL 301.840531 304.594252 \nL 304.635422 314.059324 \nL 307.430313 321.841985 \nL 310.225204 328.029538 \nL 313.020095 332.789905 \nL 315.814986 336.336157 \nL 318.609877 338.895531 \nL 321.404769 340.685809 \nL 324.19966 341.9 \nL 326.994551 342.69867 \n\" style=\"fill:none;stroke:#92c6ff;stroke-linecap:square;stroke-width:1.5;\"/>\n   </g>\n   <g id=\"patch_10\">\n    <path d=\"M 36.465625 343.958437 \nL 36.465625 17.798437 \n\" style=\"fill:none;stroke:#000000;stroke-linecap:square;stroke-linejoin:miter;stroke-width:0.8;\"/>\n   </g>\n   <g id=\"patch_11\">\n    <path d=\"M 340.829261 343.958437 \nL 340.829261 17.798437 \n\" style=\"fill:none;stroke:#000000;stroke-linecap:square;stroke-linejoin:miter;stroke-width:0.8;\"/>\n   </g>\n   <g id=\"patch_12\">\n    <path d=\"M 36.465625 343.958437 \nL 340.829261 343.958437 \n\" style=\"fill:none;stroke:#000000;stroke-linecap:square;stroke-linejoin:miter;stroke-width:0.8;\"/>\n   </g>\n   <g id=\"patch_13\">\n    <path d=\"M 36.465625 17.798437 \nL 340.829261 17.798437 \n\" style=\"fill:none;stroke:#000000;stroke-linecap:square;stroke-linejoin:miter;stroke-width:0.8;\"/>\n   </g>\n  </g>\n  <g id=\"axes_2\">\n   <g id=\"patch_14\">\n    <path d=\"M 401.701989 343.958437 \nL 706.065625 343.958437 \nL 706.065625 17.798437 \nL 401.701989 17.798437 \nz\n\" style=\"fill:#ffffff;\"/>\n   </g>\n   <g id=\"patch_15\">\n    <path clip-path=\"url(#p55d21c7a3f)\" d=\"M 450.290102 343.958437 \nL 463.239315 343.958437 \nL 463.239315 33.329866 \nL 450.290102 33.329866 \nz\n\" style=\"fill:#92c6ff;opacity:0.4;\"/>\n   </g>\n   <g id=\"patch_16\">\n    <path clip-path=\"url(#p55d21c7a3f)\" d=\"M 463.239315 343.958437 \nL 476.188528 343.958437 \nL 476.188528 172.577157 \nL 463.239315 172.577157 \nz\n\" style=\"fill:#92c6ff;opacity:0.4;\"/>\n   </g>\n   <g id=\"patch_17\">\n    <path clip-path=\"url(#p55d21c7a3f)\" d=\"M 476.188528 343.958437 \nL 489.137741 343.958437 \nL 489.137741 133.30228 \nL 476.188528 133.30228 \nz\n\" style=\"fill:#92c6ff;opacity:0.4;\"/>\n   </g>\n   <g id=\"patch_18\">\n    <path clip-path=\"url(#p55d21c7a3f)\" d=\"M 489.137741 343.958437 \nL 502.086955 343.958437 \nL 502.086955 86.886516 \nL 489.137741 86.886516 \nz\n\" style=\"fill:#92c6ff;opacity:0.4;\"/>\n   </g>\n   <g id=\"patch_19\">\n    <path clip-path=\"url(#p55d21c7a3f)\" d=\"M 502.086955 343.958437 \nL 515.036168 343.958437 \nL 515.036168 151.154497 \nL 502.086955 151.154497 \nz\n\" style=\"fill:#92c6ff;opacity:0.4;\"/>\n   </g>\n   <g id=\"patch_20\">\n    <path clip-path=\"url(#p55d21c7a3f)\" d=\"M 515.036168 343.958437 \nL 527.985381 343.958437 \nL 527.985381 186.85893 \nL 515.036168 186.85893 \nz\n\" style=\"fill:#92c6ff;opacity:0.4;\"/>\n   </g>\n   <g id=\"patch_21\">\n    <path clip-path=\"url(#p55d21c7a3f)\" d=\"M 527.985381 343.958437 \nL 540.934594 343.958437 \nL 540.934594 233.274694 \nL 527.985381 233.274694 \nz\n\" style=\"fill:#92c6ff;opacity:0.4;\"/>\n   </g>\n   <g id=\"patch_22\">\n    <path clip-path=\"url(#p55d21c7a3f)\" d=\"M 540.934594 343.958437 \nL 553.883807 343.958437 \nL 553.883807 272.549571 \nL 540.934594 272.549571 \nz\n\" style=\"fill:#92c6ff;opacity:0.4;\"/>\n   </g>\n   <g id=\"patch_23\">\n    <path clip-path=\"url(#p55d21c7a3f)\" d=\"M 553.883807 343.958437 \nL 566.83302 343.958437 \nL 566.83302 272.549571 \nL 553.883807 272.549571 \nz\n\" style=\"fill:#92c6ff;opacity:0.4;\"/>\n   </g>\n   <g id=\"patch_24\">\n    <path clip-path=\"url(#p55d21c7a3f)\" d=\"M 566.83302 343.958437 \nL 579.782233 343.958437 \nL 579.782233 297.542674 \nL 566.83302 297.542674 \nz\n\" style=\"fill:#92c6ff;opacity:0.4;\"/>\n   </g>\n   <g id=\"patch_25\">\n    <path clip-path=\"url(#p55d21c7a3f)\" d=\"M 579.782233 343.958437 \nL 592.731446 343.958437 \nL 592.731446 322.535777 \nL 579.782233 322.535777 \nz\n\" style=\"fill:#92c6ff;opacity:0.4;\"/>\n   </g>\n   <g id=\"patch_26\">\n    <path clip-path=\"url(#p55d21c7a3f)\" d=\"M 592.731446 343.958437 \nL 605.680659 343.958437 \nL 605.680659 329.676664 \nL 592.731446 329.676664 \nz\n\" style=\"fill:#92c6ff;opacity:0.4;\"/>\n   </g>\n   <g id=\"patch_27\">\n    <path clip-path=\"url(#p55d21c7a3f)\" d=\"M 605.680659 343.958437 \nL 618.629872 343.958437 \nL 618.629872 311.824447 \nL 605.680659 311.824447 \nz\n\" style=\"fill:#92c6ff;opacity:0.4;\"/>\n   </g>\n   <g id=\"patch_28\">\n    <path clip-path=\"url(#p55d21c7a3f)\" d=\"M 618.629872 343.958437 \nL 631.579085 343.958437 \nL 631.579085 343.958437 \nL 618.629872 343.958437 \nz\n\" style=\"fill:#92c6ff;opacity:0.4;\"/>\n   </g>\n   <g id=\"patch_29\">\n    <path clip-path=\"url(#p55d21c7a3f)\" d=\"M 631.579085 343.958437 \nL 644.528298 343.958437 \nL 644.528298 336.817551 \nL 631.579085 336.817551 \nz\n\" style=\"fill:#92c6ff;opacity:0.4;\"/>\n   </g>\n   <g id=\"patch_30\">\n    <path clip-path=\"url(#p55d21c7a3f)\" d=\"M 644.528298 343.958437 \nL 657.477511 343.958437 \nL 657.477511 336.817551 \nL 644.528298 336.817551 \nz\n\" style=\"fill:#92c6ff;opacity:0.4;\"/>\n   </g>\n   <g id=\"matplotlib.axis_3\">\n    <g id=\"xtick_8\">\n     <g id=\"line2d_18\">\n      <g>\n       <use style=\"stroke:#000000;stroke-width:0.8;\" x=\"450.290102\" xlink:href=\"#m36c1af05fc\" y=\"343.958437\"/>\n      </g>\n     </g>\n     <g id=\"text_19\">\n      <!-- 0 -->\n      <g transform=\"translate(447.108852 358.556875)scale(0.1 -0.1)\">\n       <use xlink:href=\"#DejaVuSans-48\"/>\n      </g>\n     </g>\n    </g>\n    <g id=\"xtick_9\">\n     <g id=\"line2d_19\">\n      <g>\n       <use style=\"stroke:#000000;stroke-width:0.8;\" x=\"507.84216\" xlink:href=\"#m36c1af05fc\" y=\"343.958437\"/>\n      </g>\n     </g>\n     <g id=\"text_20\">\n      <!-- 20 -->\n      <g transform=\"translate(501.47966 358.556875)scale(0.1 -0.1)\">\n       <use xlink:href=\"#DejaVuSans-50\"/>\n       <use x=\"63.623047\" xlink:href=\"#DejaVuSans-48\"/>\n      </g>\n     </g>\n    </g>\n    <g id=\"xtick_10\">\n     <g id=\"line2d_20\">\n      <g>\n       <use style=\"stroke:#000000;stroke-width:0.8;\" x=\"565.394218\" xlink:href=\"#m36c1af05fc\" y=\"343.958437\"/>\n      </g>\n     </g>\n     <g id=\"text_21\">\n      <!-- 40 -->\n      <g transform=\"translate(559.031718 358.556875)scale(0.1 -0.1)\">\n       <use xlink:href=\"#DejaVuSans-52\"/>\n       <use x=\"63.623047\" xlink:href=\"#DejaVuSans-48\"/>\n      </g>\n     </g>\n    </g>\n    <g id=\"xtick_11\">\n     <g id=\"line2d_21\">\n      <g>\n       <use style=\"stroke:#000000;stroke-width:0.8;\" x=\"622.946277\" xlink:href=\"#m36c1af05fc\" y=\"343.958437\"/>\n      </g>\n     </g>\n     <g id=\"text_22\">\n      <!-- 60 -->\n      <g transform=\"translate(616.583777 358.556875)scale(0.1 -0.1)\">\n       <use xlink:href=\"#DejaVuSans-54\"/>\n       <use x=\"63.623047\" xlink:href=\"#DejaVuSans-48\"/>\n      </g>\n     </g>\n    </g>\n    <g id=\"xtick_12\">\n     <g id=\"line2d_22\">\n      <g>\n       <use style=\"stroke:#000000;stroke-width:0.8;\" x=\"680.498335\" xlink:href=\"#m36c1af05fc\" y=\"343.958437\"/>\n      </g>\n     </g>\n     <g id=\"text_23\">\n      <!-- 80 -->\n      <g transform=\"translate(674.135835 358.556875)scale(0.1 -0.1)\">\n       <use xlink:href=\"#DejaVuSans-56\"/>\n       <use x=\"63.623047\" xlink:href=\"#DejaVuSans-48\"/>\n      </g>\n     </g>\n    </g>\n    <g id=\"text_24\">\n     <!-- Residence Length -->\n     <g transform=\"translate(509.483026 372.235)scale(0.1 -0.1)\">\n      <defs>\n       <path d=\"M 44.390625 34.1875 \nQ 47.5625 33.109375 50.5625 29.59375 \nQ 53.5625 26.078125 56.59375 19.921875 \nL 66.609375 0 \nL 56 0 \nL 46.6875 18.703125 \nQ 43.0625 26.03125 39.671875 28.421875 \nQ 36.28125 30.8125 30.421875 30.8125 \nL 19.671875 30.8125 \nL 19.671875 0 \nL 9.8125 0 \nL 9.8125 72.90625 \nL 32.078125 72.90625 \nQ 44.578125 72.90625 50.734375 67.671875 \nQ 56.890625 62.453125 56.890625 51.90625 \nQ 56.890625 45.015625 53.6875 40.46875 \nQ 50.484375 35.9375 44.390625 34.1875 \nz\nM 19.671875 64.796875 \nL 19.671875 38.921875 \nL 32.078125 38.921875 \nQ 39.203125 38.921875 42.84375 42.21875 \nQ 46.484375 45.515625 46.484375 51.90625 \nQ 46.484375 58.296875 42.84375 61.546875 \nQ 39.203125 64.796875 32.078125 64.796875 \nz\n\" id=\"DejaVuSans-82\"/>\n       <path d=\"M 44.28125 53.078125 \nL 44.28125 44.578125 \nQ 40.484375 46.53125 36.375 47.5 \nQ 32.28125 48.484375 27.875 48.484375 \nQ 21.1875 48.484375 17.84375 46.4375 \nQ 14.5 44.390625 14.5 40.28125 \nQ 14.5 37.15625 16.890625 35.375 \nQ 19.28125 33.59375 26.515625 31.984375 \nL 29.59375 31.296875 \nQ 39.15625 29.25 43.1875 25.515625 \nQ 47.21875 21.78125 47.21875 15.09375 \nQ 47.21875 7.46875 41.1875 3.015625 \nQ 35.15625 -1.421875 24.609375 -1.421875 \nQ 20.21875 -1.421875 15.453125 -0.5625 \nQ 10.6875 0.296875 5.421875 2 \nL 5.421875 11.28125 \nQ 10.40625 8.6875 15.234375 7.390625 \nQ 20.0625 6.109375 24.8125 6.109375 \nQ 31.15625 6.109375 34.5625 8.28125 \nQ 37.984375 10.453125 37.984375 14.40625 \nQ 37.984375 18.0625 35.515625 20.015625 \nQ 33.0625 21.96875 24.703125 23.78125 \nL 21.578125 24.515625 \nQ 13.234375 26.265625 9.515625 29.90625 \nQ 5.8125 33.546875 5.8125 39.890625 \nQ 5.8125 47.609375 11.28125 51.796875 \nQ 16.75 56 26.8125 56 \nQ 31.78125 56 36.171875 55.265625 \nQ 40.578125 54.546875 44.28125 53.078125 \nz\n\" id=\"DejaVuSans-115\"/>\n       <path d=\"M 9.421875 54.6875 \nL 18.40625 54.6875 \nL 18.40625 0 \nL 9.421875 0 \nz\nM 9.421875 75.984375 \nL 18.40625 75.984375 \nL 18.40625 64.59375 \nL 9.421875 64.59375 \nz\n\" id=\"DejaVuSans-105\"/>\n       <path d=\"M 45.40625 46.390625 \nL 45.40625 75.984375 \nL 54.390625 75.984375 \nL 54.390625 0 \nL 45.40625 0 \nL 45.40625 8.203125 \nQ 42.578125 3.328125 38.25 0.953125 \nQ 33.9375 -1.421875 27.875 -1.421875 \nQ 17.96875 -1.421875 11.734375 6.484375 \nQ 5.515625 14.40625 5.515625 27.296875 \nQ 5.515625 40.1875 11.734375 48.09375 \nQ 17.96875 56 27.875 56 \nQ 33.9375 56 38.25 53.625 \nQ 42.578125 51.265625 45.40625 46.390625 \nz\nM 14.796875 27.296875 \nQ 14.796875 17.390625 18.875 11.75 \nQ 22.953125 6.109375 30.078125 6.109375 \nQ 37.203125 6.109375 41.296875 11.75 \nQ 45.40625 17.390625 45.40625 27.296875 \nQ 45.40625 37.203125 41.296875 42.84375 \nQ 37.203125 48.484375 30.078125 48.484375 \nQ 22.953125 48.484375 18.875 42.84375 \nQ 14.796875 37.203125 14.796875 27.296875 \nz\n\" id=\"DejaVuSans-100\"/>\n       <path id=\"DejaVuSans-32\"/>\n       <path d=\"M 9.8125 72.90625 \nL 19.671875 72.90625 \nL 19.671875 8.296875 \nL 55.171875 8.296875 \nL 55.171875 0 \nL 9.8125 0 \nz\n\" id=\"DejaVuSans-76\"/>\n       <path d=\"M 45.40625 27.984375 \nQ 45.40625 37.75 41.375 43.109375 \nQ 37.359375 48.484375 30.078125 48.484375 \nQ 22.859375 48.484375 18.828125 43.109375 \nQ 14.796875 37.75 14.796875 27.984375 \nQ 14.796875 18.265625 18.828125 12.890625 \nQ 22.859375 7.515625 30.078125 7.515625 \nQ 37.359375 7.515625 41.375 12.890625 \nQ 45.40625 18.265625 45.40625 27.984375 \nz\nM 54.390625 6.78125 \nQ 54.390625 -7.171875 48.1875 -13.984375 \nQ 42 -20.796875 29.203125 -20.796875 \nQ 24.46875 -20.796875 20.265625 -20.09375 \nQ 16.0625 -19.390625 12.109375 -17.921875 \nL 12.109375 -9.1875 \nQ 16.0625 -11.328125 19.921875 -12.34375 \nQ 23.78125 -13.375 27.78125 -13.375 \nQ 36.625 -13.375 41.015625 -8.765625 \nQ 45.40625 -4.15625 45.40625 5.171875 \nL 45.40625 9.625 \nQ 42.625 4.78125 38.28125 2.390625 \nQ 33.9375 0 27.875 0 \nQ 17.828125 0 11.671875 7.65625 \nQ 5.515625 15.328125 5.515625 27.984375 \nQ 5.515625 40.671875 11.671875 48.328125 \nQ 17.828125 56 27.875 56 \nQ 33.9375 56 38.28125 53.609375 \nQ 42.625 51.21875 45.40625 46.390625 \nL 45.40625 54.6875 \nL 54.390625 54.6875 \nz\n\" id=\"DejaVuSans-103\"/>\n       <path d=\"M 18.3125 70.21875 \nL 18.3125 54.6875 \nL 36.8125 54.6875 \nL 36.8125 47.703125 \nL 18.3125 47.703125 \nL 18.3125 18.015625 \nQ 18.3125 11.328125 20.140625 9.421875 \nQ 21.96875 7.515625 27.59375 7.515625 \nL 36.8125 7.515625 \nL 36.8125 0 \nL 27.59375 0 \nQ 17.1875 0 13.234375 3.875 \nQ 9.28125 7.765625 9.28125 18.015625 \nL 9.28125 47.703125 \nL 2.6875 47.703125 \nL 2.6875 54.6875 \nL 9.28125 54.6875 \nL 9.28125 70.21875 \nz\n\" id=\"DejaVuSans-116\"/>\n       <path d=\"M 54.890625 33.015625 \nL 54.890625 0 \nL 45.90625 0 \nL 45.90625 32.71875 \nQ 45.90625 40.484375 42.875 44.328125 \nQ 39.84375 48.1875 33.796875 48.1875 \nQ 26.515625 48.1875 22.3125 43.546875 \nQ 18.109375 38.921875 18.109375 30.90625 \nL 18.109375 0 \nL 9.078125 0 \nL 9.078125 75.984375 \nL 18.109375 75.984375 \nL 18.109375 46.1875 \nQ 21.34375 51.125 25.703125 53.5625 \nQ 30.078125 56 35.796875 56 \nQ 45.21875 56 50.046875 50.171875 \nQ 54.890625 44.34375 54.890625 33.015625 \nz\n\" id=\"DejaVuSans-104\"/>\n      </defs>\n      <use xlink:href=\"#DejaVuSans-82\"/>\n      <use x=\"64.982422\" xlink:href=\"#DejaVuSans-101\"/>\n      <use x=\"126.505859\" xlink:href=\"#DejaVuSans-115\"/>\n      <use x=\"178.605469\" xlink:href=\"#DejaVuSans-105\"/>\n      <use x=\"206.388672\" xlink:href=\"#DejaVuSans-100\"/>\n      <use x=\"269.865234\" xlink:href=\"#DejaVuSans-101\"/>\n      <use x=\"331.388672\" xlink:href=\"#DejaVuSans-110\"/>\n      <use x=\"394.767578\" xlink:href=\"#DejaVuSans-99\"/>\n      <use x=\"449.748047\" xlink:href=\"#DejaVuSans-101\"/>\n      <use x=\"511.271484\" xlink:href=\"#DejaVuSans-32\"/>\n      <use x=\"543.058594\" xlink:href=\"#DejaVuSans-76\"/>\n      <use x=\"597.021484\" xlink:href=\"#DejaVuSans-101\"/>\n      <use x=\"658.544922\" xlink:href=\"#DejaVuSans-110\"/>\n      <use x=\"721.923828\" xlink:href=\"#DejaVuSans-103\"/>\n      <use x=\"785.400391\" xlink:href=\"#DejaVuSans-116\"/>\n      <use x=\"824.609375\" xlink:href=\"#DejaVuSans-104\"/>\n     </g>\n    </g>\n   </g>\n   <g id=\"matplotlib.axis_4\">\n    <g id=\"ytick_10\">\n     <g id=\"line2d_23\">\n      <g>\n       <use style=\"stroke:#000000;stroke-width:0.8;\" x=\"401.701989\" xlink:href=\"#m227192152e\" y=\"343.958437\"/>\n      </g>\n     </g>\n     <g id=\"text_25\">\n      <!-- 0.000 -->\n      <g transform=\"translate(366.073864 347.757656)scale(0.1 -0.1)\">\n       <use xlink:href=\"#DejaVuSans-48\"/>\n       <use x=\"63.623047\" xlink:href=\"#DejaVuSans-46\"/>\n       <use x=\"95.410156\" xlink:href=\"#DejaVuSans-48\"/>\n       <use x=\"159.033203\" xlink:href=\"#DejaVuSans-48\"/>\n       <use x=\"222.65625\" xlink:href=\"#DejaVuSans-48\"/>\n      </g>\n     </g>\n    </g>\n    <g id=\"ytick_11\">\n     <g id=\"line2d_24\">\n      <g>\n       <use style=\"stroke:#000000;stroke-width:0.8;\" x=\"401.701989\" xlink:href=\"#m227192152e\" y=\"306.120664\"/>\n      </g>\n     </g>\n     <g id=\"text_26\">\n      <!-- 0.005 -->\n      <g transform=\"translate(366.073864 309.919883)scale(0.1 -0.1)\">\n       <use xlink:href=\"#DejaVuSans-48\"/>\n       <use x=\"63.623047\" xlink:href=\"#DejaVuSans-46\"/>\n       <use x=\"95.410156\" xlink:href=\"#DejaVuSans-48\"/>\n       <use x=\"159.033203\" xlink:href=\"#DejaVuSans-48\"/>\n       <use x=\"222.65625\" xlink:href=\"#DejaVuSans-53\"/>\n      </g>\n     </g>\n    </g>\n    <g id=\"ytick_12\">\n     <g id=\"line2d_25\">\n      <g>\n       <use style=\"stroke:#000000;stroke-width:0.8;\" x=\"401.701989\" xlink:href=\"#m227192152e\" y=\"268.282891\"/>\n      </g>\n     </g>\n     <g id=\"text_27\">\n      <!-- 0.010 -->\n      <g transform=\"translate(366.073864 272.082109)scale(0.1 -0.1)\">\n       <use xlink:href=\"#DejaVuSans-48\"/>\n       <use x=\"63.623047\" xlink:href=\"#DejaVuSans-46\"/>\n       <use x=\"95.410156\" xlink:href=\"#DejaVuSans-48\"/>\n       <use x=\"159.033203\" xlink:href=\"#DejaVuSans-49\"/>\n       <use x=\"222.65625\" xlink:href=\"#DejaVuSans-48\"/>\n      </g>\n     </g>\n    </g>\n    <g id=\"ytick_13\">\n     <g id=\"line2d_26\">\n      <g>\n       <use style=\"stroke:#000000;stroke-width:0.8;\" x=\"401.701989\" xlink:href=\"#m227192152e\" y=\"230.445117\"/>\n      </g>\n     </g>\n     <g id=\"text_28\">\n      <!-- 0.015 -->\n      <g transform=\"translate(366.073864 234.244336)scale(0.1 -0.1)\">\n       <use xlink:href=\"#DejaVuSans-48\"/>\n       <use x=\"63.623047\" xlink:href=\"#DejaVuSans-46\"/>\n       <use x=\"95.410156\" xlink:href=\"#DejaVuSans-48\"/>\n       <use x=\"159.033203\" xlink:href=\"#DejaVuSans-49\"/>\n       <use x=\"222.65625\" xlink:href=\"#DejaVuSans-53\"/>\n      </g>\n     </g>\n    </g>\n    <g id=\"ytick_14\">\n     <g id=\"line2d_27\">\n      <g>\n       <use style=\"stroke:#000000;stroke-width:0.8;\" x=\"401.701989\" xlink:href=\"#m227192152e\" y=\"192.607344\"/>\n      </g>\n     </g>\n     <g id=\"text_29\">\n      <!-- 0.020 -->\n      <g transform=\"translate(366.073864 196.406563)scale(0.1 -0.1)\">\n       <use xlink:href=\"#DejaVuSans-48\"/>\n       <use x=\"63.623047\" xlink:href=\"#DejaVuSans-46\"/>\n       <use x=\"95.410156\" xlink:href=\"#DejaVuSans-48\"/>\n       <use x=\"159.033203\" xlink:href=\"#DejaVuSans-50\"/>\n       <use x=\"222.65625\" xlink:href=\"#DejaVuSans-48\"/>\n      </g>\n     </g>\n    </g>\n    <g id=\"ytick_15\">\n     <g id=\"line2d_28\">\n      <g>\n       <use style=\"stroke:#000000;stroke-width:0.8;\" x=\"401.701989\" xlink:href=\"#m227192152e\" y=\"154.769571\"/>\n      </g>\n     </g>\n     <g id=\"text_30\">\n      <!-- 0.025 -->\n      <g transform=\"translate(366.073864 158.568789)scale(0.1 -0.1)\">\n       <use xlink:href=\"#DejaVuSans-48\"/>\n       <use x=\"63.623047\" xlink:href=\"#DejaVuSans-46\"/>\n       <use x=\"95.410156\" xlink:href=\"#DejaVuSans-48\"/>\n       <use x=\"159.033203\" xlink:href=\"#DejaVuSans-50\"/>\n       <use x=\"222.65625\" xlink:href=\"#DejaVuSans-53\"/>\n      </g>\n     </g>\n    </g>\n    <g id=\"ytick_16\">\n     <g id=\"line2d_29\">\n      <g>\n       <use style=\"stroke:#000000;stroke-width:0.8;\" x=\"401.701989\" xlink:href=\"#m227192152e\" y=\"116.931797\"/>\n      </g>\n     </g>\n     <g id=\"text_31\">\n      <!-- 0.030 -->\n      <g transform=\"translate(366.073864 120.731016)scale(0.1 -0.1)\">\n       <defs>\n        <path d=\"M 40.578125 39.3125 \nQ 47.65625 37.796875 51.625 33 \nQ 55.609375 28.21875 55.609375 21.1875 \nQ 55.609375 10.40625 48.1875 4.484375 \nQ 40.765625 -1.421875 27.09375 -1.421875 \nQ 22.515625 -1.421875 17.65625 -0.515625 \nQ 12.796875 0.390625 7.625 2.203125 \nL 7.625 11.71875 \nQ 11.71875 9.328125 16.59375 8.109375 \nQ 21.484375 6.890625 26.8125 6.890625 \nQ 36.078125 6.890625 40.9375 10.546875 \nQ 45.796875 14.203125 45.796875 21.1875 \nQ 45.796875 27.640625 41.28125 31.265625 \nQ 36.765625 34.90625 28.71875 34.90625 \nL 20.21875 34.90625 \nL 20.21875 43.015625 \nL 29.109375 43.015625 \nQ 36.375 43.015625 40.234375 45.921875 \nQ 44.09375 48.828125 44.09375 54.296875 \nQ 44.09375 59.90625 40.109375 62.90625 \nQ 36.140625 65.921875 28.71875 65.921875 \nQ 24.65625 65.921875 20.015625 65.03125 \nQ 15.375 64.15625 9.8125 62.3125 \nL 9.8125 71.09375 \nQ 15.4375 72.65625 20.34375 73.4375 \nQ 25.25 74.21875 29.59375 74.21875 \nQ 40.828125 74.21875 47.359375 69.109375 \nQ 53.90625 64.015625 53.90625 55.328125 \nQ 53.90625 49.265625 50.4375 45.09375 \nQ 46.96875 40.921875 40.578125 39.3125 \nz\n\" id=\"DejaVuSans-51\"/>\n       </defs>\n       <use xlink:href=\"#DejaVuSans-48\"/>\n       <use x=\"63.623047\" xlink:href=\"#DejaVuSans-46\"/>\n       <use x=\"95.410156\" xlink:href=\"#DejaVuSans-48\"/>\n       <use x=\"159.033203\" xlink:href=\"#DejaVuSans-51\"/>\n       <use x=\"222.65625\" xlink:href=\"#DejaVuSans-48\"/>\n      </g>\n     </g>\n    </g>\n    <g id=\"ytick_17\">\n     <g id=\"line2d_30\">\n      <g>\n       <use style=\"stroke:#000000;stroke-width:0.8;\" x=\"401.701989\" xlink:href=\"#m227192152e\" y=\"79.094024\"/>\n      </g>\n     </g>\n     <g id=\"text_32\">\n      <!-- 0.035 -->\n      <g transform=\"translate(366.073864 82.893242)scale(0.1 -0.1)\">\n       <use xlink:href=\"#DejaVuSans-48\"/>\n       <use x=\"63.623047\" xlink:href=\"#DejaVuSans-46\"/>\n       <use x=\"95.410156\" xlink:href=\"#DejaVuSans-48\"/>\n       <use x=\"159.033203\" xlink:href=\"#DejaVuSans-51\"/>\n       <use x=\"222.65625\" xlink:href=\"#DejaVuSans-53\"/>\n      </g>\n     </g>\n    </g>\n    <g id=\"ytick_18\">\n     <g id=\"line2d_31\">\n      <g>\n       <use style=\"stroke:#000000;stroke-width:0.8;\" x=\"401.701989\" xlink:href=\"#m227192152e\" y=\"41.25625\"/>\n      </g>\n     </g>\n     <g id=\"text_33\">\n      <!-- 0.040 -->\n      <g transform=\"translate(366.073864 45.055469)scale(0.1 -0.1)\">\n       <use xlink:href=\"#DejaVuSans-48\"/>\n       <use x=\"63.623047\" xlink:href=\"#DejaVuSans-46\"/>\n       <use x=\"95.410156\" xlink:href=\"#DejaVuSans-48\"/>\n       <use x=\"159.033203\" xlink:href=\"#DejaVuSans-52\"/>\n       <use x=\"222.65625\" xlink:href=\"#DejaVuSans-48\"/>\n      </g>\n     </g>\n    </g>\n   </g>\n   <g id=\"LineCollection_2\">\n    <path clip-path=\"url(#p55d21c7a3f)\" d=\"M 507.84216 343.958437 \nL 507.84216 327.650437 \n\" style=\"fill:none;stroke:#92c6ff;\"/>\n    <path clip-path=\"url(#p55d21c7a3f)\" d=\"M 516.474969 343.958437 \nL 516.474969 327.650437 \n\" style=\"fill:none;stroke:#92c6ff;\"/>\n    <path clip-path=\"url(#p55d21c7a3f)\" d=\"M 479.066131 343.958437 \nL 479.066131 327.650437 \n\" style=\"fill:none;stroke:#92c6ff;\"/>\n    <path clip-path=\"url(#p55d21c7a3f)\" d=\"M 502.086955 343.958437 \nL 502.086955 327.650437 \n\" style=\"fill:none;stroke:#92c6ff;\"/>\n    <path clip-path=\"url(#p55d21c7a3f)\" d=\"M 476.188528 343.958437 \nL 476.188528 327.650437 \n\" style=\"fill:none;stroke:#92c6ff;\"/>\n    <path clip-path=\"url(#p55d21c7a3f)\" d=\"M 464.678117 343.958437 \nL 464.678117 327.650437 \n\" style=\"fill:none;stroke:#92c6ff;\"/>\n    <path clip-path=\"url(#p55d21c7a3f)\" d=\"M 548.128601 343.958437 \nL 548.128601 327.650437 \n\" style=\"fill:none;stroke:#92c6ff;\"/>\n    <path clip-path=\"url(#p55d21c7a3f)\" d=\"M 479.066131 343.958437 \nL 479.066131 327.650437 \n\" style=\"fill:none;stroke:#92c6ff;\"/>\n    <path clip-path=\"url(#p55d21c7a3f)\" d=\"M 481.943734 343.958437 \nL 481.943734 327.650437 \n\" style=\"fill:none;stroke:#92c6ff;\"/>\n    <path clip-path=\"url(#p55d21c7a3f)\" d=\"M 490.576543 343.958437 \nL 490.576543 327.650437 \n\" style=\"fill:none;stroke:#92c6ff;\"/>\n    <path clip-path=\"url(#p55d21c7a3f)\" d=\"M 453.167705 343.958437 \nL 453.167705 327.650437 \n\" style=\"fill:none;stroke:#92c6ff;\"/>\n    <path clip-path=\"url(#p55d21c7a3f)\" d=\"M 476.188528 343.958437 \nL 476.188528 327.650437 \n\" style=\"fill:none;stroke:#92c6ff;\"/>\n    <path clip-path=\"url(#p55d21c7a3f)\" d=\"M 611.435865 343.958437 \nL 611.435865 327.650437 \n\" style=\"fill:none;stroke:#92c6ff;\"/>\n    <path clip-path=\"url(#p55d21c7a3f)\" d=\"M 539.495792 343.958437 \nL 539.495792 327.650437 \n\" style=\"fill:none;stroke:#92c6ff;\"/>\n    <path clip-path=\"url(#p55d21c7a3f)\" d=\"M 484.821337 343.958437 \nL 484.821337 327.650437 \n\" style=\"fill:none;stroke:#92c6ff;\"/>\n    <path clip-path=\"url(#p55d21c7a3f)\" d=\"M 493.454146 343.958437 \nL 493.454146 327.650437 \n\" style=\"fill:none;stroke:#92c6ff;\"/>\n    <path clip-path=\"url(#p55d21c7a3f)\" d=\"M 519.352572 343.958437 \nL 519.352572 327.650437 \n\" style=\"fill:none;stroke:#92c6ff;\"/>\n    <path clip-path=\"url(#p55d21c7a3f)\" d=\"M 493.454146 343.958437 \nL 493.454146 327.650437 \n\" style=\"fill:none;stroke:#92c6ff;\"/>\n    <path clip-path=\"url(#p55d21c7a3f)\" d=\"M 467.55572 343.958437 \nL 467.55572 327.650437 \n\" style=\"fill:none;stroke:#92c6ff;\"/>\n    <path clip-path=\"url(#p55d21c7a3f)\" d=\"M 490.576543 343.958437 \nL 490.576543 327.650437 \n\" style=\"fill:none;stroke:#92c6ff;\"/>\n    <path clip-path=\"url(#p55d21c7a3f)\" d=\"M 527.985381 343.958437 \nL 527.985381 327.650437 \n\" style=\"fill:none;stroke:#92c6ff;\"/>\n    <path clip-path=\"url(#p55d21c7a3f)\" d=\"M 484.821337 343.958437 \nL 484.821337 327.650437 \n\" style=\"fill:none;stroke:#92c6ff;\"/>\n    <path clip-path=\"url(#p55d21c7a3f)\" d=\"M 473.310925 343.958437 \nL 473.310925 327.650437 \n\" style=\"fill:none;stroke:#92c6ff;\"/>\n    <path clip-path=\"url(#p55d21c7a3f)\" d=\"M 496.331749 343.958437 \nL 496.331749 327.650437 \n\" style=\"fill:none;stroke:#92c6ff;\"/>\n    <path clip-path=\"url(#p55d21c7a3f)\" d=\"M 458.922911 343.958437 \nL 458.922911 327.650437 \n\" style=\"fill:none;stroke:#92c6ff;\"/>\n    <path clip-path=\"url(#p55d21c7a3f)\" d=\"M 617.191071 343.958437 \nL 617.191071 327.650437 \n\" style=\"fill:none;stroke:#92c6ff;\"/>\n    <path clip-path=\"url(#p55d21c7a3f)\" d=\"M 499.209352 343.958437 \nL 499.209352 327.650437 \n\" style=\"fill:none;stroke:#92c6ff;\"/>\n    <path clip-path=\"url(#p55d21c7a3f)\" d=\"M 530.862984 343.958437 \nL 530.862984 327.650437 \n\" style=\"fill:none;stroke:#92c6ff;\"/>\n    <path clip-path=\"url(#p55d21c7a3f)\" d=\"M 473.310925 343.958437 \nL 473.310925 327.650437 \n\" style=\"fill:none;stroke:#92c6ff;\"/>\n    <path clip-path=\"url(#p55d21c7a3f)\" d=\"M 479.066131 343.958437 \nL 479.066131 327.650437 \n\" style=\"fill:none;stroke:#92c6ff;\"/>\n    <path clip-path=\"url(#p55d21c7a3f)\" d=\"M 571.149424 343.958437 \nL 571.149424 327.650437 \n\" style=\"fill:none;stroke:#92c6ff;\"/>\n    <path clip-path=\"url(#p55d21c7a3f)\" d=\"M 458.922911 343.958437 \nL 458.922911 327.650437 \n\" style=\"fill:none;stroke:#92c6ff;\"/>\n    <path clip-path=\"url(#p55d21c7a3f)\" d=\"M 464.678117 343.958437 \nL 464.678117 327.650437 \n\" style=\"fill:none;stroke:#92c6ff;\"/>\n    <path clip-path=\"url(#p55d21c7a3f)\" d=\"M 456.045308 343.958437 \nL 456.045308 327.650437 \n\" style=\"fill:none;stroke:#92c6ff;\"/>\n    <path clip-path=\"url(#p55d21c7a3f)\" d=\"M 467.55572 343.958437 \nL 467.55572 327.650437 \n\" style=\"fill:none;stroke:#92c6ff;\"/>\n    <path clip-path=\"url(#p55d21c7a3f)\" d=\"M 499.209352 343.958437 \nL 499.209352 327.650437 \n\" style=\"fill:none;stroke:#92c6ff;\"/>\n    <path clip-path=\"url(#p55d21c7a3f)\" d=\"M 490.576543 343.958437 \nL 490.576543 327.650437 \n\" style=\"fill:none;stroke:#92c6ff;\"/>\n    <path clip-path=\"url(#p55d21c7a3f)\" d=\"M 464.678117 343.958437 \nL 464.678117 327.650437 \n\" style=\"fill:none;stroke:#92c6ff;\"/>\n    <path clip-path=\"url(#p55d21c7a3f)\" d=\"M 507.84216 343.958437 \nL 507.84216 327.650437 \n\" style=\"fill:none;stroke:#92c6ff;\"/>\n    <path clip-path=\"url(#p55d21c7a3f)\" d=\"M 522.230175 343.958437 \nL 522.230175 327.650437 \n\" style=\"fill:none;stroke:#92c6ff;\"/>\n    <path clip-path=\"url(#p55d21c7a3f)\" d=\"M 481.943734 343.958437 \nL 481.943734 327.650437 \n\" style=\"fill:none;stroke:#92c6ff;\"/>\n    <path clip-path=\"url(#p55d21c7a3f)\" d=\"M 522.230175 343.958437 \nL 522.230175 327.650437 \n\" style=\"fill:none;stroke:#92c6ff;\"/>\n    <path clip-path=\"url(#p55d21c7a3f)\" d=\"M 453.167705 343.958437 \nL 453.167705 327.650437 \n\" style=\"fill:none;stroke:#92c6ff;\"/>\n    <path clip-path=\"url(#p55d21c7a3f)\" d=\"M 453.167705 343.958437 \nL 453.167705 327.650437 \n\" style=\"fill:none;stroke:#92c6ff;\"/>\n    <path clip-path=\"url(#p55d21c7a3f)\" d=\"M 556.76141 343.958437 \nL 556.76141 327.650437 \n\" style=\"fill:none;stroke:#92c6ff;\"/>\n    <path clip-path=\"url(#p55d21c7a3f)\" d=\"M 553.883807 343.958437 \nL 553.883807 327.650437 \n\" style=\"fill:none;stroke:#92c6ff;\"/>\n    <path clip-path=\"url(#p55d21c7a3f)\" d=\"M 657.477511 343.958437 \nL 657.477511 327.650437 \n\" style=\"fill:none;stroke:#92c6ff;\"/>\n    <path clip-path=\"url(#p55d21c7a3f)\" d=\"M 496.331749 343.958437 \nL 496.331749 327.650437 \n\" style=\"fill:none;stroke:#92c6ff;\"/>\n    <path clip-path=\"url(#p55d21c7a3f)\" d=\"M 599.925453 343.958437 \nL 599.925453 327.650437 \n\" style=\"fill:none;stroke:#92c6ff;\"/>\n    <path clip-path=\"url(#p55d21c7a3f)\" d=\"M 470.433323 343.958437 \nL 470.433323 327.650437 \n\" style=\"fill:none;stroke:#92c6ff;\"/>\n    <path clip-path=\"url(#p55d21c7a3f)\" d=\"M 464.678117 343.958437 \nL 464.678117 327.650437 \n\" style=\"fill:none;stroke:#92c6ff;\"/>\n    <path clip-path=\"url(#p55d21c7a3f)\" d=\"M 553.883807 343.958437 \nL 553.883807 327.650437 \n\" style=\"fill:none;stroke:#92c6ff;\"/>\n    <path clip-path=\"url(#p55d21c7a3f)\" d=\"M 453.167705 343.958437 \nL 453.167705 327.650437 \n\" style=\"fill:none;stroke:#92c6ff;\"/>\n    <path clip-path=\"url(#p55d21c7a3f)\" d=\"M 551.006204 343.958437 \nL 551.006204 327.650437 \n\" style=\"fill:none;stroke:#92c6ff;\"/>\n    <path clip-path=\"url(#p55d21c7a3f)\" d=\"M 499.209352 343.958437 \nL 499.209352 327.650437 \n\" style=\"fill:none;stroke:#92c6ff;\"/>\n    <path clip-path=\"url(#p55d21c7a3f)\" d=\"M 576.90463 343.958437 \nL 576.90463 327.650437 \n\" style=\"fill:none;stroke:#92c6ff;\"/>\n    <path clip-path=\"url(#p55d21c7a3f)\" d=\"M 487.69894 343.958437 \nL 487.69894 327.650437 \n\" style=\"fill:none;stroke:#92c6ff;\"/>\n    <path clip-path=\"url(#p55d21c7a3f)\" d=\"M 542.373395 343.958437 \nL 542.373395 327.650437 \n\" style=\"fill:none;stroke:#92c6ff;\"/>\n    <path clip-path=\"url(#p55d21c7a3f)\" d=\"M 458.922911 343.958437 \nL 458.922911 327.650437 \n\" style=\"fill:none;stroke:#92c6ff;\"/>\n    <path clip-path=\"url(#p55d21c7a3f)\" d=\"M 525.107778 343.958437 \nL 525.107778 327.650437 \n\" style=\"fill:none;stroke:#92c6ff;\"/>\n    <path clip-path=\"url(#p55d21c7a3f)\" d=\"M 502.086955 343.958437 \nL 502.086955 327.650437 \n\" style=\"fill:none;stroke:#92c6ff;\"/>\n    <path clip-path=\"url(#p55d21c7a3f)\" d=\"M 527.985381 343.958437 \nL 527.985381 327.650437 \n\" style=\"fill:none;stroke:#92c6ff;\"/>\n    <path clip-path=\"url(#p55d21c7a3f)\" d=\"M 513.597366 343.958437 \nL 513.597366 327.650437 \n\" style=\"fill:none;stroke:#92c6ff;\"/>\n    <path clip-path=\"url(#p55d21c7a3f)\" d=\"M 574.027027 343.958437 \nL 574.027027 327.650437 \n\" style=\"fill:none;stroke:#92c6ff;\"/>\n    <path clip-path=\"url(#p55d21c7a3f)\" d=\"M 545.250998 343.958437 \nL 545.250998 327.650437 \n\" style=\"fill:none;stroke:#92c6ff;\"/>\n    <path clip-path=\"url(#p55d21c7a3f)\" d=\"M 464.678117 343.958437 \nL 464.678117 327.650437 \n\" style=\"fill:none;stroke:#92c6ff;\"/>\n    <path clip-path=\"url(#p55d21c7a3f)\" d=\"M 496.331749 343.958437 \nL 496.331749 327.650437 \n\" style=\"fill:none;stroke:#92c6ff;\"/>\n    <path clip-path=\"url(#p55d21c7a3f)\" d=\"M 453.167705 343.958437 \nL 453.167705 327.650437 \n\" style=\"fill:none;stroke:#92c6ff;\"/>\n    <path clip-path=\"url(#p55d21c7a3f)\" d=\"M 458.922911 343.958437 \nL 458.922911 327.650437 \n\" style=\"fill:none;stroke:#92c6ff;\"/>\n    <path clip-path=\"url(#p55d21c7a3f)\" d=\"M 473.310925 343.958437 \nL 473.310925 327.650437 \n\" style=\"fill:none;stroke:#92c6ff;\"/>\n    <path clip-path=\"url(#p55d21c7a3f)\" d=\"M 470.433323 343.958437 \nL 470.433323 327.650437 \n\" style=\"fill:none;stroke:#92c6ff;\"/>\n    <path clip-path=\"url(#p55d21c7a3f)\" d=\"M 479.066131 343.958437 \nL 479.066131 327.650437 \n\" style=\"fill:none;stroke:#92c6ff;\"/>\n    <path clip-path=\"url(#p55d21c7a3f)\" d=\"M 507.84216 343.958437 \nL 507.84216 327.650437 \n\" style=\"fill:none;stroke:#92c6ff;\"/>\n    <path clip-path=\"url(#p55d21c7a3f)\" d=\"M 458.922911 343.958437 \nL 458.922911 327.650437 \n\" style=\"fill:none;stroke:#92c6ff;\"/>\n    <path clip-path=\"url(#p55d21c7a3f)\" d=\"M 493.454146 343.958437 \nL 493.454146 327.650437 \n\" style=\"fill:none;stroke:#92c6ff;\"/>\n    <path clip-path=\"url(#p55d21c7a3f)\" d=\"M 499.209352 343.958437 \nL 499.209352 327.650437 \n\" style=\"fill:none;stroke:#92c6ff;\"/>\n    <path clip-path=\"url(#p55d21c7a3f)\" d=\"M 507.84216 343.958437 \nL 507.84216 327.650437 \n\" style=\"fill:none;stroke:#92c6ff;\"/>\n    <path clip-path=\"url(#p55d21c7a3f)\" d=\"M 456.045308 343.958437 \nL 456.045308 327.650437 \n\" style=\"fill:none;stroke:#92c6ff;\"/>\n    <path clip-path=\"url(#p55d21c7a3f)\" d=\"M 631.579085 343.958437 \nL 631.579085 327.650437 \n\" style=\"fill:none;stroke:#92c6ff;\"/>\n    <path clip-path=\"url(#p55d21c7a3f)\" d=\"M 481.943734 343.958437 \nL 481.943734 327.650437 \n\" style=\"fill:none;stroke:#92c6ff;\"/>\n    <path clip-path=\"url(#p55d21c7a3f)\" d=\"M 519.352572 343.958437 \nL 519.352572 327.650437 \n\" style=\"fill:none;stroke:#92c6ff;\"/>\n    <path clip-path=\"url(#p55d21c7a3f)\" d=\"M 553.883807 343.958437 \nL 553.883807 327.650437 \n\" style=\"fill:none;stroke:#92c6ff;\"/>\n    <path clip-path=\"url(#p55d21c7a3f)\" d=\"M 499.209352 343.958437 \nL 499.209352 327.650437 \n\" style=\"fill:none;stroke:#92c6ff;\"/>\n    <path clip-path=\"url(#p55d21c7a3f)\" d=\"M 456.045308 343.958437 \nL 456.045308 327.650437 \n\" style=\"fill:none;stroke:#92c6ff;\"/>\n    <path clip-path=\"url(#p55d21c7a3f)\" d=\"M 571.149424 343.958437 \nL 571.149424 327.650437 \n\" style=\"fill:none;stroke:#92c6ff;\"/>\n    <path clip-path=\"url(#p55d21c7a3f)\" d=\"M 556.76141 343.958437 \nL 556.76141 327.650437 \n\" style=\"fill:none;stroke:#92c6ff;\"/>\n    <path clip-path=\"url(#p55d21c7a3f)\" d=\"M 481.943734 343.958437 \nL 481.943734 327.650437 \n\" style=\"fill:none;stroke:#92c6ff;\"/>\n    <path clip-path=\"url(#p55d21c7a3f)\" d=\"M 530.862984 343.958437 \nL 530.862984 327.650437 \n\" style=\"fill:none;stroke:#92c6ff;\"/>\n    <path clip-path=\"url(#p55d21c7a3f)\" d=\"M 479.066131 343.958437 \nL 479.066131 327.650437 \n\" style=\"fill:none;stroke:#92c6ff;\"/>\n    <path clip-path=\"url(#p55d21c7a3f)\" d=\"M 539.495792 343.958437 \nL 539.495792 327.650437 \n\" style=\"fill:none;stroke:#92c6ff;\"/>\n    <path clip-path=\"url(#p55d21c7a3f)\" d=\"M 502.086955 343.958437 \nL 502.086955 327.650437 \n\" style=\"fill:none;stroke:#92c6ff;\"/>\n    <path clip-path=\"url(#p55d21c7a3f)\" d=\"M 510.719763 343.958437 \nL 510.719763 327.650437 \n\" style=\"fill:none;stroke:#92c6ff;\"/>\n    <path clip-path=\"url(#p55d21c7a3f)\" d=\"M 522.230175 343.958437 \nL 522.230175 327.650437 \n\" style=\"fill:none;stroke:#92c6ff;\"/>\n    <path clip-path=\"url(#p55d21c7a3f)\" d=\"M 464.678117 343.958437 \nL 464.678117 327.650437 \n\" style=\"fill:none;stroke:#92c6ff;\"/>\n    <path clip-path=\"url(#p55d21c7a3f)\" d=\"M 453.167705 343.958437 \nL 453.167705 327.650437 \n\" style=\"fill:none;stroke:#92c6ff;\"/>\n    <path clip-path=\"url(#p55d21c7a3f)\" d=\"M 490.576543 343.958437 \nL 490.576543 327.650437 \n\" style=\"fill:none;stroke:#92c6ff;\"/>\n    <path clip-path=\"url(#p55d21c7a3f)\" d=\"M 533.740586 343.958437 \nL 533.740586 327.650437 \n\" style=\"fill:none;stroke:#92c6ff;\"/>\n    <path clip-path=\"url(#p55d21c7a3f)\" d=\"M 574.027027 343.958437 \nL 574.027027 327.650437 \n\" style=\"fill:none;stroke:#92c6ff;\"/>\n    <path clip-path=\"url(#p55d21c7a3f)\" d=\"M 484.821337 343.958437 \nL 484.821337 327.650437 \n\" style=\"fill:none;stroke:#92c6ff;\"/>\n    <path clip-path=\"url(#p55d21c7a3f)\" d=\"M 530.862984 343.958437 \nL 530.862984 327.650437 \n\" style=\"fill:none;stroke:#92c6ff;\"/>\n    <path clip-path=\"url(#p55d21c7a3f)\" d=\"M 490.576543 343.958437 \nL 490.576543 327.650437 \n\" style=\"fill:none;stroke:#92c6ff;\"/>\n    <path clip-path=\"url(#p55d21c7a3f)\" d=\"M 490.576543 343.958437 \nL 490.576543 327.650437 \n\" style=\"fill:none;stroke:#92c6ff;\"/>\n    <path clip-path=\"url(#p55d21c7a3f)\" d=\"M 513.597366 343.958437 \nL 513.597366 327.650437 \n\" style=\"fill:none;stroke:#92c6ff;\"/>\n    <path clip-path=\"url(#p55d21c7a3f)\" d=\"M 525.107778 343.958437 \nL 525.107778 327.650437 \n\" style=\"fill:none;stroke:#92c6ff;\"/>\n    <path clip-path=\"url(#p55d21c7a3f)\" d=\"M 513.597366 343.958437 \nL 513.597366 327.650437 \n\" style=\"fill:none;stroke:#92c6ff;\"/>\n    <path clip-path=\"url(#p55d21c7a3f)\" d=\"M 499.209352 343.958437 \nL 499.209352 327.650437 \n\" style=\"fill:none;stroke:#92c6ff;\"/>\n    <path clip-path=\"url(#p55d21c7a3f)\" d=\"M 461.800514 343.958437 \nL 461.800514 327.650437 \n\" style=\"fill:none;stroke:#92c6ff;\"/>\n    <path clip-path=\"url(#p55d21c7a3f)\" d=\"M 467.55572 343.958437 \nL 467.55572 327.650437 \n\" style=\"fill:none;stroke:#92c6ff;\"/>\n    <path clip-path=\"url(#p55d21c7a3f)\" d=\"M 519.352572 343.958437 \nL 519.352572 327.650437 \n\" style=\"fill:none;stroke:#92c6ff;\"/>\n    <path clip-path=\"url(#p55d21c7a3f)\" d=\"M 496.331749 343.958437 \nL 496.331749 327.650437 \n\" style=\"fill:none;stroke:#92c6ff;\"/>\n    <path clip-path=\"url(#p55d21c7a3f)\" d=\"M 605.680659 343.958437 \nL 605.680659 327.650437 \n\" style=\"fill:none;stroke:#92c6ff;\"/>\n    <path clip-path=\"url(#p55d21c7a3f)\" d=\"M 499.209352 343.958437 \nL 499.209352 327.650437 \n\" style=\"fill:none;stroke:#92c6ff;\"/>\n    <path clip-path=\"url(#p55d21c7a3f)\" d=\"M 553.883807 343.958437 \nL 553.883807 327.650437 \n\" style=\"fill:none;stroke:#92c6ff;\"/>\n    <path clip-path=\"url(#p55d21c7a3f)\" d=\"M 502.086955 343.958437 \nL 502.086955 327.650437 \n\" style=\"fill:none;stroke:#92c6ff;\"/>\n    <path clip-path=\"url(#p55d21c7a3f)\" d=\"M 513.597366 343.958437 \nL 513.597366 327.650437 \n\" style=\"fill:none;stroke:#92c6ff;\"/>\n    <path clip-path=\"url(#p55d21c7a3f)\" d=\"M 525.107778 343.958437 \nL 525.107778 327.650437 \n\" style=\"fill:none;stroke:#92c6ff;\"/>\n    <path clip-path=\"url(#p55d21c7a3f)\" d=\"M 536.618189 343.958437 \nL 536.618189 327.650437 \n\" style=\"fill:none;stroke:#92c6ff;\"/>\n    <path clip-path=\"url(#p55d21c7a3f)\" d=\"M 533.740586 343.958437 \nL 533.740586 327.650437 \n\" style=\"fill:none;stroke:#92c6ff;\"/>\n    <path clip-path=\"url(#p55d21c7a3f)\" d=\"M 450.290102 343.958437 \nL 450.290102 327.650437 \n\" style=\"fill:none;stroke:#92c6ff;\"/>\n    <path clip-path=\"url(#p55d21c7a3f)\" d=\"M 551.006204 343.958437 \nL 551.006204 327.650437 \n\" style=\"fill:none;stroke:#92c6ff;\"/>\n    <path clip-path=\"url(#p55d21c7a3f)\" d=\"M 487.69894 343.958437 \nL 487.69894 327.650437 \n\" style=\"fill:none;stroke:#92c6ff;\"/>\n    <path clip-path=\"url(#p55d21c7a3f)\" d=\"M 542.373395 343.958437 \nL 542.373395 327.650437 \n\" style=\"fill:none;stroke:#92c6ff;\"/>\n    <path clip-path=\"url(#p55d21c7a3f)\" d=\"M 458.922911 343.958437 \nL 458.922911 327.650437 \n\" style=\"fill:none;stroke:#92c6ff;\"/>\n    <path clip-path=\"url(#p55d21c7a3f)\" d=\"M 516.474969 343.958437 \nL 516.474969 327.650437 \n\" style=\"fill:none;stroke:#92c6ff;\"/>\n    <path clip-path=\"url(#p55d21c7a3f)\" d=\"M 527.985381 343.958437 \nL 527.985381 327.650437 \n\" style=\"fill:none;stroke:#92c6ff;\"/>\n    <path clip-path=\"url(#p55d21c7a3f)\" d=\"M 476.188528 343.958437 \nL 476.188528 327.650437 \n\" style=\"fill:none;stroke:#92c6ff;\"/>\n    <path clip-path=\"url(#p55d21c7a3f)\" d=\"M 542.373395 343.958437 \nL 542.373395 327.650437 \n\" style=\"fill:none;stroke:#92c6ff;\"/>\n    <path clip-path=\"url(#p55d21c7a3f)\" d=\"M 461.800514 343.958437 \nL 461.800514 327.650437 \n\" style=\"fill:none;stroke:#92c6ff;\"/>\n    <path clip-path=\"url(#p55d21c7a3f)\" d=\"M 461.800514 343.958437 \nL 461.800514 327.650437 \n\" style=\"fill:none;stroke:#92c6ff;\"/>\n    <path clip-path=\"url(#p55d21c7a3f)\" d=\"M 473.310925 343.958437 \nL 473.310925 327.650437 \n\" style=\"fill:none;stroke:#92c6ff;\"/>\n    <path clip-path=\"url(#p55d21c7a3f)\" d=\"M 450.290102 343.958437 \nL 450.290102 327.650437 \n\" style=\"fill:none;stroke:#92c6ff;\"/>\n    <path clip-path=\"url(#p55d21c7a3f)\" d=\"M 516.474969 343.958437 \nL 516.474969 327.650437 \n\" style=\"fill:none;stroke:#92c6ff;\"/>\n    <path clip-path=\"url(#p55d21c7a3f)\" d=\"M 556.76141 343.958437 \nL 556.76141 327.650437 \n\" style=\"fill:none;stroke:#92c6ff;\"/>\n    <path clip-path=\"url(#p55d21c7a3f)\" d=\"M 522.230175 343.958437 \nL 522.230175 327.650437 \n\" style=\"fill:none;stroke:#92c6ff;\"/>\n    <path clip-path=\"url(#p55d21c7a3f)\" d=\"M 490.576543 343.958437 \nL 490.576543 327.650437 \n\" style=\"fill:none;stroke:#92c6ff;\"/>\n    <path clip-path=\"url(#p55d21c7a3f)\" d=\"M 568.271821 343.958437 \nL 568.271821 327.650437 \n\" style=\"fill:none;stroke:#92c6ff;\"/>\n    <path clip-path=\"url(#p55d21c7a3f)\" d=\"M 499.209352 343.958437 \nL 499.209352 327.650437 \n\" style=\"fill:none;stroke:#92c6ff;\"/>\n    <path clip-path=\"url(#p55d21c7a3f)\" d=\"M 513.597366 343.958437 \nL 513.597366 327.650437 \n\" style=\"fill:none;stroke:#92c6ff;\"/>\n    <path clip-path=\"url(#p55d21c7a3f)\" d=\"M 484.821337 343.958437 \nL 484.821337 327.650437 \n\" style=\"fill:none;stroke:#92c6ff;\"/>\n    <path clip-path=\"url(#p55d21c7a3f)\" d=\"M 525.107778 343.958437 \nL 525.107778 327.650437 \n\" style=\"fill:none;stroke:#92c6ff;\"/>\n    <path clip-path=\"url(#p55d21c7a3f)\" d=\"M 484.821337 343.958437 \nL 484.821337 327.650437 \n\" style=\"fill:none;stroke:#92c6ff;\"/>\n    <path clip-path=\"url(#p55d21c7a3f)\" d=\"M 536.618189 343.958437 \nL 536.618189 327.650437 \n\" style=\"fill:none;stroke:#92c6ff;\"/>\n    <path clip-path=\"url(#p55d21c7a3f)\" d=\"M 519.352572 343.958437 \nL 519.352572 327.650437 \n\" style=\"fill:none;stroke:#92c6ff;\"/>\n    <path clip-path=\"url(#p55d21c7a3f)\" d=\"M 461.800514 343.958437 \nL 461.800514 327.650437 \n\" style=\"fill:none;stroke:#92c6ff;\"/>\n    <path clip-path=\"url(#p55d21c7a3f)\" d=\"M 553.883807 343.958437 \nL 553.883807 327.650437 \n\" style=\"fill:none;stroke:#92c6ff;\"/>\n    <path clip-path=\"url(#p55d21c7a3f)\" d=\"M 467.55572 343.958437 \nL 467.55572 327.650437 \n\" style=\"fill:none;stroke:#92c6ff;\"/>\n    <path clip-path=\"url(#p55d21c7a3f)\" d=\"M 453.167705 343.958437 \nL 453.167705 327.650437 \n\" style=\"fill:none;stroke:#92c6ff;\"/>\n    <path clip-path=\"url(#p55d21c7a3f)\" d=\"M 568.271821 343.958437 \nL 568.271821 327.650437 \n\" style=\"fill:none;stroke:#92c6ff;\"/>\n    <path clip-path=\"url(#p55d21c7a3f)\" d=\"M 484.821337 343.958437 \nL 484.821337 327.650437 \n\" style=\"fill:none;stroke:#92c6ff;\"/>\n    <path clip-path=\"url(#p55d21c7a3f)\" d=\"M 525.107778 343.958437 \nL 525.107778 327.650437 \n\" style=\"fill:none;stroke:#92c6ff;\"/>\n    <path clip-path=\"url(#p55d21c7a3f)\" d=\"M 502.086955 343.958437 \nL 502.086955 327.650437 \n\" style=\"fill:none;stroke:#92c6ff;\"/>\n    <path clip-path=\"url(#p55d21c7a3f)\" d=\"M 504.964557 343.958437 \nL 504.964557 327.650437 \n\" style=\"fill:none;stroke:#92c6ff;\"/>\n    <path clip-path=\"url(#p55d21c7a3f)\" d=\"M 476.188528 343.958437 \nL 476.188528 327.650437 \n\" style=\"fill:none;stroke:#92c6ff;\"/>\n    <path clip-path=\"url(#p55d21c7a3f)\" d=\"M 533.740586 343.958437 \nL 533.740586 327.650437 \n\" style=\"fill:none;stroke:#92c6ff;\"/>\n    <path clip-path=\"url(#p55d21c7a3f)\" d=\"M 504.964557 343.958437 \nL 504.964557 327.650437 \n\" style=\"fill:none;stroke:#92c6ff;\"/>\n    <path clip-path=\"url(#p55d21c7a3f)\" d=\"M 516.474969 343.958437 \nL 516.474969 327.650437 \n\" style=\"fill:none;stroke:#92c6ff;\"/>\n    <path clip-path=\"url(#p55d21c7a3f)\" d=\"M 608.558262 343.958437 \nL 608.558262 327.650437 \n\" style=\"fill:none;stroke:#92c6ff;\"/>\n    <path clip-path=\"url(#p55d21c7a3f)\" d=\"M 504.964557 343.958437 \nL 504.964557 327.650437 \n\" style=\"fill:none;stroke:#92c6ff;\"/>\n    <path clip-path=\"url(#p55d21c7a3f)\" d=\"M 464.678117 343.958437 \nL 464.678117 327.650437 \n\" style=\"fill:none;stroke:#92c6ff;\"/>\n    <path clip-path=\"url(#p55d21c7a3f)\" d=\"M 530.862984 343.958437 \nL 530.862984 327.650437 \n\" style=\"fill:none;stroke:#92c6ff;\"/>\n    <path clip-path=\"url(#p55d21c7a3f)\" d=\"M 522.230175 343.958437 \nL 522.230175 327.650437 \n\" style=\"fill:none;stroke:#92c6ff;\"/>\n    <path clip-path=\"url(#p55d21c7a3f)\" d=\"M 458.922911 343.958437 \nL 458.922911 327.650437 \n\" style=\"fill:none;stroke:#92c6ff;\"/>\n    <path clip-path=\"url(#p55d21c7a3f)\" d=\"M 464.678117 343.958437 \nL 464.678117 327.650437 \n\" style=\"fill:none;stroke:#92c6ff;\"/>\n    <path clip-path=\"url(#p55d21c7a3f)\" d=\"M 533.740586 343.958437 \nL 533.740586 327.650437 \n\" style=\"fill:none;stroke:#92c6ff;\"/>\n    <path clip-path=\"url(#p55d21c7a3f)\" d=\"M 611.435865 343.958437 \nL 611.435865 327.650437 \n\" style=\"fill:none;stroke:#92c6ff;\"/>\n    <path clip-path=\"url(#p55d21c7a3f)\" d=\"M 456.045308 343.958437 \nL 456.045308 327.650437 \n\" style=\"fill:none;stroke:#92c6ff;\"/>\n    <path clip-path=\"url(#p55d21c7a3f)\" d=\"M 484.821337 343.958437 \nL 484.821337 327.650437 \n\" style=\"fill:none;stroke:#92c6ff;\"/>\n    <path clip-path=\"url(#p55d21c7a3f)\" d=\"M 461.800514 343.958437 \nL 461.800514 327.650437 \n\" style=\"fill:none;stroke:#92c6ff;\"/>\n    <path clip-path=\"url(#p55d21c7a3f)\" d=\"M 450.290102 343.958437 \nL 450.290102 327.650437 \n\" style=\"fill:none;stroke:#92c6ff;\"/>\n    <path clip-path=\"url(#p55d21c7a3f)\" d=\"M 490.576543 343.958437 \nL 490.576543 327.650437 \n\" style=\"fill:none;stroke:#92c6ff;\"/>\n    <path clip-path=\"url(#p55d21c7a3f)\" d=\"M 473.310925 343.958437 \nL 473.310925 327.650437 \n\" style=\"fill:none;stroke:#92c6ff;\"/>\n    <path clip-path=\"url(#p55d21c7a3f)\" d=\"M 493.454146 343.958437 \nL 493.454146 327.650437 \n\" style=\"fill:none;stroke:#92c6ff;\"/>\n    <path clip-path=\"url(#p55d21c7a3f)\" d=\"M 493.454146 343.958437 \nL 493.454146 327.650437 \n\" style=\"fill:none;stroke:#92c6ff;\"/>\n    <path clip-path=\"url(#p55d21c7a3f)\" d=\"M 496.331749 343.958437 \nL 496.331749 327.650437 \n\" style=\"fill:none;stroke:#92c6ff;\"/>\n    <path clip-path=\"url(#p55d21c7a3f)\" d=\"M 456.045308 343.958437 \nL 456.045308 327.650437 \n\" style=\"fill:none;stroke:#92c6ff;\"/>\n    <path clip-path=\"url(#p55d21c7a3f)\" d=\"M 473.310925 343.958437 \nL 473.310925 327.650437 \n\" style=\"fill:none;stroke:#92c6ff;\"/>\n    <path clip-path=\"url(#p55d21c7a3f)\" d=\"M 453.167705 343.958437 \nL 453.167705 327.650437 \n\" style=\"fill:none;stroke:#92c6ff;\"/>\n    <path clip-path=\"url(#p55d21c7a3f)\" d=\"M 481.943734 343.958437 \nL 481.943734 327.650437 \n\" style=\"fill:none;stroke:#92c6ff;\"/>\n    <path clip-path=\"url(#p55d21c7a3f)\" d=\"M 502.086955 343.958437 \nL 502.086955 327.650437 \n\" style=\"fill:none;stroke:#92c6ff;\"/>\n    <path clip-path=\"url(#p55d21c7a3f)\" d=\"M 458.922911 343.958437 \nL 458.922911 327.650437 \n\" style=\"fill:none;stroke:#92c6ff;\"/>\n    <path clip-path=\"url(#p55d21c7a3f)\" d=\"M 556.76141 343.958437 \nL 556.76141 327.650437 \n\" style=\"fill:none;stroke:#92c6ff;\"/>\n    <path clip-path=\"url(#p55d21c7a3f)\" d=\"M 453.167705 343.958437 \nL 453.167705 327.650437 \n\" style=\"fill:none;stroke:#92c6ff;\"/>\n    <path clip-path=\"url(#p55d21c7a3f)\" d=\"M 548.128601 343.958437 \nL 548.128601 327.650437 \n\" style=\"fill:none;stroke:#92c6ff;\"/>\n    <path clip-path=\"url(#p55d21c7a3f)\" d=\"M 510.719763 343.958437 \nL 510.719763 327.650437 \n\" style=\"fill:none;stroke:#92c6ff;\"/>\n    <path clip-path=\"url(#p55d21c7a3f)\" d=\"M 479.066131 343.958437 \nL 479.066131 327.650437 \n\" style=\"fill:none;stroke:#92c6ff;\"/>\n    <path clip-path=\"url(#p55d21c7a3f)\" d=\"M 479.066131 343.958437 \nL 479.066131 327.650437 \n\" style=\"fill:none;stroke:#92c6ff;\"/>\n    <path clip-path=\"url(#p55d21c7a3f)\" d=\"M 450.290102 343.958437 \nL 450.290102 327.650437 \n\" style=\"fill:none;stroke:#92c6ff;\"/>\n    <path clip-path=\"url(#p55d21c7a3f)\" d=\"M 481.943734 343.958437 \nL 481.943734 327.650437 \n\" style=\"fill:none;stroke:#92c6ff;\"/>\n    <path clip-path=\"url(#p55d21c7a3f)\" d=\"M 556.76141 343.958437 \nL 556.76141 327.650437 \n\" style=\"fill:none;stroke:#92c6ff;\"/>\n    <path clip-path=\"url(#p55d21c7a3f)\" d=\"M 542.373395 343.958437 \nL 542.373395 327.650437 \n\" style=\"fill:none;stroke:#92c6ff;\"/>\n    <path clip-path=\"url(#p55d21c7a3f)\" d=\"M 502.086955 343.958437 \nL 502.086955 327.650437 \n\" style=\"fill:none;stroke:#92c6ff;\"/>\n    <path clip-path=\"url(#p55d21c7a3f)\" d=\"M 470.433323 343.958437 \nL 470.433323 327.650437 \n\" style=\"fill:none;stroke:#92c6ff;\"/>\n    <path clip-path=\"url(#p55d21c7a3f)\" d=\"M 458.922911 343.958437 \nL 458.922911 327.650437 \n\" style=\"fill:none;stroke:#92c6ff;\"/>\n    <path clip-path=\"url(#p55d21c7a3f)\" d=\"M 493.454146 343.958437 \nL 493.454146 327.650437 \n\" style=\"fill:none;stroke:#92c6ff;\"/>\n    <path clip-path=\"url(#p55d21c7a3f)\" d=\"M 525.107778 343.958437 \nL 525.107778 327.650437 \n\" style=\"fill:none;stroke:#92c6ff;\"/>\n    <path clip-path=\"url(#p55d21c7a3f)\" d=\"M 490.576543 343.958437 \nL 490.576543 327.650437 \n\" style=\"fill:none;stroke:#92c6ff;\"/>\n    <path clip-path=\"url(#p55d21c7a3f)\" d=\"M 461.800514 343.958437 \nL 461.800514 327.650437 \n\" style=\"fill:none;stroke:#92c6ff;\"/>\n    <path clip-path=\"url(#p55d21c7a3f)\" d=\"M 502.086955 343.958437 \nL 502.086955 327.650437 \n\" style=\"fill:none;stroke:#92c6ff;\"/>\n    <path clip-path=\"url(#p55d21c7a3f)\" d=\"M 484.821337 343.958437 \nL 484.821337 327.650437 \n\" style=\"fill:none;stroke:#92c6ff;\"/>\n    <path clip-path=\"url(#p55d21c7a3f)\" d=\"M 553.883807 343.958437 \nL 553.883807 327.650437 \n\" style=\"fill:none;stroke:#92c6ff;\"/>\n    <path clip-path=\"url(#p55d21c7a3f)\" d=\"M 476.188528 343.958437 \nL 476.188528 327.650437 \n\" style=\"fill:none;stroke:#92c6ff;\"/>\n    <path clip-path=\"url(#p55d21c7a3f)\" d=\"M 458.922911 343.958437 \nL 458.922911 327.650437 \n\" style=\"fill:none;stroke:#92c6ff;\"/>\n    <path clip-path=\"url(#p55d21c7a3f)\" d=\"M 461.800514 343.958437 \nL 461.800514 327.650437 \n\" style=\"fill:none;stroke:#92c6ff;\"/>\n    <path clip-path=\"url(#p55d21c7a3f)\" d=\"M 461.800514 343.958437 \nL 461.800514 327.650437 \n\" style=\"fill:none;stroke:#92c6ff;\"/>\n    <path clip-path=\"url(#p55d21c7a3f)\" d=\"M 453.167705 343.958437 \nL 453.167705 327.650437 \n\" style=\"fill:none;stroke:#92c6ff;\"/>\n    <path clip-path=\"url(#p55d21c7a3f)\" d=\"M 461.800514 343.958437 \nL 461.800514 327.650437 \n\" style=\"fill:none;stroke:#92c6ff;\"/>\n    <path clip-path=\"url(#p55d21c7a3f)\" d=\"M 519.352572 343.958437 \nL 519.352572 327.650437 \n\" style=\"fill:none;stroke:#92c6ff;\"/>\n    <path clip-path=\"url(#p55d21c7a3f)\" d=\"M 504.964557 343.958437 \nL 504.964557 327.650437 \n\" style=\"fill:none;stroke:#92c6ff;\"/>\n    <path clip-path=\"url(#p55d21c7a3f)\" d=\"M 479.066131 343.958437 \nL 479.066131 327.650437 \n\" style=\"fill:none;stroke:#92c6ff;\"/>\n    <path clip-path=\"url(#p55d21c7a3f)\" d=\"M 487.69894 343.958437 \nL 487.69894 327.650437 \n\" style=\"fill:none;stroke:#92c6ff;\"/>\n    <path clip-path=\"url(#p55d21c7a3f)\" d=\"M 513.597366 343.958437 \nL 513.597366 327.650437 \n\" style=\"fill:none;stroke:#92c6ff;\"/>\n    <path clip-path=\"url(#p55d21c7a3f)\" d=\"M 453.167705 343.958437 \nL 453.167705 327.650437 \n\" style=\"fill:none;stroke:#92c6ff;\"/>\n    <path clip-path=\"url(#p55d21c7a3f)\" d=\"M 470.433323 343.958437 \nL 470.433323 327.650437 \n\" style=\"fill:none;stroke:#92c6ff;\"/>\n    <path clip-path=\"url(#p55d21c7a3f)\" d=\"M 458.922911 343.958437 \nL 458.922911 327.650437 \n\" style=\"fill:none;stroke:#92c6ff;\"/>\n    <path clip-path=\"url(#p55d21c7a3f)\" d=\"M 458.922911 343.958437 \nL 458.922911 327.650437 \n\" style=\"fill:none;stroke:#92c6ff;\"/>\n    <path clip-path=\"url(#p55d21c7a3f)\" d=\"M 504.964557 343.958437 \nL 504.964557 327.650437 \n\" style=\"fill:none;stroke:#92c6ff;\"/>\n    <path clip-path=\"url(#p55d21c7a3f)\" d=\"M 502.086955 343.958437 \nL 502.086955 327.650437 \n\" style=\"fill:none;stroke:#92c6ff;\"/>\n    <path clip-path=\"url(#p55d21c7a3f)\" d=\"M 450.290102 343.958437 \nL 450.290102 327.650437 \n\" style=\"fill:none;stroke:#92c6ff;\"/>\n    <path clip-path=\"url(#p55d21c7a3f)\" d=\"M 496.331749 343.958437 \nL 496.331749 327.650437 \n\" style=\"fill:none;stroke:#92c6ff;\"/>\n    <path clip-path=\"url(#p55d21c7a3f)\" d=\"M 499.209352 343.958437 \nL 499.209352 327.650437 \n\" style=\"fill:none;stroke:#92c6ff;\"/>\n    <path clip-path=\"url(#p55d21c7a3f)\" d=\"M 456.045308 343.958437 \nL 456.045308 327.650437 \n\" style=\"fill:none;stroke:#92c6ff;\"/>\n    <path clip-path=\"url(#p55d21c7a3f)\" d=\"M 484.821337 343.958437 \nL 484.821337 327.650437 \n\" style=\"fill:none;stroke:#92c6ff;\"/>\n    <path clip-path=\"url(#p55d21c7a3f)\" d=\"M 456.045308 343.958437 \nL 456.045308 327.650437 \n\" style=\"fill:none;stroke:#92c6ff;\"/>\n    <path clip-path=\"url(#p55d21c7a3f)\" d=\"M 527.985381 343.958437 \nL 527.985381 327.650437 \n\" style=\"fill:none;stroke:#92c6ff;\"/>\n    <path clip-path=\"url(#p55d21c7a3f)\" d=\"M 591.292645 343.958437 \nL 591.292645 327.650437 \n\" style=\"fill:none;stroke:#92c6ff;\"/>\n    <path clip-path=\"url(#p55d21c7a3f)\" d=\"M 499.209352 343.958437 \nL 499.209352 327.650437 \n\" style=\"fill:none;stroke:#92c6ff;\"/>\n    <path clip-path=\"url(#p55d21c7a3f)\" d=\"M 484.821337 343.958437 \nL 484.821337 327.650437 \n\" style=\"fill:none;stroke:#92c6ff;\"/>\n    <path clip-path=\"url(#p55d21c7a3f)\" d=\"M 516.474969 343.958437 \nL 516.474969 327.650437 \n\" style=\"fill:none;stroke:#92c6ff;\"/>\n    <path clip-path=\"url(#p55d21c7a3f)\" d=\"M 458.922911 343.958437 \nL 458.922911 327.650437 \n\" style=\"fill:none;stroke:#92c6ff;\"/>\n    <path clip-path=\"url(#p55d21c7a3f)\" d=\"M 450.290102 343.958437 \nL 450.290102 327.650437 \n\" style=\"fill:none;stroke:#92c6ff;\"/>\n    <path clip-path=\"url(#p55d21c7a3f)\" d=\"M 579.782233 343.958437 \nL 579.782233 327.650437 \n\" style=\"fill:none;stroke:#92c6ff;\"/>\n    <path clip-path=\"url(#p55d21c7a3f)\" d=\"M 617.191071 343.958437 \nL 617.191071 327.650437 \n\" style=\"fill:none;stroke:#92c6ff;\"/>\n    <path clip-path=\"url(#p55d21c7a3f)\" d=\"M 522.230175 343.958437 \nL 522.230175 327.650437 \n\" style=\"fill:none;stroke:#92c6ff;\"/>\n    <path clip-path=\"url(#p55d21c7a3f)\" d=\"M 496.331749 343.958437 \nL 496.331749 327.650437 \n\" style=\"fill:none;stroke:#92c6ff;\"/>\n    <path clip-path=\"url(#p55d21c7a3f)\" d=\"M 516.474969 343.958437 \nL 516.474969 327.650437 \n\" style=\"fill:none;stroke:#92c6ff;\"/>\n    <path clip-path=\"url(#p55d21c7a3f)\" d=\"M 496.331749 343.958437 \nL 496.331749 327.650437 \n\" style=\"fill:none;stroke:#92c6ff;\"/>\n    <path clip-path=\"url(#p55d21c7a3f)\" d=\"M 496.331749 343.958437 \nL 496.331749 327.650437 \n\" style=\"fill:none;stroke:#92c6ff;\"/>\n    <path clip-path=\"url(#p55d21c7a3f)\" d=\"M 527.985381 343.958437 \nL 527.985381 327.650437 \n\" style=\"fill:none;stroke:#92c6ff;\"/>\n    <path clip-path=\"url(#p55d21c7a3f)\" d=\"M 504.964557 343.958437 \nL 504.964557 327.650437 \n\" style=\"fill:none;stroke:#92c6ff;\"/>\n    <path clip-path=\"url(#p55d21c7a3f)\" d=\"M 484.821337 343.958437 \nL 484.821337 327.650437 \n\" style=\"fill:none;stroke:#92c6ff;\"/>\n    <path clip-path=\"url(#p55d21c7a3f)\" d=\"M 516.474969 343.958437 \nL 516.474969 327.650437 \n\" style=\"fill:none;stroke:#92c6ff;\"/>\n    <path clip-path=\"url(#p55d21c7a3f)\" d=\"M 487.69894 343.958437 \nL 487.69894 327.650437 \n\" style=\"fill:none;stroke:#92c6ff;\"/>\n    <path clip-path=\"url(#p55d21c7a3f)\" d=\"M 516.474969 343.958437 \nL 516.474969 327.650437 \n\" style=\"fill:none;stroke:#92c6ff;\"/>\n    <path clip-path=\"url(#p55d21c7a3f)\" d=\"M 499.209352 343.958437 \nL 499.209352 327.650437 \n\" style=\"fill:none;stroke:#92c6ff;\"/>\n    <path clip-path=\"url(#p55d21c7a3f)\" d=\"M 450.290102 343.958437 \nL 450.290102 327.650437 \n\" style=\"fill:none;stroke:#92c6ff;\"/>\n    <path clip-path=\"url(#p55d21c7a3f)\" d=\"M 476.188528 343.958437 \nL 476.188528 327.650437 \n\" style=\"fill:none;stroke:#92c6ff;\"/>\n    <path clip-path=\"url(#p55d21c7a3f)\" d=\"M 533.740586 343.958437 \nL 533.740586 327.650437 \n\" style=\"fill:none;stroke:#92c6ff;\"/>\n    <path clip-path=\"url(#p55d21c7a3f)\" d=\"M 507.84216 343.958437 \nL 507.84216 327.650437 \n\" style=\"fill:none;stroke:#92c6ff;\"/>\n    <path clip-path=\"url(#p55d21c7a3f)\" d=\"M 574.027027 343.958437 \nL 574.027027 327.650437 \n\" style=\"fill:none;stroke:#92c6ff;\"/>\n    <path clip-path=\"url(#p55d21c7a3f)\" d=\"M 510.719763 343.958437 \nL 510.719763 327.650437 \n\" style=\"fill:none;stroke:#92c6ff;\"/>\n    <path clip-path=\"url(#p55d21c7a3f)\" d=\"M 473.310925 343.958437 \nL 473.310925 327.650437 \n\" style=\"fill:none;stroke:#92c6ff;\"/>\n    <path clip-path=\"url(#p55d21c7a3f)\" d=\"M 548.128601 343.958437 \nL 548.128601 327.650437 \n\" style=\"fill:none;stroke:#92c6ff;\"/>\n    <path clip-path=\"url(#p55d21c7a3f)\" d=\"M 458.922911 343.958437 \nL 458.922911 327.650437 \n\" style=\"fill:none;stroke:#92c6ff;\"/>\n    <path clip-path=\"url(#p55d21c7a3f)\" d=\"M 450.290102 343.958437 \nL 450.290102 327.650437 \n\" style=\"fill:none;stroke:#92c6ff;\"/>\n    <path clip-path=\"url(#p55d21c7a3f)\" d=\"M 487.69894 343.958437 \nL 487.69894 327.650437 \n\" style=\"fill:none;stroke:#92c6ff;\"/>\n    <path clip-path=\"url(#p55d21c7a3f)\" d=\"M 513.597366 343.958437 \nL 513.597366 327.650437 \n\" style=\"fill:none;stroke:#92c6ff;\"/>\n    <path clip-path=\"url(#p55d21c7a3f)\" d=\"M 553.883807 343.958437 \nL 553.883807 327.650437 \n\" style=\"fill:none;stroke:#92c6ff;\"/>\n    <path clip-path=\"url(#p55d21c7a3f)\" d=\"M 493.454146 343.958437 \nL 493.454146 327.650437 \n\" style=\"fill:none;stroke:#92c6ff;\"/>\n    <path clip-path=\"url(#p55d21c7a3f)\" d=\"M 645.9671 343.958437 \nL 645.9671 327.650437 \n\" style=\"fill:none;stroke:#92c6ff;\"/>\n    <path clip-path=\"url(#p55d21c7a3f)\" d=\"M 450.290102 343.958437 \nL 450.290102 327.650437 \n\" style=\"fill:none;stroke:#92c6ff;\"/>\n    <path clip-path=\"url(#p55d21c7a3f)\" d=\"M 458.922911 343.958437 \nL 458.922911 327.650437 \n\" style=\"fill:none;stroke:#92c6ff;\"/>\n    <path clip-path=\"url(#p55d21c7a3f)\" d=\"M 467.55572 343.958437 \nL 467.55572 327.650437 \n\" style=\"fill:none;stroke:#92c6ff;\"/>\n    <path clip-path=\"url(#p55d21c7a3f)\" d=\"M 484.821337 343.958437 \nL 484.821337 327.650437 \n\" style=\"fill:none;stroke:#92c6ff;\"/>\n    <path clip-path=\"url(#p55d21c7a3f)\" d=\"M 499.209352 343.958437 \nL 499.209352 327.650437 \n\" style=\"fill:none;stroke:#92c6ff;\"/>\n    <path clip-path=\"url(#p55d21c7a3f)\" d=\"M 464.678117 343.958437 \nL 464.678117 327.650437 \n\" style=\"fill:none;stroke:#92c6ff;\"/>\n    <path clip-path=\"url(#p55d21c7a3f)\" d=\"M 484.821337 343.958437 \nL 484.821337 327.650437 \n\" style=\"fill:none;stroke:#92c6ff;\"/>\n    <path clip-path=\"url(#p55d21c7a3f)\" d=\"M 458.922911 343.958437 \nL 458.922911 327.650437 \n\" style=\"fill:none;stroke:#92c6ff;\"/>\n    <path clip-path=\"url(#p55d21c7a3f)\" d=\"M 553.883807 343.958437 \nL 553.883807 327.650437 \n\" style=\"fill:none;stroke:#92c6ff;\"/>\n    <path clip-path=\"url(#p55d21c7a3f)\" d=\"M 456.045308 343.958437 \nL 456.045308 327.650437 \n\" style=\"fill:none;stroke:#92c6ff;\"/>\n    <path clip-path=\"url(#p55d21c7a3f)\" d=\"M 574.027027 343.958437 \nL 574.027027 327.650437 \n\" style=\"fill:none;stroke:#92c6ff;\"/>\n    <path clip-path=\"url(#p55d21c7a3f)\" d=\"M 456.045308 343.958437 \nL 456.045308 327.650437 \n\" style=\"fill:none;stroke:#92c6ff;\"/>\n    <path clip-path=\"url(#p55d21c7a3f)\" d=\"M 467.55572 343.958437 \nL 467.55572 327.650437 \n\" style=\"fill:none;stroke:#92c6ff;\"/>\n    <path clip-path=\"url(#p55d21c7a3f)\" d=\"M 453.167705 343.958437 \nL 453.167705 327.650437 \n\" style=\"fill:none;stroke:#92c6ff;\"/>\n    <path clip-path=\"url(#p55d21c7a3f)\" d=\"M 502.086955 343.958437 \nL 502.086955 327.650437 \n\" style=\"fill:none;stroke:#92c6ff;\"/>\n    <path clip-path=\"url(#p55d21c7a3f)\" d=\"M 519.352572 343.958437 \nL 519.352572 327.650437 \n\" style=\"fill:none;stroke:#92c6ff;\"/>\n    <path clip-path=\"url(#p55d21c7a3f)\" d=\"M 487.69894 343.958437 \nL 487.69894 327.650437 \n\" style=\"fill:none;stroke:#92c6ff;\"/>\n    <path clip-path=\"url(#p55d21c7a3f)\" d=\"M 453.167705 343.958437 \nL 453.167705 327.650437 \n\" style=\"fill:none;stroke:#92c6ff;\"/>\n    <path clip-path=\"url(#p55d21c7a3f)\" d=\"M 496.331749 343.958437 \nL 496.331749 327.650437 \n\" style=\"fill:none;stroke:#92c6ff;\"/>\n    <path clip-path=\"url(#p55d21c7a3f)\" d=\"M 499.209352 343.958437 \nL 499.209352 327.650437 \n\" style=\"fill:none;stroke:#92c6ff;\"/>\n    <path clip-path=\"url(#p55d21c7a3f)\" d=\"M 487.69894 343.958437 \nL 487.69894 327.650437 \n\" style=\"fill:none;stroke:#92c6ff;\"/>\n    <path clip-path=\"url(#p55d21c7a3f)\" d=\"M 510.719763 343.958437 \nL 510.719763 327.650437 \n\" style=\"fill:none;stroke:#92c6ff;\"/>\n    <path clip-path=\"url(#p55d21c7a3f)\" d=\"M 473.310925 343.958437 \nL 473.310925 327.650437 \n\" style=\"fill:none;stroke:#92c6ff;\"/>\n    <path clip-path=\"url(#p55d21c7a3f)\" d=\"M 450.290102 343.958437 \nL 450.290102 327.650437 \n\" style=\"fill:none;stroke:#92c6ff;\"/>\n    <path clip-path=\"url(#p55d21c7a3f)\" d=\"M 504.964557 343.958437 \nL 504.964557 327.650437 \n\" style=\"fill:none;stroke:#92c6ff;\"/>\n    <path clip-path=\"url(#p55d21c7a3f)\" d=\"M 559.639013 343.958437 \nL 559.639013 327.650437 \n\" style=\"fill:none;stroke:#92c6ff;\"/>\n    <path clip-path=\"url(#p55d21c7a3f)\" d=\"M 527.985381 343.958437 \nL 527.985381 327.650437 \n\" style=\"fill:none;stroke:#92c6ff;\"/>\n    <path clip-path=\"url(#p55d21c7a3f)\" d=\"M 467.55572 343.958437 \nL 467.55572 327.650437 \n\" style=\"fill:none;stroke:#92c6ff;\"/>\n    <path clip-path=\"url(#p55d21c7a3f)\" d=\"M 496.331749 343.958437 \nL 496.331749 327.650437 \n\" style=\"fill:none;stroke:#92c6ff;\"/>\n    <path clip-path=\"url(#p55d21c7a3f)\" d=\"M 530.862984 343.958437 \nL 530.862984 327.650437 \n\" style=\"fill:none;stroke:#92c6ff;\"/>\n    <path clip-path=\"url(#p55d21c7a3f)\" d=\"M 504.964557 343.958437 \nL 504.964557 327.650437 \n\" style=\"fill:none;stroke:#92c6ff;\"/>\n    <path clip-path=\"url(#p55d21c7a3f)\" d=\"M 522.230175 343.958437 \nL 522.230175 327.650437 \n\" style=\"fill:none;stroke:#92c6ff;\"/>\n    <path clip-path=\"url(#p55d21c7a3f)\" d=\"M 513.597366 343.958437 \nL 513.597366 327.650437 \n\" style=\"fill:none;stroke:#92c6ff;\"/>\n    <path clip-path=\"url(#p55d21c7a3f)\" d=\"M 473.310925 343.958437 \nL 473.310925 327.650437 \n\" style=\"fill:none;stroke:#92c6ff;\"/>\n    <path clip-path=\"url(#p55d21c7a3f)\" d=\"M 553.883807 343.958437 \nL 553.883807 327.650437 \n\" style=\"fill:none;stroke:#92c6ff;\"/>\n    <path clip-path=\"url(#p55d21c7a3f)\" d=\"M 496.331749 343.958437 \nL 496.331749 327.650437 \n\" style=\"fill:none;stroke:#92c6ff;\"/>\n    <path clip-path=\"url(#p55d21c7a3f)\" d=\"M 458.922911 343.958437 \nL 458.922911 327.650437 \n\" style=\"fill:none;stroke:#92c6ff;\"/>\n    <path clip-path=\"url(#p55d21c7a3f)\" d=\"M 510.719763 343.958437 \nL 510.719763 327.650437 \n\" style=\"fill:none;stroke:#92c6ff;\"/>\n    <path clip-path=\"url(#p55d21c7a3f)\" d=\"M 545.250998 343.958437 \nL 545.250998 327.650437 \n\" style=\"fill:none;stroke:#92c6ff;\"/>\n    <path clip-path=\"url(#p55d21c7a3f)\" d=\"M 496.331749 343.958437 \nL 496.331749 327.650437 \n\" style=\"fill:none;stroke:#92c6ff;\"/>\n    <path clip-path=\"url(#p55d21c7a3f)\" d=\"M 470.433323 343.958437 \nL 470.433323 327.650437 \n\" style=\"fill:none;stroke:#92c6ff;\"/>\n    <path clip-path=\"url(#p55d21c7a3f)\" d=\"M 479.066131 343.958437 \nL 479.066131 327.650437 \n\" style=\"fill:none;stroke:#92c6ff;\"/>\n    <path clip-path=\"url(#p55d21c7a3f)\" d=\"M 516.474969 343.958437 \nL 516.474969 327.650437 \n\" style=\"fill:none;stroke:#92c6ff;\"/>\n    <path clip-path=\"url(#p55d21c7a3f)\" d=\"M 493.454146 343.958437 \nL 493.454146 327.650437 \n\" style=\"fill:none;stroke:#92c6ff;\"/>\n    <path clip-path=\"url(#p55d21c7a3f)\" d=\"M 571.149424 343.958437 \nL 571.149424 327.650437 \n\" style=\"fill:none;stroke:#92c6ff;\"/>\n    <path clip-path=\"url(#p55d21c7a3f)\" d=\"M 516.474969 343.958437 \nL 516.474969 327.650437 \n\" style=\"fill:none;stroke:#92c6ff;\"/>\n    <path clip-path=\"url(#p55d21c7a3f)\" d=\"M 516.474969 343.958437 \nL 516.474969 327.650437 \n\" style=\"fill:none;stroke:#92c6ff;\"/>\n    <path clip-path=\"url(#p55d21c7a3f)\" d=\"M 470.433323 343.958437 \nL 470.433323 327.650437 \n\" style=\"fill:none;stroke:#92c6ff;\"/>\n    <path clip-path=\"url(#p55d21c7a3f)\" d=\"M 516.474969 343.958437 \nL 516.474969 327.650437 \n\" style=\"fill:none;stroke:#92c6ff;\"/>\n    <path clip-path=\"url(#p55d21c7a3f)\" d=\"M 499.209352 343.958437 \nL 499.209352 327.650437 \n\" style=\"fill:none;stroke:#92c6ff;\"/>\n    <path clip-path=\"url(#p55d21c7a3f)\" d=\"M 614.313468 343.958437 \nL 614.313468 327.650437 \n\" style=\"fill:none;stroke:#92c6ff;\"/>\n    <path clip-path=\"url(#p55d21c7a3f)\" d=\"M 490.576543 343.958437 \nL 490.576543 327.650437 \n\" style=\"fill:none;stroke:#92c6ff;\"/>\n    <path clip-path=\"url(#p55d21c7a3f)\" d=\"M 530.862984 343.958437 \nL 530.862984 327.650437 \n\" style=\"fill:none;stroke:#92c6ff;\"/>\n    <path clip-path=\"url(#p55d21c7a3f)\" d=\"M 476.188528 343.958437 \nL 476.188528 327.650437 \n\" style=\"fill:none;stroke:#92c6ff;\"/>\n    <path clip-path=\"url(#p55d21c7a3f)\" d=\"M 637.334291 343.958437 \nL 637.334291 327.650437 \n\" style=\"fill:none;stroke:#92c6ff;\"/>\n    <path clip-path=\"url(#p55d21c7a3f)\" d=\"M 510.719763 343.958437 \nL 510.719763 327.650437 \n\" style=\"fill:none;stroke:#92c6ff;\"/>\n    <path clip-path=\"url(#p55d21c7a3f)\" d=\"M 456.045308 343.958437 \nL 456.045308 327.650437 \n\" style=\"fill:none;stroke:#92c6ff;\"/>\n    <path clip-path=\"url(#p55d21c7a3f)\" d=\"M 453.167705 343.958437 \nL 453.167705 327.650437 \n\" style=\"fill:none;stroke:#92c6ff;\"/>\n    <path clip-path=\"url(#p55d21c7a3f)\" d=\"M 453.167705 343.958437 \nL 453.167705 327.650437 \n\" style=\"fill:none;stroke:#92c6ff;\"/>\n    <path clip-path=\"url(#p55d21c7a3f)\" d=\"M 510.719763 343.958437 \nL 510.719763 327.650437 \n\" style=\"fill:none;stroke:#92c6ff;\"/>\n    <path clip-path=\"url(#p55d21c7a3f)\" d=\"M 450.290102 343.958437 \nL 450.290102 327.650437 \n\" style=\"fill:none;stroke:#92c6ff;\"/>\n    <path clip-path=\"url(#p55d21c7a3f)\" d=\"M 450.290102 343.958437 \nL 450.290102 327.650437 \n\" style=\"fill:none;stroke:#92c6ff;\"/>\n    <path clip-path=\"url(#p55d21c7a3f)\" d=\"M 582.659836 343.958437 \nL 582.659836 327.650437 \n\" style=\"fill:none;stroke:#92c6ff;\"/>\n    <path clip-path=\"url(#p55d21c7a3f)\" d=\"M 456.045308 343.958437 \nL 456.045308 327.650437 \n\" style=\"fill:none;stroke:#92c6ff;\"/>\n    <path clip-path=\"url(#p55d21c7a3f)\" d=\"M 536.618189 343.958437 \nL 536.618189 327.650437 \n\" style=\"fill:none;stroke:#92c6ff;\"/>\n    <path clip-path=\"url(#p55d21c7a3f)\" d=\"M 496.331749 343.958437 \nL 496.331749 327.650437 \n\" style=\"fill:none;stroke:#92c6ff;\"/>\n    <path clip-path=\"url(#p55d21c7a3f)\" d=\"M 464.678117 343.958437 \nL 464.678117 327.650437 \n\" style=\"fill:none;stroke:#92c6ff;\"/>\n    <path clip-path=\"url(#p55d21c7a3f)\" d=\"M 461.800514 343.958437 \nL 461.800514 327.650437 \n\" style=\"fill:none;stroke:#92c6ff;\"/>\n    <path clip-path=\"url(#p55d21c7a3f)\" d=\"M 461.800514 343.958437 \nL 461.800514 327.650437 \n\" style=\"fill:none;stroke:#92c6ff;\"/>\n    <path clip-path=\"url(#p55d21c7a3f)\" d=\"M 499.209352 343.958437 \nL 499.209352 327.650437 \n\" style=\"fill:none;stroke:#92c6ff;\"/>\n    <path clip-path=\"url(#p55d21c7a3f)\" d=\"M 473.310925 343.958437 \nL 473.310925 327.650437 \n\" style=\"fill:none;stroke:#92c6ff;\"/>\n    <path clip-path=\"url(#p55d21c7a3f)\" d=\"M 559.639013 343.958437 \nL 559.639013 327.650437 \n\" style=\"fill:none;stroke:#92c6ff;\"/>\n    <path clip-path=\"url(#p55d21c7a3f)\" d=\"M 453.167705 343.958437 \nL 453.167705 327.650437 \n\" style=\"fill:none;stroke:#92c6ff;\"/>\n    <path clip-path=\"url(#p55d21c7a3f)\" d=\"M 481.943734 343.958437 \nL 481.943734 327.650437 \n\" style=\"fill:none;stroke:#92c6ff;\"/>\n    <path clip-path=\"url(#p55d21c7a3f)\" d=\"M 502.086955 343.958437 \nL 502.086955 327.650437 \n\" style=\"fill:none;stroke:#92c6ff;\"/>\n    <path clip-path=\"url(#p55d21c7a3f)\" d=\"M 493.454146 343.958437 \nL 493.454146 327.650437 \n\" style=\"fill:none;stroke:#92c6ff;\"/>\n    <path clip-path=\"url(#p55d21c7a3f)\" d=\"M 470.433323 343.958437 \nL 470.433323 327.650437 \n\" style=\"fill:none;stroke:#92c6ff;\"/>\n    <path clip-path=\"url(#p55d21c7a3f)\" d=\"M 493.454146 343.958437 \nL 493.454146 327.650437 \n\" style=\"fill:none;stroke:#92c6ff;\"/>\n    <path clip-path=\"url(#p55d21c7a3f)\" d=\"M 458.922911 343.958437 \nL 458.922911 327.650437 \n\" style=\"fill:none;stroke:#92c6ff;\"/>\n    <path clip-path=\"url(#p55d21c7a3f)\" d=\"M 496.331749 343.958437 \nL 496.331749 327.650437 \n\" style=\"fill:none;stroke:#92c6ff;\"/>\n    <path clip-path=\"url(#p55d21c7a3f)\" d=\"M 473.310925 343.958437 \nL 473.310925 327.650437 \n\" style=\"fill:none;stroke:#92c6ff;\"/>\n    <path clip-path=\"url(#p55d21c7a3f)\" d=\"M 545.250998 343.958437 \nL 545.250998 327.650437 \n\" style=\"fill:none;stroke:#92c6ff;\"/>\n    <path clip-path=\"url(#p55d21c7a3f)\" d=\"M 504.964557 343.958437 \nL 504.964557 327.650437 \n\" style=\"fill:none;stroke:#92c6ff;\"/>\n    <path clip-path=\"url(#p55d21c7a3f)\" d=\"M 473.310925 343.958437 \nL 473.310925 327.650437 \n\" style=\"fill:none;stroke:#92c6ff;\"/>\n    <path clip-path=\"url(#p55d21c7a3f)\" d=\"M 476.188528 343.958437 \nL 476.188528 327.650437 \n\" style=\"fill:none;stroke:#92c6ff;\"/>\n    <path clip-path=\"url(#p55d21c7a3f)\" d=\"M 545.250998 343.958437 \nL 545.250998 327.650437 \n\" style=\"fill:none;stroke:#92c6ff;\"/>\n    <path clip-path=\"url(#p55d21c7a3f)\" d=\"M 551.006204 343.958437 \nL 551.006204 327.650437 \n\" style=\"fill:none;stroke:#92c6ff;\"/>\n    <path clip-path=\"url(#p55d21c7a3f)\" d=\"M 559.639013 343.958437 \nL 559.639013 327.650437 \n\" style=\"fill:none;stroke:#92c6ff;\"/>\n    <path clip-path=\"url(#p55d21c7a3f)\" d=\"M 502.086955 343.958437 \nL 502.086955 327.650437 \n\" style=\"fill:none;stroke:#92c6ff;\"/>\n    <path clip-path=\"url(#p55d21c7a3f)\" d=\"M 522.230175 343.958437 \nL 522.230175 327.650437 \n\" style=\"fill:none;stroke:#92c6ff;\"/>\n    <path clip-path=\"url(#p55d21c7a3f)\" d=\"M 470.433323 343.958437 \nL 470.433323 327.650437 \n\" style=\"fill:none;stroke:#92c6ff;\"/>\n    <path clip-path=\"url(#p55d21c7a3f)\" d=\"M 522.230175 343.958437 \nL 522.230175 327.650437 \n\" style=\"fill:none;stroke:#92c6ff;\"/>\n    <path clip-path=\"url(#p55d21c7a3f)\" d=\"M 461.800514 343.958437 \nL 461.800514 327.650437 \n\" style=\"fill:none;stroke:#92c6ff;\"/>\n    <path clip-path=\"url(#p55d21c7a3f)\" d=\"M 525.107778 343.958437 \nL 525.107778 327.650437 \n\" style=\"fill:none;stroke:#92c6ff;\"/>\n    <path clip-path=\"url(#p55d21c7a3f)\" d=\"M 516.474969 343.958437 \nL 516.474969 327.650437 \n\" style=\"fill:none;stroke:#92c6ff;\"/>\n    <path clip-path=\"url(#p55d21c7a3f)\" d=\"M 504.964557 343.958437 \nL 504.964557 327.650437 \n\" style=\"fill:none;stroke:#92c6ff;\"/>\n    <path clip-path=\"url(#p55d21c7a3f)\" d=\"M 456.045308 343.958437 \nL 456.045308 327.650437 \n\" style=\"fill:none;stroke:#92c6ff;\"/>\n    <path clip-path=\"url(#p55d21c7a3f)\" d=\"M 533.740586 343.958437 \nL 533.740586 327.650437 \n\" style=\"fill:none;stroke:#92c6ff;\"/>\n    <path clip-path=\"url(#p55d21c7a3f)\" d=\"M 481.943734 343.958437 \nL 481.943734 327.650437 \n\" style=\"fill:none;stroke:#92c6ff;\"/>\n    <path clip-path=\"url(#p55d21c7a3f)\" d=\"M 599.925453 343.958437 \nL 599.925453 327.650437 \n\" style=\"fill:none;stroke:#92c6ff;\"/>\n    <path clip-path=\"url(#p55d21c7a3f)\" d=\"M 473.310925 343.958437 \nL 473.310925 327.650437 \n\" style=\"fill:none;stroke:#92c6ff;\"/>\n    <path clip-path=\"url(#p55d21c7a3f)\" d=\"M 527.985381 343.958437 \nL 527.985381 327.650437 \n\" style=\"fill:none;stroke:#92c6ff;\"/>\n    <path clip-path=\"url(#p55d21c7a3f)\" d=\"M 484.821337 343.958437 \nL 484.821337 327.650437 \n\" style=\"fill:none;stroke:#92c6ff;\"/>\n    <path clip-path=\"url(#p55d21c7a3f)\" d=\"M 499.209352 343.958437 \nL 499.209352 327.650437 \n\" style=\"fill:none;stroke:#92c6ff;\"/>\n    <path clip-path=\"url(#p55d21c7a3f)\" d=\"M 496.331749 343.958437 \nL 496.331749 327.650437 \n\" style=\"fill:none;stroke:#92c6ff;\"/>\n    <path clip-path=\"url(#p55d21c7a3f)\" d=\"M 479.066131 343.958437 \nL 479.066131 327.650437 \n\" style=\"fill:none;stroke:#92c6ff;\"/>\n    <path clip-path=\"url(#p55d21c7a3f)\" d=\"M 476.188528 343.958437 \nL 476.188528 327.650437 \n\" style=\"fill:none;stroke:#92c6ff;\"/>\n    <path clip-path=\"url(#p55d21c7a3f)\" d=\"M 450.290102 343.958437 \nL 450.290102 327.650437 \n\" style=\"fill:none;stroke:#92c6ff;\"/>\n    <path clip-path=\"url(#p55d21c7a3f)\" d=\"M 553.883807 343.958437 \nL 553.883807 327.650437 \n\" style=\"fill:none;stroke:#92c6ff;\"/>\n    <path clip-path=\"url(#p55d21c7a3f)\" d=\"M 490.576543 343.958437 \nL 490.576543 327.650437 \n\" style=\"fill:none;stroke:#92c6ff;\"/>\n    <path clip-path=\"url(#p55d21c7a3f)\" d=\"M 507.84216 343.958437 \nL 507.84216 327.650437 \n\" style=\"fill:none;stroke:#92c6ff;\"/>\n    <path clip-path=\"url(#p55d21c7a3f)\" d=\"M 545.250998 343.958437 \nL 545.250998 327.650437 \n\" style=\"fill:none;stroke:#92c6ff;\"/>\n    <path clip-path=\"url(#p55d21c7a3f)\" d=\"M 504.964557 343.958437 \nL 504.964557 327.650437 \n\" style=\"fill:none;stroke:#92c6ff;\"/>\n    <path clip-path=\"url(#p55d21c7a3f)\" d=\"M 548.128601 343.958437 \nL 548.128601 327.650437 \n\" style=\"fill:none;stroke:#92c6ff;\"/>\n    <path clip-path=\"url(#p55d21c7a3f)\" d=\"M 461.800514 343.958437 \nL 461.800514 327.650437 \n\" style=\"fill:none;stroke:#92c6ff;\"/>\n    <path clip-path=\"url(#p55d21c7a3f)\" d=\"M 504.964557 343.958437 \nL 504.964557 327.650437 \n\" style=\"fill:none;stroke:#92c6ff;\"/>\n    <path clip-path=\"url(#p55d21c7a3f)\" d=\"M 453.167705 343.958437 \nL 453.167705 327.650437 \n\" style=\"fill:none;stroke:#92c6ff;\"/>\n    <path clip-path=\"url(#p55d21c7a3f)\" d=\"M 481.943734 343.958437 \nL 481.943734 327.650437 \n\" style=\"fill:none;stroke:#92c6ff;\"/>\n    <path clip-path=\"url(#p55d21c7a3f)\" d=\"M 519.352572 343.958437 \nL 519.352572 327.650437 \n\" style=\"fill:none;stroke:#92c6ff;\"/>\n    <path clip-path=\"url(#p55d21c7a3f)\" d=\"M 464.678117 343.958437 \nL 464.678117 327.650437 \n\" style=\"fill:none;stroke:#92c6ff;\"/>\n    <path clip-path=\"url(#p55d21c7a3f)\" d=\"M 504.964557 343.958437 \nL 504.964557 327.650437 \n\" style=\"fill:none;stroke:#92c6ff;\"/>\n    <path clip-path=\"url(#p55d21c7a3f)\" d=\"M 490.576543 343.958437 \nL 490.576543 327.650437 \n\" style=\"fill:none;stroke:#92c6ff;\"/>\n    <path clip-path=\"url(#p55d21c7a3f)\" d=\"M 493.454146 343.958437 \nL 493.454146 327.650437 \n\" style=\"fill:none;stroke:#92c6ff;\"/>\n    <path clip-path=\"url(#p55d21c7a3f)\" d=\"M 458.922911 343.958437 \nL 458.922911 327.650437 \n\" style=\"fill:none;stroke:#92c6ff;\"/>\n    <path clip-path=\"url(#p55d21c7a3f)\" d=\"M 605.680659 343.958437 \nL 605.680659 327.650437 \n\" style=\"fill:none;stroke:#92c6ff;\"/>\n    <path clip-path=\"url(#p55d21c7a3f)\" d=\"M 522.230175 343.958437 \nL 522.230175 327.650437 \n\" style=\"fill:none;stroke:#92c6ff;\"/>\n    <path clip-path=\"url(#p55d21c7a3f)\" d=\"M 519.352572 343.958437 \nL 519.352572 327.650437 \n\" style=\"fill:none;stroke:#92c6ff;\"/>\n    <path clip-path=\"url(#p55d21c7a3f)\" d=\"M 519.352572 343.958437 \nL 519.352572 327.650437 \n\" style=\"fill:none;stroke:#92c6ff;\"/>\n    <path clip-path=\"url(#p55d21c7a3f)\" d=\"M 479.066131 343.958437 \nL 479.066131 327.650437 \n\" style=\"fill:none;stroke:#92c6ff;\"/>\n    <path clip-path=\"url(#p55d21c7a3f)\" d=\"M 507.84216 343.958437 \nL 507.84216 327.650437 \n\" style=\"fill:none;stroke:#92c6ff;\"/>\n    <path clip-path=\"url(#p55d21c7a3f)\" d=\"M 539.495792 343.958437 \nL 539.495792 327.650437 \n\" style=\"fill:none;stroke:#92c6ff;\"/>\n    <path clip-path=\"url(#p55d21c7a3f)\" d=\"M 450.290102 343.958437 \nL 450.290102 327.650437 \n\" style=\"fill:none;stroke:#92c6ff;\"/>\n    <path clip-path=\"url(#p55d21c7a3f)\" d=\"M 461.800514 343.958437 \nL 461.800514 327.650437 \n\" style=\"fill:none;stroke:#92c6ff;\"/>\n    <path clip-path=\"url(#p55d21c7a3f)\" d=\"M 502.086955 343.958437 \nL 502.086955 327.650437 \n\" style=\"fill:none;stroke:#92c6ff;\"/>\n    <path clip-path=\"url(#p55d21c7a3f)\" d=\"M 519.352572 343.958437 \nL 519.352572 327.650437 \n\" style=\"fill:none;stroke:#92c6ff;\"/>\n    <path clip-path=\"url(#p55d21c7a3f)\" d=\"M 530.862984 343.958437 \nL 530.862984 327.650437 \n\" style=\"fill:none;stroke:#92c6ff;\"/>\n    <path clip-path=\"url(#p55d21c7a3f)\" d=\"M 513.597366 343.958437 \nL 513.597366 327.650437 \n\" style=\"fill:none;stroke:#92c6ff;\"/>\n    <path clip-path=\"url(#p55d21c7a3f)\" d=\"M 582.659836 343.958437 \nL 582.659836 327.650437 \n\" style=\"fill:none;stroke:#92c6ff;\"/>\n    <path clip-path=\"url(#p55d21c7a3f)\" d=\"M 504.964557 343.958437 \nL 504.964557 327.650437 \n\" style=\"fill:none;stroke:#92c6ff;\"/>\n    <path clip-path=\"url(#p55d21c7a3f)\" d=\"M 458.922911 343.958437 \nL 458.922911 327.650437 \n\" style=\"fill:none;stroke:#92c6ff;\"/>\n    <path clip-path=\"url(#p55d21c7a3f)\" d=\"M 599.925453 343.958437 \nL 599.925453 327.650437 \n\" style=\"fill:none;stroke:#92c6ff;\"/>\n    <path clip-path=\"url(#p55d21c7a3f)\" d=\"M 456.045308 343.958437 \nL 456.045308 327.650437 \n\" style=\"fill:none;stroke:#92c6ff;\"/>\n    <path clip-path=\"url(#p55d21c7a3f)\" d=\"M 484.821337 343.958437 \nL 484.821337 327.650437 \n\" style=\"fill:none;stroke:#92c6ff;\"/>\n    <path clip-path=\"url(#p55d21c7a3f)\" d=\"M 545.250998 343.958437 \nL 545.250998 327.650437 \n\" style=\"fill:none;stroke:#92c6ff;\"/>\n    <path clip-path=\"url(#p55d21c7a3f)\" d=\"M 559.639013 343.958437 \nL 559.639013 327.650437 \n\" style=\"fill:none;stroke:#92c6ff;\"/>\n    <path clip-path=\"url(#p55d21c7a3f)\" d=\"M 510.719763 343.958437 \nL 510.719763 327.650437 \n\" style=\"fill:none;stroke:#92c6ff;\"/>\n    <path clip-path=\"url(#p55d21c7a3f)\" d=\"M 579.782233 343.958437 \nL 579.782233 327.650437 \n\" style=\"fill:none;stroke:#92c6ff;\"/>\n    <path clip-path=\"url(#p55d21c7a3f)\" d=\"M 530.862984 343.958437 \nL 530.862984 327.650437 \n\" style=\"fill:none;stroke:#92c6ff;\"/>\n    <path clip-path=\"url(#p55d21c7a3f)\" d=\"M 470.433323 343.958437 \nL 470.433323 327.650437 \n\" style=\"fill:none;stroke:#92c6ff;\"/>\n    <path clip-path=\"url(#p55d21c7a3f)\" d=\"M 493.454146 343.958437 \nL 493.454146 327.650437 \n\" style=\"fill:none;stroke:#92c6ff;\"/>\n    <path clip-path=\"url(#p55d21c7a3f)\" d=\"M 493.454146 343.958437 \nL 493.454146 327.650437 \n\" style=\"fill:none;stroke:#92c6ff;\"/>\n    <path clip-path=\"url(#p55d21c7a3f)\" d=\"M 487.69894 343.958437 \nL 487.69894 327.650437 \n\" style=\"fill:none;stroke:#92c6ff;\"/>\n    <path clip-path=\"url(#p55d21c7a3f)\" d=\"M 493.454146 343.958437 \nL 493.454146 327.650437 \n\" style=\"fill:none;stroke:#92c6ff;\"/>\n    <path clip-path=\"url(#p55d21c7a3f)\" d=\"M 456.045308 343.958437 \nL 456.045308 327.650437 \n\" style=\"fill:none;stroke:#92c6ff;\"/>\n    <path clip-path=\"url(#p55d21c7a3f)\" d=\"M 453.167705 343.958437 \nL 453.167705 327.650437 \n\" style=\"fill:none;stroke:#92c6ff;\"/>\n    <path clip-path=\"url(#p55d21c7a3f)\" d=\"M 574.027027 343.958437 \nL 574.027027 327.650437 \n\" style=\"fill:none;stroke:#92c6ff;\"/>\n    <path clip-path=\"url(#p55d21c7a3f)\" d=\"M 467.55572 343.958437 \nL 467.55572 327.650437 \n\" style=\"fill:none;stroke:#92c6ff;\"/>\n    <path clip-path=\"url(#p55d21c7a3f)\" d=\"M 479.066131 343.958437 \nL 479.066131 327.650437 \n\" style=\"fill:none;stroke:#92c6ff;\"/>\n    <path clip-path=\"url(#p55d21c7a3f)\" d=\"M 450.290102 343.958437 \nL 450.290102 327.650437 \n\" style=\"fill:none;stroke:#92c6ff;\"/>\n    <path clip-path=\"url(#p55d21c7a3f)\" d=\"M 493.454146 343.958437 \nL 493.454146 327.650437 \n\" style=\"fill:none;stroke:#92c6ff;\"/>\n    <path clip-path=\"url(#p55d21c7a3f)\" d=\"M 571.149424 343.958437 \nL 571.149424 327.650437 \n\" style=\"fill:none;stroke:#92c6ff;\"/>\n    <path clip-path=\"url(#p55d21c7a3f)\" d=\"M 553.883807 343.958437 \nL 553.883807 327.650437 \n\" style=\"fill:none;stroke:#92c6ff;\"/>\n    <path clip-path=\"url(#p55d21c7a3f)\" d=\"M 522.230175 343.958437 \nL 522.230175 327.650437 \n\" style=\"fill:none;stroke:#92c6ff;\"/>\n    <path clip-path=\"url(#p55d21c7a3f)\" d=\"M 470.433323 343.958437 \nL 470.433323 327.650437 \n\" style=\"fill:none;stroke:#92c6ff;\"/>\n    <path clip-path=\"url(#p55d21c7a3f)\" d=\"M 527.985381 343.958437 \nL 527.985381 327.650437 \n\" style=\"fill:none;stroke:#92c6ff;\"/>\n    <path clip-path=\"url(#p55d21c7a3f)\" d=\"M 456.045308 343.958437 \nL 456.045308 327.650437 \n\" style=\"fill:none;stroke:#92c6ff;\"/>\n    <path clip-path=\"url(#p55d21c7a3f)\" d=\"M 522.230175 343.958437 \nL 522.230175 327.650437 \n\" style=\"fill:none;stroke:#92c6ff;\"/>\n    <path clip-path=\"url(#p55d21c7a3f)\" d=\"M 493.454146 343.958437 \nL 493.454146 327.650437 \n\" style=\"fill:none;stroke:#92c6ff;\"/>\n    <path clip-path=\"url(#p55d21c7a3f)\" d=\"M 496.331749 343.958437 \nL 496.331749 327.650437 \n\" style=\"fill:none;stroke:#92c6ff;\"/>\n    <path clip-path=\"url(#p55d21c7a3f)\" d=\"M 479.066131 343.958437 \nL 479.066131 327.650437 \n\" style=\"fill:none;stroke:#92c6ff;\"/>\n    <path clip-path=\"url(#p55d21c7a3f)\" d=\"M 464.678117 343.958437 \nL 464.678117 327.650437 \n\" style=\"fill:none;stroke:#92c6ff;\"/>\n    <path clip-path=\"url(#p55d21c7a3f)\" d=\"M 507.84216 343.958437 \nL 507.84216 327.650437 \n\" style=\"fill:none;stroke:#92c6ff;\"/>\n    <path clip-path=\"url(#p55d21c7a3f)\" d=\"M 484.821337 343.958437 \nL 484.821337 327.650437 \n\" style=\"fill:none;stroke:#92c6ff;\"/>\n    <path clip-path=\"url(#p55d21c7a3f)\" d=\"M 476.188528 343.958437 \nL 476.188528 327.650437 \n\" style=\"fill:none;stroke:#92c6ff;\"/>\n    <path clip-path=\"url(#p55d21c7a3f)\" d=\"M 493.454146 343.958437 \nL 493.454146 327.650437 \n\" style=\"fill:none;stroke:#92c6ff;\"/>\n    <path clip-path=\"url(#p55d21c7a3f)\" d=\"M 602.803056 343.958437 \nL 602.803056 327.650437 \n\" style=\"fill:none;stroke:#92c6ff;\"/>\n    <path clip-path=\"url(#p55d21c7a3f)\" d=\"M 504.964557 343.958437 \nL 504.964557 327.650437 \n\" style=\"fill:none;stroke:#92c6ff;\"/>\n    <path clip-path=\"url(#p55d21c7a3f)\" d=\"M 516.474969 343.958437 \nL 516.474969 327.650437 \n\" style=\"fill:none;stroke:#92c6ff;\"/>\n    <path clip-path=\"url(#p55d21c7a3f)\" d=\"M 464.678117 343.958437 \nL 464.678117 327.650437 \n\" style=\"fill:none;stroke:#92c6ff;\"/>\n    <path clip-path=\"url(#p55d21c7a3f)\" d=\"M 458.922911 343.958437 \nL 458.922911 327.650437 \n\" style=\"fill:none;stroke:#92c6ff;\"/>\n    <path clip-path=\"url(#p55d21c7a3f)\" d=\"M 493.454146 343.958437 \nL 493.454146 327.650437 \n\" style=\"fill:none;stroke:#92c6ff;\"/>\n    <path clip-path=\"url(#p55d21c7a3f)\" d=\"M 470.433323 343.958437 \nL 470.433323 327.650437 \n\" style=\"fill:none;stroke:#92c6ff;\"/>\n    <path clip-path=\"url(#p55d21c7a3f)\" d=\"M 450.290102 343.958437 \nL 450.290102 327.650437 \n\" style=\"fill:none;stroke:#92c6ff;\"/>\n    <path clip-path=\"url(#p55d21c7a3f)\" d=\"M 470.433323 343.958437 \nL 470.433323 327.650437 \n\" style=\"fill:none;stroke:#92c6ff;\"/>\n    <path clip-path=\"url(#p55d21c7a3f)\" d=\"M 527.985381 343.958437 \nL 527.985381 327.650437 \n\" style=\"fill:none;stroke:#92c6ff;\"/>\n    <path clip-path=\"url(#p55d21c7a3f)\" d=\"M 493.454146 343.958437 \nL 493.454146 327.650437 \n\" style=\"fill:none;stroke:#92c6ff;\"/>\n    <path clip-path=\"url(#p55d21c7a3f)\" d=\"M 522.230175 343.958437 \nL 522.230175 327.650437 \n\" style=\"fill:none;stroke:#92c6ff;\"/>\n    <path clip-path=\"url(#p55d21c7a3f)\" d=\"M 499.209352 343.958437 \nL 499.209352 327.650437 \n\" style=\"fill:none;stroke:#92c6ff;\"/>\n    <path clip-path=\"url(#p55d21c7a3f)\" d=\"M 496.331749 343.958437 \nL 496.331749 327.650437 \n\" style=\"fill:none;stroke:#92c6ff;\"/>\n    <path clip-path=\"url(#p55d21c7a3f)\" d=\"M 493.454146 343.958437 \nL 493.454146 327.650437 \n\" style=\"fill:none;stroke:#92c6ff;\"/>\n    <path clip-path=\"url(#p55d21c7a3f)\" d=\"M 487.69894 343.958437 \nL 487.69894 327.650437 \n\" style=\"fill:none;stroke:#92c6ff;\"/>\n    <path clip-path=\"url(#p55d21c7a3f)\" d=\"M 536.618189 343.958437 \nL 536.618189 327.650437 \n\" style=\"fill:none;stroke:#92c6ff;\"/>\n    <path clip-path=\"url(#p55d21c7a3f)\" d=\"M 545.250998 343.958437 \nL 545.250998 327.650437 \n\" style=\"fill:none;stroke:#92c6ff;\"/>\n    <path clip-path=\"url(#p55d21c7a3f)\" d=\"M 496.331749 343.958437 \nL 496.331749 327.650437 \n\" style=\"fill:none;stroke:#92c6ff;\"/>\n    <path clip-path=\"url(#p55d21c7a3f)\" d=\"M 481.943734 343.958437 \nL 481.943734 327.650437 \n\" style=\"fill:none;stroke:#92c6ff;\"/>\n    <path clip-path=\"url(#p55d21c7a3f)\" d=\"M 493.454146 343.958437 \nL 493.454146 327.650437 \n\" style=\"fill:none;stroke:#92c6ff;\"/>\n    <path clip-path=\"url(#p55d21c7a3f)\" d=\"M 456.045308 343.958437 \nL 456.045308 327.650437 \n\" style=\"fill:none;stroke:#92c6ff;\"/>\n    <path clip-path=\"url(#p55d21c7a3f)\" d=\"M 464.678117 343.958437 \nL 464.678117 327.650437 \n\" style=\"fill:none;stroke:#92c6ff;\"/>\n    <path clip-path=\"url(#p55d21c7a3f)\" d=\"M 617.191071 343.958437 \nL 617.191071 327.650437 \n\" style=\"fill:none;stroke:#92c6ff;\"/>\n    <path clip-path=\"url(#p55d21c7a3f)\" d=\"M 456.045308 343.958437 \nL 456.045308 327.650437 \n\" style=\"fill:none;stroke:#92c6ff;\"/>\n    <path clip-path=\"url(#p55d21c7a3f)\" d=\"M 490.576543 343.958437 \nL 490.576543 327.650437 \n\" style=\"fill:none;stroke:#92c6ff;\"/>\n    <path clip-path=\"url(#p55d21c7a3f)\" d=\"M 548.128601 343.958437 \nL 548.128601 327.650437 \n\" style=\"fill:none;stroke:#92c6ff;\"/>\n    <path clip-path=\"url(#p55d21c7a3f)\" d=\"M 493.454146 343.958437 \nL 493.454146 327.650437 \n\" style=\"fill:none;stroke:#92c6ff;\"/>\n    <path clip-path=\"url(#p55d21c7a3f)\" d=\"M 568.271821 343.958437 \nL 568.271821 327.650437 \n\" style=\"fill:none;stroke:#92c6ff;\"/>\n    <path clip-path=\"url(#p55d21c7a3f)\" d=\"M 481.943734 343.958437 \nL 481.943734 327.650437 \n\" style=\"fill:none;stroke:#92c6ff;\"/>\n    <path clip-path=\"url(#p55d21c7a3f)\" d=\"M 551.006204 343.958437 \nL 551.006204 327.650437 \n\" style=\"fill:none;stroke:#92c6ff;\"/>\n    <path clip-path=\"url(#p55d21c7a3f)\" d=\"M 582.659836 343.958437 \nL 582.659836 327.650437 \n\" style=\"fill:none;stroke:#92c6ff;\"/>\n    <path clip-path=\"url(#p55d21c7a3f)\" d=\"M 502.086955 343.958437 \nL 502.086955 327.650437 \n\" style=\"fill:none;stroke:#92c6ff;\"/>\n    <path clip-path=\"url(#p55d21c7a3f)\" d=\"M 530.862984 343.958437 \nL 530.862984 327.650437 \n\" style=\"fill:none;stroke:#92c6ff;\"/>\n    <path clip-path=\"url(#p55d21c7a3f)\" d=\"M 470.433323 343.958437 \nL 470.433323 327.650437 \n\" style=\"fill:none;stroke:#92c6ff;\"/>\n    <path clip-path=\"url(#p55d21c7a3f)\" d=\"M 461.800514 343.958437 \nL 461.800514 327.650437 \n\" style=\"fill:none;stroke:#92c6ff;\"/>\n    <path clip-path=\"url(#p55d21c7a3f)\" d=\"M 493.454146 343.958437 \nL 493.454146 327.650437 \n\" style=\"fill:none;stroke:#92c6ff;\"/>\n   </g>\n   <g id=\"line2d_32\">\n    <path clip-path=\"url(#p55d21c7a3f)\" d=\"M 415.536699 343.421806 \nL 418.33159 342.8321 \nL 421.126481 341.718009 \nL 423.921373 339.732971 \nL 426.716264 336.398123 \nL 429.511155 331.117323 \nL 432.306046 323.23882 \nL 435.100937 312.171574 \nL 437.895828 297.545839 \nL 440.690719 279.383692 \nL 443.48561 258.225681 \nL 446.280501 235.156503 \nL 449.075392 211.693359 \nL 451.870283 189.542502 \nL 454.665174 170.277796 \nL 457.460065 155.02888 \nL 460.254956 144.269131 \nL 463.049847 137.76216 \nL 465.844738 134.673202 \nL 468.63963 133.801271 \nL 471.434521 133.859324 \nL 474.229412 133.730695 \nL 477.024303 132.653415 \nL 479.819194 130.313957 \nL 482.614085 126.854067 \nL 485.408976 122.803552 \nL 488.203867 118.953155 \nL 490.998758 116.184039 \nL 493.793649 115.279257 \nL 496.58854 116.754625 \nL 499.383431 120.752066 \nL 502.178322 127.028493 \nL 504.973213 135.046397 \nL 507.768104 144.137766 \nL 510.562995 153.686127 \nL 513.357886 163.265554 \nL 516.152778 172.693852 \nL 518.947669 181.991661 \nL 521.74256 191.27464 \nL 524.537451 200.627796 \nL 527.332342 210.012257 \nL 530.127233 219.237481 \nL 532.922124 228.004855 \nL 535.717015 236.002288 \nL 538.511906 243.012343 \nL 541.306797 248.993024 \nL 544.101688 254.100919 \nL 546.896579 258.647385 \nL 549.69147 263.003053 \nL 552.486361 267.485427 \nL 555.281252 272.270811 \nL 558.076143 277.361856 \nL 560.871034 282.618963 \nL 563.665926 287.837384 \nL 566.460817 292.834103 \nL 569.255708 297.507499 \nL 572.050599 301.848427 \nL 574.84549 305.905278 \nL 577.640381 309.725905 \nL 580.435272 313.306942 \nL 583.230163 316.573977 \nL 586.025054 319.399663 \nL 588.819945 321.6498 \nL 591.614836 323.237137 \nL 594.409727 324.162013 \nL 597.204618 324.526305 \nL 599.999509 324.517998 \nL 602.7944 324.373255 \nL 605.589291 324.328341 \nL 608.384182 324.57435 \nL 611.179074 325.224856 \nL 613.973965 326.302136 \nL 616.768856 327.743057 \nL 619.563747 329.421693 \nL 622.358638 331.182477 \nL 625.153529 332.875598 \nL 627.94842 334.386078 \nL 630.743311 335.650109 \nL 633.538202 336.656388 \nL 636.333093 337.434938 \nL 639.127984 338.03932 \nL 641.922875 338.528955 \nL 644.717766 338.956381 \nL 647.512657 339.361117 \nL 650.307548 339.768853 \nL 653.102439 340.193328 \nL 655.89733 340.638547 \nL 658.692222 341.10035 \nL 661.487113 341.567643 \nL 664.282004 342.024168 \nL 667.076895 342.451341 \nL 669.871786 342.831865 \nL 672.666677 343.153155 \nL 675.461568 343.409506 \nL 678.256459 343.602397 \nL 681.05135 343.739102 \nL 683.846241 343.830285 \nL 686.641132 343.887501 \nL 689.436023 343.921272 \nL 692.230914 343.940019 \n\" style=\"fill:none;stroke:#92c6ff;stroke-linecap:square;stroke-width:1.5;\"/>\n   </g>\n   <g id=\"patch_31\">\n    <path d=\"M 401.701989 343.958437 \nL 401.701989 17.798437 \n\" style=\"fill:none;stroke:#000000;stroke-linecap:square;stroke-linejoin:miter;stroke-width:0.8;\"/>\n   </g>\n   <g id=\"patch_32\">\n    <path d=\"M 706.065625 343.958437 \nL 706.065625 17.798437 \n\" style=\"fill:none;stroke:#000000;stroke-linecap:square;stroke-linejoin:miter;stroke-width:0.8;\"/>\n   </g>\n   <g id=\"patch_33\">\n    <path d=\"M 401.701989 343.958437 \nL 706.065625 343.958437 \n\" style=\"fill:none;stroke:#000000;stroke-linecap:square;stroke-linejoin:miter;stroke-width:0.8;\"/>\n   </g>\n   <g id=\"patch_34\">\n    <path d=\"M 401.701989 17.798437 \nL 706.065625 17.798437 \n\" style=\"fill:none;stroke:#000000;stroke-linecap:square;stroke-linejoin:miter;stroke-width:0.8;\"/>\n   </g>\n  </g>\n </g>\n <defs>\n  <clipPath id=\"p94c62639ae\">\n   <rect height=\"326.16\" width=\"304.363636\" x=\"36.465625\" y=\"17.798437\"/>\n  </clipPath>\n  <clipPath id=\"p55d21c7a3f\">\n   <rect height=\"326.16\" width=\"304.363636\" x=\"401.701989\" y=\"17.798437\"/>\n  </clipPath>\n </defs>\n</svg>\n",
      "image/png": "[encoded data removed]"
     },
     "metadata": {
      "needs_background": "light"
     }
    }
   ],
   "source": [
    "fig, ax = plt.subplots(1, 2, figsize=(12,6))\n",
    "sns.distplot(x_train['Income'], ax=ax[0], rug=True)\n",
    "sns.distplot(x_train['Residence Length'], ax=ax[1], rug=True)"
   ]
  },
  {
   "cell_type": "markdown",
   "metadata": {},
   "source": [
    "now, we're going to prepare our data"
   ]
  },
  {
   "cell_type": "code",
   "execution_count": 101,
   "metadata": {
    "tags": []
   },
   "outputs": [],
   "source": [
    "from sklearn.preprocessing import StandardScaler\n",
    "\n",
    "# normalize our features\n",
    "scaler = StandardScaler().fit(x_train)\n",
    "\n",
    "x_train = scaler.transform(x_train)\n",
    "x_test = scaler.transform(x_test)"
   ]
  },
  {
   "cell_type": "markdown",
   "metadata": {},
   "source": [
    "and now prepare our model:"
   ]
  },
  {
   "cell_type": "code",
   "execution_count": 103,
   "metadata": {
    "tags": []
   },
   "outputs": [],
   "source": [
    "from keras import models\n",
    "from keras import layers\n",
    "\n",
    "def build_model():\n",
    "    model = models.Sequential()\n",
    "    model.add(layers.Dense(48, activation='selu', input_shape=(x_train.shape[1],)))\n",
    "    model.add(layers.Dropout(0.25))\n",
    "    model.add(layers.Dense(48, activation='selu'))\n",
    "    model.add(layers.Dropout(0.25))\n",
    "    model.add(layers.Dense(1, activation='sigmoid'))\n",
    "\n",
    "    model.compile(optimizer='adam', loss='binary_crossentropy', metrics=['accuracy'])\n",
    "\n",
    "    return model"
   ]
  },
  {
   "cell_type": "markdown",
   "metadata": {},
   "source": [
    "model evaluation using K-Fold cross validation"
   ]
  },
  {
   "cell_type": "code",
   "execution_count": 104,
   "metadata": {
    "tags": []
   },
   "outputs": [
    {
     "output_type": "stream",
     "name": "stdout",
     "text": "performing exploratory training: 400 epochs...\n"
    },
    {
     "output_type": "display_data",
     "data": {
      "text/plain": "HBox(children=(FloatProgress(value=0.0, description='Training', max=400.0, style=ProgressStyle(description_wid…",
      "application/vnd.jupyter.widget-view+json": {
       "version_major": 2,
       "version_minor": 0,
       "model_id": "e7e428446c1c49979141c815337031e1"
      }
     },
     "metadata": {}
    },
    {
     "output_type": "display_data",
     "data": {
      "text/plain": "HBox(children=(FloatProgress(value=0.0, description='Epoch 0', max=471.0, style=ProgressStyle(description_widt…",
      "application/vnd.jupyter.widget-view+json": {
       "version_major": 2,
       "version_minor": 0,
       "model_id": "d12acbf0ce6b482dab73f01a8ae57f72"
      }
     },
     "metadata": {}
    },
    {
     "output_type": "display_data",
     "data": {
      "text/plain": "HBox(children=(FloatProgress(value=0.0, description='Epoch 1', max=471.0, style=ProgressStyle(description_widt…",
      "application/vnd.jupyter.widget-view+json": {
       "version_major": 2,
       "version_minor": 0,
       "model_id": "a1d41c6840bc4a73a48cea843de9f75d"
      }
     },
     "metadata": {}
    },
    {
     "output_type": "display_data",
     "data": {
      "text/plain": "HBox(children=(FloatProgress(value=0.0, description='Epoch 2', max=471.0, style=ProgressStyle(description_widt…",
      "application/vnd.jupyter.widget-view+json": {
       "version_major": 2,
       "version_minor": 0,
       "model_id": "891f31ef24a242208dfabc47d150517c"
      }
     },
     "metadata": {}
    },
    {
     "output_type": "display_data",
     "data": {
      "text/plain": "HBox(children=(FloatProgress(value=0.0, description='Epoch 3', max=471.0, style=ProgressStyle(description_widt…",
      "application/vnd.jupyter.widget-view+json": {
       "version_major": 2,
       "version_minor": 0,
       "model_id": "15a193e066b84f17a7351016439797ea"
      }
     },
     "metadata": {}
    },
    {
     "output_type": "display_data",
     "data": {
      "text/plain": "HBox(children=(FloatProgress(value=0.0, description='Epoch 4', max=471.0, style=ProgressStyle(description_widt…",
      "application/vnd.jupyter.widget-view+json": {
       "version_major": 2,
       "version_minor": 0,
       "model_id": "9f7a189651ca4220b6247158d36a3509"
      }
     },
     "metadata": {}
    },
    {
     "output_type": "display_data",
     "data": {
      "text/plain": "HBox(children=(FloatProgress(value=0.0, description='Epoch 5', max=471.0, style=ProgressStyle(description_widt…",
      "application/vnd.jupyter.widget-view+json": {
       "version_major": 2,
       "version_minor": 0,
       "model_id": "5f75a122d98745f984faf708afb6822f"
      }
     },
     "metadata": {}
    },
    {
     "output_type": "display_data",
     "data": {
      "text/plain": "HBox(children=(FloatProgress(value=0.0, description='Epoch 6', max=471.0, style=ProgressStyle(description_widt…",
      "application/vnd.jupyter.widget-view+json": {
       "version_major": 2,
       "version_minor": 0,
       "model_id": "aa5bd7c5c95d43fa8e22527a76418054"
      }
     },
     "metadata": {}
    },
    {
     "output_type": "display_data",
     "data": {
      "text/plain": "HBox(children=(FloatProgress(value=0.0, description='Epoch 7', max=471.0, style=ProgressStyle(description_widt…",
      "application/vnd.jupyter.widget-view+json": {
       "version_major": 2,
       "version_minor": 0,
       "model_id": "b321d99848e649098ebe25606d505761"
      }
     },
     "metadata": {}
    },
    {
     "output_type": "display_data",
     "data": {
      "text/plain": "HBox(children=(FloatProgress(value=0.0, description='Epoch 8', max=471.0, style=ProgressStyle(description_widt…",
      "application/vnd.jupyter.widget-view+json": {
       "version_major": 2,
       "version_minor": 0,
       "model_id": "4ecd5797395e4412b07a03a62d8dc45f"
      }
     },
     "metadata": {}
    },
    {
     "output_type": "display_data",
     "data": {
      "text/plain": "HBox(children=(FloatProgress(value=0.0, description='Epoch 9', max=471.0, style=ProgressStyle(description_widt…",
      "application/vnd.jupyter.widget-view+json": {
       "version_major": 2,
       "version_minor": 0,
       "model_id": "e6a8be09570f4c4e8043d4eab4c1c345"
      }
     },
     "metadata": {}
    },
    {
     "output_type": "display_data",
     "data": {
      "text/plain": "HBox(children=(FloatProgress(value=0.0, description='Epoch 10', max=471.0, style=ProgressStyle(description_wid…",
      "application/vnd.jupyter.widget-view+json": {
       "version_major": 2,
       "version_minor": 0,
       "model_id": "d77466d32e364b6cb21d0b31925e7f2c"
      }
     },
     "metadata": {}
    },
    {
     "output_type": "display_data",
     "data": {
      "text/plain": "HBox(children=(FloatProgress(value=0.0, description='Epoch 11', max=471.0, style=ProgressStyle(description_wid…",
      "application/vnd.jupyter.widget-view+json": {
       "version_major": 2,
       "version_minor": 0,
       "model_id": "8afea606932a47e7963501aee2c4fc2a"
      }
     },
     "metadata": {}
    },
    {
     "output_type": "display_data",
     "data": {
      "text/plain": "HBox(children=(FloatProgress(value=0.0, description='Epoch 12', max=471.0, style=ProgressStyle(description_wid…",
      "application/vnd.jupyter.widget-view+json": {
       "version_major": 2,
       "version_minor": 0,
       "model_id": "c71ca0657ffe4f3ead8cc07360d1a3ca"
      }
     },
     "metadata": {}
    },
    {
     "output_type": "display_data",
     "data": {
      "text/plain": "HBox(children=(FloatProgress(value=0.0, description='Epoch 13', max=471.0, style=ProgressStyle(description_wid…",
      "application/vnd.jupyter.widget-view+json": {
       "version_major": 2,
       "version_minor": 0,
       "model_id": "5edf275d862c435181a727033a6f6d8c"
      }
     },
     "metadata": {}
    },
    {
     "output_type": "display_data",
     "data": {
      "text/plain": "HBox(children=(FloatProgress(value=0.0, description='Epoch 14', max=471.0, style=ProgressStyle(description_wid…",
      "application/vnd.jupyter.widget-view+json": {
       "version_major": 2,
       "version_minor": 0,
       "model_id": "946b33c956524897a2529f6379d9faf9"
      }
     },
     "metadata": {}
    },
    {
     "output_type": "display_data",
     "data": {
      "text/plain": "HBox(children=(FloatProgress(value=0.0, description='Epoch 15', max=471.0, style=ProgressStyle(description_wid…",
      "application/vnd.jupyter.widget-view+json": {
       "version_major": 2,
       "version_minor": 0,
       "model_id": "95c26e7054db49d99cfaaea8cec989a7"
      }
     },
     "metadata": {}
    },
    {
     "output_type": "display_data",
     "data": {
      "text/plain": "HBox(children=(FloatProgress(value=0.0, description='Epoch 16', max=471.0, style=ProgressStyle(description_wid…",
      "application/vnd.jupyter.widget-view+json": {
       "version_major": 2,
       "version_minor": 0,
       "model_id": "f4419cd8023e4308aead9358ecfcd900"
      }
     },
     "metadata": {}
    },
    {
     "output_type": "display_data",
     "data": {
      "text/plain": "HBox(children=(FloatProgress(value=0.0, description='Epoch 17', max=471.0, style=ProgressStyle(description_wid…",
      "application/vnd.jupyter.widget-view+json": {
       "version_major": 2,
       "version_minor": 0,
       "model_id": "e5e9c1b49c7b4915b0e516308459a4ae"
      }
     },
     "metadata": {}
    },
    {
     "output_type": "display_data",
     "data": {
      "text/plain": "HBox(children=(FloatProgress(value=0.0, description='Epoch 18', max=471.0, style=ProgressStyle(description_wid…",
      "application/vnd.jupyter.widget-view+json": {
       "version_major": 2,
       "version_minor": 0,
       "model_id": "5ef13771b9e04149b881583d760716c5"
      }
     },
     "metadata": {}
    },
    {
     "output_type": "display_data",
     "data": {
      "text/plain": "HBox(children=(FloatProgress(value=0.0, description='Epoch 19', max=471.0, style=ProgressStyle(description_wid…",
      "application/vnd.jupyter.widget-view+json": {
       "version_major": 2,
       "version_minor": 0,
       "model_id": "a428a93d388f476aa741689a8150a5ba"
      }
     },
     "metadata": {}
    },
    {
     "output_type": "display_data",
     "data": {
      "text/plain": "HBox(children=(FloatProgress(value=0.0, description='Epoch 20', max=471.0, style=ProgressStyle(description_wid…",
      "application/vnd.jupyter.widget-view+json": {
       "version_major": 2,
       "version_minor": 0,
       "model_id": "1e61add52c364afb9fe58d188ac6b1f4"
      }
     },
     "metadata": {}
    },
    {
     "output_type": "display_data",
     "data": {
      "text/plain": "HBox(children=(FloatProgress(value=0.0, description='Epoch 21', max=471.0, style=ProgressStyle(description_wid…",
      "application/vnd.jupyter.widget-view+json": {
       "version_major": 2,
       "version_minor": 0,
       "model_id": "6848cede733144dfb450b2d355c9cc52"
      }
     },
     "metadata": {}
    },
    {
     "output_type": "display_data",
     "data": {
      "text/plain": "HBox(children=(FloatProgress(value=0.0, description='Epoch 22', max=471.0, style=ProgressStyle(description_wid…",
      "application/vnd.jupyter.widget-view+json": {
       "version_major": 2,
       "version_minor": 0,
       "model_id": "796adcbbbd7a4b69a798afd363c35acd"
      }
     },
     "metadata": {}
    },
    {
     "output_type": "display_data",
     "data": {
      "text/plain": "HBox(children=(FloatProgress(value=0.0, description='Epoch 23', max=471.0, style=ProgressStyle(description_wid…",
      "application/vnd.jupyter.widget-view+json": {
       "version_major": 2,
       "version_minor": 0,
       "model_id": "b37e0cd4ddae44dcaf8e13a0bedd3c2a"
      }
     },
     "metadata": {}
    },
    {
     "output_type": "display_data",
     "data": {
      "text/plain": "HBox(children=(FloatProgress(value=0.0, description='Epoch 24', max=471.0, style=ProgressStyle(description_wid…",
      "application/vnd.jupyter.widget-view+json": {
       "version_major": 2,
       "version_minor": 0,
       "model_id": "eef53d3ba68048c183750873398d0fa9"
      }
     },
     "metadata": {}
    },
    {
     "output_type": "display_data",
     "data": {
      "text/plain": "HBox(children=(FloatProgress(value=0.0, description='Epoch 25', max=471.0, style=ProgressStyle(description_wid…",
      "application/vnd.jupyter.widget-view+json": {
       "version_major": 2,
       "version_minor": 0,
       "model_id": "edb9cdfde67c45f4895a129487781389"
      }
     },
     "metadata": {}
    },
    {
     "output_type": "display_data",
     "data": {
      "text/plain": "HBox(children=(FloatProgress(value=0.0, description='Epoch 26', max=471.0, style=ProgressStyle(description_wid…",
      "application/vnd.jupyter.widget-view+json": {
       "version_major": 2,
       "version_minor": 0,
       "model_id": "2d08105a0d9b4a6a848a361f6af6f2ac"
      }
     },
     "metadata": {}
    },
    {
     "output_type": "display_data",
     "data": {
      "text/plain": "HBox(children=(FloatProgress(value=0.0, description='Epoch 27', max=471.0, style=ProgressStyle(description_wid…",
      "application/vnd.jupyter.widget-view+json": {
       "version_major": 2,
       "version_minor": 0,
       "model_id": "0826c9da2f0b4e46b6f0b56a1fe67409"
      }
     },
     "metadata": {}
    },
    {
     "output_type": "display_data",
     "data": {
      "text/plain": "HBox(children=(FloatProgress(value=0.0, description='Epoch 28', max=471.0, style=ProgressStyle(description_wid…",
      "application/vnd.jupyter.widget-view+json": {
       "version_major": 2,
       "version_minor": 0,
       "model_id": "52bbcfe9badd4ca891185b85f9faeee7"
      }
     },
     "metadata": {}
    },
    {
     "output_type": "display_data",
     "data": {
      "text/plain": "HBox(children=(FloatProgress(value=0.0, description='Epoch 29', max=471.0, style=ProgressStyle(description_wid…",
      "application/vnd.jupyter.widget-view+json": {
       "version_major": 2,
       "version_minor": 0,
       "model_id": "c216804efadd4dca8b40f238e4d1873c"
      }
     },
     "metadata": {}
    },
    {
     "output_type": "display_data",
     "data": {
      "text/plain": "HBox(children=(FloatProgress(value=0.0, description='Epoch 30', max=471.0, style=ProgressStyle(description_wid…",
      "application/vnd.jupyter.widget-view+json": {
       "version_major": 2,
       "version_minor": 0,
       "model_id": "847475b1dbf0400d949bb03080912841"
      }
     },
     "metadata": {}
    },
    {
     "output_type": "display_data",
     "data": {
      "text/plain": "HBox(children=(FloatProgress(value=0.0, description='Epoch 31', max=471.0, style=ProgressStyle(description_wid…",
      "application/vnd.jupyter.widget-view+json": {
       "version_major": 2,
       "version_minor": 0,
       "model_id": "74a2c23522be403094c817f81a6e4d79"
      }
     },
     "metadata": {}
    },
    {
     "output_type": "display_data",
     "data": {
      "text/plain": "HBox(children=(FloatProgress(value=0.0, description='Epoch 32', max=471.0, style=ProgressStyle(description_wid…",
      "application/vnd.jupyter.widget-view+json": {
       "version_major": 2,
       "version_minor": 0,
       "model_id": "8c0b36cd6793456594990feb365237fc"
      }
     },
     "metadata": {}
    },
    {
     "output_type": "display_data",
     "data": {
      "text/plain": "HBox(children=(FloatProgress(value=0.0, description='Epoch 33', max=471.0, style=ProgressStyle(description_wid…",
      "application/vnd.jupyter.widget-view+json": {
       "version_major": 2,
       "version_minor": 0,
       "model_id": "45e833fcc00042edbb4c208812e2e50a"
      }
     },
     "metadata": {}
    },
    {
     "output_type": "display_data",
     "data": {
      "text/plain": "HBox(children=(FloatProgress(value=0.0, description='Epoch 34', max=471.0, style=ProgressStyle(description_wid…",
      "application/vnd.jupyter.widget-view+json": {
       "version_major": 2,
       "version_minor": 0,
       "model_id": "5dabcedc8e7b403e81e455af5bf0c8d6"
      }
     },
     "metadata": {}
    },
    {
     "output_type": "display_data",
     "data": {
      "text/plain": "HBox(children=(FloatProgress(value=0.0, description='Epoch 35', max=471.0, style=ProgressStyle(description_wid…",
      "application/vnd.jupyter.widget-view+json": {
       "version_major": 2,
       "version_minor": 0,
       "model_id": "929b3ce489f8462b909b2c6074d01528"
      }
     },
     "metadata": {}
    },
    {
     "output_type": "display_data",
     "data": {
      "text/plain": "HBox(children=(FloatProgress(value=0.0, description='Epoch 36', max=471.0, style=ProgressStyle(description_wid…",
      "application/vnd.jupyter.widget-view+json": {
       "version_major": 2,
       "version_minor": 0,
       "model_id": "7b965e2eeb024976891accd176a315e8"
      }
     },
     "metadata": {}
    },
    {
     "output_type": "display_data",
     "data": {
      "text/plain": "HBox(children=(FloatProgress(value=0.0, description='Epoch 37', max=471.0, style=ProgressStyle(description_wid…",
      "application/vnd.jupyter.widget-view+json": {
       "version_major": 2,
       "version_minor": 0,
       "model_id": "178362d4878a4b169380d200d2708ed0"
      }
     },
     "metadata": {}
    },
    {
     "output_type": "display_data",
     "data": {
      "text/plain": "HBox(children=(FloatProgress(value=0.0, description='Epoch 38', max=471.0, style=ProgressStyle(description_wid…",
      "application/vnd.jupyter.widget-view+json": {
       "version_major": 2,
       "version_minor": 0,
       "model_id": "f72fd7c36c8a4d29a2f36c4aa15554c4"
      }
     },
     "metadata": {}
    },
    {
     "output_type": "display_data",
     "data": {
      "text/plain": "HBox(children=(FloatProgress(value=0.0, description='Epoch 39', max=471.0, style=ProgressStyle(description_wid…",
      "application/vnd.jupyter.widget-view+json": {
       "version_major": 2,
       "version_minor": 0,
       "model_id": "dc41e3e455c34cc0a7bb7427ab522309"
      }
     },
     "metadata": {}
    },
    {
     "output_type": "display_data",
     "data": {
      "text/plain": "HBox(children=(FloatProgress(value=0.0, description='Epoch 40', max=471.0, style=ProgressStyle(description_wid…",
      "application/vnd.jupyter.widget-view+json": {
       "version_major": 2,
       "version_minor": 0,
       "model_id": "81fd1f46c5684f408a2131ed3235416d"
      }
     },
     "metadata": {}
    },
    {
     "output_type": "display_data",
     "data": {
      "text/plain": "HBox(children=(FloatProgress(value=0.0, description='Epoch 41', max=471.0, style=ProgressStyle(description_wid…",
      "application/vnd.jupyter.widget-view+json": {
       "version_major": 2,
       "version_minor": 0,
       "model_id": "50a916e293bc4237a1bfb9c561d24250"
      }
     },
     "metadata": {}
    },
    {
     "output_type": "display_data",
     "data": {
      "text/plain": "HBox(children=(FloatProgress(value=0.0, description='Epoch 42', max=471.0, style=ProgressStyle(description_wid…",
      "application/vnd.jupyter.widget-view+json": {
       "version_major": 2,
       "version_minor": 0,
       "model_id": "4cfcccef4044417581e9e07d43ea2a94"
      }
     },
     "metadata": {}
    },
    {
     "output_type": "display_data",
     "data": {
      "text/plain": "HBox(children=(FloatProgress(value=0.0, description='Epoch 43', max=471.0, style=ProgressStyle(description_wid…",
      "application/vnd.jupyter.widget-view+json": {
       "version_major": 2,
       "version_minor": 0,
       "model_id": "486ac89b7af24ef2a9adc8c3a0626a7f"
      }
     },
     "metadata": {}
    },
    {
     "output_type": "display_data",
     "data": {
      "text/plain": "HBox(children=(FloatProgress(value=0.0, description='Epoch 44', max=471.0, style=ProgressStyle(description_wid…",
      "application/vnd.jupyter.widget-view+json": {
       "version_major": 2,
       "version_minor": 0,
       "model_id": "1a95e8526eb0443198156e6605488cf6"
      }
     },
     "metadata": {}
    },
    {
     "output_type": "display_data",
     "data": {
      "text/plain": "HBox(children=(FloatProgress(value=0.0, description='Epoch 45', max=471.0, style=ProgressStyle(description_wid…",
      "application/vnd.jupyter.widget-view+json": {
       "version_major": 2,
       "version_minor": 0,
       "model_id": "a7b1db67e6e440ae86ed90781d00b03c"
      }
     },
     "metadata": {}
    },
    {
     "output_type": "display_data",
     "data": {
      "text/plain": "HBox(children=(FloatProgress(value=0.0, description='Epoch 46', max=471.0, style=ProgressStyle(description_wid…",
      "application/vnd.jupyter.widget-view+json": {
       "version_major": 2,
       "version_minor": 0,
       "model_id": "205fd23f0d9f4db08dd9a3d6332cd5c2"
      }
     },
     "metadata": {}
    },
    {
     "output_type": "display_data",
     "data": {
      "text/plain": "HBox(children=(FloatProgress(value=0.0, description='Epoch 47', max=471.0, style=ProgressStyle(description_wid…",
      "application/vnd.jupyter.widget-view+json": {
       "version_major": 2,
       "version_minor": 0,
       "model_id": "193475b78015471986aa84e62d461e8a"
      }
     },
     "metadata": {}
    },
    {
     "output_type": "display_data",
     "data": {
      "text/plain": "HBox(children=(FloatProgress(value=0.0, description='Epoch 48', max=471.0, style=ProgressStyle(description_wid…",
      "application/vnd.jupyter.widget-view+json": {
       "version_major": 2,
       "version_minor": 0,
       "model_id": "4fa910d8a40645109958769d1a21a3ce"
      }
     },
     "metadata": {}
    },
    {
     "output_type": "display_data",
     "data": {
      "text/plain": "HBox(children=(FloatProgress(value=0.0, description='Epoch 49', max=471.0, style=ProgressStyle(description_wid…",
      "application/vnd.jupyter.widget-view+json": {
       "version_major": 2,
       "version_minor": 0,
       "model_id": "09f5631a88474f4eb6fed4d1cc908058"
      }
     },
     "metadata": {}
    },
    {
     "output_type": "display_data",
     "data": {
      "text/plain": "HBox(children=(FloatProgress(value=0.0, description='Epoch 50', max=471.0, style=ProgressStyle(description_wid…",
      "application/vnd.jupyter.widget-view+json": {
       "version_major": 2,
       "version_minor": 0,
       "model_id": "088085b4042a4be7a2b0e05128fefd10"
      }
     },
     "metadata": {}
    },
    {
     "output_type": "display_data",
     "data": {
      "text/plain": "HBox(children=(FloatProgress(value=0.0, description='Epoch 51', max=471.0, style=ProgressStyle(description_wid…",
      "application/vnd.jupyter.widget-view+json": {
       "version_major": 2,
       "version_minor": 0,
       "model_id": "860273879c2f424885ccf3baf48f1116"
      }
     },
     "metadata": {}
    },
    {
     "output_type": "display_data",
     "data": {
      "text/plain": "HBox(children=(FloatProgress(value=0.0, description='Epoch 52', max=471.0, style=ProgressStyle(description_wid…",
      "application/vnd.jupyter.widget-view+json": {
       "version_major": 2,
       "version_minor": 0,
       "model_id": "7b1090b991344efb96e26c83bea0e367"
      }
     },
     "metadata": {}
    },
    {
     "output_type": "display_data",
     "data": {
      "text/plain": "HBox(children=(FloatProgress(value=0.0, description='Epoch 53', max=471.0, style=ProgressStyle(description_wid…",
      "application/vnd.jupyter.widget-view+json": {
       "version_major": 2,
       "version_minor": 0,
       "model_id": "e14133991d48461586cf29e24020ea1c"
      }
     },
     "metadata": {}
    },
    {
     "output_type": "display_data",
     "data": {
      "text/plain": "HBox(children=(FloatProgress(value=0.0, description='Epoch 54', max=471.0, style=ProgressStyle(description_wid…",
      "application/vnd.jupyter.widget-view+json": {
       "version_major": 2,
       "version_minor": 0,
       "model_id": "7fea888f32e84604958357992ce8e7a2"
      }
     },
     "metadata": {}
    },
    {
     "output_type": "display_data",
     "data": {
      "text/plain": "HBox(children=(FloatProgress(value=0.0, description='Epoch 55', max=471.0, style=ProgressStyle(description_wid…",
      "application/vnd.jupyter.widget-view+json": {
       "version_major": 2,
       "version_minor": 0,
       "model_id": "84a1d863f2c0415aabb718bd58e2a0d3"
      }
     },
     "metadata": {}
    },
    {
     "output_type": "display_data",
     "data": {
      "text/plain": "HBox(children=(FloatProgress(value=0.0, description='Epoch 56', max=471.0, style=ProgressStyle(description_wid…",
      "application/vnd.jupyter.widget-view+json": {
       "version_major": 2,
       "version_minor": 0,
       "model_id": "9c2169d9839d4a2bb8811a527d4e9521"
      }
     },
     "metadata": {}
    },
    {
     "output_type": "display_data",
     "data": {
      "text/plain": "HBox(children=(FloatProgress(value=0.0, description='Epoch 57', max=471.0, style=ProgressStyle(description_wid…",
      "application/vnd.jupyter.widget-view+json": {
       "version_major": 2,
       "version_minor": 0,
       "model_id": "2d25514744ea4439b45bee9b8154fce3"
      }
     },
     "metadata": {}
    },
    {
     "output_type": "display_data",
     "data": {
      "text/plain": "HBox(children=(FloatProgress(value=0.0, description='Epoch 58', max=471.0, style=ProgressStyle(description_wid…",
      "application/vnd.jupyter.widget-view+json": {
       "version_major": 2,
       "version_minor": 0,
       "model_id": "f5ba95797c414fe79e931f9a2ef752d4"
      }
     },
     "metadata": {}
    },
    {
     "output_type": "display_data",
     "data": {
      "text/plain": "HBox(children=(FloatProgress(value=0.0, description='Epoch 59', max=471.0, style=ProgressStyle(description_wid…",
      "application/vnd.jupyter.widget-view+json": {
       "version_major": 2,
       "version_minor": 0,
       "model_id": "0833926da12c41abbf06e6b30d5690ec"
      }
     },
     "metadata": {}
    },
    {
     "output_type": "display_data",
     "data": {
      "text/plain": "HBox(children=(FloatProgress(value=0.0, description='Epoch 60', max=471.0, style=ProgressStyle(description_wid…",
      "application/vnd.jupyter.widget-view+json": {
       "version_major": 2,
       "version_minor": 0,
       "model_id": "e9084d0df72449aabffb76dfbccf8d6c"
      }
     },
     "metadata": {}
    },
    {
     "output_type": "display_data",
     "data": {
      "text/plain": "HBox(children=(FloatProgress(value=0.0, description='Epoch 61', max=471.0, style=ProgressStyle(description_wid…",
      "application/vnd.jupyter.widget-view+json": {
       "version_major": 2,
       "version_minor": 0,
       "model_id": "ccbd0d7a894047fe85c19359481a1aca"
      }
     },
     "metadata": {}
    },
    {
     "output_type": "display_data",
     "data": {
      "text/plain": "HBox(children=(FloatProgress(value=0.0, description='Epoch 62', max=471.0, style=ProgressStyle(description_wid…",
      "application/vnd.jupyter.widget-view+json": {
       "version_major": 2,
       "version_minor": 0,
       "model_id": "c8cc02c4b9474c49979f066509c9c3ec"
      }
     },
     "metadata": {}
    },
    {
     "output_type": "display_data",
     "data": {
      "text/plain": "HBox(children=(FloatProgress(value=0.0, description='Epoch 63', max=471.0, style=ProgressStyle(description_wid…",
      "application/vnd.jupyter.widget-view+json": {
       "version_major": 2,
       "version_minor": 0,
       "model_id": "7f5f0fa8ee344a949e38bd1d7a614c50"
      }
     },
     "metadata": {}
    },
    {
     "output_type": "display_data",
     "data": {
      "text/plain": "HBox(children=(FloatProgress(value=0.0, description='Epoch 64', max=471.0, style=ProgressStyle(description_wid…",
      "application/vnd.jupyter.widget-view+json": {
       "version_major": 2,
       "version_minor": 0,
       "model_id": "ad259ee9786645c0a694c8292c16a6dd"
      }
     },
     "metadata": {}
    },
    {
     "output_type": "display_data",
     "data": {
      "text/plain": "HBox(children=(FloatProgress(value=0.0, description='Epoch 65', max=471.0, style=ProgressStyle(description_wid…",
      "application/vnd.jupyter.widget-view+json": {
       "version_major": 2,
       "version_minor": 0,
       "model_id": "f1a5f59641bd48a29345f369fa1f629f"
      }
     },
     "metadata": {}
    },
    {
     "output_type": "display_data",
     "data": {
      "text/plain": "HBox(children=(FloatProgress(value=0.0, description='Epoch 66', max=471.0, style=ProgressStyle(description_wid…",
      "application/vnd.jupyter.widget-view+json": {
       "version_major": 2,
       "version_minor": 0,
       "model_id": "4b263eca73b94634b9c0a01ee6987920"
      }
     },
     "metadata": {}
    },
    {
     "output_type": "display_data",
     "data": {
      "text/plain": "HBox(children=(FloatProgress(value=0.0, description='Epoch 67', max=471.0, style=ProgressStyle(description_wid…",
      "application/vnd.jupyter.widget-view+json": {
       "version_major": 2,
       "version_minor": 0,
       "model_id": "76d8175ed31e4ba2bb5cc64469368cae"
      }
     },
     "metadata": {}
    },
    {
     "output_type": "display_data",
     "data": {
      "text/plain": "HBox(children=(FloatProgress(value=0.0, description='Epoch 68', max=471.0, style=ProgressStyle(description_wid…",
      "application/vnd.jupyter.widget-view+json": {
       "version_major": 2,
       "version_minor": 0,
       "model_id": "4c897d8032054a549f871275d0b9b23c"
      }
     },
     "metadata": {}
    },
    {
     "output_type": "display_data",
     "data": {
      "text/plain": "HBox(children=(FloatProgress(value=0.0, description='Epoch 69', max=471.0, style=ProgressStyle(description_wid…",
      "application/vnd.jupyter.widget-view+json": {
       "version_major": 2,
       "version_minor": 0,
       "model_id": "cab2d6e4e76d4e4ea84e17633790bcce"
      }
     },
     "metadata": {}
    },
    {
     "output_type": "display_data",
     "data": {
      "text/plain": "HBox(children=(FloatProgress(value=0.0, description='Epoch 70', max=471.0, style=ProgressStyle(description_wid…",
      "application/vnd.jupyter.widget-view+json": {
       "version_major": 2,
       "version_minor": 0,
       "model_id": "5349ae3850a14ea5a8acdeae77a273c0"
      }
     },
     "metadata": {}
    },
    {
     "output_type": "display_data",
     "data": {
      "text/plain": "HBox(children=(FloatProgress(value=0.0, description='Epoch 71', max=471.0, style=ProgressStyle(description_wid…",
      "application/vnd.jupyter.widget-view+json": {
       "version_major": 2,
       "version_minor": 0,
       "model_id": "96c8968d443247a49ec865bea21db3e7"
      }
     },
     "metadata": {}
    },
    {
     "output_type": "display_data",
     "data": {
      "text/plain": "HBox(children=(FloatProgress(value=0.0, description='Epoch 72', max=471.0, style=ProgressStyle(description_wid…",
      "application/vnd.jupyter.widget-view+json": {
       "version_major": 2,
       "version_minor": 0,
       "model_id": "32b50c1720c647af9f62d49574196492"
      }
     },
     "metadata": {}
    },
    {
     "output_type": "display_data",
     "data": {
      "text/plain": "HBox(children=(FloatProgress(value=0.0, description='Epoch 73', max=471.0, style=ProgressStyle(description_wid…",
      "application/vnd.jupyter.widget-view+json": {
       "version_major": 2,
       "version_minor": 0,
       "model_id": "5af3011fb93040f2bfb03ba5420b33aa"
      }
     },
     "metadata": {}
    },
    {
     "output_type": "display_data",
     "data": {
      "text/plain": "HBox(children=(FloatProgress(value=0.0, description='Epoch 74', max=471.0, style=ProgressStyle(description_wid…",
      "application/vnd.jupyter.widget-view+json": {
       "version_major": 2,
       "version_minor": 0,
       "model_id": "50b07a069c584786b82e8b81145d9666"
      }
     },
     "metadata": {}
    },
    {
     "output_type": "display_data",
     "data": {
      "text/plain": "HBox(children=(FloatProgress(value=0.0, description='Epoch 75', max=471.0, style=ProgressStyle(description_wid…",
      "application/vnd.jupyter.widget-view+json": {
       "version_major": 2,
       "version_minor": 0,
       "model_id": "d2f76dfbd81b41b8b88d15727a2f044a"
      }
     },
     "metadata": {}
    },
    {
     "output_type": "display_data",
     "data": {
      "text/plain": "HBox(children=(FloatProgress(value=0.0, description='Epoch 76', max=471.0, style=ProgressStyle(description_wid…",
      "application/vnd.jupyter.widget-view+json": {
       "version_major": 2,
       "version_minor": 0,
       "model_id": "1fb230d9d12f48eea8bc3c9b50d6387c"
      }
     },
     "metadata": {}
    },
    {
     "output_type": "display_data",
     "data": {
      "text/plain": "HBox(children=(FloatProgress(value=0.0, description='Epoch 77', max=471.0, style=ProgressStyle(description_wid…",
      "application/vnd.jupyter.widget-view+json": {
       "version_major": 2,
       "version_minor": 0,
       "model_id": "c6b92eea1db14ec0aae65d17eae3333a"
      }
     },
     "metadata": {}
    },
    {
     "output_type": "display_data",
     "data": {
      "text/plain": "HBox(children=(FloatProgress(value=0.0, description='Epoch 78', max=471.0, style=ProgressStyle(description_wid…",
      "application/vnd.jupyter.widget-view+json": {
       "version_major": 2,
       "version_minor": 0,
       "model_id": "aaad3097148e49e7b06c94d38d1c6ba3"
      }
     },
     "metadata": {}
    },
    {
     "output_type": "display_data",
     "data": {
      "text/plain": "HBox(children=(FloatProgress(value=0.0, description='Epoch 79', max=471.0, style=ProgressStyle(description_wid…",
      "application/vnd.jupyter.widget-view+json": {
       "version_major": 2,
       "version_minor": 0,
       "model_id": "fb32f9b742014b37a0db6d8ee406ef63"
      }
     },
     "metadata": {}
    },
    {
     "output_type": "display_data",
     "data": {
      "text/plain": "HBox(children=(FloatProgress(value=0.0, description='Epoch 80', max=471.0, style=ProgressStyle(description_wid…",
      "application/vnd.jupyter.widget-view+json": {
       "version_major": 2,
       "version_minor": 0,
       "model_id": "93859f1d807c43e4bb0570e83a90fc5c"
      }
     },
     "metadata": {}
    },
    {
     "output_type": "display_data",
     "data": {
      "text/plain": "HBox(children=(FloatProgress(value=0.0, description='Epoch 81', max=471.0, style=ProgressStyle(description_wid…",
      "application/vnd.jupyter.widget-view+json": {
       "version_major": 2,
       "version_minor": 0,
       "model_id": "d3d364b40f5d43e3875f25be443c915b"
      }
     },
     "metadata": {}
    },
    {
     "output_type": "display_data",
     "data": {
      "text/plain": "HBox(children=(FloatProgress(value=0.0, description='Epoch 82', max=471.0, style=ProgressStyle(description_wid…",
      "application/vnd.jupyter.widget-view+json": {
       "version_major": 2,
       "version_minor": 0,
       "model_id": "035cef4cb55f442ba7c82666346e0036"
      }
     },
     "metadata": {}
    },
    {
     "output_type": "display_data",
     "data": {
      "text/plain": "HBox(children=(FloatProgress(value=0.0, description='Epoch 83', max=471.0, style=ProgressStyle(description_wid…",
      "application/vnd.jupyter.widget-view+json": {
       "version_major": 2,
       "version_minor": 0,
       "model_id": "409cdeaabc4243509938d235940ccadc"
      }
     },
     "metadata": {}
    },
    {
     "output_type": "display_data",
     "data": {
      "text/plain": "HBox(children=(FloatProgress(value=0.0, description='Epoch 84', max=471.0, style=ProgressStyle(description_wid…",
      "application/vnd.jupyter.widget-view+json": {
       "version_major": 2,
       "version_minor": 0,
       "model_id": "975f8c06bca743d8bfb2d08d926a525a"
      }
     },
     "metadata": {}
    },
    {
     "output_type": "display_data",
     "data": {
      "text/plain": "HBox(children=(FloatProgress(value=0.0, description='Epoch 85', max=471.0, style=ProgressStyle(description_wid…",
      "application/vnd.jupyter.widget-view+json": {
       "version_major": 2,
       "version_minor": 0,
       "model_id": "167835523b354f4fa2fb0cfb870c499c"
      }
     },
     "metadata": {}
    },
    {
     "output_type": "display_data",
     "data": {
      "text/plain": "HBox(children=(FloatProgress(value=0.0, description='Epoch 86', max=471.0, style=ProgressStyle(description_wid…",
      "application/vnd.jupyter.widget-view+json": {
       "version_major": 2,
       "version_minor": 0,
       "model_id": "7d4424a3bfa545f297441d1cbab643e5"
      }
     },
     "metadata": {}
    },
    {
     "output_type": "display_data",
     "data": {
      "text/plain": "HBox(children=(FloatProgress(value=0.0, description='Epoch 87', max=471.0, style=ProgressStyle(description_wid…",
      "application/vnd.jupyter.widget-view+json": {
       "version_major": 2,
       "version_minor": 0,
       "model_id": "86b1243828534ae9829d5127288e4687"
      }
     },
     "metadata": {}
    },
    {
     "output_type": "display_data",
     "data": {
      "text/plain": "HBox(children=(FloatProgress(value=0.0, description='Epoch 88', max=471.0, style=ProgressStyle(description_wid…",
      "application/vnd.jupyter.widget-view+json": {
       "version_major": 2,
       "version_minor": 0,
       "model_id": "43d2ad42af5143eb81b7d977238310ef"
      }
     },
     "metadata": {}
    },
    {
     "output_type": "display_data",
     "data": {
      "text/plain": "HBox(children=(FloatProgress(value=0.0, description='Epoch 89', max=471.0, style=ProgressStyle(description_wid…",
      "application/vnd.jupyter.widget-view+json": {
       "version_major": 2,
       "version_minor": 0,
       "model_id": "389f60d1ee8d42b887e56abc1b61932d"
      }
     },
     "metadata": {}
    },
    {
     "output_type": "display_data",
     "data": {
      "text/plain": "HBox(children=(FloatProgress(value=0.0, description='Epoch 90', max=471.0, style=ProgressStyle(description_wid…",
      "application/vnd.jupyter.widget-view+json": {
       "version_major": 2,
       "version_minor": 0,
       "model_id": "1fbc660a68eb4abaaba73e4a7dfc8d49"
      }
     },
     "metadata": {}
    },
    {
     "output_type": "display_data",
     "data": {
      "text/plain": "HBox(children=(FloatProgress(value=0.0, description='Epoch 91', max=471.0, style=ProgressStyle(description_wid…",
      "application/vnd.jupyter.widget-view+json": {
       "version_major": 2,
       "version_minor": 0,
       "model_id": "91fa5f61c87d40bab897149d8f4e8f48"
      }
     },
     "metadata": {}
    },
    {
     "output_type": "display_data",
     "data": {
      "text/plain": "HBox(children=(FloatProgress(value=0.0, description='Epoch 92', max=471.0, style=ProgressStyle(description_wid…",
      "application/vnd.jupyter.widget-view+json": {
       "version_major": 2,
       "version_minor": 0,
       "model_id": "94224951d4314d2281b7b29cd8c9d347"
      }
     },
     "metadata": {}
    },
    {
     "output_type": "display_data",
     "data": {
      "text/plain": "HBox(children=(FloatProgress(value=0.0, description='Epoch 93', max=471.0, style=ProgressStyle(description_wid…",
      "application/vnd.jupyter.widget-view+json": {
       "version_major": 2,
       "version_minor": 0,
       "model_id": "39750d2c4c244d50bd4d5eb7eaf917a9"
      }
     },
     "metadata": {}
    },
    {
     "output_type": "display_data",
     "data": {
      "text/plain": "HBox(children=(FloatProgress(value=0.0, description='Epoch 94', max=471.0, style=ProgressStyle(description_wid…",
      "application/vnd.jupyter.widget-view+json": {
       "version_major": 2,
       "version_minor": 0,
       "model_id": "e7bcfdb0c76d4ef7880690295986d084"
      }
     },
     "metadata": {}
    },
    {
     "output_type": "display_data",
     "data": {
      "text/plain": "HBox(children=(FloatProgress(value=0.0, description='Epoch 95', max=471.0, style=ProgressStyle(description_wid…",
      "application/vnd.jupyter.widget-view+json": {
       "version_major": 2,
       "version_minor": 0,
       "model_id": "8609a30f539a45a4920ebe0d7776b8e2"
      }
     },
     "metadata": {}
    },
    {
     "output_type": "display_data",
     "data": {
      "text/plain": "HBox(children=(FloatProgress(value=0.0, description='Epoch 96', max=471.0, style=ProgressStyle(description_wid…",
      "application/vnd.jupyter.widget-view+json": {
       "version_major": 2,
       "version_minor": 0,
       "model_id": "f0a2bb0bc60f4cf5a26bf69c1603928e"
      }
     },
     "metadata": {}
    },
    {
     "output_type": "display_data",
     "data": {
      "text/plain": "HBox(children=(FloatProgress(value=0.0, description='Epoch 97', max=471.0, style=ProgressStyle(description_wid…",
      "application/vnd.jupyter.widget-view+json": {
       "version_major": 2,
       "version_minor": 0,
       "model_id": "1aaa71bab99b43a58cf031ef906cda3c"
      }
     },
     "metadata": {}
    },
    {
     "output_type": "display_data",
     "data": {
      "text/plain": "HBox(children=(FloatProgress(value=0.0, description='Epoch 98', max=471.0, style=ProgressStyle(description_wid…",
      "application/vnd.jupyter.widget-view+json": {
       "version_major": 2,
       "version_minor": 0,
       "model_id": "482020e1b7964498a52225da20f5331c"
      }
     },
     "metadata": {}
    },
    {
     "output_type": "display_data",
     "data": {
      "text/plain": "HBox(children=(FloatProgress(value=0.0, description='Epoch 99', max=471.0, style=ProgressStyle(description_wid…",
      "application/vnd.jupyter.widget-view+json": {
       "version_major": 2,
       "version_minor": 0,
       "model_id": "9f1f59c23ab74a0f896339b183939f5a"
      }
     },
     "metadata": {}
    },
    {
     "output_type": "display_data",
     "data": {
      "text/plain": "HBox(children=(FloatProgress(value=0.0, description='Epoch 100', max=471.0, style=ProgressStyle(description_wi…",
      "application/vnd.jupyter.widget-view+json": {
       "version_major": 2,
       "version_minor": 0,
       "model_id": "d921b84a474a42b98230ef50f02ca800"
      }
     },
     "metadata": {}
    },
    {
     "output_type": "display_data",
     "data": {
      "text/plain": "HBox(children=(FloatProgress(value=0.0, description='Epoch 101', max=471.0, style=ProgressStyle(description_wi…",
      "application/vnd.jupyter.widget-view+json": {
       "version_major": 2,
       "version_minor": 0,
       "model_id": "f2496370fc50415298148b65be676956"
      }
     },
     "metadata": {}
    },
    {
     "output_type": "display_data",
     "data": {
      "text/plain": "HBox(children=(FloatProgress(value=0.0, description='Epoch 102', max=471.0, style=ProgressStyle(description_wi…",
      "application/vnd.jupyter.widget-view+json": {
       "version_major": 2,
       "version_minor": 0,
       "model_id": "07da3308a21943108ecc9cf0c9ead480"
      }
     },
     "metadata": {}
    },
    {
     "output_type": "display_data",
     "data": {
      "text/plain": "HBox(children=(FloatProgress(value=0.0, description='Epoch 103', max=471.0, style=ProgressStyle(description_wi…",
      "application/vnd.jupyter.widget-view+json": {
       "version_major": 2,
       "version_minor": 0,
       "model_id": "4acac1bbef464938bca0b0c63d92fa2d"
      }
     },
     "metadata": {}
    },
    {
     "output_type": "display_data",
     "data": {
      "text/plain": "HBox(children=(FloatProgress(value=0.0, description='Epoch 104', max=471.0, style=ProgressStyle(description_wi…",
      "application/vnd.jupyter.widget-view+json": {
       "version_major": 2,
       "version_minor": 0,
       "model_id": "4241d8aa2ee44030b0dcd0719549f981"
      }
     },
     "metadata": {}
    },
    {
     "output_type": "display_data",
     "data": {
      "text/plain": "HBox(children=(FloatProgress(value=0.0, description='Epoch 105', max=471.0, style=ProgressStyle(description_wi…",
      "application/vnd.jupyter.widget-view+json": {
       "version_major": 2,
       "version_minor": 0,
       "model_id": "6f00def15f59418b82e5cd7b041d7c5e"
      }
     },
     "metadata": {}
    },
    {
     "output_type": "display_data",
     "data": {
      "text/plain": "HBox(children=(FloatProgress(value=0.0, description='Epoch 106', max=471.0, style=ProgressStyle(description_wi…",
      "application/vnd.jupyter.widget-view+json": {
       "version_major": 2,
       "version_minor": 0,
       "model_id": "46246d0df8c84c74bd22481c3d9931df"
      }
     },
     "metadata": {}
    },
    {
     "output_type": "display_data",
     "data": {
      "text/plain": "HBox(children=(FloatProgress(value=0.0, description='Epoch 107', max=471.0, style=ProgressStyle(description_wi…",
      "application/vnd.jupyter.widget-view+json": {
       "version_major": 2,
       "version_minor": 0,
       "model_id": "d0158c44edfb42b5a9601f5f9d396007"
      }
     },
     "metadata": {}
    },
    {
     "output_type": "display_data",
     "data": {
      "text/plain": "HBox(children=(FloatProgress(value=0.0, description='Epoch 108', max=471.0, style=ProgressStyle(description_wi…",
      "application/vnd.jupyter.widget-view+json": {
       "version_major": 2,
       "version_minor": 0,
       "model_id": "56f51d2ac132461ab31911abe966279a"
      }
     },
     "metadata": {}
    },
    {
     "output_type": "display_data",
     "data": {
      "text/plain": "HBox(children=(FloatProgress(value=0.0, description='Epoch 109', max=471.0, style=ProgressStyle(description_wi…",
      "application/vnd.jupyter.widget-view+json": {
       "version_major": 2,
       "version_minor": 0,
       "model_id": "e25cdae5a8904209822b12ffe49430c3"
      }
     },
     "metadata": {}
    },
    {
     "output_type": "display_data",
     "data": {
      "text/plain": "HBox(children=(FloatProgress(value=0.0, description='Epoch 110', max=471.0, style=ProgressStyle(description_wi…",
      "application/vnd.jupyter.widget-view+json": {
       "version_major": 2,
       "version_minor": 0,
       "model_id": "ed56bf3ca8744e438e1e655feb05e5d4"
      }
     },
     "metadata": {}
    },
    {
     "output_type": "display_data",
     "data": {
      "text/plain": "HBox(children=(FloatProgress(value=0.0, description='Epoch 111', max=471.0, style=ProgressStyle(description_wi…",
      "application/vnd.jupyter.widget-view+json": {
       "version_major": 2,
       "version_minor": 0,
       "model_id": "e28d58a45aba4ba9922abed8ad81f9df"
      }
     },
     "metadata": {}
    },
    {
     "output_type": "display_data",
     "data": {
      "text/plain": "HBox(children=(FloatProgress(value=0.0, description='Epoch 112', max=471.0, style=ProgressStyle(description_wi…",
      "application/vnd.jupyter.widget-view+json": {
       "version_major": 2,
       "version_minor": 0,
       "model_id": "97555e31feed4b00963eda4f3456fca8"
      }
     },
     "metadata": {}
    },
    {
     "output_type": "display_data",
     "data": {
      "text/plain": "HBox(children=(FloatProgress(value=0.0, description='Epoch 113', max=471.0, style=ProgressStyle(description_wi…",
      "application/vnd.jupyter.widget-view+json": {
       "version_major": 2,
       "version_minor": 0,
       "model_id": "6bd00bcf9ffd4ebd978a99cb28a7d6ed"
      }
     },
     "metadata": {}
    },
    {
     "output_type": "display_data",
     "data": {
      "text/plain": "HBox(children=(FloatProgress(value=0.0, description='Epoch 114', max=471.0, style=ProgressStyle(description_wi…",
      "application/vnd.jupyter.widget-view+json": {
       "version_major": 2,
       "version_minor": 0,
       "model_id": "2c3b736926e146d593e54f98da16668a"
      }
     },
     "metadata": {}
    },
    {
     "output_type": "display_data",
     "data": {
      "text/plain": "HBox(children=(FloatProgress(value=0.0, description='Epoch 115', max=471.0, style=ProgressStyle(description_wi…",
      "application/vnd.jupyter.widget-view+json": {
       "version_major": 2,
       "version_minor": 0,
       "model_id": "d63f025a9a244ecca10fd1a83d4c2aa1"
      }
     },
     "metadata": {}
    },
    {
     "output_type": "display_data",
     "data": {
      "text/plain": "HBox(children=(FloatProgress(value=0.0, description='Epoch 116', max=471.0, style=ProgressStyle(description_wi…",
      "application/vnd.jupyter.widget-view+json": {
       "version_major": 2,
       "version_minor": 0,
       "model_id": "b69cee9b87bc4028b44e5e300b43aeba"
      }
     },
     "metadata": {}
    },
    {
     "output_type": "display_data",
     "data": {
      "text/plain": "HBox(children=(FloatProgress(value=0.0, description='Epoch 117', max=471.0, style=ProgressStyle(description_wi…",
      "application/vnd.jupyter.widget-view+json": {
       "version_major": 2,
       "version_minor": 0,
       "model_id": "811564a3003a4b14998a88dd512178cc"
      }
     },
     "metadata": {}
    },
    {
     "output_type": "display_data",
     "data": {
      "text/plain": "HBox(children=(FloatProgress(value=0.0, description='Epoch 118', max=471.0, style=ProgressStyle(description_wi…",
      "application/vnd.jupyter.widget-view+json": {
       "version_major": 2,
       "version_minor": 0,
       "model_id": "38eb850f6c08432fa2f17a7a3bc5ef17"
      }
     },
     "metadata": {}
    },
    {
     "output_type": "display_data",
     "data": {
      "text/plain": "HBox(children=(FloatProgress(value=0.0, description='Epoch 119', max=471.0, style=ProgressStyle(description_wi…",
      "application/vnd.jupyter.widget-view+json": {
       "version_major": 2,
       "version_minor": 0,
       "model_id": "a6d7f5e807f04fc69c5f9d73832a0458"
      }
     },
     "metadata": {}
    },
    {
     "output_type": "display_data",
     "data": {
      "text/plain": "HBox(children=(FloatProgress(value=0.0, description='Epoch 120', max=471.0, style=ProgressStyle(description_wi…",
      "application/vnd.jupyter.widget-view+json": {
       "version_major": 2,
       "version_minor": 0,
       "model_id": "bb2674868a3144fc919194e4961a72ef"
      }
     },
     "metadata": {}
    },
    {
     "output_type": "display_data",
     "data": {
      "text/plain": "HBox(children=(FloatProgress(value=0.0, description='Epoch 121', max=471.0, style=ProgressStyle(description_wi…",
      "application/vnd.jupyter.widget-view+json": {
       "version_major": 2,
       "version_minor": 0,
       "model_id": "8c99aaf5368545378aa393f5e0287ae3"
      }
     },
     "metadata": {}
    },
    {
     "output_type": "display_data",
     "data": {
      "text/plain": "HBox(children=(FloatProgress(value=0.0, description='Epoch 122', max=471.0, style=ProgressStyle(description_wi…",
      "application/vnd.jupyter.widget-view+json": {
       "version_major": 2,
       "version_minor": 0,
       "model_id": "fdb85362f85a492a99d80f602485d307"
      }
     },
     "metadata": {}
    },
    {
     "output_type": "display_data",
     "data": {
      "text/plain": "HBox(children=(FloatProgress(value=0.0, description='Epoch 123', max=471.0, style=ProgressStyle(description_wi…",
      "application/vnd.jupyter.widget-view+json": {
       "version_major": 2,
       "version_minor": 0,
       "model_id": "c6aeb042569b4bc3991f704f23fd8b4d"
      }
     },
     "metadata": {}
    },
    {
     "output_type": "display_data",
     "data": {
      "text/plain": "HBox(children=(FloatProgress(value=0.0, description='Epoch 124', max=471.0, style=ProgressStyle(description_wi…",
      "application/vnd.jupyter.widget-view+json": {
       "version_major": 2,
       "version_minor": 0,
       "model_id": "b4041e36aaa941039bb97ec9a597063f"
      }
     },
     "metadata": {}
    },
    {
     "output_type": "display_data",
     "data": {
      "text/plain": "HBox(children=(FloatProgress(value=0.0, description='Epoch 125', max=471.0, style=ProgressStyle(description_wi…",
      "application/vnd.jupyter.widget-view+json": {
       "version_major": 2,
       "version_minor": 0,
       "model_id": "5c01da6fa4af4ce594e8d57e69060e08"
      }
     },
     "metadata": {}
    },
    {
     "output_type": "display_data",
     "data": {
      "text/plain": "HBox(children=(FloatProgress(value=0.0, description='Epoch 126', max=471.0, style=ProgressStyle(description_wi…",
      "application/vnd.jupyter.widget-view+json": {
       "version_major": 2,
       "version_minor": 0,
       "model_id": "8e2cc0cc345b46788be28374d416cdda"
      }
     },
     "metadata": {}
    },
    {
     "output_type": "display_data",
     "data": {
      "text/plain": "HBox(children=(FloatProgress(value=0.0, description='Epoch 127', max=471.0, style=ProgressStyle(description_wi…",
      "application/vnd.jupyter.widget-view+json": {
       "version_major": 2,
       "version_minor": 0,
       "model_id": "ed7d21aadb434a77abbeb4453c84451a"
      }
     },
     "metadata": {}
    },
    {
     "output_type": "display_data",
     "data": {
      "text/plain": "HBox(children=(FloatProgress(value=0.0, description='Epoch 128', max=471.0, style=ProgressStyle(description_wi…",
      "application/vnd.jupyter.widget-view+json": {
       "version_major": 2,
       "version_minor": 0,
       "model_id": "6ec849114bf6485bbfb80cfaac4c2195"
      }
     },
     "metadata": {}
    },
    {
     "output_type": "display_data",
     "data": {
      "text/plain": "HBox(children=(FloatProgress(value=0.0, description='Epoch 129', max=471.0, style=ProgressStyle(description_wi…",
      "application/vnd.jupyter.widget-view+json": {
       "version_major": 2,
       "version_minor": 0,
       "model_id": "e1db33cb4c3347cdbc8bd073e5d370bb"
      }
     },
     "metadata": {}
    },
    {
     "output_type": "display_data",
     "data": {
      "text/plain": "HBox(children=(FloatProgress(value=0.0, description='Epoch 130', max=471.0, style=ProgressStyle(description_wi…",
      "application/vnd.jupyter.widget-view+json": {
       "version_major": 2,
       "version_minor": 0,
       "model_id": "0e98efd8f078432f9cbd77cd58a9c958"
      }
     },
     "metadata": {}
    },
    {
     "output_type": "display_data",
     "data": {
      "text/plain": "HBox(children=(FloatProgress(value=0.0, description='Epoch 131', max=471.0, style=ProgressStyle(description_wi…",
      "application/vnd.jupyter.widget-view+json": {
       "version_major": 2,
       "version_minor": 0,
       "model_id": "6345b7ff5e694d8d86087f166c71c4d4"
      }
     },
     "metadata": {}
    },
    {
     "output_type": "display_data",
     "data": {
      "text/plain": "HBox(children=(FloatProgress(value=0.0, description='Epoch 132', max=471.0, style=ProgressStyle(description_wi…",
      "application/vnd.jupyter.widget-view+json": {
       "version_major": 2,
       "version_minor": 0,
       "model_id": "8cf99dab6c5d4970a9312b467d31316a"
      }
     },
     "metadata": {}
    },
    {
     "output_type": "display_data",
     "data": {
      "text/plain": "HBox(children=(FloatProgress(value=0.0, description='Epoch 133', max=471.0, style=ProgressStyle(description_wi…",
      "application/vnd.jupyter.widget-view+json": {
       "version_major": 2,
       "version_minor": 0,
       "model_id": "4eccb85d19774ba4b62ac80bb21114e5"
      }
     },
     "metadata": {}
    },
    {
     "output_type": "display_data",
     "data": {
      "text/plain": "HBox(children=(FloatProgress(value=0.0, description='Epoch 134', max=471.0, style=ProgressStyle(description_wi…",
      "application/vnd.jupyter.widget-view+json": {
       "version_major": 2,
       "version_minor": 0,
       "model_id": "ea25d7e4de764661bd17c46cac433933"
      }
     },
     "metadata": {}
    },
    {
     "output_type": "display_data",
     "data": {
      "text/plain": "HBox(children=(FloatProgress(value=0.0, description='Epoch 135', max=471.0, style=ProgressStyle(description_wi…",
      "application/vnd.jupyter.widget-view+json": {
       "version_major": 2,
       "version_minor": 0,
       "model_id": "61ccdffdb47d491aad0290691259e19f"
      }
     },
     "metadata": {}
    },
    {
     "output_type": "display_data",
     "data": {
      "text/plain": "HBox(children=(FloatProgress(value=0.0, description='Epoch 136', max=471.0, style=ProgressStyle(description_wi…",
      "application/vnd.jupyter.widget-view+json": {
       "version_major": 2,
       "version_minor": 0,
       "model_id": "d422dbd43be344238f8068023d18654b"
      }
     },
     "metadata": {}
    },
    {
     "output_type": "display_data",
     "data": {
      "text/plain": "HBox(children=(FloatProgress(value=0.0, description='Epoch 137', max=471.0, style=ProgressStyle(description_wi…",
      "application/vnd.jupyter.widget-view+json": {
       "version_major": 2,
       "version_minor": 0,
       "model_id": "d4cd716b4bd54ece9630cd3cef3379db"
      }
     },
     "metadata": {}
    },
    {
     "output_type": "display_data",
     "data": {
      "text/plain": "HBox(children=(FloatProgress(value=0.0, description='Epoch 138', max=471.0, style=ProgressStyle(description_wi…",
      "application/vnd.jupyter.widget-view+json": {
       "version_major": 2,
       "version_minor": 0,
       "model_id": "ce14c3b914cf4d9e9e1818d797ecf758"
      }
     },
     "metadata": {}
    },
    {
     "output_type": "display_data",
     "data": {
      "text/plain": "HBox(children=(FloatProgress(value=0.0, description='Epoch 139', max=471.0, style=ProgressStyle(description_wi…",
      "application/vnd.jupyter.widget-view+json": {
       "version_major": 2,
       "version_minor": 0,
       "model_id": "1b02063759bb462186d78eb1d65115dc"
      }
     },
     "metadata": {}
    },
    {
     "output_type": "display_data",
     "data": {
      "text/plain": "HBox(children=(FloatProgress(value=0.0, description='Epoch 140', max=471.0, style=ProgressStyle(description_wi…",
      "application/vnd.jupyter.widget-view+json": {
       "version_major": 2,
       "version_minor": 0,
       "model_id": "bfec38fcee7c4f798249fbc667f38762"
      }
     },
     "metadata": {}
    },
    {
     "output_type": "display_data",
     "data": {
      "text/plain": "HBox(children=(FloatProgress(value=0.0, description='Epoch 141', max=471.0, style=ProgressStyle(description_wi…",
      "application/vnd.jupyter.widget-view+json": {
       "version_major": 2,
       "version_minor": 0,
       "model_id": "fee450d1a0484c83a73e245d500cf69d"
      }
     },
     "metadata": {}
    },
    {
     "output_type": "display_data",
     "data": {
      "text/plain": "HBox(children=(FloatProgress(value=0.0, description='Epoch 142', max=471.0, style=ProgressStyle(description_wi…",
      "application/vnd.jupyter.widget-view+json": {
       "version_major": 2,
       "version_minor": 0,
       "model_id": "f7ba0c0e61da4f00966c3bcd36545f22"
      }
     },
     "metadata": {}
    },
    {
     "output_type": "display_data",
     "data": {
      "text/plain": "HBox(children=(FloatProgress(value=0.0, description='Epoch 143', max=471.0, style=ProgressStyle(description_wi…",
      "application/vnd.jupyter.widget-view+json": {
       "version_major": 2,
       "version_minor": 0,
       "model_id": "4c366df9c5704920aa9e0b3352ea2d43"
      }
     },
     "metadata": {}
    },
    {
     "output_type": "display_data",
     "data": {
      "text/plain": "HBox(children=(FloatProgress(value=0.0, description='Epoch 144', max=471.0, style=ProgressStyle(description_wi…",
      "application/vnd.jupyter.widget-view+json": {
       "version_major": 2,
       "version_minor": 0,
       "model_id": "9094bbb9bc9f46ee93ca6dcdc20d8297"
      }
     },
     "metadata": {}
    },
    {
     "output_type": "display_data",
     "data": {
      "text/plain": "HBox(children=(FloatProgress(value=0.0, description='Epoch 145', max=471.0, style=ProgressStyle(description_wi…",
      "application/vnd.jupyter.widget-view+json": {
       "version_major": 2,
       "version_minor": 0,
       "model_id": "2dbeb57b1b264d7faf1c407aa4cec640"
      }
     },
     "metadata": {}
    },
    {
     "output_type": "display_data",
     "data": {
      "text/plain": "HBox(children=(FloatProgress(value=0.0, description='Epoch 146', max=471.0, style=ProgressStyle(description_wi…",
      "application/vnd.jupyter.widget-view+json": {
       "version_major": 2,
       "version_minor": 0,
       "model_id": "91aec488bd35417cab5010049bc4d710"
      }
     },
     "metadata": {}
    },
    {
     "output_type": "display_data",
     "data": {
      "text/plain": "HBox(children=(FloatProgress(value=0.0, description='Epoch 147', max=471.0, style=ProgressStyle(description_wi…",
      "application/vnd.jupyter.widget-view+json": {
       "version_major": 2,
       "version_minor": 0,
       "model_id": "54815f5b9fe64725a1f6b528c9a23645"
      }
     },
     "metadata": {}
    },
    {
     "output_type": "display_data",
     "data": {
      "text/plain": "HBox(children=(FloatProgress(value=0.0, description='Epoch 148', max=471.0, style=ProgressStyle(description_wi…",
      "application/vnd.jupyter.widget-view+json": {
       "version_major": 2,
       "version_minor": 0,
       "model_id": "c48173dc91aa48fe96c050b6db3a75f2"
      }
     },
     "metadata": {}
    },
    {
     "output_type": "display_data",
     "data": {
      "text/plain": "HBox(children=(FloatProgress(value=0.0, description='Epoch 149', max=471.0, style=ProgressStyle(description_wi…",
      "application/vnd.jupyter.widget-view+json": {
       "version_major": 2,
       "version_minor": 0,
       "model_id": "7cba823d941e4ba09f6ce90cc7708b27"
      }
     },
     "metadata": {}
    },
    {
     "output_type": "display_data",
     "data": {
      "text/plain": "HBox(children=(FloatProgress(value=0.0, description='Epoch 150', max=471.0, style=ProgressStyle(description_wi…",
      "application/vnd.jupyter.widget-view+json": {
       "version_major": 2,
       "version_minor": 0,
       "model_id": "7d16e45ec3a1436bb6989ed8f23ba956"
      }
     },
     "metadata": {}
    },
    {
     "output_type": "display_data",
     "data": {
      "text/plain": "HBox(children=(FloatProgress(value=0.0, description='Epoch 151', max=471.0, style=ProgressStyle(description_wi…",
      "application/vnd.jupyter.widget-view+json": {
       "version_major": 2,
       "version_minor": 0,
       "model_id": "f5eb4a8824414f578cb7c120ff9b4b6d"
      }
     },
     "metadata": {}
    },
    {
     "output_type": "display_data",
     "data": {
      "text/plain": "HBox(children=(FloatProgress(value=0.0, description='Epoch 152', max=471.0, style=ProgressStyle(description_wi…",
      "application/vnd.jupyter.widget-view+json": {
       "version_major": 2,
       "version_minor": 0,
       "model_id": "2a404435db1342e2ba066f81a7b6a182"
      }
     },
     "metadata": {}
    },
    {
     "output_type": "display_data",
     "data": {
      "text/plain": "HBox(children=(FloatProgress(value=0.0, description='Epoch 153', max=471.0, style=ProgressStyle(description_wi…",
      "application/vnd.jupyter.widget-view+json": {
       "version_major": 2,
       "version_minor": 0,
       "model_id": "bb6b445133364dcdb543ea668bde69da"
      }
     },
     "metadata": {}
    },
    {
     "output_type": "display_data",
     "data": {
      "text/plain": "HBox(children=(FloatProgress(value=0.0, description='Epoch 154', max=471.0, style=ProgressStyle(description_wi…",
      "application/vnd.jupyter.widget-view+json": {
       "version_major": 2,
       "version_minor": 0,
       "model_id": "4358334f68a24633a11427e8f2277562"
      }
     },
     "metadata": {}
    },
    {
     "output_type": "display_data",
     "data": {
      "text/plain": "HBox(children=(FloatProgress(value=0.0, description='Epoch 155', max=471.0, style=ProgressStyle(description_wi…",
      "application/vnd.jupyter.widget-view+json": {
       "version_major": 2,
       "version_minor": 0,
       "model_id": "b144e4596b414f0891a5ded206f5b3bc"
      }
     },
     "metadata": {}
    },
    {
     "output_type": "display_data",
     "data": {
      "text/plain": "HBox(children=(FloatProgress(value=0.0, description='Epoch 156', max=471.0, style=ProgressStyle(description_wi…",
      "application/vnd.jupyter.widget-view+json": {
       "version_major": 2,
       "version_minor": 0,
       "model_id": "542ebef63f204c7d9a96038bd34a4f22"
      }
     },
     "metadata": {}
    },
    {
     "output_type": "display_data",
     "data": {
      "text/plain": "HBox(children=(FloatProgress(value=0.0, description='Epoch 157', max=471.0, style=ProgressStyle(description_wi…",
      "application/vnd.jupyter.widget-view+json": {
       "version_major": 2,
       "version_minor": 0,
       "model_id": "4456d998231c4641ac084a20357a3f3a"
      }
     },
     "metadata": {}
    },
    {
     "output_type": "display_data",
     "data": {
      "text/plain": "HBox(children=(FloatProgress(value=0.0, description='Epoch 158', max=471.0, style=ProgressStyle(description_wi…",
      "application/vnd.jupyter.widget-view+json": {
       "version_major": 2,
       "version_minor": 0,
       "model_id": "7418ca1d727c48aea2f8ccefc49dfd3a"
      }
     },
     "metadata": {}
    },
    {
     "output_type": "display_data",
     "data": {
      "text/plain": "HBox(children=(FloatProgress(value=0.0, description='Epoch 159', max=471.0, style=ProgressStyle(description_wi…",
      "application/vnd.jupyter.widget-view+json": {
       "version_major": 2,
       "version_minor": 0,
       "model_id": "2c1646929a964c07893623d160a9d051"
      }
     },
     "metadata": {}
    },
    {
     "output_type": "display_data",
     "data": {
      "text/plain": "HBox(children=(FloatProgress(value=0.0, description='Epoch 160', max=471.0, style=ProgressStyle(description_wi…",
      "application/vnd.jupyter.widget-view+json": {
       "version_major": 2,
       "version_minor": 0,
       "model_id": "3ef211b6a1c14c44b551815d9dc96742"
      }
     },
     "metadata": {}
    },
    {
     "output_type": "display_data",
     "data": {
      "text/plain": "HBox(children=(FloatProgress(value=0.0, description='Epoch 161', max=471.0, style=ProgressStyle(description_wi…",
      "application/vnd.jupyter.widget-view+json": {
       "version_major": 2,
       "version_minor": 0,
       "model_id": "0b014031f010437b8236220cf79289a0"
      }
     },
     "metadata": {}
    },
    {
     "output_type": "display_data",
     "data": {
      "text/plain": "HBox(children=(FloatProgress(value=0.0, description='Epoch 162', max=471.0, style=ProgressStyle(description_wi…",
      "application/vnd.jupyter.widget-view+json": {
       "version_major": 2,
       "version_minor": 0,
       "model_id": "b162a0ab43af451e8b5d8ff05fc47dc9"
      }
     },
     "metadata": {}
    },
    {
     "output_type": "display_data",
     "data": {
      "text/plain": "HBox(children=(FloatProgress(value=0.0, description='Epoch 163', max=471.0, style=ProgressStyle(description_wi…",
      "application/vnd.jupyter.widget-view+json": {
       "version_major": 2,
       "version_minor": 0,
       "model_id": "b3d8ed5bf29549d684a19b60a46605c6"
      }
     },
     "metadata": {}
    },
    {
     "output_type": "display_data",
     "data": {
      "text/plain": "HBox(children=(FloatProgress(value=0.0, description='Epoch 164', max=471.0, style=ProgressStyle(description_wi…",
      "application/vnd.jupyter.widget-view+json": {
       "version_major": 2,
       "version_minor": 0,
       "model_id": "2334539be4d8412cab3d8db059d0911c"
      }
     },
     "metadata": {}
    },
    {
     "output_type": "display_data",
     "data": {
      "text/plain": "HBox(children=(FloatProgress(value=0.0, description='Epoch 165', max=471.0, style=ProgressStyle(description_wi…",
      "application/vnd.jupyter.widget-view+json": {
       "version_major": 2,
       "version_minor": 0,
       "model_id": "0cdf9698b4ed4cbe9293555520e53fc4"
      }
     },
     "metadata": {}
    },
    {
     "output_type": "display_data",
     "data": {
      "text/plain": "HBox(children=(FloatProgress(value=0.0, description='Epoch 166', max=471.0, style=ProgressStyle(description_wi…",
      "application/vnd.jupyter.widget-view+json": {
       "version_major": 2,
       "version_minor": 0,
       "model_id": "c2451c4656514dc6bf807a35600737b1"
      }
     },
     "metadata": {}
    },
    {
     "output_type": "display_data",
     "data": {
      "text/plain": "HBox(children=(FloatProgress(value=0.0, description='Epoch 167', max=471.0, style=ProgressStyle(description_wi…",
      "application/vnd.jupyter.widget-view+json": {
       "version_major": 2,
       "version_minor": 0,
       "model_id": "9ed1a9ed24124c30970e6958b0f8fe3b"
      }
     },
     "metadata": {}
    },
    {
     "output_type": "display_data",
     "data": {
      "text/plain": "HBox(children=(FloatProgress(value=0.0, description='Epoch 168', max=471.0, style=ProgressStyle(description_wi…",
      "application/vnd.jupyter.widget-view+json": {
       "version_major": 2,
       "version_minor": 0,
       "model_id": "22fb29db3ef24e79a187e39e2cfc8efd"
      }
     },
     "metadata": {}
    },
    {
     "output_type": "display_data",
     "data": {
      "text/plain": "HBox(children=(FloatProgress(value=0.0, description='Epoch 169', max=471.0, style=ProgressStyle(description_wi…",
      "application/vnd.jupyter.widget-view+json": {
       "version_major": 2,
       "version_minor": 0,
       "model_id": "a8a42fbc4ae24420b6df920c9b282f4e"
      }
     },
     "metadata": {}
    },
    {
     "output_type": "display_data",
     "data": {
      "text/plain": "HBox(children=(FloatProgress(value=0.0, description='Epoch 170', max=471.0, style=ProgressStyle(description_wi…",
      "application/vnd.jupyter.widget-view+json": {
       "version_major": 2,
       "version_minor": 0,
       "model_id": "f35257dfcddb4aedac116d9bc6bf8f29"
      }
     },
     "metadata": {}
    },
    {
     "output_type": "display_data",
     "data": {
      "text/plain": "HBox(children=(FloatProgress(value=0.0, description='Epoch 171', max=471.0, style=ProgressStyle(description_wi…",
      "application/vnd.jupyter.widget-view+json": {
       "version_major": 2,
       "version_minor": 0,
       "model_id": "9d9c16fab142498f9da084c2e1ef8428"
      }
     },
     "metadata": {}
    },
    {
     "output_type": "display_data",
     "data": {
      "text/plain": "HBox(children=(FloatProgress(value=0.0, description='Epoch 172', max=471.0, style=ProgressStyle(description_wi…",
      "application/vnd.jupyter.widget-view+json": {
       "version_major": 2,
       "version_minor": 0,
       "model_id": "63fec673fcf2414f87d26b5df08a2b1f"
      }
     },
     "metadata": {}
    },
    {
     "output_type": "display_data",
     "data": {
      "text/plain": "HBox(children=(FloatProgress(value=0.0, description='Epoch 173', max=471.0, style=ProgressStyle(description_wi…",
      "application/vnd.jupyter.widget-view+json": {
       "version_major": 2,
       "version_minor": 0,
       "model_id": "80829004f76947928212bb16d4bcea1d"
      }
     },
     "metadata": {}
    },
    {
     "output_type": "display_data",
     "data": {
      "text/plain": "HBox(children=(FloatProgress(value=0.0, description='Epoch 174', max=471.0, style=ProgressStyle(description_wi…",
      "application/vnd.jupyter.widget-view+json": {
       "version_major": 2,
       "version_minor": 0,
       "model_id": "51d7f7ae4ff445428a09d367b264ae35"
      }
     },
     "metadata": {}
    },
    {
     "output_type": "display_data",
     "data": {
      "text/plain": "HBox(children=(FloatProgress(value=0.0, description='Epoch 175', max=471.0, style=ProgressStyle(description_wi…",
      "application/vnd.jupyter.widget-view+json": {
       "version_major": 2,
       "version_minor": 0,
       "model_id": "ef162f3b8593409a919631312ccb99e0"
      }
     },
     "metadata": {}
    },
    {
     "output_type": "display_data",
     "data": {
      "text/plain": "HBox(children=(FloatProgress(value=0.0, description='Epoch 176', max=471.0, style=ProgressStyle(description_wi…",
      "application/vnd.jupyter.widget-view+json": {
       "version_major": 2,
       "version_minor": 0,
       "model_id": "362974170ee642baaee6c6b8f647f72f"
      }
     },
     "metadata": {}
    },
    {
     "output_type": "display_data",
     "data": {
      "text/plain": "HBox(children=(FloatProgress(value=0.0, description='Epoch 177', max=471.0, style=ProgressStyle(description_wi…",
      "application/vnd.jupyter.widget-view+json": {
       "version_major": 2,
       "version_minor": 0,
       "model_id": "e7b295e92c8e48578fe955f7f28800c4"
      }
     },
     "metadata": {}
    },
    {
     "output_type": "display_data",
     "data": {
      "text/plain": "HBox(children=(FloatProgress(value=0.0, description='Epoch 178', max=471.0, style=ProgressStyle(description_wi…",
      "application/vnd.jupyter.widget-view+json": {
       "version_major": 2,
       "version_minor": 0,
       "model_id": "9b9c6c967a52497893c0447a62a63ef7"
      }
     },
     "metadata": {}
    },
    {
     "output_type": "display_data",
     "data": {
      "text/plain": "HBox(children=(FloatProgress(value=0.0, description='Epoch 179', max=471.0, style=ProgressStyle(description_wi…",
      "application/vnd.jupyter.widget-view+json": {
       "version_major": 2,
       "version_minor": 0,
       "model_id": "dd5d8922ad49473d8f498f77b6497fcc"
      }
     },
     "metadata": {}
    },
    {
     "output_type": "display_data",
     "data": {
      "text/plain": "HBox(children=(FloatProgress(value=0.0, description='Epoch 180', max=471.0, style=ProgressStyle(description_wi…",
      "application/vnd.jupyter.widget-view+json": {
       "version_major": 2,
       "version_minor": 0,
       "model_id": "bd4d590e5eb14888867062fc075e009f"
      }
     },
     "metadata": {}
    },
    {
     "output_type": "display_data",
     "data": {
      "text/plain": "HBox(children=(FloatProgress(value=0.0, description='Epoch 181', max=471.0, style=ProgressStyle(description_wi…",
      "application/vnd.jupyter.widget-view+json": {
       "version_major": 2,
       "version_minor": 0,
       "model_id": "223ec0a7cb4b4133b9104e99ea51ffdc"
      }
     },
     "metadata": {}
    },
    {
     "output_type": "display_data",
     "data": {
      "text/plain": "HBox(children=(FloatProgress(value=0.0, description='Epoch 182', max=471.0, style=ProgressStyle(description_wi…",
      "application/vnd.jupyter.widget-view+json": {
       "version_major": 2,
       "version_minor": 0,
       "model_id": "cee03ca4fa14487cb615a1cacc0f7e4d"
      }
     },
     "metadata": {}
    },
    {
     "output_type": "display_data",
     "data": {
      "text/plain": "HBox(children=(FloatProgress(value=0.0, description='Epoch 183', max=471.0, style=ProgressStyle(description_wi…",
      "application/vnd.jupyter.widget-view+json": {
       "version_major": 2,
       "version_minor": 0,
       "model_id": "782b7bafbff1458d9a21bed956d4e98a"
      }
     },
     "metadata": {}
    },
    {
     "output_type": "display_data",
     "data": {
      "text/plain": "HBox(children=(FloatProgress(value=0.0, description='Epoch 184', max=471.0, style=ProgressStyle(description_wi…",
      "application/vnd.jupyter.widget-view+json": {
       "version_major": 2,
       "version_minor": 0,
       "model_id": "2db79bee5ca449968535ab4e696d2f17"
      }
     },
     "metadata": {}
    },
    {
     "output_type": "display_data",
     "data": {
      "text/plain": "HBox(children=(FloatProgress(value=0.0, description='Epoch 185', max=471.0, style=ProgressStyle(description_wi…",
      "application/vnd.jupyter.widget-view+json": {
       "version_major": 2,
       "version_minor": 0,
       "model_id": "88fca50b3db54359855894b08d1b0848"
      }
     },
     "metadata": {}
    },
    {
     "output_type": "display_data",
     "data": {
      "text/plain": "HBox(children=(FloatProgress(value=0.0, description='Epoch 186', max=471.0, style=ProgressStyle(description_wi…",
      "application/vnd.jupyter.widget-view+json": {
       "version_major": 2,
       "version_minor": 0,
       "model_id": "68c06ae6f0fd4e8a898a6ef1ceb21838"
      }
     },
     "metadata": {}
    },
    {
     "output_type": "display_data",
     "data": {
      "text/plain": "HBox(children=(FloatProgress(value=0.0, description='Epoch 187', max=471.0, style=ProgressStyle(description_wi…",
      "application/vnd.jupyter.widget-view+json": {
       "version_major": 2,
       "version_minor": 0,
       "model_id": "10aba5662c5449bd9fbf0bffaf39db9a"
      }
     },
     "metadata": {}
    },
    {
     "output_type": "display_data",
     "data": {
      "text/plain": "HBox(children=(FloatProgress(value=0.0, description='Epoch 188', max=471.0, style=ProgressStyle(description_wi…",
      "application/vnd.jupyter.widget-view+json": {
       "version_major": 2,
       "version_minor": 0,
       "model_id": "0b094e3d26ac4cf38b1480a6d226683c"
      }
     },
     "metadata": {}
    },
    {
     "output_type": "display_data",
     "data": {
      "text/plain": "HBox(children=(FloatProgress(value=0.0, description='Epoch 189', max=471.0, style=ProgressStyle(description_wi…",
      "application/vnd.jupyter.widget-view+json": {
       "version_major": 2,
       "version_minor": 0,
       "model_id": "521b64f2464f43df9bcf4288ad0f5f3b"
      }
     },
     "metadata": {}
    },
    {
     "output_type": "display_data",
     "data": {
      "text/plain": "HBox(children=(FloatProgress(value=0.0, description='Epoch 190', max=471.0, style=ProgressStyle(description_wi…",
      "application/vnd.jupyter.widget-view+json": {
       "version_major": 2,
       "version_minor": 0,
       "model_id": "f2cb3ee0cdea474e89edb8faf6933e01"
      }
     },
     "metadata": {}
    },
    {
     "output_type": "display_data",
     "data": {
      "text/plain": "HBox(children=(FloatProgress(value=0.0, description='Epoch 191', max=471.0, style=ProgressStyle(description_wi…",
      "application/vnd.jupyter.widget-view+json": {
       "version_major": 2,
       "version_minor": 0,
       "model_id": "3dc70bafafe346ff9c86662379645894"
      }
     },
     "metadata": {}
    },
    {
     "output_type": "display_data",
     "data": {
      "text/plain": "HBox(children=(FloatProgress(value=0.0, description='Epoch 192', max=471.0, style=ProgressStyle(description_wi…",
      "application/vnd.jupyter.widget-view+json": {
       "version_major": 2,
       "version_minor": 0,
       "model_id": "b9cfd8ce514a492496662cc69d27ea04"
      }
     },
     "metadata": {}
    },
    {
     "output_type": "display_data",
     "data": {
      "text/plain": "HBox(children=(FloatProgress(value=0.0, description='Epoch 193', max=471.0, style=ProgressStyle(description_wi…",
      "application/vnd.jupyter.widget-view+json": {
       "version_major": 2,
       "version_minor": 0,
       "model_id": "0c6fdeb446724fc08f6a6ddce862082a"
      }
     },
     "metadata": {}
    },
    {
     "output_type": "display_data",
     "data": {
      "text/plain": "HBox(children=(FloatProgress(value=0.0, description='Epoch 194', max=471.0, style=ProgressStyle(description_wi…",
      "application/vnd.jupyter.widget-view+json": {
       "version_major": 2,
       "version_minor": 0,
       "model_id": "5ad608b94a1e4292bce8617abdefed61"
      }
     },
     "metadata": {}
    },
    {
     "output_type": "display_data",
     "data": {
      "text/plain": "HBox(children=(FloatProgress(value=0.0, description='Epoch 195', max=471.0, style=ProgressStyle(description_wi…",
      "application/vnd.jupyter.widget-view+json": {
       "version_major": 2,
       "version_minor": 0,
       "model_id": "ed58cb8ca82a4007821ced55c2452596"
      }
     },
     "metadata": {}
    },
    {
     "output_type": "display_data",
     "data": {
      "text/plain": "HBox(children=(FloatProgress(value=0.0, description='Epoch 196', max=471.0, style=ProgressStyle(description_wi…",
      "application/vnd.jupyter.widget-view+json": {
       "version_major": 2,
       "version_minor": 0,
       "model_id": "6dd3d12923ad4d2da3bf0087b8fac068"
      }
     },
     "metadata": {}
    },
    {
     "output_type": "display_data",
     "data": {
      "text/plain": "HBox(children=(FloatProgress(value=0.0, description='Epoch 197', max=471.0, style=ProgressStyle(description_wi…",
      "application/vnd.jupyter.widget-view+json": {
       "version_major": 2,
       "version_minor": 0,
       "model_id": "2c092076f5dd4d44a6d191a9066dbba6"
      }
     },
     "metadata": {}
    },
    {
     "output_type": "display_data",
     "data": {
      "text/plain": "HBox(children=(FloatProgress(value=0.0, description='Epoch 198', max=471.0, style=ProgressStyle(description_wi…",
      "application/vnd.jupyter.widget-view+json": {
       "version_major": 2,
       "version_minor": 0,
       "model_id": "ac868345d18e4d89aa4d3b587acb1c03"
      }
     },
     "metadata": {}
    },
    {
     "output_type": "display_data",
     "data": {
      "text/plain": "HBox(children=(FloatProgress(value=0.0, description='Epoch 199', max=471.0, style=ProgressStyle(description_wi…",
      "application/vnd.jupyter.widget-view+json": {
       "version_major": 2,
       "version_minor": 0,
       "model_id": "bf3f081abc98469dada9ee079c9e07b4"
      }
     },
     "metadata": {}
    },
    {
     "output_type": "display_data",
     "data": {
      "text/plain": "HBox(children=(FloatProgress(value=0.0, description='Epoch 200', max=471.0, style=ProgressStyle(description_wi…",
      "application/vnd.jupyter.widget-view+json": {
       "version_major": 2,
       "version_minor": 0,
       "model_id": "a110938b96c1423b8e74f88a48d9aaf6"
      }
     },
     "metadata": {}
    },
    {
     "output_type": "display_data",
     "data": {
      "text/plain": "HBox(children=(FloatProgress(value=0.0, description='Epoch 201', max=471.0, style=ProgressStyle(description_wi…",
      "application/vnd.jupyter.widget-view+json": {
       "version_major": 2,
       "version_minor": 0,
       "model_id": "4377a21546424b779c7647f918232c41"
      }
     },
     "metadata": {}
    },
    {
     "output_type": "display_data",
     "data": {
      "text/plain": "HBox(children=(FloatProgress(value=0.0, description='Epoch 202', max=471.0, style=ProgressStyle(description_wi…",
      "application/vnd.jupyter.widget-view+json": {
       "version_major": 2,
       "version_minor": 0,
       "model_id": "de7dc44868404f5e994f5684109800d4"
      }
     },
     "metadata": {}
    },
    {
     "output_type": "display_data",
     "data": {
      "text/plain": "HBox(children=(FloatProgress(value=0.0, description='Epoch 203', max=471.0, style=ProgressStyle(description_wi…",
      "application/vnd.jupyter.widget-view+json": {
       "version_major": 2,
       "version_minor": 0,
       "model_id": "aae2376000784dee835f4242653c4090"
      }
     },
     "metadata": {}
    },
    {
     "output_type": "display_data",
     "data": {
      "text/plain": "HBox(children=(FloatProgress(value=0.0, description='Epoch 204', max=471.0, style=ProgressStyle(description_wi…",
      "application/vnd.jupyter.widget-view+json": {
       "version_major": 2,
       "version_minor": 0,
       "model_id": "919287e10e0b44e29f14140f1f32d855"
      }
     },
     "metadata": {}
    },
    {
     "output_type": "display_data",
     "data": {
      "text/plain": "HBox(children=(FloatProgress(value=0.0, description='Epoch 205', max=471.0, style=ProgressStyle(description_wi…",
      "application/vnd.jupyter.widget-view+json": {
       "version_major": 2,
       "version_minor": 0,
       "model_id": "398ac654f9a44659b886feec945b737b"
      }
     },
     "metadata": {}
    },
    {
     "output_type": "display_data",
     "data": {
      "text/plain": "HBox(children=(FloatProgress(value=0.0, description='Epoch 206', max=471.0, style=ProgressStyle(description_wi…",
      "application/vnd.jupyter.widget-view+json": {
       "version_major": 2,
       "version_minor": 0,
       "model_id": "91124f80c6de4e8d98ed1cf59bd0f56f"
      }
     },
     "metadata": {}
    },
    {
     "output_type": "display_data",
     "data": {
      "text/plain": "HBox(children=(FloatProgress(value=0.0, description='Epoch 207', max=471.0, style=ProgressStyle(description_wi…",
      "application/vnd.jupyter.widget-view+json": {
       "version_major": 2,
       "version_minor": 0,
       "model_id": "51ca84aea0014f14aa472e069ff56eb6"
      }
     },
     "metadata": {}
    },
    {
     "output_type": "display_data",
     "data": {
      "text/plain": "HBox(children=(FloatProgress(value=0.0, description='Epoch 208', max=471.0, style=ProgressStyle(description_wi…",
      "application/vnd.jupyter.widget-view+json": {
       "version_major": 2,
       "version_minor": 0,
       "model_id": "56bc78fe68464e7dbedbe82f4adbdb96"
      }
     },
     "metadata": {}
    },
    {
     "output_type": "display_data",
     "data": {
      "text/plain": "HBox(children=(FloatProgress(value=0.0, description='Epoch 209', max=471.0, style=ProgressStyle(description_wi…",
      "application/vnd.jupyter.widget-view+json": {
       "version_major": 2,
       "version_minor": 0,
       "model_id": "f28d0bfc66384c11b28e38f18bb4eee1"
      }
     },
     "metadata": {}
    },
    {
     "output_type": "display_data",
     "data": {
      "text/plain": "HBox(children=(FloatProgress(value=0.0, description='Epoch 210', max=471.0, style=ProgressStyle(description_wi…",
      "application/vnd.jupyter.widget-view+json": {
       "version_major": 2,
       "version_minor": 0,
       "model_id": "b09d4b2d686342328b6ac541f7d641e7"
      }
     },
     "metadata": {}
    },
    {
     "output_type": "display_data",
     "data": {
      "text/plain": "HBox(children=(FloatProgress(value=0.0, description='Epoch 211', max=471.0, style=ProgressStyle(description_wi…",
      "application/vnd.jupyter.widget-view+json": {
       "version_major": 2,
       "version_minor": 0,
       "model_id": "94a6debd46044d2f89ab180b175fbcab"
      }
     },
     "metadata": {}
    },
    {
     "output_type": "display_data",
     "data": {
      "text/plain": "HBox(children=(FloatProgress(value=0.0, description='Epoch 212', max=471.0, style=ProgressStyle(description_wi…",
      "application/vnd.jupyter.widget-view+json": {
       "version_major": 2,
       "version_minor": 0,
       "model_id": "6a1add6f7b27437b93a2b455a439c27f"
      }
     },
     "metadata": {}
    },
    {
     "output_type": "display_data",
     "data": {
      "text/plain": "HBox(children=(FloatProgress(value=0.0, description='Epoch 213', max=471.0, style=ProgressStyle(description_wi…",
      "application/vnd.jupyter.widget-view+json": {
       "version_major": 2,
       "version_minor": 0,
       "model_id": "9a882bac7d7b43bbb0a7a6976a639dcd"
      }
     },
     "metadata": {}
    },
    {
     "output_type": "display_data",
     "data": {
      "text/plain": "HBox(children=(FloatProgress(value=0.0, description='Epoch 214', max=471.0, style=ProgressStyle(description_wi…",
      "application/vnd.jupyter.widget-view+json": {
       "version_major": 2,
       "version_minor": 0,
       "model_id": "edad5923819a469c8252755fe1d6825e"
      }
     },
     "metadata": {}
    },
    {
     "output_type": "display_data",
     "data": {
      "text/plain": "HBox(children=(FloatProgress(value=0.0, description='Epoch 215', max=471.0, style=ProgressStyle(description_wi…",
      "application/vnd.jupyter.widget-view+json": {
       "version_major": 2,
       "version_minor": 0,
       "model_id": "d615655d77fc4b0cb4b0187d33951eeb"
      }
     },
     "metadata": {}
    },
    {
     "output_type": "display_data",
     "data": {
      "text/plain": "HBox(children=(FloatProgress(value=0.0, description='Epoch 216', max=471.0, style=ProgressStyle(description_wi…",
      "application/vnd.jupyter.widget-view+json": {
       "version_major": 2,
       "version_minor": 0,
       "model_id": "dd4a5dd46fcd47928479a259f8398ead"
      }
     },
     "metadata": {}
    },
    {
     "output_type": "display_data",
     "data": {
      "text/plain": "HBox(children=(FloatProgress(value=0.0, description='Epoch 217', max=471.0, style=ProgressStyle(description_wi…",
      "application/vnd.jupyter.widget-view+json": {
       "version_major": 2,
       "version_minor": 0,
       "model_id": "45ee212fa9d244558187de5dd30c3de2"
      }
     },
     "metadata": {}
    },
    {
     "output_type": "display_data",
     "data": {
      "text/plain": "HBox(children=(FloatProgress(value=0.0, description='Epoch 218', max=471.0, style=ProgressStyle(description_wi…",
      "application/vnd.jupyter.widget-view+json": {
       "version_major": 2,
       "version_minor": 0,
       "model_id": "82b201a5388645dc8480750b4dc1d4a4"
      }
     },
     "metadata": {}
    },
    {
     "output_type": "display_data",
     "data": {
      "text/plain": "HBox(children=(FloatProgress(value=0.0, description='Epoch 219', max=471.0, style=ProgressStyle(description_wi…",
      "application/vnd.jupyter.widget-view+json": {
       "version_major": 2,
       "version_minor": 0,
       "model_id": "f332e699441b47c0b04b304d4999ae1d"
      }
     },
     "metadata": {}
    },
    {
     "output_type": "display_data",
     "data": {
      "text/plain": "HBox(children=(FloatProgress(value=0.0, description='Epoch 220', max=471.0, style=ProgressStyle(description_wi…",
      "application/vnd.jupyter.widget-view+json": {
       "version_major": 2,
       "version_minor": 0,
       "model_id": "dbf0340b3ef64a58a4c80a66e1fec526"
      }
     },
     "metadata": {}
    },
    {
     "output_type": "display_data",
     "data": {
      "text/plain": "HBox(children=(FloatProgress(value=0.0, description='Epoch 221', max=471.0, style=ProgressStyle(description_wi…",
      "application/vnd.jupyter.widget-view+json": {
       "version_major": 2,
       "version_minor": 0,
       "model_id": "009deb488fdb44acb551226c33fa15fb"
      }
     },
     "metadata": {}
    },
    {
     "output_type": "display_data",
     "data": {
      "text/plain": "HBox(children=(FloatProgress(value=0.0, description='Epoch 222', max=471.0, style=ProgressStyle(description_wi…",
      "application/vnd.jupyter.widget-view+json": {
       "version_major": 2,
       "version_minor": 0,
       "model_id": "4071921d27874c139d6c5fd267f48041"
      }
     },
     "metadata": {}
    },
    {
     "output_type": "display_data",
     "data": {
      "text/plain": "HBox(children=(FloatProgress(value=0.0, description='Epoch 223', max=471.0, style=ProgressStyle(description_wi…",
      "application/vnd.jupyter.widget-view+json": {
       "version_major": 2,
       "version_minor": 0,
       "model_id": "88daceb9dc1048acbf02b306eb2e18fc"
      }
     },
     "metadata": {}
    },
    {
     "output_type": "display_data",
     "data": {
      "text/plain": "HBox(children=(FloatProgress(value=0.0, description='Epoch 224', max=471.0, style=ProgressStyle(description_wi…",
      "application/vnd.jupyter.widget-view+json": {
       "version_major": 2,
       "version_minor": 0,
       "model_id": "13ff84b1e0eb4b78a5f2c72bcc9c9111"
      }
     },
     "metadata": {}
    },
    {
     "output_type": "display_data",
     "data": {
      "text/plain": "HBox(children=(FloatProgress(value=0.0, description='Epoch 225', max=471.0, style=ProgressStyle(description_wi…",
      "application/vnd.jupyter.widget-view+json": {
       "version_major": 2,
       "version_minor": 0,
       "model_id": "442909b875c6447d95e9ae65cb9c1ab1"
      }
     },
     "metadata": {}
    },
    {
     "output_type": "display_data",
     "data": {
      "text/plain": "HBox(children=(FloatProgress(value=0.0, description='Epoch 226', max=471.0, style=ProgressStyle(description_wi…",
      "application/vnd.jupyter.widget-view+json": {
       "version_major": 2,
       "version_minor": 0,
       "model_id": "02085e0da3cb40d6a226fcd23e93559e"
      }
     },
     "metadata": {}
    },
    {
     "output_type": "display_data",
     "data": {
      "text/plain": "HBox(children=(FloatProgress(value=0.0, description='Epoch 227', max=471.0, style=ProgressStyle(description_wi…",
      "application/vnd.jupyter.widget-view+json": {
       "version_major": 2,
       "version_minor": 0,
       "model_id": "3505554317574a9792b47df944e6290f"
      }
     },
     "metadata": {}
    },
    {
     "output_type": "display_data",
     "data": {
      "text/plain": "HBox(children=(FloatProgress(value=0.0, description='Epoch 228', max=471.0, style=ProgressStyle(description_wi…",
      "application/vnd.jupyter.widget-view+json": {
       "version_major": 2,
       "version_minor": 0,
       "model_id": "a0159c25b84f4876af62fb8cfc28dbb3"
      }
     },
     "metadata": {}
    },
    {
     "output_type": "display_data",
     "data": {
      "text/plain": "HBox(children=(FloatProgress(value=0.0, description='Epoch 229', max=471.0, style=ProgressStyle(description_wi…",
      "application/vnd.jupyter.widget-view+json": {
       "version_major": 2,
       "version_minor": 0,
       "model_id": "0531cd8a36c645f8a94099de934b995b"
      }
     },
     "metadata": {}
    },
    {
     "output_type": "display_data",
     "data": {
      "text/plain": "HBox(children=(FloatProgress(value=0.0, description='Epoch 230', max=471.0, style=ProgressStyle(description_wi…",
      "application/vnd.jupyter.widget-view+json": {
       "version_major": 2,
       "version_minor": 0,
       "model_id": "2706aa9327184cdb9e907b37f6cff9a1"
      }
     },
     "metadata": {}
    },
    {
     "output_type": "display_data",
     "data": {
      "text/plain": "HBox(children=(FloatProgress(value=0.0, description='Epoch 231', max=471.0, style=ProgressStyle(description_wi…",
      "application/vnd.jupyter.widget-view+json": {
       "version_major": 2,
       "version_minor": 0,
       "model_id": "3cfdee2f146b4c16a0ab474ca5151089"
      }
     },
     "metadata": {}
    },
    {
     "output_type": "display_data",
     "data": {
      "text/plain": "HBox(children=(FloatProgress(value=0.0, description='Epoch 232', max=471.0, style=ProgressStyle(description_wi…",
      "application/vnd.jupyter.widget-view+json": {
       "version_major": 2,
       "version_minor": 0,
       "model_id": "f496ade0cb774cc089f0dbdcde45e416"
      }
     },
     "metadata": {}
    },
    {
     "output_type": "display_data",
     "data": {
      "text/plain": "HBox(children=(FloatProgress(value=0.0, description='Epoch 233', max=471.0, style=ProgressStyle(description_wi…",
      "application/vnd.jupyter.widget-view+json": {
       "version_major": 2,
       "version_minor": 0,
       "model_id": "b3e0e81d8f714c32b9ebac8f2f63e983"
      }
     },
     "metadata": {}
    },
    {
     "output_type": "display_data",
     "data": {
      "text/plain": "HBox(children=(FloatProgress(value=0.0, description='Epoch 234', max=471.0, style=ProgressStyle(description_wi…",
      "application/vnd.jupyter.widget-view+json": {
       "version_major": 2,
       "version_minor": 0,
       "model_id": "11ba1e02c06d4887be7abe5f4d3985c9"
      }
     },
     "metadata": {}
    },
    {
     "output_type": "display_data",
     "data": {
      "text/plain": "HBox(children=(FloatProgress(value=0.0, description='Epoch 235', max=471.0, style=ProgressStyle(description_wi…",
      "application/vnd.jupyter.widget-view+json": {
       "version_major": 2,
       "version_minor": 0,
       "model_id": "130fedb3f3d048af8618f7ffea6583c3"
      }
     },
     "metadata": {}
    },
    {
     "output_type": "display_data",
     "data": {
      "text/plain": "HBox(children=(FloatProgress(value=0.0, description='Epoch 236', max=471.0, style=ProgressStyle(description_wi…",
      "application/vnd.jupyter.widget-view+json": {
       "version_major": 2,
       "version_minor": 0,
       "model_id": "b49c2b4e46fa467f967beb7ef849f35e"
      }
     },
     "metadata": {}
    },
    {
     "output_type": "display_data",
     "data": {
      "text/plain": "HBox(children=(FloatProgress(value=0.0, description='Epoch 237', max=471.0, style=ProgressStyle(description_wi…",
      "application/vnd.jupyter.widget-view+json": {
       "version_major": 2,
       "version_minor": 0,
       "model_id": "e40d6d2e58b24597b49341629c68f1c4"
      }
     },
     "metadata": {}
    },
    {
     "output_type": "display_data",
     "data": {
      "text/plain": "HBox(children=(FloatProgress(value=0.0, description='Epoch 238', max=471.0, style=ProgressStyle(description_wi…",
      "application/vnd.jupyter.widget-view+json": {
       "version_major": 2,
       "version_minor": 0,
       "model_id": "4a418bdd930847dea779c653dd653dc5"
      }
     },
     "metadata": {}
    },
    {
     "output_type": "display_data",
     "data": {
      "text/plain": "HBox(children=(FloatProgress(value=0.0, description='Epoch 239', max=471.0, style=ProgressStyle(description_wi…",
      "application/vnd.jupyter.widget-view+json": {
       "version_major": 2,
       "version_minor": 0,
       "model_id": "01ee92cc1baf4e239a86b59dbd31919c"
      }
     },
     "metadata": {}
    },
    {
     "output_type": "display_data",
     "data": {
      "text/plain": "HBox(children=(FloatProgress(value=0.0, description='Epoch 240', max=471.0, style=ProgressStyle(description_wi…",
      "application/vnd.jupyter.widget-view+json": {
       "version_major": 2,
       "version_minor": 0,
       "model_id": "1c32ad6857fa4246a7e925b98ef67003"
      }
     },
     "metadata": {}
    },
    {
     "output_type": "display_data",
     "data": {
      "text/plain": "HBox(children=(FloatProgress(value=0.0, description='Epoch 241', max=471.0, style=ProgressStyle(description_wi…",
      "application/vnd.jupyter.widget-view+json": {
       "version_major": 2,
       "version_minor": 0,
       "model_id": "a25956a1afd844a7b4417a2b4d842e0e"
      }
     },
     "metadata": {}
    },
    {
     "output_type": "display_data",
     "data": {
      "text/plain": "HBox(children=(FloatProgress(value=0.0, description='Epoch 242', max=471.0, style=ProgressStyle(description_wi…",
      "application/vnd.jupyter.widget-view+json": {
       "version_major": 2,
       "version_minor": 0,
       "model_id": "b85a3362da1744fcaa8ece73b3b26be0"
      }
     },
     "metadata": {}
    },
    {
     "output_type": "display_data",
     "data": {
      "text/plain": "HBox(children=(FloatProgress(value=0.0, description='Epoch 243', max=471.0, style=ProgressStyle(description_wi…",
      "application/vnd.jupyter.widget-view+json": {
       "version_major": 2,
       "version_minor": 0,
       "model_id": "87aa03758c43486fb083e9a367cbdc1a"
      }
     },
     "metadata": {}
    },
    {
     "output_type": "display_data",
     "data": {
      "text/plain": "HBox(children=(FloatProgress(value=0.0, description='Epoch 244', max=471.0, style=ProgressStyle(description_wi…",
      "application/vnd.jupyter.widget-view+json": {
       "version_major": 2,
       "version_minor": 0,
       "model_id": "1347ab2e3739457da3abe62fd3bb8d57"
      }
     },
     "metadata": {}
    },
    {
     "output_type": "display_data",
     "data": {
      "text/plain": "HBox(children=(FloatProgress(value=0.0, description='Epoch 245', max=471.0, style=ProgressStyle(description_wi…",
      "application/vnd.jupyter.widget-view+json": {
       "version_major": 2,
       "version_minor": 0,
       "model_id": "4d15bac54905477fa82c37e14c936edf"
      }
     },
     "metadata": {}
    },
    {
     "output_type": "display_data",
     "data": {
      "text/plain": "HBox(children=(FloatProgress(value=0.0, description='Epoch 246', max=471.0, style=ProgressStyle(description_wi…",
      "application/vnd.jupyter.widget-view+json": {
       "version_major": 2,
       "version_minor": 0,
       "model_id": "ffb83464c1d24671b11355d7bc8cc0fe"
      }
     },
     "metadata": {}
    },
    {
     "output_type": "display_data",
     "data": {
      "text/plain": "HBox(children=(FloatProgress(value=0.0, description='Epoch 247', max=471.0, style=ProgressStyle(description_wi…",
      "application/vnd.jupyter.widget-view+json": {
       "version_major": 2,
       "version_minor": 0,
       "model_id": "262de2d5943d4459af6640c5894574ae"
      }
     },
     "metadata": {}
    },
    {
     "output_type": "display_data",
     "data": {
      "text/plain": "HBox(children=(FloatProgress(value=0.0, description='Epoch 248', max=471.0, style=ProgressStyle(description_wi…",
      "application/vnd.jupyter.widget-view+json": {
       "version_major": 2,
       "version_minor": 0,
       "model_id": "a09b80f035104c66887d539658ca8a27"
      }
     },
     "metadata": {}
    },
    {
     "output_type": "display_data",
     "data": {
      "text/plain": "HBox(children=(FloatProgress(value=0.0, description='Epoch 249', max=471.0, style=ProgressStyle(description_wi…",
      "application/vnd.jupyter.widget-view+json": {
       "version_major": 2,
       "version_minor": 0,
       "model_id": "15f6fa5b0c5146bcbd69d30bd3123db6"
      }
     },
     "metadata": {}
    },
    {
     "output_type": "display_data",
     "data": {
      "text/plain": "HBox(children=(FloatProgress(value=0.0, description='Epoch 250', max=471.0, style=ProgressStyle(description_wi…",
      "application/vnd.jupyter.widget-view+json": {
       "version_major": 2,
       "version_minor": 0,
       "model_id": "14d41f0a4e6a465b89b07ff58f48f5d3"
      }
     },
     "metadata": {}
    },
    {
     "output_type": "display_data",
     "data": {
      "text/plain": "HBox(children=(FloatProgress(value=0.0, description='Epoch 251', max=471.0, style=ProgressStyle(description_wi…",
      "application/vnd.jupyter.widget-view+json": {
       "version_major": 2,
       "version_minor": 0,
       "model_id": "90e38c88bb454cb1b4493aac889acf28"
      }
     },
     "metadata": {}
    },
    {
     "output_type": "display_data",
     "data": {
      "text/plain": "HBox(children=(FloatProgress(value=0.0, description='Epoch 252', max=471.0, style=ProgressStyle(description_wi…",
      "application/vnd.jupyter.widget-view+json": {
       "version_major": 2,
       "version_minor": 0,
       "model_id": "eb32380814e542d1a339e4f3e8580fa1"
      }
     },
     "metadata": {}
    },
    {
     "output_type": "display_data",
     "data": {
      "text/plain": "HBox(children=(FloatProgress(value=0.0, description='Epoch 253', max=471.0, style=ProgressStyle(description_wi…",
      "application/vnd.jupyter.widget-view+json": {
       "version_major": 2,
       "version_minor": 0,
       "model_id": "e8d245d42a2d43f5a0f78f190692a39b"
      }
     },
     "metadata": {}
    },
    {
     "output_type": "display_data",
     "data": {
      "text/plain": "HBox(children=(FloatProgress(value=0.0, description='Epoch 254', max=471.0, style=ProgressStyle(description_wi…",
      "application/vnd.jupyter.widget-view+json": {
       "version_major": 2,
       "version_minor": 0,
       "model_id": "53e40667d2734e5b902cfba97d9b3d49"
      }
     },
     "metadata": {}
    },
    {
     "output_type": "display_data",
     "data": {
      "text/plain": "HBox(children=(FloatProgress(value=0.0, description='Epoch 255', max=471.0, style=ProgressStyle(description_wi…",
      "application/vnd.jupyter.widget-view+json": {
       "version_major": 2,
       "version_minor": 0,
       "model_id": "80274565b51c4b35af271e3aed38f25a"
      }
     },
     "metadata": {}
    },
    {
     "output_type": "display_data",
     "data": {
      "text/plain": "HBox(children=(FloatProgress(value=0.0, description='Epoch 256', max=471.0, style=ProgressStyle(description_wi…",
      "application/vnd.jupyter.widget-view+json": {
       "version_major": 2,
       "version_minor": 0,
       "model_id": "9ff39908f06a4d81a91103966520af33"
      }
     },
     "metadata": {}
    },
    {
     "output_type": "display_data",
     "data": {
      "text/plain": "HBox(children=(FloatProgress(value=0.0, description='Epoch 257', max=471.0, style=ProgressStyle(description_wi…",
      "application/vnd.jupyter.widget-view+json": {
       "version_major": 2,
       "version_minor": 0,
       "model_id": "311ed761355742c5b1dae012fc789f7e"
      }
     },
     "metadata": {}
    },
    {
     "output_type": "display_data",
     "data": {
      "text/plain": "HBox(children=(FloatProgress(value=0.0, description='Epoch 258', max=471.0, style=ProgressStyle(description_wi…",
      "application/vnd.jupyter.widget-view+json": {
       "version_major": 2,
       "version_minor": 0,
       "model_id": "300a14b3285e4d3290a7391b95c81c00"
      }
     },
     "metadata": {}
    },
    {
     "output_type": "display_data",
     "data": {
      "text/plain": "HBox(children=(FloatProgress(value=0.0, description='Epoch 259', max=471.0, style=ProgressStyle(description_wi…",
      "application/vnd.jupyter.widget-view+json": {
       "version_major": 2,
       "version_minor": 0,
       "model_id": "c0cecc9ef2d0405583f0d37f50de8cd2"
      }
     },
     "metadata": {}
    },
    {
     "output_type": "display_data",
     "data": {
      "text/plain": "HBox(children=(FloatProgress(value=0.0, description='Epoch 260', max=471.0, style=ProgressStyle(description_wi…",
      "application/vnd.jupyter.widget-view+json": {
       "version_major": 2,
       "version_minor": 0,
       "model_id": "3749bc7dc57f4ad39f6b33839deac68b"
      }
     },
     "metadata": {}
    },
    {
     "output_type": "display_data",
     "data": {
      "text/plain": "HBox(children=(FloatProgress(value=0.0, description='Epoch 261', max=471.0, style=ProgressStyle(description_wi…",
      "application/vnd.jupyter.widget-view+json": {
       "version_major": 2,
       "version_minor": 0,
       "model_id": "3c373d002936487ebdaf6cb707e72173"
      }
     },
     "metadata": {}
    },
    {
     "output_type": "display_data",
     "data": {
      "text/plain": "HBox(children=(FloatProgress(value=0.0, description='Epoch 262', max=471.0, style=ProgressStyle(description_wi…",
      "application/vnd.jupyter.widget-view+json": {
       "version_major": 2,
       "version_minor": 0,
       "model_id": "76ee866780b2485083e7b653ec4c8b35"
      }
     },
     "metadata": {}
    },
    {
     "output_type": "display_data",
     "data": {
      "text/plain": "HBox(children=(FloatProgress(value=0.0, description='Epoch 263', max=471.0, style=ProgressStyle(description_wi…",
      "application/vnd.jupyter.widget-view+json": {
       "version_major": 2,
       "version_minor": 0,
       "model_id": "5219745912964622b691c3ef47a58c31"
      }
     },
     "metadata": {}
    },
    {
     "output_type": "display_data",
     "data": {
      "text/plain": "HBox(children=(FloatProgress(value=0.0, description='Epoch 264', max=471.0, style=ProgressStyle(description_wi…",
      "application/vnd.jupyter.widget-view+json": {
       "version_major": 2,
       "version_minor": 0,
       "model_id": "654887d1e0c0421095d55630e6dd46b0"
      }
     },
     "metadata": {}
    },
    {
     "output_type": "display_data",
     "data": {
      "text/plain": "HBox(children=(FloatProgress(value=0.0, description='Epoch 265', max=471.0, style=ProgressStyle(description_wi…",
      "application/vnd.jupyter.widget-view+json": {
       "version_major": 2,
       "version_minor": 0,
       "model_id": "1970f20830b44cd2aca4d090d0389992"
      }
     },
     "metadata": {}
    },
    {
     "output_type": "display_data",
     "data": {
      "text/plain": "HBox(children=(FloatProgress(value=0.0, description='Epoch 266', max=471.0, style=ProgressStyle(description_wi…",
      "application/vnd.jupyter.widget-view+json": {
       "version_major": 2,
       "version_minor": 0,
       "model_id": "d475b50017864bad8787d065f19968d7"
      }
     },
     "metadata": {}
    },
    {
     "output_type": "display_data",
     "data": {
      "text/plain": "HBox(children=(FloatProgress(value=0.0, description='Epoch 267', max=471.0, style=ProgressStyle(description_wi…",
      "application/vnd.jupyter.widget-view+json": {
       "version_major": 2,
       "version_minor": 0,
       "model_id": "e6f542a9c76b41cb9a996f62e767d0f8"
      }
     },
     "metadata": {}
    },
    {
     "output_type": "display_data",
     "data": {
      "text/plain": "HBox(children=(FloatProgress(value=0.0, description='Epoch 268', max=471.0, style=ProgressStyle(description_wi…",
      "application/vnd.jupyter.widget-view+json": {
       "version_major": 2,
       "version_minor": 0,
       "model_id": "a99107f29ee6492eacad0b9a5eb5e096"
      }
     },
     "metadata": {}
    },
    {
     "output_type": "display_data",
     "data": {
      "text/plain": "HBox(children=(FloatProgress(value=0.0, description='Epoch 269', max=471.0, style=ProgressStyle(description_wi…",
      "application/vnd.jupyter.widget-view+json": {
       "version_major": 2,
       "version_minor": 0,
       "model_id": "ebaef038e0ab406d8fbd9d383605e13c"
      }
     },
     "metadata": {}
    },
    {
     "output_type": "display_data",
     "data": {
      "text/plain": "HBox(children=(FloatProgress(value=0.0, description='Epoch 270', max=471.0, style=ProgressStyle(description_wi…",
      "application/vnd.jupyter.widget-view+json": {
       "version_major": 2,
       "version_minor": 0,
       "model_id": "c388947f80e6424fb72980ff20b1f9f3"
      }
     },
     "metadata": {}
    },
    {
     "output_type": "display_data",
     "data": {
      "text/plain": "HBox(children=(FloatProgress(value=0.0, description='Epoch 271', max=471.0, style=ProgressStyle(description_wi…",
      "application/vnd.jupyter.widget-view+json": {
       "version_major": 2,
       "version_minor": 0,
       "model_id": "f905a5aa01ec4c19821d047722aae3bc"
      }
     },
     "metadata": {}
    },
    {
     "output_type": "display_data",
     "data": {
      "text/plain": "HBox(children=(FloatProgress(value=0.0, description='Epoch 272', max=471.0, style=ProgressStyle(description_wi…",
      "application/vnd.jupyter.widget-view+json": {
       "version_major": 2,
       "version_minor": 0,
       "model_id": "72df62d550994d1fa05fdd64abe649da"
      }
     },
     "metadata": {}
    },
    {
     "output_type": "display_data",
     "data": {
      "text/plain": "HBox(children=(FloatProgress(value=0.0, description='Epoch 273', max=471.0, style=ProgressStyle(description_wi…",
      "application/vnd.jupyter.widget-view+json": {
       "version_major": 2,
       "version_minor": 0,
       "model_id": "e0677f8c32f6466e92908a3ce8e5d8e7"
      }
     },
     "metadata": {}
    },
    {
     "output_type": "display_data",
     "data": {
      "text/plain": "HBox(children=(FloatProgress(value=0.0, description='Epoch 274', max=471.0, style=ProgressStyle(description_wi…",
      "application/vnd.jupyter.widget-view+json": {
       "version_major": 2,
       "version_minor": 0,
       "model_id": "7ce88d8de8ae40ee903f47fda6cfb021"
      }
     },
     "metadata": {}
    },
    {
     "output_type": "display_data",
     "data": {
      "text/plain": "HBox(children=(FloatProgress(value=0.0, description='Epoch 275', max=471.0, style=ProgressStyle(description_wi…",
      "application/vnd.jupyter.widget-view+json": {
       "version_major": 2,
       "version_minor": 0,
       "model_id": "543df91a796447d4af07b1929009ea53"
      }
     },
     "metadata": {}
    },
    {
     "output_type": "display_data",
     "data": {
      "text/plain": "HBox(children=(FloatProgress(value=0.0, description='Epoch 276', max=471.0, style=ProgressStyle(description_wi…",
      "application/vnd.jupyter.widget-view+json": {
       "version_major": 2,
       "version_minor": 0,
       "model_id": "10920f14eb0a4276b9908fee0c8563a0"
      }
     },
     "metadata": {}
    },
    {
     "output_type": "display_data",
     "data": {
      "text/plain": "HBox(children=(FloatProgress(value=0.0, description='Epoch 277', max=471.0, style=ProgressStyle(description_wi…",
      "application/vnd.jupyter.widget-view+json": {
       "version_major": 2,
       "version_minor": 0,
       "model_id": "8c82c385a16247c9a53a54e3dec14bd5"
      }
     },
     "metadata": {}
    },
    {
     "output_type": "display_data",
     "data": {
      "text/plain": "HBox(children=(FloatProgress(value=0.0, description='Epoch 278', max=471.0, style=ProgressStyle(description_wi…",
      "application/vnd.jupyter.widget-view+json": {
       "version_major": 2,
       "version_minor": 0,
       "model_id": "d8bab93a2bc14deb9a049634e9d5ffda"
      }
     },
     "metadata": {}
    },
    {
     "output_type": "display_data",
     "data": {
      "text/plain": "HBox(children=(FloatProgress(value=0.0, description='Epoch 279', max=471.0, style=ProgressStyle(description_wi…",
      "application/vnd.jupyter.widget-view+json": {
       "version_major": 2,
       "version_minor": 0,
       "model_id": "d7fbe47ec2b043148c7824768e3dd4ad"
      }
     },
     "metadata": {}
    },
    {
     "output_type": "display_data",
     "data": {
      "text/plain": "HBox(children=(FloatProgress(value=0.0, description='Epoch 280', max=471.0, style=ProgressStyle(description_wi…",
      "application/vnd.jupyter.widget-view+json": {
       "version_major": 2,
       "version_minor": 0,
       "model_id": "98d5170ad7f34feeb28f10f3d420da47"
      }
     },
     "metadata": {}
    },
    {
     "output_type": "display_data",
     "data": {
      "text/plain": "HBox(children=(FloatProgress(value=0.0, description='Epoch 281', max=471.0, style=ProgressStyle(description_wi…",
      "application/vnd.jupyter.widget-view+json": {
       "version_major": 2,
       "version_minor": 0,
       "model_id": "c16d7040c9be47928b6eddb1b21b5383"
      }
     },
     "metadata": {}
    },
    {
     "output_type": "display_data",
     "data": {
      "text/plain": "HBox(children=(FloatProgress(value=0.0, description='Epoch 282', max=471.0, style=ProgressStyle(description_wi…",
      "application/vnd.jupyter.widget-view+json": {
       "version_major": 2,
       "version_minor": 0,
       "model_id": "f076f75f13114b0c8a815d35a1ee105d"
      }
     },
     "metadata": {}
    },
    {
     "output_type": "display_data",
     "data": {
      "text/plain": "HBox(children=(FloatProgress(value=0.0, description='Epoch 283', max=471.0, style=ProgressStyle(description_wi…",
      "application/vnd.jupyter.widget-view+json": {
       "version_major": 2,
       "version_minor": 0,
       "model_id": "92efe3a009d04f1a883cf9b4efdf8b3e"
      }
     },
     "metadata": {}
    },
    {
     "output_type": "display_data",
     "data": {
      "text/plain": "HBox(children=(FloatProgress(value=0.0, description='Epoch 284', max=471.0, style=ProgressStyle(description_wi…",
      "application/vnd.jupyter.widget-view+json": {
       "version_major": 2,
       "version_minor": 0,
       "model_id": "f9df9ed7ddaf4b44822b4551b576f8db"
      }
     },
     "metadata": {}
    },
    {
     "output_type": "display_data",
     "data": {
      "text/plain": "HBox(children=(FloatProgress(value=0.0, description='Epoch 285', max=471.0, style=ProgressStyle(description_wi…",
      "application/vnd.jupyter.widget-view+json": {
       "version_major": 2,
       "version_minor": 0,
       "model_id": "77ca7feebcca45ea8d627a96e7636396"
      }
     },
     "metadata": {}
    },
    {
     "output_type": "display_data",
     "data": {
      "text/plain": "HBox(children=(FloatProgress(value=0.0, description='Epoch 286', max=471.0, style=ProgressStyle(description_wi…",
      "application/vnd.jupyter.widget-view+json": {
       "version_major": 2,
       "version_minor": 0,
       "model_id": "7ee39280459849a5b59ba4ebda69d6fb"
      }
     },
     "metadata": {}
    },
    {
     "output_type": "display_data",
     "data": {
      "text/plain": "HBox(children=(FloatProgress(value=0.0, description='Epoch 287', max=471.0, style=ProgressStyle(description_wi…",
      "application/vnd.jupyter.widget-view+json": {
       "version_major": 2,
       "version_minor": 0,
       "model_id": "6a8f6233c77a4c75ae43d2a5648553f7"
      }
     },
     "metadata": {}
    },
    {
     "output_type": "display_data",
     "data": {
      "text/plain": "HBox(children=(FloatProgress(value=0.0, description='Epoch 288', max=471.0, style=ProgressStyle(description_wi…",
      "application/vnd.jupyter.widget-view+json": {
       "version_major": 2,
       "version_minor": 0,
       "model_id": "dcceaf5e7d8145f29701b029a725df81"
      }
     },
     "metadata": {}
    },
    {
     "output_type": "display_data",
     "data": {
      "text/plain": "HBox(children=(FloatProgress(value=0.0, description='Epoch 289', max=471.0, style=ProgressStyle(description_wi…",
      "application/vnd.jupyter.widget-view+json": {
       "version_major": 2,
       "version_minor": 0,
       "model_id": "392626c862ed43afab1cefe71e2ded69"
      }
     },
     "metadata": {}
    },
    {
     "output_type": "display_data",
     "data": {
      "text/plain": "HBox(children=(FloatProgress(value=0.0, description='Epoch 290', max=471.0, style=ProgressStyle(description_wi…",
      "application/vnd.jupyter.widget-view+json": {
       "version_major": 2,
       "version_minor": 0,
       "model_id": "24d329da77034df09e2767887ea7d009"
      }
     },
     "metadata": {}
    },
    {
     "output_type": "display_data",
     "data": {
      "text/plain": "HBox(children=(FloatProgress(value=0.0, description='Epoch 291', max=471.0, style=ProgressStyle(description_wi…",
      "application/vnd.jupyter.widget-view+json": {
       "version_major": 2,
       "version_minor": 0,
       "model_id": "2ccbc05ab9a94be59a2f99a5909bc962"
      }
     },
     "metadata": {}
    },
    {
     "output_type": "display_data",
     "data": {
      "text/plain": "HBox(children=(FloatProgress(value=0.0, description='Epoch 292', max=471.0, style=ProgressStyle(description_wi…",
      "application/vnd.jupyter.widget-view+json": {
       "version_major": 2,
       "version_minor": 0,
       "model_id": "0360ee5a00f348f9883cce6bfd8401bc"
      }
     },
     "metadata": {}
    },
    {
     "output_type": "display_data",
     "data": {
      "text/plain": "HBox(children=(FloatProgress(value=0.0, description='Epoch 293', max=471.0, style=ProgressStyle(description_wi…",
      "application/vnd.jupyter.widget-view+json": {
       "version_major": 2,
       "version_minor": 0,
       "model_id": "36b4af6a66cd442cb8ee8d38cfb04977"
      }
     },
     "metadata": {}
    },
    {
     "output_type": "display_data",
     "data": {
      "text/plain": "HBox(children=(FloatProgress(value=0.0, description='Epoch 294', max=471.0, style=ProgressStyle(description_wi…",
      "application/vnd.jupyter.widget-view+json": {
       "version_major": 2,
       "version_minor": 0,
       "model_id": "c365252e421c4017a5e8db67e2e5b0c0"
      }
     },
     "metadata": {}
    },
    {
     "output_type": "display_data",
     "data": {
      "text/plain": "HBox(children=(FloatProgress(value=0.0, description='Epoch 295', max=471.0, style=ProgressStyle(description_wi…",
      "application/vnd.jupyter.widget-view+json": {
       "version_major": 2,
       "version_minor": 0,
       "model_id": "51e61f15a60443febb5395e441066b3b"
      }
     },
     "metadata": {}
    },
    {
     "output_type": "display_data",
     "data": {
      "text/plain": "HBox(children=(FloatProgress(value=0.0, description='Epoch 296', max=471.0, style=ProgressStyle(description_wi…",
      "application/vnd.jupyter.widget-view+json": {
       "version_major": 2,
       "version_minor": 0,
       "model_id": "67fbcebfa10a467fa867b19f5a18ec68"
      }
     },
     "metadata": {}
    },
    {
     "output_type": "display_data",
     "data": {
      "text/plain": "HBox(children=(FloatProgress(value=0.0, description='Epoch 297', max=471.0, style=ProgressStyle(description_wi…",
      "application/vnd.jupyter.widget-view+json": {
       "version_major": 2,
       "version_minor": 0,
       "model_id": "23ea7879f7194c4c9c011bd2b6b72ac5"
      }
     },
     "metadata": {}
    },
    {
     "output_type": "display_data",
     "data": {
      "text/plain": "HBox(children=(FloatProgress(value=0.0, description='Epoch 298', max=471.0, style=ProgressStyle(description_wi…",
      "application/vnd.jupyter.widget-view+json": {
       "version_major": 2,
       "version_minor": 0,
       "model_id": "77d3f4c1e90b4f7c9e80b665b7ee8e3c"
      }
     },
     "metadata": {}
    },
    {
     "output_type": "display_data",
     "data": {
      "text/plain": "HBox(children=(FloatProgress(value=0.0, description='Epoch 299', max=471.0, style=ProgressStyle(description_wi…",
      "application/vnd.jupyter.widget-view+json": {
       "version_major": 2,
       "version_minor": 0,
       "model_id": "769b4dc549db4476b49404235f8bf79c"
      }
     },
     "metadata": {}
    },
    {
     "output_type": "display_data",
     "data": {
      "text/plain": "HBox(children=(FloatProgress(value=0.0, description='Epoch 300', max=471.0, style=ProgressStyle(description_wi…",
      "application/vnd.jupyter.widget-view+json": {
       "version_major": 2,
       "version_minor": 0,
       "model_id": "dc99e94bd656402ebb0045205bfcf06a"
      }
     },
     "metadata": {}
    },
    {
     "output_type": "display_data",
     "data": {
      "text/plain": "HBox(children=(FloatProgress(value=0.0, description='Epoch 301', max=471.0, style=ProgressStyle(description_wi…",
      "application/vnd.jupyter.widget-view+json": {
       "version_major": 2,
       "version_minor": 0,
       "model_id": "9e06a21cdef146ca97bd3bd6bf30ae8f"
      }
     },
     "metadata": {}
    },
    {
     "output_type": "display_data",
     "data": {
      "text/plain": "HBox(children=(FloatProgress(value=0.0, description='Epoch 302', max=471.0, style=ProgressStyle(description_wi…",
      "application/vnd.jupyter.widget-view+json": {
       "version_major": 2,
       "version_minor": 0,
       "model_id": "7f1bd132be39448dbb4c6b5190bd85f4"
      }
     },
     "metadata": {}
    },
    {
     "output_type": "display_data",
     "data": {
      "text/plain": "HBox(children=(FloatProgress(value=0.0, description='Epoch 303', max=471.0, style=ProgressStyle(description_wi…",
      "application/vnd.jupyter.widget-view+json": {
       "version_major": 2,
       "version_minor": 0,
       "model_id": "eee92c5819884c14a20b10babe0e984b"
      }
     },
     "metadata": {}
    },
    {
     "output_type": "display_data",
     "data": {
      "text/plain": "HBox(children=(FloatProgress(value=0.0, description='Epoch 304', max=471.0, style=ProgressStyle(description_wi…",
      "application/vnd.jupyter.widget-view+json": {
       "version_major": 2,
       "version_minor": 0,
       "model_id": "18cf8e3d12434bd9932558496f412776"
      }
     },
     "metadata": {}
    },
    {
     "output_type": "display_data",
     "data": {
      "text/plain": "HBox(children=(FloatProgress(value=0.0, description='Epoch 305', max=471.0, style=ProgressStyle(description_wi…",
      "application/vnd.jupyter.widget-view+json": {
       "version_major": 2,
       "version_minor": 0,
       "model_id": "7d1de203a41b42faa817423393cb80f9"
      }
     },
     "metadata": {}
    },
    {
     "output_type": "display_data",
     "data": {
      "text/plain": "HBox(children=(FloatProgress(value=0.0, description='Epoch 306', max=471.0, style=ProgressStyle(description_wi…",
      "application/vnd.jupyter.widget-view+json": {
       "version_major": 2,
       "version_minor": 0,
       "model_id": "86c6b022ebfa4a259c3d0f79bca54bd4"
      }
     },
     "metadata": {}
    },
    {
     "output_type": "display_data",
     "data": {
      "text/plain": "HBox(children=(FloatProgress(value=0.0, description='Epoch 307', max=471.0, style=ProgressStyle(description_wi…",
      "application/vnd.jupyter.widget-view+json": {
       "version_major": 2,
       "version_minor": 0,
       "model_id": "f82714040ca5425189d82ed73d55c551"
      }
     },
     "metadata": {}
    },
    {
     "output_type": "display_data",
     "data": {
      "text/plain": "HBox(children=(FloatProgress(value=0.0, description='Epoch 308', max=471.0, style=ProgressStyle(description_wi…",
      "application/vnd.jupyter.widget-view+json": {
       "version_major": 2,
       "version_minor": 0,
       "model_id": "42f73633e6254904a46ae86640ce6380"
      }
     },
     "metadata": {}
    },
    {
     "output_type": "display_data",
     "data": {
      "text/plain": "HBox(children=(FloatProgress(value=0.0, description='Epoch 309', max=471.0, style=ProgressStyle(description_wi…",
      "application/vnd.jupyter.widget-view+json": {
       "version_major": 2,
       "version_minor": 0,
       "model_id": "2524d117c8db4e71843bb50fcaaffa74"
      }
     },
     "metadata": {}
    },
    {
     "output_type": "display_data",
     "data": {
      "text/plain": "HBox(children=(FloatProgress(value=0.0, description='Epoch 310', max=471.0, style=ProgressStyle(description_wi…",
      "application/vnd.jupyter.widget-view+json": {
       "version_major": 2,
       "version_minor": 0,
       "model_id": "3ce1386b4e6646efa39fe4f82f730462"
      }
     },
     "metadata": {}
    },
    {
     "output_type": "display_data",
     "data": {
      "text/plain": "HBox(children=(FloatProgress(value=0.0, description='Epoch 311', max=471.0, style=ProgressStyle(description_wi…",
      "application/vnd.jupyter.widget-view+json": {
       "version_major": 2,
       "version_minor": 0,
       "model_id": "edd6ff2535bb425faf0d8878c6b43959"
      }
     },
     "metadata": {}
    },
    {
     "output_type": "display_data",
     "data": {
      "text/plain": "HBox(children=(FloatProgress(value=0.0, description='Epoch 312', max=471.0, style=ProgressStyle(description_wi…",
      "application/vnd.jupyter.widget-view+json": {
       "version_major": 2,
       "version_minor": 0,
       "model_id": "671fec954a724a16b6891cdc7364f1ae"
      }
     },
     "metadata": {}
    },
    {
     "output_type": "display_data",
     "data": {
      "text/plain": "HBox(children=(FloatProgress(value=0.0, description='Epoch 313', max=471.0, style=ProgressStyle(description_wi…",
      "application/vnd.jupyter.widget-view+json": {
       "version_major": 2,
       "version_minor": 0,
       "model_id": "e2d7b7d98ab245fda34db42ca31840a0"
      }
     },
     "metadata": {}
    },
    {
     "output_type": "display_data",
     "data": {
      "text/plain": "HBox(children=(FloatProgress(value=0.0, description='Epoch 314', max=471.0, style=ProgressStyle(description_wi…",
      "application/vnd.jupyter.widget-view+json": {
       "version_major": 2,
       "version_minor": 0,
       "model_id": "3c86a36ac75b4d3581919758c47b5df2"
      }
     },
     "metadata": {}
    },
    {
     "output_type": "display_data",
     "data": {
      "text/plain": "HBox(children=(FloatProgress(value=0.0, description='Epoch 315', max=471.0, style=ProgressStyle(description_wi…",
      "application/vnd.jupyter.widget-view+json": {
       "version_major": 2,
       "version_minor": 0,
       "model_id": "c9db9454a1ff43f684af55f7ccc72dcc"
      }
     },
     "metadata": {}
    },
    {
     "output_type": "display_data",
     "data": {
      "text/plain": "HBox(children=(FloatProgress(value=0.0, description='Epoch 316', max=471.0, style=ProgressStyle(description_wi…",
      "application/vnd.jupyter.widget-view+json": {
       "version_major": 2,
       "version_minor": 0,
       "model_id": "bbd55fb35f414691a0272b0addee12aa"
      }
     },
     "metadata": {}
    },
    {
     "output_type": "display_data",
     "data": {
      "text/plain": "HBox(children=(FloatProgress(value=0.0, description='Epoch 317', max=471.0, style=ProgressStyle(description_wi…",
      "application/vnd.jupyter.widget-view+json": {
       "version_major": 2,
       "version_minor": 0,
       "model_id": "e3c8955904554a4b8f6def03abb86706"
      }
     },
     "metadata": {}
    },
    {
     "output_type": "display_data",
     "data": {
      "text/plain": "HBox(children=(FloatProgress(value=0.0, description='Epoch 318', max=471.0, style=ProgressStyle(description_wi…",
      "application/vnd.jupyter.widget-view+json": {
       "version_major": 2,
       "version_minor": 0,
       "model_id": "834b93c609bc41de955275ebb5815727"
      }
     },
     "metadata": {}
    },
    {
     "output_type": "display_data",
     "data": {
      "text/plain": "HBox(children=(FloatProgress(value=0.0, description='Epoch 319', max=471.0, style=ProgressStyle(description_wi…",
      "application/vnd.jupyter.widget-view+json": {
       "version_major": 2,
       "version_minor": 0,
       "model_id": "b8f1c088a0674058abce5de1139aa3d9"
      }
     },
     "metadata": {}
    },
    {
     "output_type": "display_data",
     "data": {
      "text/plain": "HBox(children=(FloatProgress(value=0.0, description='Epoch 320', max=471.0, style=ProgressStyle(description_wi…",
      "application/vnd.jupyter.widget-view+json": {
       "version_major": 2,
       "version_minor": 0,
       "model_id": "32f8af9d94394f66861bb37cf2b87cd8"
      }
     },
     "metadata": {}
    },
    {
     "output_type": "display_data",
     "data": {
      "text/plain": "HBox(children=(FloatProgress(value=0.0, description='Epoch 321', max=471.0, style=ProgressStyle(description_wi…",
      "application/vnd.jupyter.widget-view+json": {
       "version_major": 2,
       "version_minor": 0,
       "model_id": "a72b4e532e834e64b9d5537e7daadb03"
      }
     },
     "metadata": {}
    },
    {
     "output_type": "display_data",
     "data": {
      "text/plain": "HBox(children=(FloatProgress(value=0.0, description='Epoch 322', max=471.0, style=ProgressStyle(description_wi…",
      "application/vnd.jupyter.widget-view+json": {
       "version_major": 2,
       "version_minor": 0,
       "model_id": "2562043d923942e394fc68ef15561a75"
      }
     },
     "metadata": {}
    },
    {
     "output_type": "display_data",
     "data": {
      "text/plain": "HBox(children=(FloatProgress(value=0.0, description='Epoch 323', max=471.0, style=ProgressStyle(description_wi…",
      "application/vnd.jupyter.widget-view+json": {
       "version_major": 2,
       "version_minor": 0,
       "model_id": "2bd72d028f154d78a18960f3c15ac731"
      }
     },
     "metadata": {}
    },
    {
     "output_type": "display_data",
     "data": {
      "text/plain": "HBox(children=(FloatProgress(value=0.0, description='Epoch 324', max=471.0, style=ProgressStyle(description_wi…",
      "application/vnd.jupyter.widget-view+json": {
       "version_major": 2,
       "version_minor": 0,
       "model_id": "f7ae45ee326c421da98776f647f64a5f"
      }
     },
     "metadata": {}
    },
    {
     "output_type": "display_data",
     "data": {
      "text/plain": "HBox(children=(FloatProgress(value=0.0, description='Epoch 325', max=471.0, style=ProgressStyle(description_wi…",
      "application/vnd.jupyter.widget-view+json": {
       "version_major": 2,
       "version_minor": 0,
       "model_id": "98547008d32840ffb857f3d1675df884"
      }
     },
     "metadata": {}
    },
    {
     "output_type": "display_data",
     "data": {
      "text/plain": "HBox(children=(FloatProgress(value=0.0, description='Epoch 326', max=471.0, style=ProgressStyle(description_wi…",
      "application/vnd.jupyter.widget-view+json": {
       "version_major": 2,
       "version_minor": 0,
       "model_id": "d7eb351b2d194fc8a1fe9e9ff46884a8"
      }
     },
     "metadata": {}
    },
    {
     "output_type": "display_data",
     "data": {
      "text/plain": "HBox(children=(FloatProgress(value=0.0, description='Epoch 327', max=471.0, style=ProgressStyle(description_wi…",
      "application/vnd.jupyter.widget-view+json": {
       "version_major": 2,
       "version_minor": 0,
       "model_id": "0980463183d843f693079fe614df1ea9"
      }
     },
     "metadata": {}
    },
    {
     "output_type": "display_data",
     "data": {
      "text/plain": "HBox(children=(FloatProgress(value=0.0, description='Epoch 328', max=471.0, style=ProgressStyle(description_wi…",
      "application/vnd.jupyter.widget-view+json": {
       "version_major": 2,
       "version_minor": 0,
       "model_id": "a8978189bf62418881e4cc44efb7e06d"
      }
     },
     "metadata": {}
    },
    {
     "output_type": "display_data",
     "data": {
      "text/plain": "HBox(children=(FloatProgress(value=0.0, description='Epoch 329', max=471.0, style=ProgressStyle(description_wi…",
      "application/vnd.jupyter.widget-view+json": {
       "version_major": 2,
       "version_minor": 0,
       "model_id": "c4677b71e3d64e928966b758fc236c52"
      }
     },
     "metadata": {}
    },
    {
     "output_type": "display_data",
     "data": {
      "text/plain": "HBox(children=(FloatProgress(value=0.0, description='Epoch 330', max=471.0, style=ProgressStyle(description_wi…",
      "application/vnd.jupyter.widget-view+json": {
       "version_major": 2,
       "version_minor": 0,
       "model_id": "2d1875bba7444b0896e6531f10b3e330"
      }
     },
     "metadata": {}
    },
    {
     "output_type": "display_data",
     "data": {
      "text/plain": "HBox(children=(FloatProgress(value=0.0, description='Epoch 331', max=471.0, style=ProgressStyle(description_wi…",
      "application/vnd.jupyter.widget-view+json": {
       "version_major": 2,
       "version_minor": 0,
       "model_id": "444507f5044e483fb42d8922b821c9df"
      }
     },
     "metadata": {}
    },
    {
     "output_type": "display_data",
     "data": {
      "text/plain": "HBox(children=(FloatProgress(value=0.0, description='Epoch 332', max=471.0, style=ProgressStyle(description_wi…",
      "application/vnd.jupyter.widget-view+json": {
       "version_major": 2,
       "version_minor": 0,
       "model_id": "97fd74906d5345d283748f489c1eea34"
      }
     },
     "metadata": {}
    },
    {
     "output_type": "display_data",
     "data": {
      "text/plain": "HBox(children=(FloatProgress(value=0.0, description='Epoch 333', max=471.0, style=ProgressStyle(description_wi…",
      "application/vnd.jupyter.widget-view+json": {
       "version_major": 2,
       "version_minor": 0,
       "model_id": "1c7898b036544dff99b8e3b09204e991"
      }
     },
     "metadata": {}
    },
    {
     "output_type": "display_data",
     "data": {
      "text/plain": "HBox(children=(FloatProgress(value=0.0, description='Epoch 334', max=471.0, style=ProgressStyle(description_wi…",
      "application/vnd.jupyter.widget-view+json": {
       "version_major": 2,
       "version_minor": 0,
       "model_id": "7bb89280ac324585acb959fa4a99cbcd"
      }
     },
     "metadata": {}
    },
    {
     "output_type": "display_data",
     "data": {
      "text/plain": "HBox(children=(FloatProgress(value=0.0, description='Epoch 335', max=471.0, style=ProgressStyle(description_wi…",
      "application/vnd.jupyter.widget-view+json": {
       "version_major": 2,
       "version_minor": 0,
       "model_id": "86ae45af783f4eacacba684c427ffe57"
      }
     },
     "metadata": {}
    },
    {
     "output_type": "display_data",
     "data": {
      "text/plain": "HBox(children=(FloatProgress(value=0.0, description='Epoch 336', max=471.0, style=ProgressStyle(description_wi…",
      "application/vnd.jupyter.widget-view+json": {
       "version_major": 2,
       "version_minor": 0,
       "model_id": "d34c8f48eb84444fa89aea753c891ba8"
      }
     },
     "metadata": {}
    },
    {
     "output_type": "display_data",
     "data": {
      "text/plain": "HBox(children=(FloatProgress(value=0.0, description='Epoch 337', max=471.0, style=ProgressStyle(description_wi…",
      "application/vnd.jupyter.widget-view+json": {
       "version_major": 2,
       "version_minor": 0,
       "model_id": "3762e0f281074b92894bf64d03487267"
      }
     },
     "metadata": {}
    },
    {
     "output_type": "display_data",
     "data": {
      "text/plain": "HBox(children=(FloatProgress(value=0.0, description='Epoch 338', max=471.0, style=ProgressStyle(description_wi…",
      "application/vnd.jupyter.widget-view+json": {
       "version_major": 2,
       "version_minor": 0,
       "model_id": "7b5b170518f8457d8eba54c42589b8c3"
      }
     },
     "metadata": {}
    },
    {
     "output_type": "display_data",
     "data": {
      "text/plain": "HBox(children=(FloatProgress(value=0.0, description='Epoch 339', max=471.0, style=ProgressStyle(description_wi…",
      "application/vnd.jupyter.widget-view+json": {
       "version_major": 2,
       "version_minor": 0,
       "model_id": "17a8b1292c76465ab71df76e8eceff55"
      }
     },
     "metadata": {}
    },
    {
     "output_type": "display_data",
     "data": {
      "text/plain": "HBox(children=(FloatProgress(value=0.0, description='Epoch 340', max=471.0, style=ProgressStyle(description_wi…",
      "application/vnd.jupyter.widget-view+json": {
       "version_major": 2,
       "version_minor": 0,
       "model_id": "e77ebb34d85543d88cbc21ae7ccd0b38"
      }
     },
     "metadata": {}
    },
    {
     "output_type": "display_data",
     "data": {
      "text/plain": "HBox(children=(FloatProgress(value=0.0, description='Epoch 341', max=471.0, style=ProgressStyle(description_wi…",
      "application/vnd.jupyter.widget-view+json": {
       "version_major": 2,
       "version_minor": 0,
       "model_id": "f38dea441dc24dacae1f6220fe085157"
      }
     },
     "metadata": {}
    },
    {
     "output_type": "display_data",
     "data": {
      "text/plain": "HBox(children=(FloatProgress(value=0.0, description='Epoch 342', max=471.0, style=ProgressStyle(description_wi…",
      "application/vnd.jupyter.widget-view+json": {
       "version_major": 2,
       "version_minor": 0,
       "model_id": "d8b0b31794184af3b0e481fa6dcae8fe"
      }
     },
     "metadata": {}
    },
    {
     "output_type": "display_data",
     "data": {
      "text/plain": "HBox(children=(FloatProgress(value=0.0, description='Epoch 343', max=471.0, style=ProgressStyle(description_wi…",
      "application/vnd.jupyter.widget-view+json": {
       "version_major": 2,
       "version_minor": 0,
       "model_id": "fd31a81d857c4ea1b5d83ea97fc0611e"
      }
     },
     "metadata": {}
    },
    {
     "output_type": "display_data",
     "data": {
      "text/plain": "HBox(children=(FloatProgress(value=0.0, description='Epoch 344', max=471.0, style=ProgressStyle(description_wi…",
      "application/vnd.jupyter.widget-view+json": {
       "version_major": 2,
       "version_minor": 0,
       "model_id": "0355c7f8c9164f12baffe3c09536b880"
      }
     },
     "metadata": {}
    },
    {
     "output_type": "display_data",
     "data": {
      "text/plain": "HBox(children=(FloatProgress(value=0.0, description='Epoch 345', max=471.0, style=ProgressStyle(description_wi…",
      "application/vnd.jupyter.widget-view+json": {
       "version_major": 2,
       "version_minor": 0,
       "model_id": "abc49ca121b946b1af7ebb91eabab459"
      }
     },
     "metadata": {}
    },
    {
     "output_type": "display_data",
     "data": {
      "text/plain": "HBox(children=(FloatProgress(value=0.0, description='Epoch 346', max=471.0, style=ProgressStyle(description_wi…",
      "application/vnd.jupyter.widget-view+json": {
       "version_major": 2,
       "version_minor": 0,
       "model_id": "349b74b08c05495bb4fb3c37bcdd607b"
      }
     },
     "metadata": {}
    },
    {
     "output_type": "display_data",
     "data": {
      "text/plain": "HBox(children=(FloatProgress(value=0.0, description='Epoch 347', max=471.0, style=ProgressStyle(description_wi…",
      "application/vnd.jupyter.widget-view+json": {
       "version_major": 2,
       "version_minor": 0,
       "model_id": "092cc5d590a04aa4bf0944e7d3e347c5"
      }
     },
     "metadata": {}
    },
    {
     "output_type": "display_data",
     "data": {
      "text/plain": "HBox(children=(FloatProgress(value=0.0, description='Epoch 348', max=471.0, style=ProgressStyle(description_wi…",
      "application/vnd.jupyter.widget-view+json": {
       "version_major": 2,
       "version_minor": 0,
       "model_id": "4d3a76fb3c364eb1bf12a120167576dd"
      }
     },
     "metadata": {}
    },
    {
     "output_type": "display_data",
     "data": {
      "text/plain": "HBox(children=(FloatProgress(value=0.0, description='Epoch 349', max=471.0, style=ProgressStyle(description_wi…",
      "application/vnd.jupyter.widget-view+json": {
       "version_major": 2,
       "version_minor": 0,
       "model_id": "ab730a621d854cef90d35d02b9402ad8"
      }
     },
     "metadata": {}
    },
    {
     "output_type": "display_data",
     "data": {
      "text/plain": "HBox(children=(FloatProgress(value=0.0, description='Epoch 350', max=471.0, style=ProgressStyle(description_wi…",
      "application/vnd.jupyter.widget-view+json": {
       "version_major": 2,
       "version_minor": 0,
       "model_id": "87ba58cc731541d0b30f893ba1279789"
      }
     },
     "metadata": {}
    },
    {
     "output_type": "display_data",
     "data": {
      "text/plain": "HBox(children=(FloatProgress(value=0.0, description='Epoch 351', max=471.0, style=ProgressStyle(description_wi…",
      "application/vnd.jupyter.widget-view+json": {
       "version_major": 2,
       "version_minor": 0,
       "model_id": "761928ea9b18404ebf99697d34d43670"
      }
     },
     "metadata": {}
    },
    {
     "output_type": "display_data",
     "data": {
      "text/plain": "HBox(children=(FloatProgress(value=0.0, description='Epoch 352', max=471.0, style=ProgressStyle(description_wi…",
      "application/vnd.jupyter.widget-view+json": {
       "version_major": 2,
       "version_minor": 0,
       "model_id": "ae6a409df5b34713b47d64a6d4515f3f"
      }
     },
     "metadata": {}
    },
    {
     "output_type": "display_data",
     "data": {
      "text/plain": "HBox(children=(FloatProgress(value=0.0, description='Epoch 353', max=471.0, style=ProgressStyle(description_wi…",
      "application/vnd.jupyter.widget-view+json": {
       "version_major": 2,
       "version_minor": 0,
       "model_id": "0b0bd5cf55144c9586a7a4189fe84b68"
      }
     },
     "metadata": {}
    },
    {
     "output_type": "display_data",
     "data": {
      "text/plain": "HBox(children=(FloatProgress(value=0.0, description='Epoch 354', max=471.0, style=ProgressStyle(description_wi…",
      "application/vnd.jupyter.widget-view+json": {
       "version_major": 2,
       "version_minor": 0,
       "model_id": "6569a69d637b48559df600c5df809ebc"
      }
     },
     "metadata": {}
    },
    {
     "output_type": "display_data",
     "data": {
      "text/plain": "HBox(children=(FloatProgress(value=0.0, description='Epoch 355', max=471.0, style=ProgressStyle(description_wi…",
      "application/vnd.jupyter.widget-view+json": {
       "version_major": 2,
       "version_minor": 0,
       "model_id": "8769223e6a8d493986bbea7002ceb5c7"
      }
     },
     "metadata": {}
    },
    {
     "output_type": "display_data",
     "data": {
      "text/plain": "HBox(children=(FloatProgress(value=0.0, description='Epoch 356', max=471.0, style=ProgressStyle(description_wi…",
      "application/vnd.jupyter.widget-view+json": {
       "version_major": 2,
       "version_minor": 0,
       "model_id": "1f8e485467ab4ed38470301557f0f526"
      }
     },
     "metadata": {}
    },
    {
     "output_type": "display_data",
     "data": {
      "text/plain": "HBox(children=(FloatProgress(value=0.0, description='Epoch 357', max=471.0, style=ProgressStyle(description_wi…",
      "application/vnd.jupyter.widget-view+json": {
       "version_major": 2,
       "version_minor": 0,
       "model_id": "1f8bc9df61314368809ed82179d73d80"
      }
     },
     "metadata": {}
    },
    {
     "output_type": "display_data",
     "data": {
      "text/plain": "HBox(children=(FloatProgress(value=0.0, description='Epoch 358', max=471.0, style=ProgressStyle(description_wi…",
      "application/vnd.jupyter.widget-view+json": {
       "version_major": 2,
       "version_minor": 0,
       "model_id": "4c5671e8932a4d4fac0c271db1f5c513"
      }
     },
     "metadata": {}
    },
    {
     "output_type": "display_data",
     "data": {
      "text/plain": "HBox(children=(FloatProgress(value=0.0, description='Epoch 359', max=471.0, style=ProgressStyle(description_wi…",
      "application/vnd.jupyter.widget-view+json": {
       "version_major": 2,
       "version_minor": 0,
       "model_id": "99da7a38c19f4e3186d576a3d440bc1b"
      }
     },
     "metadata": {}
    },
    {
     "output_type": "display_data",
     "data": {
      "text/plain": "HBox(children=(FloatProgress(value=0.0, description='Epoch 360', max=471.0, style=ProgressStyle(description_wi…",
      "application/vnd.jupyter.widget-view+json": {
       "version_major": 2,
       "version_minor": 0,
       "model_id": "f9a9fedf49e04d0687bd17c1d86cab5c"
      }
     },
     "metadata": {}
    },
    {
     "output_type": "display_data",
     "data": {
      "text/plain": "HBox(children=(FloatProgress(value=0.0, description='Epoch 361', max=471.0, style=ProgressStyle(description_wi…",
      "application/vnd.jupyter.widget-view+json": {
       "version_major": 2,
       "version_minor": 0,
       "model_id": "28346f01fd434cf0a683aca04c99db17"
      }
     },
     "metadata": {}
    },
    {
     "output_type": "display_data",
     "data": {
      "text/plain": "HBox(children=(FloatProgress(value=0.0, description='Epoch 362', max=471.0, style=ProgressStyle(description_wi…",
      "application/vnd.jupyter.widget-view+json": {
       "version_major": 2,
       "version_minor": 0,
       "model_id": "61e03bf94c82495e99aba2257f954b27"
      }
     },
     "metadata": {}
    },
    {
     "output_type": "display_data",
     "data": {
      "text/plain": "HBox(children=(FloatProgress(value=0.0, description='Epoch 363', max=471.0, style=ProgressStyle(description_wi…",
      "application/vnd.jupyter.widget-view+json": {
       "version_major": 2,
       "version_minor": 0,
       "model_id": "f6f16fe275654513912c05823bc2b211"
      }
     },
     "metadata": {}
    },
    {
     "output_type": "display_data",
     "data": {
      "text/plain": "HBox(children=(FloatProgress(value=0.0, description='Epoch 364', max=471.0, style=ProgressStyle(description_wi…",
      "application/vnd.jupyter.widget-view+json": {
       "version_major": 2,
       "version_minor": 0,
       "model_id": "91ec09cf87e548fd84385f51b1ecfa16"
      }
     },
     "metadata": {}
    },
    {
     "output_type": "display_data",
     "data": {
      "text/plain": "HBox(children=(FloatProgress(value=0.0, description='Epoch 365', max=471.0, style=ProgressStyle(description_wi…",
      "application/vnd.jupyter.widget-view+json": {
       "version_major": 2,
       "version_minor": 0,
       "model_id": "4fad6962fadb44efa8ea5041e91313fd"
      }
     },
     "metadata": {}
    },
    {
     "output_type": "display_data",
     "data": {
      "text/plain": "HBox(children=(FloatProgress(value=0.0, description='Epoch 366', max=471.0, style=ProgressStyle(description_wi…",
      "application/vnd.jupyter.widget-view+json": {
       "version_major": 2,
       "version_minor": 0,
       "model_id": "b533476599a240f0851ac5898c18368e"
      }
     },
     "metadata": {}
    },
    {
     "output_type": "display_data",
     "data": {
      "text/plain": "HBox(children=(FloatProgress(value=0.0, description='Epoch 367', max=471.0, style=ProgressStyle(description_wi…",
      "application/vnd.jupyter.widget-view+json": {
       "version_major": 2,
       "version_minor": 0,
       "model_id": "53c833309fee4839a1324c86e07879b5"
      }
     },
     "metadata": {}
    },
    {
     "output_type": "display_data",
     "data": {
      "text/plain": "HBox(children=(FloatProgress(value=0.0, description='Epoch 368', max=471.0, style=ProgressStyle(description_wi…",
      "application/vnd.jupyter.widget-view+json": {
       "version_major": 2,
       "version_minor": 0,
       "model_id": "6b373bebd4db4d90b904089ff72511ad"
      }
     },
     "metadata": {}
    },
    {
     "output_type": "display_data",
     "data": {
      "text/plain": "HBox(children=(FloatProgress(value=0.0, description='Epoch 369', max=471.0, style=ProgressStyle(description_wi…",
      "application/vnd.jupyter.widget-view+json": {
       "version_major": 2,
       "version_minor": 0,
       "model_id": "06ce6ba380064a89a7edda266d54726a"
      }
     },
     "metadata": {}
    },
    {
     "output_type": "display_data",
     "data": {
      "text/plain": "HBox(children=(FloatProgress(value=0.0, description='Epoch 370', max=471.0, style=ProgressStyle(description_wi…",
      "application/vnd.jupyter.widget-view+json": {
       "version_major": 2,
       "version_minor": 0,
       "model_id": "820fe25861524c919d930f197e833662"
      }
     },
     "metadata": {}
    },
    {
     "output_type": "display_data",
     "data": {
      "text/plain": "HBox(children=(FloatProgress(value=0.0, description='Epoch 371', max=471.0, style=ProgressStyle(description_wi…",
      "application/vnd.jupyter.widget-view+json": {
       "version_major": 2,
       "version_minor": 0,
       "model_id": "a164cb2da7384fc6a13a62f9fd9a7f27"
      }
     },
     "metadata": {}
    },
    {
     "output_type": "display_data",
     "data": {
      "text/plain": "HBox(children=(FloatProgress(value=0.0, description='Epoch 372', max=471.0, style=ProgressStyle(description_wi…",
      "application/vnd.jupyter.widget-view+json": {
       "version_major": 2,
       "version_minor": 0,
       "model_id": "d934bcd97a7e4cfda699c6712eeb60bd"
      }
     },
     "metadata": {}
    },
    {
     "output_type": "display_data",
     "data": {
      "text/plain": "HBox(children=(FloatProgress(value=0.0, description='Epoch 373', max=471.0, style=ProgressStyle(description_wi…",
      "application/vnd.jupyter.widget-view+json": {
       "version_major": 2,
       "version_minor": 0,
       "model_id": "4d2054d73e334bc7a1fdc4005b298fc6"
      }
     },
     "metadata": {}
    },
    {
     "output_type": "display_data",
     "data": {
      "text/plain": "HBox(children=(FloatProgress(value=0.0, description='Epoch 374', max=471.0, style=ProgressStyle(description_wi…",
      "application/vnd.jupyter.widget-view+json": {
       "version_major": 2,
       "version_minor": 0,
       "model_id": "40c5714109234181b1b7f34aa428641b"
      }
     },
     "metadata": {}
    },
    {
     "output_type": "display_data",
     "data": {
      "text/plain": "HBox(children=(FloatProgress(value=0.0, description='Epoch 375', max=471.0, style=ProgressStyle(description_wi…",
      "application/vnd.jupyter.widget-view+json": {
       "version_major": 2,
       "version_minor": 0,
       "model_id": "70ad35dacf4d4e6d8f5d4f3e9fa688aa"
      }
     },
     "metadata": {}
    },
    {
     "output_type": "display_data",
     "data": {
      "text/plain": "HBox(children=(FloatProgress(value=0.0, description='Epoch 376', max=471.0, style=ProgressStyle(description_wi…",
      "application/vnd.jupyter.widget-view+json": {
       "version_major": 2,
       "version_minor": 0,
       "model_id": "04887e85efac43e6b3305f7f1027e11f"
      }
     },
     "metadata": {}
    },
    {
     "output_type": "display_data",
     "data": {
      "text/plain": "HBox(children=(FloatProgress(value=0.0, description='Epoch 377', max=471.0, style=ProgressStyle(description_wi…",
      "application/vnd.jupyter.widget-view+json": {
       "version_major": 2,
       "version_minor": 0,
       "model_id": "3066f699cf714a3bb8fae7242251d522"
      }
     },
     "metadata": {}
    },
    {
     "output_type": "display_data",
     "data": {
      "text/plain": "HBox(children=(FloatProgress(value=0.0, description='Epoch 378', max=471.0, style=ProgressStyle(description_wi…",
      "application/vnd.jupyter.widget-view+json": {
       "version_major": 2,
       "version_minor": 0,
       "model_id": "c7f9434e2d574178850b0ac4ae6979a0"
      }
     },
     "metadata": {}
    },
    {
     "output_type": "display_data",
     "data": {
      "text/plain": "HBox(children=(FloatProgress(value=0.0, description='Epoch 379', max=471.0, style=ProgressStyle(description_wi…",
      "application/vnd.jupyter.widget-view+json": {
       "version_major": 2,
       "version_minor": 0,
       "model_id": "cb2e0d2cad2d45d88a955ab1d11e6e65"
      }
     },
     "metadata": {}
    },
    {
     "output_type": "display_data",
     "data": {
      "text/plain": "HBox(children=(FloatProgress(value=0.0, description='Epoch 380', max=471.0, style=ProgressStyle(description_wi…",
      "application/vnd.jupyter.widget-view+json": {
       "version_major": 2,
       "version_minor": 0,
       "model_id": "931e9c89f43b4216ac07043b223763c0"
      }
     },
     "metadata": {}
    },
    {
     "output_type": "display_data",
     "data": {
      "text/plain": "HBox(children=(FloatProgress(value=0.0, description='Epoch 381', max=471.0, style=ProgressStyle(description_wi…",
      "application/vnd.jupyter.widget-view+json": {
       "version_major": 2,
       "version_minor": 0,
       "model_id": "b67f0c0bf9b14510a4947d719501b9e3"
      }
     },
     "metadata": {}
    },
    {
     "output_type": "display_data",
     "data": {
      "text/plain": "HBox(children=(FloatProgress(value=0.0, description='Epoch 382', max=471.0, style=ProgressStyle(description_wi…",
      "application/vnd.jupyter.widget-view+json": {
       "version_major": 2,
       "version_minor": 0,
       "model_id": "030ea5c40a7f489888be72460ce3e39d"
      }
     },
     "metadata": {}
    },
    {
     "output_type": "display_data",
     "data": {
      "text/plain": "HBox(children=(FloatProgress(value=0.0, description='Epoch 383', max=471.0, style=ProgressStyle(description_wi…",
      "application/vnd.jupyter.widget-view+json": {
       "version_major": 2,
       "version_minor": 0,
       "model_id": "5075586677a84729b624be7c2ec93177"
      }
     },
     "metadata": {}
    },
    {
     "output_type": "display_data",
     "data": {
      "text/plain": "HBox(children=(FloatProgress(value=0.0, description='Epoch 384', max=471.0, style=ProgressStyle(description_wi…",
      "application/vnd.jupyter.widget-view+json": {
       "version_major": 2,
       "version_minor": 0,
       "model_id": "9e30bf9be5154f66ab083af1aac404ab"
      }
     },
     "metadata": {}
    },
    {
     "output_type": "display_data",
     "data": {
      "text/plain": "HBox(children=(FloatProgress(value=0.0, description='Epoch 385', max=471.0, style=ProgressStyle(description_wi…",
      "application/vnd.jupyter.widget-view+json": {
       "version_major": 2,
       "version_minor": 0,
       "model_id": "876712c9618d4f9c8eb83abce388c51a"
      }
     },
     "metadata": {}
    },
    {
     "output_type": "display_data",
     "data": {
      "text/plain": "HBox(children=(FloatProgress(value=0.0, description='Epoch 386', max=471.0, style=ProgressStyle(description_wi…",
      "application/vnd.jupyter.widget-view+json": {
       "version_major": 2,
       "version_minor": 0,
       "model_id": "58442eb6598249f38953cb62978494d5"
      }
     },
     "metadata": {}
    },
    {
     "output_type": "display_data",
     "data": {
      "text/plain": "HBox(children=(FloatProgress(value=0.0, description='Epoch 387', max=471.0, style=ProgressStyle(description_wi…",
      "application/vnd.jupyter.widget-view+json": {
       "version_major": 2,
       "version_minor": 0,
       "model_id": "a9750dd2a19643f3b372f42d715ca5b7"
      }
     },
     "metadata": {}
    },
    {
     "output_type": "display_data",
     "data": {
      "text/plain": "HBox(children=(FloatProgress(value=0.0, description='Epoch 388', max=471.0, style=ProgressStyle(description_wi…",
      "application/vnd.jupyter.widget-view+json": {
       "version_major": 2,
       "version_minor": 0,
       "model_id": "c439ede9a0304f8ca77820d8b94aea1b"
      }
     },
     "metadata": {}
    },
    {
     "output_type": "display_data",
     "data": {
      "text/plain": "HBox(children=(FloatProgress(value=0.0, description='Epoch 389', max=471.0, style=ProgressStyle(description_wi…",
      "application/vnd.jupyter.widget-view+json": {
       "version_major": 2,
       "version_minor": 0,
       "model_id": "4941ab92d2624508b09427c17ae82070"
      }
     },
     "metadata": {}
    },
    {
     "output_type": "display_data",
     "data": {
      "text/plain": "HBox(children=(FloatProgress(value=0.0, description='Epoch 390', max=471.0, style=ProgressStyle(description_wi…",
      "application/vnd.jupyter.widget-view+json": {
       "version_major": 2,
       "version_minor": 0,
       "model_id": "72099240b4c149e49b3f19cbcf56ead1"
      }
     },
     "metadata": {}
    },
    {
     "output_type": "display_data",
     "data": {
      "text/plain": "HBox(children=(FloatProgress(value=0.0, description='Epoch 391', max=471.0, style=ProgressStyle(description_wi…",
      "application/vnd.jupyter.widget-view+json": {
       "version_major": 2,
       "version_minor": 0,
       "model_id": "1d9b7ca6f7614743820ac017c6a62a3d"
      }
     },
     "metadata": {}
    },
    {
     "output_type": "display_data",
     "data": {
      "text/plain": "HBox(children=(FloatProgress(value=0.0, description='Epoch 392', max=471.0, style=ProgressStyle(description_wi…",
      "application/vnd.jupyter.widget-view+json": {
       "version_major": 2,
       "version_minor": 0,
       "model_id": "77297e812e9c4b2383fac57be8e9c54b"
      }
     },
     "metadata": {}
    },
    {
     "output_type": "display_data",
     "data": {
      "text/plain": "HBox(children=(FloatProgress(value=0.0, description='Epoch 393', max=471.0, style=ProgressStyle(description_wi…",
      "application/vnd.jupyter.widget-view+json": {
       "version_major": 2,
       "version_minor": 0,
       "model_id": "c06eb03bd9a64f0f8ccea685dde22850"
      }
     },
     "metadata": {}
    },
    {
     "output_type": "display_data",
     "data": {
      "text/plain": "HBox(children=(FloatProgress(value=0.0, description='Epoch 394', max=471.0, style=ProgressStyle(description_wi…",
      "application/vnd.jupyter.widget-view+json": {
       "version_major": 2,
       "version_minor": 0,
       "model_id": "4ba98992889249fe9bb3ea5b797c6642"
      }
     },
     "metadata": {}
    },
    {
     "output_type": "display_data",
     "data": {
      "text/plain": "HBox(children=(FloatProgress(value=0.0, description='Epoch 395', max=471.0, style=ProgressStyle(description_wi…",
      "application/vnd.jupyter.widget-view+json": {
       "version_major": 2,
       "version_minor": 0,
       "model_id": "f4a4961934e849d9aaa3cf39d3b32096"
      }
     },
     "metadata": {}
    },
    {
     "output_type": "display_data",
     "data": {
      "text/plain": "HBox(children=(FloatProgress(value=0.0, description='Epoch 396', max=471.0, style=ProgressStyle(description_wi…",
      "application/vnd.jupyter.widget-view+json": {
       "version_major": 2,
       "version_minor": 0,
       "model_id": "d9e782f510e6409497ef1ba0473fc2d8"
      }
     },
     "metadata": {}
    },
    {
     "output_type": "display_data",
     "data": {
      "text/plain": "HBox(children=(FloatProgress(value=0.0, description='Epoch 397', max=471.0, style=ProgressStyle(description_wi…",
      "application/vnd.jupyter.widget-view+json": {
       "version_major": 2,
       "version_minor": 0,
       "model_id": "e5eac416ba5b46acb4fddcffe8055a8d"
      }
     },
     "metadata": {}
    },
    {
     "output_type": "display_data",
     "data": {
      "text/plain": "HBox(children=(FloatProgress(value=0.0, description='Epoch 398', max=471.0, style=ProgressStyle(description_wi…",
      "application/vnd.jupyter.widget-view+json": {
       "version_major": 2,
       "version_minor": 0,
       "model_id": "9d447a8aad754db69934ee168261b0b2"
      }
     },
     "metadata": {}
    },
    {
     "output_type": "display_data",
     "data": {
      "text/plain": "HBox(children=(FloatProgress(value=0.0, description='Epoch 399', max=471.0, style=ProgressStyle(description_wi…",
      "application/vnd.jupyter.widget-view+json": {
       "version_major": 2,
       "version_minor": 0,
       "model_id": "4d3bc75d564e4887ad9df28c30923263"
      }
     },
     "metadata": {}
    },
    {
     "output_type": "stream",
     "name": "stdout",
     "text": "\n"
    },
    {
     "output_type": "execute_result",
     "data": {
      "text/plain": "<matplotlib.legend.Legend at 0x7f31f2adc310>"
     },
     "metadata": {},
     "execution_count": 104
    },
    {
     "output_type": "display_data",
     "data": {
      "text/plain": "<Figure size 720x720 with 2 Axes>",
      "image/svg+xml": "<?xml version=\"1.0\" encoding=\"utf-8\" standalone=\"no\"?>\n<!DOCTYPE svg PUBLIC \"-//W3C//DTD SVG 1.1//EN\"\n  \"http://www.w3.org/Graphics/SVG/1.1/DTD/svg11.dtd\">\n<!-- Created with matplotlib (https://matplotlib.org/) -->\n<svg height=\"603.474375pt\" version=\"1.1\" viewBox=\"0 0 595.303125 603.474375\" width=\"595.303125pt\" xmlns=\"http://www.w3.org/2000/svg\" xmlns:xlink=\"http://www.w3.org/1999/xlink\">\n <metadata>\n  <rdf:RDF xmlns:cc=\"http://creativecommons.org/ns#\" xmlns:dc=\"http://purl.org/dc/elements/1.1/\" xmlns:rdf=\"http://www.w3.org/1999/02/22-rdf-syntax-ns#\">\n   <cc:Work>\n    <dc:type rdf:resource=\"http://purl.org/dc/dcmitype/StillImage\"/>\n    <dc:date>2020-09-05T20:36:21.891646</dc:date>\n    <dc:format>image/svg+xml</dc:format>\n    <dc:creator>\n     <cc:Agent>\n      <dc:title>Matplotlib v3.3.1, https://matplotlib.org/</dc:title>\n     </cc:Agent>\n    </dc:creator>\n   </cc:Work>\n  </rdf:RDF>\n </metadata>\n <defs>\n  <style type=\"text/css\">*{stroke-linecap:butt;stroke-linejoin:round;}</style>\n </defs>\n <g id=\"figure_1\">\n  <g id=\"patch_1\">\n   <path d=\"M -0 603.474375 \nL 595.303125 603.474375 \nL 595.303125 0 \nL -0 0 \nz\n\" style=\"fill:none;\"/>\n  </g>\n  <g id=\"axes_1\">\n   <g id=\"patch_2\">\n    <path d=\"M 30.103125 269.409034 \nL 588.103125 269.409034 \nL 588.103125 22.318125 \nL 30.103125 22.318125 \nz\n\" style=\"fill:#ffffff;\"/>\n   </g>\n   <g id=\"matplotlib.axis_1\">\n    <g id=\"xtick_1\">\n     <g id=\"line2d_1\">\n      <defs>\n       <path d=\"M 0 0 \nL 0 3.5 \n\" id=\"mc139c80b13\" style=\"stroke:#000000;stroke-width:0.8;\"/>\n      </defs>\n      <g>\n       <use style=\"stroke:#000000;stroke-width:0.8;\" x=\"54.195401\" xlink:href=\"#mc139c80b13\" y=\"269.409034\"/>\n      </g>\n     </g>\n     <g id=\"text_1\">\n      <!-- 0 -->\n      <g transform=\"translate(51.014151 284.007472)scale(0.1 -0.1)\">\n       <defs>\n        <path d=\"M 31.78125 66.40625 \nQ 24.171875 66.40625 20.328125 58.90625 \nQ 16.5 51.421875 16.5 36.375 \nQ 16.5 21.390625 20.328125 13.890625 \nQ 24.171875 6.390625 31.78125 6.390625 \nQ 39.453125 6.390625 43.28125 13.890625 \nQ 47.125 21.390625 47.125 36.375 \nQ 47.125 51.421875 43.28125 58.90625 \nQ 39.453125 66.40625 31.78125 66.40625 \nz\nM 31.78125 74.21875 \nQ 44.046875 74.21875 50.515625 64.515625 \nQ 56.984375 54.828125 56.984375 36.375 \nQ 56.984375 17.96875 50.515625 8.265625 \nQ 44.046875 -1.421875 31.78125 -1.421875 \nQ 19.53125 -1.421875 13.0625 8.265625 \nQ 6.59375 17.96875 6.59375 36.375 \nQ 6.59375 54.828125 13.0625 64.515625 \nQ 19.53125 74.21875 31.78125 74.21875 \nz\n\" id=\"DejaVuSans-48\"/>\n       </defs>\n       <use xlink:href=\"#DejaVuSans-48\"/>\n      </g>\n     </g>\n    </g>\n    <g id=\"xtick_2\">\n     <g id=\"line2d_2\">\n      <g>\n       <use style=\"stroke:#000000;stroke-width:0.8;\" x=\"117.763412\" xlink:href=\"#mc139c80b13\" y=\"269.409034\"/>\n      </g>\n     </g>\n     <g id=\"text_2\">\n      <!-- 50 -->\n      <g transform=\"translate(111.400912 284.007472)scale(0.1 -0.1)\">\n       <defs>\n        <path d=\"M 10.796875 72.90625 \nL 49.515625 72.90625 \nL 49.515625 64.59375 \nL 19.828125 64.59375 \nL 19.828125 46.734375 \nQ 21.96875 47.46875 24.109375 47.828125 \nQ 26.265625 48.1875 28.421875 48.1875 \nQ 40.625 48.1875 47.75 41.5 \nQ 54.890625 34.8125 54.890625 23.390625 \nQ 54.890625 11.625 47.5625 5.09375 \nQ 40.234375 -1.421875 26.90625 -1.421875 \nQ 22.3125 -1.421875 17.546875 -0.640625 \nQ 12.796875 0.140625 7.71875 1.703125 \nL 7.71875 11.625 \nQ 12.109375 9.234375 16.796875 8.0625 \nQ 21.484375 6.890625 26.703125 6.890625 \nQ 35.15625 6.890625 40.078125 11.328125 \nQ 45.015625 15.765625 45.015625 23.390625 \nQ 45.015625 31 40.078125 35.4375 \nQ 35.15625 39.890625 26.703125 39.890625 \nQ 22.75 39.890625 18.8125 39.015625 \nQ 14.890625 38.140625 10.796875 36.28125 \nz\n\" id=\"DejaVuSans-53\"/>\n       </defs>\n       <use xlink:href=\"#DejaVuSans-53\"/>\n       <use x=\"63.623047\" xlink:href=\"#DejaVuSans-48\"/>\n      </g>\n     </g>\n    </g>\n    <g id=\"xtick_3\">\n     <g id=\"line2d_3\">\n      <g>\n       <use style=\"stroke:#000000;stroke-width:0.8;\" x=\"181.331423\" xlink:href=\"#mc139c80b13\" y=\"269.409034\"/>\n      </g>\n     </g>\n     <g id=\"text_3\">\n      <!-- 100 -->\n      <g transform=\"translate(171.787673 284.007472)scale(0.1 -0.1)\">\n       <defs>\n        <path d=\"M 12.40625 8.296875 \nL 28.515625 8.296875 \nL 28.515625 63.921875 \nL 10.984375 60.40625 \nL 10.984375 69.390625 \nL 28.421875 72.90625 \nL 38.28125 72.90625 \nL 38.28125 8.296875 \nL 54.390625 8.296875 \nL 54.390625 0 \nL 12.40625 0 \nz\n\" id=\"DejaVuSans-49\"/>\n       </defs>\n       <use xlink:href=\"#DejaVuSans-49\"/>\n       <use x=\"63.623047\" xlink:href=\"#DejaVuSans-48\"/>\n       <use x=\"127.246094\" xlink:href=\"#DejaVuSans-48\"/>\n      </g>\n     </g>\n    </g>\n    <g id=\"xtick_4\">\n     <g id=\"line2d_4\">\n      <g>\n       <use style=\"stroke:#000000;stroke-width:0.8;\" x=\"244.899434\" xlink:href=\"#mc139c80b13\" y=\"269.409034\"/>\n      </g>\n     </g>\n     <g id=\"text_4\">\n      <!-- 150 -->\n      <g transform=\"translate(235.355684 284.007472)scale(0.1 -0.1)\">\n       <use xlink:href=\"#DejaVuSans-49\"/>\n       <use x=\"63.623047\" xlink:href=\"#DejaVuSans-53\"/>\n       <use x=\"127.246094\" xlink:href=\"#DejaVuSans-48\"/>\n      </g>\n     </g>\n    </g>\n    <g id=\"xtick_5\">\n     <g id=\"line2d_5\">\n      <g>\n       <use style=\"stroke:#000000;stroke-width:0.8;\" x=\"308.467445\" xlink:href=\"#mc139c80b13\" y=\"269.409034\"/>\n      </g>\n     </g>\n     <g id=\"text_5\">\n      <!-- 200 -->\n      <g transform=\"translate(298.923695 284.007472)scale(0.1 -0.1)\">\n       <defs>\n        <path d=\"M 19.1875 8.296875 \nL 53.609375 8.296875 \nL 53.609375 0 \nL 7.328125 0 \nL 7.328125 8.296875 \nQ 12.9375 14.109375 22.625 23.890625 \nQ 32.328125 33.6875 34.8125 36.53125 \nQ 39.546875 41.84375 41.421875 45.53125 \nQ 43.3125 49.21875 43.3125 52.78125 \nQ 43.3125 58.59375 39.234375 62.25 \nQ 35.15625 65.921875 28.609375 65.921875 \nQ 23.96875 65.921875 18.8125 64.3125 \nQ 13.671875 62.703125 7.8125 59.421875 \nL 7.8125 69.390625 \nQ 13.765625 71.78125 18.9375 73 \nQ 24.125 74.21875 28.421875 74.21875 \nQ 39.75 74.21875 46.484375 68.546875 \nQ 53.21875 62.890625 53.21875 53.421875 \nQ 53.21875 48.921875 51.53125 44.890625 \nQ 49.859375 40.875 45.40625 35.40625 \nQ 44.1875 33.984375 37.640625 27.21875 \nQ 31.109375 20.453125 19.1875 8.296875 \nz\n\" id=\"DejaVuSans-50\"/>\n       </defs>\n       <use xlink:href=\"#DejaVuSans-50\"/>\n       <use x=\"63.623047\" xlink:href=\"#DejaVuSans-48\"/>\n       <use x=\"127.246094\" xlink:href=\"#DejaVuSans-48\"/>\n      </g>\n     </g>\n    </g>\n    <g id=\"xtick_6\">\n     <g id=\"line2d_6\">\n      <g>\n       <use style=\"stroke:#000000;stroke-width:0.8;\" x=\"372.035456\" xlink:href=\"#mc139c80b13\" y=\"269.409034\"/>\n      </g>\n     </g>\n     <g id=\"text_6\">\n      <!-- 250 -->\n      <g transform=\"translate(362.491706 284.007472)scale(0.1 -0.1)\">\n       <use xlink:href=\"#DejaVuSans-50\"/>\n       <use x=\"63.623047\" xlink:href=\"#DejaVuSans-53\"/>\n       <use x=\"127.246094\" xlink:href=\"#DejaVuSans-48\"/>\n      </g>\n     </g>\n    </g>\n    <g id=\"xtick_7\">\n     <g id=\"line2d_7\">\n      <g>\n       <use style=\"stroke:#000000;stroke-width:0.8;\" x=\"435.603467\" xlink:href=\"#mc139c80b13\" y=\"269.409034\"/>\n      </g>\n     </g>\n     <g id=\"text_7\">\n      <!-- 300 -->\n      <g transform=\"translate(426.059717 284.007472)scale(0.1 -0.1)\">\n       <defs>\n        <path d=\"M 40.578125 39.3125 \nQ 47.65625 37.796875 51.625 33 \nQ 55.609375 28.21875 55.609375 21.1875 \nQ 55.609375 10.40625 48.1875 4.484375 \nQ 40.765625 -1.421875 27.09375 -1.421875 \nQ 22.515625 -1.421875 17.65625 -0.515625 \nQ 12.796875 0.390625 7.625 2.203125 \nL 7.625 11.71875 \nQ 11.71875 9.328125 16.59375 8.109375 \nQ 21.484375 6.890625 26.8125 6.890625 \nQ 36.078125 6.890625 40.9375 10.546875 \nQ 45.796875 14.203125 45.796875 21.1875 \nQ 45.796875 27.640625 41.28125 31.265625 \nQ 36.765625 34.90625 28.71875 34.90625 \nL 20.21875 34.90625 \nL 20.21875 43.015625 \nL 29.109375 43.015625 \nQ 36.375 43.015625 40.234375 45.921875 \nQ 44.09375 48.828125 44.09375 54.296875 \nQ 44.09375 59.90625 40.109375 62.90625 \nQ 36.140625 65.921875 28.71875 65.921875 \nQ 24.65625 65.921875 20.015625 65.03125 \nQ 15.375 64.15625 9.8125 62.3125 \nL 9.8125 71.09375 \nQ 15.4375 72.65625 20.34375 73.4375 \nQ 25.25 74.21875 29.59375 74.21875 \nQ 40.828125 74.21875 47.359375 69.109375 \nQ 53.90625 64.015625 53.90625 55.328125 \nQ 53.90625 49.265625 50.4375 45.09375 \nQ 46.96875 40.921875 40.578125 39.3125 \nz\n\" id=\"DejaVuSans-51\"/>\n       </defs>\n       <use xlink:href=\"#DejaVuSans-51\"/>\n       <use x=\"63.623047\" xlink:href=\"#DejaVuSans-48\"/>\n       <use x=\"127.246094\" xlink:href=\"#DejaVuSans-48\"/>\n      </g>\n     </g>\n    </g>\n    <g id=\"xtick_8\">\n     <g id=\"line2d_8\">\n      <g>\n       <use style=\"stroke:#000000;stroke-width:0.8;\" x=\"499.171478\" xlink:href=\"#mc139c80b13\" y=\"269.409034\"/>\n      </g>\n     </g>\n     <g id=\"text_8\">\n      <!-- 350 -->\n      <g transform=\"translate(489.627728 284.007472)scale(0.1 -0.1)\">\n       <use xlink:href=\"#DejaVuSans-51\"/>\n       <use x=\"63.623047\" xlink:href=\"#DejaVuSans-53\"/>\n       <use x=\"127.246094\" xlink:href=\"#DejaVuSans-48\"/>\n      </g>\n     </g>\n    </g>\n    <g id=\"xtick_9\">\n     <g id=\"line2d_9\">\n      <g>\n       <use style=\"stroke:#000000;stroke-width:0.8;\" x=\"562.739489\" xlink:href=\"#mc139c80b13\" y=\"269.409034\"/>\n      </g>\n     </g>\n     <g id=\"text_9\">\n      <!-- 400 -->\n      <g transform=\"translate(553.195739 284.007472)scale(0.1 -0.1)\">\n       <defs>\n        <path d=\"M 37.796875 64.3125 \nL 12.890625 25.390625 \nL 37.796875 25.390625 \nz\nM 35.203125 72.90625 \nL 47.609375 72.90625 \nL 47.609375 25.390625 \nL 58.015625 25.390625 \nL 58.015625 17.1875 \nL 47.609375 17.1875 \nL 47.609375 0 \nL 37.796875 0 \nL 37.796875 17.1875 \nL 4.890625 17.1875 \nL 4.890625 26.703125 \nz\n\" id=\"DejaVuSans-52\"/>\n       </defs>\n       <use xlink:href=\"#DejaVuSans-52\"/>\n       <use x=\"63.623047\" xlink:href=\"#DejaVuSans-48\"/>\n       <use x=\"127.246094\" xlink:href=\"#DejaVuSans-48\"/>\n      </g>\n     </g>\n    </g>\n    <g id=\"text_10\">\n     <!-- epochs -->\n     <g transform=\"translate(291.270312 297.685597)scale(0.1 -0.1)\">\n      <defs>\n       <path d=\"M 56.203125 29.59375 \nL 56.203125 25.203125 \nL 14.890625 25.203125 \nQ 15.484375 15.921875 20.484375 11.0625 \nQ 25.484375 6.203125 34.421875 6.203125 \nQ 39.59375 6.203125 44.453125 7.46875 \nQ 49.3125 8.734375 54.109375 11.28125 \nL 54.109375 2.78125 \nQ 49.265625 0.734375 44.1875 -0.34375 \nQ 39.109375 -1.421875 33.890625 -1.421875 \nQ 20.796875 -1.421875 13.15625 6.1875 \nQ 5.515625 13.8125 5.515625 26.8125 \nQ 5.515625 40.234375 12.765625 48.109375 \nQ 20.015625 56 32.328125 56 \nQ 43.359375 56 49.78125 48.890625 \nQ 56.203125 41.796875 56.203125 29.59375 \nz\nM 47.21875 32.234375 \nQ 47.125 39.59375 43.09375 43.984375 \nQ 39.0625 48.390625 32.421875 48.390625 \nQ 24.90625 48.390625 20.390625 44.140625 \nQ 15.875 39.890625 15.1875 32.171875 \nz\n\" id=\"DejaVuSans-101\"/>\n       <path d=\"M 18.109375 8.203125 \nL 18.109375 -20.796875 \nL 9.078125 -20.796875 \nL 9.078125 54.6875 \nL 18.109375 54.6875 \nL 18.109375 46.390625 \nQ 20.953125 51.265625 25.265625 53.625 \nQ 29.59375 56 35.59375 56 \nQ 45.5625 56 51.78125 48.09375 \nQ 58.015625 40.1875 58.015625 27.296875 \nQ 58.015625 14.40625 51.78125 6.484375 \nQ 45.5625 -1.421875 35.59375 -1.421875 \nQ 29.59375 -1.421875 25.265625 0.953125 \nQ 20.953125 3.328125 18.109375 8.203125 \nz\nM 48.6875 27.296875 \nQ 48.6875 37.203125 44.609375 42.84375 \nQ 40.53125 48.484375 33.40625 48.484375 \nQ 26.265625 48.484375 22.1875 42.84375 \nQ 18.109375 37.203125 18.109375 27.296875 \nQ 18.109375 17.390625 22.1875 11.75 \nQ 26.265625 6.109375 33.40625 6.109375 \nQ 40.53125 6.109375 44.609375 11.75 \nQ 48.6875 17.390625 48.6875 27.296875 \nz\n\" id=\"DejaVuSans-112\"/>\n       <path d=\"M 30.609375 48.390625 \nQ 23.390625 48.390625 19.1875 42.75 \nQ 14.984375 37.109375 14.984375 27.296875 \nQ 14.984375 17.484375 19.15625 11.84375 \nQ 23.34375 6.203125 30.609375 6.203125 \nQ 37.796875 6.203125 41.984375 11.859375 \nQ 46.1875 17.53125 46.1875 27.296875 \nQ 46.1875 37.015625 41.984375 42.703125 \nQ 37.796875 48.390625 30.609375 48.390625 \nz\nM 30.609375 56 \nQ 42.328125 56 49.015625 48.375 \nQ 55.71875 40.765625 55.71875 27.296875 \nQ 55.71875 13.875 49.015625 6.21875 \nQ 42.328125 -1.421875 30.609375 -1.421875 \nQ 18.84375 -1.421875 12.171875 6.21875 \nQ 5.515625 13.875 5.515625 27.296875 \nQ 5.515625 40.765625 12.171875 48.375 \nQ 18.84375 56 30.609375 56 \nz\n\" id=\"DejaVuSans-111\"/>\n       <path d=\"M 48.78125 52.59375 \nL 48.78125 44.1875 \nQ 44.96875 46.296875 41.140625 47.34375 \nQ 37.3125 48.390625 33.40625 48.390625 \nQ 24.65625 48.390625 19.8125 42.84375 \nQ 14.984375 37.3125 14.984375 27.296875 \nQ 14.984375 17.28125 19.8125 11.734375 \nQ 24.65625 6.203125 33.40625 6.203125 \nQ 37.3125 6.203125 41.140625 7.25 \nQ 44.96875 8.296875 48.78125 10.40625 \nL 48.78125 2.09375 \nQ 45.015625 0.34375 40.984375 -0.53125 \nQ 36.96875 -1.421875 32.421875 -1.421875 \nQ 20.0625 -1.421875 12.78125 6.34375 \nQ 5.515625 14.109375 5.515625 27.296875 \nQ 5.515625 40.671875 12.859375 48.328125 \nQ 20.21875 56 33.015625 56 \nQ 37.15625 56 41.109375 55.140625 \nQ 45.0625 54.296875 48.78125 52.59375 \nz\n\" id=\"DejaVuSans-99\"/>\n       <path d=\"M 54.890625 33.015625 \nL 54.890625 0 \nL 45.90625 0 \nL 45.90625 32.71875 \nQ 45.90625 40.484375 42.875 44.328125 \nQ 39.84375 48.1875 33.796875 48.1875 \nQ 26.515625 48.1875 22.3125 43.546875 \nQ 18.109375 38.921875 18.109375 30.90625 \nL 18.109375 0 \nL 9.078125 0 \nL 9.078125 75.984375 \nL 18.109375 75.984375 \nL 18.109375 46.1875 \nQ 21.34375 51.125 25.703125 53.5625 \nQ 30.078125 56 35.796875 56 \nQ 45.21875 56 50.046875 50.171875 \nQ 54.890625 44.34375 54.890625 33.015625 \nz\n\" id=\"DejaVuSans-104\"/>\n       <path d=\"M 44.28125 53.078125 \nL 44.28125 44.578125 \nQ 40.484375 46.53125 36.375 47.5 \nQ 32.28125 48.484375 27.875 48.484375 \nQ 21.1875 48.484375 17.84375 46.4375 \nQ 14.5 44.390625 14.5 40.28125 \nQ 14.5 37.15625 16.890625 35.375 \nQ 19.28125 33.59375 26.515625 31.984375 \nL 29.59375 31.296875 \nQ 39.15625 29.25 43.1875 25.515625 \nQ 47.21875 21.78125 47.21875 15.09375 \nQ 47.21875 7.46875 41.1875 3.015625 \nQ 35.15625 -1.421875 24.609375 -1.421875 \nQ 20.21875 -1.421875 15.453125 -0.5625 \nQ 10.6875 0.296875 5.421875 2 \nL 5.421875 11.28125 \nQ 10.40625 8.6875 15.234375 7.390625 \nQ 20.0625 6.109375 24.8125 6.109375 \nQ 31.15625 6.109375 34.5625 8.28125 \nQ 37.984375 10.453125 37.984375 14.40625 \nQ 37.984375 18.0625 35.515625 20.015625 \nQ 33.0625 21.96875 24.703125 23.78125 \nL 21.578125 24.515625 \nQ 13.234375 26.265625 9.515625 29.90625 \nQ 5.8125 33.546875 5.8125 39.890625 \nQ 5.8125 47.609375 11.28125 51.796875 \nQ 16.75 56 26.8125 56 \nQ 31.78125 56 36.171875 55.265625 \nQ 40.578125 54.546875 44.28125 53.078125 \nz\n\" id=\"DejaVuSans-115\"/>\n      </defs>\n      <use xlink:href=\"#DejaVuSans-101\"/>\n      <use x=\"61.523438\" xlink:href=\"#DejaVuSans-112\"/>\n      <use x=\"125\" xlink:href=\"#DejaVuSans-111\"/>\n      <use x=\"186.181641\" xlink:href=\"#DejaVuSans-99\"/>\n      <use x=\"241.162109\" xlink:href=\"#DejaVuSans-104\"/>\n      <use x=\"304.541016\" xlink:href=\"#DejaVuSans-115\"/>\n     </g>\n    </g>\n   </g>\n   <g id=\"matplotlib.axis_2\">\n    <g id=\"ytick_1\">\n     <g id=\"line2d_10\">\n      <defs>\n       <path d=\"M 0 0 \nL -3.5 0 \n\" id=\"m2e218bad5c\" style=\"stroke:#000000;stroke-width:0.8;\"/>\n      </defs>\n      <g>\n       <use style=\"stroke:#000000;stroke-width:0.8;\" x=\"30.103125\" xlink:href=\"#m2e218bad5c\" y=\"222.407467\"/>\n      </g>\n     </g>\n     <g id=\"text_11\">\n      <!-- 0.6 -->\n      <g transform=\"translate(7.2 226.206686)scale(0.1 -0.1)\">\n       <defs>\n        <path d=\"M 10.6875 12.40625 \nL 21 12.40625 \nL 21 0 \nL 10.6875 0 \nz\n\" id=\"DejaVuSans-46\"/>\n        <path d=\"M 33.015625 40.375 \nQ 26.375 40.375 22.484375 35.828125 \nQ 18.609375 31.296875 18.609375 23.390625 \nQ 18.609375 15.53125 22.484375 10.953125 \nQ 26.375 6.390625 33.015625 6.390625 \nQ 39.65625 6.390625 43.53125 10.953125 \nQ 47.40625 15.53125 47.40625 23.390625 \nQ 47.40625 31.296875 43.53125 35.828125 \nQ 39.65625 40.375 33.015625 40.375 \nz\nM 52.59375 71.296875 \nL 52.59375 62.3125 \nQ 48.875 64.0625 45.09375 64.984375 \nQ 41.3125 65.921875 37.59375 65.921875 \nQ 27.828125 65.921875 22.671875 59.328125 \nQ 17.53125 52.734375 16.796875 39.40625 \nQ 19.671875 43.65625 24.015625 45.921875 \nQ 28.375 48.1875 33.59375 48.1875 \nQ 44.578125 48.1875 50.953125 41.515625 \nQ 57.328125 34.859375 57.328125 23.390625 \nQ 57.328125 12.15625 50.6875 5.359375 \nQ 44.046875 -1.421875 33.015625 -1.421875 \nQ 20.359375 -1.421875 13.671875 8.265625 \nQ 6.984375 17.96875 6.984375 36.375 \nQ 6.984375 53.65625 15.1875 63.9375 \nQ 23.390625 74.21875 37.203125 74.21875 \nQ 40.921875 74.21875 44.703125 73.484375 \nQ 48.484375 72.75 52.59375 71.296875 \nz\n\" id=\"DejaVuSans-54\"/>\n       </defs>\n       <use xlink:href=\"#DejaVuSans-48\"/>\n       <use x=\"63.623047\" xlink:href=\"#DejaVuSans-46\"/>\n       <use x=\"95.410156\" xlink:href=\"#DejaVuSans-54\"/>\n      </g>\n     </g>\n    </g>\n    <g id=\"ytick_2\">\n     <g id=\"line2d_11\">\n      <g>\n       <use style=\"stroke:#000000;stroke-width:0.8;\" x=\"30.103125\" xlink:href=\"#m2e218bad5c\" y=\"172.265366\"/>\n      </g>\n     </g>\n     <g id=\"text_12\">\n      <!-- 0.7 -->\n      <g transform=\"translate(7.2 176.064584)scale(0.1 -0.1)\">\n       <defs>\n        <path d=\"M 8.203125 72.90625 \nL 55.078125 72.90625 \nL 55.078125 68.703125 \nL 28.609375 0 \nL 18.3125 0 \nL 43.21875 64.59375 \nL 8.203125 64.59375 \nz\n\" id=\"DejaVuSans-55\"/>\n       </defs>\n       <use xlink:href=\"#DejaVuSans-48\"/>\n       <use x=\"63.623047\" xlink:href=\"#DejaVuSans-46\"/>\n       <use x=\"95.410156\" xlink:href=\"#DejaVuSans-55\"/>\n      </g>\n     </g>\n    </g>\n    <g id=\"ytick_3\">\n     <g id=\"line2d_12\">\n      <g>\n       <use style=\"stroke:#000000;stroke-width:0.8;\" x=\"30.103125\" xlink:href=\"#m2e218bad5c\" y=\"122.123264\"/>\n      </g>\n     </g>\n     <g id=\"text_13\">\n      <!-- 0.8 -->\n      <g transform=\"translate(7.2 125.922483)scale(0.1 -0.1)\">\n       <defs>\n        <path d=\"M 31.78125 34.625 \nQ 24.75 34.625 20.71875 30.859375 \nQ 16.703125 27.09375 16.703125 20.515625 \nQ 16.703125 13.921875 20.71875 10.15625 \nQ 24.75 6.390625 31.78125 6.390625 \nQ 38.8125 6.390625 42.859375 10.171875 \nQ 46.921875 13.96875 46.921875 20.515625 \nQ 46.921875 27.09375 42.890625 30.859375 \nQ 38.875 34.625 31.78125 34.625 \nz\nM 21.921875 38.8125 \nQ 15.578125 40.375 12.03125 44.71875 \nQ 8.5 49.078125 8.5 55.328125 \nQ 8.5 64.0625 14.71875 69.140625 \nQ 20.953125 74.21875 31.78125 74.21875 \nQ 42.671875 74.21875 48.875 69.140625 \nQ 55.078125 64.0625 55.078125 55.328125 \nQ 55.078125 49.078125 51.53125 44.71875 \nQ 48 40.375 41.703125 38.8125 \nQ 48.828125 37.15625 52.796875 32.3125 \nQ 56.78125 27.484375 56.78125 20.515625 \nQ 56.78125 9.90625 50.3125 4.234375 \nQ 43.84375 -1.421875 31.78125 -1.421875 \nQ 19.734375 -1.421875 13.25 4.234375 \nQ 6.78125 9.90625 6.78125 20.515625 \nQ 6.78125 27.484375 10.78125 32.3125 \nQ 14.796875 37.15625 21.921875 38.8125 \nz\nM 18.3125 54.390625 \nQ 18.3125 48.734375 21.84375 45.5625 \nQ 25.390625 42.390625 31.78125 42.390625 \nQ 38.140625 42.390625 41.71875 45.5625 \nQ 45.3125 48.734375 45.3125 54.390625 \nQ 45.3125 60.0625 41.71875 63.234375 \nQ 38.140625 66.40625 31.78125 66.40625 \nQ 25.390625 66.40625 21.84375 63.234375 \nQ 18.3125 60.0625 18.3125 54.390625 \nz\n\" id=\"DejaVuSans-56\"/>\n       </defs>\n       <use xlink:href=\"#DejaVuSans-48\"/>\n       <use x=\"63.623047\" xlink:href=\"#DejaVuSans-46\"/>\n       <use x=\"95.410156\" xlink:href=\"#DejaVuSans-56\"/>\n      </g>\n     </g>\n    </g>\n    <g id=\"ytick_4\">\n     <g id=\"line2d_13\">\n      <g>\n       <use style=\"stroke:#000000;stroke-width:0.8;\" x=\"30.103125\" xlink:href=\"#m2e218bad5c\" y=\"71.981162\"/>\n      </g>\n     </g>\n     <g id=\"text_14\">\n      <!-- 0.9 -->\n      <g transform=\"translate(7.2 75.780381)scale(0.1 -0.1)\">\n       <defs>\n        <path d=\"M 10.984375 1.515625 \nL 10.984375 10.5 \nQ 14.703125 8.734375 18.5 7.8125 \nQ 22.3125 6.890625 25.984375 6.890625 \nQ 35.75 6.890625 40.890625 13.453125 \nQ 46.046875 20.015625 46.78125 33.40625 \nQ 43.953125 29.203125 39.59375 26.953125 \nQ 35.25 24.703125 29.984375 24.703125 \nQ 19.046875 24.703125 12.671875 31.3125 \nQ 6.296875 37.9375 6.296875 49.421875 \nQ 6.296875 60.640625 12.9375 67.421875 \nQ 19.578125 74.21875 30.609375 74.21875 \nQ 43.265625 74.21875 49.921875 64.515625 \nQ 56.59375 54.828125 56.59375 36.375 \nQ 56.59375 19.140625 48.40625 8.859375 \nQ 40.234375 -1.421875 26.421875 -1.421875 \nQ 22.703125 -1.421875 18.890625 -0.6875 \nQ 15.09375 0.046875 10.984375 1.515625 \nz\nM 30.609375 32.421875 \nQ 37.25 32.421875 41.125 36.953125 \nQ 45.015625 41.5 45.015625 49.421875 \nQ 45.015625 57.28125 41.125 61.84375 \nQ 37.25 66.40625 30.609375 66.40625 \nQ 23.96875 66.40625 20.09375 61.84375 \nQ 16.21875 57.28125 16.21875 49.421875 \nQ 16.21875 41.5 20.09375 36.953125 \nQ 23.96875 32.421875 30.609375 32.421875 \nz\n\" id=\"DejaVuSans-57\"/>\n       </defs>\n       <use xlink:href=\"#DejaVuSans-48\"/>\n       <use x=\"63.623047\" xlink:href=\"#DejaVuSans-46\"/>\n       <use x=\"95.410156\" xlink:href=\"#DejaVuSans-57\"/>\n      </g>\n     </g>\n    </g>\n   </g>\n   <g id=\"line2d_14\">\n    <path clip-path=\"url(#p08ce9ca42b)\" d=\"M 55.466761 258.177629 \nL 56.738122 164.493872 \nL 58.009482 124.039523 \nL 59.280842 120.845758 \nL 60.552202 107.006112 \nL 61.823562 100.618583 \nL 63.094923 96.360231 \nL 64.366283 89.972702 \nL 65.637643 74.003879 \nL 66.909003 79.32682 \nL 68.180364 87.843525 \nL 69.451724 72.939291 \nL 70.723084 72.939292 \nL 71.994444 77.197643 \nL 73.265804 66.551762 \nL 74.537165 70.810116 \nL 75.808525 74.003879 \nL 77.079885 74.003879 \nL 78.351245 65.487174 \nL 79.622606 63.357998 \nL 80.893966 77.197643 \nL 82.165326 66.551762 \nL 83.436686 75.068468 \nL 84.708046 61.228822 \nL 85.979407 71.874703 \nL 88.522127 63.357998 \nL 89.793487 62.29341 \nL 91.064847 58.035057 \nL 92.336208 61.228822 \nL 93.607568 60.164234 \nL 94.878928 63.357998 \nL 96.150288 67.616351 \nL 97.421649 60.164233 \nL 98.693009 63.357999 \nL 99.964369 55.905881 \nL 101.235729 58.035057 \nL 102.507089 53.776705 \nL 103.77845 59.099645 \nL 105.04981 63.357998 \nL 106.32117 61.228822 \nL 107.59253 58.035058 \nL 108.863891 64.422586 \nL 110.135251 63.357999 \nL 111.406611 55.905881 \nL 112.677971 66.551762 \nL 113.949331 54.841293 \nL 115.220692 63.357998 \nL 116.492052 64.422586 \nL 119.034772 60.164234 \nL 120.306133 52.712116 \nL 121.577493 60.164234 \nL 122.848853 54.841293 \nL 124.120213 58.035058 \nL 125.391573 58.035057 \nL 126.662934 56.970469 \nL 127.934294 56.970469 \nL 129.205654 60.164234 \nL 130.477014 58.035058 \nL 131.748374 54.841294 \nL 133.019735 55.905882 \nL 134.291095 53.776705 \nL 135.562455 55.905882 \nL 136.833815 62.29341 \nL 138.105176 49.518352 \nL 139.376536 60.164234 \nL 140.647896 58.035058 \nL 141.919256 61.228822 \nL 143.190616 55.905882 \nL 144.461977 56.97047 \nL 145.733337 59.099645 \nL 148.276057 52.712117 \nL 149.547418 56.970469 \nL 150.818778 59.099646 \nL 152.090138 62.29341 \nL 153.361498 53.776705 \nL 154.632858 53.776705 \nL 155.904219 66.551762 \nL 157.175579 63.357999 \nL 158.446939 53.776705 \nL 159.718299 55.905882 \nL 160.98966 56.970469 \nL 162.26102 52.712117 \nL 163.53238 63.357998 \nL 164.80374 46.324588 \nL 167.346461 54.841293 \nL 168.617821 50.582941 \nL 169.889181 54.841293 \nL 171.160541 50.582941 \nL 173.703262 50.582941 \nL 174.974622 52.712117 \nL 176.245982 55.905881 \nL 177.517342 55.905881 \nL 178.788703 50.58294 \nL 180.060063 54.841293 \nL 181.331423 50.58294 \nL 182.602783 56.970469 \nL 183.874143 53.776705 \nL 185.145504 49.518352 \nL 186.416864 53.776705 \nL 187.688224 50.582941 \nL 188.959584 58.035058 \nL 190.230945 49.518353 \nL 191.502305 53.776705 \nL 192.773665 51.647529 \nL 194.045025 59.099646 \nL 195.316385 52.712116 \nL 196.587746 59.099646 \nL 197.859106 49.518353 \nL 199.130466 54.841293 \nL 200.401826 50.582941 \nL 201.673187 50.582941 \nL 202.944547 52.712116 \nL 204.215907 58.035057 \nL 205.487267 49.518353 \nL 206.758627 51.647528 \nL 208.029988 50.58294 \nL 209.301348 54.841293 \nL 210.572708 54.841293 \nL 211.844068 61.228822 \nL 213.115428 52.712117 \nL 215.658149 52.712117 \nL 216.929509 49.518352 \nL 218.200869 51.647529 \nL 220.74359 49.518353 \nL 222.01495 49.518352 \nL 223.28631 56.970469 \nL 224.55767 48.453764 \nL 225.829031 45.26 \nL 227.100391 49.518352 \nL 228.371751 54.841293 \nL 229.643111 52.712117 \nL 230.914472 60.164233 \nL 232.185832 46.324588 \nL 233.457192 56.970469 \nL 234.728552 47.389176 \nL 235.999912 48.453764 \nL 237.271273 48.453764 \nL 238.542633 53.776704 \nL 239.813993 53.776704 \nL 241.085353 47.389176 \nL 242.356714 48.453764 \nL 243.628074 46.324588 \nL 244.899434 48.453764 \nL 246.170794 52.712117 \nL 247.442154 49.518352 \nL 248.713515 48.453764 \nL 249.984875 50.582941 \nL 251.256235 48.453764 \nL 252.527595 53.776705 \nL 253.798955 48.453764 \nL 255.070316 48.453764 \nL 256.341676 50.58294 \nL 258.884396 52.712117 \nL 260.155757 48.453764 \nL 261.427117 51.647528 \nL 262.698477 47.389176 \nL 263.969837 49.518353 \nL 265.241197 46.324588 \nL 266.512558 51.647529 \nL 267.783918 49.518352 \nL 269.055278 51.647529 \nL 270.326638 48.453764 \nL 271.597999 49.518352 \nL 272.869359 53.776705 \nL 274.140719 50.58294 \nL 275.412079 48.453764 \nL 276.683439 49.518352 \nL 277.9548 48.453764 \nL 279.22616 49.518353 \nL 280.49752 46.324588 \nL 281.76888 48.453764 \nL 283.040241 45.26 \nL 284.311601 44.195411 \nL 285.582961 50.582941 \nL 286.854321 49.518352 \nL 288.125681 45.26 \nL 289.397042 51.647529 \nL 290.668402 51.647529 \nL 291.939762 47.389176 \nL 293.211122 49.518352 \nL 294.482482 46.324588 \nL 295.753843 49.518352 \nL 297.025203 47.389176 \nL 298.296563 49.518352 \nL 299.567923 55.905881 \nL 300.839284 48.453764 \nL 302.110644 49.518353 \nL 303.382004 52.712116 \nL 304.653364 42.066235 \nL 305.924724 51.647529 \nL 307.196085 45.26 \nL 308.467445 52.712117 \nL 309.738805 51.647529 \nL 311.010165 43.130824 \nL 312.281526 47.389176 \nL 313.552886 47.389176 \nL 314.824246 51.647528 \nL 317.366966 43.130824 \nL 318.638327 49.518353 \nL 319.909687 45.26 \nL 321.181047 45.26 \nL 322.452407 51.647529 \nL 323.723768 48.453764 \nL 324.995128 47.389176 \nL 326.266488 51.647528 \nL 327.537848 45.26 \nL 328.809208 52.712117 \nL 330.080569 44.195412 \nL 331.351929 51.647529 \nL 332.623289 42.066236 \nL 333.894649 48.453764 \nL 335.166009 44.195412 \nL 336.43737 52.712117 \nL 337.70873 46.324588 \nL 338.98009 41.001647 \nL 340.25145 46.324588 \nL 341.522811 39.937059 \nL 342.794171 47.389176 \nL 345.336891 51.647529 \nL 346.608251 48.453764 \nL 347.879612 47.389176 \nL 349.150972 49.518352 \nL 350.422332 54.841293 \nL 351.693692 47.389176 \nL 352.965053 46.324588 \nL 354.236413 47.389176 \nL 355.507773 46.324588 \nL 356.779133 48.453764 \nL 358.050493 45.26 \nL 359.321854 44.195412 \nL 360.593214 46.324588 \nL 361.864574 42.066236 \nL 363.135934 48.453764 \nL 364.407295 48.453764 \nL 365.678655 50.582941 \nL 366.950015 45.26 \nL 370.764096 45.26 \nL 372.035456 47.389176 \nL 373.306816 48.453764 \nL 374.578176 47.389176 \nL 375.849536 47.389176 \nL 377.120897 42.066235 \nL 378.392257 44.195412 \nL 379.663617 51.647529 \nL 380.934977 45.26 \nL 382.206338 45.26 \nL 383.477698 43.130824 \nL 384.749058 46.324588 \nL 386.020418 45.26 \nL 387.291778 45.26 \nL 388.563139 43.130824 \nL 389.834499 51.647529 \nL 391.105859 49.518353 \nL 392.377219 43.130824 \nL 393.64858 46.324588 \nL 394.91994 44.195412 \nL 396.1913 55.905881 \nL 397.46266 44.195411 \nL 398.73402 47.389176 \nL 400.005381 45.26 \nL 401.276741 46.324588 \nL 402.548101 46.324588 \nL 403.819461 42.066235 \nL 405.090822 43.130824 \nL 406.362182 48.453764 \nL 407.633542 48.453764 \nL 408.904902 39.937059 \nL 410.176262 41.001647 \nL 411.447623 46.324588 \nL 412.718983 48.453764 \nL 415.261703 46.324588 \nL 416.533063 47.389176 \nL 417.804424 47.389176 \nL 419.075784 48.453764 \nL 421.618504 44.195411 \nL 422.889865 46.324588 \nL 424.161225 47.389176 \nL 426.703945 51.647529 \nL 427.975305 44.195411 \nL 429.246666 44.195412 \nL 430.518026 42.066236 \nL 431.789386 45.26 \nL 433.060746 44.195412 \nL 434.332107 41.001647 \nL 435.603467 44.195412 \nL 436.874827 48.453764 \nL 438.146187 44.195411 \nL 439.417547 42.066235 \nL 440.688908 53.776705 \nL 441.960268 48.453764 \nL 443.231628 44.195412 \nL 445.774349 42.066236 \nL 447.045709 46.324587 \nL 448.317069 47.389176 \nL 449.588429 45.26 \nL 450.859789 42.066236 \nL 452.13115 43.130823 \nL 454.67387 49.518352 \nL 455.94523 46.324587 \nL 457.21659 45.259999 \nL 458.487951 46.324588 \nL 459.759311 48.453764 \nL 461.030671 44.195412 \nL 462.302031 42.066235 \nL 463.573392 45.26 \nL 464.844752 37.807883 \nL 466.116112 49.518353 \nL 467.387472 44.195412 \nL 468.658832 45.26 \nL 469.930193 42.066235 \nL 471.201553 48.453764 \nL 472.472913 44.195412 \nL 473.744273 44.195412 \nL 475.015634 47.389176 \nL 476.286994 47.389176 \nL 477.558354 41.001647 \nL 478.829714 41.001647 \nL 480.101074 46.324588 \nL 481.372435 44.195412 \nL 482.643795 46.324588 \nL 483.915155 43.130823 \nL 485.186515 43.130824 \nL 486.457876 42.066235 \nL 487.729236 42.066235 \nL 489.000596 39.937059 \nL 490.271956 45.26 \nL 492.814677 41.001647 \nL 494.086037 43.130824 \nL 495.357397 47.389176 \nL 496.628757 39.937059 \nL 497.900117 42.066236 \nL 500.442838 39.937059 \nL 501.714198 46.324588 \nL 502.985558 45.26 \nL 504.256919 42.066235 \nL 505.528279 39.937059 \nL 506.799639 44.195411 \nL 508.070999 39.937059 \nL 509.342359 47.389176 \nL 510.61372 35.678707 \nL 511.88508 37.807883 \nL 513.15644 49.518352 \nL 515.699161 49.518352 \nL 516.970521 33.54953 \nL 518.241881 49.518352 \nL 519.513241 44.195411 \nL 520.784601 41.001646 \nL 522.055962 48.453764 \nL 523.327322 39.937059 \nL 524.598682 46.324588 \nL 525.870042 44.195411 \nL 527.141403 49.518352 \nL 528.412763 43.130824 \nL 529.684123 38.872471 \nL 530.955483 45.26 \nL 532.226843 48.453764 \nL 533.498204 50.582941 \nL 534.769564 46.324587 \nL 536.040924 45.26 \nL 537.312284 41.001647 \nL 538.583644 38.872471 \nL 539.855005 42.066236 \nL 541.126365 44.195412 \nL 542.397725 45.26 \nL 543.669085 45.26 \nL 544.940446 42.066235 \nL 546.211806 44.195412 \nL 547.483166 38.872471 \nL 548.754526 44.195412 \nL 550.025886 44.195411 \nL 551.297247 42.066235 \nL 552.568607 38.872471 \nL 555.111327 41.001647 \nL 556.382688 37.807883 \nL 557.654048 42.066235 \nL 558.925408 45.26 \nL 560.196768 42.066235 \nL 561.468128 46.324588 \nL 562.739489 42.066235 \nL 562.739489 42.066235 \n\" style=\"fill:none;stroke:#0000ff;stroke-linecap:square;stroke-width:1.5;\"/>\n    <defs>\n     <path d=\"M 0 3 \nC 0.795609 3 1.55874 2.683901 2.12132 2.12132 \nC 2.683901 1.55874 3 0.795609 3 0 \nC 3 -0.795609 2.683901 -1.55874 2.12132 -2.12132 \nC 1.55874 -2.683901 0.795609 -3 0 -3 \nC -0.795609 -3 -1.55874 -2.683901 -2.12132 -2.12132 \nC -2.683901 -1.55874 -3 -0.795609 -3 0 \nC -3 0.795609 -2.683901 1.55874 -2.12132 2.12132 \nC -1.55874 2.683901 -0.795609 3 0 3 \nz\n\" id=\"mde9338e860\" style=\"stroke:#0000ff;\"/>\n    </defs>\n    <g clip-path=\"url(#p08ce9ca42b)\">\n     <use style=\"fill:#0000ff;stroke:#0000ff;\" x=\"55.466761\" xlink:href=\"#mde9338e860\" y=\"258.177629\"/>\n     <use style=\"fill:#0000ff;stroke:#0000ff;\" x=\"56.738122\" xlink:href=\"#mde9338e860\" y=\"164.493872\"/>\n     <use style=\"fill:#0000ff;stroke:#0000ff;\" x=\"58.009482\" xlink:href=\"#mde9338e860\" y=\"124.039523\"/>\n     <use style=\"fill:#0000ff;stroke:#0000ff;\" x=\"59.280842\" xlink:href=\"#mde9338e860\" y=\"120.845758\"/>\n     <use style=\"fill:#0000ff;stroke:#0000ff;\" x=\"60.552202\" xlink:href=\"#mde9338e860\" y=\"107.006112\"/>\n     <use style=\"fill:#0000ff;stroke:#0000ff;\" x=\"61.823562\" xlink:href=\"#mde9338e860\" y=\"100.618583\"/>\n     <use style=\"fill:#0000ff;stroke:#0000ff;\" x=\"63.094923\" xlink:href=\"#mde9338e860\" y=\"96.360231\"/>\n     <use style=\"fill:#0000ff;stroke:#0000ff;\" x=\"64.366283\" xlink:href=\"#mde9338e860\" y=\"89.972702\"/>\n     <use style=\"fill:#0000ff;stroke:#0000ff;\" x=\"65.637643\" xlink:href=\"#mde9338e860\" y=\"74.003879\"/>\n     <use style=\"fill:#0000ff;stroke:#0000ff;\" x=\"66.909003\" xlink:href=\"#mde9338e860\" y=\"79.32682\"/>\n     <use style=\"fill:#0000ff;stroke:#0000ff;\" x=\"68.180364\" xlink:href=\"#mde9338e860\" y=\"87.843525\"/>\n     <use style=\"fill:#0000ff;stroke:#0000ff;\" x=\"69.451724\" xlink:href=\"#mde9338e860\" y=\"72.939291\"/>\n     <use style=\"fill:#0000ff;stroke:#0000ff;\" x=\"70.723084\" xlink:href=\"#mde9338e860\" y=\"72.939292\"/>\n     <use style=\"fill:#0000ff;stroke:#0000ff;\" x=\"71.994444\" xlink:href=\"#mde9338e860\" y=\"77.197643\"/>\n     <use style=\"fill:#0000ff;stroke:#0000ff;\" x=\"73.265804\" xlink:href=\"#mde9338e860\" y=\"66.551762\"/>\n     <use style=\"fill:#0000ff;stroke:#0000ff;\" x=\"74.537165\" xlink:href=\"#mde9338e860\" y=\"70.810116\"/>\n     <use style=\"fill:#0000ff;stroke:#0000ff;\" x=\"75.808525\" xlink:href=\"#mde9338e860\" y=\"74.003879\"/>\n     <use style=\"fill:#0000ff;stroke:#0000ff;\" x=\"77.079885\" xlink:href=\"#mde9338e860\" y=\"74.003879\"/>\n     <use style=\"fill:#0000ff;stroke:#0000ff;\" x=\"78.351245\" xlink:href=\"#mde9338e860\" y=\"65.487174\"/>\n     <use style=\"fill:#0000ff;stroke:#0000ff;\" x=\"79.622606\" xlink:href=\"#mde9338e860\" y=\"63.357998\"/>\n     <use style=\"fill:#0000ff;stroke:#0000ff;\" x=\"80.893966\" xlink:href=\"#mde9338e860\" y=\"77.197643\"/>\n     <use style=\"fill:#0000ff;stroke:#0000ff;\" x=\"82.165326\" xlink:href=\"#mde9338e860\" y=\"66.551762\"/>\n     <use style=\"fill:#0000ff;stroke:#0000ff;\" x=\"83.436686\" xlink:href=\"#mde9338e860\" y=\"75.068468\"/>\n     <use style=\"fill:#0000ff;stroke:#0000ff;\" x=\"84.708046\" xlink:href=\"#mde9338e860\" y=\"61.228822\"/>\n     <use style=\"fill:#0000ff;stroke:#0000ff;\" x=\"85.979407\" xlink:href=\"#mde9338e860\" y=\"71.874703\"/>\n     <use style=\"fill:#0000ff;stroke:#0000ff;\" x=\"87.250767\" xlink:href=\"#mde9338e860\" y=\"67.61635\"/>\n     <use style=\"fill:#0000ff;stroke:#0000ff;\" x=\"88.522127\" xlink:href=\"#mde9338e860\" y=\"63.357998\"/>\n     <use style=\"fill:#0000ff;stroke:#0000ff;\" x=\"89.793487\" xlink:href=\"#mde9338e860\" y=\"62.29341\"/>\n     <use style=\"fill:#0000ff;stroke:#0000ff;\" x=\"91.064847\" xlink:href=\"#mde9338e860\" y=\"58.035057\"/>\n     <use style=\"fill:#0000ff;stroke:#0000ff;\" x=\"92.336208\" xlink:href=\"#mde9338e860\" y=\"61.228822\"/>\n     <use style=\"fill:#0000ff;stroke:#0000ff;\" x=\"93.607568\" xlink:href=\"#mde9338e860\" y=\"60.164234\"/>\n     <use style=\"fill:#0000ff;stroke:#0000ff;\" x=\"94.878928\" xlink:href=\"#mde9338e860\" y=\"63.357998\"/>\n     <use style=\"fill:#0000ff;stroke:#0000ff;\" x=\"96.150288\" xlink:href=\"#mde9338e860\" y=\"67.616351\"/>\n     <use style=\"fill:#0000ff;stroke:#0000ff;\" x=\"97.421649\" xlink:href=\"#mde9338e860\" y=\"60.164233\"/>\n     <use style=\"fill:#0000ff;stroke:#0000ff;\" x=\"98.693009\" xlink:href=\"#mde9338e860\" y=\"63.357999\"/>\n     <use style=\"fill:#0000ff;stroke:#0000ff;\" x=\"99.964369\" xlink:href=\"#mde9338e860\" y=\"55.905881\"/>\n     <use style=\"fill:#0000ff;stroke:#0000ff;\" x=\"101.235729\" xlink:href=\"#mde9338e860\" y=\"58.035057\"/>\n     <use style=\"fill:#0000ff;stroke:#0000ff;\" x=\"102.507089\" xlink:href=\"#mde9338e860\" y=\"53.776705\"/>\n     <use style=\"fill:#0000ff;stroke:#0000ff;\" x=\"103.77845\" xlink:href=\"#mde9338e860\" y=\"59.099645\"/>\n     <use style=\"fill:#0000ff;stroke:#0000ff;\" x=\"105.04981\" xlink:href=\"#mde9338e860\" y=\"63.357998\"/>\n     <use style=\"fill:#0000ff;stroke:#0000ff;\" x=\"106.32117\" xlink:href=\"#mde9338e860\" y=\"61.228822\"/>\n     <use style=\"fill:#0000ff;stroke:#0000ff;\" x=\"107.59253\" xlink:href=\"#mde9338e860\" y=\"58.035058\"/>\n     <use style=\"fill:#0000ff;stroke:#0000ff;\" x=\"108.863891\" xlink:href=\"#mde9338e860\" y=\"64.422586\"/>\n     <use style=\"fill:#0000ff;stroke:#0000ff;\" x=\"110.135251\" xlink:href=\"#mde9338e860\" y=\"63.357999\"/>\n     <use style=\"fill:#0000ff;stroke:#0000ff;\" x=\"111.406611\" xlink:href=\"#mde9338e860\" y=\"55.905881\"/>\n     <use style=\"fill:#0000ff;stroke:#0000ff;\" x=\"112.677971\" xlink:href=\"#mde9338e860\" y=\"66.551762\"/>\n     <use style=\"fill:#0000ff;stroke:#0000ff;\" x=\"113.949331\" xlink:href=\"#mde9338e860\" y=\"54.841293\"/>\n     <use style=\"fill:#0000ff;stroke:#0000ff;\" x=\"115.220692\" xlink:href=\"#mde9338e860\" y=\"63.357998\"/>\n     <use style=\"fill:#0000ff;stroke:#0000ff;\" x=\"116.492052\" xlink:href=\"#mde9338e860\" y=\"64.422586\"/>\n     <use style=\"fill:#0000ff;stroke:#0000ff;\" x=\"117.763412\" xlink:href=\"#mde9338e860\" y=\"62.29341\"/>\n     <use style=\"fill:#0000ff;stroke:#0000ff;\" x=\"119.034772\" xlink:href=\"#mde9338e860\" y=\"60.164234\"/>\n     <use style=\"fill:#0000ff;stroke:#0000ff;\" x=\"120.306133\" xlink:href=\"#mde9338e860\" y=\"52.712116\"/>\n     <use style=\"fill:#0000ff;stroke:#0000ff;\" x=\"121.577493\" xlink:href=\"#mde9338e860\" y=\"60.164234\"/>\n     <use style=\"fill:#0000ff;stroke:#0000ff;\" x=\"122.848853\" xlink:href=\"#mde9338e860\" y=\"54.841293\"/>\n     <use style=\"fill:#0000ff;stroke:#0000ff;\" x=\"124.120213\" xlink:href=\"#mde9338e860\" y=\"58.035058\"/>\n     <use style=\"fill:#0000ff;stroke:#0000ff;\" x=\"125.391573\" xlink:href=\"#mde9338e860\" y=\"58.035057\"/>\n     <use style=\"fill:#0000ff;stroke:#0000ff;\" x=\"126.662934\" xlink:href=\"#mde9338e860\" y=\"56.970469\"/>\n     <use style=\"fill:#0000ff;stroke:#0000ff;\" x=\"127.934294\" xlink:href=\"#mde9338e860\" y=\"56.970469\"/>\n     <use style=\"fill:#0000ff;stroke:#0000ff;\" x=\"129.205654\" xlink:href=\"#mde9338e860\" y=\"60.164234\"/>\n     <use style=\"fill:#0000ff;stroke:#0000ff;\" x=\"130.477014\" xlink:href=\"#mde9338e860\" y=\"58.035058\"/>\n     <use style=\"fill:#0000ff;stroke:#0000ff;\" x=\"131.748374\" xlink:href=\"#mde9338e860\" y=\"54.841294\"/>\n     <use style=\"fill:#0000ff;stroke:#0000ff;\" x=\"133.019735\" xlink:href=\"#mde9338e860\" y=\"55.905882\"/>\n     <use style=\"fill:#0000ff;stroke:#0000ff;\" x=\"134.291095\" xlink:href=\"#mde9338e860\" y=\"53.776705\"/>\n     <use style=\"fill:#0000ff;stroke:#0000ff;\" x=\"135.562455\" xlink:href=\"#mde9338e860\" y=\"55.905882\"/>\n     <use style=\"fill:#0000ff;stroke:#0000ff;\" x=\"136.833815\" xlink:href=\"#mde9338e860\" y=\"62.29341\"/>\n     <use style=\"fill:#0000ff;stroke:#0000ff;\" x=\"138.105176\" xlink:href=\"#mde9338e860\" y=\"49.518352\"/>\n     <use style=\"fill:#0000ff;stroke:#0000ff;\" x=\"139.376536\" xlink:href=\"#mde9338e860\" y=\"60.164234\"/>\n     <use style=\"fill:#0000ff;stroke:#0000ff;\" x=\"140.647896\" xlink:href=\"#mde9338e860\" y=\"58.035058\"/>\n     <use style=\"fill:#0000ff;stroke:#0000ff;\" x=\"141.919256\" xlink:href=\"#mde9338e860\" y=\"61.228822\"/>\n     <use style=\"fill:#0000ff;stroke:#0000ff;\" x=\"143.190616\" xlink:href=\"#mde9338e860\" y=\"55.905882\"/>\n     <use style=\"fill:#0000ff;stroke:#0000ff;\" x=\"144.461977\" xlink:href=\"#mde9338e860\" y=\"56.97047\"/>\n     <use style=\"fill:#0000ff;stroke:#0000ff;\" x=\"145.733337\" xlink:href=\"#mde9338e860\" y=\"59.099645\"/>\n     <use style=\"fill:#0000ff;stroke:#0000ff;\" x=\"147.004697\" xlink:href=\"#mde9338e860\" y=\"55.905881\"/>\n     <use style=\"fill:#0000ff;stroke:#0000ff;\" x=\"148.276057\" xlink:href=\"#mde9338e860\" y=\"52.712117\"/>\n     <use style=\"fill:#0000ff;stroke:#0000ff;\" x=\"149.547418\" xlink:href=\"#mde9338e860\" y=\"56.970469\"/>\n     <use style=\"fill:#0000ff;stroke:#0000ff;\" x=\"150.818778\" xlink:href=\"#mde9338e860\" y=\"59.099646\"/>\n     <use style=\"fill:#0000ff;stroke:#0000ff;\" x=\"152.090138\" xlink:href=\"#mde9338e860\" y=\"62.29341\"/>\n     <use style=\"fill:#0000ff;stroke:#0000ff;\" x=\"153.361498\" xlink:href=\"#mde9338e860\" y=\"53.776705\"/>\n     <use style=\"fill:#0000ff;stroke:#0000ff;\" x=\"154.632858\" xlink:href=\"#mde9338e860\" y=\"53.776705\"/>\n     <use style=\"fill:#0000ff;stroke:#0000ff;\" x=\"155.904219\" xlink:href=\"#mde9338e860\" y=\"66.551762\"/>\n     <use style=\"fill:#0000ff;stroke:#0000ff;\" x=\"157.175579\" xlink:href=\"#mde9338e860\" y=\"63.357999\"/>\n     <use style=\"fill:#0000ff;stroke:#0000ff;\" x=\"158.446939\" xlink:href=\"#mde9338e860\" y=\"53.776705\"/>\n     <use style=\"fill:#0000ff;stroke:#0000ff;\" x=\"159.718299\" xlink:href=\"#mde9338e860\" y=\"55.905882\"/>\n     <use style=\"fill:#0000ff;stroke:#0000ff;\" x=\"160.98966\" xlink:href=\"#mde9338e860\" y=\"56.970469\"/>\n     <use style=\"fill:#0000ff;stroke:#0000ff;\" x=\"162.26102\" xlink:href=\"#mde9338e860\" y=\"52.712117\"/>\n     <use style=\"fill:#0000ff;stroke:#0000ff;\" x=\"163.53238\" xlink:href=\"#mde9338e860\" y=\"63.357998\"/>\n     <use style=\"fill:#0000ff;stroke:#0000ff;\" x=\"164.80374\" xlink:href=\"#mde9338e860\" y=\"46.324588\"/>\n     <use style=\"fill:#0000ff;stroke:#0000ff;\" x=\"166.0751\" xlink:href=\"#mde9338e860\" y=\"50.582941\"/>\n     <use style=\"fill:#0000ff;stroke:#0000ff;\" x=\"167.346461\" xlink:href=\"#mde9338e860\" y=\"54.841293\"/>\n     <use style=\"fill:#0000ff;stroke:#0000ff;\" x=\"168.617821\" xlink:href=\"#mde9338e860\" y=\"50.582941\"/>\n     <use style=\"fill:#0000ff;stroke:#0000ff;\" x=\"169.889181\" xlink:href=\"#mde9338e860\" y=\"54.841293\"/>\n     <use style=\"fill:#0000ff;stroke:#0000ff;\" x=\"171.160541\" xlink:href=\"#mde9338e860\" y=\"50.582941\"/>\n     <use style=\"fill:#0000ff;stroke:#0000ff;\" x=\"172.431901\" xlink:href=\"#mde9338e860\" y=\"50.582941\"/>\n     <use style=\"fill:#0000ff;stroke:#0000ff;\" x=\"173.703262\" xlink:href=\"#mde9338e860\" y=\"50.582941\"/>\n     <use style=\"fill:#0000ff;stroke:#0000ff;\" x=\"174.974622\" xlink:href=\"#mde9338e860\" y=\"52.712117\"/>\n     <use style=\"fill:#0000ff;stroke:#0000ff;\" x=\"176.245982\" xlink:href=\"#mde9338e860\" y=\"55.905881\"/>\n     <use style=\"fill:#0000ff;stroke:#0000ff;\" x=\"177.517342\" xlink:href=\"#mde9338e860\" y=\"55.905881\"/>\n     <use style=\"fill:#0000ff;stroke:#0000ff;\" x=\"178.788703\" xlink:href=\"#mde9338e860\" y=\"50.58294\"/>\n     <use style=\"fill:#0000ff;stroke:#0000ff;\" x=\"180.060063\" xlink:href=\"#mde9338e860\" y=\"54.841293\"/>\n     <use style=\"fill:#0000ff;stroke:#0000ff;\" x=\"181.331423\" xlink:href=\"#mde9338e860\" y=\"50.58294\"/>\n     <use style=\"fill:#0000ff;stroke:#0000ff;\" x=\"182.602783\" xlink:href=\"#mde9338e860\" y=\"56.970469\"/>\n     <use style=\"fill:#0000ff;stroke:#0000ff;\" x=\"183.874143\" xlink:href=\"#mde9338e860\" y=\"53.776705\"/>\n     <use style=\"fill:#0000ff;stroke:#0000ff;\" x=\"185.145504\" xlink:href=\"#mde9338e860\" y=\"49.518352\"/>\n     <use style=\"fill:#0000ff;stroke:#0000ff;\" x=\"186.416864\" xlink:href=\"#mde9338e860\" y=\"53.776705\"/>\n     <use style=\"fill:#0000ff;stroke:#0000ff;\" x=\"187.688224\" xlink:href=\"#mde9338e860\" y=\"50.582941\"/>\n     <use style=\"fill:#0000ff;stroke:#0000ff;\" x=\"188.959584\" xlink:href=\"#mde9338e860\" y=\"58.035058\"/>\n     <use style=\"fill:#0000ff;stroke:#0000ff;\" x=\"190.230945\" xlink:href=\"#mde9338e860\" y=\"49.518353\"/>\n     <use style=\"fill:#0000ff;stroke:#0000ff;\" x=\"191.502305\" xlink:href=\"#mde9338e860\" y=\"53.776705\"/>\n     <use style=\"fill:#0000ff;stroke:#0000ff;\" x=\"192.773665\" xlink:href=\"#mde9338e860\" y=\"51.647529\"/>\n     <use style=\"fill:#0000ff;stroke:#0000ff;\" x=\"194.045025\" xlink:href=\"#mde9338e860\" y=\"59.099646\"/>\n     <use style=\"fill:#0000ff;stroke:#0000ff;\" x=\"195.316385\" xlink:href=\"#mde9338e860\" y=\"52.712116\"/>\n     <use style=\"fill:#0000ff;stroke:#0000ff;\" x=\"196.587746\" xlink:href=\"#mde9338e860\" y=\"59.099646\"/>\n     <use style=\"fill:#0000ff;stroke:#0000ff;\" x=\"197.859106\" xlink:href=\"#mde9338e860\" y=\"49.518353\"/>\n     <use style=\"fill:#0000ff;stroke:#0000ff;\" x=\"199.130466\" xlink:href=\"#mde9338e860\" y=\"54.841293\"/>\n     <use style=\"fill:#0000ff;stroke:#0000ff;\" x=\"200.401826\" xlink:href=\"#mde9338e860\" y=\"50.582941\"/>\n     <use style=\"fill:#0000ff;stroke:#0000ff;\" x=\"201.673187\" xlink:href=\"#mde9338e860\" y=\"50.582941\"/>\n     <use style=\"fill:#0000ff;stroke:#0000ff;\" x=\"202.944547\" xlink:href=\"#mde9338e860\" y=\"52.712116\"/>\n     <use style=\"fill:#0000ff;stroke:#0000ff;\" x=\"204.215907\" xlink:href=\"#mde9338e860\" y=\"58.035057\"/>\n     <use style=\"fill:#0000ff;stroke:#0000ff;\" x=\"205.487267\" xlink:href=\"#mde9338e860\" y=\"49.518353\"/>\n     <use style=\"fill:#0000ff;stroke:#0000ff;\" x=\"206.758627\" xlink:href=\"#mde9338e860\" y=\"51.647528\"/>\n     <use style=\"fill:#0000ff;stroke:#0000ff;\" x=\"208.029988\" xlink:href=\"#mde9338e860\" y=\"50.58294\"/>\n     <use style=\"fill:#0000ff;stroke:#0000ff;\" x=\"209.301348\" xlink:href=\"#mde9338e860\" y=\"54.841293\"/>\n     <use style=\"fill:#0000ff;stroke:#0000ff;\" x=\"210.572708\" xlink:href=\"#mde9338e860\" y=\"54.841293\"/>\n     <use style=\"fill:#0000ff;stroke:#0000ff;\" x=\"211.844068\" xlink:href=\"#mde9338e860\" y=\"61.228822\"/>\n     <use style=\"fill:#0000ff;stroke:#0000ff;\" x=\"213.115428\" xlink:href=\"#mde9338e860\" y=\"52.712117\"/>\n     <use style=\"fill:#0000ff;stroke:#0000ff;\" x=\"214.386789\" xlink:href=\"#mde9338e860\" y=\"52.712117\"/>\n     <use style=\"fill:#0000ff;stroke:#0000ff;\" x=\"215.658149\" xlink:href=\"#mde9338e860\" y=\"52.712117\"/>\n     <use style=\"fill:#0000ff;stroke:#0000ff;\" x=\"216.929509\" xlink:href=\"#mde9338e860\" y=\"49.518352\"/>\n     <use style=\"fill:#0000ff;stroke:#0000ff;\" x=\"218.200869\" xlink:href=\"#mde9338e860\" y=\"51.647529\"/>\n     <use style=\"fill:#0000ff;stroke:#0000ff;\" x=\"219.47223\" xlink:href=\"#mde9338e860\" y=\"50.582941\"/>\n     <use style=\"fill:#0000ff;stroke:#0000ff;\" x=\"220.74359\" xlink:href=\"#mde9338e860\" y=\"49.518353\"/>\n     <use style=\"fill:#0000ff;stroke:#0000ff;\" x=\"222.01495\" xlink:href=\"#mde9338e860\" y=\"49.518352\"/>\n     <use style=\"fill:#0000ff;stroke:#0000ff;\" x=\"223.28631\" xlink:href=\"#mde9338e860\" y=\"56.970469\"/>\n     <use style=\"fill:#0000ff;stroke:#0000ff;\" x=\"224.55767\" xlink:href=\"#mde9338e860\" y=\"48.453764\"/>\n     <use style=\"fill:#0000ff;stroke:#0000ff;\" x=\"225.829031\" xlink:href=\"#mde9338e860\" y=\"45.26\"/>\n     <use style=\"fill:#0000ff;stroke:#0000ff;\" x=\"227.100391\" xlink:href=\"#mde9338e860\" y=\"49.518352\"/>\n     <use style=\"fill:#0000ff;stroke:#0000ff;\" x=\"228.371751\" xlink:href=\"#mde9338e860\" y=\"54.841293\"/>\n     <use style=\"fill:#0000ff;stroke:#0000ff;\" x=\"229.643111\" xlink:href=\"#mde9338e860\" y=\"52.712117\"/>\n     <use style=\"fill:#0000ff;stroke:#0000ff;\" x=\"230.914472\" xlink:href=\"#mde9338e860\" y=\"60.164233\"/>\n     <use style=\"fill:#0000ff;stroke:#0000ff;\" x=\"232.185832\" xlink:href=\"#mde9338e860\" y=\"46.324588\"/>\n     <use style=\"fill:#0000ff;stroke:#0000ff;\" x=\"233.457192\" xlink:href=\"#mde9338e860\" y=\"56.970469\"/>\n     <use style=\"fill:#0000ff;stroke:#0000ff;\" x=\"234.728552\" xlink:href=\"#mde9338e860\" y=\"47.389176\"/>\n     <use style=\"fill:#0000ff;stroke:#0000ff;\" x=\"235.999912\" xlink:href=\"#mde9338e860\" y=\"48.453764\"/>\n     <use style=\"fill:#0000ff;stroke:#0000ff;\" x=\"237.271273\" xlink:href=\"#mde9338e860\" y=\"48.453764\"/>\n     <use style=\"fill:#0000ff;stroke:#0000ff;\" x=\"238.542633\" xlink:href=\"#mde9338e860\" y=\"53.776704\"/>\n     <use style=\"fill:#0000ff;stroke:#0000ff;\" x=\"239.813993\" xlink:href=\"#mde9338e860\" y=\"53.776704\"/>\n     <use style=\"fill:#0000ff;stroke:#0000ff;\" x=\"241.085353\" xlink:href=\"#mde9338e860\" y=\"47.389176\"/>\n     <use style=\"fill:#0000ff;stroke:#0000ff;\" x=\"242.356714\" xlink:href=\"#mde9338e860\" y=\"48.453764\"/>\n     <use style=\"fill:#0000ff;stroke:#0000ff;\" x=\"243.628074\" xlink:href=\"#mde9338e860\" y=\"46.324588\"/>\n     <use style=\"fill:#0000ff;stroke:#0000ff;\" x=\"244.899434\" xlink:href=\"#mde9338e860\" y=\"48.453764\"/>\n     <use style=\"fill:#0000ff;stroke:#0000ff;\" x=\"246.170794\" xlink:href=\"#mde9338e860\" y=\"52.712117\"/>\n     <use style=\"fill:#0000ff;stroke:#0000ff;\" x=\"247.442154\" xlink:href=\"#mde9338e860\" y=\"49.518352\"/>\n     <use style=\"fill:#0000ff;stroke:#0000ff;\" x=\"248.713515\" xlink:href=\"#mde9338e860\" y=\"48.453764\"/>\n     <use style=\"fill:#0000ff;stroke:#0000ff;\" x=\"249.984875\" xlink:href=\"#mde9338e860\" y=\"50.582941\"/>\n     <use style=\"fill:#0000ff;stroke:#0000ff;\" x=\"251.256235\" xlink:href=\"#mde9338e860\" y=\"48.453764\"/>\n     <use style=\"fill:#0000ff;stroke:#0000ff;\" x=\"252.527595\" xlink:href=\"#mde9338e860\" y=\"53.776705\"/>\n     <use style=\"fill:#0000ff;stroke:#0000ff;\" x=\"253.798955\" xlink:href=\"#mde9338e860\" y=\"48.453764\"/>\n     <use style=\"fill:#0000ff;stroke:#0000ff;\" x=\"255.070316\" xlink:href=\"#mde9338e860\" y=\"48.453764\"/>\n     <use style=\"fill:#0000ff;stroke:#0000ff;\" x=\"256.341676\" xlink:href=\"#mde9338e860\" y=\"50.58294\"/>\n     <use style=\"fill:#0000ff;stroke:#0000ff;\" x=\"257.613036\" xlink:href=\"#mde9338e860\" y=\"51.647528\"/>\n     <use style=\"fill:#0000ff;stroke:#0000ff;\" x=\"258.884396\" xlink:href=\"#mde9338e860\" y=\"52.712117\"/>\n     <use style=\"fill:#0000ff;stroke:#0000ff;\" x=\"260.155757\" xlink:href=\"#mde9338e860\" y=\"48.453764\"/>\n     <use style=\"fill:#0000ff;stroke:#0000ff;\" x=\"261.427117\" xlink:href=\"#mde9338e860\" y=\"51.647528\"/>\n     <use style=\"fill:#0000ff;stroke:#0000ff;\" x=\"262.698477\" xlink:href=\"#mde9338e860\" y=\"47.389176\"/>\n     <use style=\"fill:#0000ff;stroke:#0000ff;\" x=\"263.969837\" xlink:href=\"#mde9338e860\" y=\"49.518353\"/>\n     <use style=\"fill:#0000ff;stroke:#0000ff;\" x=\"265.241197\" xlink:href=\"#mde9338e860\" y=\"46.324588\"/>\n     <use style=\"fill:#0000ff;stroke:#0000ff;\" x=\"266.512558\" xlink:href=\"#mde9338e860\" y=\"51.647529\"/>\n     <use style=\"fill:#0000ff;stroke:#0000ff;\" x=\"267.783918\" xlink:href=\"#mde9338e860\" y=\"49.518352\"/>\n     <use style=\"fill:#0000ff;stroke:#0000ff;\" x=\"269.055278\" xlink:href=\"#mde9338e860\" y=\"51.647529\"/>\n     <use style=\"fill:#0000ff;stroke:#0000ff;\" x=\"270.326638\" xlink:href=\"#mde9338e860\" y=\"48.453764\"/>\n     <use style=\"fill:#0000ff;stroke:#0000ff;\" x=\"271.597999\" xlink:href=\"#mde9338e860\" y=\"49.518352\"/>\n     <use style=\"fill:#0000ff;stroke:#0000ff;\" x=\"272.869359\" xlink:href=\"#mde9338e860\" y=\"53.776705\"/>\n     <use style=\"fill:#0000ff;stroke:#0000ff;\" x=\"274.140719\" xlink:href=\"#mde9338e860\" y=\"50.58294\"/>\n     <use style=\"fill:#0000ff;stroke:#0000ff;\" x=\"275.412079\" xlink:href=\"#mde9338e860\" y=\"48.453764\"/>\n     <use style=\"fill:#0000ff;stroke:#0000ff;\" x=\"276.683439\" xlink:href=\"#mde9338e860\" y=\"49.518352\"/>\n     <use style=\"fill:#0000ff;stroke:#0000ff;\" x=\"277.9548\" xlink:href=\"#mde9338e860\" y=\"48.453764\"/>\n     <use style=\"fill:#0000ff;stroke:#0000ff;\" x=\"279.22616\" xlink:href=\"#mde9338e860\" y=\"49.518353\"/>\n     <use style=\"fill:#0000ff;stroke:#0000ff;\" x=\"280.49752\" xlink:href=\"#mde9338e860\" y=\"46.324588\"/>\n     <use style=\"fill:#0000ff;stroke:#0000ff;\" x=\"281.76888\" xlink:href=\"#mde9338e860\" y=\"48.453764\"/>\n     <use style=\"fill:#0000ff;stroke:#0000ff;\" x=\"283.040241\" xlink:href=\"#mde9338e860\" y=\"45.26\"/>\n     <use style=\"fill:#0000ff;stroke:#0000ff;\" x=\"284.311601\" xlink:href=\"#mde9338e860\" y=\"44.195411\"/>\n     <use style=\"fill:#0000ff;stroke:#0000ff;\" x=\"285.582961\" xlink:href=\"#mde9338e860\" y=\"50.582941\"/>\n     <use style=\"fill:#0000ff;stroke:#0000ff;\" x=\"286.854321\" xlink:href=\"#mde9338e860\" y=\"49.518352\"/>\n     <use style=\"fill:#0000ff;stroke:#0000ff;\" x=\"288.125681\" xlink:href=\"#mde9338e860\" y=\"45.26\"/>\n     <use style=\"fill:#0000ff;stroke:#0000ff;\" x=\"289.397042\" xlink:href=\"#mde9338e860\" y=\"51.647529\"/>\n     <use style=\"fill:#0000ff;stroke:#0000ff;\" x=\"290.668402\" xlink:href=\"#mde9338e860\" y=\"51.647529\"/>\n     <use style=\"fill:#0000ff;stroke:#0000ff;\" x=\"291.939762\" xlink:href=\"#mde9338e860\" y=\"47.389176\"/>\n     <use style=\"fill:#0000ff;stroke:#0000ff;\" x=\"293.211122\" xlink:href=\"#mde9338e860\" y=\"49.518352\"/>\n     <use style=\"fill:#0000ff;stroke:#0000ff;\" x=\"294.482482\" xlink:href=\"#mde9338e860\" y=\"46.324588\"/>\n     <use style=\"fill:#0000ff;stroke:#0000ff;\" x=\"295.753843\" xlink:href=\"#mde9338e860\" y=\"49.518352\"/>\n     <use style=\"fill:#0000ff;stroke:#0000ff;\" x=\"297.025203\" xlink:href=\"#mde9338e860\" y=\"47.389176\"/>\n     <use style=\"fill:#0000ff;stroke:#0000ff;\" x=\"298.296563\" xlink:href=\"#mde9338e860\" y=\"49.518352\"/>\n     <use style=\"fill:#0000ff;stroke:#0000ff;\" x=\"299.567923\" xlink:href=\"#mde9338e860\" y=\"55.905881\"/>\n     <use style=\"fill:#0000ff;stroke:#0000ff;\" x=\"300.839284\" xlink:href=\"#mde9338e860\" y=\"48.453764\"/>\n     <use style=\"fill:#0000ff;stroke:#0000ff;\" x=\"302.110644\" xlink:href=\"#mde9338e860\" y=\"49.518353\"/>\n     <use style=\"fill:#0000ff;stroke:#0000ff;\" x=\"303.382004\" xlink:href=\"#mde9338e860\" y=\"52.712116\"/>\n     <use style=\"fill:#0000ff;stroke:#0000ff;\" x=\"304.653364\" xlink:href=\"#mde9338e860\" y=\"42.066235\"/>\n     <use style=\"fill:#0000ff;stroke:#0000ff;\" x=\"305.924724\" xlink:href=\"#mde9338e860\" y=\"51.647529\"/>\n     <use style=\"fill:#0000ff;stroke:#0000ff;\" x=\"307.196085\" xlink:href=\"#mde9338e860\" y=\"45.26\"/>\n     <use style=\"fill:#0000ff;stroke:#0000ff;\" x=\"308.467445\" xlink:href=\"#mde9338e860\" y=\"52.712117\"/>\n     <use style=\"fill:#0000ff;stroke:#0000ff;\" x=\"309.738805\" xlink:href=\"#mde9338e860\" y=\"51.647529\"/>\n     <use style=\"fill:#0000ff;stroke:#0000ff;\" x=\"311.010165\" xlink:href=\"#mde9338e860\" y=\"43.130824\"/>\n     <use style=\"fill:#0000ff;stroke:#0000ff;\" x=\"312.281526\" xlink:href=\"#mde9338e860\" y=\"47.389176\"/>\n     <use style=\"fill:#0000ff;stroke:#0000ff;\" x=\"313.552886\" xlink:href=\"#mde9338e860\" y=\"47.389176\"/>\n     <use style=\"fill:#0000ff;stroke:#0000ff;\" x=\"314.824246\" xlink:href=\"#mde9338e860\" y=\"51.647528\"/>\n     <use style=\"fill:#0000ff;stroke:#0000ff;\" x=\"316.095606\" xlink:href=\"#mde9338e860\" y=\"47.389176\"/>\n     <use style=\"fill:#0000ff;stroke:#0000ff;\" x=\"317.366966\" xlink:href=\"#mde9338e860\" y=\"43.130824\"/>\n     <use style=\"fill:#0000ff;stroke:#0000ff;\" x=\"318.638327\" xlink:href=\"#mde9338e860\" y=\"49.518353\"/>\n     <use style=\"fill:#0000ff;stroke:#0000ff;\" x=\"319.909687\" xlink:href=\"#mde9338e860\" y=\"45.26\"/>\n     <use style=\"fill:#0000ff;stroke:#0000ff;\" x=\"321.181047\" xlink:href=\"#mde9338e860\" y=\"45.26\"/>\n     <use style=\"fill:#0000ff;stroke:#0000ff;\" x=\"322.452407\" xlink:href=\"#mde9338e860\" y=\"51.647529\"/>\n     <use style=\"fill:#0000ff;stroke:#0000ff;\" x=\"323.723768\" xlink:href=\"#mde9338e860\" y=\"48.453764\"/>\n     <use style=\"fill:#0000ff;stroke:#0000ff;\" x=\"324.995128\" xlink:href=\"#mde9338e860\" y=\"47.389176\"/>\n     <use style=\"fill:#0000ff;stroke:#0000ff;\" x=\"326.266488\" xlink:href=\"#mde9338e860\" y=\"51.647528\"/>\n     <use style=\"fill:#0000ff;stroke:#0000ff;\" x=\"327.537848\" xlink:href=\"#mde9338e860\" y=\"45.26\"/>\n     <use style=\"fill:#0000ff;stroke:#0000ff;\" x=\"328.809208\" xlink:href=\"#mde9338e860\" y=\"52.712117\"/>\n     <use style=\"fill:#0000ff;stroke:#0000ff;\" x=\"330.080569\" xlink:href=\"#mde9338e860\" y=\"44.195412\"/>\n     <use style=\"fill:#0000ff;stroke:#0000ff;\" x=\"331.351929\" xlink:href=\"#mde9338e860\" y=\"51.647529\"/>\n     <use style=\"fill:#0000ff;stroke:#0000ff;\" x=\"332.623289\" xlink:href=\"#mde9338e860\" y=\"42.066236\"/>\n     <use style=\"fill:#0000ff;stroke:#0000ff;\" x=\"333.894649\" xlink:href=\"#mde9338e860\" y=\"48.453764\"/>\n     <use style=\"fill:#0000ff;stroke:#0000ff;\" x=\"335.166009\" xlink:href=\"#mde9338e860\" y=\"44.195412\"/>\n     <use style=\"fill:#0000ff;stroke:#0000ff;\" x=\"336.43737\" xlink:href=\"#mde9338e860\" y=\"52.712117\"/>\n     <use style=\"fill:#0000ff;stroke:#0000ff;\" x=\"337.70873\" xlink:href=\"#mde9338e860\" y=\"46.324588\"/>\n     <use style=\"fill:#0000ff;stroke:#0000ff;\" x=\"338.98009\" xlink:href=\"#mde9338e860\" y=\"41.001647\"/>\n     <use style=\"fill:#0000ff;stroke:#0000ff;\" x=\"340.25145\" xlink:href=\"#mde9338e860\" y=\"46.324588\"/>\n     <use style=\"fill:#0000ff;stroke:#0000ff;\" x=\"341.522811\" xlink:href=\"#mde9338e860\" y=\"39.937059\"/>\n     <use style=\"fill:#0000ff;stroke:#0000ff;\" x=\"342.794171\" xlink:href=\"#mde9338e860\" y=\"47.389176\"/>\n     <use style=\"fill:#0000ff;stroke:#0000ff;\" x=\"344.065531\" xlink:href=\"#mde9338e860\" y=\"49.518352\"/>\n     <use style=\"fill:#0000ff;stroke:#0000ff;\" x=\"345.336891\" xlink:href=\"#mde9338e860\" y=\"51.647529\"/>\n     <use style=\"fill:#0000ff;stroke:#0000ff;\" x=\"346.608251\" xlink:href=\"#mde9338e860\" y=\"48.453764\"/>\n     <use style=\"fill:#0000ff;stroke:#0000ff;\" x=\"347.879612\" xlink:href=\"#mde9338e860\" y=\"47.389176\"/>\n     <use style=\"fill:#0000ff;stroke:#0000ff;\" x=\"349.150972\" xlink:href=\"#mde9338e860\" y=\"49.518352\"/>\n     <use style=\"fill:#0000ff;stroke:#0000ff;\" x=\"350.422332\" xlink:href=\"#mde9338e860\" y=\"54.841293\"/>\n     <use style=\"fill:#0000ff;stroke:#0000ff;\" x=\"351.693692\" xlink:href=\"#mde9338e860\" y=\"47.389176\"/>\n     <use style=\"fill:#0000ff;stroke:#0000ff;\" x=\"352.965053\" xlink:href=\"#mde9338e860\" y=\"46.324588\"/>\n     <use style=\"fill:#0000ff;stroke:#0000ff;\" x=\"354.236413\" xlink:href=\"#mde9338e860\" y=\"47.389176\"/>\n     <use style=\"fill:#0000ff;stroke:#0000ff;\" x=\"355.507773\" xlink:href=\"#mde9338e860\" y=\"46.324588\"/>\n     <use style=\"fill:#0000ff;stroke:#0000ff;\" x=\"356.779133\" xlink:href=\"#mde9338e860\" y=\"48.453764\"/>\n     <use style=\"fill:#0000ff;stroke:#0000ff;\" x=\"358.050493\" xlink:href=\"#mde9338e860\" y=\"45.26\"/>\n     <use style=\"fill:#0000ff;stroke:#0000ff;\" x=\"359.321854\" xlink:href=\"#mde9338e860\" y=\"44.195412\"/>\n     <use style=\"fill:#0000ff;stroke:#0000ff;\" x=\"360.593214\" xlink:href=\"#mde9338e860\" y=\"46.324588\"/>\n     <use style=\"fill:#0000ff;stroke:#0000ff;\" x=\"361.864574\" xlink:href=\"#mde9338e860\" y=\"42.066236\"/>\n     <use style=\"fill:#0000ff;stroke:#0000ff;\" x=\"363.135934\" xlink:href=\"#mde9338e860\" y=\"48.453764\"/>\n     <use style=\"fill:#0000ff;stroke:#0000ff;\" x=\"364.407295\" xlink:href=\"#mde9338e860\" y=\"48.453764\"/>\n     <use style=\"fill:#0000ff;stroke:#0000ff;\" x=\"365.678655\" xlink:href=\"#mde9338e860\" y=\"50.582941\"/>\n     <use style=\"fill:#0000ff;stroke:#0000ff;\" x=\"366.950015\" xlink:href=\"#mde9338e860\" y=\"45.26\"/>\n     <use style=\"fill:#0000ff;stroke:#0000ff;\" x=\"368.221375\" xlink:href=\"#mde9338e860\" y=\"45.26\"/>\n     <use style=\"fill:#0000ff;stroke:#0000ff;\" x=\"369.492735\" xlink:href=\"#mde9338e860\" y=\"45.26\"/>\n     <use style=\"fill:#0000ff;stroke:#0000ff;\" x=\"370.764096\" xlink:href=\"#mde9338e860\" y=\"45.26\"/>\n     <use style=\"fill:#0000ff;stroke:#0000ff;\" x=\"372.035456\" xlink:href=\"#mde9338e860\" y=\"47.389176\"/>\n     <use style=\"fill:#0000ff;stroke:#0000ff;\" x=\"373.306816\" xlink:href=\"#mde9338e860\" y=\"48.453764\"/>\n     <use style=\"fill:#0000ff;stroke:#0000ff;\" x=\"374.578176\" xlink:href=\"#mde9338e860\" y=\"47.389176\"/>\n     <use style=\"fill:#0000ff;stroke:#0000ff;\" x=\"375.849536\" xlink:href=\"#mde9338e860\" y=\"47.389176\"/>\n     <use style=\"fill:#0000ff;stroke:#0000ff;\" x=\"377.120897\" xlink:href=\"#mde9338e860\" y=\"42.066235\"/>\n     <use style=\"fill:#0000ff;stroke:#0000ff;\" x=\"378.392257\" xlink:href=\"#mde9338e860\" y=\"44.195412\"/>\n     <use style=\"fill:#0000ff;stroke:#0000ff;\" x=\"379.663617\" xlink:href=\"#mde9338e860\" y=\"51.647529\"/>\n     <use style=\"fill:#0000ff;stroke:#0000ff;\" x=\"380.934977\" xlink:href=\"#mde9338e860\" y=\"45.26\"/>\n     <use style=\"fill:#0000ff;stroke:#0000ff;\" x=\"382.206338\" xlink:href=\"#mde9338e860\" y=\"45.26\"/>\n     <use style=\"fill:#0000ff;stroke:#0000ff;\" x=\"383.477698\" xlink:href=\"#mde9338e860\" y=\"43.130824\"/>\n     <use style=\"fill:#0000ff;stroke:#0000ff;\" x=\"384.749058\" xlink:href=\"#mde9338e860\" y=\"46.324588\"/>\n     <use style=\"fill:#0000ff;stroke:#0000ff;\" x=\"386.020418\" xlink:href=\"#mde9338e860\" y=\"45.26\"/>\n     <use style=\"fill:#0000ff;stroke:#0000ff;\" x=\"387.291778\" xlink:href=\"#mde9338e860\" y=\"45.26\"/>\n     <use style=\"fill:#0000ff;stroke:#0000ff;\" x=\"388.563139\" xlink:href=\"#mde9338e860\" y=\"43.130824\"/>\n     <use style=\"fill:#0000ff;stroke:#0000ff;\" x=\"389.834499\" xlink:href=\"#mde9338e860\" y=\"51.647529\"/>\n     <use style=\"fill:#0000ff;stroke:#0000ff;\" x=\"391.105859\" xlink:href=\"#mde9338e860\" y=\"49.518353\"/>\n     <use style=\"fill:#0000ff;stroke:#0000ff;\" x=\"392.377219\" xlink:href=\"#mde9338e860\" y=\"43.130824\"/>\n     <use style=\"fill:#0000ff;stroke:#0000ff;\" x=\"393.64858\" xlink:href=\"#mde9338e860\" y=\"46.324588\"/>\n     <use style=\"fill:#0000ff;stroke:#0000ff;\" x=\"394.91994\" xlink:href=\"#mde9338e860\" y=\"44.195412\"/>\n     <use style=\"fill:#0000ff;stroke:#0000ff;\" x=\"396.1913\" xlink:href=\"#mde9338e860\" y=\"55.905881\"/>\n     <use style=\"fill:#0000ff;stroke:#0000ff;\" x=\"397.46266\" xlink:href=\"#mde9338e860\" y=\"44.195411\"/>\n     <use style=\"fill:#0000ff;stroke:#0000ff;\" x=\"398.73402\" xlink:href=\"#mde9338e860\" y=\"47.389176\"/>\n     <use style=\"fill:#0000ff;stroke:#0000ff;\" x=\"400.005381\" xlink:href=\"#mde9338e860\" y=\"45.26\"/>\n     <use style=\"fill:#0000ff;stroke:#0000ff;\" x=\"401.276741\" xlink:href=\"#mde9338e860\" y=\"46.324588\"/>\n     <use style=\"fill:#0000ff;stroke:#0000ff;\" x=\"402.548101\" xlink:href=\"#mde9338e860\" y=\"46.324588\"/>\n     <use style=\"fill:#0000ff;stroke:#0000ff;\" x=\"403.819461\" xlink:href=\"#mde9338e860\" y=\"42.066235\"/>\n     <use style=\"fill:#0000ff;stroke:#0000ff;\" x=\"405.090822\" xlink:href=\"#mde9338e860\" y=\"43.130824\"/>\n     <use style=\"fill:#0000ff;stroke:#0000ff;\" x=\"406.362182\" xlink:href=\"#mde9338e860\" y=\"48.453764\"/>\n     <use style=\"fill:#0000ff;stroke:#0000ff;\" x=\"407.633542\" xlink:href=\"#mde9338e860\" y=\"48.453764\"/>\n     <use style=\"fill:#0000ff;stroke:#0000ff;\" x=\"408.904902\" xlink:href=\"#mde9338e860\" y=\"39.937059\"/>\n     <use style=\"fill:#0000ff;stroke:#0000ff;\" x=\"410.176262\" xlink:href=\"#mde9338e860\" y=\"41.001647\"/>\n     <use style=\"fill:#0000ff;stroke:#0000ff;\" x=\"411.447623\" xlink:href=\"#mde9338e860\" y=\"46.324588\"/>\n     <use style=\"fill:#0000ff;stroke:#0000ff;\" x=\"412.718983\" xlink:href=\"#mde9338e860\" y=\"48.453764\"/>\n     <use style=\"fill:#0000ff;stroke:#0000ff;\" x=\"413.990343\" xlink:href=\"#mde9338e860\" y=\"47.389176\"/>\n     <use style=\"fill:#0000ff;stroke:#0000ff;\" x=\"415.261703\" xlink:href=\"#mde9338e860\" y=\"46.324588\"/>\n     <use style=\"fill:#0000ff;stroke:#0000ff;\" x=\"416.533063\" xlink:href=\"#mde9338e860\" y=\"47.389176\"/>\n     <use style=\"fill:#0000ff;stroke:#0000ff;\" x=\"417.804424\" xlink:href=\"#mde9338e860\" y=\"47.389176\"/>\n     <use style=\"fill:#0000ff;stroke:#0000ff;\" x=\"419.075784\" xlink:href=\"#mde9338e860\" y=\"48.453764\"/>\n     <use style=\"fill:#0000ff;stroke:#0000ff;\" x=\"420.347144\" xlink:href=\"#mde9338e860\" y=\"46.324588\"/>\n     <use style=\"fill:#0000ff;stroke:#0000ff;\" x=\"421.618504\" xlink:href=\"#mde9338e860\" y=\"44.195411\"/>\n     <use style=\"fill:#0000ff;stroke:#0000ff;\" x=\"422.889865\" xlink:href=\"#mde9338e860\" y=\"46.324588\"/>\n     <use style=\"fill:#0000ff;stroke:#0000ff;\" x=\"424.161225\" xlink:href=\"#mde9338e860\" y=\"47.389176\"/>\n     <use style=\"fill:#0000ff;stroke:#0000ff;\" x=\"425.432585\" xlink:href=\"#mde9338e860\" y=\"49.518352\"/>\n     <use style=\"fill:#0000ff;stroke:#0000ff;\" x=\"426.703945\" xlink:href=\"#mde9338e860\" y=\"51.647529\"/>\n     <use style=\"fill:#0000ff;stroke:#0000ff;\" x=\"427.975305\" xlink:href=\"#mde9338e860\" y=\"44.195411\"/>\n     <use style=\"fill:#0000ff;stroke:#0000ff;\" x=\"429.246666\" xlink:href=\"#mde9338e860\" y=\"44.195412\"/>\n     <use style=\"fill:#0000ff;stroke:#0000ff;\" x=\"430.518026\" xlink:href=\"#mde9338e860\" y=\"42.066236\"/>\n     <use style=\"fill:#0000ff;stroke:#0000ff;\" x=\"431.789386\" xlink:href=\"#mde9338e860\" y=\"45.26\"/>\n     <use style=\"fill:#0000ff;stroke:#0000ff;\" x=\"433.060746\" xlink:href=\"#mde9338e860\" y=\"44.195412\"/>\n     <use style=\"fill:#0000ff;stroke:#0000ff;\" x=\"434.332107\" xlink:href=\"#mde9338e860\" y=\"41.001647\"/>\n     <use style=\"fill:#0000ff;stroke:#0000ff;\" x=\"435.603467\" xlink:href=\"#mde9338e860\" y=\"44.195412\"/>\n     <use style=\"fill:#0000ff;stroke:#0000ff;\" x=\"436.874827\" xlink:href=\"#mde9338e860\" y=\"48.453764\"/>\n     <use style=\"fill:#0000ff;stroke:#0000ff;\" x=\"438.146187\" xlink:href=\"#mde9338e860\" y=\"44.195411\"/>\n     <use style=\"fill:#0000ff;stroke:#0000ff;\" x=\"439.417547\" xlink:href=\"#mde9338e860\" y=\"42.066235\"/>\n     <use style=\"fill:#0000ff;stroke:#0000ff;\" x=\"440.688908\" xlink:href=\"#mde9338e860\" y=\"53.776705\"/>\n     <use style=\"fill:#0000ff;stroke:#0000ff;\" x=\"441.960268\" xlink:href=\"#mde9338e860\" y=\"48.453764\"/>\n     <use style=\"fill:#0000ff;stroke:#0000ff;\" x=\"443.231628\" xlink:href=\"#mde9338e860\" y=\"44.195412\"/>\n     <use style=\"fill:#0000ff;stroke:#0000ff;\" x=\"444.502988\" xlink:href=\"#mde9338e860\" y=\"43.130824\"/>\n     <use style=\"fill:#0000ff;stroke:#0000ff;\" x=\"445.774349\" xlink:href=\"#mde9338e860\" y=\"42.066236\"/>\n     <use style=\"fill:#0000ff;stroke:#0000ff;\" x=\"447.045709\" xlink:href=\"#mde9338e860\" y=\"46.324587\"/>\n     <use style=\"fill:#0000ff;stroke:#0000ff;\" x=\"448.317069\" xlink:href=\"#mde9338e860\" y=\"47.389176\"/>\n     <use style=\"fill:#0000ff;stroke:#0000ff;\" x=\"449.588429\" xlink:href=\"#mde9338e860\" y=\"45.26\"/>\n     <use style=\"fill:#0000ff;stroke:#0000ff;\" x=\"450.859789\" xlink:href=\"#mde9338e860\" y=\"42.066236\"/>\n     <use style=\"fill:#0000ff;stroke:#0000ff;\" x=\"452.13115\" xlink:href=\"#mde9338e860\" y=\"43.130823\"/>\n     <use style=\"fill:#0000ff;stroke:#0000ff;\" x=\"453.40251\" xlink:href=\"#mde9338e860\" y=\"46.324588\"/>\n     <use style=\"fill:#0000ff;stroke:#0000ff;\" x=\"454.67387\" xlink:href=\"#mde9338e860\" y=\"49.518352\"/>\n     <use style=\"fill:#0000ff;stroke:#0000ff;\" x=\"455.94523\" xlink:href=\"#mde9338e860\" y=\"46.324587\"/>\n     <use style=\"fill:#0000ff;stroke:#0000ff;\" x=\"457.21659\" xlink:href=\"#mde9338e860\" y=\"45.259999\"/>\n     <use style=\"fill:#0000ff;stroke:#0000ff;\" x=\"458.487951\" xlink:href=\"#mde9338e860\" y=\"46.324588\"/>\n     <use style=\"fill:#0000ff;stroke:#0000ff;\" x=\"459.759311\" xlink:href=\"#mde9338e860\" y=\"48.453764\"/>\n     <use style=\"fill:#0000ff;stroke:#0000ff;\" x=\"461.030671\" xlink:href=\"#mde9338e860\" y=\"44.195412\"/>\n     <use style=\"fill:#0000ff;stroke:#0000ff;\" x=\"462.302031\" xlink:href=\"#mde9338e860\" y=\"42.066235\"/>\n     <use style=\"fill:#0000ff;stroke:#0000ff;\" x=\"463.573392\" xlink:href=\"#mde9338e860\" y=\"45.26\"/>\n     <use style=\"fill:#0000ff;stroke:#0000ff;\" x=\"464.844752\" xlink:href=\"#mde9338e860\" y=\"37.807883\"/>\n     <use style=\"fill:#0000ff;stroke:#0000ff;\" x=\"466.116112\" xlink:href=\"#mde9338e860\" y=\"49.518353\"/>\n     <use style=\"fill:#0000ff;stroke:#0000ff;\" x=\"467.387472\" xlink:href=\"#mde9338e860\" y=\"44.195412\"/>\n     <use style=\"fill:#0000ff;stroke:#0000ff;\" x=\"468.658832\" xlink:href=\"#mde9338e860\" y=\"45.26\"/>\n     <use style=\"fill:#0000ff;stroke:#0000ff;\" x=\"469.930193\" xlink:href=\"#mde9338e860\" y=\"42.066235\"/>\n     <use style=\"fill:#0000ff;stroke:#0000ff;\" x=\"471.201553\" xlink:href=\"#mde9338e860\" y=\"48.453764\"/>\n     <use style=\"fill:#0000ff;stroke:#0000ff;\" x=\"472.472913\" xlink:href=\"#mde9338e860\" y=\"44.195412\"/>\n     <use style=\"fill:#0000ff;stroke:#0000ff;\" x=\"473.744273\" xlink:href=\"#mde9338e860\" y=\"44.195412\"/>\n     <use style=\"fill:#0000ff;stroke:#0000ff;\" x=\"475.015634\" xlink:href=\"#mde9338e860\" y=\"47.389176\"/>\n     <use style=\"fill:#0000ff;stroke:#0000ff;\" x=\"476.286994\" xlink:href=\"#mde9338e860\" y=\"47.389176\"/>\n     <use style=\"fill:#0000ff;stroke:#0000ff;\" x=\"477.558354\" xlink:href=\"#mde9338e860\" y=\"41.001647\"/>\n     <use style=\"fill:#0000ff;stroke:#0000ff;\" x=\"478.829714\" xlink:href=\"#mde9338e860\" y=\"41.001647\"/>\n     <use style=\"fill:#0000ff;stroke:#0000ff;\" x=\"480.101074\" xlink:href=\"#mde9338e860\" y=\"46.324588\"/>\n     <use style=\"fill:#0000ff;stroke:#0000ff;\" x=\"481.372435\" xlink:href=\"#mde9338e860\" y=\"44.195412\"/>\n     <use style=\"fill:#0000ff;stroke:#0000ff;\" x=\"482.643795\" xlink:href=\"#mde9338e860\" y=\"46.324588\"/>\n     <use style=\"fill:#0000ff;stroke:#0000ff;\" x=\"483.915155\" xlink:href=\"#mde9338e860\" y=\"43.130823\"/>\n     <use style=\"fill:#0000ff;stroke:#0000ff;\" x=\"485.186515\" xlink:href=\"#mde9338e860\" y=\"43.130824\"/>\n     <use style=\"fill:#0000ff;stroke:#0000ff;\" x=\"486.457876\" xlink:href=\"#mde9338e860\" y=\"42.066235\"/>\n     <use style=\"fill:#0000ff;stroke:#0000ff;\" x=\"487.729236\" xlink:href=\"#mde9338e860\" y=\"42.066235\"/>\n     <use style=\"fill:#0000ff;stroke:#0000ff;\" x=\"489.000596\" xlink:href=\"#mde9338e860\" y=\"39.937059\"/>\n     <use style=\"fill:#0000ff;stroke:#0000ff;\" x=\"490.271956\" xlink:href=\"#mde9338e860\" y=\"45.26\"/>\n     <use style=\"fill:#0000ff;stroke:#0000ff;\" x=\"491.543316\" xlink:href=\"#mde9338e860\" y=\"43.130823\"/>\n     <use style=\"fill:#0000ff;stroke:#0000ff;\" x=\"492.814677\" xlink:href=\"#mde9338e860\" y=\"41.001647\"/>\n     <use style=\"fill:#0000ff;stroke:#0000ff;\" x=\"494.086037\" xlink:href=\"#mde9338e860\" y=\"43.130824\"/>\n     <use style=\"fill:#0000ff;stroke:#0000ff;\" x=\"495.357397\" xlink:href=\"#mde9338e860\" y=\"47.389176\"/>\n     <use style=\"fill:#0000ff;stroke:#0000ff;\" x=\"496.628757\" xlink:href=\"#mde9338e860\" y=\"39.937059\"/>\n     <use style=\"fill:#0000ff;stroke:#0000ff;\" x=\"497.900117\" xlink:href=\"#mde9338e860\" y=\"42.066236\"/>\n     <use style=\"fill:#0000ff;stroke:#0000ff;\" x=\"499.171478\" xlink:href=\"#mde9338e860\" y=\"41.001647\"/>\n     <use style=\"fill:#0000ff;stroke:#0000ff;\" x=\"500.442838\" xlink:href=\"#mde9338e860\" y=\"39.937059\"/>\n     <use style=\"fill:#0000ff;stroke:#0000ff;\" x=\"501.714198\" xlink:href=\"#mde9338e860\" y=\"46.324588\"/>\n     <use style=\"fill:#0000ff;stroke:#0000ff;\" x=\"502.985558\" xlink:href=\"#mde9338e860\" y=\"45.26\"/>\n     <use style=\"fill:#0000ff;stroke:#0000ff;\" x=\"504.256919\" xlink:href=\"#mde9338e860\" y=\"42.066235\"/>\n     <use style=\"fill:#0000ff;stroke:#0000ff;\" x=\"505.528279\" xlink:href=\"#mde9338e860\" y=\"39.937059\"/>\n     <use style=\"fill:#0000ff;stroke:#0000ff;\" x=\"506.799639\" xlink:href=\"#mde9338e860\" y=\"44.195411\"/>\n     <use style=\"fill:#0000ff;stroke:#0000ff;\" x=\"508.070999\" xlink:href=\"#mde9338e860\" y=\"39.937059\"/>\n     <use style=\"fill:#0000ff;stroke:#0000ff;\" x=\"509.342359\" xlink:href=\"#mde9338e860\" y=\"47.389176\"/>\n     <use style=\"fill:#0000ff;stroke:#0000ff;\" x=\"510.61372\" xlink:href=\"#mde9338e860\" y=\"35.678707\"/>\n     <use style=\"fill:#0000ff;stroke:#0000ff;\" x=\"511.88508\" xlink:href=\"#mde9338e860\" y=\"37.807883\"/>\n     <use style=\"fill:#0000ff;stroke:#0000ff;\" x=\"513.15644\" xlink:href=\"#mde9338e860\" y=\"49.518352\"/>\n     <use style=\"fill:#0000ff;stroke:#0000ff;\" x=\"514.4278\" xlink:href=\"#mde9338e860\" y=\"49.518352\"/>\n     <use style=\"fill:#0000ff;stroke:#0000ff;\" x=\"515.699161\" xlink:href=\"#mde9338e860\" y=\"49.518352\"/>\n     <use style=\"fill:#0000ff;stroke:#0000ff;\" x=\"516.970521\" xlink:href=\"#mde9338e860\" y=\"33.54953\"/>\n     <use style=\"fill:#0000ff;stroke:#0000ff;\" x=\"518.241881\" xlink:href=\"#mde9338e860\" y=\"49.518352\"/>\n     <use style=\"fill:#0000ff;stroke:#0000ff;\" x=\"519.513241\" xlink:href=\"#mde9338e860\" y=\"44.195411\"/>\n     <use style=\"fill:#0000ff;stroke:#0000ff;\" x=\"520.784601\" xlink:href=\"#mde9338e860\" y=\"41.001646\"/>\n     <use style=\"fill:#0000ff;stroke:#0000ff;\" x=\"522.055962\" xlink:href=\"#mde9338e860\" y=\"48.453764\"/>\n     <use style=\"fill:#0000ff;stroke:#0000ff;\" x=\"523.327322\" xlink:href=\"#mde9338e860\" y=\"39.937059\"/>\n     <use style=\"fill:#0000ff;stroke:#0000ff;\" x=\"524.598682\" xlink:href=\"#mde9338e860\" y=\"46.324588\"/>\n     <use style=\"fill:#0000ff;stroke:#0000ff;\" x=\"525.870042\" xlink:href=\"#mde9338e860\" y=\"44.195411\"/>\n     <use style=\"fill:#0000ff;stroke:#0000ff;\" x=\"527.141403\" xlink:href=\"#mde9338e860\" y=\"49.518352\"/>\n     <use style=\"fill:#0000ff;stroke:#0000ff;\" x=\"528.412763\" xlink:href=\"#mde9338e860\" y=\"43.130824\"/>\n     <use style=\"fill:#0000ff;stroke:#0000ff;\" x=\"529.684123\" xlink:href=\"#mde9338e860\" y=\"38.872471\"/>\n     <use style=\"fill:#0000ff;stroke:#0000ff;\" x=\"530.955483\" xlink:href=\"#mde9338e860\" y=\"45.26\"/>\n     <use style=\"fill:#0000ff;stroke:#0000ff;\" x=\"532.226843\" xlink:href=\"#mde9338e860\" y=\"48.453764\"/>\n     <use style=\"fill:#0000ff;stroke:#0000ff;\" x=\"533.498204\" xlink:href=\"#mde9338e860\" y=\"50.582941\"/>\n     <use style=\"fill:#0000ff;stroke:#0000ff;\" x=\"534.769564\" xlink:href=\"#mde9338e860\" y=\"46.324587\"/>\n     <use style=\"fill:#0000ff;stroke:#0000ff;\" x=\"536.040924\" xlink:href=\"#mde9338e860\" y=\"45.26\"/>\n     <use style=\"fill:#0000ff;stroke:#0000ff;\" x=\"537.312284\" xlink:href=\"#mde9338e860\" y=\"41.001647\"/>\n     <use style=\"fill:#0000ff;stroke:#0000ff;\" x=\"538.583644\" xlink:href=\"#mde9338e860\" y=\"38.872471\"/>\n     <use style=\"fill:#0000ff;stroke:#0000ff;\" x=\"539.855005\" xlink:href=\"#mde9338e860\" y=\"42.066236\"/>\n     <use style=\"fill:#0000ff;stroke:#0000ff;\" x=\"541.126365\" xlink:href=\"#mde9338e860\" y=\"44.195412\"/>\n     <use style=\"fill:#0000ff;stroke:#0000ff;\" x=\"542.397725\" xlink:href=\"#mde9338e860\" y=\"45.26\"/>\n     <use style=\"fill:#0000ff;stroke:#0000ff;\" x=\"543.669085\" xlink:href=\"#mde9338e860\" y=\"45.26\"/>\n     <use style=\"fill:#0000ff;stroke:#0000ff;\" x=\"544.940446\" xlink:href=\"#mde9338e860\" y=\"42.066235\"/>\n     <use style=\"fill:#0000ff;stroke:#0000ff;\" x=\"546.211806\" xlink:href=\"#mde9338e860\" y=\"44.195412\"/>\n     <use style=\"fill:#0000ff;stroke:#0000ff;\" x=\"547.483166\" xlink:href=\"#mde9338e860\" y=\"38.872471\"/>\n     <use style=\"fill:#0000ff;stroke:#0000ff;\" x=\"548.754526\" xlink:href=\"#mde9338e860\" y=\"44.195412\"/>\n     <use style=\"fill:#0000ff;stroke:#0000ff;\" x=\"550.025886\" xlink:href=\"#mde9338e860\" y=\"44.195411\"/>\n     <use style=\"fill:#0000ff;stroke:#0000ff;\" x=\"551.297247\" xlink:href=\"#mde9338e860\" y=\"42.066235\"/>\n     <use style=\"fill:#0000ff;stroke:#0000ff;\" x=\"552.568607\" xlink:href=\"#mde9338e860\" y=\"38.872471\"/>\n     <use style=\"fill:#0000ff;stroke:#0000ff;\" x=\"553.839967\" xlink:href=\"#mde9338e860\" y=\"39.937059\"/>\n     <use style=\"fill:#0000ff;stroke:#0000ff;\" x=\"555.111327\" xlink:href=\"#mde9338e860\" y=\"41.001647\"/>\n     <use style=\"fill:#0000ff;stroke:#0000ff;\" x=\"556.382688\" xlink:href=\"#mde9338e860\" y=\"37.807883\"/>\n     <use style=\"fill:#0000ff;stroke:#0000ff;\" x=\"557.654048\" xlink:href=\"#mde9338e860\" y=\"42.066235\"/>\n     <use style=\"fill:#0000ff;stroke:#0000ff;\" x=\"558.925408\" xlink:href=\"#mde9338e860\" y=\"45.26\"/>\n     <use style=\"fill:#0000ff;stroke:#0000ff;\" x=\"560.196768\" xlink:href=\"#mde9338e860\" y=\"42.066235\"/>\n     <use style=\"fill:#0000ff;stroke:#0000ff;\" x=\"561.468128\" xlink:href=\"#mde9338e860\" y=\"46.324588\"/>\n     <use style=\"fill:#0000ff;stroke:#0000ff;\" x=\"562.739489\" xlink:href=\"#mde9338e860\" y=\"42.066235\"/>\n    </g>\n   </g>\n   <g id=\"line2d_15\">\n    <path clip-path=\"url(#p08ce9ca42b)\" d=\"M 55.466761 163.329149 \nL 56.738122 153.400021 \nL 58.009482 111.201222 \nL 59.280842 76.44927 \nL 60.552202 61.555576 \nL 63.094923 46.661883 \nL 64.366283 49.144165 \nL 65.637643 46.661883 \nL 66.909003 46.661883 \nL 68.180364 44.179601 \nL 70.723084 49.144166 \nL 74.537165 41.697319 \nL 75.808525 41.697319 \nL 77.079885 39.215037 \nL 78.351245 46.661883 \nL 82.165326 39.215037 \nL 83.436686 46.661883 \nL 84.708046 44.179601 \nL 87.250767 44.179601 \nL 88.522127 46.661883 \nL 89.793487 46.661883 \nL 91.064847 41.697319 \nL 93.607568 41.697319 \nL 94.878928 44.179601 \nL 97.421649 39.215037 \nL 98.693009 44.179601 \nL 99.964369 44.179601 \nL 102.507089 39.215037 \nL 103.77845 39.215037 \nL 105.04981 46.661883 \nL 106.32117 41.697319 \nL 107.59253 44.179601 \nL 108.863891 41.697319 \nL 110.135251 44.179601 \nL 111.406611 41.697319 \nL 112.677971 44.179601 \nL 113.949331 41.697319 \nL 115.220692 44.179601 \nL 116.492052 41.697319 \nL 117.763412 41.697319 \nL 121.577493 49.144166 \nL 122.848853 41.697319 \nL 124.120213 44.179601 \nL 125.391573 41.697319 \nL 129.205654 41.697319 \nL 130.477014 46.661883 \nL 131.748374 44.179601 \nL 133.019735 44.179601 \nL 134.291095 41.697319 \nL 135.562455 41.697319 \nL 136.833815 44.179601 \nL 138.105176 41.697319 \nL 139.376536 44.179601 \nL 140.647896 41.697319 \nL 141.919256 46.661883 \nL 143.190616 46.661883 \nL 145.733337 41.697319 \nL 148.276057 46.661883 \nL 149.547418 46.661883 \nL 152.090138 41.697319 \nL 153.361498 46.661883 \nL 154.632858 41.697319 \nL 157.175579 41.697319 \nL 158.446939 46.661883 \nL 162.26102 46.661883 \nL 163.53238 41.697319 \nL 164.80374 46.661883 \nL 166.0751 44.179601 \nL 167.346461 46.661883 \nL 168.617821 46.661883 \nL 169.889181 41.697319 \nL 171.160541 41.697319 \nL 172.431901 44.179601 \nL 174.974622 44.179601 \nL 176.245982 46.661883 \nL 177.517342 41.697319 \nL 182.602783 41.697319 \nL 183.874143 46.661883 \nL 185.145504 49.144166 \nL 186.416864 46.661883 \nL 187.688224 49.144166 \nL 188.959584 46.661883 \nL 190.230945 41.697319 \nL 197.859106 41.697319 \nL 199.130466 44.179601 \nL 200.401826 44.179601 \nL 201.673187 41.697319 \nL 204.215907 41.697319 \nL 205.487267 39.215037 \nL 208.029988 39.215037 \nL 210.572708 44.179601 \nL 211.844068 41.697319 \nL 213.115428 44.179601 \nL 215.658149 39.215037 \nL 218.200869 44.179601 \nL 219.47223 41.697319 \nL 222.01495 41.697319 \nL 223.28631 44.179601 \nL 227.100391 44.179601 \nL 228.371751 41.697319 \nL 229.643111 44.179601 \nL 230.914472 41.697319 \nL 232.185832 41.697319 \nL 233.457192 39.215037 \nL 234.728552 44.179601 \nL 235.999912 41.697319 \nL 237.271273 41.697319 \nL 238.542633 44.179601 \nL 244.899434 44.179601 \nL 246.170794 41.697319 \nL 247.442154 36.732754 \nL 248.713515 41.697319 \nL 249.984875 41.697319 \nL 252.527595 46.661883 \nL 253.798955 41.697319 \nL 255.070316 39.215037 \nL 256.341676 39.215037 \nL 257.613036 41.697319 \nL 258.884396 39.215037 \nL 260.155757 41.697319 \nL 261.427117 41.697319 \nL 262.698477 39.215037 \nL 263.969837 39.215037 \nL 265.241197 41.697319 \nL 269.055278 41.697319 \nL 270.326638 39.215037 \nL 271.597999 39.215037 \nL 272.869359 44.179601 \nL 274.140719 46.661883 \nL 275.412079 44.179601 \nL 276.683439 44.179601 \nL 277.9548 49.144166 \nL 279.22616 44.179601 \nL 280.49752 44.179601 \nL 281.76888 41.697319 \nL 283.040241 41.697319 \nL 284.311601 39.215037 \nL 286.854321 49.144166 \nL 288.125681 44.179601 \nL 289.397042 41.697319 \nL 290.668402 44.179601 \nL 291.939762 41.697319 \nL 293.211122 44.179601 \nL 294.482482 44.179601 \nL 295.753843 46.661883 \nL 297.025203 46.661883 \nL 299.567923 41.697319 \nL 300.839284 44.179601 \nL 302.110644 44.179601 \nL 303.382004 46.661883 \nL 305.924724 46.661883 \nL 307.196085 41.697319 \nL 308.467445 44.179601 \nL 309.738805 41.697319 \nL 311.010165 44.179601 \nL 313.552886 44.179601 \nL 314.824246 46.661883 \nL 316.095606 41.697319 \nL 317.366966 44.179601 \nL 319.909687 44.179601 \nL 321.181047 46.661883 \nL 322.452407 46.661883 \nL 323.723768 41.697319 \nL 324.995128 41.697319 \nL 326.266488 46.661883 \nL 328.809208 46.661883 \nL 330.080569 41.697319 \nL 331.351929 41.697319 \nL 332.623289 44.179601 \nL 333.894649 41.697319 \nL 336.43737 46.661883 \nL 338.98009 46.661883 \nL 340.25145 44.179601 \nL 342.794171 44.179601 \nL 344.065531 46.661883 \nL 346.608251 41.697319 \nL 347.879612 51.626448 \nL 349.150972 44.179601 \nL 350.422332 49.144166 \nL 352.965053 49.144166 \nL 354.236413 46.661883 \nL 355.507773 46.661883 \nL 356.779133 44.179601 \nL 358.050493 46.661883 \nL 363.135934 46.661883 \nL 364.407295 44.179601 \nL 365.678655 46.661883 \nL 366.950015 46.661883 \nL 368.221375 44.179601 \nL 369.492735 44.179601 \nL 373.306816 51.626448 \nL 374.578176 44.179601 \nL 375.849536 46.661883 \nL 377.120897 44.179601 \nL 378.392257 44.179601 \nL 379.663617 46.661883 \nL 380.934977 44.179601 \nL 382.206338 44.179601 \nL 383.477698 49.144166 \nL 384.749058 44.179601 \nL 387.291778 44.179601 \nL 388.563139 46.661883 \nL 389.834499 46.661883 \nL 391.105859 44.179601 \nL 392.377219 46.661883 \nL 393.64858 44.179601 \nL 394.91994 49.144166 \nL 396.1913 41.697319 \nL 397.46266 41.697319 \nL 398.73402 49.144166 \nL 400.005381 49.144166 \nL 401.276741 41.697319 \nL 402.548101 44.179601 \nL 406.362182 44.179601 \nL 407.633542 49.144166 \nL 408.904902 44.179601 \nL 410.176262 44.179601 \nL 411.447623 46.661883 \nL 413.990343 41.697319 \nL 415.261703 46.661883 \nL 416.533063 46.661883 \nL 417.804424 44.179601 \nL 419.075784 46.661883 \nL 420.347144 46.661883 \nL 421.618504 49.144166 \nL 422.889865 46.661883 \nL 424.161225 49.144166 \nL 425.432585 49.144166 \nL 426.703945 44.179601 \nL 427.975305 46.661883 \nL 429.246666 44.179601 \nL 430.518026 46.661883 \nL 431.789386 51.626448 \nL 433.060746 44.179601 \nL 440.688908 44.179601 \nL 443.231628 49.144166 \nL 447.045709 49.144166 \nL 448.317069 44.179601 \nL 449.588429 46.661883 \nL 453.40251 46.661883 \nL 455.94523 51.626448 \nL 457.21659 51.626448 \nL 458.487951 54.10873 \nL 459.759311 49.144166 \nL 461.030671 51.626448 \nL 463.573392 51.626448 \nL 464.844752 49.144166 \nL 468.658832 49.144166 \nL 469.930193 51.626448 \nL 471.201553 51.626448 \nL 472.472913 44.179601 \nL 473.744273 44.179601 \nL 475.015634 51.626448 \nL 476.286994 54.10873 \nL 477.558354 54.10873 \nL 478.829714 46.661883 \nL 481.372435 51.626448 \nL 483.915155 51.626448 \nL 485.186515 49.144166 \nL 487.729236 49.144166 \nL 489.000596 51.626448 \nL 490.271956 46.661883 \nL 491.543316 49.144166 \nL 492.814677 49.144166 \nL 494.086037 54.10873 \nL 495.357397 49.144166 \nL 496.628757 51.626448 \nL 497.900117 46.661883 \nL 499.171478 54.10873 \nL 502.985558 46.661883 \nL 506.799639 46.661883 \nL 508.070999 49.144166 \nL 509.342359 49.144166 \nL 510.61372 51.626448 \nL 511.88508 56.591012 \nL 513.15644 54.10873 \nL 514.4278 49.144166 \nL 515.699161 51.626448 \nL 518.241881 51.626448 \nL 519.513241 49.144166 \nL 520.784601 51.626448 \nL 522.055962 49.144166 \nL 525.870042 49.144166 \nL 527.141403 51.626448 \nL 528.412763 51.626448 \nL 530.955483 46.661883 \nL 532.226843 41.697319 \nL 536.040924 49.144166 \nL 537.312284 41.697319 \nL 538.583644 44.179601 \nL 539.855005 44.179601 \nL 541.126365 46.661883 \nL 542.397725 44.179601 \nL 543.669085 46.661883 \nL 544.940446 51.626448 \nL 546.211806 46.661883 \nL 547.483166 51.626448 \nL 548.754526 46.661883 \nL 550.025886 49.144166 \nL 551.297247 46.661883 \nL 552.568607 49.144166 \nL 553.839967 46.661883 \nL 555.111327 46.661883 \nL 556.382688 44.179601 \nL 557.654048 44.179601 \nL 558.925408 46.661883 \nL 560.196768 46.661883 \nL 561.468128 49.144166 \nL 562.739489 46.661883 \nL 562.739489 46.661883 \n\" style=\"fill:none;stroke:#ff0000;stroke-linecap:square;stroke-width:1.5;\"/>\n    <defs>\n     <path d=\"M 0 3 \nC 0.795609 3 1.55874 2.683901 2.12132 2.12132 \nC 2.683901 1.55874 3 0.795609 3 0 \nC 3 -0.795609 2.683901 -1.55874 2.12132 -2.12132 \nC 1.55874 -2.683901 0.795609 -3 0 -3 \nC -0.795609 -3 -1.55874 -2.683901 -2.12132 -2.12132 \nC -2.683901 -1.55874 -3 -0.795609 -3 0 \nC -3 0.795609 -2.683901 1.55874 -2.12132 2.12132 \nC -1.55874 2.683901 -0.795609 3 0 3 \nz\n\" id=\"mde85425dd2\" style=\"stroke:#ff0000;\"/>\n    </defs>\n    <g clip-path=\"url(#p08ce9ca42b)\">\n     <use style=\"fill:#ff0000;stroke:#ff0000;\" x=\"55.466761\" xlink:href=\"#mde85425dd2\" y=\"163.329149\"/>\n     <use style=\"fill:#ff0000;stroke:#ff0000;\" x=\"56.738122\" xlink:href=\"#mde85425dd2\" y=\"153.400021\"/>\n     <use style=\"fill:#ff0000;stroke:#ff0000;\" x=\"58.009482\" xlink:href=\"#mde85425dd2\" y=\"111.201222\"/>\n     <use style=\"fill:#ff0000;stroke:#ff0000;\" x=\"59.280842\" xlink:href=\"#mde85425dd2\" y=\"76.44927\"/>\n     <use style=\"fill:#ff0000;stroke:#ff0000;\" x=\"60.552202\" xlink:href=\"#mde85425dd2\" y=\"61.555576\"/>\n     <use style=\"fill:#ff0000;stroke:#ff0000;\" x=\"61.823562\" xlink:href=\"#mde85425dd2\" y=\"54.108729\"/>\n     <use style=\"fill:#ff0000;stroke:#ff0000;\" x=\"63.094923\" xlink:href=\"#mde85425dd2\" y=\"46.661883\"/>\n     <use style=\"fill:#ff0000;stroke:#ff0000;\" x=\"64.366283\" xlink:href=\"#mde85425dd2\" y=\"49.144165\"/>\n     <use style=\"fill:#ff0000;stroke:#ff0000;\" x=\"65.637643\" xlink:href=\"#mde85425dd2\" y=\"46.661883\"/>\n     <use style=\"fill:#ff0000;stroke:#ff0000;\" x=\"66.909003\" xlink:href=\"#mde85425dd2\" y=\"46.661883\"/>\n     <use style=\"fill:#ff0000;stroke:#ff0000;\" x=\"68.180364\" xlink:href=\"#mde85425dd2\" y=\"44.179601\"/>\n     <use style=\"fill:#ff0000;stroke:#ff0000;\" x=\"69.451724\" xlink:href=\"#mde85425dd2\" y=\"46.661883\"/>\n     <use style=\"fill:#ff0000;stroke:#ff0000;\" x=\"70.723084\" xlink:href=\"#mde85425dd2\" y=\"49.144166\"/>\n     <use style=\"fill:#ff0000;stroke:#ff0000;\" x=\"71.994444\" xlink:href=\"#mde85425dd2\" y=\"46.661883\"/>\n     <use style=\"fill:#ff0000;stroke:#ff0000;\" x=\"73.265804\" xlink:href=\"#mde85425dd2\" y=\"44.179601\"/>\n     <use style=\"fill:#ff0000;stroke:#ff0000;\" x=\"74.537165\" xlink:href=\"#mde85425dd2\" y=\"41.697319\"/>\n     <use style=\"fill:#ff0000;stroke:#ff0000;\" x=\"75.808525\" xlink:href=\"#mde85425dd2\" y=\"41.697319\"/>\n     <use style=\"fill:#ff0000;stroke:#ff0000;\" x=\"77.079885\" xlink:href=\"#mde85425dd2\" y=\"39.215037\"/>\n     <use style=\"fill:#ff0000;stroke:#ff0000;\" x=\"78.351245\" xlink:href=\"#mde85425dd2\" y=\"46.661883\"/>\n     <use style=\"fill:#ff0000;stroke:#ff0000;\" x=\"79.622606\" xlink:href=\"#mde85425dd2\" y=\"44.179601\"/>\n     <use style=\"fill:#ff0000;stroke:#ff0000;\" x=\"80.893966\" xlink:href=\"#mde85425dd2\" y=\"41.697319\"/>\n     <use style=\"fill:#ff0000;stroke:#ff0000;\" x=\"82.165326\" xlink:href=\"#mde85425dd2\" y=\"39.215037\"/>\n     <use style=\"fill:#ff0000;stroke:#ff0000;\" x=\"83.436686\" xlink:href=\"#mde85425dd2\" y=\"46.661883\"/>\n     <use style=\"fill:#ff0000;stroke:#ff0000;\" x=\"84.708046\" xlink:href=\"#mde85425dd2\" y=\"44.179601\"/>\n     <use style=\"fill:#ff0000;stroke:#ff0000;\" x=\"85.979407\" xlink:href=\"#mde85425dd2\" y=\"44.179601\"/>\n     <use style=\"fill:#ff0000;stroke:#ff0000;\" x=\"87.250767\" xlink:href=\"#mde85425dd2\" y=\"44.179601\"/>\n     <use style=\"fill:#ff0000;stroke:#ff0000;\" x=\"88.522127\" xlink:href=\"#mde85425dd2\" y=\"46.661883\"/>\n     <use style=\"fill:#ff0000;stroke:#ff0000;\" x=\"89.793487\" xlink:href=\"#mde85425dd2\" y=\"46.661883\"/>\n     <use style=\"fill:#ff0000;stroke:#ff0000;\" x=\"91.064847\" xlink:href=\"#mde85425dd2\" y=\"41.697319\"/>\n     <use style=\"fill:#ff0000;stroke:#ff0000;\" x=\"92.336208\" xlink:href=\"#mde85425dd2\" y=\"41.697319\"/>\n     <use style=\"fill:#ff0000;stroke:#ff0000;\" x=\"93.607568\" xlink:href=\"#mde85425dd2\" y=\"41.697319\"/>\n     <use style=\"fill:#ff0000;stroke:#ff0000;\" x=\"94.878928\" xlink:href=\"#mde85425dd2\" y=\"44.179601\"/>\n     <use style=\"fill:#ff0000;stroke:#ff0000;\" x=\"96.150288\" xlink:href=\"#mde85425dd2\" y=\"41.697319\"/>\n     <use style=\"fill:#ff0000;stroke:#ff0000;\" x=\"97.421649\" xlink:href=\"#mde85425dd2\" y=\"39.215037\"/>\n     <use style=\"fill:#ff0000;stroke:#ff0000;\" x=\"98.693009\" xlink:href=\"#mde85425dd2\" y=\"44.179601\"/>\n     <use style=\"fill:#ff0000;stroke:#ff0000;\" x=\"99.964369\" xlink:href=\"#mde85425dd2\" y=\"44.179601\"/>\n     <use style=\"fill:#ff0000;stroke:#ff0000;\" x=\"101.235729\" xlink:href=\"#mde85425dd2\" y=\"41.697319\"/>\n     <use style=\"fill:#ff0000;stroke:#ff0000;\" x=\"102.507089\" xlink:href=\"#mde85425dd2\" y=\"39.215037\"/>\n     <use style=\"fill:#ff0000;stroke:#ff0000;\" x=\"103.77845\" xlink:href=\"#mde85425dd2\" y=\"39.215037\"/>\n     <use style=\"fill:#ff0000;stroke:#ff0000;\" x=\"105.04981\" xlink:href=\"#mde85425dd2\" y=\"46.661883\"/>\n     <use style=\"fill:#ff0000;stroke:#ff0000;\" x=\"106.32117\" xlink:href=\"#mde85425dd2\" y=\"41.697319\"/>\n     <use style=\"fill:#ff0000;stroke:#ff0000;\" x=\"107.59253\" xlink:href=\"#mde85425dd2\" y=\"44.179601\"/>\n     <use style=\"fill:#ff0000;stroke:#ff0000;\" x=\"108.863891\" xlink:href=\"#mde85425dd2\" y=\"41.697319\"/>\n     <use style=\"fill:#ff0000;stroke:#ff0000;\" x=\"110.135251\" xlink:href=\"#mde85425dd2\" y=\"44.179601\"/>\n     <use style=\"fill:#ff0000;stroke:#ff0000;\" x=\"111.406611\" xlink:href=\"#mde85425dd2\" y=\"41.697319\"/>\n     <use style=\"fill:#ff0000;stroke:#ff0000;\" x=\"112.677971\" xlink:href=\"#mde85425dd2\" y=\"44.179601\"/>\n     <use style=\"fill:#ff0000;stroke:#ff0000;\" x=\"113.949331\" xlink:href=\"#mde85425dd2\" y=\"41.697319\"/>\n     <use style=\"fill:#ff0000;stroke:#ff0000;\" x=\"115.220692\" xlink:href=\"#mde85425dd2\" y=\"44.179601\"/>\n     <use style=\"fill:#ff0000;stroke:#ff0000;\" x=\"116.492052\" xlink:href=\"#mde85425dd2\" y=\"41.697319\"/>\n     <use style=\"fill:#ff0000;stroke:#ff0000;\" x=\"117.763412\" xlink:href=\"#mde85425dd2\" y=\"41.697319\"/>\n     <use style=\"fill:#ff0000;stroke:#ff0000;\" x=\"119.034772\" xlink:href=\"#mde85425dd2\" y=\"44.179601\"/>\n     <use style=\"fill:#ff0000;stroke:#ff0000;\" x=\"120.306133\" xlink:href=\"#mde85425dd2\" y=\"46.661883\"/>\n     <use style=\"fill:#ff0000;stroke:#ff0000;\" x=\"121.577493\" xlink:href=\"#mde85425dd2\" y=\"49.144166\"/>\n     <use style=\"fill:#ff0000;stroke:#ff0000;\" x=\"122.848853\" xlink:href=\"#mde85425dd2\" y=\"41.697319\"/>\n     <use style=\"fill:#ff0000;stroke:#ff0000;\" x=\"124.120213\" xlink:href=\"#mde85425dd2\" y=\"44.179601\"/>\n     <use style=\"fill:#ff0000;stroke:#ff0000;\" x=\"125.391573\" xlink:href=\"#mde85425dd2\" y=\"41.697319\"/>\n     <use style=\"fill:#ff0000;stroke:#ff0000;\" x=\"126.662934\" xlink:href=\"#mde85425dd2\" y=\"41.697319\"/>\n     <use style=\"fill:#ff0000;stroke:#ff0000;\" x=\"127.934294\" xlink:href=\"#mde85425dd2\" y=\"41.697319\"/>\n     <use style=\"fill:#ff0000;stroke:#ff0000;\" x=\"129.205654\" xlink:href=\"#mde85425dd2\" y=\"41.697319\"/>\n     <use style=\"fill:#ff0000;stroke:#ff0000;\" x=\"130.477014\" xlink:href=\"#mde85425dd2\" y=\"46.661883\"/>\n     <use style=\"fill:#ff0000;stroke:#ff0000;\" x=\"131.748374\" xlink:href=\"#mde85425dd2\" y=\"44.179601\"/>\n     <use style=\"fill:#ff0000;stroke:#ff0000;\" x=\"133.019735\" xlink:href=\"#mde85425dd2\" y=\"44.179601\"/>\n     <use style=\"fill:#ff0000;stroke:#ff0000;\" x=\"134.291095\" xlink:href=\"#mde85425dd2\" y=\"41.697319\"/>\n     <use style=\"fill:#ff0000;stroke:#ff0000;\" x=\"135.562455\" xlink:href=\"#mde85425dd2\" y=\"41.697319\"/>\n     <use style=\"fill:#ff0000;stroke:#ff0000;\" x=\"136.833815\" xlink:href=\"#mde85425dd2\" y=\"44.179601\"/>\n     <use style=\"fill:#ff0000;stroke:#ff0000;\" x=\"138.105176\" xlink:href=\"#mde85425dd2\" y=\"41.697319\"/>\n     <use style=\"fill:#ff0000;stroke:#ff0000;\" x=\"139.376536\" xlink:href=\"#mde85425dd2\" y=\"44.179601\"/>\n     <use style=\"fill:#ff0000;stroke:#ff0000;\" x=\"140.647896\" xlink:href=\"#mde85425dd2\" y=\"41.697319\"/>\n     <use style=\"fill:#ff0000;stroke:#ff0000;\" x=\"141.919256\" xlink:href=\"#mde85425dd2\" y=\"46.661883\"/>\n     <use style=\"fill:#ff0000;stroke:#ff0000;\" x=\"143.190616\" xlink:href=\"#mde85425dd2\" y=\"46.661883\"/>\n     <use style=\"fill:#ff0000;stroke:#ff0000;\" x=\"144.461977\" xlink:href=\"#mde85425dd2\" y=\"44.179601\"/>\n     <use style=\"fill:#ff0000;stroke:#ff0000;\" x=\"145.733337\" xlink:href=\"#mde85425dd2\" y=\"41.697319\"/>\n     <use style=\"fill:#ff0000;stroke:#ff0000;\" x=\"147.004697\" xlink:href=\"#mde85425dd2\" y=\"44.179601\"/>\n     <use style=\"fill:#ff0000;stroke:#ff0000;\" x=\"148.276057\" xlink:href=\"#mde85425dd2\" y=\"46.661883\"/>\n     <use style=\"fill:#ff0000;stroke:#ff0000;\" x=\"149.547418\" xlink:href=\"#mde85425dd2\" y=\"46.661883\"/>\n     <use style=\"fill:#ff0000;stroke:#ff0000;\" x=\"150.818778\" xlink:href=\"#mde85425dd2\" y=\"44.179601\"/>\n     <use style=\"fill:#ff0000;stroke:#ff0000;\" x=\"152.090138\" xlink:href=\"#mde85425dd2\" y=\"41.697319\"/>\n     <use style=\"fill:#ff0000;stroke:#ff0000;\" x=\"153.361498\" xlink:href=\"#mde85425dd2\" y=\"46.661883\"/>\n     <use style=\"fill:#ff0000;stroke:#ff0000;\" x=\"154.632858\" xlink:href=\"#mde85425dd2\" y=\"41.697319\"/>\n     <use style=\"fill:#ff0000;stroke:#ff0000;\" x=\"155.904219\" xlink:href=\"#mde85425dd2\" y=\"41.697319\"/>\n     <use style=\"fill:#ff0000;stroke:#ff0000;\" x=\"157.175579\" xlink:href=\"#mde85425dd2\" y=\"41.697319\"/>\n     <use style=\"fill:#ff0000;stroke:#ff0000;\" x=\"158.446939\" xlink:href=\"#mde85425dd2\" y=\"46.661883\"/>\n     <use style=\"fill:#ff0000;stroke:#ff0000;\" x=\"159.718299\" xlink:href=\"#mde85425dd2\" y=\"46.661883\"/>\n     <use style=\"fill:#ff0000;stroke:#ff0000;\" x=\"160.98966\" xlink:href=\"#mde85425dd2\" y=\"46.661883\"/>\n     <use style=\"fill:#ff0000;stroke:#ff0000;\" x=\"162.26102\" xlink:href=\"#mde85425dd2\" y=\"46.661883\"/>\n     <use style=\"fill:#ff0000;stroke:#ff0000;\" x=\"163.53238\" xlink:href=\"#mde85425dd2\" y=\"41.697319\"/>\n     <use style=\"fill:#ff0000;stroke:#ff0000;\" x=\"164.80374\" xlink:href=\"#mde85425dd2\" y=\"46.661883\"/>\n     <use style=\"fill:#ff0000;stroke:#ff0000;\" x=\"166.0751\" xlink:href=\"#mde85425dd2\" y=\"44.179601\"/>\n     <use style=\"fill:#ff0000;stroke:#ff0000;\" x=\"167.346461\" xlink:href=\"#mde85425dd2\" y=\"46.661883\"/>\n     <use style=\"fill:#ff0000;stroke:#ff0000;\" x=\"168.617821\" xlink:href=\"#mde85425dd2\" y=\"46.661883\"/>\n     <use style=\"fill:#ff0000;stroke:#ff0000;\" x=\"169.889181\" xlink:href=\"#mde85425dd2\" y=\"41.697319\"/>\n     <use style=\"fill:#ff0000;stroke:#ff0000;\" x=\"171.160541\" xlink:href=\"#mde85425dd2\" y=\"41.697319\"/>\n     <use style=\"fill:#ff0000;stroke:#ff0000;\" x=\"172.431901\" xlink:href=\"#mde85425dd2\" y=\"44.179601\"/>\n     <use style=\"fill:#ff0000;stroke:#ff0000;\" x=\"173.703262\" xlink:href=\"#mde85425dd2\" y=\"44.179601\"/>\n     <use style=\"fill:#ff0000;stroke:#ff0000;\" x=\"174.974622\" xlink:href=\"#mde85425dd2\" y=\"44.179601\"/>\n     <use style=\"fill:#ff0000;stroke:#ff0000;\" x=\"176.245982\" xlink:href=\"#mde85425dd2\" y=\"46.661883\"/>\n     <use style=\"fill:#ff0000;stroke:#ff0000;\" x=\"177.517342\" xlink:href=\"#mde85425dd2\" y=\"41.697319\"/>\n     <use style=\"fill:#ff0000;stroke:#ff0000;\" x=\"178.788703\" xlink:href=\"#mde85425dd2\" y=\"41.697319\"/>\n     <use style=\"fill:#ff0000;stroke:#ff0000;\" x=\"180.060063\" xlink:href=\"#mde85425dd2\" y=\"41.697319\"/>\n     <use style=\"fill:#ff0000;stroke:#ff0000;\" x=\"181.331423\" xlink:href=\"#mde85425dd2\" y=\"41.697319\"/>\n     <use style=\"fill:#ff0000;stroke:#ff0000;\" x=\"182.602783\" xlink:href=\"#mde85425dd2\" y=\"41.697319\"/>\n     <use style=\"fill:#ff0000;stroke:#ff0000;\" x=\"183.874143\" xlink:href=\"#mde85425dd2\" y=\"46.661883\"/>\n     <use style=\"fill:#ff0000;stroke:#ff0000;\" x=\"185.145504\" xlink:href=\"#mde85425dd2\" y=\"49.144166\"/>\n     <use style=\"fill:#ff0000;stroke:#ff0000;\" x=\"186.416864\" xlink:href=\"#mde85425dd2\" y=\"46.661883\"/>\n     <use style=\"fill:#ff0000;stroke:#ff0000;\" x=\"187.688224\" xlink:href=\"#mde85425dd2\" y=\"49.144166\"/>\n     <use style=\"fill:#ff0000;stroke:#ff0000;\" x=\"188.959584\" xlink:href=\"#mde85425dd2\" y=\"46.661883\"/>\n     <use style=\"fill:#ff0000;stroke:#ff0000;\" x=\"190.230945\" xlink:href=\"#mde85425dd2\" y=\"41.697319\"/>\n     <use style=\"fill:#ff0000;stroke:#ff0000;\" x=\"191.502305\" xlink:href=\"#mde85425dd2\" y=\"41.697319\"/>\n     <use style=\"fill:#ff0000;stroke:#ff0000;\" x=\"192.773665\" xlink:href=\"#mde85425dd2\" y=\"41.697319\"/>\n     <use style=\"fill:#ff0000;stroke:#ff0000;\" x=\"194.045025\" xlink:href=\"#mde85425dd2\" y=\"41.697319\"/>\n     <use style=\"fill:#ff0000;stroke:#ff0000;\" x=\"195.316385\" xlink:href=\"#mde85425dd2\" y=\"41.697319\"/>\n     <use style=\"fill:#ff0000;stroke:#ff0000;\" x=\"196.587746\" xlink:href=\"#mde85425dd2\" y=\"41.697319\"/>\n     <use style=\"fill:#ff0000;stroke:#ff0000;\" x=\"197.859106\" xlink:href=\"#mde85425dd2\" y=\"41.697319\"/>\n     <use style=\"fill:#ff0000;stroke:#ff0000;\" x=\"199.130466\" xlink:href=\"#mde85425dd2\" y=\"44.179601\"/>\n     <use style=\"fill:#ff0000;stroke:#ff0000;\" x=\"200.401826\" xlink:href=\"#mde85425dd2\" y=\"44.179601\"/>\n     <use style=\"fill:#ff0000;stroke:#ff0000;\" x=\"201.673187\" xlink:href=\"#mde85425dd2\" y=\"41.697319\"/>\n     <use style=\"fill:#ff0000;stroke:#ff0000;\" x=\"202.944547\" xlink:href=\"#mde85425dd2\" y=\"41.697319\"/>\n     <use style=\"fill:#ff0000;stroke:#ff0000;\" x=\"204.215907\" xlink:href=\"#mde85425dd2\" y=\"41.697319\"/>\n     <use style=\"fill:#ff0000;stroke:#ff0000;\" x=\"205.487267\" xlink:href=\"#mde85425dd2\" y=\"39.215037\"/>\n     <use style=\"fill:#ff0000;stroke:#ff0000;\" x=\"206.758627\" xlink:href=\"#mde85425dd2\" y=\"39.215037\"/>\n     <use style=\"fill:#ff0000;stroke:#ff0000;\" x=\"208.029988\" xlink:href=\"#mde85425dd2\" y=\"39.215037\"/>\n     <use style=\"fill:#ff0000;stroke:#ff0000;\" x=\"209.301348\" xlink:href=\"#mde85425dd2\" y=\"41.697319\"/>\n     <use style=\"fill:#ff0000;stroke:#ff0000;\" x=\"210.572708\" xlink:href=\"#mde85425dd2\" y=\"44.179601\"/>\n     <use style=\"fill:#ff0000;stroke:#ff0000;\" x=\"211.844068\" xlink:href=\"#mde85425dd2\" y=\"41.697319\"/>\n     <use style=\"fill:#ff0000;stroke:#ff0000;\" x=\"213.115428\" xlink:href=\"#mde85425dd2\" y=\"44.179601\"/>\n     <use style=\"fill:#ff0000;stroke:#ff0000;\" x=\"214.386789\" xlink:href=\"#mde85425dd2\" y=\"41.697319\"/>\n     <use style=\"fill:#ff0000;stroke:#ff0000;\" x=\"215.658149\" xlink:href=\"#mde85425dd2\" y=\"39.215037\"/>\n     <use style=\"fill:#ff0000;stroke:#ff0000;\" x=\"216.929509\" xlink:href=\"#mde85425dd2\" y=\"41.697319\"/>\n     <use style=\"fill:#ff0000;stroke:#ff0000;\" x=\"218.200869\" xlink:href=\"#mde85425dd2\" y=\"44.179601\"/>\n     <use style=\"fill:#ff0000;stroke:#ff0000;\" x=\"219.47223\" xlink:href=\"#mde85425dd2\" y=\"41.697319\"/>\n     <use style=\"fill:#ff0000;stroke:#ff0000;\" x=\"220.74359\" xlink:href=\"#mde85425dd2\" y=\"41.697319\"/>\n     <use style=\"fill:#ff0000;stroke:#ff0000;\" x=\"222.01495\" xlink:href=\"#mde85425dd2\" y=\"41.697319\"/>\n     <use style=\"fill:#ff0000;stroke:#ff0000;\" x=\"223.28631\" xlink:href=\"#mde85425dd2\" y=\"44.179601\"/>\n     <use style=\"fill:#ff0000;stroke:#ff0000;\" x=\"224.55767\" xlink:href=\"#mde85425dd2\" y=\"44.179601\"/>\n     <use style=\"fill:#ff0000;stroke:#ff0000;\" x=\"225.829031\" xlink:href=\"#mde85425dd2\" y=\"44.179601\"/>\n     <use style=\"fill:#ff0000;stroke:#ff0000;\" x=\"227.100391\" xlink:href=\"#mde85425dd2\" y=\"44.179601\"/>\n     <use style=\"fill:#ff0000;stroke:#ff0000;\" x=\"228.371751\" xlink:href=\"#mde85425dd2\" y=\"41.697319\"/>\n     <use style=\"fill:#ff0000;stroke:#ff0000;\" x=\"229.643111\" xlink:href=\"#mde85425dd2\" y=\"44.179601\"/>\n     <use style=\"fill:#ff0000;stroke:#ff0000;\" x=\"230.914472\" xlink:href=\"#mde85425dd2\" y=\"41.697319\"/>\n     <use style=\"fill:#ff0000;stroke:#ff0000;\" x=\"232.185832\" xlink:href=\"#mde85425dd2\" y=\"41.697319\"/>\n     <use style=\"fill:#ff0000;stroke:#ff0000;\" x=\"233.457192\" xlink:href=\"#mde85425dd2\" y=\"39.215037\"/>\n     <use style=\"fill:#ff0000;stroke:#ff0000;\" x=\"234.728552\" xlink:href=\"#mde85425dd2\" y=\"44.179601\"/>\n     <use style=\"fill:#ff0000;stroke:#ff0000;\" x=\"235.999912\" xlink:href=\"#mde85425dd2\" y=\"41.697319\"/>\n     <use style=\"fill:#ff0000;stroke:#ff0000;\" x=\"237.271273\" xlink:href=\"#mde85425dd2\" y=\"41.697319\"/>\n     <use style=\"fill:#ff0000;stroke:#ff0000;\" x=\"238.542633\" xlink:href=\"#mde85425dd2\" y=\"44.179601\"/>\n     <use style=\"fill:#ff0000;stroke:#ff0000;\" x=\"239.813993\" xlink:href=\"#mde85425dd2\" y=\"44.179601\"/>\n     <use style=\"fill:#ff0000;stroke:#ff0000;\" x=\"241.085353\" xlink:href=\"#mde85425dd2\" y=\"44.179601\"/>\n     <use style=\"fill:#ff0000;stroke:#ff0000;\" x=\"242.356714\" xlink:href=\"#mde85425dd2\" y=\"44.179601\"/>\n     <use style=\"fill:#ff0000;stroke:#ff0000;\" x=\"243.628074\" xlink:href=\"#mde85425dd2\" y=\"44.179601\"/>\n     <use style=\"fill:#ff0000;stroke:#ff0000;\" x=\"244.899434\" xlink:href=\"#mde85425dd2\" y=\"44.179601\"/>\n     <use style=\"fill:#ff0000;stroke:#ff0000;\" x=\"246.170794\" xlink:href=\"#mde85425dd2\" y=\"41.697319\"/>\n     <use style=\"fill:#ff0000;stroke:#ff0000;\" x=\"247.442154\" xlink:href=\"#mde85425dd2\" y=\"36.732754\"/>\n     <use style=\"fill:#ff0000;stroke:#ff0000;\" x=\"248.713515\" xlink:href=\"#mde85425dd2\" y=\"41.697319\"/>\n     <use style=\"fill:#ff0000;stroke:#ff0000;\" x=\"249.984875\" xlink:href=\"#mde85425dd2\" y=\"41.697319\"/>\n     <use style=\"fill:#ff0000;stroke:#ff0000;\" x=\"251.256235\" xlink:href=\"#mde85425dd2\" y=\"44.179601\"/>\n     <use style=\"fill:#ff0000;stroke:#ff0000;\" x=\"252.527595\" xlink:href=\"#mde85425dd2\" y=\"46.661883\"/>\n     <use style=\"fill:#ff0000;stroke:#ff0000;\" x=\"253.798955\" xlink:href=\"#mde85425dd2\" y=\"41.697319\"/>\n     <use style=\"fill:#ff0000;stroke:#ff0000;\" x=\"255.070316\" xlink:href=\"#mde85425dd2\" y=\"39.215037\"/>\n     <use style=\"fill:#ff0000;stroke:#ff0000;\" x=\"256.341676\" xlink:href=\"#mde85425dd2\" y=\"39.215037\"/>\n     <use style=\"fill:#ff0000;stroke:#ff0000;\" x=\"257.613036\" xlink:href=\"#mde85425dd2\" y=\"41.697319\"/>\n     <use style=\"fill:#ff0000;stroke:#ff0000;\" x=\"258.884396\" xlink:href=\"#mde85425dd2\" y=\"39.215037\"/>\n     <use style=\"fill:#ff0000;stroke:#ff0000;\" x=\"260.155757\" xlink:href=\"#mde85425dd2\" y=\"41.697319\"/>\n     <use style=\"fill:#ff0000;stroke:#ff0000;\" x=\"261.427117\" xlink:href=\"#mde85425dd2\" y=\"41.697319\"/>\n     <use style=\"fill:#ff0000;stroke:#ff0000;\" x=\"262.698477\" xlink:href=\"#mde85425dd2\" y=\"39.215037\"/>\n     <use style=\"fill:#ff0000;stroke:#ff0000;\" x=\"263.969837\" xlink:href=\"#mde85425dd2\" y=\"39.215037\"/>\n     <use style=\"fill:#ff0000;stroke:#ff0000;\" x=\"265.241197\" xlink:href=\"#mde85425dd2\" y=\"41.697319\"/>\n     <use style=\"fill:#ff0000;stroke:#ff0000;\" x=\"266.512558\" xlink:href=\"#mde85425dd2\" y=\"41.697319\"/>\n     <use style=\"fill:#ff0000;stroke:#ff0000;\" x=\"267.783918\" xlink:href=\"#mde85425dd2\" y=\"41.697319\"/>\n     <use style=\"fill:#ff0000;stroke:#ff0000;\" x=\"269.055278\" xlink:href=\"#mde85425dd2\" y=\"41.697319\"/>\n     <use style=\"fill:#ff0000;stroke:#ff0000;\" x=\"270.326638\" xlink:href=\"#mde85425dd2\" y=\"39.215037\"/>\n     <use style=\"fill:#ff0000;stroke:#ff0000;\" x=\"271.597999\" xlink:href=\"#mde85425dd2\" y=\"39.215037\"/>\n     <use style=\"fill:#ff0000;stroke:#ff0000;\" x=\"272.869359\" xlink:href=\"#mde85425dd2\" y=\"44.179601\"/>\n     <use style=\"fill:#ff0000;stroke:#ff0000;\" x=\"274.140719\" xlink:href=\"#mde85425dd2\" y=\"46.661883\"/>\n     <use style=\"fill:#ff0000;stroke:#ff0000;\" x=\"275.412079\" xlink:href=\"#mde85425dd2\" y=\"44.179601\"/>\n     <use style=\"fill:#ff0000;stroke:#ff0000;\" x=\"276.683439\" xlink:href=\"#mde85425dd2\" y=\"44.179601\"/>\n     <use style=\"fill:#ff0000;stroke:#ff0000;\" x=\"277.9548\" xlink:href=\"#mde85425dd2\" y=\"49.144166\"/>\n     <use style=\"fill:#ff0000;stroke:#ff0000;\" x=\"279.22616\" xlink:href=\"#mde85425dd2\" y=\"44.179601\"/>\n     <use style=\"fill:#ff0000;stroke:#ff0000;\" x=\"280.49752\" xlink:href=\"#mde85425dd2\" y=\"44.179601\"/>\n     <use style=\"fill:#ff0000;stroke:#ff0000;\" x=\"281.76888\" xlink:href=\"#mde85425dd2\" y=\"41.697319\"/>\n     <use style=\"fill:#ff0000;stroke:#ff0000;\" x=\"283.040241\" xlink:href=\"#mde85425dd2\" y=\"41.697319\"/>\n     <use style=\"fill:#ff0000;stroke:#ff0000;\" x=\"284.311601\" xlink:href=\"#mde85425dd2\" y=\"39.215037\"/>\n     <use style=\"fill:#ff0000;stroke:#ff0000;\" x=\"285.582961\" xlink:href=\"#mde85425dd2\" y=\"44.179601\"/>\n     <use style=\"fill:#ff0000;stroke:#ff0000;\" x=\"286.854321\" xlink:href=\"#mde85425dd2\" y=\"49.144166\"/>\n     <use style=\"fill:#ff0000;stroke:#ff0000;\" x=\"288.125681\" xlink:href=\"#mde85425dd2\" y=\"44.179601\"/>\n     <use style=\"fill:#ff0000;stroke:#ff0000;\" x=\"289.397042\" xlink:href=\"#mde85425dd2\" y=\"41.697319\"/>\n     <use style=\"fill:#ff0000;stroke:#ff0000;\" x=\"290.668402\" xlink:href=\"#mde85425dd2\" y=\"44.179601\"/>\n     <use style=\"fill:#ff0000;stroke:#ff0000;\" x=\"291.939762\" xlink:href=\"#mde85425dd2\" y=\"41.697319\"/>\n     <use style=\"fill:#ff0000;stroke:#ff0000;\" x=\"293.211122\" xlink:href=\"#mde85425dd2\" y=\"44.179601\"/>\n     <use style=\"fill:#ff0000;stroke:#ff0000;\" x=\"294.482482\" xlink:href=\"#mde85425dd2\" y=\"44.179601\"/>\n     <use style=\"fill:#ff0000;stroke:#ff0000;\" x=\"295.753843\" xlink:href=\"#mde85425dd2\" y=\"46.661883\"/>\n     <use style=\"fill:#ff0000;stroke:#ff0000;\" x=\"297.025203\" xlink:href=\"#mde85425dd2\" y=\"46.661883\"/>\n     <use style=\"fill:#ff0000;stroke:#ff0000;\" x=\"298.296563\" xlink:href=\"#mde85425dd2\" y=\"44.179601\"/>\n     <use style=\"fill:#ff0000;stroke:#ff0000;\" x=\"299.567923\" xlink:href=\"#mde85425dd2\" y=\"41.697319\"/>\n     <use style=\"fill:#ff0000;stroke:#ff0000;\" x=\"300.839284\" xlink:href=\"#mde85425dd2\" y=\"44.179601\"/>\n     <use style=\"fill:#ff0000;stroke:#ff0000;\" x=\"302.110644\" xlink:href=\"#mde85425dd2\" y=\"44.179601\"/>\n     <use style=\"fill:#ff0000;stroke:#ff0000;\" x=\"303.382004\" xlink:href=\"#mde85425dd2\" y=\"46.661883\"/>\n     <use style=\"fill:#ff0000;stroke:#ff0000;\" x=\"304.653364\" xlink:href=\"#mde85425dd2\" y=\"46.661883\"/>\n     <use style=\"fill:#ff0000;stroke:#ff0000;\" x=\"305.924724\" xlink:href=\"#mde85425dd2\" y=\"46.661883\"/>\n     <use style=\"fill:#ff0000;stroke:#ff0000;\" x=\"307.196085\" xlink:href=\"#mde85425dd2\" y=\"41.697319\"/>\n     <use style=\"fill:#ff0000;stroke:#ff0000;\" x=\"308.467445\" xlink:href=\"#mde85425dd2\" y=\"44.179601\"/>\n     <use style=\"fill:#ff0000;stroke:#ff0000;\" x=\"309.738805\" xlink:href=\"#mde85425dd2\" y=\"41.697319\"/>\n     <use style=\"fill:#ff0000;stroke:#ff0000;\" x=\"311.010165\" xlink:href=\"#mde85425dd2\" y=\"44.179601\"/>\n     <use style=\"fill:#ff0000;stroke:#ff0000;\" x=\"312.281526\" xlink:href=\"#mde85425dd2\" y=\"44.179601\"/>\n     <use style=\"fill:#ff0000;stroke:#ff0000;\" x=\"313.552886\" xlink:href=\"#mde85425dd2\" y=\"44.179601\"/>\n     <use style=\"fill:#ff0000;stroke:#ff0000;\" x=\"314.824246\" xlink:href=\"#mde85425dd2\" y=\"46.661883\"/>\n     <use style=\"fill:#ff0000;stroke:#ff0000;\" x=\"316.095606\" xlink:href=\"#mde85425dd2\" y=\"41.697319\"/>\n     <use style=\"fill:#ff0000;stroke:#ff0000;\" x=\"317.366966\" xlink:href=\"#mde85425dd2\" y=\"44.179601\"/>\n     <use style=\"fill:#ff0000;stroke:#ff0000;\" x=\"318.638327\" xlink:href=\"#mde85425dd2\" y=\"44.179601\"/>\n     <use style=\"fill:#ff0000;stroke:#ff0000;\" x=\"319.909687\" xlink:href=\"#mde85425dd2\" y=\"44.179601\"/>\n     <use style=\"fill:#ff0000;stroke:#ff0000;\" x=\"321.181047\" xlink:href=\"#mde85425dd2\" y=\"46.661883\"/>\n     <use style=\"fill:#ff0000;stroke:#ff0000;\" x=\"322.452407\" xlink:href=\"#mde85425dd2\" y=\"46.661883\"/>\n     <use style=\"fill:#ff0000;stroke:#ff0000;\" x=\"323.723768\" xlink:href=\"#mde85425dd2\" y=\"41.697319\"/>\n     <use style=\"fill:#ff0000;stroke:#ff0000;\" x=\"324.995128\" xlink:href=\"#mde85425dd2\" y=\"41.697319\"/>\n     <use style=\"fill:#ff0000;stroke:#ff0000;\" x=\"326.266488\" xlink:href=\"#mde85425dd2\" y=\"46.661883\"/>\n     <use style=\"fill:#ff0000;stroke:#ff0000;\" x=\"327.537848\" xlink:href=\"#mde85425dd2\" y=\"46.661883\"/>\n     <use style=\"fill:#ff0000;stroke:#ff0000;\" x=\"328.809208\" xlink:href=\"#mde85425dd2\" y=\"46.661883\"/>\n     <use style=\"fill:#ff0000;stroke:#ff0000;\" x=\"330.080569\" xlink:href=\"#mde85425dd2\" y=\"41.697319\"/>\n     <use style=\"fill:#ff0000;stroke:#ff0000;\" x=\"331.351929\" xlink:href=\"#mde85425dd2\" y=\"41.697319\"/>\n     <use style=\"fill:#ff0000;stroke:#ff0000;\" x=\"332.623289\" xlink:href=\"#mde85425dd2\" y=\"44.179601\"/>\n     <use style=\"fill:#ff0000;stroke:#ff0000;\" x=\"333.894649\" xlink:href=\"#mde85425dd2\" y=\"41.697319\"/>\n     <use style=\"fill:#ff0000;stroke:#ff0000;\" x=\"335.166009\" xlink:href=\"#mde85425dd2\" y=\"44.179601\"/>\n     <use style=\"fill:#ff0000;stroke:#ff0000;\" x=\"336.43737\" xlink:href=\"#mde85425dd2\" y=\"46.661883\"/>\n     <use style=\"fill:#ff0000;stroke:#ff0000;\" x=\"337.70873\" xlink:href=\"#mde85425dd2\" y=\"46.661883\"/>\n     <use style=\"fill:#ff0000;stroke:#ff0000;\" x=\"338.98009\" xlink:href=\"#mde85425dd2\" y=\"46.661883\"/>\n     <use style=\"fill:#ff0000;stroke:#ff0000;\" x=\"340.25145\" xlink:href=\"#mde85425dd2\" y=\"44.179601\"/>\n     <use style=\"fill:#ff0000;stroke:#ff0000;\" x=\"341.522811\" xlink:href=\"#mde85425dd2\" y=\"44.179601\"/>\n     <use style=\"fill:#ff0000;stroke:#ff0000;\" x=\"342.794171\" xlink:href=\"#mde85425dd2\" y=\"44.179601\"/>\n     <use style=\"fill:#ff0000;stroke:#ff0000;\" x=\"344.065531\" xlink:href=\"#mde85425dd2\" y=\"46.661883\"/>\n     <use style=\"fill:#ff0000;stroke:#ff0000;\" x=\"345.336891\" xlink:href=\"#mde85425dd2\" y=\"44.179601\"/>\n     <use style=\"fill:#ff0000;stroke:#ff0000;\" x=\"346.608251\" xlink:href=\"#mde85425dd2\" y=\"41.697319\"/>\n     <use style=\"fill:#ff0000;stroke:#ff0000;\" x=\"347.879612\" xlink:href=\"#mde85425dd2\" y=\"51.626448\"/>\n     <use style=\"fill:#ff0000;stroke:#ff0000;\" x=\"349.150972\" xlink:href=\"#mde85425dd2\" y=\"44.179601\"/>\n     <use style=\"fill:#ff0000;stroke:#ff0000;\" x=\"350.422332\" xlink:href=\"#mde85425dd2\" y=\"49.144166\"/>\n     <use style=\"fill:#ff0000;stroke:#ff0000;\" x=\"351.693692\" xlink:href=\"#mde85425dd2\" y=\"49.144166\"/>\n     <use style=\"fill:#ff0000;stroke:#ff0000;\" x=\"352.965053\" xlink:href=\"#mde85425dd2\" y=\"49.144166\"/>\n     <use style=\"fill:#ff0000;stroke:#ff0000;\" x=\"354.236413\" xlink:href=\"#mde85425dd2\" y=\"46.661883\"/>\n     <use style=\"fill:#ff0000;stroke:#ff0000;\" x=\"355.507773\" xlink:href=\"#mde85425dd2\" y=\"46.661883\"/>\n     <use style=\"fill:#ff0000;stroke:#ff0000;\" x=\"356.779133\" xlink:href=\"#mde85425dd2\" y=\"44.179601\"/>\n     <use style=\"fill:#ff0000;stroke:#ff0000;\" x=\"358.050493\" xlink:href=\"#mde85425dd2\" y=\"46.661883\"/>\n     <use style=\"fill:#ff0000;stroke:#ff0000;\" x=\"359.321854\" xlink:href=\"#mde85425dd2\" y=\"46.661883\"/>\n     <use style=\"fill:#ff0000;stroke:#ff0000;\" x=\"360.593214\" xlink:href=\"#mde85425dd2\" y=\"46.661883\"/>\n     <use style=\"fill:#ff0000;stroke:#ff0000;\" x=\"361.864574\" xlink:href=\"#mde85425dd2\" y=\"46.661883\"/>\n     <use style=\"fill:#ff0000;stroke:#ff0000;\" x=\"363.135934\" xlink:href=\"#mde85425dd2\" y=\"46.661883\"/>\n     <use style=\"fill:#ff0000;stroke:#ff0000;\" x=\"364.407295\" xlink:href=\"#mde85425dd2\" y=\"44.179601\"/>\n     <use style=\"fill:#ff0000;stroke:#ff0000;\" x=\"365.678655\" xlink:href=\"#mde85425dd2\" y=\"46.661883\"/>\n     <use style=\"fill:#ff0000;stroke:#ff0000;\" x=\"366.950015\" xlink:href=\"#mde85425dd2\" y=\"46.661883\"/>\n     <use style=\"fill:#ff0000;stroke:#ff0000;\" x=\"368.221375\" xlink:href=\"#mde85425dd2\" y=\"44.179601\"/>\n     <use style=\"fill:#ff0000;stroke:#ff0000;\" x=\"369.492735\" xlink:href=\"#mde85425dd2\" y=\"44.179601\"/>\n     <use style=\"fill:#ff0000;stroke:#ff0000;\" x=\"370.764096\" xlink:href=\"#mde85425dd2\" y=\"46.661883\"/>\n     <use style=\"fill:#ff0000;stroke:#ff0000;\" x=\"372.035456\" xlink:href=\"#mde85425dd2\" y=\"49.144166\"/>\n     <use style=\"fill:#ff0000;stroke:#ff0000;\" x=\"373.306816\" xlink:href=\"#mde85425dd2\" y=\"51.626448\"/>\n     <use style=\"fill:#ff0000;stroke:#ff0000;\" x=\"374.578176\" xlink:href=\"#mde85425dd2\" y=\"44.179601\"/>\n     <use style=\"fill:#ff0000;stroke:#ff0000;\" x=\"375.849536\" xlink:href=\"#mde85425dd2\" y=\"46.661883\"/>\n     <use style=\"fill:#ff0000;stroke:#ff0000;\" x=\"377.120897\" xlink:href=\"#mde85425dd2\" y=\"44.179601\"/>\n     <use style=\"fill:#ff0000;stroke:#ff0000;\" x=\"378.392257\" xlink:href=\"#mde85425dd2\" y=\"44.179601\"/>\n     <use style=\"fill:#ff0000;stroke:#ff0000;\" x=\"379.663617\" xlink:href=\"#mde85425dd2\" y=\"46.661883\"/>\n     <use style=\"fill:#ff0000;stroke:#ff0000;\" x=\"380.934977\" xlink:href=\"#mde85425dd2\" y=\"44.179601\"/>\n     <use style=\"fill:#ff0000;stroke:#ff0000;\" x=\"382.206338\" xlink:href=\"#mde85425dd2\" y=\"44.179601\"/>\n     <use style=\"fill:#ff0000;stroke:#ff0000;\" x=\"383.477698\" xlink:href=\"#mde85425dd2\" y=\"49.144166\"/>\n     <use style=\"fill:#ff0000;stroke:#ff0000;\" x=\"384.749058\" xlink:href=\"#mde85425dd2\" y=\"44.179601\"/>\n     <use style=\"fill:#ff0000;stroke:#ff0000;\" x=\"386.020418\" xlink:href=\"#mde85425dd2\" y=\"44.179601\"/>\n     <use style=\"fill:#ff0000;stroke:#ff0000;\" x=\"387.291778\" xlink:href=\"#mde85425dd2\" y=\"44.179601\"/>\n     <use style=\"fill:#ff0000;stroke:#ff0000;\" x=\"388.563139\" xlink:href=\"#mde85425dd2\" y=\"46.661883\"/>\n     <use style=\"fill:#ff0000;stroke:#ff0000;\" x=\"389.834499\" xlink:href=\"#mde85425dd2\" y=\"46.661883\"/>\n     <use style=\"fill:#ff0000;stroke:#ff0000;\" x=\"391.105859\" xlink:href=\"#mde85425dd2\" y=\"44.179601\"/>\n     <use style=\"fill:#ff0000;stroke:#ff0000;\" x=\"392.377219\" xlink:href=\"#mde85425dd2\" y=\"46.661883\"/>\n     <use style=\"fill:#ff0000;stroke:#ff0000;\" x=\"393.64858\" xlink:href=\"#mde85425dd2\" y=\"44.179601\"/>\n     <use style=\"fill:#ff0000;stroke:#ff0000;\" x=\"394.91994\" xlink:href=\"#mde85425dd2\" y=\"49.144166\"/>\n     <use style=\"fill:#ff0000;stroke:#ff0000;\" x=\"396.1913\" xlink:href=\"#mde85425dd2\" y=\"41.697319\"/>\n     <use style=\"fill:#ff0000;stroke:#ff0000;\" x=\"397.46266\" xlink:href=\"#mde85425dd2\" y=\"41.697319\"/>\n     <use style=\"fill:#ff0000;stroke:#ff0000;\" x=\"398.73402\" xlink:href=\"#mde85425dd2\" y=\"49.144166\"/>\n     <use style=\"fill:#ff0000;stroke:#ff0000;\" x=\"400.005381\" xlink:href=\"#mde85425dd2\" y=\"49.144166\"/>\n     <use style=\"fill:#ff0000;stroke:#ff0000;\" x=\"401.276741\" xlink:href=\"#mde85425dd2\" y=\"41.697319\"/>\n     <use style=\"fill:#ff0000;stroke:#ff0000;\" x=\"402.548101\" xlink:href=\"#mde85425dd2\" y=\"44.179601\"/>\n     <use style=\"fill:#ff0000;stroke:#ff0000;\" x=\"403.819461\" xlink:href=\"#mde85425dd2\" y=\"44.179601\"/>\n     <use style=\"fill:#ff0000;stroke:#ff0000;\" x=\"405.090822\" xlink:href=\"#mde85425dd2\" y=\"44.179601\"/>\n     <use style=\"fill:#ff0000;stroke:#ff0000;\" x=\"406.362182\" xlink:href=\"#mde85425dd2\" y=\"44.179601\"/>\n     <use style=\"fill:#ff0000;stroke:#ff0000;\" x=\"407.633542\" xlink:href=\"#mde85425dd2\" y=\"49.144166\"/>\n     <use style=\"fill:#ff0000;stroke:#ff0000;\" x=\"408.904902\" xlink:href=\"#mde85425dd2\" y=\"44.179601\"/>\n     <use style=\"fill:#ff0000;stroke:#ff0000;\" x=\"410.176262\" xlink:href=\"#mde85425dd2\" y=\"44.179601\"/>\n     <use style=\"fill:#ff0000;stroke:#ff0000;\" x=\"411.447623\" xlink:href=\"#mde85425dd2\" y=\"46.661883\"/>\n     <use style=\"fill:#ff0000;stroke:#ff0000;\" x=\"412.718983\" xlink:href=\"#mde85425dd2\" y=\"44.179601\"/>\n     <use style=\"fill:#ff0000;stroke:#ff0000;\" x=\"413.990343\" xlink:href=\"#mde85425dd2\" y=\"41.697319\"/>\n     <use style=\"fill:#ff0000;stroke:#ff0000;\" x=\"415.261703\" xlink:href=\"#mde85425dd2\" y=\"46.661883\"/>\n     <use style=\"fill:#ff0000;stroke:#ff0000;\" x=\"416.533063\" xlink:href=\"#mde85425dd2\" y=\"46.661883\"/>\n     <use style=\"fill:#ff0000;stroke:#ff0000;\" x=\"417.804424\" xlink:href=\"#mde85425dd2\" y=\"44.179601\"/>\n     <use style=\"fill:#ff0000;stroke:#ff0000;\" x=\"419.075784\" xlink:href=\"#mde85425dd2\" y=\"46.661883\"/>\n     <use style=\"fill:#ff0000;stroke:#ff0000;\" x=\"420.347144\" xlink:href=\"#mde85425dd2\" y=\"46.661883\"/>\n     <use style=\"fill:#ff0000;stroke:#ff0000;\" x=\"421.618504\" xlink:href=\"#mde85425dd2\" y=\"49.144166\"/>\n     <use style=\"fill:#ff0000;stroke:#ff0000;\" x=\"422.889865\" xlink:href=\"#mde85425dd2\" y=\"46.661883\"/>\n     <use style=\"fill:#ff0000;stroke:#ff0000;\" x=\"424.161225\" xlink:href=\"#mde85425dd2\" y=\"49.144166\"/>\n     <use style=\"fill:#ff0000;stroke:#ff0000;\" x=\"425.432585\" xlink:href=\"#mde85425dd2\" y=\"49.144166\"/>\n     <use style=\"fill:#ff0000;stroke:#ff0000;\" x=\"426.703945\" xlink:href=\"#mde85425dd2\" y=\"44.179601\"/>\n     <use style=\"fill:#ff0000;stroke:#ff0000;\" x=\"427.975305\" xlink:href=\"#mde85425dd2\" y=\"46.661883\"/>\n     <use style=\"fill:#ff0000;stroke:#ff0000;\" x=\"429.246666\" xlink:href=\"#mde85425dd2\" y=\"44.179601\"/>\n     <use style=\"fill:#ff0000;stroke:#ff0000;\" x=\"430.518026\" xlink:href=\"#mde85425dd2\" y=\"46.661883\"/>\n     <use style=\"fill:#ff0000;stroke:#ff0000;\" x=\"431.789386\" xlink:href=\"#mde85425dd2\" y=\"51.626448\"/>\n     <use style=\"fill:#ff0000;stroke:#ff0000;\" x=\"433.060746\" xlink:href=\"#mde85425dd2\" y=\"44.179601\"/>\n     <use style=\"fill:#ff0000;stroke:#ff0000;\" x=\"434.332107\" xlink:href=\"#mde85425dd2\" y=\"44.179601\"/>\n     <use style=\"fill:#ff0000;stroke:#ff0000;\" x=\"435.603467\" xlink:href=\"#mde85425dd2\" y=\"44.179601\"/>\n     <use style=\"fill:#ff0000;stroke:#ff0000;\" x=\"436.874827\" xlink:href=\"#mde85425dd2\" y=\"44.179601\"/>\n     <use style=\"fill:#ff0000;stroke:#ff0000;\" x=\"438.146187\" xlink:href=\"#mde85425dd2\" y=\"44.179601\"/>\n     <use style=\"fill:#ff0000;stroke:#ff0000;\" x=\"439.417547\" xlink:href=\"#mde85425dd2\" y=\"44.179601\"/>\n     <use style=\"fill:#ff0000;stroke:#ff0000;\" x=\"440.688908\" xlink:href=\"#mde85425dd2\" y=\"44.179601\"/>\n     <use style=\"fill:#ff0000;stroke:#ff0000;\" x=\"441.960268\" xlink:href=\"#mde85425dd2\" y=\"46.661883\"/>\n     <use style=\"fill:#ff0000;stroke:#ff0000;\" x=\"443.231628\" xlink:href=\"#mde85425dd2\" y=\"49.144166\"/>\n     <use style=\"fill:#ff0000;stroke:#ff0000;\" x=\"444.502988\" xlink:href=\"#mde85425dd2\" y=\"49.144166\"/>\n     <use style=\"fill:#ff0000;stroke:#ff0000;\" x=\"445.774349\" xlink:href=\"#mde85425dd2\" y=\"49.144166\"/>\n     <use style=\"fill:#ff0000;stroke:#ff0000;\" x=\"447.045709\" xlink:href=\"#mde85425dd2\" y=\"49.144166\"/>\n     <use style=\"fill:#ff0000;stroke:#ff0000;\" x=\"448.317069\" xlink:href=\"#mde85425dd2\" y=\"44.179601\"/>\n     <use style=\"fill:#ff0000;stroke:#ff0000;\" x=\"449.588429\" xlink:href=\"#mde85425dd2\" y=\"46.661883\"/>\n     <use style=\"fill:#ff0000;stroke:#ff0000;\" x=\"450.859789\" xlink:href=\"#mde85425dd2\" y=\"46.661883\"/>\n     <use style=\"fill:#ff0000;stroke:#ff0000;\" x=\"452.13115\" xlink:href=\"#mde85425dd2\" y=\"46.661883\"/>\n     <use style=\"fill:#ff0000;stroke:#ff0000;\" x=\"453.40251\" xlink:href=\"#mde85425dd2\" y=\"46.661883\"/>\n     <use style=\"fill:#ff0000;stroke:#ff0000;\" x=\"454.67387\" xlink:href=\"#mde85425dd2\" y=\"49.144166\"/>\n     <use style=\"fill:#ff0000;stroke:#ff0000;\" x=\"455.94523\" xlink:href=\"#mde85425dd2\" y=\"51.626448\"/>\n     <use style=\"fill:#ff0000;stroke:#ff0000;\" x=\"457.21659\" xlink:href=\"#mde85425dd2\" y=\"51.626448\"/>\n     <use style=\"fill:#ff0000;stroke:#ff0000;\" x=\"458.487951\" xlink:href=\"#mde85425dd2\" y=\"54.10873\"/>\n     <use style=\"fill:#ff0000;stroke:#ff0000;\" x=\"459.759311\" xlink:href=\"#mde85425dd2\" y=\"49.144166\"/>\n     <use style=\"fill:#ff0000;stroke:#ff0000;\" x=\"461.030671\" xlink:href=\"#mde85425dd2\" y=\"51.626448\"/>\n     <use style=\"fill:#ff0000;stroke:#ff0000;\" x=\"462.302031\" xlink:href=\"#mde85425dd2\" y=\"51.626448\"/>\n     <use style=\"fill:#ff0000;stroke:#ff0000;\" x=\"463.573392\" xlink:href=\"#mde85425dd2\" y=\"51.626448\"/>\n     <use style=\"fill:#ff0000;stroke:#ff0000;\" x=\"464.844752\" xlink:href=\"#mde85425dd2\" y=\"49.144166\"/>\n     <use style=\"fill:#ff0000;stroke:#ff0000;\" x=\"466.116112\" xlink:href=\"#mde85425dd2\" y=\"49.144166\"/>\n     <use style=\"fill:#ff0000;stroke:#ff0000;\" x=\"467.387472\" xlink:href=\"#mde85425dd2\" y=\"49.144166\"/>\n     <use style=\"fill:#ff0000;stroke:#ff0000;\" x=\"468.658832\" xlink:href=\"#mde85425dd2\" y=\"49.144166\"/>\n     <use style=\"fill:#ff0000;stroke:#ff0000;\" x=\"469.930193\" xlink:href=\"#mde85425dd2\" y=\"51.626448\"/>\n     <use style=\"fill:#ff0000;stroke:#ff0000;\" x=\"471.201553\" xlink:href=\"#mde85425dd2\" y=\"51.626448\"/>\n     <use style=\"fill:#ff0000;stroke:#ff0000;\" x=\"472.472913\" xlink:href=\"#mde85425dd2\" y=\"44.179601\"/>\n     <use style=\"fill:#ff0000;stroke:#ff0000;\" x=\"473.744273\" xlink:href=\"#mde85425dd2\" y=\"44.179601\"/>\n     <use style=\"fill:#ff0000;stroke:#ff0000;\" x=\"475.015634\" xlink:href=\"#mde85425dd2\" y=\"51.626448\"/>\n     <use style=\"fill:#ff0000;stroke:#ff0000;\" x=\"476.286994\" xlink:href=\"#mde85425dd2\" y=\"54.10873\"/>\n     <use style=\"fill:#ff0000;stroke:#ff0000;\" x=\"477.558354\" xlink:href=\"#mde85425dd2\" y=\"54.10873\"/>\n     <use style=\"fill:#ff0000;stroke:#ff0000;\" x=\"478.829714\" xlink:href=\"#mde85425dd2\" y=\"46.661883\"/>\n     <use style=\"fill:#ff0000;stroke:#ff0000;\" x=\"480.101074\" xlink:href=\"#mde85425dd2\" y=\"49.144166\"/>\n     <use style=\"fill:#ff0000;stroke:#ff0000;\" x=\"481.372435\" xlink:href=\"#mde85425dd2\" y=\"51.626448\"/>\n     <use style=\"fill:#ff0000;stroke:#ff0000;\" x=\"482.643795\" xlink:href=\"#mde85425dd2\" y=\"51.626448\"/>\n     <use style=\"fill:#ff0000;stroke:#ff0000;\" x=\"483.915155\" xlink:href=\"#mde85425dd2\" y=\"51.626448\"/>\n     <use style=\"fill:#ff0000;stroke:#ff0000;\" x=\"485.186515\" xlink:href=\"#mde85425dd2\" y=\"49.144166\"/>\n     <use style=\"fill:#ff0000;stroke:#ff0000;\" x=\"486.457876\" xlink:href=\"#mde85425dd2\" y=\"49.144166\"/>\n     <use style=\"fill:#ff0000;stroke:#ff0000;\" x=\"487.729236\" xlink:href=\"#mde85425dd2\" y=\"49.144166\"/>\n     <use style=\"fill:#ff0000;stroke:#ff0000;\" x=\"489.000596\" xlink:href=\"#mde85425dd2\" y=\"51.626448\"/>\n     <use style=\"fill:#ff0000;stroke:#ff0000;\" x=\"490.271956\" xlink:href=\"#mde85425dd2\" y=\"46.661883\"/>\n     <use style=\"fill:#ff0000;stroke:#ff0000;\" x=\"491.543316\" xlink:href=\"#mde85425dd2\" y=\"49.144166\"/>\n     <use style=\"fill:#ff0000;stroke:#ff0000;\" x=\"492.814677\" xlink:href=\"#mde85425dd2\" y=\"49.144166\"/>\n     <use style=\"fill:#ff0000;stroke:#ff0000;\" x=\"494.086037\" xlink:href=\"#mde85425dd2\" y=\"54.10873\"/>\n     <use style=\"fill:#ff0000;stroke:#ff0000;\" x=\"495.357397\" xlink:href=\"#mde85425dd2\" y=\"49.144166\"/>\n     <use style=\"fill:#ff0000;stroke:#ff0000;\" x=\"496.628757\" xlink:href=\"#mde85425dd2\" y=\"51.626448\"/>\n     <use style=\"fill:#ff0000;stroke:#ff0000;\" x=\"497.900117\" xlink:href=\"#mde85425dd2\" y=\"46.661883\"/>\n     <use style=\"fill:#ff0000;stroke:#ff0000;\" x=\"499.171478\" xlink:href=\"#mde85425dd2\" y=\"54.10873\"/>\n     <use style=\"fill:#ff0000;stroke:#ff0000;\" x=\"500.442838\" xlink:href=\"#mde85425dd2\" y=\"51.626448\"/>\n     <use style=\"fill:#ff0000;stroke:#ff0000;\" x=\"501.714198\" xlink:href=\"#mde85425dd2\" y=\"49.144166\"/>\n     <use style=\"fill:#ff0000;stroke:#ff0000;\" x=\"502.985558\" xlink:href=\"#mde85425dd2\" y=\"46.661883\"/>\n     <use style=\"fill:#ff0000;stroke:#ff0000;\" x=\"504.256919\" xlink:href=\"#mde85425dd2\" y=\"46.661883\"/>\n     <use style=\"fill:#ff0000;stroke:#ff0000;\" x=\"505.528279\" xlink:href=\"#mde85425dd2\" y=\"46.661883\"/>\n     <use style=\"fill:#ff0000;stroke:#ff0000;\" x=\"506.799639\" xlink:href=\"#mde85425dd2\" y=\"46.661883\"/>\n     <use style=\"fill:#ff0000;stroke:#ff0000;\" x=\"508.070999\" xlink:href=\"#mde85425dd2\" y=\"49.144166\"/>\n     <use style=\"fill:#ff0000;stroke:#ff0000;\" x=\"509.342359\" xlink:href=\"#mde85425dd2\" y=\"49.144166\"/>\n     <use style=\"fill:#ff0000;stroke:#ff0000;\" x=\"510.61372\" xlink:href=\"#mde85425dd2\" y=\"51.626448\"/>\n     <use style=\"fill:#ff0000;stroke:#ff0000;\" x=\"511.88508\" xlink:href=\"#mde85425dd2\" y=\"56.591012\"/>\n     <use style=\"fill:#ff0000;stroke:#ff0000;\" x=\"513.15644\" xlink:href=\"#mde85425dd2\" y=\"54.10873\"/>\n     <use style=\"fill:#ff0000;stroke:#ff0000;\" x=\"514.4278\" xlink:href=\"#mde85425dd2\" y=\"49.144166\"/>\n     <use style=\"fill:#ff0000;stroke:#ff0000;\" x=\"515.699161\" xlink:href=\"#mde85425dd2\" y=\"51.626448\"/>\n     <use style=\"fill:#ff0000;stroke:#ff0000;\" x=\"516.970521\" xlink:href=\"#mde85425dd2\" y=\"51.626448\"/>\n     <use style=\"fill:#ff0000;stroke:#ff0000;\" x=\"518.241881\" xlink:href=\"#mde85425dd2\" y=\"51.626448\"/>\n     <use style=\"fill:#ff0000;stroke:#ff0000;\" x=\"519.513241\" xlink:href=\"#mde85425dd2\" y=\"49.144166\"/>\n     <use style=\"fill:#ff0000;stroke:#ff0000;\" x=\"520.784601\" xlink:href=\"#mde85425dd2\" y=\"51.626448\"/>\n     <use style=\"fill:#ff0000;stroke:#ff0000;\" x=\"522.055962\" xlink:href=\"#mde85425dd2\" y=\"49.144166\"/>\n     <use style=\"fill:#ff0000;stroke:#ff0000;\" x=\"523.327322\" xlink:href=\"#mde85425dd2\" y=\"49.144166\"/>\n     <use style=\"fill:#ff0000;stroke:#ff0000;\" x=\"524.598682\" xlink:href=\"#mde85425dd2\" y=\"49.144166\"/>\n     <use style=\"fill:#ff0000;stroke:#ff0000;\" x=\"525.870042\" xlink:href=\"#mde85425dd2\" y=\"49.144166\"/>\n     <use style=\"fill:#ff0000;stroke:#ff0000;\" x=\"527.141403\" xlink:href=\"#mde85425dd2\" y=\"51.626448\"/>\n     <use style=\"fill:#ff0000;stroke:#ff0000;\" x=\"528.412763\" xlink:href=\"#mde85425dd2\" y=\"51.626448\"/>\n     <use style=\"fill:#ff0000;stroke:#ff0000;\" x=\"529.684123\" xlink:href=\"#mde85425dd2\" y=\"49.144166\"/>\n     <use style=\"fill:#ff0000;stroke:#ff0000;\" x=\"530.955483\" xlink:href=\"#mde85425dd2\" y=\"46.661883\"/>\n     <use style=\"fill:#ff0000;stroke:#ff0000;\" x=\"532.226843\" xlink:href=\"#mde85425dd2\" y=\"41.697319\"/>\n     <use style=\"fill:#ff0000;stroke:#ff0000;\" x=\"533.498204\" xlink:href=\"#mde85425dd2\" y=\"44.179601\"/>\n     <use style=\"fill:#ff0000;stroke:#ff0000;\" x=\"534.769564\" xlink:href=\"#mde85425dd2\" y=\"46.661883\"/>\n     <use style=\"fill:#ff0000;stroke:#ff0000;\" x=\"536.040924\" xlink:href=\"#mde85425dd2\" y=\"49.144166\"/>\n     <use style=\"fill:#ff0000;stroke:#ff0000;\" x=\"537.312284\" xlink:href=\"#mde85425dd2\" y=\"41.697319\"/>\n     <use style=\"fill:#ff0000;stroke:#ff0000;\" x=\"538.583644\" xlink:href=\"#mde85425dd2\" y=\"44.179601\"/>\n     <use style=\"fill:#ff0000;stroke:#ff0000;\" x=\"539.855005\" xlink:href=\"#mde85425dd2\" y=\"44.179601\"/>\n     <use style=\"fill:#ff0000;stroke:#ff0000;\" x=\"541.126365\" xlink:href=\"#mde85425dd2\" y=\"46.661883\"/>\n     <use style=\"fill:#ff0000;stroke:#ff0000;\" x=\"542.397725\" xlink:href=\"#mde85425dd2\" y=\"44.179601\"/>\n     <use style=\"fill:#ff0000;stroke:#ff0000;\" x=\"543.669085\" xlink:href=\"#mde85425dd2\" y=\"46.661883\"/>\n     <use style=\"fill:#ff0000;stroke:#ff0000;\" x=\"544.940446\" xlink:href=\"#mde85425dd2\" y=\"51.626448\"/>\n     <use style=\"fill:#ff0000;stroke:#ff0000;\" x=\"546.211806\" xlink:href=\"#mde85425dd2\" y=\"46.661883\"/>\n     <use style=\"fill:#ff0000;stroke:#ff0000;\" x=\"547.483166\" xlink:href=\"#mde85425dd2\" y=\"51.626448\"/>\n     <use style=\"fill:#ff0000;stroke:#ff0000;\" x=\"548.754526\" xlink:href=\"#mde85425dd2\" y=\"46.661883\"/>\n     <use style=\"fill:#ff0000;stroke:#ff0000;\" x=\"550.025886\" xlink:href=\"#mde85425dd2\" y=\"49.144166\"/>\n     <use style=\"fill:#ff0000;stroke:#ff0000;\" x=\"551.297247\" xlink:href=\"#mde85425dd2\" y=\"46.661883\"/>\n     <use style=\"fill:#ff0000;stroke:#ff0000;\" x=\"552.568607\" xlink:href=\"#mde85425dd2\" y=\"49.144166\"/>\n     <use style=\"fill:#ff0000;stroke:#ff0000;\" x=\"553.839967\" xlink:href=\"#mde85425dd2\" y=\"46.661883\"/>\n     <use style=\"fill:#ff0000;stroke:#ff0000;\" x=\"555.111327\" xlink:href=\"#mde85425dd2\" y=\"46.661883\"/>\n     <use style=\"fill:#ff0000;stroke:#ff0000;\" x=\"556.382688\" xlink:href=\"#mde85425dd2\" y=\"44.179601\"/>\n     <use style=\"fill:#ff0000;stroke:#ff0000;\" x=\"557.654048\" xlink:href=\"#mde85425dd2\" y=\"44.179601\"/>\n     <use style=\"fill:#ff0000;stroke:#ff0000;\" x=\"558.925408\" xlink:href=\"#mde85425dd2\" y=\"46.661883\"/>\n     <use style=\"fill:#ff0000;stroke:#ff0000;\" x=\"560.196768\" xlink:href=\"#mde85425dd2\" y=\"46.661883\"/>\n     <use style=\"fill:#ff0000;stroke:#ff0000;\" x=\"561.468128\" xlink:href=\"#mde85425dd2\" y=\"49.144166\"/>\n     <use style=\"fill:#ff0000;stroke:#ff0000;\" x=\"562.739489\" xlink:href=\"#mde85425dd2\" y=\"46.661883\"/>\n    </g>\n   </g>\n   <g id=\"patch_3\">\n    <path d=\"M 30.103125 269.409034 \nL 30.103125 22.318125 \n\" style=\"fill:none;stroke:#000000;stroke-linecap:square;stroke-linejoin:miter;stroke-width:0.8;\"/>\n   </g>\n   <g id=\"patch_4\">\n    <path d=\"M 588.103125 269.409034 \nL 588.103125 22.318125 \n\" style=\"fill:none;stroke:#000000;stroke-linecap:square;stroke-linejoin:miter;stroke-width:0.8;\"/>\n   </g>\n   <g id=\"patch_5\">\n    <path d=\"M 30.103125 269.409034 \nL 588.103125 269.409034 \n\" style=\"fill:none;stroke:#000000;stroke-linecap:square;stroke-linejoin:miter;stroke-width:0.8;\"/>\n   </g>\n   <g id=\"patch_6\">\n    <path d=\"M 30.103125 22.318125 \nL 588.103125 22.318125 \n\" style=\"fill:none;stroke:#000000;stroke-linecap:square;stroke-linejoin:miter;stroke-width:0.8;\"/>\n   </g>\n   <g id=\"text_15\">\n    <!-- training and validation accuracy -->\n    <g transform=\"translate(212.23875 16.318125)scale(0.12 -0.12)\">\n     <defs>\n      <path d=\"M 18.3125 70.21875 \nL 18.3125 54.6875 \nL 36.8125 54.6875 \nL 36.8125 47.703125 \nL 18.3125 47.703125 \nL 18.3125 18.015625 \nQ 18.3125 11.328125 20.140625 9.421875 \nQ 21.96875 7.515625 27.59375 7.515625 \nL 36.8125 7.515625 \nL 36.8125 0 \nL 27.59375 0 \nQ 17.1875 0 13.234375 3.875 \nQ 9.28125 7.765625 9.28125 18.015625 \nL 9.28125 47.703125 \nL 2.6875 47.703125 \nL 2.6875 54.6875 \nL 9.28125 54.6875 \nL 9.28125 70.21875 \nz\n\" id=\"DejaVuSans-116\"/>\n      <path d=\"M 41.109375 46.296875 \nQ 39.59375 47.171875 37.8125 47.578125 \nQ 36.03125 48 33.890625 48 \nQ 26.265625 48 22.1875 43.046875 \nQ 18.109375 38.09375 18.109375 28.8125 \nL 18.109375 0 \nL 9.078125 0 \nL 9.078125 54.6875 \nL 18.109375 54.6875 \nL 18.109375 46.1875 \nQ 20.953125 51.171875 25.484375 53.578125 \nQ 30.03125 56 36.53125 56 \nQ 37.453125 56 38.578125 55.875 \nQ 39.703125 55.765625 41.0625 55.515625 \nz\n\" id=\"DejaVuSans-114\"/>\n      <path d=\"M 34.28125 27.484375 \nQ 23.390625 27.484375 19.1875 25 \nQ 14.984375 22.515625 14.984375 16.5 \nQ 14.984375 11.71875 18.140625 8.90625 \nQ 21.296875 6.109375 26.703125 6.109375 \nQ 34.1875 6.109375 38.703125 11.40625 \nQ 43.21875 16.703125 43.21875 25.484375 \nL 43.21875 27.484375 \nz\nM 52.203125 31.203125 \nL 52.203125 0 \nL 43.21875 0 \nL 43.21875 8.296875 \nQ 40.140625 3.328125 35.546875 0.953125 \nQ 30.953125 -1.421875 24.3125 -1.421875 \nQ 15.921875 -1.421875 10.953125 3.296875 \nQ 6 8.015625 6 15.921875 \nQ 6 25.140625 12.171875 29.828125 \nQ 18.359375 34.515625 30.609375 34.515625 \nL 43.21875 34.515625 \nL 43.21875 35.40625 \nQ 43.21875 41.609375 39.140625 45 \nQ 35.0625 48.390625 27.6875 48.390625 \nQ 23 48.390625 18.546875 47.265625 \nQ 14.109375 46.140625 10.015625 43.890625 \nL 10.015625 52.203125 \nQ 14.9375 54.109375 19.578125 55.046875 \nQ 24.21875 56 28.609375 56 \nQ 40.484375 56 46.34375 49.84375 \nQ 52.203125 43.703125 52.203125 31.203125 \nz\n\" id=\"DejaVuSans-97\"/>\n      <path d=\"M 9.421875 54.6875 \nL 18.40625 54.6875 \nL 18.40625 0 \nL 9.421875 0 \nz\nM 9.421875 75.984375 \nL 18.40625 75.984375 \nL 18.40625 64.59375 \nL 9.421875 64.59375 \nz\n\" id=\"DejaVuSans-105\"/>\n      <path d=\"M 54.890625 33.015625 \nL 54.890625 0 \nL 45.90625 0 \nL 45.90625 32.71875 \nQ 45.90625 40.484375 42.875 44.328125 \nQ 39.84375 48.1875 33.796875 48.1875 \nQ 26.515625 48.1875 22.3125 43.546875 \nQ 18.109375 38.921875 18.109375 30.90625 \nL 18.109375 0 \nL 9.078125 0 \nL 9.078125 54.6875 \nL 18.109375 54.6875 \nL 18.109375 46.1875 \nQ 21.34375 51.125 25.703125 53.5625 \nQ 30.078125 56 35.796875 56 \nQ 45.21875 56 50.046875 50.171875 \nQ 54.890625 44.34375 54.890625 33.015625 \nz\n\" id=\"DejaVuSans-110\"/>\n      <path d=\"M 45.40625 27.984375 \nQ 45.40625 37.75 41.375 43.109375 \nQ 37.359375 48.484375 30.078125 48.484375 \nQ 22.859375 48.484375 18.828125 43.109375 \nQ 14.796875 37.75 14.796875 27.984375 \nQ 14.796875 18.265625 18.828125 12.890625 \nQ 22.859375 7.515625 30.078125 7.515625 \nQ 37.359375 7.515625 41.375 12.890625 \nQ 45.40625 18.265625 45.40625 27.984375 \nz\nM 54.390625 6.78125 \nQ 54.390625 -7.171875 48.1875 -13.984375 \nQ 42 -20.796875 29.203125 -20.796875 \nQ 24.46875 -20.796875 20.265625 -20.09375 \nQ 16.0625 -19.390625 12.109375 -17.921875 \nL 12.109375 -9.1875 \nQ 16.0625 -11.328125 19.921875 -12.34375 \nQ 23.78125 -13.375 27.78125 -13.375 \nQ 36.625 -13.375 41.015625 -8.765625 \nQ 45.40625 -4.15625 45.40625 5.171875 \nL 45.40625 9.625 \nQ 42.625 4.78125 38.28125 2.390625 \nQ 33.9375 0 27.875 0 \nQ 17.828125 0 11.671875 7.65625 \nQ 5.515625 15.328125 5.515625 27.984375 \nQ 5.515625 40.671875 11.671875 48.328125 \nQ 17.828125 56 27.875 56 \nQ 33.9375 56 38.28125 53.609375 \nQ 42.625 51.21875 45.40625 46.390625 \nL 45.40625 54.6875 \nL 54.390625 54.6875 \nz\n\" id=\"DejaVuSans-103\"/>\n      <path id=\"DejaVuSans-32\"/>\n      <path d=\"M 45.40625 46.390625 \nL 45.40625 75.984375 \nL 54.390625 75.984375 \nL 54.390625 0 \nL 45.40625 0 \nL 45.40625 8.203125 \nQ 42.578125 3.328125 38.25 0.953125 \nQ 33.9375 -1.421875 27.875 -1.421875 \nQ 17.96875 -1.421875 11.734375 6.484375 \nQ 5.515625 14.40625 5.515625 27.296875 \nQ 5.515625 40.1875 11.734375 48.09375 \nQ 17.96875 56 27.875 56 \nQ 33.9375 56 38.25 53.625 \nQ 42.578125 51.265625 45.40625 46.390625 \nz\nM 14.796875 27.296875 \nQ 14.796875 17.390625 18.875 11.75 \nQ 22.953125 6.109375 30.078125 6.109375 \nQ 37.203125 6.109375 41.296875 11.75 \nQ 45.40625 17.390625 45.40625 27.296875 \nQ 45.40625 37.203125 41.296875 42.84375 \nQ 37.203125 48.484375 30.078125 48.484375 \nQ 22.953125 48.484375 18.875 42.84375 \nQ 14.796875 37.203125 14.796875 27.296875 \nz\n\" id=\"DejaVuSans-100\"/>\n      <path d=\"M 2.984375 54.6875 \nL 12.5 54.6875 \nL 29.59375 8.796875 \nL 46.6875 54.6875 \nL 56.203125 54.6875 \nL 35.6875 0 \nL 23.484375 0 \nz\n\" id=\"DejaVuSans-118\"/>\n      <path d=\"M 9.421875 75.984375 \nL 18.40625 75.984375 \nL 18.40625 0 \nL 9.421875 0 \nz\n\" id=\"DejaVuSans-108\"/>\n      <path d=\"M 8.5 21.578125 \nL 8.5 54.6875 \nL 17.484375 54.6875 \nL 17.484375 21.921875 \nQ 17.484375 14.15625 20.5 10.265625 \nQ 23.53125 6.390625 29.59375 6.390625 \nQ 36.859375 6.390625 41.078125 11.03125 \nQ 45.3125 15.671875 45.3125 23.6875 \nL 45.3125 54.6875 \nL 54.296875 54.6875 \nL 54.296875 0 \nL 45.3125 0 \nL 45.3125 8.40625 \nQ 42.046875 3.421875 37.71875 1 \nQ 33.40625 -1.421875 27.6875 -1.421875 \nQ 18.265625 -1.421875 13.375 4.4375 \nQ 8.5 10.296875 8.5 21.578125 \nz\nM 31.109375 56 \nz\n\" id=\"DejaVuSans-117\"/>\n      <path d=\"M 32.171875 -5.078125 \nQ 28.375 -14.84375 24.75 -17.8125 \nQ 21.140625 -20.796875 15.09375 -20.796875 \nL 7.90625 -20.796875 \nL 7.90625 -13.28125 \nL 13.1875 -13.28125 \nQ 16.890625 -13.28125 18.9375 -11.515625 \nQ 21 -9.765625 23.484375 -3.21875 \nL 25.09375 0.875 \nL 2.984375 54.6875 \nL 12.5 54.6875 \nL 29.59375 11.921875 \nL 46.6875 54.6875 \nL 56.203125 54.6875 \nz\n\" id=\"DejaVuSans-121\"/>\n     </defs>\n     <use xlink:href=\"#DejaVuSans-116\"/>\n     <use x=\"39.208984\" xlink:href=\"#DejaVuSans-114\"/>\n     <use x=\"80.322266\" xlink:href=\"#DejaVuSans-97\"/>\n     <use x=\"141.601562\" xlink:href=\"#DejaVuSans-105\"/>\n     <use x=\"169.384766\" xlink:href=\"#DejaVuSans-110\"/>\n     <use x=\"232.763672\" xlink:href=\"#DejaVuSans-105\"/>\n     <use x=\"260.546875\" xlink:href=\"#DejaVuSans-110\"/>\n     <use x=\"323.925781\" xlink:href=\"#DejaVuSans-103\"/>\n     <use x=\"387.402344\" xlink:href=\"#DejaVuSans-32\"/>\n     <use x=\"419.189453\" xlink:href=\"#DejaVuSans-97\"/>\n     <use x=\"480.46875\" xlink:href=\"#DejaVuSans-110\"/>\n     <use x=\"543.847656\" xlink:href=\"#DejaVuSans-100\"/>\n     <use x=\"607.324219\" xlink:href=\"#DejaVuSans-32\"/>\n     <use x=\"639.111328\" xlink:href=\"#DejaVuSans-118\"/>\n     <use x=\"698.291016\" xlink:href=\"#DejaVuSans-97\"/>\n     <use x=\"759.570312\" xlink:href=\"#DejaVuSans-108\"/>\n     <use x=\"787.353516\" xlink:href=\"#DejaVuSans-105\"/>\n     <use x=\"815.136719\" xlink:href=\"#DejaVuSans-100\"/>\n     <use x=\"878.613281\" xlink:href=\"#DejaVuSans-97\"/>\n     <use x=\"939.892578\" xlink:href=\"#DejaVuSans-116\"/>\n     <use x=\"979.101562\" xlink:href=\"#DejaVuSans-105\"/>\n     <use x=\"1006.884766\" xlink:href=\"#DejaVuSans-111\"/>\n     <use x=\"1068.066406\" xlink:href=\"#DejaVuSans-110\"/>\n     <use x=\"1131.445312\" xlink:href=\"#DejaVuSans-32\"/>\n     <use x=\"1163.232422\" xlink:href=\"#DejaVuSans-97\"/>\n     <use x=\"1224.511719\" xlink:href=\"#DejaVuSans-99\"/>\n     <use x=\"1279.492188\" xlink:href=\"#DejaVuSans-99\"/>\n     <use x=\"1334.472656\" xlink:href=\"#DejaVuSans-117\"/>\n     <use x=\"1397.851562\" xlink:href=\"#DejaVuSans-114\"/>\n     <use x=\"1438.964844\" xlink:href=\"#DejaVuSans-97\"/>\n     <use x=\"1500.244141\" xlink:href=\"#DejaVuSans-99\"/>\n     <use x=\"1555.224609\" xlink:href=\"#DejaVuSans-121\"/>\n    </g>\n   </g>\n  </g>\n  <g id=\"axes_2\">\n   <g id=\"patch_7\">\n    <path d=\"M 30.103125 565.918125 \nL 588.103125 565.918125 \nL 588.103125 318.827216 \nL 30.103125 318.827216 \nz\n\" style=\"fill:#ffffff;\"/>\n   </g>\n   <g id=\"matplotlib.axis_3\">\n    <g id=\"xtick_10\">\n     <g id=\"line2d_16\">\n      <g>\n       <use style=\"stroke:#000000;stroke-width:0.8;\" x=\"54.195401\" xlink:href=\"#mc139c80b13\" y=\"565.918125\"/>\n      </g>\n     </g>\n     <g id=\"text_16\">\n      <!-- 0 -->\n      <g transform=\"translate(51.014151 580.516562)scale(0.1 -0.1)\">\n       <use xlink:href=\"#DejaVuSans-48\"/>\n      </g>\n     </g>\n    </g>\n    <g id=\"xtick_11\">\n     <g id=\"line2d_17\">\n      <g>\n       <use style=\"stroke:#000000;stroke-width:0.8;\" x=\"117.763412\" xlink:href=\"#mc139c80b13\" y=\"565.918125\"/>\n      </g>\n     </g>\n     <g id=\"text_17\">\n      <!-- 50 -->\n      <g transform=\"translate(111.400912 580.516562)scale(0.1 -0.1)\">\n       <use xlink:href=\"#DejaVuSans-53\"/>\n       <use x=\"63.623047\" xlink:href=\"#DejaVuSans-48\"/>\n      </g>\n     </g>\n    </g>\n    <g id=\"xtick_12\">\n     <g id=\"line2d_18\">\n      <g>\n       <use style=\"stroke:#000000;stroke-width:0.8;\" x=\"181.331423\" xlink:href=\"#mc139c80b13\" y=\"565.918125\"/>\n      </g>\n     </g>\n     <g id=\"text_18\">\n      <!-- 100 -->\n      <g transform=\"translate(171.787673 580.516562)scale(0.1 -0.1)\">\n       <use xlink:href=\"#DejaVuSans-49\"/>\n       <use x=\"63.623047\" xlink:href=\"#DejaVuSans-48\"/>\n       <use x=\"127.246094\" xlink:href=\"#DejaVuSans-48\"/>\n      </g>\n     </g>\n    </g>\n    <g id=\"xtick_13\">\n     <g id=\"line2d_19\">\n      <g>\n       <use style=\"stroke:#000000;stroke-width:0.8;\" x=\"244.899434\" xlink:href=\"#mc139c80b13\" y=\"565.918125\"/>\n      </g>\n     </g>\n     <g id=\"text_19\">\n      <!-- 150 -->\n      <g transform=\"translate(235.355684 580.516562)scale(0.1 -0.1)\">\n       <use xlink:href=\"#DejaVuSans-49\"/>\n       <use x=\"63.623047\" xlink:href=\"#DejaVuSans-53\"/>\n       <use x=\"127.246094\" xlink:href=\"#DejaVuSans-48\"/>\n      </g>\n     </g>\n    </g>\n    <g id=\"xtick_14\">\n     <g id=\"line2d_20\">\n      <g>\n       <use style=\"stroke:#000000;stroke-width:0.8;\" x=\"308.467445\" xlink:href=\"#mc139c80b13\" y=\"565.918125\"/>\n      </g>\n     </g>\n     <g id=\"text_20\">\n      <!-- 200 -->\n      <g transform=\"translate(298.923695 580.516562)scale(0.1 -0.1)\">\n       <use xlink:href=\"#DejaVuSans-50\"/>\n       <use x=\"63.623047\" xlink:href=\"#DejaVuSans-48\"/>\n       <use x=\"127.246094\" xlink:href=\"#DejaVuSans-48\"/>\n      </g>\n     </g>\n    </g>\n    <g id=\"xtick_15\">\n     <g id=\"line2d_21\">\n      <g>\n       <use style=\"stroke:#000000;stroke-width:0.8;\" x=\"372.035456\" xlink:href=\"#mc139c80b13\" y=\"565.918125\"/>\n      </g>\n     </g>\n     <g id=\"text_21\">\n      <!-- 250 -->\n      <g transform=\"translate(362.491706 580.516562)scale(0.1 -0.1)\">\n       <use xlink:href=\"#DejaVuSans-50\"/>\n       <use x=\"63.623047\" xlink:href=\"#DejaVuSans-53\"/>\n       <use x=\"127.246094\" xlink:href=\"#DejaVuSans-48\"/>\n      </g>\n     </g>\n    </g>\n    <g id=\"xtick_16\">\n     <g id=\"line2d_22\">\n      <g>\n       <use style=\"stroke:#000000;stroke-width:0.8;\" x=\"435.603467\" xlink:href=\"#mc139c80b13\" y=\"565.918125\"/>\n      </g>\n     </g>\n     <g id=\"text_22\">\n      <!-- 300 -->\n      <g transform=\"translate(426.059717 580.516562)scale(0.1 -0.1)\">\n       <use xlink:href=\"#DejaVuSans-51\"/>\n       <use x=\"63.623047\" xlink:href=\"#DejaVuSans-48\"/>\n       <use x=\"127.246094\" xlink:href=\"#DejaVuSans-48\"/>\n      </g>\n     </g>\n    </g>\n    <g id=\"xtick_17\">\n     <g id=\"line2d_23\">\n      <g>\n       <use style=\"stroke:#000000;stroke-width:0.8;\" x=\"499.171478\" xlink:href=\"#mc139c80b13\" y=\"565.918125\"/>\n      </g>\n     </g>\n     <g id=\"text_23\">\n      <!-- 350 -->\n      <g transform=\"translate(489.627728 580.516562)scale(0.1 -0.1)\">\n       <use xlink:href=\"#DejaVuSans-51\"/>\n       <use x=\"63.623047\" xlink:href=\"#DejaVuSans-53\"/>\n       <use x=\"127.246094\" xlink:href=\"#DejaVuSans-48\"/>\n      </g>\n     </g>\n    </g>\n    <g id=\"xtick_18\">\n     <g id=\"line2d_24\">\n      <g>\n       <use style=\"stroke:#000000;stroke-width:0.8;\" x=\"562.739489\" xlink:href=\"#mc139c80b13\" y=\"565.918125\"/>\n      </g>\n     </g>\n     <g id=\"text_24\">\n      <!-- 400 -->\n      <g transform=\"translate(553.195739 580.516562)scale(0.1 -0.1)\">\n       <use xlink:href=\"#DejaVuSans-52\"/>\n       <use x=\"63.623047\" xlink:href=\"#DejaVuSans-48\"/>\n       <use x=\"127.246094\" xlink:href=\"#DejaVuSans-48\"/>\n      </g>\n     </g>\n    </g>\n    <g id=\"text_25\">\n     <!-- epochs -->\n     <g transform=\"translate(291.270312 594.194687)scale(0.1 -0.1)\">\n      <use xlink:href=\"#DejaVuSans-101\"/>\n      <use x=\"61.523438\" xlink:href=\"#DejaVuSans-112\"/>\n      <use x=\"125\" xlink:href=\"#DejaVuSans-111\"/>\n      <use x=\"186.181641\" xlink:href=\"#DejaVuSans-99\"/>\n      <use x=\"241.162109\" xlink:href=\"#DejaVuSans-104\"/>\n      <use x=\"304.541016\" xlink:href=\"#DejaVuSans-115\"/>\n     </g>\n    </g>\n   </g>\n   <g id=\"matplotlib.axis_4\">\n    <g id=\"ytick_5\">\n     <g id=\"line2d_25\">\n      <g>\n       <use style=\"stroke:#000000;stroke-width:0.8;\" x=\"30.103125\" xlink:href=\"#m2e218bad5c\" y=\"547.539175\"/>\n      </g>\n     </g>\n     <g id=\"text_26\">\n      <!-- 0.1 -->\n      <g transform=\"translate(7.2 551.338394)scale(0.1 -0.1)\">\n       <use xlink:href=\"#DejaVuSans-48\"/>\n       <use x=\"63.623047\" xlink:href=\"#DejaVuSans-46\"/>\n       <use x=\"95.410156\" xlink:href=\"#DejaVuSans-49\"/>\n      </g>\n     </g>\n    </g>\n    <g id=\"ytick_6\">\n     <g id=\"line2d_26\">\n      <g>\n       <use style=\"stroke:#000000;stroke-width:0.8;\" x=\"30.103125\" xlink:href=\"#m2e218bad5c\" y=\"515.486068\"/>\n      </g>\n     </g>\n     <g id=\"text_27\">\n      <!-- 0.2 -->\n      <g transform=\"translate(7.2 519.285287)scale(0.1 -0.1)\">\n       <use xlink:href=\"#DejaVuSans-48\"/>\n       <use x=\"63.623047\" xlink:href=\"#DejaVuSans-46\"/>\n       <use x=\"95.410156\" xlink:href=\"#DejaVuSans-50\"/>\n      </g>\n     </g>\n    </g>\n    <g id=\"ytick_7\">\n     <g id=\"line2d_27\">\n      <g>\n       <use style=\"stroke:#000000;stroke-width:0.8;\" x=\"30.103125\" xlink:href=\"#m2e218bad5c\" y=\"483.432962\"/>\n      </g>\n     </g>\n     <g id=\"text_28\">\n      <!-- 0.3 -->\n      <g transform=\"translate(7.2 487.23218)scale(0.1 -0.1)\">\n       <use xlink:href=\"#DejaVuSans-48\"/>\n       <use x=\"63.623047\" xlink:href=\"#DejaVuSans-46\"/>\n       <use x=\"95.410156\" xlink:href=\"#DejaVuSans-51\"/>\n      </g>\n     </g>\n    </g>\n    <g id=\"ytick_8\">\n     <g id=\"line2d_28\">\n      <g>\n       <use style=\"stroke:#000000;stroke-width:0.8;\" x=\"30.103125\" xlink:href=\"#m2e218bad5c\" y=\"451.379855\"/>\n      </g>\n     </g>\n     <g id=\"text_29\">\n      <!-- 0.4 -->\n      <g transform=\"translate(7.2 455.179074)scale(0.1 -0.1)\">\n       <use xlink:href=\"#DejaVuSans-48\"/>\n       <use x=\"63.623047\" xlink:href=\"#DejaVuSans-46\"/>\n       <use x=\"95.410156\" xlink:href=\"#DejaVuSans-52\"/>\n      </g>\n     </g>\n    </g>\n    <g id=\"ytick_9\">\n     <g id=\"line2d_29\">\n      <g>\n       <use style=\"stroke:#000000;stroke-width:0.8;\" x=\"30.103125\" xlink:href=\"#m2e218bad5c\" y=\"419.326748\"/>\n      </g>\n     </g>\n     <g id=\"text_30\">\n      <!-- 0.5 -->\n      <g transform=\"translate(7.2 423.125967)scale(0.1 -0.1)\">\n       <use xlink:href=\"#DejaVuSans-48\"/>\n       <use x=\"63.623047\" xlink:href=\"#DejaVuSans-46\"/>\n       <use x=\"95.410156\" xlink:href=\"#DejaVuSans-53\"/>\n      </g>\n     </g>\n    </g>\n    <g id=\"ytick_10\">\n     <g id=\"line2d_30\">\n      <g>\n       <use style=\"stroke:#000000;stroke-width:0.8;\" x=\"30.103125\" xlink:href=\"#m2e218bad5c\" y=\"387.273641\"/>\n      </g>\n     </g>\n     <g id=\"text_31\">\n      <!-- 0.6 -->\n      <g transform=\"translate(7.2 391.07286)scale(0.1 -0.1)\">\n       <use xlink:href=\"#DejaVuSans-48\"/>\n       <use x=\"63.623047\" xlink:href=\"#DejaVuSans-46\"/>\n       <use x=\"95.410156\" xlink:href=\"#DejaVuSans-54\"/>\n      </g>\n     </g>\n    </g>\n    <g id=\"ytick_11\">\n     <g id=\"line2d_31\">\n      <g>\n       <use style=\"stroke:#000000;stroke-width:0.8;\" x=\"30.103125\" xlink:href=\"#m2e218bad5c\" y=\"355.220535\"/>\n      </g>\n     </g>\n     <g id=\"text_32\">\n      <!-- 0.7 -->\n      <g transform=\"translate(7.2 359.019753)scale(0.1 -0.1)\">\n       <use xlink:href=\"#DejaVuSans-48\"/>\n       <use x=\"63.623047\" xlink:href=\"#DejaVuSans-46\"/>\n       <use x=\"95.410156\" xlink:href=\"#DejaVuSans-55\"/>\n      </g>\n     </g>\n    </g>\n    <g id=\"ytick_12\">\n     <g id=\"line2d_32\">\n      <g>\n       <use style=\"stroke:#000000;stroke-width:0.8;\" x=\"30.103125\" xlink:href=\"#m2e218bad5c\" y=\"323.167428\"/>\n      </g>\n     </g>\n     <g id=\"text_33\">\n      <!-- 0.8 -->\n      <g transform=\"translate(7.2 326.966647)scale(0.1 -0.1)\">\n       <use xlink:href=\"#DejaVuSans-48\"/>\n       <use x=\"63.623047\" xlink:href=\"#DejaVuSans-46\"/>\n       <use x=\"95.410156\" xlink:href=\"#DejaVuSans-56\"/>\n      </g>\n     </g>\n    </g>\n   </g>\n   <g id=\"line2d_33\">\n    <path clip-path=\"url(#pbf3ea29c39)\" d=\"M 55.466761 330.058621 \nL 56.738122 395.058158 \nL 58.009482 426.202453 \nL 59.280842 443.230749 \nL 60.552202 462.110768 \nL 63.094923 479.092045 \nL 65.637643 495.261209 \nL 66.909003 496.416724 \nL 68.180364 494.321951 \nL 69.451724 505.619235 \nL 70.723084 509.215338 \nL 71.994444 508.83996 \nL 73.265804 513.598575 \nL 74.537165 507.037995 \nL 75.808525 508.623985 \nL 77.079885 508.945493 \nL 78.351245 514.394752 \nL 79.622606 516.839288 \nL 80.893966 503.608351 \nL 82.165326 512.531398 \nL 83.436686 511.460967 \nL 84.708046 517.999461 \nL 85.979407 515.701078 \nL 87.250767 520.420061 \nL 88.522127 519.966156 \nL 89.793487 525.008465 \nL 91.064847 517.154674 \nL 92.336208 525.204888 \nL 93.607568 524.99402 \nL 94.878928 519.146972 \nL 96.150288 516.021898 \nL 97.421649 522.040811 \nL 98.693009 518.648043 \nL 99.964369 522.33112 \nL 101.235729 525.002412 \nL 102.507089 535.518906 \nL 103.77845 520.850653 \nL 105.04981 522.167089 \nL 106.32117 521.647422 \nL 107.59253 523.580862 \nL 108.863891 524.894562 \nL 110.135251 518.324055 \nL 111.406611 528.475576 \nL 112.677971 524.778643 \nL 113.949331 531.73036 \nL 115.220692 521.197145 \nL 116.492052 520.012858 \nL 117.763412 523.760967 \nL 119.034772 526.13253 \nL 120.306133 528.009684 \nL 122.848853 533.185578 \nL 124.120213 528.302919 \nL 125.391573 522.678938 \nL 126.662934 533.722288 \nL 127.934294 533.976933 \nL 129.205654 525.346076 \nL 130.477014 529.085901 \nL 131.748374 531.235073 \nL 133.019735 528.235869 \nL 134.291095 534.949673 \nL 135.562455 531.713135 \nL 136.833815 527.495351 \nL 138.105176 536.642834 \nL 139.376536 530.012116 \nL 140.647896 530.197701 \nL 141.919256 527.021826 \nL 143.190616 531.691678 \nL 144.461977 531.990006 \nL 145.733337 530.846436 \nL 147.004697 528.258838 \nL 148.276057 535.656474 \nL 149.547418 531.386655 \nL 150.818778 531.606976 \nL 152.090138 526.802158 \nL 153.361498 533.262646 \nL 154.632858 533.536199 \nL 155.904219 527.210743 \nL 157.175579 525.498699 \nL 158.446939 528.374283 \nL 159.718299 523.020633 \nL 160.98966 529.439931 \nL 162.26102 530.924915 \nL 163.53238 523.989314 \nL 164.80374 536.00813 \nL 166.0751 534.692765 \nL 167.346461 536.617557 \nL 168.617821 531.591816 \nL 169.889181 531.912225 \nL 171.160541 531.017116 \nL 172.431901 537.465134 \nL 173.703262 536.618063 \nL 174.974622 535.273247 \nL 176.245982 530.455116 \nL 177.517342 532.535865 \nL 178.788703 531.302812 \nL 180.060063 533.705135 \nL 181.331423 531.99942 \nL 182.602783 529.810727 \nL 183.874143 532.493174 \nL 185.145504 536.892025 \nL 186.416864 535.97339 \nL 187.688224 537.502653 \nL 188.959584 530.663226 \nL 190.230945 531.340725 \nL 191.502305 538.663189 \nL 192.773665 534.910387 \nL 194.045025 532.893889 \nL 195.316385 533.783218 \nL 196.587746 531.197074 \nL 197.859106 536.496933 \nL 199.130466 535.089088 \nL 200.401826 531.41708 \nL 201.673187 535.639739 \nL 202.944547 531.12589 \nL 204.215907 529.506144 \nL 205.487267 536.380731 \nL 206.758627 536.463602 \nL 208.029988 536.856291 \nL 209.301348 533.51096 \nL 210.572708 532.987518 \nL 211.844068 529.388418 \nL 213.115428 538.659665 \nL 214.386789 537.879611 \nL 215.658149 536.867416 \nL 216.929509 535.431009 \nL 218.200869 538.147382 \nL 219.47223 535.940396 \nL 220.74359 539.574404 \nL 222.01495 539.89374 \nL 223.28631 531.747261 \nL 224.55767 537.406831 \nL 225.829031 543.775338 \nL 227.100391 537.935003 \nL 228.371751 535.287261 \nL 229.643111 534.387946 \nL 230.914472 535.116113 \nL 232.185832 538.291409 \nL 233.457192 533.023638 \nL 234.728552 541.943492 \nL 235.999912 538.206291 \nL 237.271273 537.775172 \nL 238.542633 533.160505 \nL 239.813993 534.574159 \nL 241.085353 538.167544 \nL 242.356714 541.266203 \nL 243.628074 539.747249 \nL 244.899434 539.2519 \nL 246.170794 537.769958 \nL 248.713515 538.856264 \nL 249.984875 536.225588 \nL 251.256235 538.823365 \nL 252.527595 536.667406 \nL 253.798955 539.239205 \nL 255.070316 540.702999 \nL 256.341676 539.237669 \nL 257.613036 536.791116 \nL 258.884396 535.704753 \nL 260.155757 536.756268 \nL 261.427117 540.262039 \nL 262.698477 542.785963 \nL 263.969837 540.361139 \nL 265.241197 540.437804 \nL 266.512558 535.54746 \nL 267.783918 540.46928 \nL 269.055278 541.771909 \nL 270.326638 534.148781 \nL 271.597999 538.281654 \nL 272.869359 537.85751 \nL 274.140719 540.288595 \nL 275.412079 540.352281 \nL 276.683439 539.884664 \nL 277.9548 542.639815 \nL 279.22616 541.875828 \nL 280.49752 539.030397 \nL 281.76888 539.245004 \nL 283.040241 542.536199 \nL 284.311601 542.501707 \nL 285.582961 539.729915 \nL 286.854321 536.397124 \nL 288.125681 542.950056 \nL 289.397042 537.878652 \nL 290.668402 536.38932 \nL 291.939762 541.895759 \nL 293.211122 536.584211 \nL 294.482482 543.53944 \nL 295.753843 538.941987 \nL 298.296563 543.16487 \nL 299.567923 538.71367 \nL 300.839284 538.111427 \nL 302.110644 543.351398 \nL 303.382004 536.649026 \nL 304.653364 543.121824 \nL 305.924724 540.657598 \nL 307.196085 543.099737 \nL 308.467445 535.478548 \nL 309.738805 538.056558 \nL 311.010165 544.15429 \nL 312.281526 543.811934 \nL 313.552886 538.315084 \nL 314.824246 543.298583 \nL 316.095606 542.641415 \nL 317.366966 543.415689 \nL 318.638327 543.28143 \nL 319.909687 543.852092 \nL 321.181047 545.594345 \nL 322.452407 540.692773 \nL 323.723768 540.59358 \nL 324.995128 541.017802 \nL 326.266488 539.282662 \nL 327.537848 539.492173 \nL 328.809208 540.78421 \nL 330.080569 543.705067 \nL 331.351929 539.544581 \nL 332.623289 540.570415 \nL 333.894649 540.501135 \nL 335.166009 543.24582 \nL 336.43737 534.757745 \nL 337.70873 542.781649 \nL 338.98009 546.434096 \nL 340.25145 542.728809 \nL 341.522811 547.665283 \nL 342.794171 539.086225 \nL 344.065531 537.63411 \nL 345.336891 540.277041 \nL 346.608251 539.190861 \nL 347.879612 541.444618 \nL 349.150972 540.476283 \nL 350.422332 536.835284 \nL 351.693692 538.975116 \nL 352.965053 544.329251 \nL 354.236413 542.185199 \nL 355.507773 540.739259 \nL 356.779133 541.302476 \nL 358.050493 544.272461 \nL 359.321854 539.18995 \nL 360.593214 544.355525 \nL 363.135934 539.83495 \nL 364.407295 544.205887 \nL 365.678655 543.009869 \nL 366.950015 543.968114 \nL 368.221375 541.974649 \nL 369.492735 540.711909 \nL 370.764096 547.095936 \nL 372.035456 544.968433 \nL 373.306816 539.644538 \nL 374.578176 543.83498 \nL 375.849536 543.433068 \nL 377.120897 546.544288 \nL 378.392257 546.734505 \nL 379.663617 538.18134 \nL 380.934977 541.62771 \nL 382.206338 547.469508 \nL 383.477698 542.71531 \nL 384.749058 547.072314 \nL 386.020418 545.853306 \nL 387.291778 542.525425 \nL 388.563139 546.049536 \nL 389.834499 538.773309 \nL 391.105859 542.622661 \nL 392.377219 547.497434 \nL 393.64858 544.236293 \nL 394.91994 546.025286 \nL 396.1913 537.534295 \nL 397.46266 547.883877 \nL 398.73402 539.119055 \nL 400.005381 550.183135 \nL 401.276741 543.620046 \nL 402.548101 543.137833 \nL 403.819461 547.85414 \nL 405.090822 544.112999 \nL 406.362182 539.415704 \nL 407.633542 541.551718 \nL 408.904902 550.163507 \nL 410.176262 547.096565 \nL 411.447623 542.621593 \nL 412.718983 538.612009 \nL 413.990343 542.471155 \nL 415.261703 540.856971 \nL 416.533063 546.375298 \nL 417.804424 542.396789 \nL 419.075784 539.658496 \nL 420.347144 542.162395 \nL 421.618504 543.899744 \nL 422.889865 542.7214 \nL 424.161225 541.923894 \nL 425.432585 542.981314 \nL 426.703945 540.802534 \nL 427.975305 546.195046 \nL 429.246666 546.899868 \nL 430.518026 543.168214 \nL 431.789386 542.612691 \nL 433.060746 543.568067 \nL 434.332107 545.135779 \nL 435.603467 544.387628 \nL 436.874827 544.231981 \nL 438.146187 547.314551 \nL 439.417547 544.790636 \nL 440.688908 540.984686 \nL 441.960268 543.754955 \nL 443.231628 548.431569 \nL 444.502988 550.088404 \nL 445.774349 548.061688 \nL 447.045709 541.542919 \nL 448.317069 539.409798 \nL 449.588429 545.411111 \nL 450.859789 547.729731 \nL 452.13115 544.795047 \nL 453.40251 545.974796 \nL 454.67387 545.553028 \nL 455.94523 548.950462 \nL 457.21659 544.477531 \nL 459.759311 541.289634 \nL 461.030671 549.129817 \nL 462.302031 549.608927 \nL 463.573392 543.89692 \nL 464.844752 548.750975 \nL 466.116112 541.686675 \nL 467.387472 548.815154 \nL 468.658832 547.200407 \nL 469.930193 547.472991 \nL 471.201553 543.972098 \nL 472.472913 547.991128 \nL 473.744273 548.448473 \nL 475.015634 541.118926 \nL 476.286994 544.177915 \nL 477.558354 545.860412 \nL 478.829714 541.70958 \nL 480.101074 541.265223 \nL 481.372435 544.546684 \nL 482.643795 545.580875 \nL 483.915155 548.033963 \nL 485.186515 545.988417 \nL 486.457876 550.159623 \nL 487.729236 546.389371 \nL 489.000596 546.210677 \nL 490.271956 544.845457 \nL 491.543316 545.235694 \nL 492.814677 546.661811 \nL 494.086037 542.108115 \nL 495.357397 547.14561 \nL 496.628757 546.015374 \nL 497.900117 548.581127 \nL 499.171478 549.95145 \nL 500.442838 548.790772 \nL 501.714198 545.495954 \nL 502.985558 547.812782 \nL 505.528279 548.799624 \nL 506.799639 545.128549 \nL 508.070999 547.472985 \nL 509.342359 541.796291 \nL 510.61372 554.68672 \nL 511.88508 550.427095 \nL 513.15644 545.5188 \nL 514.4278 544.840043 \nL 515.699161 544.84744 \nL 516.970521 550.270124 \nL 518.241881 542.224626 \nL 519.513241 549.277313 \nL 520.784601 544.635585 \nL 522.055962 537.019684 \nL 523.327322 550.647574 \nL 524.598682 542.406032 \nL 525.870042 549.864363 \nL 527.141403 540.934072 \nL 528.412763 547.494887 \nL 529.684123 550.66308 \nL 530.955483 544.798649 \nL 532.226843 546.007675 \nL 533.498204 543.158046 \nL 534.769564 541.580318 \nL 536.040924 544.76929 \nL 538.583644 551.603027 \nL 539.855005 548.857732 \nL 541.126365 548.880149 \nL 542.397725 546.170962 \nL 543.669085 545.139257 \nL 544.940446 548.118805 \nL 546.211806 547.860499 \nL 547.483166 549.675213 \nL 548.754526 543.319174 \nL 550.025886 549.113681 \nL 551.297247 549.641314 \nL 552.568607 551.241577 \nL 553.839967 548.754085 \nL 555.111327 550.011811 \nL 556.382688 552.396477 \nL 557.654048 549.25421 \nL 558.925408 546.439487 \nL 560.196768 547.824632 \nL 561.468128 536.347686 \nL 562.739489 545.587313 \nL 562.739489 545.587313 \n\" style=\"fill:none;stroke:#0000ff;stroke-linecap:square;stroke-width:1.5;\"/>\n    <g clip-path=\"url(#pbf3ea29c39)\">\n     <use style=\"fill:#0000ff;stroke:#0000ff;\" x=\"55.466761\" xlink:href=\"#mde9338e860\" y=\"330.058621\"/>\n     <use style=\"fill:#0000ff;stroke:#0000ff;\" x=\"56.738122\" xlink:href=\"#mde9338e860\" y=\"395.058158\"/>\n     <use style=\"fill:#0000ff;stroke:#0000ff;\" x=\"58.009482\" xlink:href=\"#mde9338e860\" y=\"426.202453\"/>\n     <use style=\"fill:#0000ff;stroke:#0000ff;\" x=\"59.280842\" xlink:href=\"#mde9338e860\" y=\"443.230749\"/>\n     <use style=\"fill:#0000ff;stroke:#0000ff;\" x=\"60.552202\" xlink:href=\"#mde9338e860\" y=\"462.110768\"/>\n     <use style=\"fill:#0000ff;stroke:#0000ff;\" x=\"61.823562\" xlink:href=\"#mde9338e860\" y=\"470.816622\"/>\n     <use style=\"fill:#0000ff;stroke:#0000ff;\" x=\"63.094923\" xlink:href=\"#mde9338e860\" y=\"479.092045\"/>\n     <use style=\"fill:#0000ff;stroke:#0000ff;\" x=\"64.366283\" xlink:href=\"#mde9338e860\" y=\"487.45479\"/>\n     <use style=\"fill:#0000ff;stroke:#0000ff;\" x=\"65.637643\" xlink:href=\"#mde9338e860\" y=\"495.261209\"/>\n     <use style=\"fill:#0000ff;stroke:#0000ff;\" x=\"66.909003\" xlink:href=\"#mde9338e860\" y=\"496.416724\"/>\n     <use style=\"fill:#0000ff;stroke:#0000ff;\" x=\"68.180364\" xlink:href=\"#mde9338e860\" y=\"494.321951\"/>\n     <use style=\"fill:#0000ff;stroke:#0000ff;\" x=\"69.451724\" xlink:href=\"#mde9338e860\" y=\"505.619235\"/>\n     <use style=\"fill:#0000ff;stroke:#0000ff;\" x=\"70.723084\" xlink:href=\"#mde9338e860\" y=\"509.215338\"/>\n     <use style=\"fill:#0000ff;stroke:#0000ff;\" x=\"71.994444\" xlink:href=\"#mde9338e860\" y=\"508.83996\"/>\n     <use style=\"fill:#0000ff;stroke:#0000ff;\" x=\"73.265804\" xlink:href=\"#mde9338e860\" y=\"513.598575\"/>\n     <use style=\"fill:#0000ff;stroke:#0000ff;\" x=\"74.537165\" xlink:href=\"#mde9338e860\" y=\"507.037995\"/>\n     <use style=\"fill:#0000ff;stroke:#0000ff;\" x=\"75.808525\" xlink:href=\"#mde9338e860\" y=\"508.623985\"/>\n     <use style=\"fill:#0000ff;stroke:#0000ff;\" x=\"77.079885\" xlink:href=\"#mde9338e860\" y=\"508.945493\"/>\n     <use style=\"fill:#0000ff;stroke:#0000ff;\" x=\"78.351245\" xlink:href=\"#mde9338e860\" y=\"514.394752\"/>\n     <use style=\"fill:#0000ff;stroke:#0000ff;\" x=\"79.622606\" xlink:href=\"#mde9338e860\" y=\"516.839288\"/>\n     <use style=\"fill:#0000ff;stroke:#0000ff;\" x=\"80.893966\" xlink:href=\"#mde9338e860\" y=\"503.608351\"/>\n     <use style=\"fill:#0000ff;stroke:#0000ff;\" x=\"82.165326\" xlink:href=\"#mde9338e860\" y=\"512.531398\"/>\n     <use style=\"fill:#0000ff;stroke:#0000ff;\" x=\"83.436686\" xlink:href=\"#mde9338e860\" y=\"511.460967\"/>\n     <use style=\"fill:#0000ff;stroke:#0000ff;\" x=\"84.708046\" xlink:href=\"#mde9338e860\" y=\"517.999461\"/>\n     <use style=\"fill:#0000ff;stroke:#0000ff;\" x=\"85.979407\" xlink:href=\"#mde9338e860\" y=\"515.701078\"/>\n     <use style=\"fill:#0000ff;stroke:#0000ff;\" x=\"87.250767\" xlink:href=\"#mde9338e860\" y=\"520.420061\"/>\n     <use style=\"fill:#0000ff;stroke:#0000ff;\" x=\"88.522127\" xlink:href=\"#mde9338e860\" y=\"519.966156\"/>\n     <use style=\"fill:#0000ff;stroke:#0000ff;\" x=\"89.793487\" xlink:href=\"#mde9338e860\" y=\"525.008465\"/>\n     <use style=\"fill:#0000ff;stroke:#0000ff;\" x=\"91.064847\" xlink:href=\"#mde9338e860\" y=\"517.154674\"/>\n     <use style=\"fill:#0000ff;stroke:#0000ff;\" x=\"92.336208\" xlink:href=\"#mde9338e860\" y=\"525.204888\"/>\n     <use style=\"fill:#0000ff;stroke:#0000ff;\" x=\"93.607568\" xlink:href=\"#mde9338e860\" y=\"524.99402\"/>\n     <use style=\"fill:#0000ff;stroke:#0000ff;\" x=\"94.878928\" xlink:href=\"#mde9338e860\" y=\"519.146972\"/>\n     <use style=\"fill:#0000ff;stroke:#0000ff;\" x=\"96.150288\" xlink:href=\"#mde9338e860\" y=\"516.021898\"/>\n     <use style=\"fill:#0000ff;stroke:#0000ff;\" x=\"97.421649\" xlink:href=\"#mde9338e860\" y=\"522.040811\"/>\n     <use style=\"fill:#0000ff;stroke:#0000ff;\" x=\"98.693009\" xlink:href=\"#mde9338e860\" y=\"518.648043\"/>\n     <use style=\"fill:#0000ff;stroke:#0000ff;\" x=\"99.964369\" xlink:href=\"#mde9338e860\" y=\"522.33112\"/>\n     <use style=\"fill:#0000ff;stroke:#0000ff;\" x=\"101.235729\" xlink:href=\"#mde9338e860\" y=\"525.002412\"/>\n     <use style=\"fill:#0000ff;stroke:#0000ff;\" x=\"102.507089\" xlink:href=\"#mde9338e860\" y=\"535.518906\"/>\n     <use style=\"fill:#0000ff;stroke:#0000ff;\" x=\"103.77845\" xlink:href=\"#mde9338e860\" y=\"520.850653\"/>\n     <use style=\"fill:#0000ff;stroke:#0000ff;\" x=\"105.04981\" xlink:href=\"#mde9338e860\" y=\"522.167089\"/>\n     <use style=\"fill:#0000ff;stroke:#0000ff;\" x=\"106.32117\" xlink:href=\"#mde9338e860\" y=\"521.647422\"/>\n     <use style=\"fill:#0000ff;stroke:#0000ff;\" x=\"107.59253\" xlink:href=\"#mde9338e860\" y=\"523.580862\"/>\n     <use style=\"fill:#0000ff;stroke:#0000ff;\" x=\"108.863891\" xlink:href=\"#mde9338e860\" y=\"524.894562\"/>\n     <use style=\"fill:#0000ff;stroke:#0000ff;\" x=\"110.135251\" xlink:href=\"#mde9338e860\" y=\"518.324055\"/>\n     <use style=\"fill:#0000ff;stroke:#0000ff;\" x=\"111.406611\" xlink:href=\"#mde9338e860\" y=\"528.475576\"/>\n     <use style=\"fill:#0000ff;stroke:#0000ff;\" x=\"112.677971\" xlink:href=\"#mde9338e860\" y=\"524.778643\"/>\n     <use style=\"fill:#0000ff;stroke:#0000ff;\" x=\"113.949331\" xlink:href=\"#mde9338e860\" y=\"531.73036\"/>\n     <use style=\"fill:#0000ff;stroke:#0000ff;\" x=\"115.220692\" xlink:href=\"#mde9338e860\" y=\"521.197145\"/>\n     <use style=\"fill:#0000ff;stroke:#0000ff;\" x=\"116.492052\" xlink:href=\"#mde9338e860\" y=\"520.012858\"/>\n     <use style=\"fill:#0000ff;stroke:#0000ff;\" x=\"117.763412\" xlink:href=\"#mde9338e860\" y=\"523.760967\"/>\n     <use style=\"fill:#0000ff;stroke:#0000ff;\" x=\"119.034772\" xlink:href=\"#mde9338e860\" y=\"526.13253\"/>\n     <use style=\"fill:#0000ff;stroke:#0000ff;\" x=\"120.306133\" xlink:href=\"#mde9338e860\" y=\"528.009684\"/>\n     <use style=\"fill:#0000ff;stroke:#0000ff;\" x=\"121.577493\" xlink:href=\"#mde9338e860\" y=\"530.549976\"/>\n     <use style=\"fill:#0000ff;stroke:#0000ff;\" x=\"122.848853\" xlink:href=\"#mde9338e860\" y=\"533.185578\"/>\n     <use style=\"fill:#0000ff;stroke:#0000ff;\" x=\"124.120213\" xlink:href=\"#mde9338e860\" y=\"528.302919\"/>\n     <use style=\"fill:#0000ff;stroke:#0000ff;\" x=\"125.391573\" xlink:href=\"#mde9338e860\" y=\"522.678938\"/>\n     <use style=\"fill:#0000ff;stroke:#0000ff;\" x=\"126.662934\" xlink:href=\"#mde9338e860\" y=\"533.722288\"/>\n     <use style=\"fill:#0000ff;stroke:#0000ff;\" x=\"127.934294\" xlink:href=\"#mde9338e860\" y=\"533.976933\"/>\n     <use style=\"fill:#0000ff;stroke:#0000ff;\" x=\"129.205654\" xlink:href=\"#mde9338e860\" y=\"525.346076\"/>\n     <use style=\"fill:#0000ff;stroke:#0000ff;\" x=\"130.477014\" xlink:href=\"#mde9338e860\" y=\"529.085901\"/>\n     <use style=\"fill:#0000ff;stroke:#0000ff;\" x=\"131.748374\" xlink:href=\"#mde9338e860\" y=\"531.235073\"/>\n     <use style=\"fill:#0000ff;stroke:#0000ff;\" x=\"133.019735\" xlink:href=\"#mde9338e860\" y=\"528.235869\"/>\n     <use style=\"fill:#0000ff;stroke:#0000ff;\" x=\"134.291095\" xlink:href=\"#mde9338e860\" y=\"534.949673\"/>\n     <use style=\"fill:#0000ff;stroke:#0000ff;\" x=\"135.562455\" xlink:href=\"#mde9338e860\" y=\"531.713135\"/>\n     <use style=\"fill:#0000ff;stroke:#0000ff;\" x=\"136.833815\" xlink:href=\"#mde9338e860\" y=\"527.495351\"/>\n     <use style=\"fill:#0000ff;stroke:#0000ff;\" x=\"138.105176\" xlink:href=\"#mde9338e860\" y=\"536.642834\"/>\n     <use style=\"fill:#0000ff;stroke:#0000ff;\" x=\"139.376536\" xlink:href=\"#mde9338e860\" y=\"530.012116\"/>\n     <use style=\"fill:#0000ff;stroke:#0000ff;\" x=\"140.647896\" xlink:href=\"#mde9338e860\" y=\"530.197701\"/>\n     <use style=\"fill:#0000ff;stroke:#0000ff;\" x=\"141.919256\" xlink:href=\"#mde9338e860\" y=\"527.021826\"/>\n     <use style=\"fill:#0000ff;stroke:#0000ff;\" x=\"143.190616\" xlink:href=\"#mde9338e860\" y=\"531.691678\"/>\n     <use style=\"fill:#0000ff;stroke:#0000ff;\" x=\"144.461977\" xlink:href=\"#mde9338e860\" y=\"531.990006\"/>\n     <use style=\"fill:#0000ff;stroke:#0000ff;\" x=\"145.733337\" xlink:href=\"#mde9338e860\" y=\"530.846436\"/>\n     <use style=\"fill:#0000ff;stroke:#0000ff;\" x=\"147.004697\" xlink:href=\"#mde9338e860\" y=\"528.258838\"/>\n     <use style=\"fill:#0000ff;stroke:#0000ff;\" x=\"148.276057\" xlink:href=\"#mde9338e860\" y=\"535.656474\"/>\n     <use style=\"fill:#0000ff;stroke:#0000ff;\" x=\"149.547418\" xlink:href=\"#mde9338e860\" y=\"531.386655\"/>\n     <use style=\"fill:#0000ff;stroke:#0000ff;\" x=\"150.818778\" xlink:href=\"#mde9338e860\" y=\"531.606976\"/>\n     <use style=\"fill:#0000ff;stroke:#0000ff;\" x=\"152.090138\" xlink:href=\"#mde9338e860\" y=\"526.802158\"/>\n     <use style=\"fill:#0000ff;stroke:#0000ff;\" x=\"153.361498\" xlink:href=\"#mde9338e860\" y=\"533.262646\"/>\n     <use style=\"fill:#0000ff;stroke:#0000ff;\" x=\"154.632858\" xlink:href=\"#mde9338e860\" y=\"533.536199\"/>\n     <use style=\"fill:#0000ff;stroke:#0000ff;\" x=\"155.904219\" xlink:href=\"#mde9338e860\" y=\"527.210743\"/>\n     <use style=\"fill:#0000ff;stroke:#0000ff;\" x=\"157.175579\" xlink:href=\"#mde9338e860\" y=\"525.498699\"/>\n     <use style=\"fill:#0000ff;stroke:#0000ff;\" x=\"158.446939\" xlink:href=\"#mde9338e860\" y=\"528.374283\"/>\n     <use style=\"fill:#0000ff;stroke:#0000ff;\" x=\"159.718299\" xlink:href=\"#mde9338e860\" y=\"523.020633\"/>\n     <use style=\"fill:#0000ff;stroke:#0000ff;\" x=\"160.98966\" xlink:href=\"#mde9338e860\" y=\"529.439931\"/>\n     <use style=\"fill:#0000ff;stroke:#0000ff;\" x=\"162.26102\" xlink:href=\"#mde9338e860\" y=\"530.924915\"/>\n     <use style=\"fill:#0000ff;stroke:#0000ff;\" x=\"163.53238\" xlink:href=\"#mde9338e860\" y=\"523.989314\"/>\n     <use style=\"fill:#0000ff;stroke:#0000ff;\" x=\"164.80374\" xlink:href=\"#mde9338e860\" y=\"536.00813\"/>\n     <use style=\"fill:#0000ff;stroke:#0000ff;\" x=\"166.0751\" xlink:href=\"#mde9338e860\" y=\"534.692765\"/>\n     <use style=\"fill:#0000ff;stroke:#0000ff;\" x=\"167.346461\" xlink:href=\"#mde9338e860\" y=\"536.617557\"/>\n     <use style=\"fill:#0000ff;stroke:#0000ff;\" x=\"168.617821\" xlink:href=\"#mde9338e860\" y=\"531.591816\"/>\n     <use style=\"fill:#0000ff;stroke:#0000ff;\" x=\"169.889181\" xlink:href=\"#mde9338e860\" y=\"531.912225\"/>\n     <use style=\"fill:#0000ff;stroke:#0000ff;\" x=\"171.160541\" xlink:href=\"#mde9338e860\" y=\"531.017116\"/>\n     <use style=\"fill:#0000ff;stroke:#0000ff;\" x=\"172.431901\" xlink:href=\"#mde9338e860\" y=\"537.465134\"/>\n     <use style=\"fill:#0000ff;stroke:#0000ff;\" x=\"173.703262\" xlink:href=\"#mde9338e860\" y=\"536.618063\"/>\n     <use style=\"fill:#0000ff;stroke:#0000ff;\" x=\"174.974622\" xlink:href=\"#mde9338e860\" y=\"535.273247\"/>\n     <use style=\"fill:#0000ff;stroke:#0000ff;\" x=\"176.245982\" xlink:href=\"#mde9338e860\" y=\"530.455116\"/>\n     <use style=\"fill:#0000ff;stroke:#0000ff;\" x=\"177.517342\" xlink:href=\"#mde9338e860\" y=\"532.535865\"/>\n     <use style=\"fill:#0000ff;stroke:#0000ff;\" x=\"178.788703\" xlink:href=\"#mde9338e860\" y=\"531.302812\"/>\n     <use style=\"fill:#0000ff;stroke:#0000ff;\" x=\"180.060063\" xlink:href=\"#mde9338e860\" y=\"533.705135\"/>\n     <use style=\"fill:#0000ff;stroke:#0000ff;\" x=\"181.331423\" xlink:href=\"#mde9338e860\" y=\"531.99942\"/>\n     <use style=\"fill:#0000ff;stroke:#0000ff;\" x=\"182.602783\" xlink:href=\"#mde9338e860\" y=\"529.810727\"/>\n     <use style=\"fill:#0000ff;stroke:#0000ff;\" x=\"183.874143\" xlink:href=\"#mde9338e860\" y=\"532.493174\"/>\n     <use style=\"fill:#0000ff;stroke:#0000ff;\" x=\"185.145504\" xlink:href=\"#mde9338e860\" y=\"536.892025\"/>\n     <use style=\"fill:#0000ff;stroke:#0000ff;\" x=\"186.416864\" xlink:href=\"#mde9338e860\" y=\"535.97339\"/>\n     <use style=\"fill:#0000ff;stroke:#0000ff;\" x=\"187.688224\" xlink:href=\"#mde9338e860\" y=\"537.502653\"/>\n     <use style=\"fill:#0000ff;stroke:#0000ff;\" x=\"188.959584\" xlink:href=\"#mde9338e860\" y=\"530.663226\"/>\n     <use style=\"fill:#0000ff;stroke:#0000ff;\" x=\"190.230945\" xlink:href=\"#mde9338e860\" y=\"531.340725\"/>\n     <use style=\"fill:#0000ff;stroke:#0000ff;\" x=\"191.502305\" xlink:href=\"#mde9338e860\" y=\"538.663189\"/>\n     <use style=\"fill:#0000ff;stroke:#0000ff;\" x=\"192.773665\" xlink:href=\"#mde9338e860\" y=\"534.910387\"/>\n     <use style=\"fill:#0000ff;stroke:#0000ff;\" x=\"194.045025\" xlink:href=\"#mde9338e860\" y=\"532.893889\"/>\n     <use style=\"fill:#0000ff;stroke:#0000ff;\" x=\"195.316385\" xlink:href=\"#mde9338e860\" y=\"533.783218\"/>\n     <use style=\"fill:#0000ff;stroke:#0000ff;\" x=\"196.587746\" xlink:href=\"#mde9338e860\" y=\"531.197074\"/>\n     <use style=\"fill:#0000ff;stroke:#0000ff;\" x=\"197.859106\" xlink:href=\"#mde9338e860\" y=\"536.496933\"/>\n     <use style=\"fill:#0000ff;stroke:#0000ff;\" x=\"199.130466\" xlink:href=\"#mde9338e860\" y=\"535.089088\"/>\n     <use style=\"fill:#0000ff;stroke:#0000ff;\" x=\"200.401826\" xlink:href=\"#mde9338e860\" y=\"531.41708\"/>\n     <use style=\"fill:#0000ff;stroke:#0000ff;\" x=\"201.673187\" xlink:href=\"#mde9338e860\" y=\"535.639739\"/>\n     <use style=\"fill:#0000ff;stroke:#0000ff;\" x=\"202.944547\" xlink:href=\"#mde9338e860\" y=\"531.12589\"/>\n     <use style=\"fill:#0000ff;stroke:#0000ff;\" x=\"204.215907\" xlink:href=\"#mde9338e860\" y=\"529.506144\"/>\n     <use style=\"fill:#0000ff;stroke:#0000ff;\" x=\"205.487267\" xlink:href=\"#mde9338e860\" y=\"536.380731\"/>\n     <use style=\"fill:#0000ff;stroke:#0000ff;\" x=\"206.758627\" xlink:href=\"#mde9338e860\" y=\"536.463602\"/>\n     <use style=\"fill:#0000ff;stroke:#0000ff;\" x=\"208.029988\" xlink:href=\"#mde9338e860\" y=\"536.856291\"/>\n     <use style=\"fill:#0000ff;stroke:#0000ff;\" x=\"209.301348\" xlink:href=\"#mde9338e860\" y=\"533.51096\"/>\n     <use style=\"fill:#0000ff;stroke:#0000ff;\" x=\"210.572708\" xlink:href=\"#mde9338e860\" y=\"532.987518\"/>\n     <use style=\"fill:#0000ff;stroke:#0000ff;\" x=\"211.844068\" xlink:href=\"#mde9338e860\" y=\"529.388418\"/>\n     <use style=\"fill:#0000ff;stroke:#0000ff;\" x=\"213.115428\" xlink:href=\"#mde9338e860\" y=\"538.659665\"/>\n     <use style=\"fill:#0000ff;stroke:#0000ff;\" x=\"214.386789\" xlink:href=\"#mde9338e860\" y=\"537.879611\"/>\n     <use style=\"fill:#0000ff;stroke:#0000ff;\" x=\"215.658149\" xlink:href=\"#mde9338e860\" y=\"536.867416\"/>\n     <use style=\"fill:#0000ff;stroke:#0000ff;\" x=\"216.929509\" xlink:href=\"#mde9338e860\" y=\"535.431009\"/>\n     <use style=\"fill:#0000ff;stroke:#0000ff;\" x=\"218.200869\" xlink:href=\"#mde9338e860\" y=\"538.147382\"/>\n     <use style=\"fill:#0000ff;stroke:#0000ff;\" x=\"219.47223\" xlink:href=\"#mde9338e860\" y=\"535.940396\"/>\n     <use style=\"fill:#0000ff;stroke:#0000ff;\" x=\"220.74359\" xlink:href=\"#mde9338e860\" y=\"539.574404\"/>\n     <use style=\"fill:#0000ff;stroke:#0000ff;\" x=\"222.01495\" xlink:href=\"#mde9338e860\" y=\"539.89374\"/>\n     <use style=\"fill:#0000ff;stroke:#0000ff;\" x=\"223.28631\" xlink:href=\"#mde9338e860\" y=\"531.747261\"/>\n     <use style=\"fill:#0000ff;stroke:#0000ff;\" x=\"224.55767\" xlink:href=\"#mde9338e860\" y=\"537.406831\"/>\n     <use style=\"fill:#0000ff;stroke:#0000ff;\" x=\"225.829031\" xlink:href=\"#mde9338e860\" y=\"543.775338\"/>\n     <use style=\"fill:#0000ff;stroke:#0000ff;\" x=\"227.100391\" xlink:href=\"#mde9338e860\" y=\"537.935003\"/>\n     <use style=\"fill:#0000ff;stroke:#0000ff;\" x=\"228.371751\" xlink:href=\"#mde9338e860\" y=\"535.287261\"/>\n     <use style=\"fill:#0000ff;stroke:#0000ff;\" x=\"229.643111\" xlink:href=\"#mde9338e860\" y=\"534.387946\"/>\n     <use style=\"fill:#0000ff;stroke:#0000ff;\" x=\"230.914472\" xlink:href=\"#mde9338e860\" y=\"535.116113\"/>\n     <use style=\"fill:#0000ff;stroke:#0000ff;\" x=\"232.185832\" xlink:href=\"#mde9338e860\" y=\"538.291409\"/>\n     <use style=\"fill:#0000ff;stroke:#0000ff;\" x=\"233.457192\" xlink:href=\"#mde9338e860\" y=\"533.023638\"/>\n     <use style=\"fill:#0000ff;stroke:#0000ff;\" x=\"234.728552\" xlink:href=\"#mde9338e860\" y=\"541.943492\"/>\n     <use style=\"fill:#0000ff;stroke:#0000ff;\" x=\"235.999912\" xlink:href=\"#mde9338e860\" y=\"538.206291\"/>\n     <use style=\"fill:#0000ff;stroke:#0000ff;\" x=\"237.271273\" xlink:href=\"#mde9338e860\" y=\"537.775172\"/>\n     <use style=\"fill:#0000ff;stroke:#0000ff;\" x=\"238.542633\" xlink:href=\"#mde9338e860\" y=\"533.160505\"/>\n     <use style=\"fill:#0000ff;stroke:#0000ff;\" x=\"239.813993\" xlink:href=\"#mde9338e860\" y=\"534.574159\"/>\n     <use style=\"fill:#0000ff;stroke:#0000ff;\" x=\"241.085353\" xlink:href=\"#mde9338e860\" y=\"538.167544\"/>\n     <use style=\"fill:#0000ff;stroke:#0000ff;\" x=\"242.356714\" xlink:href=\"#mde9338e860\" y=\"541.266203\"/>\n     <use style=\"fill:#0000ff;stroke:#0000ff;\" x=\"243.628074\" xlink:href=\"#mde9338e860\" y=\"539.747249\"/>\n     <use style=\"fill:#0000ff;stroke:#0000ff;\" x=\"244.899434\" xlink:href=\"#mde9338e860\" y=\"539.2519\"/>\n     <use style=\"fill:#0000ff;stroke:#0000ff;\" x=\"246.170794\" xlink:href=\"#mde9338e860\" y=\"537.769958\"/>\n     <use style=\"fill:#0000ff;stroke:#0000ff;\" x=\"247.442154\" xlink:href=\"#mde9338e860\" y=\"538.360956\"/>\n     <use style=\"fill:#0000ff;stroke:#0000ff;\" x=\"248.713515\" xlink:href=\"#mde9338e860\" y=\"538.856264\"/>\n     <use style=\"fill:#0000ff;stroke:#0000ff;\" x=\"249.984875\" xlink:href=\"#mde9338e860\" y=\"536.225588\"/>\n     <use style=\"fill:#0000ff;stroke:#0000ff;\" x=\"251.256235\" xlink:href=\"#mde9338e860\" y=\"538.823365\"/>\n     <use style=\"fill:#0000ff;stroke:#0000ff;\" x=\"252.527595\" xlink:href=\"#mde9338e860\" y=\"536.667406\"/>\n     <use style=\"fill:#0000ff;stroke:#0000ff;\" x=\"253.798955\" xlink:href=\"#mde9338e860\" y=\"539.239205\"/>\n     <use style=\"fill:#0000ff;stroke:#0000ff;\" x=\"255.070316\" xlink:href=\"#mde9338e860\" y=\"540.702999\"/>\n     <use style=\"fill:#0000ff;stroke:#0000ff;\" x=\"256.341676\" xlink:href=\"#mde9338e860\" y=\"539.237669\"/>\n     <use style=\"fill:#0000ff;stroke:#0000ff;\" x=\"257.613036\" xlink:href=\"#mde9338e860\" y=\"536.791116\"/>\n     <use style=\"fill:#0000ff;stroke:#0000ff;\" x=\"258.884396\" xlink:href=\"#mde9338e860\" y=\"535.704753\"/>\n     <use style=\"fill:#0000ff;stroke:#0000ff;\" x=\"260.155757\" xlink:href=\"#mde9338e860\" y=\"536.756268\"/>\n     <use style=\"fill:#0000ff;stroke:#0000ff;\" x=\"261.427117\" xlink:href=\"#mde9338e860\" y=\"540.262039\"/>\n     <use style=\"fill:#0000ff;stroke:#0000ff;\" x=\"262.698477\" xlink:href=\"#mde9338e860\" y=\"542.785963\"/>\n     <use style=\"fill:#0000ff;stroke:#0000ff;\" x=\"263.969837\" xlink:href=\"#mde9338e860\" y=\"540.361139\"/>\n     <use style=\"fill:#0000ff;stroke:#0000ff;\" x=\"265.241197\" xlink:href=\"#mde9338e860\" y=\"540.437804\"/>\n     <use style=\"fill:#0000ff;stroke:#0000ff;\" x=\"266.512558\" xlink:href=\"#mde9338e860\" y=\"535.54746\"/>\n     <use style=\"fill:#0000ff;stroke:#0000ff;\" x=\"267.783918\" xlink:href=\"#mde9338e860\" y=\"540.46928\"/>\n     <use style=\"fill:#0000ff;stroke:#0000ff;\" x=\"269.055278\" xlink:href=\"#mde9338e860\" y=\"541.771909\"/>\n     <use style=\"fill:#0000ff;stroke:#0000ff;\" x=\"270.326638\" xlink:href=\"#mde9338e860\" y=\"534.148781\"/>\n     <use style=\"fill:#0000ff;stroke:#0000ff;\" x=\"271.597999\" xlink:href=\"#mde9338e860\" y=\"538.281654\"/>\n     <use style=\"fill:#0000ff;stroke:#0000ff;\" x=\"272.869359\" xlink:href=\"#mde9338e860\" y=\"537.85751\"/>\n     <use style=\"fill:#0000ff;stroke:#0000ff;\" x=\"274.140719\" xlink:href=\"#mde9338e860\" y=\"540.288595\"/>\n     <use style=\"fill:#0000ff;stroke:#0000ff;\" x=\"275.412079\" xlink:href=\"#mde9338e860\" y=\"540.352281\"/>\n     <use style=\"fill:#0000ff;stroke:#0000ff;\" x=\"276.683439\" xlink:href=\"#mde9338e860\" y=\"539.884664\"/>\n     <use style=\"fill:#0000ff;stroke:#0000ff;\" x=\"277.9548\" xlink:href=\"#mde9338e860\" y=\"542.639815\"/>\n     <use style=\"fill:#0000ff;stroke:#0000ff;\" x=\"279.22616\" xlink:href=\"#mde9338e860\" y=\"541.875828\"/>\n     <use style=\"fill:#0000ff;stroke:#0000ff;\" x=\"280.49752\" xlink:href=\"#mde9338e860\" y=\"539.030397\"/>\n     <use style=\"fill:#0000ff;stroke:#0000ff;\" x=\"281.76888\" xlink:href=\"#mde9338e860\" y=\"539.245004\"/>\n     <use style=\"fill:#0000ff;stroke:#0000ff;\" x=\"283.040241\" xlink:href=\"#mde9338e860\" y=\"542.536199\"/>\n     <use style=\"fill:#0000ff;stroke:#0000ff;\" x=\"284.311601\" xlink:href=\"#mde9338e860\" y=\"542.501707\"/>\n     <use style=\"fill:#0000ff;stroke:#0000ff;\" x=\"285.582961\" xlink:href=\"#mde9338e860\" y=\"539.729915\"/>\n     <use style=\"fill:#0000ff;stroke:#0000ff;\" x=\"286.854321\" xlink:href=\"#mde9338e860\" y=\"536.397124\"/>\n     <use style=\"fill:#0000ff;stroke:#0000ff;\" x=\"288.125681\" xlink:href=\"#mde9338e860\" y=\"542.950056\"/>\n     <use style=\"fill:#0000ff;stroke:#0000ff;\" x=\"289.397042\" xlink:href=\"#mde9338e860\" y=\"537.878652\"/>\n     <use style=\"fill:#0000ff;stroke:#0000ff;\" x=\"290.668402\" xlink:href=\"#mde9338e860\" y=\"536.38932\"/>\n     <use style=\"fill:#0000ff;stroke:#0000ff;\" x=\"291.939762\" xlink:href=\"#mde9338e860\" y=\"541.895759\"/>\n     <use style=\"fill:#0000ff;stroke:#0000ff;\" x=\"293.211122\" xlink:href=\"#mde9338e860\" y=\"536.584211\"/>\n     <use style=\"fill:#0000ff;stroke:#0000ff;\" x=\"294.482482\" xlink:href=\"#mde9338e860\" y=\"543.53944\"/>\n     <use style=\"fill:#0000ff;stroke:#0000ff;\" x=\"295.753843\" xlink:href=\"#mde9338e860\" y=\"538.941987\"/>\n     <use style=\"fill:#0000ff;stroke:#0000ff;\" x=\"297.025203\" xlink:href=\"#mde9338e860\" y=\"541.126475\"/>\n     <use style=\"fill:#0000ff;stroke:#0000ff;\" x=\"298.296563\" xlink:href=\"#mde9338e860\" y=\"543.16487\"/>\n     <use style=\"fill:#0000ff;stroke:#0000ff;\" x=\"299.567923\" xlink:href=\"#mde9338e860\" y=\"538.71367\"/>\n     <use style=\"fill:#0000ff;stroke:#0000ff;\" x=\"300.839284\" xlink:href=\"#mde9338e860\" y=\"538.111427\"/>\n     <use style=\"fill:#0000ff;stroke:#0000ff;\" x=\"302.110644\" xlink:href=\"#mde9338e860\" y=\"543.351398\"/>\n     <use style=\"fill:#0000ff;stroke:#0000ff;\" x=\"303.382004\" xlink:href=\"#mde9338e860\" y=\"536.649026\"/>\n     <use style=\"fill:#0000ff;stroke:#0000ff;\" x=\"304.653364\" xlink:href=\"#mde9338e860\" y=\"543.121824\"/>\n     <use style=\"fill:#0000ff;stroke:#0000ff;\" x=\"305.924724\" xlink:href=\"#mde9338e860\" y=\"540.657598\"/>\n     <use style=\"fill:#0000ff;stroke:#0000ff;\" x=\"307.196085\" xlink:href=\"#mde9338e860\" y=\"543.099737\"/>\n     <use style=\"fill:#0000ff;stroke:#0000ff;\" x=\"308.467445\" xlink:href=\"#mde9338e860\" y=\"535.478548\"/>\n     <use style=\"fill:#0000ff;stroke:#0000ff;\" x=\"309.738805\" xlink:href=\"#mde9338e860\" y=\"538.056558\"/>\n     <use style=\"fill:#0000ff;stroke:#0000ff;\" x=\"311.010165\" xlink:href=\"#mde9338e860\" y=\"544.15429\"/>\n     <use style=\"fill:#0000ff;stroke:#0000ff;\" x=\"312.281526\" xlink:href=\"#mde9338e860\" y=\"543.811934\"/>\n     <use style=\"fill:#0000ff;stroke:#0000ff;\" x=\"313.552886\" xlink:href=\"#mde9338e860\" y=\"538.315084\"/>\n     <use style=\"fill:#0000ff;stroke:#0000ff;\" x=\"314.824246\" xlink:href=\"#mde9338e860\" y=\"543.298583\"/>\n     <use style=\"fill:#0000ff;stroke:#0000ff;\" x=\"316.095606\" xlink:href=\"#mde9338e860\" y=\"542.641415\"/>\n     <use style=\"fill:#0000ff;stroke:#0000ff;\" x=\"317.366966\" xlink:href=\"#mde9338e860\" y=\"543.415689\"/>\n     <use style=\"fill:#0000ff;stroke:#0000ff;\" x=\"318.638327\" xlink:href=\"#mde9338e860\" y=\"543.28143\"/>\n     <use style=\"fill:#0000ff;stroke:#0000ff;\" x=\"319.909687\" xlink:href=\"#mde9338e860\" y=\"543.852092\"/>\n     <use style=\"fill:#0000ff;stroke:#0000ff;\" x=\"321.181047\" xlink:href=\"#mde9338e860\" y=\"545.594345\"/>\n     <use style=\"fill:#0000ff;stroke:#0000ff;\" x=\"322.452407\" xlink:href=\"#mde9338e860\" y=\"540.692773\"/>\n     <use style=\"fill:#0000ff;stroke:#0000ff;\" x=\"323.723768\" xlink:href=\"#mde9338e860\" y=\"540.59358\"/>\n     <use style=\"fill:#0000ff;stroke:#0000ff;\" x=\"324.995128\" xlink:href=\"#mde9338e860\" y=\"541.017802\"/>\n     <use style=\"fill:#0000ff;stroke:#0000ff;\" x=\"326.266488\" xlink:href=\"#mde9338e860\" y=\"539.282662\"/>\n     <use style=\"fill:#0000ff;stroke:#0000ff;\" x=\"327.537848\" xlink:href=\"#mde9338e860\" y=\"539.492173\"/>\n     <use style=\"fill:#0000ff;stroke:#0000ff;\" x=\"328.809208\" xlink:href=\"#mde9338e860\" y=\"540.78421\"/>\n     <use style=\"fill:#0000ff;stroke:#0000ff;\" x=\"330.080569\" xlink:href=\"#mde9338e860\" y=\"543.705067\"/>\n     <use style=\"fill:#0000ff;stroke:#0000ff;\" x=\"331.351929\" xlink:href=\"#mde9338e860\" y=\"539.544581\"/>\n     <use style=\"fill:#0000ff;stroke:#0000ff;\" x=\"332.623289\" xlink:href=\"#mde9338e860\" y=\"540.570415\"/>\n     <use style=\"fill:#0000ff;stroke:#0000ff;\" x=\"333.894649\" xlink:href=\"#mde9338e860\" y=\"540.501135\"/>\n     <use style=\"fill:#0000ff;stroke:#0000ff;\" x=\"335.166009\" xlink:href=\"#mde9338e860\" y=\"543.24582\"/>\n     <use style=\"fill:#0000ff;stroke:#0000ff;\" x=\"336.43737\" xlink:href=\"#mde9338e860\" y=\"534.757745\"/>\n     <use style=\"fill:#0000ff;stroke:#0000ff;\" x=\"337.70873\" xlink:href=\"#mde9338e860\" y=\"542.781649\"/>\n     <use style=\"fill:#0000ff;stroke:#0000ff;\" x=\"338.98009\" xlink:href=\"#mde9338e860\" y=\"546.434096\"/>\n     <use style=\"fill:#0000ff;stroke:#0000ff;\" x=\"340.25145\" xlink:href=\"#mde9338e860\" y=\"542.728809\"/>\n     <use style=\"fill:#0000ff;stroke:#0000ff;\" x=\"341.522811\" xlink:href=\"#mde9338e860\" y=\"547.665283\"/>\n     <use style=\"fill:#0000ff;stroke:#0000ff;\" x=\"342.794171\" xlink:href=\"#mde9338e860\" y=\"539.086225\"/>\n     <use style=\"fill:#0000ff;stroke:#0000ff;\" x=\"344.065531\" xlink:href=\"#mde9338e860\" y=\"537.63411\"/>\n     <use style=\"fill:#0000ff;stroke:#0000ff;\" x=\"345.336891\" xlink:href=\"#mde9338e860\" y=\"540.277041\"/>\n     <use style=\"fill:#0000ff;stroke:#0000ff;\" x=\"346.608251\" xlink:href=\"#mde9338e860\" y=\"539.190861\"/>\n     <use style=\"fill:#0000ff;stroke:#0000ff;\" x=\"347.879612\" xlink:href=\"#mde9338e860\" y=\"541.444618\"/>\n     <use style=\"fill:#0000ff;stroke:#0000ff;\" x=\"349.150972\" xlink:href=\"#mde9338e860\" y=\"540.476283\"/>\n     <use style=\"fill:#0000ff;stroke:#0000ff;\" x=\"350.422332\" xlink:href=\"#mde9338e860\" y=\"536.835284\"/>\n     <use style=\"fill:#0000ff;stroke:#0000ff;\" x=\"351.693692\" xlink:href=\"#mde9338e860\" y=\"538.975116\"/>\n     <use style=\"fill:#0000ff;stroke:#0000ff;\" x=\"352.965053\" xlink:href=\"#mde9338e860\" y=\"544.329251\"/>\n     <use style=\"fill:#0000ff;stroke:#0000ff;\" x=\"354.236413\" xlink:href=\"#mde9338e860\" y=\"542.185199\"/>\n     <use style=\"fill:#0000ff;stroke:#0000ff;\" x=\"355.507773\" xlink:href=\"#mde9338e860\" y=\"540.739259\"/>\n     <use style=\"fill:#0000ff;stroke:#0000ff;\" x=\"356.779133\" xlink:href=\"#mde9338e860\" y=\"541.302476\"/>\n     <use style=\"fill:#0000ff;stroke:#0000ff;\" x=\"358.050493\" xlink:href=\"#mde9338e860\" y=\"544.272461\"/>\n     <use style=\"fill:#0000ff;stroke:#0000ff;\" x=\"359.321854\" xlink:href=\"#mde9338e860\" y=\"539.18995\"/>\n     <use style=\"fill:#0000ff;stroke:#0000ff;\" x=\"360.593214\" xlink:href=\"#mde9338e860\" y=\"544.355525\"/>\n     <use style=\"fill:#0000ff;stroke:#0000ff;\" x=\"361.864574\" xlink:href=\"#mde9338e860\" y=\"542.048753\"/>\n     <use style=\"fill:#0000ff;stroke:#0000ff;\" x=\"363.135934\" xlink:href=\"#mde9338e860\" y=\"539.83495\"/>\n     <use style=\"fill:#0000ff;stroke:#0000ff;\" x=\"364.407295\" xlink:href=\"#mde9338e860\" y=\"544.205887\"/>\n     <use style=\"fill:#0000ff;stroke:#0000ff;\" x=\"365.678655\" xlink:href=\"#mde9338e860\" y=\"543.009869\"/>\n     <use style=\"fill:#0000ff;stroke:#0000ff;\" x=\"366.950015\" xlink:href=\"#mde9338e860\" y=\"543.968114\"/>\n     <use style=\"fill:#0000ff;stroke:#0000ff;\" x=\"368.221375\" xlink:href=\"#mde9338e860\" y=\"541.974649\"/>\n     <use style=\"fill:#0000ff;stroke:#0000ff;\" x=\"369.492735\" xlink:href=\"#mde9338e860\" y=\"540.711909\"/>\n     <use style=\"fill:#0000ff;stroke:#0000ff;\" x=\"370.764096\" xlink:href=\"#mde9338e860\" y=\"547.095936\"/>\n     <use style=\"fill:#0000ff;stroke:#0000ff;\" x=\"372.035456\" xlink:href=\"#mde9338e860\" y=\"544.968433\"/>\n     <use style=\"fill:#0000ff;stroke:#0000ff;\" x=\"373.306816\" xlink:href=\"#mde9338e860\" y=\"539.644538\"/>\n     <use style=\"fill:#0000ff;stroke:#0000ff;\" x=\"374.578176\" xlink:href=\"#mde9338e860\" y=\"543.83498\"/>\n     <use style=\"fill:#0000ff;stroke:#0000ff;\" x=\"375.849536\" xlink:href=\"#mde9338e860\" y=\"543.433068\"/>\n     <use style=\"fill:#0000ff;stroke:#0000ff;\" x=\"377.120897\" xlink:href=\"#mde9338e860\" y=\"546.544288\"/>\n     <use style=\"fill:#0000ff;stroke:#0000ff;\" x=\"378.392257\" xlink:href=\"#mde9338e860\" y=\"546.734505\"/>\n     <use style=\"fill:#0000ff;stroke:#0000ff;\" x=\"379.663617\" xlink:href=\"#mde9338e860\" y=\"538.18134\"/>\n     <use style=\"fill:#0000ff;stroke:#0000ff;\" x=\"380.934977\" xlink:href=\"#mde9338e860\" y=\"541.62771\"/>\n     <use style=\"fill:#0000ff;stroke:#0000ff;\" x=\"382.206338\" xlink:href=\"#mde9338e860\" y=\"547.469508\"/>\n     <use style=\"fill:#0000ff;stroke:#0000ff;\" x=\"383.477698\" xlink:href=\"#mde9338e860\" y=\"542.71531\"/>\n     <use style=\"fill:#0000ff;stroke:#0000ff;\" x=\"384.749058\" xlink:href=\"#mde9338e860\" y=\"547.072314\"/>\n     <use style=\"fill:#0000ff;stroke:#0000ff;\" x=\"386.020418\" xlink:href=\"#mde9338e860\" y=\"545.853306\"/>\n     <use style=\"fill:#0000ff;stroke:#0000ff;\" x=\"387.291778\" xlink:href=\"#mde9338e860\" y=\"542.525425\"/>\n     <use style=\"fill:#0000ff;stroke:#0000ff;\" x=\"388.563139\" xlink:href=\"#mde9338e860\" y=\"546.049536\"/>\n     <use style=\"fill:#0000ff;stroke:#0000ff;\" x=\"389.834499\" xlink:href=\"#mde9338e860\" y=\"538.773309\"/>\n     <use style=\"fill:#0000ff;stroke:#0000ff;\" x=\"391.105859\" xlink:href=\"#mde9338e860\" y=\"542.622661\"/>\n     <use style=\"fill:#0000ff;stroke:#0000ff;\" x=\"392.377219\" xlink:href=\"#mde9338e860\" y=\"547.497434\"/>\n     <use style=\"fill:#0000ff;stroke:#0000ff;\" x=\"393.64858\" xlink:href=\"#mde9338e860\" y=\"544.236293\"/>\n     <use style=\"fill:#0000ff;stroke:#0000ff;\" x=\"394.91994\" xlink:href=\"#mde9338e860\" y=\"546.025286\"/>\n     <use style=\"fill:#0000ff;stroke:#0000ff;\" x=\"396.1913\" xlink:href=\"#mde9338e860\" y=\"537.534295\"/>\n     <use style=\"fill:#0000ff;stroke:#0000ff;\" x=\"397.46266\" xlink:href=\"#mde9338e860\" y=\"547.883877\"/>\n     <use style=\"fill:#0000ff;stroke:#0000ff;\" x=\"398.73402\" xlink:href=\"#mde9338e860\" y=\"539.119055\"/>\n     <use style=\"fill:#0000ff;stroke:#0000ff;\" x=\"400.005381\" xlink:href=\"#mde9338e860\" y=\"550.183135\"/>\n     <use style=\"fill:#0000ff;stroke:#0000ff;\" x=\"401.276741\" xlink:href=\"#mde9338e860\" y=\"543.620046\"/>\n     <use style=\"fill:#0000ff;stroke:#0000ff;\" x=\"402.548101\" xlink:href=\"#mde9338e860\" y=\"543.137833\"/>\n     <use style=\"fill:#0000ff;stroke:#0000ff;\" x=\"403.819461\" xlink:href=\"#mde9338e860\" y=\"547.85414\"/>\n     <use style=\"fill:#0000ff;stroke:#0000ff;\" x=\"405.090822\" xlink:href=\"#mde9338e860\" y=\"544.112999\"/>\n     <use style=\"fill:#0000ff;stroke:#0000ff;\" x=\"406.362182\" xlink:href=\"#mde9338e860\" y=\"539.415704\"/>\n     <use style=\"fill:#0000ff;stroke:#0000ff;\" x=\"407.633542\" xlink:href=\"#mde9338e860\" y=\"541.551718\"/>\n     <use style=\"fill:#0000ff;stroke:#0000ff;\" x=\"408.904902\" xlink:href=\"#mde9338e860\" y=\"550.163507\"/>\n     <use style=\"fill:#0000ff;stroke:#0000ff;\" x=\"410.176262\" xlink:href=\"#mde9338e860\" y=\"547.096565\"/>\n     <use style=\"fill:#0000ff;stroke:#0000ff;\" x=\"411.447623\" xlink:href=\"#mde9338e860\" y=\"542.621593\"/>\n     <use style=\"fill:#0000ff;stroke:#0000ff;\" x=\"412.718983\" xlink:href=\"#mde9338e860\" y=\"538.612009\"/>\n     <use style=\"fill:#0000ff;stroke:#0000ff;\" x=\"413.990343\" xlink:href=\"#mde9338e860\" y=\"542.471155\"/>\n     <use style=\"fill:#0000ff;stroke:#0000ff;\" x=\"415.261703\" xlink:href=\"#mde9338e860\" y=\"540.856971\"/>\n     <use style=\"fill:#0000ff;stroke:#0000ff;\" x=\"416.533063\" xlink:href=\"#mde9338e860\" y=\"546.375298\"/>\n     <use style=\"fill:#0000ff;stroke:#0000ff;\" x=\"417.804424\" xlink:href=\"#mde9338e860\" y=\"542.396789\"/>\n     <use style=\"fill:#0000ff;stroke:#0000ff;\" x=\"419.075784\" xlink:href=\"#mde9338e860\" y=\"539.658496\"/>\n     <use style=\"fill:#0000ff;stroke:#0000ff;\" x=\"420.347144\" xlink:href=\"#mde9338e860\" y=\"542.162395\"/>\n     <use style=\"fill:#0000ff;stroke:#0000ff;\" x=\"421.618504\" xlink:href=\"#mde9338e860\" y=\"543.899744\"/>\n     <use style=\"fill:#0000ff;stroke:#0000ff;\" x=\"422.889865\" xlink:href=\"#mde9338e860\" y=\"542.7214\"/>\n     <use style=\"fill:#0000ff;stroke:#0000ff;\" x=\"424.161225\" xlink:href=\"#mde9338e860\" y=\"541.923894\"/>\n     <use style=\"fill:#0000ff;stroke:#0000ff;\" x=\"425.432585\" xlink:href=\"#mde9338e860\" y=\"542.981314\"/>\n     <use style=\"fill:#0000ff;stroke:#0000ff;\" x=\"426.703945\" xlink:href=\"#mde9338e860\" y=\"540.802534\"/>\n     <use style=\"fill:#0000ff;stroke:#0000ff;\" x=\"427.975305\" xlink:href=\"#mde9338e860\" y=\"546.195046\"/>\n     <use style=\"fill:#0000ff;stroke:#0000ff;\" x=\"429.246666\" xlink:href=\"#mde9338e860\" y=\"546.899868\"/>\n     <use style=\"fill:#0000ff;stroke:#0000ff;\" x=\"430.518026\" xlink:href=\"#mde9338e860\" y=\"543.168214\"/>\n     <use style=\"fill:#0000ff;stroke:#0000ff;\" x=\"431.789386\" xlink:href=\"#mde9338e860\" y=\"542.612691\"/>\n     <use style=\"fill:#0000ff;stroke:#0000ff;\" x=\"433.060746\" xlink:href=\"#mde9338e860\" y=\"543.568067\"/>\n     <use style=\"fill:#0000ff;stroke:#0000ff;\" x=\"434.332107\" xlink:href=\"#mde9338e860\" y=\"545.135779\"/>\n     <use style=\"fill:#0000ff;stroke:#0000ff;\" x=\"435.603467\" xlink:href=\"#mde9338e860\" y=\"544.387628\"/>\n     <use style=\"fill:#0000ff;stroke:#0000ff;\" x=\"436.874827\" xlink:href=\"#mde9338e860\" y=\"544.231981\"/>\n     <use style=\"fill:#0000ff;stroke:#0000ff;\" x=\"438.146187\" xlink:href=\"#mde9338e860\" y=\"547.314551\"/>\n     <use style=\"fill:#0000ff;stroke:#0000ff;\" x=\"439.417547\" xlink:href=\"#mde9338e860\" y=\"544.790636\"/>\n     <use style=\"fill:#0000ff;stroke:#0000ff;\" x=\"440.688908\" xlink:href=\"#mde9338e860\" y=\"540.984686\"/>\n     <use style=\"fill:#0000ff;stroke:#0000ff;\" x=\"441.960268\" xlink:href=\"#mde9338e860\" y=\"543.754955\"/>\n     <use style=\"fill:#0000ff;stroke:#0000ff;\" x=\"443.231628\" xlink:href=\"#mde9338e860\" y=\"548.431569\"/>\n     <use style=\"fill:#0000ff;stroke:#0000ff;\" x=\"444.502988\" xlink:href=\"#mde9338e860\" y=\"550.088404\"/>\n     <use style=\"fill:#0000ff;stroke:#0000ff;\" x=\"445.774349\" xlink:href=\"#mde9338e860\" y=\"548.061688\"/>\n     <use style=\"fill:#0000ff;stroke:#0000ff;\" x=\"447.045709\" xlink:href=\"#mde9338e860\" y=\"541.542919\"/>\n     <use style=\"fill:#0000ff;stroke:#0000ff;\" x=\"448.317069\" xlink:href=\"#mde9338e860\" y=\"539.409798\"/>\n     <use style=\"fill:#0000ff;stroke:#0000ff;\" x=\"449.588429\" xlink:href=\"#mde9338e860\" y=\"545.411111\"/>\n     <use style=\"fill:#0000ff;stroke:#0000ff;\" x=\"450.859789\" xlink:href=\"#mde9338e860\" y=\"547.729731\"/>\n     <use style=\"fill:#0000ff;stroke:#0000ff;\" x=\"452.13115\" xlink:href=\"#mde9338e860\" y=\"544.795047\"/>\n     <use style=\"fill:#0000ff;stroke:#0000ff;\" x=\"453.40251\" xlink:href=\"#mde9338e860\" y=\"545.974796\"/>\n     <use style=\"fill:#0000ff;stroke:#0000ff;\" x=\"454.67387\" xlink:href=\"#mde9338e860\" y=\"545.553028\"/>\n     <use style=\"fill:#0000ff;stroke:#0000ff;\" x=\"455.94523\" xlink:href=\"#mde9338e860\" y=\"548.950462\"/>\n     <use style=\"fill:#0000ff;stroke:#0000ff;\" x=\"457.21659\" xlink:href=\"#mde9338e860\" y=\"544.477531\"/>\n     <use style=\"fill:#0000ff;stroke:#0000ff;\" x=\"458.487951\" xlink:href=\"#mde9338e860\" y=\"542.94356\"/>\n     <use style=\"fill:#0000ff;stroke:#0000ff;\" x=\"459.759311\" xlink:href=\"#mde9338e860\" y=\"541.289634\"/>\n     <use style=\"fill:#0000ff;stroke:#0000ff;\" x=\"461.030671\" xlink:href=\"#mde9338e860\" y=\"549.129817\"/>\n     <use style=\"fill:#0000ff;stroke:#0000ff;\" x=\"462.302031\" xlink:href=\"#mde9338e860\" y=\"549.608927\"/>\n     <use style=\"fill:#0000ff;stroke:#0000ff;\" x=\"463.573392\" xlink:href=\"#mde9338e860\" y=\"543.89692\"/>\n     <use style=\"fill:#0000ff;stroke:#0000ff;\" x=\"464.844752\" xlink:href=\"#mde9338e860\" y=\"548.750975\"/>\n     <use style=\"fill:#0000ff;stroke:#0000ff;\" x=\"466.116112\" xlink:href=\"#mde9338e860\" y=\"541.686675\"/>\n     <use style=\"fill:#0000ff;stroke:#0000ff;\" x=\"467.387472\" xlink:href=\"#mde9338e860\" y=\"548.815154\"/>\n     <use style=\"fill:#0000ff;stroke:#0000ff;\" x=\"468.658832\" xlink:href=\"#mde9338e860\" y=\"547.200407\"/>\n     <use style=\"fill:#0000ff;stroke:#0000ff;\" x=\"469.930193\" xlink:href=\"#mde9338e860\" y=\"547.472991\"/>\n     <use style=\"fill:#0000ff;stroke:#0000ff;\" x=\"471.201553\" xlink:href=\"#mde9338e860\" y=\"543.972098\"/>\n     <use style=\"fill:#0000ff;stroke:#0000ff;\" x=\"472.472913\" xlink:href=\"#mde9338e860\" y=\"547.991128\"/>\n     <use style=\"fill:#0000ff;stroke:#0000ff;\" x=\"473.744273\" xlink:href=\"#mde9338e860\" y=\"548.448473\"/>\n     <use style=\"fill:#0000ff;stroke:#0000ff;\" x=\"475.015634\" xlink:href=\"#mde9338e860\" y=\"541.118926\"/>\n     <use style=\"fill:#0000ff;stroke:#0000ff;\" x=\"476.286994\" xlink:href=\"#mde9338e860\" y=\"544.177915\"/>\n     <use style=\"fill:#0000ff;stroke:#0000ff;\" x=\"477.558354\" xlink:href=\"#mde9338e860\" y=\"545.860412\"/>\n     <use style=\"fill:#0000ff;stroke:#0000ff;\" x=\"478.829714\" xlink:href=\"#mde9338e860\" y=\"541.70958\"/>\n     <use style=\"fill:#0000ff;stroke:#0000ff;\" x=\"480.101074\" xlink:href=\"#mde9338e860\" y=\"541.265223\"/>\n     <use style=\"fill:#0000ff;stroke:#0000ff;\" x=\"481.372435\" xlink:href=\"#mde9338e860\" y=\"544.546684\"/>\n     <use style=\"fill:#0000ff;stroke:#0000ff;\" x=\"482.643795\" xlink:href=\"#mde9338e860\" y=\"545.580875\"/>\n     <use style=\"fill:#0000ff;stroke:#0000ff;\" x=\"483.915155\" xlink:href=\"#mde9338e860\" y=\"548.033963\"/>\n     <use style=\"fill:#0000ff;stroke:#0000ff;\" x=\"485.186515\" xlink:href=\"#mde9338e860\" y=\"545.988417\"/>\n     <use style=\"fill:#0000ff;stroke:#0000ff;\" x=\"486.457876\" xlink:href=\"#mde9338e860\" y=\"550.159623\"/>\n     <use style=\"fill:#0000ff;stroke:#0000ff;\" x=\"487.729236\" xlink:href=\"#mde9338e860\" y=\"546.389371\"/>\n     <use style=\"fill:#0000ff;stroke:#0000ff;\" x=\"489.000596\" xlink:href=\"#mde9338e860\" y=\"546.210677\"/>\n     <use style=\"fill:#0000ff;stroke:#0000ff;\" x=\"490.271956\" xlink:href=\"#mde9338e860\" y=\"544.845457\"/>\n     <use style=\"fill:#0000ff;stroke:#0000ff;\" x=\"491.543316\" xlink:href=\"#mde9338e860\" y=\"545.235694\"/>\n     <use style=\"fill:#0000ff;stroke:#0000ff;\" x=\"492.814677\" xlink:href=\"#mde9338e860\" y=\"546.661811\"/>\n     <use style=\"fill:#0000ff;stroke:#0000ff;\" x=\"494.086037\" xlink:href=\"#mde9338e860\" y=\"542.108115\"/>\n     <use style=\"fill:#0000ff;stroke:#0000ff;\" x=\"495.357397\" xlink:href=\"#mde9338e860\" y=\"547.14561\"/>\n     <use style=\"fill:#0000ff;stroke:#0000ff;\" x=\"496.628757\" xlink:href=\"#mde9338e860\" y=\"546.015374\"/>\n     <use style=\"fill:#0000ff;stroke:#0000ff;\" x=\"497.900117\" xlink:href=\"#mde9338e860\" y=\"548.581127\"/>\n     <use style=\"fill:#0000ff;stroke:#0000ff;\" x=\"499.171478\" xlink:href=\"#mde9338e860\" y=\"549.95145\"/>\n     <use style=\"fill:#0000ff;stroke:#0000ff;\" x=\"500.442838\" xlink:href=\"#mde9338e860\" y=\"548.790772\"/>\n     <use style=\"fill:#0000ff;stroke:#0000ff;\" x=\"501.714198\" xlink:href=\"#mde9338e860\" y=\"545.495954\"/>\n     <use style=\"fill:#0000ff;stroke:#0000ff;\" x=\"502.985558\" xlink:href=\"#mde9338e860\" y=\"547.812782\"/>\n     <use style=\"fill:#0000ff;stroke:#0000ff;\" x=\"504.256919\" xlink:href=\"#mde9338e860\" y=\"548.306958\"/>\n     <use style=\"fill:#0000ff;stroke:#0000ff;\" x=\"505.528279\" xlink:href=\"#mde9338e860\" y=\"548.799624\"/>\n     <use style=\"fill:#0000ff;stroke:#0000ff;\" x=\"506.799639\" xlink:href=\"#mde9338e860\" y=\"545.128549\"/>\n     <use style=\"fill:#0000ff;stroke:#0000ff;\" x=\"508.070999\" xlink:href=\"#mde9338e860\" y=\"547.472985\"/>\n     <use style=\"fill:#0000ff;stroke:#0000ff;\" x=\"509.342359\" xlink:href=\"#mde9338e860\" y=\"541.796291\"/>\n     <use style=\"fill:#0000ff;stroke:#0000ff;\" x=\"510.61372\" xlink:href=\"#mde9338e860\" y=\"554.68672\"/>\n     <use style=\"fill:#0000ff;stroke:#0000ff;\" x=\"511.88508\" xlink:href=\"#mde9338e860\" y=\"550.427095\"/>\n     <use style=\"fill:#0000ff;stroke:#0000ff;\" x=\"513.15644\" xlink:href=\"#mde9338e860\" y=\"545.5188\"/>\n     <use style=\"fill:#0000ff;stroke:#0000ff;\" x=\"514.4278\" xlink:href=\"#mde9338e860\" y=\"544.840043\"/>\n     <use style=\"fill:#0000ff;stroke:#0000ff;\" x=\"515.699161\" xlink:href=\"#mde9338e860\" y=\"544.84744\"/>\n     <use style=\"fill:#0000ff;stroke:#0000ff;\" x=\"516.970521\" xlink:href=\"#mde9338e860\" y=\"550.270124\"/>\n     <use style=\"fill:#0000ff;stroke:#0000ff;\" x=\"518.241881\" xlink:href=\"#mde9338e860\" y=\"542.224626\"/>\n     <use style=\"fill:#0000ff;stroke:#0000ff;\" x=\"519.513241\" xlink:href=\"#mde9338e860\" y=\"549.277313\"/>\n     <use style=\"fill:#0000ff;stroke:#0000ff;\" x=\"520.784601\" xlink:href=\"#mde9338e860\" y=\"544.635585\"/>\n     <use style=\"fill:#0000ff;stroke:#0000ff;\" x=\"522.055962\" xlink:href=\"#mde9338e860\" y=\"537.019684\"/>\n     <use style=\"fill:#0000ff;stroke:#0000ff;\" x=\"523.327322\" xlink:href=\"#mde9338e860\" y=\"550.647574\"/>\n     <use style=\"fill:#0000ff;stroke:#0000ff;\" x=\"524.598682\" xlink:href=\"#mde9338e860\" y=\"542.406032\"/>\n     <use style=\"fill:#0000ff;stroke:#0000ff;\" x=\"525.870042\" xlink:href=\"#mde9338e860\" y=\"549.864363\"/>\n     <use style=\"fill:#0000ff;stroke:#0000ff;\" x=\"527.141403\" xlink:href=\"#mde9338e860\" y=\"540.934072\"/>\n     <use style=\"fill:#0000ff;stroke:#0000ff;\" x=\"528.412763\" xlink:href=\"#mde9338e860\" y=\"547.494887\"/>\n     <use style=\"fill:#0000ff;stroke:#0000ff;\" x=\"529.684123\" xlink:href=\"#mde9338e860\" y=\"550.66308\"/>\n     <use style=\"fill:#0000ff;stroke:#0000ff;\" x=\"530.955483\" xlink:href=\"#mde9338e860\" y=\"544.798649\"/>\n     <use style=\"fill:#0000ff;stroke:#0000ff;\" x=\"532.226843\" xlink:href=\"#mde9338e860\" y=\"546.007675\"/>\n     <use style=\"fill:#0000ff;stroke:#0000ff;\" x=\"533.498204\" xlink:href=\"#mde9338e860\" y=\"543.158046\"/>\n     <use style=\"fill:#0000ff;stroke:#0000ff;\" x=\"534.769564\" xlink:href=\"#mde9338e860\" y=\"541.580318\"/>\n     <use style=\"fill:#0000ff;stroke:#0000ff;\" x=\"536.040924\" xlink:href=\"#mde9338e860\" y=\"544.76929\"/>\n     <use style=\"fill:#0000ff;stroke:#0000ff;\" x=\"537.312284\" xlink:href=\"#mde9338e860\" y=\"548.264435\"/>\n     <use style=\"fill:#0000ff;stroke:#0000ff;\" x=\"538.583644\" xlink:href=\"#mde9338e860\" y=\"551.603027\"/>\n     <use style=\"fill:#0000ff;stroke:#0000ff;\" x=\"539.855005\" xlink:href=\"#mde9338e860\" y=\"548.857732\"/>\n     <use style=\"fill:#0000ff;stroke:#0000ff;\" x=\"541.126365\" xlink:href=\"#mde9338e860\" y=\"548.880149\"/>\n     <use style=\"fill:#0000ff;stroke:#0000ff;\" x=\"542.397725\" xlink:href=\"#mde9338e860\" y=\"546.170962\"/>\n     <use style=\"fill:#0000ff;stroke:#0000ff;\" x=\"543.669085\" xlink:href=\"#mde9338e860\" y=\"545.139257\"/>\n     <use style=\"fill:#0000ff;stroke:#0000ff;\" x=\"544.940446\" xlink:href=\"#mde9338e860\" y=\"548.118805\"/>\n     <use style=\"fill:#0000ff;stroke:#0000ff;\" x=\"546.211806\" xlink:href=\"#mde9338e860\" y=\"547.860499\"/>\n     <use style=\"fill:#0000ff;stroke:#0000ff;\" x=\"547.483166\" xlink:href=\"#mde9338e860\" y=\"549.675213\"/>\n     <use style=\"fill:#0000ff;stroke:#0000ff;\" x=\"548.754526\" xlink:href=\"#mde9338e860\" y=\"543.319174\"/>\n     <use style=\"fill:#0000ff;stroke:#0000ff;\" x=\"550.025886\" xlink:href=\"#mde9338e860\" y=\"549.113681\"/>\n     <use style=\"fill:#0000ff;stroke:#0000ff;\" x=\"551.297247\" xlink:href=\"#mde9338e860\" y=\"549.641314\"/>\n     <use style=\"fill:#0000ff;stroke:#0000ff;\" x=\"552.568607\" xlink:href=\"#mde9338e860\" y=\"551.241577\"/>\n     <use style=\"fill:#0000ff;stroke:#0000ff;\" x=\"553.839967\" xlink:href=\"#mde9338e860\" y=\"548.754085\"/>\n     <use style=\"fill:#0000ff;stroke:#0000ff;\" x=\"555.111327\" xlink:href=\"#mde9338e860\" y=\"550.011811\"/>\n     <use style=\"fill:#0000ff;stroke:#0000ff;\" x=\"556.382688\" xlink:href=\"#mde9338e860\" y=\"552.396477\"/>\n     <use style=\"fill:#0000ff;stroke:#0000ff;\" x=\"557.654048\" xlink:href=\"#mde9338e860\" y=\"549.25421\"/>\n     <use style=\"fill:#0000ff;stroke:#0000ff;\" x=\"558.925408\" xlink:href=\"#mde9338e860\" y=\"546.439487\"/>\n     <use style=\"fill:#0000ff;stroke:#0000ff;\" x=\"560.196768\" xlink:href=\"#mde9338e860\" y=\"547.824632\"/>\n     <use style=\"fill:#0000ff;stroke:#0000ff;\" x=\"561.468128\" xlink:href=\"#mde9338e860\" y=\"536.347686\"/>\n     <use style=\"fill:#0000ff;stroke:#0000ff;\" x=\"562.739489\" xlink:href=\"#mde9338e860\" y=\"545.587313\"/>\n    </g>\n   </g>\n   <g id=\"line2d_34\">\n    <path clip-path=\"url(#pbf3ea29c39)\" d=\"M 55.466761 399.935595 \nL 56.738122 429.942054 \nL 58.009482 453.997867 \nL 59.280842 472.990304 \nL 60.552202 486.380679 \nL 61.823562 497.285621 \nL 64.366283 512.030236 \nL 65.637643 517.192025 \nL 66.909003 520.282159 \nL 68.180364 521.871004 \nL 69.451724 524.753649 \nL 70.723084 525.498506 \nL 71.994444 528.155922 \nL 73.265804 531.248208 \nL 74.537165 531.633412 \nL 75.808525 532.371821 \nL 78.351245 533.196313 \nL 79.622606 533.651772 \nL 80.893966 536.140376 \nL 82.165326 535.610094 \nL 83.436686 534.608465 \nL 84.708046 535.7473 \nL 85.979407 535.763666 \nL 87.250767 535.608656 \nL 88.522127 535.226422 \nL 91.064847 536.948914 \nL 93.607568 537.00328 \nL 94.878928 537.703003 \nL 96.150288 537.828667 \nL 97.421649 538.512826 \nL 98.693009 537.404622 \nL 99.964369 538.821243 \nL 101.235729 539.6174 \nL 102.507089 539.648896 \nL 103.77845 539.182607 \nL 105.04981 538.18008 \nL 106.32117 538.463352 \nL 107.59253 537.559641 \nL 108.863891 537.497621 \nL 110.135251 537.766229 \nL 111.406611 539.532067 \nL 112.677971 538.341463 \nL 113.949331 537.905507 \nL 115.220692 536.48616 \nL 116.492052 537.935251 \nL 117.763412 539.094412 \nL 119.034772 539.184648 \nL 120.306133 536.568002 \nL 121.577493 536.719598 \nL 122.848853 538.050998 \nL 125.391573 538.440731 \nL 126.662934 538.645079 \nL 127.934294 539.781167 \nL 129.205654 539.066535 \nL 130.477014 538.913593 \nL 131.748374 538.924291 \nL 133.019735 538.639129 \nL 134.291095 538.854344 \nL 135.562455 538.909659 \nL 136.833815 538.696281 \nL 138.105176 539.23524 \nL 139.376536 537.584863 \nL 140.647896 538.61528 \nL 141.919256 538.703247 \nL 143.190616 537.458425 \nL 144.461977 538.451107 \nL 145.733337 537.771961 \nL 147.004697 538.49373 \nL 149.547418 537.987442 \nL 150.818778 537.696855 \nL 152.090138 538.302902 \nL 153.361498 536.919351 \nL 154.632858 537.967735 \nL 155.904219 537.588937 \nL 157.175579 538.972245 \nL 158.446939 537.905796 \nL 159.718299 538.953316 \nL 160.98966 538.290853 \nL 162.26102 536.938747 \nL 163.53238 537.825365 \nL 164.80374 537.865471 \nL 166.0751 538.558999 \nL 167.346461 537.118588 \nL 168.617821 537.413714 \nL 169.889181 537.29225 \nL 171.160541 537.031742 \nL 172.431901 537.342601 \nL 173.703262 536.370707 \nL 174.974622 536.435629 \nL 176.245982 537.014085 \nL 177.517342 536.6237 \nL 178.788703 536.583971 \nL 180.060063 537.076141 \nL 181.331423 536.918207 \nL 182.602783 537.554014 \nL 183.874143 537.282857 \nL 185.145504 536.116783 \nL 186.416864 537.514545 \nL 187.688224 536.125049 \nL 188.959584 536.889214 \nL 190.230945 538.460554 \nL 191.502305 538.911978 \nL 192.773665 538.636539 \nL 194.045025 537.38377 \nL 195.316385 538.078171 \nL 196.587746 537.715053 \nL 197.859106 537.612289 \nL 199.130466 537.210357 \nL 200.401826 537.239867 \nL 201.673187 538.069505 \nL 202.944547 537.791904 \nL 204.215907 537.098779 \nL 205.487267 538.174943 \nL 206.758627 537.650594 \nL 208.029988 537.668743 \nL 209.301348 537.290871 \nL 210.572708 538.086643 \nL 211.844068 537.687722 \nL 213.115428 536.852241 \nL 214.386789 536.874398 \nL 215.658149 538.701539 \nL 216.929509 538.553819 \nL 218.200869 537.450955 \nL 219.47223 537.463565 \nL 220.74359 536.876659 \nL 222.01495 537.102711 \nL 223.28631 535.985193 \nL 224.55767 536.058105 \nL 225.829031 536.347452 \nL 227.100391 537.76935 \nL 228.371751 536.698724 \nL 229.643111 536.738679 \nL 230.914472 537.452374 \nL 232.185832 536.894968 \nL 233.457192 538.101512 \nL 234.728552 538.21758 \nL 235.999912 537.414802 \nL 238.542633 537.489541 \nL 239.813993 535.832284 \nL 241.085353 534.911906 \nL 242.356714 536.942366 \nL 243.628074 537.506077 \nL 244.899434 537.111702 \nL 246.170794 537.636286 \nL 247.442154 537.2714 \nL 248.713515 536.285057 \nL 249.984875 536.293747 \nL 251.256235 536.582039 \nL 252.527595 536.30542 \nL 253.798955 536.403791 \nL 255.070316 535.743659 \nL 257.613036 537.295489 \nL 258.884396 536.923586 \nL 260.155757 535.672775 \nL 261.427117 535.818209 \nL 262.698477 537.129886 \nL 263.969837 537.728249 \nL 265.241197 536.519095 \nL 266.512558 536.209804 \nL 267.783918 536.707558 \nL 269.055278 536.669002 \nL 270.326638 534.44894 \nL 271.597999 535.366703 \nL 272.869359 535.698635 \nL 274.140719 535.698924 \nL 275.412079 535.032863 \nL 276.683439 535.216734 \nL 277.9548 536.24728 \nL 279.22616 536.445073 \nL 280.49752 536.282631 \nL 281.76888 534.855066 \nL 283.040241 536.553396 \nL 284.311601 536.326606 \nL 285.582961 535.882473 \nL 286.854321 535.216141 \nL 288.125681 535.770382 \nL 289.397042 536.142014 \nL 290.668402 534.880403 \nL 291.939762 533.290381 \nL 293.211122 535.988237 \nL 294.482482 536.00791 \nL 295.753843 533.940104 \nL 297.025203 532.775841 \nL 298.296563 534.879724 \nL 299.567923 535.333649 \nL 300.839284 534.540819 \nL 302.110644 534.380835 \nL 303.382004 533.001675 \nL 304.653364 534.207539 \nL 305.924724 534.576054 \nL 307.196085 535.860843 \nL 308.467445 535.18702 \nL 309.738805 535.330154 \nL 312.281526 535.003493 \nL 313.552886 534.439701 \nL 314.824246 534.859068 \nL 316.095606 535.987103 \nL 317.366966 535.674915 \nL 318.638327 535.88696 \nL 319.909687 534.56375 \nL 321.181047 534.832153 \nL 322.452407 535.706473 \nL 323.723768 535.695426 \nL 324.995128 535.531043 \nL 326.266488 533.835659 \nL 327.537848 534.801139 \nL 328.809208 534.556667 \nL 330.080569 534.925577 \nL 331.351929 533.995398 \nL 332.623289 533.784614 \nL 333.894649 534.035433 \nL 335.166009 534.420127 \nL 338.98009 532.853098 \nL 340.25145 533.02299 \nL 341.522811 533.876587 \nL 342.794171 533.546252 \nL 344.065531 533.384486 \nL 345.336891 532.842294 \nL 346.608251 532.005394 \nL 347.879612 532.703651 \nL 349.150972 532.91744 \nL 350.422332 532.30909 \nL 351.693692 532.124319 \nL 352.965053 531.756589 \nL 354.236413 532.137108 \nL 355.507773 531.905349 \nL 356.779133 534.017365 \nL 358.050493 532.36181 \nL 359.321854 532.800461 \nL 360.593214 532.775091 \nL 363.135934 533.860831 \nL 364.407295 531.996877 \nL 365.678655 533.319777 \nL 366.950015 533.222187 \nL 368.221375 532.824302 \nL 369.492735 533.378801 \nL 370.764096 533.631232 \nL 372.035456 532.700115 \nL 374.578176 533.321257 \nL 375.849536 532.864897 \nL 377.120897 531.831217 \nL 379.663617 531.870752 \nL 382.206338 531.631705 \nL 383.477698 531.814658 \nL 384.749058 531.215738 \nL 386.020418 531.04326 \nL 387.291778 531.856635 \nL 388.563139 532.154846 \nL 389.834499 531.312986 \nL 391.105859 531.687749 \nL 392.377219 532.312461 \nL 393.64858 532.417298 \nL 394.91994 532.2778 \nL 396.1913 534.078249 \nL 400.005381 532.836886 \nL 401.276741 533.979964 \nL 402.548101 533.874872 \nL 403.819461 533.042327 \nL 405.090822 533.438442 \nL 406.362182 534.539587 \nL 407.633542 533.617971 \nL 408.904902 534.282202 \nL 410.176262 534.53648 \nL 411.447623 533.82258 \nL 412.718983 534.453487 \nL 413.990343 534.786063 \nL 415.261703 534.252271 \nL 416.533063 533.953907 \nL 419.075784 533.61416 \nL 420.347144 533.778055 \nL 421.618504 533.346282 \nL 422.889865 532.784167 \nL 424.161225 532.730315 \nL 425.432585 533.552571 \nL 426.703945 533.379566 \nL 427.975305 531.71655 \nL 429.246666 531.46999 \nL 430.518026 530.623038 \nL 433.060746 533.09145 \nL 434.332107 533.421234 \nL 436.874827 532.471029 \nL 438.146187 532.632828 \nL 439.417547 532.194081 \nL 440.688908 532.742197 \nL 441.960268 532.517015 \nL 443.231628 532.581693 \nL 444.502988 533.566007 \nL 447.045709 532.838284 \nL 448.317069 532.9558 \nL 449.588429 530.025462 \nL 450.859789 530.37822 \nL 452.13115 531.606738 \nL 453.40251 533.074652 \nL 454.67387 531.951883 \nL 455.94523 531.258975 \nL 457.21659 532.570896 \nL 458.487951 531.831427 \nL 459.759311 532.642656 \nL 461.030671 531.952637 \nL 462.302031 532.181016 \nL 463.573392 532.54294 \nL 464.844752 532.273497 \nL 466.116112 530.515168 \nL 467.387472 529.151562 \nL 468.658832 528.860019 \nL 469.930193 527.947957 \nL 471.201553 529.033337 \nL 472.472913 530.851836 \nL 473.744273 531.557349 \nL 475.015634 530.738528 \nL 476.286994 529.122835 \nL 477.558354 529.340653 \nL 478.829714 530.585791 \nL 480.101074 529.95258 \nL 481.372435 529.547864 \nL 482.643795 530.485193 \nL 485.186515 530.470234 \nL 486.457876 530.635735 \nL 487.729236 532.161481 \nL 489.000596 529.729415 \nL 490.271956 530.610605 \nL 491.543316 530.897932 \nL 492.814677 530.32612 \nL 494.086037 528.904102 \nL 495.357397 529.306652 \nL 496.628757 529.868549 \nL 497.900117 531.192576 \nL 499.171478 530.190097 \nL 500.442838 531.02655 \nL 502.985558 531.174749 \nL 504.256919 531.763355 \nL 505.528279 530.700139 \nL 506.799639 531.420874 \nL 508.070999 531.715805 \nL 509.342359 529.547323 \nL 510.61372 529.712928 \nL 511.88508 529.379099 \nL 513.15644 528.833589 \nL 514.4278 530.832034 \nL 515.699161 531.248093 \nL 516.970521 530.658512 \nL 518.241881 529.754668 \nL 519.513241 529.950329 \nL 520.784601 530.303329 \nL 522.055962 530.986503 \nL 523.327322 532.007745 \nL 524.598682 532.094392 \nL 525.870042 531.97555 \nL 527.141403 529.73054 \nL 528.412763 530.303453 \nL 529.684123 532.407794 \nL 530.955483 531.244048 \nL 532.226843 531.1387 \nL 533.498204 530.807747 \nL 534.769564 530.727381 \nL 536.040924 530.841057 \nL 537.312284 531.883522 \nL 539.855005 531.920734 \nL 541.126365 531.585544 \nL 542.397725 532.474728 \nL 543.669085 530.832331 \nL 546.211806 530.215326 \nL 547.483166 529.377325 \nL 548.754526 529.695837 \nL 550.025886 529.6419 \nL 551.297247 531.451489 \nL 552.568607 531.486158 \nL 553.839967 531.185047 \nL 555.111327 531.257997 \nL 556.382688 531.538125 \nL 557.654048 530.923228 \nL 558.925408 530.122417 \nL 560.196768 530.646458 \nL 561.468128 531.921206 \nL 562.739489 531.171845 \nL 562.739489 531.171845 \n\" style=\"fill:none;stroke:#ff0000;stroke-linecap:square;stroke-width:1.5;\"/>\n    <g clip-path=\"url(#pbf3ea29c39)\">\n     <use style=\"fill:#ff0000;stroke:#ff0000;\" x=\"55.466761\" xlink:href=\"#mde85425dd2\" y=\"399.935595\"/>\n     <use style=\"fill:#ff0000;stroke:#ff0000;\" x=\"56.738122\" xlink:href=\"#mde85425dd2\" y=\"429.942054\"/>\n     <use style=\"fill:#ff0000;stroke:#ff0000;\" x=\"58.009482\" xlink:href=\"#mde85425dd2\" y=\"453.997867\"/>\n     <use style=\"fill:#ff0000;stroke:#ff0000;\" x=\"59.280842\" xlink:href=\"#mde85425dd2\" y=\"472.990304\"/>\n     <use style=\"fill:#ff0000;stroke:#ff0000;\" x=\"60.552202\" xlink:href=\"#mde85425dd2\" y=\"486.380679\"/>\n     <use style=\"fill:#ff0000;stroke:#ff0000;\" x=\"61.823562\" xlink:href=\"#mde85425dd2\" y=\"497.285621\"/>\n     <use style=\"fill:#ff0000;stroke:#ff0000;\" x=\"63.094923\" xlink:href=\"#mde85425dd2\" y=\"504.930736\"/>\n     <use style=\"fill:#ff0000;stroke:#ff0000;\" x=\"64.366283\" xlink:href=\"#mde85425dd2\" y=\"512.030236\"/>\n     <use style=\"fill:#ff0000;stroke:#ff0000;\" x=\"65.637643\" xlink:href=\"#mde85425dd2\" y=\"517.192025\"/>\n     <use style=\"fill:#ff0000;stroke:#ff0000;\" x=\"66.909003\" xlink:href=\"#mde85425dd2\" y=\"520.282159\"/>\n     <use style=\"fill:#ff0000;stroke:#ff0000;\" x=\"68.180364\" xlink:href=\"#mde85425dd2\" y=\"521.871004\"/>\n     <use style=\"fill:#ff0000;stroke:#ff0000;\" x=\"69.451724\" xlink:href=\"#mde85425dd2\" y=\"524.753649\"/>\n     <use style=\"fill:#ff0000;stroke:#ff0000;\" x=\"70.723084\" xlink:href=\"#mde85425dd2\" y=\"525.498506\"/>\n     <use style=\"fill:#ff0000;stroke:#ff0000;\" x=\"71.994444\" xlink:href=\"#mde85425dd2\" y=\"528.155922\"/>\n     <use style=\"fill:#ff0000;stroke:#ff0000;\" x=\"73.265804\" xlink:href=\"#mde85425dd2\" y=\"531.248208\"/>\n     <use style=\"fill:#ff0000;stroke:#ff0000;\" x=\"74.537165\" xlink:href=\"#mde85425dd2\" y=\"531.633412\"/>\n     <use style=\"fill:#ff0000;stroke:#ff0000;\" x=\"75.808525\" xlink:href=\"#mde85425dd2\" y=\"532.371821\"/>\n     <use style=\"fill:#ff0000;stroke:#ff0000;\" x=\"77.079885\" xlink:href=\"#mde85425dd2\" y=\"532.745106\"/>\n     <use style=\"fill:#ff0000;stroke:#ff0000;\" x=\"78.351245\" xlink:href=\"#mde85425dd2\" y=\"533.196313\"/>\n     <use style=\"fill:#ff0000;stroke:#ff0000;\" x=\"79.622606\" xlink:href=\"#mde85425dd2\" y=\"533.651772\"/>\n     <use style=\"fill:#ff0000;stroke:#ff0000;\" x=\"80.893966\" xlink:href=\"#mde85425dd2\" y=\"536.140376\"/>\n     <use style=\"fill:#ff0000;stroke:#ff0000;\" x=\"82.165326\" xlink:href=\"#mde85425dd2\" y=\"535.610094\"/>\n     <use style=\"fill:#ff0000;stroke:#ff0000;\" x=\"83.436686\" xlink:href=\"#mde85425dd2\" y=\"534.608465\"/>\n     <use style=\"fill:#ff0000;stroke:#ff0000;\" x=\"84.708046\" xlink:href=\"#mde85425dd2\" y=\"535.7473\"/>\n     <use style=\"fill:#ff0000;stroke:#ff0000;\" x=\"85.979407\" xlink:href=\"#mde85425dd2\" y=\"535.763666\"/>\n     <use style=\"fill:#ff0000;stroke:#ff0000;\" x=\"87.250767\" xlink:href=\"#mde85425dd2\" y=\"535.608656\"/>\n     <use style=\"fill:#ff0000;stroke:#ff0000;\" x=\"88.522127\" xlink:href=\"#mde85425dd2\" y=\"535.226422\"/>\n     <use style=\"fill:#ff0000;stroke:#ff0000;\" x=\"89.793487\" xlink:href=\"#mde85425dd2\" y=\"536.139895\"/>\n     <use style=\"fill:#ff0000;stroke:#ff0000;\" x=\"91.064847\" xlink:href=\"#mde85425dd2\" y=\"536.948914\"/>\n     <use style=\"fill:#ff0000;stroke:#ff0000;\" x=\"92.336208\" xlink:href=\"#mde85425dd2\" y=\"536.993365\"/>\n     <use style=\"fill:#ff0000;stroke:#ff0000;\" x=\"93.607568\" xlink:href=\"#mde85425dd2\" y=\"537.00328\"/>\n     <use style=\"fill:#ff0000;stroke:#ff0000;\" x=\"94.878928\" xlink:href=\"#mde85425dd2\" y=\"537.703003\"/>\n     <use style=\"fill:#ff0000;stroke:#ff0000;\" x=\"96.150288\" xlink:href=\"#mde85425dd2\" y=\"537.828667\"/>\n     <use style=\"fill:#ff0000;stroke:#ff0000;\" x=\"97.421649\" xlink:href=\"#mde85425dd2\" y=\"538.512826\"/>\n     <use style=\"fill:#ff0000;stroke:#ff0000;\" x=\"98.693009\" xlink:href=\"#mde85425dd2\" y=\"537.404622\"/>\n     <use style=\"fill:#ff0000;stroke:#ff0000;\" x=\"99.964369\" xlink:href=\"#mde85425dd2\" y=\"538.821243\"/>\n     <use style=\"fill:#ff0000;stroke:#ff0000;\" x=\"101.235729\" xlink:href=\"#mde85425dd2\" y=\"539.6174\"/>\n     <use style=\"fill:#ff0000;stroke:#ff0000;\" x=\"102.507089\" xlink:href=\"#mde85425dd2\" y=\"539.648896\"/>\n     <use style=\"fill:#ff0000;stroke:#ff0000;\" x=\"103.77845\" xlink:href=\"#mde85425dd2\" y=\"539.182607\"/>\n     <use style=\"fill:#ff0000;stroke:#ff0000;\" x=\"105.04981\" xlink:href=\"#mde85425dd2\" y=\"538.18008\"/>\n     <use style=\"fill:#ff0000;stroke:#ff0000;\" x=\"106.32117\" xlink:href=\"#mde85425dd2\" y=\"538.463352\"/>\n     <use style=\"fill:#ff0000;stroke:#ff0000;\" x=\"107.59253\" xlink:href=\"#mde85425dd2\" y=\"537.559641\"/>\n     <use style=\"fill:#ff0000;stroke:#ff0000;\" x=\"108.863891\" xlink:href=\"#mde85425dd2\" y=\"537.497621\"/>\n     <use style=\"fill:#ff0000;stroke:#ff0000;\" x=\"110.135251\" xlink:href=\"#mde85425dd2\" y=\"537.766229\"/>\n     <use style=\"fill:#ff0000;stroke:#ff0000;\" x=\"111.406611\" xlink:href=\"#mde85425dd2\" y=\"539.532067\"/>\n     <use style=\"fill:#ff0000;stroke:#ff0000;\" x=\"112.677971\" xlink:href=\"#mde85425dd2\" y=\"538.341463\"/>\n     <use style=\"fill:#ff0000;stroke:#ff0000;\" x=\"113.949331\" xlink:href=\"#mde85425dd2\" y=\"537.905507\"/>\n     <use style=\"fill:#ff0000;stroke:#ff0000;\" x=\"115.220692\" xlink:href=\"#mde85425dd2\" y=\"536.48616\"/>\n     <use style=\"fill:#ff0000;stroke:#ff0000;\" x=\"116.492052\" xlink:href=\"#mde85425dd2\" y=\"537.935251\"/>\n     <use style=\"fill:#ff0000;stroke:#ff0000;\" x=\"117.763412\" xlink:href=\"#mde85425dd2\" y=\"539.094412\"/>\n     <use style=\"fill:#ff0000;stroke:#ff0000;\" x=\"119.034772\" xlink:href=\"#mde85425dd2\" y=\"539.184648\"/>\n     <use style=\"fill:#ff0000;stroke:#ff0000;\" x=\"120.306133\" xlink:href=\"#mde85425dd2\" y=\"536.568002\"/>\n     <use style=\"fill:#ff0000;stroke:#ff0000;\" x=\"121.577493\" xlink:href=\"#mde85425dd2\" y=\"536.719598\"/>\n     <use style=\"fill:#ff0000;stroke:#ff0000;\" x=\"122.848853\" xlink:href=\"#mde85425dd2\" y=\"538.050998\"/>\n     <use style=\"fill:#ff0000;stroke:#ff0000;\" x=\"124.120213\" xlink:href=\"#mde85425dd2\" y=\"538.20603\"/>\n     <use style=\"fill:#ff0000;stroke:#ff0000;\" x=\"125.391573\" xlink:href=\"#mde85425dd2\" y=\"538.440731\"/>\n     <use style=\"fill:#ff0000;stroke:#ff0000;\" x=\"126.662934\" xlink:href=\"#mde85425dd2\" y=\"538.645079\"/>\n     <use style=\"fill:#ff0000;stroke:#ff0000;\" x=\"127.934294\" xlink:href=\"#mde85425dd2\" y=\"539.781167\"/>\n     <use style=\"fill:#ff0000;stroke:#ff0000;\" x=\"129.205654\" xlink:href=\"#mde85425dd2\" y=\"539.066535\"/>\n     <use style=\"fill:#ff0000;stroke:#ff0000;\" x=\"130.477014\" xlink:href=\"#mde85425dd2\" y=\"538.913593\"/>\n     <use style=\"fill:#ff0000;stroke:#ff0000;\" x=\"131.748374\" xlink:href=\"#mde85425dd2\" y=\"538.924291\"/>\n     <use style=\"fill:#ff0000;stroke:#ff0000;\" x=\"133.019735\" xlink:href=\"#mde85425dd2\" y=\"538.639129\"/>\n     <use style=\"fill:#ff0000;stroke:#ff0000;\" x=\"134.291095\" xlink:href=\"#mde85425dd2\" y=\"538.854344\"/>\n     <use style=\"fill:#ff0000;stroke:#ff0000;\" x=\"135.562455\" xlink:href=\"#mde85425dd2\" y=\"538.909659\"/>\n     <use style=\"fill:#ff0000;stroke:#ff0000;\" x=\"136.833815\" xlink:href=\"#mde85425dd2\" y=\"538.696281\"/>\n     <use style=\"fill:#ff0000;stroke:#ff0000;\" x=\"138.105176\" xlink:href=\"#mde85425dd2\" y=\"539.23524\"/>\n     <use style=\"fill:#ff0000;stroke:#ff0000;\" x=\"139.376536\" xlink:href=\"#mde85425dd2\" y=\"537.584863\"/>\n     <use style=\"fill:#ff0000;stroke:#ff0000;\" x=\"140.647896\" xlink:href=\"#mde85425dd2\" y=\"538.61528\"/>\n     <use style=\"fill:#ff0000;stroke:#ff0000;\" x=\"141.919256\" xlink:href=\"#mde85425dd2\" y=\"538.703247\"/>\n     <use style=\"fill:#ff0000;stroke:#ff0000;\" x=\"143.190616\" xlink:href=\"#mde85425dd2\" y=\"537.458425\"/>\n     <use style=\"fill:#ff0000;stroke:#ff0000;\" x=\"144.461977\" xlink:href=\"#mde85425dd2\" y=\"538.451107\"/>\n     <use style=\"fill:#ff0000;stroke:#ff0000;\" x=\"145.733337\" xlink:href=\"#mde85425dd2\" y=\"537.771961\"/>\n     <use style=\"fill:#ff0000;stroke:#ff0000;\" x=\"147.004697\" xlink:href=\"#mde85425dd2\" y=\"538.49373\"/>\n     <use style=\"fill:#ff0000;stroke:#ff0000;\" x=\"148.276057\" xlink:href=\"#mde85425dd2\" y=\"538.294375\"/>\n     <use style=\"fill:#ff0000;stroke:#ff0000;\" x=\"149.547418\" xlink:href=\"#mde85425dd2\" y=\"537.987442\"/>\n     <use style=\"fill:#ff0000;stroke:#ff0000;\" x=\"150.818778\" xlink:href=\"#mde85425dd2\" y=\"537.696855\"/>\n     <use style=\"fill:#ff0000;stroke:#ff0000;\" x=\"152.090138\" xlink:href=\"#mde85425dd2\" y=\"538.302902\"/>\n     <use style=\"fill:#ff0000;stroke:#ff0000;\" x=\"153.361498\" xlink:href=\"#mde85425dd2\" y=\"536.919351\"/>\n     <use style=\"fill:#ff0000;stroke:#ff0000;\" x=\"154.632858\" xlink:href=\"#mde85425dd2\" y=\"537.967735\"/>\n     <use style=\"fill:#ff0000;stroke:#ff0000;\" x=\"155.904219\" xlink:href=\"#mde85425dd2\" y=\"537.588937\"/>\n     <use style=\"fill:#ff0000;stroke:#ff0000;\" x=\"157.175579\" xlink:href=\"#mde85425dd2\" y=\"538.972245\"/>\n     <use style=\"fill:#ff0000;stroke:#ff0000;\" x=\"158.446939\" xlink:href=\"#mde85425dd2\" y=\"537.905796\"/>\n     <use style=\"fill:#ff0000;stroke:#ff0000;\" x=\"159.718299\" xlink:href=\"#mde85425dd2\" y=\"538.953316\"/>\n     <use style=\"fill:#ff0000;stroke:#ff0000;\" x=\"160.98966\" xlink:href=\"#mde85425dd2\" y=\"538.290853\"/>\n     <use style=\"fill:#ff0000;stroke:#ff0000;\" x=\"162.26102\" xlink:href=\"#mde85425dd2\" y=\"536.938747\"/>\n     <use style=\"fill:#ff0000;stroke:#ff0000;\" x=\"163.53238\" xlink:href=\"#mde85425dd2\" y=\"537.825365\"/>\n     <use style=\"fill:#ff0000;stroke:#ff0000;\" x=\"164.80374\" xlink:href=\"#mde85425dd2\" y=\"537.865471\"/>\n     <use style=\"fill:#ff0000;stroke:#ff0000;\" x=\"166.0751\" xlink:href=\"#mde85425dd2\" y=\"538.558999\"/>\n     <use style=\"fill:#ff0000;stroke:#ff0000;\" x=\"167.346461\" xlink:href=\"#mde85425dd2\" y=\"537.118588\"/>\n     <use style=\"fill:#ff0000;stroke:#ff0000;\" x=\"168.617821\" xlink:href=\"#mde85425dd2\" y=\"537.413714\"/>\n     <use style=\"fill:#ff0000;stroke:#ff0000;\" x=\"169.889181\" xlink:href=\"#mde85425dd2\" y=\"537.29225\"/>\n     <use style=\"fill:#ff0000;stroke:#ff0000;\" x=\"171.160541\" xlink:href=\"#mde85425dd2\" y=\"537.031742\"/>\n     <use style=\"fill:#ff0000;stroke:#ff0000;\" x=\"172.431901\" xlink:href=\"#mde85425dd2\" y=\"537.342601\"/>\n     <use style=\"fill:#ff0000;stroke:#ff0000;\" x=\"173.703262\" xlink:href=\"#mde85425dd2\" y=\"536.370707\"/>\n     <use style=\"fill:#ff0000;stroke:#ff0000;\" x=\"174.974622\" xlink:href=\"#mde85425dd2\" y=\"536.435629\"/>\n     <use style=\"fill:#ff0000;stroke:#ff0000;\" x=\"176.245982\" xlink:href=\"#mde85425dd2\" y=\"537.014085\"/>\n     <use style=\"fill:#ff0000;stroke:#ff0000;\" x=\"177.517342\" xlink:href=\"#mde85425dd2\" y=\"536.6237\"/>\n     <use style=\"fill:#ff0000;stroke:#ff0000;\" x=\"178.788703\" xlink:href=\"#mde85425dd2\" y=\"536.583971\"/>\n     <use style=\"fill:#ff0000;stroke:#ff0000;\" x=\"180.060063\" xlink:href=\"#mde85425dd2\" y=\"537.076141\"/>\n     <use style=\"fill:#ff0000;stroke:#ff0000;\" x=\"181.331423\" xlink:href=\"#mde85425dd2\" y=\"536.918207\"/>\n     <use style=\"fill:#ff0000;stroke:#ff0000;\" x=\"182.602783\" xlink:href=\"#mde85425dd2\" y=\"537.554014\"/>\n     <use style=\"fill:#ff0000;stroke:#ff0000;\" x=\"183.874143\" xlink:href=\"#mde85425dd2\" y=\"537.282857\"/>\n     <use style=\"fill:#ff0000;stroke:#ff0000;\" x=\"185.145504\" xlink:href=\"#mde85425dd2\" y=\"536.116783\"/>\n     <use style=\"fill:#ff0000;stroke:#ff0000;\" x=\"186.416864\" xlink:href=\"#mde85425dd2\" y=\"537.514545\"/>\n     <use style=\"fill:#ff0000;stroke:#ff0000;\" x=\"187.688224\" xlink:href=\"#mde85425dd2\" y=\"536.125049\"/>\n     <use style=\"fill:#ff0000;stroke:#ff0000;\" x=\"188.959584\" xlink:href=\"#mde85425dd2\" y=\"536.889214\"/>\n     <use style=\"fill:#ff0000;stroke:#ff0000;\" x=\"190.230945\" xlink:href=\"#mde85425dd2\" y=\"538.460554\"/>\n     <use style=\"fill:#ff0000;stroke:#ff0000;\" x=\"191.502305\" xlink:href=\"#mde85425dd2\" y=\"538.911978\"/>\n     <use style=\"fill:#ff0000;stroke:#ff0000;\" x=\"192.773665\" xlink:href=\"#mde85425dd2\" y=\"538.636539\"/>\n     <use style=\"fill:#ff0000;stroke:#ff0000;\" x=\"194.045025\" xlink:href=\"#mde85425dd2\" y=\"537.38377\"/>\n     <use style=\"fill:#ff0000;stroke:#ff0000;\" x=\"195.316385\" xlink:href=\"#mde85425dd2\" y=\"538.078171\"/>\n     <use style=\"fill:#ff0000;stroke:#ff0000;\" x=\"196.587746\" xlink:href=\"#mde85425dd2\" y=\"537.715053\"/>\n     <use style=\"fill:#ff0000;stroke:#ff0000;\" x=\"197.859106\" xlink:href=\"#mde85425dd2\" y=\"537.612289\"/>\n     <use style=\"fill:#ff0000;stroke:#ff0000;\" x=\"199.130466\" xlink:href=\"#mde85425dd2\" y=\"537.210357\"/>\n     <use style=\"fill:#ff0000;stroke:#ff0000;\" x=\"200.401826\" xlink:href=\"#mde85425dd2\" y=\"537.239867\"/>\n     <use style=\"fill:#ff0000;stroke:#ff0000;\" x=\"201.673187\" xlink:href=\"#mde85425dd2\" y=\"538.069505\"/>\n     <use style=\"fill:#ff0000;stroke:#ff0000;\" x=\"202.944547\" xlink:href=\"#mde85425dd2\" y=\"537.791904\"/>\n     <use style=\"fill:#ff0000;stroke:#ff0000;\" x=\"204.215907\" xlink:href=\"#mde85425dd2\" y=\"537.098779\"/>\n     <use style=\"fill:#ff0000;stroke:#ff0000;\" x=\"205.487267\" xlink:href=\"#mde85425dd2\" y=\"538.174943\"/>\n     <use style=\"fill:#ff0000;stroke:#ff0000;\" x=\"206.758627\" xlink:href=\"#mde85425dd2\" y=\"537.650594\"/>\n     <use style=\"fill:#ff0000;stroke:#ff0000;\" x=\"208.029988\" xlink:href=\"#mde85425dd2\" y=\"537.668743\"/>\n     <use style=\"fill:#ff0000;stroke:#ff0000;\" x=\"209.301348\" xlink:href=\"#mde85425dd2\" y=\"537.290871\"/>\n     <use style=\"fill:#ff0000;stroke:#ff0000;\" x=\"210.572708\" xlink:href=\"#mde85425dd2\" y=\"538.086643\"/>\n     <use style=\"fill:#ff0000;stroke:#ff0000;\" x=\"211.844068\" xlink:href=\"#mde85425dd2\" y=\"537.687722\"/>\n     <use style=\"fill:#ff0000;stroke:#ff0000;\" x=\"213.115428\" xlink:href=\"#mde85425dd2\" y=\"536.852241\"/>\n     <use style=\"fill:#ff0000;stroke:#ff0000;\" x=\"214.386789\" xlink:href=\"#mde85425dd2\" y=\"536.874398\"/>\n     <use style=\"fill:#ff0000;stroke:#ff0000;\" x=\"215.658149\" xlink:href=\"#mde85425dd2\" y=\"538.701539\"/>\n     <use style=\"fill:#ff0000;stroke:#ff0000;\" x=\"216.929509\" xlink:href=\"#mde85425dd2\" y=\"538.553819\"/>\n     <use style=\"fill:#ff0000;stroke:#ff0000;\" x=\"218.200869\" xlink:href=\"#mde85425dd2\" y=\"537.450955\"/>\n     <use style=\"fill:#ff0000;stroke:#ff0000;\" x=\"219.47223\" xlink:href=\"#mde85425dd2\" y=\"537.463565\"/>\n     <use style=\"fill:#ff0000;stroke:#ff0000;\" x=\"220.74359\" xlink:href=\"#mde85425dd2\" y=\"536.876659\"/>\n     <use style=\"fill:#ff0000;stroke:#ff0000;\" x=\"222.01495\" xlink:href=\"#mde85425dd2\" y=\"537.102711\"/>\n     <use style=\"fill:#ff0000;stroke:#ff0000;\" x=\"223.28631\" xlink:href=\"#mde85425dd2\" y=\"535.985193\"/>\n     <use style=\"fill:#ff0000;stroke:#ff0000;\" x=\"224.55767\" xlink:href=\"#mde85425dd2\" y=\"536.058105\"/>\n     <use style=\"fill:#ff0000;stroke:#ff0000;\" x=\"225.829031\" xlink:href=\"#mde85425dd2\" y=\"536.347452\"/>\n     <use style=\"fill:#ff0000;stroke:#ff0000;\" x=\"227.100391\" xlink:href=\"#mde85425dd2\" y=\"537.76935\"/>\n     <use style=\"fill:#ff0000;stroke:#ff0000;\" x=\"228.371751\" xlink:href=\"#mde85425dd2\" y=\"536.698724\"/>\n     <use style=\"fill:#ff0000;stroke:#ff0000;\" x=\"229.643111\" xlink:href=\"#mde85425dd2\" y=\"536.738679\"/>\n     <use style=\"fill:#ff0000;stroke:#ff0000;\" x=\"230.914472\" xlink:href=\"#mde85425dd2\" y=\"537.452374\"/>\n     <use style=\"fill:#ff0000;stroke:#ff0000;\" x=\"232.185832\" xlink:href=\"#mde85425dd2\" y=\"536.894968\"/>\n     <use style=\"fill:#ff0000;stroke:#ff0000;\" x=\"233.457192\" xlink:href=\"#mde85425dd2\" y=\"538.101512\"/>\n     <use style=\"fill:#ff0000;stroke:#ff0000;\" x=\"234.728552\" xlink:href=\"#mde85425dd2\" y=\"538.21758\"/>\n     <use style=\"fill:#ff0000;stroke:#ff0000;\" x=\"235.999912\" xlink:href=\"#mde85425dd2\" y=\"537.414802\"/>\n     <use style=\"fill:#ff0000;stroke:#ff0000;\" x=\"237.271273\" xlink:href=\"#mde85425dd2\" y=\"537.415564\"/>\n     <use style=\"fill:#ff0000;stroke:#ff0000;\" x=\"238.542633\" xlink:href=\"#mde85425dd2\" y=\"537.489541\"/>\n     <use style=\"fill:#ff0000;stroke:#ff0000;\" x=\"239.813993\" xlink:href=\"#mde85425dd2\" y=\"535.832284\"/>\n     <use style=\"fill:#ff0000;stroke:#ff0000;\" x=\"241.085353\" xlink:href=\"#mde85425dd2\" y=\"534.911906\"/>\n     <use style=\"fill:#ff0000;stroke:#ff0000;\" x=\"242.356714\" xlink:href=\"#mde85425dd2\" y=\"536.942366\"/>\n     <use style=\"fill:#ff0000;stroke:#ff0000;\" x=\"243.628074\" xlink:href=\"#mde85425dd2\" y=\"537.506077\"/>\n     <use style=\"fill:#ff0000;stroke:#ff0000;\" x=\"244.899434\" xlink:href=\"#mde85425dd2\" y=\"537.111702\"/>\n     <use style=\"fill:#ff0000;stroke:#ff0000;\" x=\"246.170794\" xlink:href=\"#mde85425dd2\" y=\"537.636286\"/>\n     <use style=\"fill:#ff0000;stroke:#ff0000;\" x=\"247.442154\" xlink:href=\"#mde85425dd2\" y=\"537.2714\"/>\n     <use style=\"fill:#ff0000;stroke:#ff0000;\" x=\"248.713515\" xlink:href=\"#mde85425dd2\" y=\"536.285057\"/>\n     <use style=\"fill:#ff0000;stroke:#ff0000;\" x=\"249.984875\" xlink:href=\"#mde85425dd2\" y=\"536.293747\"/>\n     <use style=\"fill:#ff0000;stroke:#ff0000;\" x=\"251.256235\" xlink:href=\"#mde85425dd2\" y=\"536.582039\"/>\n     <use style=\"fill:#ff0000;stroke:#ff0000;\" x=\"252.527595\" xlink:href=\"#mde85425dd2\" y=\"536.30542\"/>\n     <use style=\"fill:#ff0000;stroke:#ff0000;\" x=\"253.798955\" xlink:href=\"#mde85425dd2\" y=\"536.403791\"/>\n     <use style=\"fill:#ff0000;stroke:#ff0000;\" x=\"255.070316\" xlink:href=\"#mde85425dd2\" y=\"535.743659\"/>\n     <use style=\"fill:#ff0000;stroke:#ff0000;\" x=\"256.341676\" xlink:href=\"#mde85425dd2\" y=\"536.484874\"/>\n     <use style=\"fill:#ff0000;stroke:#ff0000;\" x=\"257.613036\" xlink:href=\"#mde85425dd2\" y=\"537.295489\"/>\n     <use style=\"fill:#ff0000;stroke:#ff0000;\" x=\"258.884396\" xlink:href=\"#mde85425dd2\" y=\"536.923586\"/>\n     <use style=\"fill:#ff0000;stroke:#ff0000;\" x=\"260.155757\" xlink:href=\"#mde85425dd2\" y=\"535.672775\"/>\n     <use style=\"fill:#ff0000;stroke:#ff0000;\" x=\"261.427117\" xlink:href=\"#mde85425dd2\" y=\"535.818209\"/>\n     <use style=\"fill:#ff0000;stroke:#ff0000;\" x=\"262.698477\" xlink:href=\"#mde85425dd2\" y=\"537.129886\"/>\n     <use style=\"fill:#ff0000;stroke:#ff0000;\" x=\"263.969837\" xlink:href=\"#mde85425dd2\" y=\"537.728249\"/>\n     <use style=\"fill:#ff0000;stroke:#ff0000;\" x=\"265.241197\" xlink:href=\"#mde85425dd2\" y=\"536.519095\"/>\n     <use style=\"fill:#ff0000;stroke:#ff0000;\" x=\"266.512558\" xlink:href=\"#mde85425dd2\" y=\"536.209804\"/>\n     <use style=\"fill:#ff0000;stroke:#ff0000;\" x=\"267.783918\" xlink:href=\"#mde85425dd2\" y=\"536.707558\"/>\n     <use style=\"fill:#ff0000;stroke:#ff0000;\" x=\"269.055278\" xlink:href=\"#mde85425dd2\" y=\"536.669002\"/>\n     <use style=\"fill:#ff0000;stroke:#ff0000;\" x=\"270.326638\" xlink:href=\"#mde85425dd2\" y=\"534.44894\"/>\n     <use style=\"fill:#ff0000;stroke:#ff0000;\" x=\"271.597999\" xlink:href=\"#mde85425dd2\" y=\"535.366703\"/>\n     <use style=\"fill:#ff0000;stroke:#ff0000;\" x=\"272.869359\" xlink:href=\"#mde85425dd2\" y=\"535.698635\"/>\n     <use style=\"fill:#ff0000;stroke:#ff0000;\" x=\"274.140719\" xlink:href=\"#mde85425dd2\" y=\"535.698924\"/>\n     <use style=\"fill:#ff0000;stroke:#ff0000;\" x=\"275.412079\" xlink:href=\"#mde85425dd2\" y=\"535.032863\"/>\n     <use style=\"fill:#ff0000;stroke:#ff0000;\" x=\"276.683439\" xlink:href=\"#mde85425dd2\" y=\"535.216734\"/>\n     <use style=\"fill:#ff0000;stroke:#ff0000;\" x=\"277.9548\" xlink:href=\"#mde85425dd2\" y=\"536.24728\"/>\n     <use style=\"fill:#ff0000;stroke:#ff0000;\" x=\"279.22616\" xlink:href=\"#mde85425dd2\" y=\"536.445073\"/>\n     <use style=\"fill:#ff0000;stroke:#ff0000;\" x=\"280.49752\" xlink:href=\"#mde85425dd2\" y=\"536.282631\"/>\n     <use style=\"fill:#ff0000;stroke:#ff0000;\" x=\"281.76888\" xlink:href=\"#mde85425dd2\" y=\"534.855066\"/>\n     <use style=\"fill:#ff0000;stroke:#ff0000;\" x=\"283.040241\" xlink:href=\"#mde85425dd2\" y=\"536.553396\"/>\n     <use style=\"fill:#ff0000;stroke:#ff0000;\" x=\"284.311601\" xlink:href=\"#mde85425dd2\" y=\"536.326606\"/>\n     <use style=\"fill:#ff0000;stroke:#ff0000;\" x=\"285.582961\" xlink:href=\"#mde85425dd2\" y=\"535.882473\"/>\n     <use style=\"fill:#ff0000;stroke:#ff0000;\" x=\"286.854321\" xlink:href=\"#mde85425dd2\" y=\"535.216141\"/>\n     <use style=\"fill:#ff0000;stroke:#ff0000;\" x=\"288.125681\" xlink:href=\"#mde85425dd2\" y=\"535.770382\"/>\n     <use style=\"fill:#ff0000;stroke:#ff0000;\" x=\"289.397042\" xlink:href=\"#mde85425dd2\" y=\"536.142014\"/>\n     <use style=\"fill:#ff0000;stroke:#ff0000;\" x=\"290.668402\" xlink:href=\"#mde85425dd2\" y=\"534.880403\"/>\n     <use style=\"fill:#ff0000;stroke:#ff0000;\" x=\"291.939762\" xlink:href=\"#mde85425dd2\" y=\"533.290381\"/>\n     <use style=\"fill:#ff0000;stroke:#ff0000;\" x=\"293.211122\" xlink:href=\"#mde85425dd2\" y=\"535.988237\"/>\n     <use style=\"fill:#ff0000;stroke:#ff0000;\" x=\"294.482482\" xlink:href=\"#mde85425dd2\" y=\"536.00791\"/>\n     <use style=\"fill:#ff0000;stroke:#ff0000;\" x=\"295.753843\" xlink:href=\"#mde85425dd2\" y=\"533.940104\"/>\n     <use style=\"fill:#ff0000;stroke:#ff0000;\" x=\"297.025203\" xlink:href=\"#mde85425dd2\" y=\"532.775841\"/>\n     <use style=\"fill:#ff0000;stroke:#ff0000;\" x=\"298.296563\" xlink:href=\"#mde85425dd2\" y=\"534.879724\"/>\n     <use style=\"fill:#ff0000;stroke:#ff0000;\" x=\"299.567923\" xlink:href=\"#mde85425dd2\" y=\"535.333649\"/>\n     <use style=\"fill:#ff0000;stroke:#ff0000;\" x=\"300.839284\" xlink:href=\"#mde85425dd2\" y=\"534.540819\"/>\n     <use style=\"fill:#ff0000;stroke:#ff0000;\" x=\"302.110644\" xlink:href=\"#mde85425dd2\" y=\"534.380835\"/>\n     <use style=\"fill:#ff0000;stroke:#ff0000;\" x=\"303.382004\" xlink:href=\"#mde85425dd2\" y=\"533.001675\"/>\n     <use style=\"fill:#ff0000;stroke:#ff0000;\" x=\"304.653364\" xlink:href=\"#mde85425dd2\" y=\"534.207539\"/>\n     <use style=\"fill:#ff0000;stroke:#ff0000;\" x=\"305.924724\" xlink:href=\"#mde85425dd2\" y=\"534.576054\"/>\n     <use style=\"fill:#ff0000;stroke:#ff0000;\" x=\"307.196085\" xlink:href=\"#mde85425dd2\" y=\"535.860843\"/>\n     <use style=\"fill:#ff0000;stroke:#ff0000;\" x=\"308.467445\" xlink:href=\"#mde85425dd2\" y=\"535.18702\"/>\n     <use style=\"fill:#ff0000;stroke:#ff0000;\" x=\"309.738805\" xlink:href=\"#mde85425dd2\" y=\"535.330154\"/>\n     <use style=\"fill:#ff0000;stroke:#ff0000;\" x=\"311.010165\" xlink:href=\"#mde85425dd2\" y=\"535.115486\"/>\n     <use style=\"fill:#ff0000;stroke:#ff0000;\" x=\"312.281526\" xlink:href=\"#mde85425dd2\" y=\"535.003493\"/>\n     <use style=\"fill:#ff0000;stroke:#ff0000;\" x=\"313.552886\" xlink:href=\"#mde85425dd2\" y=\"534.439701\"/>\n     <use style=\"fill:#ff0000;stroke:#ff0000;\" x=\"314.824246\" xlink:href=\"#mde85425dd2\" y=\"534.859068\"/>\n     <use style=\"fill:#ff0000;stroke:#ff0000;\" x=\"316.095606\" xlink:href=\"#mde85425dd2\" y=\"535.987103\"/>\n     <use style=\"fill:#ff0000;stroke:#ff0000;\" x=\"317.366966\" xlink:href=\"#mde85425dd2\" y=\"535.674915\"/>\n     <use style=\"fill:#ff0000;stroke:#ff0000;\" x=\"318.638327\" xlink:href=\"#mde85425dd2\" y=\"535.88696\"/>\n     <use style=\"fill:#ff0000;stroke:#ff0000;\" x=\"319.909687\" xlink:href=\"#mde85425dd2\" y=\"534.56375\"/>\n     <use style=\"fill:#ff0000;stroke:#ff0000;\" x=\"321.181047\" xlink:href=\"#mde85425dd2\" y=\"534.832153\"/>\n     <use style=\"fill:#ff0000;stroke:#ff0000;\" x=\"322.452407\" xlink:href=\"#mde85425dd2\" y=\"535.706473\"/>\n     <use style=\"fill:#ff0000;stroke:#ff0000;\" x=\"323.723768\" xlink:href=\"#mde85425dd2\" y=\"535.695426\"/>\n     <use style=\"fill:#ff0000;stroke:#ff0000;\" x=\"324.995128\" xlink:href=\"#mde85425dd2\" y=\"535.531043\"/>\n     <use style=\"fill:#ff0000;stroke:#ff0000;\" x=\"326.266488\" xlink:href=\"#mde85425dd2\" y=\"533.835659\"/>\n     <use style=\"fill:#ff0000;stroke:#ff0000;\" x=\"327.537848\" xlink:href=\"#mde85425dd2\" y=\"534.801139\"/>\n     <use style=\"fill:#ff0000;stroke:#ff0000;\" x=\"328.809208\" xlink:href=\"#mde85425dd2\" y=\"534.556667\"/>\n     <use style=\"fill:#ff0000;stroke:#ff0000;\" x=\"330.080569\" xlink:href=\"#mde85425dd2\" y=\"534.925577\"/>\n     <use style=\"fill:#ff0000;stroke:#ff0000;\" x=\"331.351929\" xlink:href=\"#mde85425dd2\" y=\"533.995398\"/>\n     <use style=\"fill:#ff0000;stroke:#ff0000;\" x=\"332.623289\" xlink:href=\"#mde85425dd2\" y=\"533.784614\"/>\n     <use style=\"fill:#ff0000;stroke:#ff0000;\" x=\"333.894649\" xlink:href=\"#mde85425dd2\" y=\"534.035433\"/>\n     <use style=\"fill:#ff0000;stroke:#ff0000;\" x=\"335.166009\" xlink:href=\"#mde85425dd2\" y=\"534.420127\"/>\n     <use style=\"fill:#ff0000;stroke:#ff0000;\" x=\"336.43737\" xlink:href=\"#mde85425dd2\" y=\"533.936024\"/>\n     <use style=\"fill:#ff0000;stroke:#ff0000;\" x=\"337.70873\" xlink:href=\"#mde85425dd2\" y=\"533.388339\"/>\n     <use style=\"fill:#ff0000;stroke:#ff0000;\" x=\"338.98009\" xlink:href=\"#mde85425dd2\" y=\"532.853098\"/>\n     <use style=\"fill:#ff0000;stroke:#ff0000;\" x=\"340.25145\" xlink:href=\"#mde85425dd2\" y=\"533.02299\"/>\n     <use style=\"fill:#ff0000;stroke:#ff0000;\" x=\"341.522811\" xlink:href=\"#mde85425dd2\" y=\"533.876587\"/>\n     <use style=\"fill:#ff0000;stroke:#ff0000;\" x=\"342.794171\" xlink:href=\"#mde85425dd2\" y=\"533.546252\"/>\n     <use style=\"fill:#ff0000;stroke:#ff0000;\" x=\"344.065531\" xlink:href=\"#mde85425dd2\" y=\"533.384486\"/>\n     <use style=\"fill:#ff0000;stroke:#ff0000;\" x=\"345.336891\" xlink:href=\"#mde85425dd2\" y=\"532.842294\"/>\n     <use style=\"fill:#ff0000;stroke:#ff0000;\" x=\"346.608251\" xlink:href=\"#mde85425dd2\" y=\"532.005394\"/>\n     <use style=\"fill:#ff0000;stroke:#ff0000;\" x=\"347.879612\" xlink:href=\"#mde85425dd2\" y=\"532.703651\"/>\n     <use style=\"fill:#ff0000;stroke:#ff0000;\" x=\"349.150972\" xlink:href=\"#mde85425dd2\" y=\"532.91744\"/>\n     <use style=\"fill:#ff0000;stroke:#ff0000;\" x=\"350.422332\" xlink:href=\"#mde85425dd2\" y=\"532.30909\"/>\n     <use style=\"fill:#ff0000;stroke:#ff0000;\" x=\"351.693692\" xlink:href=\"#mde85425dd2\" y=\"532.124319\"/>\n     <use style=\"fill:#ff0000;stroke:#ff0000;\" x=\"352.965053\" xlink:href=\"#mde85425dd2\" y=\"531.756589\"/>\n     <use style=\"fill:#ff0000;stroke:#ff0000;\" x=\"354.236413\" xlink:href=\"#mde85425dd2\" y=\"532.137108\"/>\n     <use style=\"fill:#ff0000;stroke:#ff0000;\" x=\"355.507773\" xlink:href=\"#mde85425dd2\" y=\"531.905349\"/>\n     <use style=\"fill:#ff0000;stroke:#ff0000;\" x=\"356.779133\" xlink:href=\"#mde85425dd2\" y=\"534.017365\"/>\n     <use style=\"fill:#ff0000;stroke:#ff0000;\" x=\"358.050493\" xlink:href=\"#mde85425dd2\" y=\"532.36181\"/>\n     <use style=\"fill:#ff0000;stroke:#ff0000;\" x=\"359.321854\" xlink:href=\"#mde85425dd2\" y=\"532.800461\"/>\n     <use style=\"fill:#ff0000;stroke:#ff0000;\" x=\"360.593214\" xlink:href=\"#mde85425dd2\" y=\"532.775091\"/>\n     <use style=\"fill:#ff0000;stroke:#ff0000;\" x=\"361.864574\" xlink:href=\"#mde85425dd2\" y=\"533.310497\"/>\n     <use style=\"fill:#ff0000;stroke:#ff0000;\" x=\"363.135934\" xlink:href=\"#mde85425dd2\" y=\"533.860831\"/>\n     <use style=\"fill:#ff0000;stroke:#ff0000;\" x=\"364.407295\" xlink:href=\"#mde85425dd2\" y=\"531.996877\"/>\n     <use style=\"fill:#ff0000;stroke:#ff0000;\" x=\"365.678655\" xlink:href=\"#mde85425dd2\" y=\"533.319777\"/>\n     <use style=\"fill:#ff0000;stroke:#ff0000;\" x=\"366.950015\" xlink:href=\"#mde85425dd2\" y=\"533.222187\"/>\n     <use style=\"fill:#ff0000;stroke:#ff0000;\" x=\"368.221375\" xlink:href=\"#mde85425dd2\" y=\"532.824302\"/>\n     <use style=\"fill:#ff0000;stroke:#ff0000;\" x=\"369.492735\" xlink:href=\"#mde85425dd2\" y=\"533.378801\"/>\n     <use style=\"fill:#ff0000;stroke:#ff0000;\" x=\"370.764096\" xlink:href=\"#mde85425dd2\" y=\"533.631232\"/>\n     <use style=\"fill:#ff0000;stroke:#ff0000;\" x=\"372.035456\" xlink:href=\"#mde85425dd2\" y=\"532.700115\"/>\n     <use style=\"fill:#ff0000;stroke:#ff0000;\" x=\"373.306816\" xlink:href=\"#mde85425dd2\" y=\"533.016836\"/>\n     <use style=\"fill:#ff0000;stroke:#ff0000;\" x=\"374.578176\" xlink:href=\"#mde85425dd2\" y=\"533.321257\"/>\n     <use style=\"fill:#ff0000;stroke:#ff0000;\" x=\"375.849536\" xlink:href=\"#mde85425dd2\" y=\"532.864897\"/>\n     <use style=\"fill:#ff0000;stroke:#ff0000;\" x=\"377.120897\" xlink:href=\"#mde85425dd2\" y=\"531.831217\"/>\n     <use style=\"fill:#ff0000;stroke:#ff0000;\" x=\"378.392257\" xlink:href=\"#mde85425dd2\" y=\"531.877669\"/>\n     <use style=\"fill:#ff0000;stroke:#ff0000;\" x=\"379.663617\" xlink:href=\"#mde85425dd2\" y=\"531.870752\"/>\n     <use style=\"fill:#ff0000;stroke:#ff0000;\" x=\"380.934977\" xlink:href=\"#mde85425dd2\" y=\"531.728608\"/>\n     <use style=\"fill:#ff0000;stroke:#ff0000;\" x=\"382.206338\" xlink:href=\"#mde85425dd2\" y=\"531.631705\"/>\n     <use style=\"fill:#ff0000;stroke:#ff0000;\" x=\"383.477698\" xlink:href=\"#mde85425dd2\" y=\"531.814658\"/>\n     <use style=\"fill:#ff0000;stroke:#ff0000;\" x=\"384.749058\" xlink:href=\"#mde85425dd2\" y=\"531.215738\"/>\n     <use style=\"fill:#ff0000;stroke:#ff0000;\" x=\"386.020418\" xlink:href=\"#mde85425dd2\" y=\"531.04326\"/>\n     <use style=\"fill:#ff0000;stroke:#ff0000;\" x=\"387.291778\" xlink:href=\"#mde85425dd2\" y=\"531.856635\"/>\n     <use style=\"fill:#ff0000;stroke:#ff0000;\" x=\"388.563139\" xlink:href=\"#mde85425dd2\" y=\"532.154846\"/>\n     <use style=\"fill:#ff0000;stroke:#ff0000;\" x=\"389.834499\" xlink:href=\"#mde85425dd2\" y=\"531.312986\"/>\n     <use style=\"fill:#ff0000;stroke:#ff0000;\" x=\"391.105859\" xlink:href=\"#mde85425dd2\" y=\"531.687749\"/>\n     <use style=\"fill:#ff0000;stroke:#ff0000;\" x=\"392.377219\" xlink:href=\"#mde85425dd2\" y=\"532.312461\"/>\n     <use style=\"fill:#ff0000;stroke:#ff0000;\" x=\"393.64858\" xlink:href=\"#mde85425dd2\" y=\"532.417298\"/>\n     <use style=\"fill:#ff0000;stroke:#ff0000;\" x=\"394.91994\" xlink:href=\"#mde85425dd2\" y=\"532.2778\"/>\n     <use style=\"fill:#ff0000;stroke:#ff0000;\" x=\"396.1913\" xlink:href=\"#mde85425dd2\" y=\"534.078249\"/>\n     <use style=\"fill:#ff0000;stroke:#ff0000;\" x=\"397.46266\" xlink:href=\"#mde85425dd2\" y=\"533.636609\"/>\n     <use style=\"fill:#ff0000;stroke:#ff0000;\" x=\"398.73402\" xlink:href=\"#mde85425dd2\" y=\"533.148856\"/>\n     <use style=\"fill:#ff0000;stroke:#ff0000;\" x=\"400.005381\" xlink:href=\"#mde85425dd2\" y=\"532.836886\"/>\n     <use style=\"fill:#ff0000;stroke:#ff0000;\" x=\"401.276741\" xlink:href=\"#mde85425dd2\" y=\"533.979964\"/>\n     <use style=\"fill:#ff0000;stroke:#ff0000;\" x=\"402.548101\" xlink:href=\"#mde85425dd2\" y=\"533.874872\"/>\n     <use style=\"fill:#ff0000;stroke:#ff0000;\" x=\"403.819461\" xlink:href=\"#mde85425dd2\" y=\"533.042327\"/>\n     <use style=\"fill:#ff0000;stroke:#ff0000;\" x=\"405.090822\" xlink:href=\"#mde85425dd2\" y=\"533.438442\"/>\n     <use style=\"fill:#ff0000;stroke:#ff0000;\" x=\"406.362182\" xlink:href=\"#mde85425dd2\" y=\"534.539587\"/>\n     <use style=\"fill:#ff0000;stroke:#ff0000;\" x=\"407.633542\" xlink:href=\"#mde85425dd2\" y=\"533.617971\"/>\n     <use style=\"fill:#ff0000;stroke:#ff0000;\" x=\"408.904902\" xlink:href=\"#mde85425dd2\" y=\"534.282202\"/>\n     <use style=\"fill:#ff0000;stroke:#ff0000;\" x=\"410.176262\" xlink:href=\"#mde85425dd2\" y=\"534.53648\"/>\n     <use style=\"fill:#ff0000;stroke:#ff0000;\" x=\"411.447623\" xlink:href=\"#mde85425dd2\" y=\"533.82258\"/>\n     <use style=\"fill:#ff0000;stroke:#ff0000;\" x=\"412.718983\" xlink:href=\"#mde85425dd2\" y=\"534.453487\"/>\n     <use style=\"fill:#ff0000;stroke:#ff0000;\" x=\"413.990343\" xlink:href=\"#mde85425dd2\" y=\"534.786063\"/>\n     <use style=\"fill:#ff0000;stroke:#ff0000;\" x=\"415.261703\" xlink:href=\"#mde85425dd2\" y=\"534.252271\"/>\n     <use style=\"fill:#ff0000;stroke:#ff0000;\" x=\"416.533063\" xlink:href=\"#mde85425dd2\" y=\"533.953907\"/>\n     <use style=\"fill:#ff0000;stroke:#ff0000;\" x=\"417.804424\" xlink:href=\"#mde85425dd2\" y=\"533.82367\"/>\n     <use style=\"fill:#ff0000;stroke:#ff0000;\" x=\"419.075784\" xlink:href=\"#mde85425dd2\" y=\"533.61416\"/>\n     <use style=\"fill:#ff0000;stroke:#ff0000;\" x=\"420.347144\" xlink:href=\"#mde85425dd2\" y=\"533.778055\"/>\n     <use style=\"fill:#ff0000;stroke:#ff0000;\" x=\"421.618504\" xlink:href=\"#mde85425dd2\" y=\"533.346282\"/>\n     <use style=\"fill:#ff0000;stroke:#ff0000;\" x=\"422.889865\" xlink:href=\"#mde85425dd2\" y=\"532.784167\"/>\n     <use style=\"fill:#ff0000;stroke:#ff0000;\" x=\"424.161225\" xlink:href=\"#mde85425dd2\" y=\"532.730315\"/>\n     <use style=\"fill:#ff0000;stroke:#ff0000;\" x=\"425.432585\" xlink:href=\"#mde85425dd2\" y=\"533.552571\"/>\n     <use style=\"fill:#ff0000;stroke:#ff0000;\" x=\"426.703945\" xlink:href=\"#mde85425dd2\" y=\"533.379566\"/>\n     <use style=\"fill:#ff0000;stroke:#ff0000;\" x=\"427.975305\" xlink:href=\"#mde85425dd2\" y=\"531.71655\"/>\n     <use style=\"fill:#ff0000;stroke:#ff0000;\" x=\"429.246666\" xlink:href=\"#mde85425dd2\" y=\"531.46999\"/>\n     <use style=\"fill:#ff0000;stroke:#ff0000;\" x=\"430.518026\" xlink:href=\"#mde85425dd2\" y=\"530.623038\"/>\n     <use style=\"fill:#ff0000;stroke:#ff0000;\" x=\"431.789386\" xlink:href=\"#mde85425dd2\" y=\"531.837221\"/>\n     <use style=\"fill:#ff0000;stroke:#ff0000;\" x=\"433.060746\" xlink:href=\"#mde85425dd2\" y=\"533.09145\"/>\n     <use style=\"fill:#ff0000;stroke:#ff0000;\" x=\"434.332107\" xlink:href=\"#mde85425dd2\" y=\"533.421234\"/>\n     <use style=\"fill:#ff0000;stroke:#ff0000;\" x=\"435.603467\" xlink:href=\"#mde85425dd2\" y=\"532.955984\"/>\n     <use style=\"fill:#ff0000;stroke:#ff0000;\" x=\"436.874827\" xlink:href=\"#mde85425dd2\" y=\"532.471029\"/>\n     <use style=\"fill:#ff0000;stroke:#ff0000;\" x=\"438.146187\" xlink:href=\"#mde85425dd2\" y=\"532.632828\"/>\n     <use style=\"fill:#ff0000;stroke:#ff0000;\" x=\"439.417547\" xlink:href=\"#mde85425dd2\" y=\"532.194081\"/>\n     <use style=\"fill:#ff0000;stroke:#ff0000;\" x=\"440.688908\" xlink:href=\"#mde85425dd2\" y=\"532.742197\"/>\n     <use style=\"fill:#ff0000;stroke:#ff0000;\" x=\"441.960268\" xlink:href=\"#mde85425dd2\" y=\"532.517015\"/>\n     <use style=\"fill:#ff0000;stroke:#ff0000;\" x=\"443.231628\" xlink:href=\"#mde85425dd2\" y=\"532.581693\"/>\n     <use style=\"fill:#ff0000;stroke:#ff0000;\" x=\"444.502988\" xlink:href=\"#mde85425dd2\" y=\"533.566007\"/>\n     <use style=\"fill:#ff0000;stroke:#ff0000;\" x=\"445.774349\" xlink:href=\"#mde85425dd2\" y=\"533.230198\"/>\n     <use style=\"fill:#ff0000;stroke:#ff0000;\" x=\"447.045709\" xlink:href=\"#mde85425dd2\" y=\"532.838284\"/>\n     <use style=\"fill:#ff0000;stroke:#ff0000;\" x=\"448.317069\" xlink:href=\"#mde85425dd2\" y=\"532.9558\"/>\n     <use style=\"fill:#ff0000;stroke:#ff0000;\" x=\"449.588429\" xlink:href=\"#mde85425dd2\" y=\"530.025462\"/>\n     <use style=\"fill:#ff0000;stroke:#ff0000;\" x=\"450.859789\" xlink:href=\"#mde85425dd2\" y=\"530.37822\"/>\n     <use style=\"fill:#ff0000;stroke:#ff0000;\" x=\"452.13115\" xlink:href=\"#mde85425dd2\" y=\"531.606738\"/>\n     <use style=\"fill:#ff0000;stroke:#ff0000;\" x=\"453.40251\" xlink:href=\"#mde85425dd2\" y=\"533.074652\"/>\n     <use style=\"fill:#ff0000;stroke:#ff0000;\" x=\"454.67387\" xlink:href=\"#mde85425dd2\" y=\"531.951883\"/>\n     <use style=\"fill:#ff0000;stroke:#ff0000;\" x=\"455.94523\" xlink:href=\"#mde85425dd2\" y=\"531.258975\"/>\n     <use style=\"fill:#ff0000;stroke:#ff0000;\" x=\"457.21659\" xlink:href=\"#mde85425dd2\" y=\"532.570896\"/>\n     <use style=\"fill:#ff0000;stroke:#ff0000;\" x=\"458.487951\" xlink:href=\"#mde85425dd2\" y=\"531.831427\"/>\n     <use style=\"fill:#ff0000;stroke:#ff0000;\" x=\"459.759311\" xlink:href=\"#mde85425dd2\" y=\"532.642656\"/>\n     <use style=\"fill:#ff0000;stroke:#ff0000;\" x=\"461.030671\" xlink:href=\"#mde85425dd2\" y=\"531.952637\"/>\n     <use style=\"fill:#ff0000;stroke:#ff0000;\" x=\"462.302031\" xlink:href=\"#mde85425dd2\" y=\"532.181016\"/>\n     <use style=\"fill:#ff0000;stroke:#ff0000;\" x=\"463.573392\" xlink:href=\"#mde85425dd2\" y=\"532.54294\"/>\n     <use style=\"fill:#ff0000;stroke:#ff0000;\" x=\"464.844752\" xlink:href=\"#mde85425dd2\" y=\"532.273497\"/>\n     <use style=\"fill:#ff0000;stroke:#ff0000;\" x=\"466.116112\" xlink:href=\"#mde85425dd2\" y=\"530.515168\"/>\n     <use style=\"fill:#ff0000;stroke:#ff0000;\" x=\"467.387472\" xlink:href=\"#mde85425dd2\" y=\"529.151562\"/>\n     <use style=\"fill:#ff0000;stroke:#ff0000;\" x=\"468.658832\" xlink:href=\"#mde85425dd2\" y=\"528.860019\"/>\n     <use style=\"fill:#ff0000;stroke:#ff0000;\" x=\"469.930193\" xlink:href=\"#mde85425dd2\" y=\"527.947957\"/>\n     <use style=\"fill:#ff0000;stroke:#ff0000;\" x=\"471.201553\" xlink:href=\"#mde85425dd2\" y=\"529.033337\"/>\n     <use style=\"fill:#ff0000;stroke:#ff0000;\" x=\"472.472913\" xlink:href=\"#mde85425dd2\" y=\"530.851836\"/>\n     <use style=\"fill:#ff0000;stroke:#ff0000;\" x=\"473.744273\" xlink:href=\"#mde85425dd2\" y=\"531.557349\"/>\n     <use style=\"fill:#ff0000;stroke:#ff0000;\" x=\"475.015634\" xlink:href=\"#mde85425dd2\" y=\"530.738528\"/>\n     <use style=\"fill:#ff0000;stroke:#ff0000;\" x=\"476.286994\" xlink:href=\"#mde85425dd2\" y=\"529.122835\"/>\n     <use style=\"fill:#ff0000;stroke:#ff0000;\" x=\"477.558354\" xlink:href=\"#mde85425dd2\" y=\"529.340653\"/>\n     <use style=\"fill:#ff0000;stroke:#ff0000;\" x=\"478.829714\" xlink:href=\"#mde85425dd2\" y=\"530.585791\"/>\n     <use style=\"fill:#ff0000;stroke:#ff0000;\" x=\"480.101074\" xlink:href=\"#mde85425dd2\" y=\"529.95258\"/>\n     <use style=\"fill:#ff0000;stroke:#ff0000;\" x=\"481.372435\" xlink:href=\"#mde85425dd2\" y=\"529.547864\"/>\n     <use style=\"fill:#ff0000;stroke:#ff0000;\" x=\"482.643795\" xlink:href=\"#mde85425dd2\" y=\"530.485193\"/>\n     <use style=\"fill:#ff0000;stroke:#ff0000;\" x=\"483.915155\" xlink:href=\"#mde85425dd2\" y=\"530.434988\"/>\n     <use style=\"fill:#ff0000;stroke:#ff0000;\" x=\"485.186515\" xlink:href=\"#mde85425dd2\" y=\"530.470234\"/>\n     <use style=\"fill:#ff0000;stroke:#ff0000;\" x=\"486.457876\" xlink:href=\"#mde85425dd2\" y=\"530.635735\"/>\n     <use style=\"fill:#ff0000;stroke:#ff0000;\" x=\"487.729236\" xlink:href=\"#mde85425dd2\" y=\"532.161481\"/>\n     <use style=\"fill:#ff0000;stroke:#ff0000;\" x=\"489.000596\" xlink:href=\"#mde85425dd2\" y=\"529.729415\"/>\n     <use style=\"fill:#ff0000;stroke:#ff0000;\" x=\"490.271956\" xlink:href=\"#mde85425dd2\" y=\"530.610605\"/>\n     <use style=\"fill:#ff0000;stroke:#ff0000;\" x=\"491.543316\" xlink:href=\"#mde85425dd2\" y=\"530.897932\"/>\n     <use style=\"fill:#ff0000;stroke:#ff0000;\" x=\"492.814677\" xlink:href=\"#mde85425dd2\" y=\"530.32612\"/>\n     <use style=\"fill:#ff0000;stroke:#ff0000;\" x=\"494.086037\" xlink:href=\"#mde85425dd2\" y=\"528.904102\"/>\n     <use style=\"fill:#ff0000;stroke:#ff0000;\" x=\"495.357397\" xlink:href=\"#mde85425dd2\" y=\"529.306652\"/>\n     <use style=\"fill:#ff0000;stroke:#ff0000;\" x=\"496.628757\" xlink:href=\"#mde85425dd2\" y=\"529.868549\"/>\n     <use style=\"fill:#ff0000;stroke:#ff0000;\" x=\"497.900117\" xlink:href=\"#mde85425dd2\" y=\"531.192576\"/>\n     <use style=\"fill:#ff0000;stroke:#ff0000;\" x=\"499.171478\" xlink:href=\"#mde85425dd2\" y=\"530.190097\"/>\n     <use style=\"fill:#ff0000;stroke:#ff0000;\" x=\"500.442838\" xlink:href=\"#mde85425dd2\" y=\"531.02655\"/>\n     <use style=\"fill:#ff0000;stroke:#ff0000;\" x=\"501.714198\" xlink:href=\"#mde85425dd2\" y=\"531.085655\"/>\n     <use style=\"fill:#ff0000;stroke:#ff0000;\" x=\"502.985558\" xlink:href=\"#mde85425dd2\" y=\"531.174749\"/>\n     <use style=\"fill:#ff0000;stroke:#ff0000;\" x=\"504.256919\" xlink:href=\"#mde85425dd2\" y=\"531.763355\"/>\n     <use style=\"fill:#ff0000;stroke:#ff0000;\" x=\"505.528279\" xlink:href=\"#mde85425dd2\" y=\"530.700139\"/>\n     <use style=\"fill:#ff0000;stroke:#ff0000;\" x=\"506.799639\" xlink:href=\"#mde85425dd2\" y=\"531.420874\"/>\n     <use style=\"fill:#ff0000;stroke:#ff0000;\" x=\"508.070999\" xlink:href=\"#mde85425dd2\" y=\"531.715805\"/>\n     <use style=\"fill:#ff0000;stroke:#ff0000;\" x=\"509.342359\" xlink:href=\"#mde85425dd2\" y=\"529.547323\"/>\n     <use style=\"fill:#ff0000;stroke:#ff0000;\" x=\"510.61372\" xlink:href=\"#mde85425dd2\" y=\"529.712928\"/>\n     <use style=\"fill:#ff0000;stroke:#ff0000;\" x=\"511.88508\" xlink:href=\"#mde85425dd2\" y=\"529.379099\"/>\n     <use style=\"fill:#ff0000;stroke:#ff0000;\" x=\"513.15644\" xlink:href=\"#mde85425dd2\" y=\"528.833589\"/>\n     <use style=\"fill:#ff0000;stroke:#ff0000;\" x=\"514.4278\" xlink:href=\"#mde85425dd2\" y=\"530.832034\"/>\n     <use style=\"fill:#ff0000;stroke:#ff0000;\" x=\"515.699161\" xlink:href=\"#mde85425dd2\" y=\"531.248093\"/>\n     <use style=\"fill:#ff0000;stroke:#ff0000;\" x=\"516.970521\" xlink:href=\"#mde85425dd2\" y=\"530.658512\"/>\n     <use style=\"fill:#ff0000;stroke:#ff0000;\" x=\"518.241881\" xlink:href=\"#mde85425dd2\" y=\"529.754668\"/>\n     <use style=\"fill:#ff0000;stroke:#ff0000;\" x=\"519.513241\" xlink:href=\"#mde85425dd2\" y=\"529.950329\"/>\n     <use style=\"fill:#ff0000;stroke:#ff0000;\" x=\"520.784601\" xlink:href=\"#mde85425dd2\" y=\"530.303329\"/>\n     <use style=\"fill:#ff0000;stroke:#ff0000;\" x=\"522.055962\" xlink:href=\"#mde85425dd2\" y=\"530.986503\"/>\n     <use style=\"fill:#ff0000;stroke:#ff0000;\" x=\"523.327322\" xlink:href=\"#mde85425dd2\" y=\"532.007745\"/>\n     <use style=\"fill:#ff0000;stroke:#ff0000;\" x=\"524.598682\" xlink:href=\"#mde85425dd2\" y=\"532.094392\"/>\n     <use style=\"fill:#ff0000;stroke:#ff0000;\" x=\"525.870042\" xlink:href=\"#mde85425dd2\" y=\"531.97555\"/>\n     <use style=\"fill:#ff0000;stroke:#ff0000;\" x=\"527.141403\" xlink:href=\"#mde85425dd2\" y=\"529.73054\"/>\n     <use style=\"fill:#ff0000;stroke:#ff0000;\" x=\"528.412763\" xlink:href=\"#mde85425dd2\" y=\"530.303453\"/>\n     <use style=\"fill:#ff0000;stroke:#ff0000;\" x=\"529.684123\" xlink:href=\"#mde85425dd2\" y=\"532.407794\"/>\n     <use style=\"fill:#ff0000;stroke:#ff0000;\" x=\"530.955483\" xlink:href=\"#mde85425dd2\" y=\"531.244048\"/>\n     <use style=\"fill:#ff0000;stroke:#ff0000;\" x=\"532.226843\" xlink:href=\"#mde85425dd2\" y=\"531.1387\"/>\n     <use style=\"fill:#ff0000;stroke:#ff0000;\" x=\"533.498204\" xlink:href=\"#mde85425dd2\" y=\"530.807747\"/>\n     <use style=\"fill:#ff0000;stroke:#ff0000;\" x=\"534.769564\" xlink:href=\"#mde85425dd2\" y=\"530.727381\"/>\n     <use style=\"fill:#ff0000;stroke:#ff0000;\" x=\"536.040924\" xlink:href=\"#mde85425dd2\" y=\"530.841057\"/>\n     <use style=\"fill:#ff0000;stroke:#ff0000;\" x=\"537.312284\" xlink:href=\"#mde85425dd2\" y=\"531.883522\"/>\n     <use style=\"fill:#ff0000;stroke:#ff0000;\" x=\"538.583644\" xlink:href=\"#mde85425dd2\" y=\"531.906008\"/>\n     <use style=\"fill:#ff0000;stroke:#ff0000;\" x=\"539.855005\" xlink:href=\"#mde85425dd2\" y=\"531.920734\"/>\n     <use style=\"fill:#ff0000;stroke:#ff0000;\" x=\"541.126365\" xlink:href=\"#mde85425dd2\" y=\"531.585544\"/>\n     <use style=\"fill:#ff0000;stroke:#ff0000;\" x=\"542.397725\" xlink:href=\"#mde85425dd2\" y=\"532.474728\"/>\n     <use style=\"fill:#ff0000;stroke:#ff0000;\" x=\"543.669085\" xlink:href=\"#mde85425dd2\" y=\"530.832331\"/>\n     <use style=\"fill:#ff0000;stroke:#ff0000;\" x=\"544.940446\" xlink:href=\"#mde85425dd2\" y=\"530.501092\"/>\n     <use style=\"fill:#ff0000;stroke:#ff0000;\" x=\"546.211806\" xlink:href=\"#mde85425dd2\" y=\"530.215326\"/>\n     <use style=\"fill:#ff0000;stroke:#ff0000;\" x=\"547.483166\" xlink:href=\"#mde85425dd2\" y=\"529.377325\"/>\n     <use style=\"fill:#ff0000;stroke:#ff0000;\" x=\"548.754526\" xlink:href=\"#mde85425dd2\" y=\"529.695837\"/>\n     <use style=\"fill:#ff0000;stroke:#ff0000;\" x=\"550.025886\" xlink:href=\"#mde85425dd2\" y=\"529.6419\"/>\n     <use style=\"fill:#ff0000;stroke:#ff0000;\" x=\"551.297247\" xlink:href=\"#mde85425dd2\" y=\"531.451489\"/>\n     <use style=\"fill:#ff0000;stroke:#ff0000;\" x=\"552.568607\" xlink:href=\"#mde85425dd2\" y=\"531.486158\"/>\n     <use style=\"fill:#ff0000;stroke:#ff0000;\" x=\"553.839967\" xlink:href=\"#mde85425dd2\" y=\"531.185047\"/>\n     <use style=\"fill:#ff0000;stroke:#ff0000;\" x=\"555.111327\" xlink:href=\"#mde85425dd2\" y=\"531.257997\"/>\n     <use style=\"fill:#ff0000;stroke:#ff0000;\" x=\"556.382688\" xlink:href=\"#mde85425dd2\" y=\"531.538125\"/>\n     <use style=\"fill:#ff0000;stroke:#ff0000;\" x=\"557.654048\" xlink:href=\"#mde85425dd2\" y=\"530.923228\"/>\n     <use style=\"fill:#ff0000;stroke:#ff0000;\" x=\"558.925408\" xlink:href=\"#mde85425dd2\" y=\"530.122417\"/>\n     <use style=\"fill:#ff0000;stroke:#ff0000;\" x=\"560.196768\" xlink:href=\"#mde85425dd2\" y=\"530.646458\"/>\n     <use style=\"fill:#ff0000;stroke:#ff0000;\" x=\"561.468128\" xlink:href=\"#mde85425dd2\" y=\"531.921206\"/>\n     <use style=\"fill:#ff0000;stroke:#ff0000;\" x=\"562.739489\" xlink:href=\"#mde85425dd2\" y=\"531.171845\"/>\n    </g>\n   </g>\n   <g id=\"patch_8\">\n    <path d=\"M 30.103125 565.918125 \nL 30.103125 318.827216 \n\" style=\"fill:none;stroke:#000000;stroke-linecap:square;stroke-linejoin:miter;stroke-width:0.8;\"/>\n   </g>\n   <g id=\"patch_9\">\n    <path d=\"M 588.103125 565.918125 \nL 588.103125 318.827216 \n\" style=\"fill:none;stroke:#000000;stroke-linecap:square;stroke-linejoin:miter;stroke-width:0.8;\"/>\n   </g>\n   <g id=\"patch_10\">\n    <path d=\"M 30.103125 565.918125 \nL 588.103125 565.918125 \n\" style=\"fill:none;stroke:#000000;stroke-linecap:square;stroke-linejoin:miter;stroke-width:0.8;\"/>\n   </g>\n   <g id=\"patch_11\">\n    <path d=\"M 30.103125 318.827216 \nL 588.103125 318.827216 \n\" style=\"fill:none;stroke:#000000;stroke-linecap:square;stroke-linejoin:miter;stroke-width:0.8;\"/>\n   </g>\n   <g id=\"text_34\">\n    <!-- training and validation loss -->\n    <g transform=\"translate(227.720625 312.827216)scale(0.12 -0.12)\">\n     <use xlink:href=\"#DejaVuSans-116\"/>\n     <use x=\"39.208984\" xlink:href=\"#DejaVuSans-114\"/>\n     <use x=\"80.322266\" xlink:href=\"#DejaVuSans-97\"/>\n     <use x=\"141.601562\" xlink:href=\"#DejaVuSans-105\"/>\n     <use x=\"169.384766\" xlink:href=\"#DejaVuSans-110\"/>\n     <use x=\"232.763672\" xlink:href=\"#DejaVuSans-105\"/>\n     <use x=\"260.546875\" xlink:href=\"#DejaVuSans-110\"/>\n     <use x=\"323.925781\" xlink:href=\"#DejaVuSans-103\"/>\n     <use x=\"387.402344\" xlink:href=\"#DejaVuSans-32\"/>\n     <use x=\"419.189453\" xlink:href=\"#DejaVuSans-97\"/>\n     <use x=\"480.46875\" xlink:href=\"#DejaVuSans-110\"/>\n     <use x=\"543.847656\" xlink:href=\"#DejaVuSans-100\"/>\n     <use x=\"607.324219\" xlink:href=\"#DejaVuSans-32\"/>\n     <use x=\"639.111328\" xlink:href=\"#DejaVuSans-118\"/>\n     <use x=\"698.291016\" xlink:href=\"#DejaVuSans-97\"/>\n     <use x=\"759.570312\" xlink:href=\"#DejaVuSans-108\"/>\n     <use x=\"787.353516\" xlink:href=\"#DejaVuSans-105\"/>\n     <use x=\"815.136719\" xlink:href=\"#DejaVuSans-100\"/>\n     <use x=\"878.613281\" xlink:href=\"#DejaVuSans-97\"/>\n     <use x=\"939.892578\" xlink:href=\"#DejaVuSans-116\"/>\n     <use x=\"979.101562\" xlink:href=\"#DejaVuSans-105\"/>\n     <use x=\"1006.884766\" xlink:href=\"#DejaVuSans-111\"/>\n     <use x=\"1068.066406\" xlink:href=\"#DejaVuSans-110\"/>\n     <use x=\"1131.445312\" xlink:href=\"#DejaVuSans-32\"/>\n     <use x=\"1163.232422\" xlink:href=\"#DejaVuSans-108\"/>\n     <use x=\"1191.015625\" xlink:href=\"#DejaVuSans-111\"/>\n     <use x=\"1252.197266\" xlink:href=\"#DejaVuSans-115\"/>\n     <use x=\"1304.296875\" xlink:href=\"#DejaVuSans-115\"/>\n    </g>\n   </g>\n   <g id=\"legend_1\">\n    <g id=\"patch_12\">\n     <path d=\"M 477.375 356.183466 \nL 581.103125 356.183466 \nQ 583.103125 356.183466 583.103125 354.183466 \nL 583.103125 325.827216 \nQ 583.103125 323.827216 581.103125 323.827216 \nL 477.375 323.827216 \nQ 475.375 323.827216 475.375 325.827216 \nL 475.375 354.183466 \nQ 475.375 356.183466 477.375 356.183466 \nz\n\" style=\"fill:#ffffff;opacity:0.8;stroke:#cccccc;stroke-linejoin:miter;\"/>\n    </g>\n    <g id=\"line2d_35\">\n     <path d=\"M 479.375 331.925653 \nL 499.375 331.925653 \n\" style=\"fill:none;stroke:#0000ff;stroke-linecap:square;stroke-width:1.5;\"/>\n    </g>\n    <g id=\"line2d_36\">\n     <g>\n      <use style=\"fill:#0000ff;stroke:#0000ff;\" x=\"489.375\" xlink:href=\"#mde9338e860\" y=\"331.925653\"/>\n     </g>\n    </g>\n    <g id=\"text_35\">\n     <!-- training loss -->\n     <g transform=\"translate(507.375 335.425653)scale(0.1 -0.1)\">\n      <use xlink:href=\"#DejaVuSans-116\"/>\n      <use x=\"39.208984\" xlink:href=\"#DejaVuSans-114\"/>\n      <use x=\"80.322266\" xlink:href=\"#DejaVuSans-97\"/>\n      <use x=\"141.601562\" xlink:href=\"#DejaVuSans-105\"/>\n      <use x=\"169.384766\" xlink:href=\"#DejaVuSans-110\"/>\n      <use x=\"232.763672\" xlink:href=\"#DejaVuSans-105\"/>\n      <use x=\"260.546875\" xlink:href=\"#DejaVuSans-110\"/>\n      <use x=\"323.925781\" xlink:href=\"#DejaVuSans-103\"/>\n      <use x=\"387.402344\" xlink:href=\"#DejaVuSans-32\"/>\n      <use x=\"419.189453\" xlink:href=\"#DejaVuSans-108\"/>\n      <use x=\"446.972656\" xlink:href=\"#DejaVuSans-111\"/>\n      <use x=\"508.154297\" xlink:href=\"#DejaVuSans-115\"/>\n      <use x=\"560.253906\" xlink:href=\"#DejaVuSans-115\"/>\n     </g>\n    </g>\n    <g id=\"line2d_37\">\n     <path d=\"M 479.375 346.603778 \nL 499.375 346.603778 \n\" style=\"fill:none;stroke:#ff0000;stroke-linecap:square;stroke-width:1.5;\"/>\n    </g>\n    <g id=\"line2d_38\">\n     <g>\n      <use style=\"fill:#ff0000;stroke:#ff0000;\" x=\"489.375\" xlink:href=\"#mde85425dd2\" y=\"346.603778\"/>\n     </g>\n    </g>\n    <g id=\"text_36\">\n     <!-- validation loss -->\n     <g transform=\"translate(507.375 350.103778)scale(0.1 -0.1)\">\n      <use xlink:href=\"#DejaVuSans-118\"/>\n      <use x=\"59.179688\" xlink:href=\"#DejaVuSans-97\"/>\n      <use x=\"120.458984\" xlink:href=\"#DejaVuSans-108\"/>\n      <use x=\"148.242188\" xlink:href=\"#DejaVuSans-105\"/>\n      <use x=\"176.025391\" xlink:href=\"#DejaVuSans-100\"/>\n      <use x=\"239.501953\" xlink:href=\"#DejaVuSans-97\"/>\n      <use x=\"300.78125\" xlink:href=\"#DejaVuSans-116\"/>\n      <use x=\"339.990234\" xlink:href=\"#DejaVuSans-105\"/>\n      <use x=\"367.773438\" xlink:href=\"#DejaVuSans-111\"/>\n      <use x=\"428.955078\" xlink:href=\"#DejaVuSans-110\"/>\n      <use x=\"492.333984\" xlink:href=\"#DejaVuSans-32\"/>\n      <use x=\"524.121094\" xlink:href=\"#DejaVuSans-108\"/>\n      <use x=\"551.904297\" xlink:href=\"#DejaVuSans-111\"/>\n      <use x=\"613.085938\" xlink:href=\"#DejaVuSans-115\"/>\n      <use x=\"665.185547\" xlink:href=\"#DejaVuSans-115\"/>\n     </g>\n    </g>\n   </g>\n  </g>\n </g>\n <defs>\n  <clipPath id=\"p08ce9ca42b\">\n   <rect height=\"247.090909\" width=\"558\" x=\"30.103125\" y=\"22.318125\"/>\n  </clipPath>\n  <clipPath id=\"pbf3ea29c39\">\n   <rect height=\"247.090909\" width=\"558\" x=\"30.103125\" y=\"318.827216\"/>\n  </clipPath>\n </defs>\n</svg>\n",
      "image/png": "[encoded data removed]"
     },
     "metadata": {
      "needs_background": "light"
     }
    }
   ],
   "source": [
    "from keras_tqdm import TQDMNotebookCallback as tqdm_cb\n",
    "\n",
    "batch_size = 32\n",
    "explore_epochs = 400\n",
    "\n",
    "model = build_model()\n",
    "\n",
    "print(f'performing exploratory training: {explore_epochs} epochs...')\n",
    "\n",
    "hist = model.fit(x_train, y_train, validation_data=(x_test, y_test), epochs=explore_epochs, batch_size=32, verbose=0, callbacks=[tqdm_cb()])\n",
    "\n",
    "train_acc_log = hist.history['acc']\n",
    "val_acc_log = hist.history['val_acc']\n",
    "train_loss_log = hist.history['loss']\n",
    "val_loss_log = hist.history['val_loss']\n",
    "\n",
    "skip_epochs = 0\n",
    "epoch_range = range(skip_epochs + 1, len(train_acc_log) + 1)\n",
    "fig, ax = plt.subplots(2, 1, figsize=(10, 10))\n",
    "\n",
    "ax[0].plot(epoch_range, train_acc_log[skip_epochs:], 'bo-', label='training acc')\n",
    "ax[0].plot(epoch_range, val_acc_log[skip_epochs:], 'ro-', label='validation acc')\n",
    "ax[0].set_title(\"training and validation accuracy\")\n",
    "ax[0].set_xlabel(\"epochs\")\n",
    "\n",
    "ax[1].plot(epoch_range, train_loss_log[skip_epochs:], 'bo-', label='training loss')\n",
    "ax[1].plot(epoch_range, val_loss_log[skip_epochs:], 'ro-', label='validation loss')\n",
    "ax[1].set_title('training and validation loss')\n",
    "ax[1].set_xlabel(\"epochs\")\n",
    "ax[1].legend()"
   ]
  },
  {
   "cell_type": "markdown",
   "metadata": {},
   "source": [
    "and now, we train our model"
   ]
  },
  {
   "cell_type": "code",
   "execution_count": 106,
   "metadata": {
    "tags": []
   },
   "outputs": [
    {
     "output_type": "stream",
     "name": "stdout",
     "text": "_________________________________________________________________\nLayer (type)                 Output Shape              Param #   \n=================================================================\ndense_83 (Dense)             (None, 48)                720       \n_________________________________________________________________\ndropout_3 (Dropout)          (None, 48)                0         \n_________________________________________________________________\ndense_84 (Dense)             (None, 48)                2352      \n_________________________________________________________________\ndropout_4 (Dropout)          (None, 48)                0         \n_________________________________________________________________\ndense_85 (Dense)             (None, 1)                 49        \n=================================================================\nTotal params: 3,121\nTrainable params: 3,121\nNon-trainable params: 0\n_________________________________________________________________\n"
    },
    {
     "output_type": "display_data",
     "data": {
      "text/plain": "HBox(children=(FloatProgress(value=0.0, description='Training', max=120.0, style=ProgressStyle(description_wid…",
      "application/vnd.jupyter.widget-view+json": {
       "version_major": 2,
       "version_minor": 0,
       "model_id": "08f5033e2ce44fc887eaf365c2af5ffc"
      }
     },
     "metadata": {}
    },
    {
     "output_type": "display_data",
     "data": {
      "text/plain": "HBox(children=(FloatProgress(value=0.0, description='Epoch 0', max=471.0, style=ProgressStyle(description_widt…",
      "application/vnd.jupyter.widget-view+json": {
       "version_major": 2,
       "version_minor": 0,
       "model_id": "2571dfa6a11f4ce881836fc614a344e6"
      }
     },
     "metadata": {}
    },
    {
     "output_type": "display_data",
     "data": {
      "text/plain": "HBox(children=(FloatProgress(value=0.0, description='Epoch 1', max=471.0, style=ProgressStyle(description_widt…",
      "application/vnd.jupyter.widget-view+json": {
       "version_major": 2,
       "version_minor": 0,
       "model_id": "b026b771308f4a0bb3adaf8b0a2f4f21"
      }
     },
     "metadata": {}
    },
    {
     "output_type": "display_data",
     "data": {
      "text/plain": "HBox(children=(FloatProgress(value=0.0, description='Epoch 2', max=471.0, style=ProgressStyle(description_widt…",
      "application/vnd.jupyter.widget-view+json": {
       "version_major": 2,
       "version_minor": 0,
       "model_id": "97ad7692a27643d09dcff3d66e1d2924"
      }
     },
     "metadata": {}
    },
    {
     "output_type": "display_data",
     "data": {
      "text/plain": "HBox(children=(FloatProgress(value=0.0, description='Epoch 3', max=471.0, style=ProgressStyle(description_widt…",
      "application/vnd.jupyter.widget-view+json": {
       "version_major": 2,
       "version_minor": 0,
       "model_id": "5bc811136dfc4e5ab9aa0f39885a7a63"
      }
     },
     "metadata": {}
    },
    {
     "output_type": "display_data",
     "data": {
      "text/plain": "HBox(children=(FloatProgress(value=0.0, description='Epoch 4', max=471.0, style=ProgressStyle(description_widt…",
      "application/vnd.jupyter.widget-view+json": {
       "version_major": 2,
       "version_minor": 0,
       "model_id": "581d04e921644e1cac27585d8d303267"
      }
     },
     "metadata": {}
    },
    {
     "output_type": "display_data",
     "data": {
      "text/plain": "HBox(children=(FloatProgress(value=0.0, description='Epoch 5', max=471.0, style=ProgressStyle(description_widt…",
      "application/vnd.jupyter.widget-view+json": {
       "version_major": 2,
       "version_minor": 0,
       "model_id": "72674721d5f24bd58b13832d8b90a753"
      }
     },
     "metadata": {}
    },
    {
     "output_type": "display_data",
     "data": {
      "text/plain": "HBox(children=(FloatProgress(value=0.0, description='Epoch 6', max=471.0, style=ProgressStyle(description_widt…",
      "application/vnd.jupyter.widget-view+json": {
       "version_major": 2,
       "version_minor": 0,
       "model_id": "4c1a90d5bbed45bf81de18abe256b031"
      }
     },
     "metadata": {}
    },
    {
     "output_type": "display_data",
     "data": {
      "text/plain": "HBox(children=(FloatProgress(value=0.0, description='Epoch 7', max=471.0, style=ProgressStyle(description_widt…",
      "application/vnd.jupyter.widget-view+json": {
       "version_major": 2,
       "version_minor": 0,
       "model_id": "9af07c34e4ee48308bd0bc3d9f81f962"
      }
     },
     "metadata": {}
    },
    {
     "output_type": "display_data",
     "data": {
      "text/plain": "HBox(children=(FloatProgress(value=0.0, description='Epoch 8', max=471.0, style=ProgressStyle(description_widt…",
      "application/vnd.jupyter.widget-view+json": {
       "version_major": 2,
       "version_minor": 0,
       "model_id": "7d0aca6cbd284326a15b3807d6dbfd11"
      }
     },
     "metadata": {}
    },
    {
     "output_type": "display_data",
     "data": {
      "text/plain": "HBox(children=(FloatProgress(value=0.0, description='Epoch 9', max=471.0, style=ProgressStyle(description_widt…",
      "application/vnd.jupyter.widget-view+json": {
       "version_major": 2,
       "version_minor": 0,
       "model_id": "e0d5bdec5557477d84dcdd6058ed8cee"
      }
     },
     "metadata": {}
    },
    {
     "output_type": "display_data",
     "data": {
      "text/plain": "HBox(children=(FloatProgress(value=0.0, description='Epoch 10', max=471.0, style=ProgressStyle(description_wid…",
      "application/vnd.jupyter.widget-view+json": {
       "version_major": 2,
       "version_minor": 0,
       "model_id": "cc8da620227b4e48bb29b825b1fa5d43"
      }
     },
     "metadata": {}
    },
    {
     "output_type": "display_data",
     "data": {
      "text/plain": "HBox(children=(FloatProgress(value=0.0, description='Epoch 11', max=471.0, style=ProgressStyle(description_wid…",
      "application/vnd.jupyter.widget-view+json": {
       "version_major": 2,
       "version_minor": 0,
       "model_id": "3ef903bbf36f419383b16d5323116ab0"
      }
     },
     "metadata": {}
    },
    {
     "output_type": "display_data",
     "data": {
      "text/plain": "HBox(children=(FloatProgress(value=0.0, description='Epoch 12', max=471.0, style=ProgressStyle(description_wid…",
      "application/vnd.jupyter.widget-view+json": {
       "version_major": 2,
       "version_minor": 0,
       "model_id": "f6db3e53611646a8a2eb449aa119940f"
      }
     },
     "metadata": {}
    },
    {
     "output_type": "display_data",
     "data": {
      "text/plain": "HBox(children=(FloatProgress(value=0.0, description='Epoch 13', max=471.0, style=ProgressStyle(description_wid…",
      "application/vnd.jupyter.widget-view+json": {
       "version_major": 2,
       "version_minor": 0,
       "model_id": "ebd2526c3b7c437b8e4fea091d9aab05"
      }
     },
     "metadata": {}
    },
    {
     "output_type": "display_data",
     "data": {
      "text/plain": "HBox(children=(FloatProgress(value=0.0, description='Epoch 14', max=471.0, style=ProgressStyle(description_wid…",
      "application/vnd.jupyter.widget-view+json": {
       "version_major": 2,
       "version_minor": 0,
       "model_id": "3fc5850181b14776a1aa65f0ec7a0b53"
      }
     },
     "metadata": {}
    },
    {
     "output_type": "display_data",
     "data": {
      "text/plain": "HBox(children=(FloatProgress(value=0.0, description='Epoch 15', max=471.0, style=ProgressStyle(description_wid…",
      "application/vnd.jupyter.widget-view+json": {
       "version_major": 2,
       "version_minor": 0,
       "model_id": "aa86c43814714182bac18930522be51b"
      }
     },
     "metadata": {}
    },
    {
     "output_type": "display_data",
     "data": {
      "text/plain": "HBox(children=(FloatProgress(value=0.0, description='Epoch 16', max=471.0, style=ProgressStyle(description_wid…",
      "application/vnd.jupyter.widget-view+json": {
       "version_major": 2,
       "version_minor": 0,
       "model_id": "6cd3216a7cc54bc59dd14274dc8fb48d"
      }
     },
     "metadata": {}
    },
    {
     "output_type": "display_data",
     "data": {
      "text/plain": "HBox(children=(FloatProgress(value=0.0, description='Epoch 17', max=471.0, style=ProgressStyle(description_wid…",
      "application/vnd.jupyter.widget-view+json": {
       "version_major": 2,
       "version_minor": 0,
       "model_id": "16f31cc1ebb642ddba54f3c9bde21e82"
      }
     },
     "metadata": {}
    },
    {
     "output_type": "display_data",
     "data": {
      "text/plain": "HBox(children=(FloatProgress(value=0.0, description='Epoch 18', max=471.0, style=ProgressStyle(description_wid…",
      "application/vnd.jupyter.widget-view+json": {
       "version_major": 2,
       "version_minor": 0,
       "model_id": "76ff32c4d26646b78b952224f069ed61"
      }
     },
     "metadata": {}
    },
    {
     "output_type": "display_data",
     "data": {
      "text/plain": "HBox(children=(FloatProgress(value=0.0, description='Epoch 19', max=471.0, style=ProgressStyle(description_wid…",
      "application/vnd.jupyter.widget-view+json": {
       "version_major": 2,
       "version_minor": 0,
       "model_id": "df4411d3c0fc40f5b6a795fa7531f666"
      }
     },
     "metadata": {}
    },
    {
     "output_type": "display_data",
     "data": {
      "text/plain": "HBox(children=(FloatProgress(value=0.0, description='Epoch 20', max=471.0, style=ProgressStyle(description_wid…",
      "application/vnd.jupyter.widget-view+json": {
       "version_major": 2,
       "version_minor": 0,
       "model_id": "c276bd72957c4ef19b3287d237f22713"
      }
     },
     "metadata": {}
    },
    {
     "output_type": "display_data",
     "data": {
      "text/plain": "HBox(children=(FloatProgress(value=0.0, description='Epoch 21', max=471.0, style=ProgressStyle(description_wid…",
      "application/vnd.jupyter.widget-view+json": {
       "version_major": 2,
       "version_minor": 0,
       "model_id": "e30a9748c93546b4bca97d3e930e7847"
      }
     },
     "metadata": {}
    },
    {
     "output_type": "display_data",
     "data": {
      "text/plain": "HBox(children=(FloatProgress(value=0.0, description='Epoch 22', max=471.0, style=ProgressStyle(description_wid…",
      "application/vnd.jupyter.widget-view+json": {
       "version_major": 2,
       "version_minor": 0,
       "model_id": "97faf29164cd4799a47136095359c951"
      }
     },
     "metadata": {}
    },
    {
     "output_type": "display_data",
     "data": {
      "text/plain": "HBox(children=(FloatProgress(value=0.0, description='Epoch 23', max=471.0, style=ProgressStyle(description_wid…",
      "application/vnd.jupyter.widget-view+json": {
       "version_major": 2,
       "version_minor": 0,
       "model_id": "5382a02052b545fe905d75f7ac3ca8d8"
      }
     },
     "metadata": {}
    },
    {
     "output_type": "display_data",
     "data": {
      "text/plain": "HBox(children=(FloatProgress(value=0.0, description='Epoch 24', max=471.0, style=ProgressStyle(description_wid…",
      "application/vnd.jupyter.widget-view+json": {
       "version_major": 2,
       "version_minor": 0,
       "model_id": "695b51e95cb547909a833a521aafd6bf"
      }
     },
     "metadata": {}
    },
    {
     "output_type": "display_data",
     "data": {
      "text/plain": "HBox(children=(FloatProgress(value=0.0, description='Epoch 25', max=471.0, style=ProgressStyle(description_wid…",
      "application/vnd.jupyter.widget-view+json": {
       "version_major": 2,
       "version_minor": 0,
       "model_id": "e27c99ff460b48f182af43489f01fb05"
      }
     },
     "metadata": {}
    },
    {
     "output_type": "display_data",
     "data": {
      "text/plain": "HBox(children=(FloatProgress(value=0.0, description='Epoch 26', max=471.0, style=ProgressStyle(description_wid…",
      "application/vnd.jupyter.widget-view+json": {
       "version_major": 2,
       "version_minor": 0,
       "model_id": "c663b2f4caa84666bc7cdf35bb3c90ca"
      }
     },
     "metadata": {}
    },
    {
     "output_type": "display_data",
     "data": {
      "text/plain": "HBox(children=(FloatProgress(value=0.0, description='Epoch 27', max=471.0, style=ProgressStyle(description_wid…",
      "application/vnd.jupyter.widget-view+json": {
       "version_major": 2,
       "version_minor": 0,
       "model_id": "41b91d111701400c908187f3a2856b1f"
      }
     },
     "metadata": {}
    },
    {
     "output_type": "display_data",
     "data": {
      "text/plain": "HBox(children=(FloatProgress(value=0.0, description='Epoch 28', max=471.0, style=ProgressStyle(description_wid…",
      "application/vnd.jupyter.widget-view+json": {
       "version_major": 2,
       "version_minor": 0,
       "model_id": "21560c4ddb27447cb4b9bccab0ce9c8d"
      }
     },
     "metadata": {}
    },
    {
     "output_type": "display_data",
     "data": {
      "text/plain": "HBox(children=(FloatProgress(value=0.0, description='Epoch 29', max=471.0, style=ProgressStyle(description_wid…",
      "application/vnd.jupyter.widget-view+json": {
       "version_major": 2,
       "version_minor": 0,
       "model_id": "cb570e9c517649c0825ba10d33916a72"
      }
     },
     "metadata": {}
    },
    {
     "output_type": "display_data",
     "data": {
      "text/plain": "HBox(children=(FloatProgress(value=0.0, description='Epoch 30', max=471.0, style=ProgressStyle(description_wid…",
      "application/vnd.jupyter.widget-view+json": {
       "version_major": 2,
       "version_minor": 0,
       "model_id": "0009373b35924136a7720ee699d32b28"
      }
     },
     "metadata": {}
    },
    {
     "output_type": "display_data",
     "data": {
      "text/plain": "HBox(children=(FloatProgress(value=0.0, description='Epoch 31', max=471.0, style=ProgressStyle(description_wid…",
      "application/vnd.jupyter.widget-view+json": {
       "version_major": 2,
       "version_minor": 0,
       "model_id": "5a4cf35b4a5d4b6f9cacac593fbf39ac"
      }
     },
     "metadata": {}
    },
    {
     "output_type": "display_data",
     "data": {
      "text/plain": "HBox(children=(FloatProgress(value=0.0, description='Epoch 32', max=471.0, style=ProgressStyle(description_wid…",
      "application/vnd.jupyter.widget-view+json": {
       "version_major": 2,
       "version_minor": 0,
       "model_id": "d2a4392da346441cbb758b58c8db137d"
      }
     },
     "metadata": {}
    },
    {
     "output_type": "display_data",
     "data": {
      "text/plain": "HBox(children=(FloatProgress(value=0.0, description='Epoch 33', max=471.0, style=ProgressStyle(description_wid…",
      "application/vnd.jupyter.widget-view+json": {
       "version_major": 2,
       "version_minor": 0,
       "model_id": "4852676f1d124468b97d503c6b55527a"
      }
     },
     "metadata": {}
    },
    {
     "output_type": "display_data",
     "data": {
      "text/plain": "HBox(children=(FloatProgress(value=0.0, description='Epoch 34', max=471.0, style=ProgressStyle(description_wid…",
      "application/vnd.jupyter.widget-view+json": {
       "version_major": 2,
       "version_minor": 0,
       "model_id": "83b120db9339415cbede72b61833a9a2"
      }
     },
     "metadata": {}
    },
    {
     "output_type": "display_data",
     "data": {
      "text/plain": "HBox(children=(FloatProgress(value=0.0, description='Epoch 35', max=471.0, style=ProgressStyle(description_wid…",
      "application/vnd.jupyter.widget-view+json": {
       "version_major": 2,
       "version_minor": 0,
       "model_id": "c84af9fc5f544947955e339d3b7f809e"
      }
     },
     "metadata": {}
    },
    {
     "output_type": "display_data",
     "data": {
      "text/plain": "HBox(children=(FloatProgress(value=0.0, description='Epoch 36', max=471.0, style=ProgressStyle(description_wid…",
      "application/vnd.jupyter.widget-view+json": {
       "version_major": 2,
       "version_minor": 0,
       "model_id": "788431379cc647daaf50f50c62d0274a"
      }
     },
     "metadata": {}
    },
    {
     "output_type": "display_data",
     "data": {
      "text/plain": "HBox(children=(FloatProgress(value=0.0, description='Epoch 37', max=471.0, style=ProgressStyle(description_wid…",
      "application/vnd.jupyter.widget-view+json": {
       "version_major": 2,
       "version_minor": 0,
       "model_id": "f96ed18d8be94e54bb46b72543f40c23"
      }
     },
     "metadata": {}
    },
    {
     "output_type": "display_data",
     "data": {
      "text/plain": "HBox(children=(FloatProgress(value=0.0, description='Epoch 38', max=471.0, style=ProgressStyle(description_wid…",
      "application/vnd.jupyter.widget-view+json": {
       "version_major": 2,
       "version_minor": 0,
       "model_id": "3b243215856b43d188f728b89be5cedb"
      }
     },
     "metadata": {}
    },
    {
     "output_type": "display_data",
     "data": {
      "text/plain": "HBox(children=(FloatProgress(value=0.0, description='Epoch 39', max=471.0, style=ProgressStyle(description_wid…",
      "application/vnd.jupyter.widget-view+json": {
       "version_major": 2,
       "version_minor": 0,
       "model_id": "b6e84ba9ae7d4e11b18467cb3e52a71e"
      }
     },
     "metadata": {}
    },
    {
     "output_type": "display_data",
     "data": {
      "text/plain": "HBox(children=(FloatProgress(value=0.0, description='Epoch 40', max=471.0, style=ProgressStyle(description_wid…",
      "application/vnd.jupyter.widget-view+json": {
       "version_major": 2,
       "version_minor": 0,
       "model_id": "03bb63870f984709bb33e7f26f083ccc"
      }
     },
     "metadata": {}
    },
    {
     "output_type": "display_data",
     "data": {
      "text/plain": "HBox(children=(FloatProgress(value=0.0, description='Epoch 41', max=471.0, style=ProgressStyle(description_wid…",
      "application/vnd.jupyter.widget-view+json": {
       "version_major": 2,
       "version_minor": 0,
       "model_id": "fbf252cfc7a0471193139eec707b4458"
      }
     },
     "metadata": {}
    },
    {
     "output_type": "display_data",
     "data": {
      "text/plain": "HBox(children=(FloatProgress(value=0.0, description='Epoch 42', max=471.0, style=ProgressStyle(description_wid…",
      "application/vnd.jupyter.widget-view+json": {
       "version_major": 2,
       "version_minor": 0,
       "model_id": "11fdb349f9f448e5b30d8a7ad245b6a3"
      }
     },
     "metadata": {}
    },
    {
     "output_type": "display_data",
     "data": {
      "text/plain": "HBox(children=(FloatProgress(value=0.0, description='Epoch 43', max=471.0, style=ProgressStyle(description_wid…",
      "application/vnd.jupyter.widget-view+json": {
       "version_major": 2,
       "version_minor": 0,
       "model_id": "6090fe0a2b1445e8857bfc5fad7dc4ff"
      }
     },
     "metadata": {}
    },
    {
     "output_type": "display_data",
     "data": {
      "text/plain": "HBox(children=(FloatProgress(value=0.0, description='Epoch 44', max=471.0, style=ProgressStyle(description_wid…",
      "application/vnd.jupyter.widget-view+json": {
       "version_major": 2,
       "version_minor": 0,
       "model_id": "aea21cc7546b4b7489e5b1e22d799414"
      }
     },
     "metadata": {}
    },
    {
     "output_type": "display_data",
     "data": {
      "text/plain": "HBox(children=(FloatProgress(value=0.0, description='Epoch 45', max=471.0, style=ProgressStyle(description_wid…",
      "application/vnd.jupyter.widget-view+json": {
       "version_major": 2,
       "version_minor": 0,
       "model_id": "2be45b35400045289de4c2d797787d76"
      }
     },
     "metadata": {}
    },
    {
     "output_type": "display_data",
     "data": {
      "text/plain": "HBox(children=(FloatProgress(value=0.0, description='Epoch 46', max=471.0, style=ProgressStyle(description_wid…",
      "application/vnd.jupyter.widget-view+json": {
       "version_major": 2,
       "version_minor": 0,
       "model_id": "56ae7ccb66df484ab199b71becd67570"
      }
     },
     "metadata": {}
    },
    {
     "output_type": "display_data",
     "data": {
      "text/plain": "HBox(children=(FloatProgress(value=0.0, description='Epoch 47', max=471.0, style=ProgressStyle(description_wid…",
      "application/vnd.jupyter.widget-view+json": {
       "version_major": 2,
       "version_minor": 0,
       "model_id": "c70b4388c7194708993eae0065cc2159"
      }
     },
     "metadata": {}
    },
    {
     "output_type": "display_data",
     "data": {
      "text/plain": "HBox(children=(FloatProgress(value=0.0, description='Epoch 48', max=471.0, style=ProgressStyle(description_wid…",
      "application/vnd.jupyter.widget-view+json": {
       "version_major": 2,
       "version_minor": 0,
       "model_id": "f39ae87e06d04c02bf661412577fbe74"
      }
     },
     "metadata": {}
    },
    {
     "output_type": "display_data",
     "data": {
      "text/plain": "HBox(children=(FloatProgress(value=0.0, description='Epoch 49', max=471.0, style=ProgressStyle(description_wid…",
      "application/vnd.jupyter.widget-view+json": {
       "version_major": 2,
       "version_minor": 0,
       "model_id": "8ec7a301d1814833856bbb1db2edb9e8"
      }
     },
     "metadata": {}
    },
    {
     "output_type": "display_data",
     "data": {
      "text/plain": "HBox(children=(FloatProgress(value=0.0, description='Epoch 50', max=471.0, style=ProgressStyle(description_wid…",
      "application/vnd.jupyter.widget-view+json": {
       "version_major": 2,
       "version_minor": 0,
       "model_id": "281a95effe0945fda8f37bc22d06a061"
      }
     },
     "metadata": {}
    },
    {
     "output_type": "display_data",
     "data": {
      "text/plain": "HBox(children=(FloatProgress(value=0.0, description='Epoch 51', max=471.0, style=ProgressStyle(description_wid…",
      "application/vnd.jupyter.widget-view+json": {
       "version_major": 2,
       "version_minor": 0,
       "model_id": "f98c23bd04ca4ada81b252bb2d1265db"
      }
     },
     "metadata": {}
    },
    {
     "output_type": "display_data",
     "data": {
      "text/plain": "HBox(children=(FloatProgress(value=0.0, description='Epoch 52', max=471.0, style=ProgressStyle(description_wid…",
      "application/vnd.jupyter.widget-view+json": {
       "version_major": 2,
       "version_minor": 0,
       "model_id": "a52e322b760e4116ae9b7934bae4001e"
      }
     },
     "metadata": {}
    },
    {
     "output_type": "display_data",
     "data": {
      "text/plain": "HBox(children=(FloatProgress(value=0.0, description='Epoch 53', max=471.0, style=ProgressStyle(description_wid…",
      "application/vnd.jupyter.widget-view+json": {
       "version_major": 2,
       "version_minor": 0,
       "model_id": "0e78d03792494d7ebb880982f9a9140e"
      }
     },
     "metadata": {}
    },
    {
     "output_type": "display_data",
     "data": {
      "text/plain": "HBox(children=(FloatProgress(value=0.0, description='Epoch 54', max=471.0, style=ProgressStyle(description_wid…",
      "application/vnd.jupyter.widget-view+json": {
       "version_major": 2,
       "version_minor": 0,
       "model_id": "ec6c41762d1f47c1b1ab99dcdd68c492"
      }
     },
     "metadata": {}
    },
    {
     "output_type": "display_data",
     "data": {
      "text/plain": "HBox(children=(FloatProgress(value=0.0, description='Epoch 55', max=471.0, style=ProgressStyle(description_wid…",
      "application/vnd.jupyter.widget-view+json": {
       "version_major": 2,
       "version_minor": 0,
       "model_id": "9a5401a14f8c4a03894a6a7d092600d0"
      }
     },
     "metadata": {}
    },
    {
     "output_type": "display_data",
     "data": {
      "text/plain": "HBox(children=(FloatProgress(value=0.0, description='Epoch 56', max=471.0, style=ProgressStyle(description_wid…",
      "application/vnd.jupyter.widget-view+json": {
       "version_major": 2,
       "version_minor": 0,
       "model_id": "e8de79ff0f6443daa01776b569896db5"
      }
     },
     "metadata": {}
    },
    {
     "output_type": "display_data",
     "data": {
      "text/plain": "HBox(children=(FloatProgress(value=0.0, description='Epoch 57', max=471.0, style=ProgressStyle(description_wid…",
      "application/vnd.jupyter.widget-view+json": {
       "version_major": 2,
       "version_minor": 0,
       "model_id": "40402b4b29bc42c38102cf84f89107cb"
      }
     },
     "metadata": {}
    },
    {
     "output_type": "display_data",
     "data": {
      "text/plain": "HBox(children=(FloatProgress(value=0.0, description='Epoch 58', max=471.0, style=ProgressStyle(description_wid…",
      "application/vnd.jupyter.widget-view+json": {
       "version_major": 2,
       "version_minor": 0,
       "model_id": "c04a811da0404d2d8b437a55faa18204"
      }
     },
     "metadata": {}
    },
    {
     "output_type": "display_data",
     "data": {
      "text/plain": "HBox(children=(FloatProgress(value=0.0, description='Epoch 59', max=471.0, style=ProgressStyle(description_wid…",
      "application/vnd.jupyter.widget-view+json": {
       "version_major": 2,
       "version_minor": 0,
       "model_id": "0245cb5ae0f14d95bed5614056a1438d"
      }
     },
     "metadata": {}
    },
    {
     "output_type": "display_data",
     "data": {
      "text/plain": "HBox(children=(FloatProgress(value=0.0, description='Epoch 60', max=471.0, style=ProgressStyle(description_wid…",
      "application/vnd.jupyter.widget-view+json": {
       "version_major": 2,
       "version_minor": 0,
       "model_id": "087c2520aa2948c1973b2b865c508a30"
      }
     },
     "metadata": {}
    },
    {
     "output_type": "display_data",
     "data": {
      "text/plain": "HBox(children=(FloatProgress(value=0.0, description='Epoch 61', max=471.0, style=ProgressStyle(description_wid…",
      "application/vnd.jupyter.widget-view+json": {
       "version_major": 2,
       "version_minor": 0,
       "model_id": "f9a72865dc344009b05f35080f45e676"
      }
     },
     "metadata": {}
    },
    {
     "output_type": "display_data",
     "data": {
      "text/plain": "HBox(children=(FloatProgress(value=0.0, description='Epoch 62', max=471.0, style=ProgressStyle(description_wid…",
      "application/vnd.jupyter.widget-view+json": {
       "version_major": 2,
       "version_minor": 0,
       "model_id": "4f484d693a33415bad164cb96925a764"
      }
     },
     "metadata": {}
    },
    {
     "output_type": "display_data",
     "data": {
      "text/plain": "HBox(children=(FloatProgress(value=0.0, description='Epoch 63', max=471.0, style=ProgressStyle(description_wid…",
      "application/vnd.jupyter.widget-view+json": {
       "version_major": 2,
       "version_minor": 0,
       "model_id": "55552d3ded904cbab757e48158d04292"
      }
     },
     "metadata": {}
    },
    {
     "output_type": "display_data",
     "data": {
      "text/plain": "HBox(children=(FloatProgress(value=0.0, description='Epoch 64', max=471.0, style=ProgressStyle(description_wid…",
      "application/vnd.jupyter.widget-view+json": {
       "version_major": 2,
       "version_minor": 0,
       "model_id": "884d6ad37e9d4e12962a2af2f5ee77ac"
      }
     },
     "metadata": {}
    },
    {
     "output_type": "display_data",
     "data": {
      "text/plain": "HBox(children=(FloatProgress(value=0.0, description='Epoch 65', max=471.0, style=ProgressStyle(description_wid…",
      "application/vnd.jupyter.widget-view+json": {
       "version_major": 2,
       "version_minor": 0,
       "model_id": "8be93ad69eb74f3e858f15c41eda3744"
      }
     },
     "metadata": {}
    },
    {
     "output_type": "display_data",
     "data": {
      "text/plain": "HBox(children=(FloatProgress(value=0.0, description='Epoch 66', max=471.0, style=ProgressStyle(description_wid…",
      "application/vnd.jupyter.widget-view+json": {
       "version_major": 2,
       "version_minor": 0,
       "model_id": "256e08d9b6094d6b9224445ebea9ea13"
      }
     },
     "metadata": {}
    },
    {
     "output_type": "display_data",
     "data": {
      "text/plain": "HBox(children=(FloatProgress(value=0.0, description='Epoch 67', max=471.0, style=ProgressStyle(description_wid…",
      "application/vnd.jupyter.widget-view+json": {
       "version_major": 2,
       "version_minor": 0,
       "model_id": "93738e75024742c5b217820c80518035"
      }
     },
     "metadata": {}
    },
    {
     "output_type": "display_data",
     "data": {
      "text/plain": "HBox(children=(FloatProgress(value=0.0, description='Epoch 68', max=471.0, style=ProgressStyle(description_wid…",
      "application/vnd.jupyter.widget-view+json": {
       "version_major": 2,
       "version_minor": 0,
       "model_id": "f7250dbcb4f2436f94fab5287557acf4"
      }
     },
     "metadata": {}
    },
    {
     "output_type": "display_data",
     "data": {
      "text/plain": "HBox(children=(FloatProgress(value=0.0, description='Epoch 69', max=471.0, style=ProgressStyle(description_wid…",
      "application/vnd.jupyter.widget-view+json": {
       "version_major": 2,
       "version_minor": 0,
       "model_id": "6a2038bab75641bd89595ee7808cafa6"
      }
     },
     "metadata": {}
    },
    {
     "output_type": "display_data",
     "data": {
      "text/plain": "HBox(children=(FloatProgress(value=0.0, description='Epoch 70', max=471.0, style=ProgressStyle(description_wid…",
      "application/vnd.jupyter.widget-view+json": {
       "version_major": 2,
       "version_minor": 0,
       "model_id": "a10b273071054bf3a36c48d0363e7845"
      }
     },
     "metadata": {}
    },
    {
     "output_type": "display_data",
     "data": {
      "text/plain": "HBox(children=(FloatProgress(value=0.0, description='Epoch 71', max=471.0, style=ProgressStyle(description_wid…",
      "application/vnd.jupyter.widget-view+json": {
       "version_major": 2,
       "version_minor": 0,
       "model_id": "84bea54ae87a4b678f201ed34dfd037e"
      }
     },
     "metadata": {}
    },
    {
     "output_type": "display_data",
     "data": {
      "text/plain": "HBox(children=(FloatProgress(value=0.0, description='Epoch 72', max=471.0, style=ProgressStyle(description_wid…",
      "application/vnd.jupyter.widget-view+json": {
       "version_major": 2,
       "version_minor": 0,
       "model_id": "4443dfa299954d41afc32155d20f3e22"
      }
     },
     "metadata": {}
    },
    {
     "output_type": "display_data",
     "data": {
      "text/plain": "HBox(children=(FloatProgress(value=0.0, description='Epoch 73', max=471.0, style=ProgressStyle(description_wid…",
      "application/vnd.jupyter.widget-view+json": {
       "version_major": 2,
       "version_minor": 0,
       "model_id": "669cd0bc85584e1aab31015303fe1d05"
      }
     },
     "metadata": {}
    },
    {
     "output_type": "display_data",
     "data": {
      "text/plain": "HBox(children=(FloatProgress(value=0.0, description='Epoch 74', max=471.0, style=ProgressStyle(description_wid…",
      "application/vnd.jupyter.widget-view+json": {
       "version_major": 2,
       "version_minor": 0,
       "model_id": "478c7fe065b442ddbd7269339fac40cb"
      }
     },
     "metadata": {}
    },
    {
     "output_type": "display_data",
     "data": {
      "text/plain": "HBox(children=(FloatProgress(value=0.0, description='Epoch 75', max=471.0, style=ProgressStyle(description_wid…",
      "application/vnd.jupyter.widget-view+json": {
       "version_major": 2,
       "version_minor": 0,
       "model_id": "c7b2c5fbbfc14355bd7d296cf0879304"
      }
     },
     "metadata": {}
    },
    {
     "output_type": "display_data",
     "data": {
      "text/plain": "HBox(children=(FloatProgress(value=0.0, description='Epoch 76', max=471.0, style=ProgressStyle(description_wid…",
      "application/vnd.jupyter.widget-view+json": {
       "version_major": 2,
       "version_minor": 0,
       "model_id": "a55c419c47b24a658d441c481fc12622"
      }
     },
     "metadata": {}
    },
    {
     "output_type": "display_data",
     "data": {
      "text/plain": "HBox(children=(FloatProgress(value=0.0, description='Epoch 77', max=471.0, style=ProgressStyle(description_wid…",
      "application/vnd.jupyter.widget-view+json": {
       "version_major": 2,
       "version_minor": 0,
       "model_id": "52a104cf57d24f6fbb09bb507edeb0ba"
      }
     },
     "metadata": {}
    },
    {
     "output_type": "display_data",
     "data": {
      "text/plain": "HBox(children=(FloatProgress(value=0.0, description='Epoch 78', max=471.0, style=ProgressStyle(description_wid…",
      "application/vnd.jupyter.widget-view+json": {
       "version_major": 2,
       "version_minor": 0,
       "model_id": "c413544eac1f47d68c5f23313c1252f2"
      }
     },
     "metadata": {}
    },
    {
     "output_type": "display_data",
     "data": {
      "text/plain": "HBox(children=(FloatProgress(value=0.0, description='Epoch 79', max=471.0, style=ProgressStyle(description_wid…",
      "application/vnd.jupyter.widget-view+json": {
       "version_major": 2,
       "version_minor": 0,
       "model_id": "53a8f585fbb14e71a8b582903bfe7c6a"
      }
     },
     "metadata": {}
    },
    {
     "output_type": "display_data",
     "data": {
      "text/plain": "HBox(children=(FloatProgress(value=0.0, description='Epoch 80', max=471.0, style=ProgressStyle(description_wid…",
      "application/vnd.jupyter.widget-view+json": {
       "version_major": 2,
       "version_minor": 0,
       "model_id": "23621f463f314a7caa48e03b7676ce77"
      }
     },
     "metadata": {}
    },
    {
     "output_type": "display_data",
     "data": {
      "text/plain": "HBox(children=(FloatProgress(value=0.0, description='Epoch 81', max=471.0, style=ProgressStyle(description_wid…",
      "application/vnd.jupyter.widget-view+json": {
       "version_major": 2,
       "version_minor": 0,
       "model_id": "a9f4293bbba145edb167b38d7133df02"
      }
     },
     "metadata": {}
    },
    {
     "output_type": "display_data",
     "data": {
      "text/plain": "HBox(children=(FloatProgress(value=0.0, description='Epoch 82', max=471.0, style=ProgressStyle(description_wid…",
      "application/vnd.jupyter.widget-view+json": {
       "version_major": 2,
       "version_minor": 0,
       "model_id": "cdcb683ceac14c30ac6f05d8943af217"
      }
     },
     "metadata": {}
    },
    {
     "output_type": "display_data",
     "data": {
      "text/plain": "HBox(children=(FloatProgress(value=0.0, description='Epoch 83', max=471.0, style=ProgressStyle(description_wid…",
      "application/vnd.jupyter.widget-view+json": {
       "version_major": 2,
       "version_minor": 0,
       "model_id": "3df1433c347e4fb08dd8e5556d39bfc1"
      }
     },
     "metadata": {}
    },
    {
     "output_type": "display_data",
     "data": {
      "text/plain": "HBox(children=(FloatProgress(value=0.0, description='Epoch 84', max=471.0, style=ProgressStyle(description_wid…",
      "application/vnd.jupyter.widget-view+json": {
       "version_major": 2,
       "version_minor": 0,
       "model_id": "ded7ed71e8c94689a0042b7c214b8880"
      }
     },
     "metadata": {}
    },
    {
     "output_type": "display_data",
     "data": {
      "text/plain": "HBox(children=(FloatProgress(value=0.0, description='Epoch 85', max=471.0, style=ProgressStyle(description_wid…",
      "application/vnd.jupyter.widget-view+json": {
       "version_major": 2,
       "version_minor": 0,
       "model_id": "e3d844824c2a447e9e7a2a1071d9f93e"
      }
     },
     "metadata": {}
    },
    {
     "output_type": "display_data",
     "data": {
      "text/plain": "HBox(children=(FloatProgress(value=0.0, description='Epoch 86', max=471.0, style=ProgressStyle(description_wid…",
      "application/vnd.jupyter.widget-view+json": {
       "version_major": 2,
       "version_minor": 0,
       "model_id": "400114e818134ce39d9a296a36d1684a"
      }
     },
     "metadata": {}
    },
    {
     "output_type": "display_data",
     "data": {
      "text/plain": "HBox(children=(FloatProgress(value=0.0, description='Epoch 87', max=471.0, style=ProgressStyle(description_wid…",
      "application/vnd.jupyter.widget-view+json": {
       "version_major": 2,
       "version_minor": 0,
       "model_id": "7129963216394a44a65b521b3863e038"
      }
     },
     "metadata": {}
    },
    {
     "output_type": "display_data",
     "data": {
      "text/plain": "HBox(children=(FloatProgress(value=0.0, description='Epoch 88', max=471.0, style=ProgressStyle(description_wid…",
      "application/vnd.jupyter.widget-view+json": {
       "version_major": 2,
       "version_minor": 0,
       "model_id": "18749a6d2e2e4549bd3aade2b6eed720"
      }
     },
     "metadata": {}
    },
    {
     "output_type": "display_data",
     "data": {
      "text/plain": "HBox(children=(FloatProgress(value=0.0, description='Epoch 89', max=471.0, style=ProgressStyle(description_wid…",
      "application/vnd.jupyter.widget-view+json": {
       "version_major": 2,
       "version_minor": 0,
       "model_id": "2a0aff1306c941b0a26a6d916288b389"
      }
     },
     "metadata": {}
    },
    {
     "output_type": "display_data",
     "data": {
      "text/plain": "HBox(children=(FloatProgress(value=0.0, description='Epoch 90', max=471.0, style=ProgressStyle(description_wid…",
      "application/vnd.jupyter.widget-view+json": {
       "version_major": 2,
       "version_minor": 0,
       "model_id": "9b7e03c927a94bbc9e7241be10f598de"
      }
     },
     "metadata": {}
    },
    {
     "output_type": "display_data",
     "data": {
      "text/plain": "HBox(children=(FloatProgress(value=0.0, description='Epoch 91', max=471.0, style=ProgressStyle(description_wid…",
      "application/vnd.jupyter.widget-view+json": {
       "version_major": 2,
       "version_minor": 0,
       "model_id": "36367acb2fa34cdcb333d2ea7f69ecbb"
      }
     },
     "metadata": {}
    },
    {
     "output_type": "display_data",
     "data": {
      "text/plain": "HBox(children=(FloatProgress(value=0.0, description='Epoch 92', max=471.0, style=ProgressStyle(description_wid…",
      "application/vnd.jupyter.widget-view+json": {
       "version_major": 2,
       "version_minor": 0,
       "model_id": "03991511106c4031ba822ce2a7a7901d"
      }
     },
     "metadata": {}
    },
    {
     "output_type": "display_data",
     "data": {
      "text/plain": "HBox(children=(FloatProgress(value=0.0, description='Epoch 93', max=471.0, style=ProgressStyle(description_wid…",
      "application/vnd.jupyter.widget-view+json": {
       "version_major": 2,
       "version_minor": 0,
       "model_id": "57915423b5f04cafb325acc85be9cb0f"
      }
     },
     "metadata": {}
    },
    {
     "output_type": "display_data",
     "data": {
      "text/plain": "HBox(children=(FloatProgress(value=0.0, description='Epoch 94', max=471.0, style=ProgressStyle(description_wid…",
      "application/vnd.jupyter.widget-view+json": {
       "version_major": 2,
       "version_minor": 0,
       "model_id": "2c016ddad8814f2b903ed52af4619355"
      }
     },
     "metadata": {}
    },
    {
     "output_type": "display_data",
     "data": {
      "text/plain": "HBox(children=(FloatProgress(value=0.0, description='Epoch 95', max=471.0, style=ProgressStyle(description_wid…",
      "application/vnd.jupyter.widget-view+json": {
       "version_major": 2,
       "version_minor": 0,
       "model_id": "46abc1e80ac54552ab99a4204988760f"
      }
     },
     "metadata": {}
    },
    {
     "output_type": "display_data",
     "data": {
      "text/plain": "HBox(children=(FloatProgress(value=0.0, description='Epoch 96', max=471.0, style=ProgressStyle(description_wid…",
      "application/vnd.jupyter.widget-view+json": {
       "version_major": 2,
       "version_minor": 0,
       "model_id": "5476063d04b4457a82fa9e7f264a5e69"
      }
     },
     "metadata": {}
    },
    {
     "output_type": "display_data",
     "data": {
      "text/plain": "HBox(children=(FloatProgress(value=0.0, description='Epoch 97', max=471.0, style=ProgressStyle(description_wid…",
      "application/vnd.jupyter.widget-view+json": {
       "version_major": 2,
       "version_minor": 0,
       "model_id": "23a55b09de24425f9b5bc2d64541f3ba"
      }
     },
     "metadata": {}
    },
    {
     "output_type": "display_data",
     "data": {
      "text/plain": "HBox(children=(FloatProgress(value=0.0, description='Epoch 98', max=471.0, style=ProgressStyle(description_wid…",
      "application/vnd.jupyter.widget-view+json": {
       "version_major": 2,
       "version_minor": 0,
       "model_id": "2c5bdb58480a4539953e60f6c3125420"
      }
     },
     "metadata": {}
    },
    {
     "output_type": "display_data",
     "data": {
      "text/plain": "HBox(children=(FloatProgress(value=0.0, description='Epoch 99', max=471.0, style=ProgressStyle(description_wid…",
      "application/vnd.jupyter.widget-view+json": {
       "version_major": 2,
       "version_minor": 0,
       "model_id": "b47ff1b8ca5b4e7ab0d10a25b99c2075"
      }
     },
     "metadata": {}
    },
    {
     "output_type": "display_data",
     "data": {
      "text/plain": "HBox(children=(FloatProgress(value=0.0, description='Epoch 100', max=471.0, style=ProgressStyle(description_wi…",
      "application/vnd.jupyter.widget-view+json": {
       "version_major": 2,
       "version_minor": 0,
       "model_id": "6f7decaff4774887a9264e990e9f2cac"
      }
     },
     "metadata": {}
    },
    {
     "output_type": "display_data",
     "data": {
      "text/plain": "HBox(children=(FloatProgress(value=0.0, description='Epoch 101', max=471.0, style=ProgressStyle(description_wi…",
      "application/vnd.jupyter.widget-view+json": {
       "version_major": 2,
       "version_minor": 0,
       "model_id": "668a66225dbd4b44a4b1960190f6fa2a"
      }
     },
     "metadata": {}
    },
    {
     "output_type": "display_data",
     "data": {
      "text/plain": "HBox(children=(FloatProgress(value=0.0, description='Epoch 102', max=471.0, style=ProgressStyle(description_wi…",
      "application/vnd.jupyter.widget-view+json": {
       "version_major": 2,
       "version_minor": 0,
       "model_id": "ccb4c38c265742c5b4a5ccff38e54540"
      }
     },
     "metadata": {}
    },
    {
     "output_type": "display_data",
     "data": {
      "text/plain": "HBox(children=(FloatProgress(value=0.0, description='Epoch 103', max=471.0, style=ProgressStyle(description_wi…",
      "application/vnd.jupyter.widget-view+json": {
       "version_major": 2,
       "version_minor": 0,
       "model_id": "a94af3f998c0428eaa9bc52fecea867a"
      }
     },
     "metadata": {}
    },
    {
     "output_type": "display_data",
     "data": {
      "text/plain": "HBox(children=(FloatProgress(value=0.0, description='Epoch 104', max=471.0, style=ProgressStyle(description_wi…",
      "application/vnd.jupyter.widget-view+json": {
       "version_major": 2,
       "version_minor": 0,
       "model_id": "d50a203fcb534e1a897b137860eaa622"
      }
     },
     "metadata": {}
    },
    {
     "output_type": "display_data",
     "data": {
      "text/plain": "HBox(children=(FloatProgress(value=0.0, description='Epoch 105', max=471.0, style=ProgressStyle(description_wi…",
      "application/vnd.jupyter.widget-view+json": {
       "version_major": 2,
       "version_minor": 0,
       "model_id": "4ad75532c5654c59840ffd90e524780d"
      }
     },
     "metadata": {}
    },
    {
     "output_type": "display_data",
     "data": {
      "text/plain": "HBox(children=(FloatProgress(value=0.0, description='Epoch 106', max=471.0, style=ProgressStyle(description_wi…",
      "application/vnd.jupyter.widget-view+json": {
       "version_major": 2,
       "version_minor": 0,
       "model_id": "06d5ba44d66240069e20fed7ba45e85a"
      }
     },
     "metadata": {}
    },
    {
     "output_type": "display_data",
     "data": {
      "text/plain": "HBox(children=(FloatProgress(value=0.0, description='Epoch 107', max=471.0, style=ProgressStyle(description_wi…",
      "application/vnd.jupyter.widget-view+json": {
       "version_major": 2,
       "version_minor": 0,
       "model_id": "1414c78f85d54cf78191bdf7a109d8b1"
      }
     },
     "metadata": {}
    },
    {
     "output_type": "display_data",
     "data": {
      "text/plain": "HBox(children=(FloatProgress(value=0.0, description='Epoch 108', max=471.0, style=ProgressStyle(description_wi…",
      "application/vnd.jupyter.widget-view+json": {
       "version_major": 2,
       "version_minor": 0,
       "model_id": "36505f228e034c969d959067f04a4639"
      }
     },
     "metadata": {}
    },
    {
     "output_type": "display_data",
     "data": {
      "text/plain": "HBox(children=(FloatProgress(value=0.0, description='Epoch 109', max=471.0, style=ProgressStyle(description_wi…",
      "application/vnd.jupyter.widget-view+json": {
       "version_major": 2,
       "version_minor": 0,
       "model_id": "6027540b923246b883ffe4d845fc27f2"
      }
     },
     "metadata": {}
    },
    {
     "output_type": "display_data",
     "data": {
      "text/plain": "HBox(children=(FloatProgress(value=0.0, description='Epoch 110', max=471.0, style=ProgressStyle(description_wi…",
      "application/vnd.jupyter.widget-view+json": {
       "version_major": 2,
       "version_minor": 0,
       "model_id": "45c8ab4f0dc54f379b359e5378f5816c"
      }
     },
     "metadata": {}
    },
    {
     "output_type": "display_data",
     "data": {
      "text/plain": "HBox(children=(FloatProgress(value=0.0, description='Epoch 111', max=471.0, style=ProgressStyle(description_wi…",
      "application/vnd.jupyter.widget-view+json": {
       "version_major": 2,
       "version_minor": 0,
       "model_id": "d529e3f8d8ad4ca7b98190704ba3e54e"
      }
     },
     "metadata": {}
    },
    {
     "output_type": "display_data",
     "data": {
      "text/plain": "HBox(children=(FloatProgress(value=0.0, description='Epoch 112', max=471.0, style=ProgressStyle(description_wi…",
      "application/vnd.jupyter.widget-view+json": {
       "version_major": 2,
       "version_minor": 0,
       "model_id": "ae5fc7cf56ab404b85511696c488b872"
      }
     },
     "metadata": {}
    },
    {
     "output_type": "display_data",
     "data": {
      "text/plain": "HBox(children=(FloatProgress(value=0.0, description='Epoch 113', max=471.0, style=ProgressStyle(description_wi…",
      "application/vnd.jupyter.widget-view+json": {
       "version_major": 2,
       "version_minor": 0,
       "model_id": "b0f63271b19d43ed9d5e56c940534c3a"
      }
     },
     "metadata": {}
    },
    {
     "output_type": "display_data",
     "data": {
      "text/plain": "HBox(children=(FloatProgress(value=0.0, description='Epoch 114', max=471.0, style=ProgressStyle(description_wi…",
      "application/vnd.jupyter.widget-view+json": {
       "version_major": 2,
       "version_minor": 0,
       "model_id": "5ac1896b88d8407fab11ca1b127fe705"
      }
     },
     "metadata": {}
    },
    {
     "output_type": "display_data",
     "data": {
      "text/plain": "HBox(children=(FloatProgress(value=0.0, description='Epoch 115', max=471.0, style=ProgressStyle(description_wi…",
      "application/vnd.jupyter.widget-view+json": {
       "version_major": 2,
       "version_minor": 0,
       "model_id": "1be744c562c344929400be8c662dfac8"
      }
     },
     "metadata": {}
    },
    {
     "output_type": "display_data",
     "data": {
      "text/plain": "HBox(children=(FloatProgress(value=0.0, description='Epoch 116', max=471.0, style=ProgressStyle(description_wi…",
      "application/vnd.jupyter.widget-view+json": {
       "version_major": 2,
       "version_minor": 0,
       "model_id": "38988885334a49d2b46b4b7fb41ea99c"
      }
     },
     "metadata": {}
    },
    {
     "output_type": "display_data",
     "data": {
      "text/plain": "HBox(children=(FloatProgress(value=0.0, description='Epoch 117', max=471.0, style=ProgressStyle(description_wi…",
      "application/vnd.jupyter.widget-view+json": {
       "version_major": 2,
       "version_minor": 0,
       "model_id": "2781812bf4b34e03a39ecee5480ea27a"
      }
     },
     "metadata": {}
    },
    {
     "output_type": "display_data",
     "data": {
      "text/plain": "HBox(children=(FloatProgress(value=0.0, description='Epoch 118', max=471.0, style=ProgressStyle(description_wi…",
      "application/vnd.jupyter.widget-view+json": {
       "version_major": 2,
       "version_minor": 0,
       "model_id": "853e803a947d4321a73308f2389bed16"
      }
     },
     "metadata": {}
    },
    {
     "output_type": "display_data",
     "data": {
      "text/plain": "HBox(children=(FloatProgress(value=0.0, description='Epoch 119', max=471.0, style=ProgressStyle(description_wi…",
      "application/vnd.jupyter.widget-view+json": {
       "version_major": 2,
       "version_minor": 0,
       "model_id": "230ca1d0c703428ea27fcba854422220"
      }
     },
     "metadata": {}
    },
    {
     "output_type": "stream",
     "name": "stdout",
     "text": "\ntest loss: 0.18366873133374323\ntest acc: 0.9356435643564357\n"
    }
   ],
   "source": [
    "from keras_tqdm import TQDMNotebookCallback as tqdm_cb\n",
    "\n",
    "batch_size = 32\n",
    "epochs = 120\n",
    "\n",
    "model.summary()\n",
    "model.fit(x_train, y_train,\n",
    "          batch_size=batch_size,\n",
    "          epochs=epochs,\n",
    "          verbose=0,\n",
    "          callbacks=[tqdm_cb()])\n",
    "\n",
    "test_loss, test_acc = model.evaluate(x_test, y_test, verbose=0)\n",
    "print('test loss:', test_loss)\n",
    "print('test acc:', test_acc)"
   ]
  }
 ]
}